{
 "cells": [
  {
   "cell_type": "code",
   "execution_count": 1,
   "metadata": {},
   "outputs": [
    {
     "name": "stdout",
     "output_type": "stream",
     "text": [
      "C:\\Users\\avika\\OneDrive\\Documents\\UAL\\interactive_dance_thesis\n",
      "Preparing data for all...\n"
     ]
    },
    {
     "name": "stderr",
     "output_type": "stream",
     "text": [
      "100%|██████████| 4102/4102 [00:12<00:00, 337.90it/s] \n"
     ]
    },
    {
     "name": "stdout",
     "output_type": "stream",
     "text": [
      "Validating interpolation...\n",
      "No errors found!\n"
     ]
    },
    {
     "name": "stderr",
     "output_type": "stream",
     "text": [
      "1760it [00:00, 2440.39it/s]"
     ]
    }
   ],
   "source": [
    "from sklearn.decomposition import PCA\n",
    "from model import main, parse_args\n",
    "import argparse\n",
    "\n",
    "# Define the arguments you want to pass\n",
    "args = argparse.Namespace(\n",
    "    BATCH_SIZE=8,\n",
    "    BLOCK_SIZE=16,\n",
    "    DROPOUT=0.3,\n",
    "    LEARNING_RATE=0.0001,\n",
    "    EPOCHS=10000,\n",
    "    FRAMES_GENERATE=300,\n",
    "    TRAIN=True,\n",
    "    EVAL_EVERY=1000,\n",
    "    CHECKPOINT_PATH=\"checkpoints/proto8_checkpoint.pth\",\n",
    "    L1_LAMBDA=None,\n",
    "    L2_REG=0.0,\n",
    "    FINETUNE=False,\n",
    "    FINE_TUNING_LR=1e-5,\n",
    "    FINE_TUNING_EPOCHS=100000,\n",
    "    PENALTY=False,\n",
    "    LATENT_VIS_EVERY=1000\n",
    ")\n",
    "\n",
    "latent_space, train_seed = main(args)\n",
    "\n",
    "pca = PCA(n_components=2)\n",
    "latent_vectors_2d = pca.fit_transform(latent_space)\n"
   ]
  },
  {
   "cell_type": "code",
   "execution_count": null,
   "metadata": {},
   "outputs": [],
   "source": [
    "import matplotlib.pyplot as plt\n",
    "plt.scatter(latent_vectors_2d[:, 0], latent_vectors_2d[:, 1])\n",
    "plt.title('Latent Space Visualization')\n",
    "plt.xlabel('PCA Component 1')\n",
    "plt.ylabel('PCA Component 2')\n",
    "plt.show()"
   ]
  }
 ],
 "metadata": {
  "kernelspec": {
   "display_name": "interactive_dance_thesis",
   "language": "python",
   "name": "python3"
  },
  "language_info": {
   "codemirror_mode": {
    "name": "ipython",
    "version": 3
   },
   "file_extension": ".py",
   "mimetype": "text/x-python",
   "name": "python",
   "nbconvert_exporter": "python",
   "pygments_lexer": "ipython3",
   "version": "3.10.9"
  }
 },
 "nbformat": 4,
 "nbformat_minor": 2
}
