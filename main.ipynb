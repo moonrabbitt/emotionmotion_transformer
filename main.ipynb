{
 "cells": [
  {
   "cell_type": "code",
   "execution_count": 1,
   "metadata": {},
   "outputs": [
    {
     "name": "stdout",
     "output_type": "stream",
     "text": [
      "C:\\Users\\avika\\OneDrive\\Documents\\UAL\\interactive_dance_thesis\n"
     ]
    }
   ],
   "source": [
    "from model import *\n",
    "import pytchat\n"
   ]
  },
  {
   "cell_type": "code",
   "execution_count": 2,
   "metadata": {},
   "outputs": [],
   "source": [
    "# Use a pipeline as a high-level helper\n",
    "from transformers import pipeline\n",
    "\n",
    "pipe = pipeline(\"text-classification\", model=\"michellejieli/emotion_text_classifier\")\n",
    "# Load model directly\n",
    "from transformers import AutoTokenizer, AutoModelForSequenceClassification\n",
    "\n",
    "tokenizer = AutoTokenizer.from_pretrained(\"michellejieli/emotion_text_classifier\")\n",
    "model = AutoModelForSequenceClassification.from_pretrained(\"michellejieli/emotion_text_classifier\")"
   ]
  },
  {
   "cell_type": "code",
   "execution_count": 3,
   "metadata": {},
   "outputs": [
    {
     "name": "stderr",
     "output_type": "stream",
     "text": [
      "100%|██████████| 4102/4102 [00:03<00:00, 1066.60it/s]\n"
     ]
    },
    {
     "name": "stdout",
     "output_type": "stream",
     "text": [
      "Validating interpolation...\n",
      "No errors found!\n"
     ]
    },
    {
     "name": "stderr",
     "output_type": "stream",
     "text": [
      "4102it [00:01, 2433.64it/s]\n",
      "4102it [00:01, 2355.75it/s]\n"
     ]
    },
    {
     "name": "stdout",
     "output_type": "stream",
     "text": [
      "Creating keypoint frames...\n"
     ]
    },
    {
     "name": "stderr",
     "output_type": "stream",
     "text": [
      "100%|██████████| 4102/4102 [00:03<00:00, 1273.14it/s]\n"
     ]
    },
    {
     "name": "stdout",
     "output_type": "stream",
     "text": [
      "Creating keypoint frames...\n"
     ]
    },
    {
     "name": "stderr",
     "output_type": "stream",
     "text": [
      "100%|██████████| 4102/4102 [00:02<00:00, 1882.49it/s]\n"
     ]
    },
    {
     "name": "stdout",
     "output_type": "stream",
     "text": [
      "Validating length of dkp_frames\n",
      "Validating length of kp_frames\n",
      "Adding deltas to frames...\n"
     ]
    },
    {
     "name": "stderr",
     "output_type": "stream",
     "text": [
      "4102it [00:02, 1811.40it/s]\n"
     ]
    },
    {
     "name": "stdout",
     "output_type": "stream",
     "text": [
      "Validating length of data after delta\n",
      "Adding emotions to frames...\n"
     ]
    },
    {
     "name": "stderr",
     "output_type": "stream",
     "text": [
      "100%|██████████| 4102/4102 [00:00<00:00, 35654.04it/s]\n"
     ]
    },
    {
     "name": "stdout",
     "output_type": "stream",
     "text": [
      "Validating length of data after emotions\n",
      "frame_dim: 107\n"
     ]
    }
   ],
   "source": [
    "# Preparing MEED data for model\n",
    "MEED= prep_MEED_data()\n",
    "train_data,val_data,frame_dim,max_x,min_x,max_y,min_y,max_dx,min_dx,max_dy,min_dy = MEED"
   ]
  },
  {
   "cell_type": "code",
   "execution_count": 4,
   "metadata": {},
   "outputs": [],
   "source": [
    "emotion_labels = ['anger', 'disgust', 'fear', 'joy', 'neutral', 'sadness', 'surprise']"
   ]
  },
  {
   "cell_type": "code",
   "execution_count": 5,
   "metadata": {},
   "outputs": [],
   "source": [
    "\n",
    "def visualise_skeleton(all_frames, max_x, max_y, max_frames=500, save=False, save_path=None, prefix=None, train_seed=None , delta=False, destroy = True):\n",
    "    \"\"\"Input all frames dim 50xn n being the number of frames 50= 25 keypoints x and y coordinates\"\"\"\n",
    "\n",
    "    \n",
    "    # visualise to check if the data is correct\n",
    "    # BODY_25 Keypoints\n",
    "    keypointsMapping = ['Nose', 'Neck', 'R-Sho', 'R-Elb', 'R-Wr', 'L-Sho', \n",
    "                        'L-Elb', 'L-Wr', 'MidHip', 'R-Hip', 'R-Knee', 'R-Ank', \n",
    "                        'L-Hip', 'L-Knee', 'L-Ank', 'R-Eye', 'L-Eye', 'R-Ear', \n",
    "                        'L-Ear', 'L-BigToe', 'L-SmallToe', 'L-Heel', 'R-BigToe', \n",
    "                        'R-SmallToe', 'R-Heel']\n",
    "\n",
    "\n",
    "    limb_connections = [\n",
    "        (\"Nose\", \"Neck\"),\n",
    "        (\"Neck\", \"R-Sho\"),\n",
    "        (\"R-Sho\", \"R-Elb\"),\n",
    "        (\"R-Elb\", \"R-Wr\"),\n",
    "        (\"Neck\", \"L-Sho\"),\n",
    "        (\"L-Sho\", \"L-Elb\"),\n",
    "        (\"L-Elb\", \"L-Wr\"),\n",
    "        (\"Neck\", \"MidHip\"),\n",
    "        (\"MidHip\", \"R-Hip\"),\n",
    "        (\"R-Hip\", \"R-Knee\"),\n",
    "        (\"R-Knee\", \"R-Ank\"),\n",
    "        (\"MidHip\", \"L-Hip\"),\n",
    "        (\"L-Hip\", \"L-Knee\"),\n",
    "        (\"L-Knee\", \"L-Ank\"),\n",
    "        (\"Nose\", \"R-Eye\"),\n",
    "        (\"R-Eye\", \"R-Ear\"),\n",
    "        (\"Nose\", \"L-Eye\"),\n",
    "        (\"L-Eye\", \"L-Ear\"),\n",
    "        (\"L-Ank\", \"L-BigToe\"),\n",
    "        (\"L-Ank\", \"L-SmallToe\"),\n",
    "        (\"L-Ank\", \"L-Heel\"),\n",
    "        (\"R-Ank\", \"R-BigToe\"),\n",
    "        (\"R-Ank\", \"R-SmallToe\"),\n",
    "        (\"R-Ank\", \"R-Heel\")\n",
    "    ]\n",
    "    \n",
    "     # Define a mapping from emotion vectors to emotion labels\n",
    "    # Define emotion labels\n",
    "    emotion_labels = ['Anger', 'Disgust', 'Fear', 'Happiness', 'Neutral', 'Sad', 'Surprise']\n",
    "    \n",
    "    # Initialize a blank canvas (image)\n",
    "    canvas_size = (int(max_y)+50, int(max_x)+50, 3)  \n",
    "    canvas = np.zeros(canvas_size, dtype=np.uint8)\n",
    "    \n",
    "    \n",
    "    if save:\n",
    "        # Determine the save path\n",
    "        if save_path is None:\n",
    "            save_path = f\"D:\\\\Interactive Dance Thesis Tests\\\\TransformerResults\\\\{train_seed}\"\n",
    "\n",
    "        # Ensure directory exists\n",
    "        if not os.path.exists(save_path):\n",
    "            print(f\"Creating directory {save_path}\")\n",
    "            os.makedirs(save_path)\n",
    "\n",
    "        # Determine a unique filename\n",
    "        existing_files = os.listdir(save_path)\n",
    "        file_num = 1\n",
    "        while f\"{prefix or ''}{file_num}.mp4\" in existing_files:\n",
    "            file_num += 1\n",
    "        out_path = os.path.join(save_path, f\"{prefix or ''}{file_num}.mp4\")\n",
    "\n",
    "        # Create the video writer\n",
    "        fourcc = cv2.VideoWriter_fourcc(*'mp4v')\n",
    "        out = cv2.VideoWriter(out_path, fourcc, 10.0, (canvas_size[1], canvas_size[0]))\n",
    "    \n",
    "    previous_frame_data = None\n",
    "    \n",
    "    # Iterate over all frames; the first frame uses absolute keypoints, the rest use relative keypoints (deltas)\n",
    "    for frame_data in tqdm(all_frames[:max_frames], desc=\"Visualizing frames\"):\n",
    "        \n",
    "        # If previous_frame_data is None, this is the first frame and we use absolute positions.\n",
    "        # Otherwise, add the delta to the previous frame's keypoints to get the new keypoints\n",
    "        if delta ==True:\n",
    "            if previous_frame_data is not None:\n",
    "                frame_data[:50] = [prev + delta for prev, delta in zip(previous_frame_data[:50], frame_data[50:100])]\n",
    "        \n",
    "            # Update previous_frame_data\n",
    "            previous_frame_data = copy.deepcopy(frame_data)\n",
    "        \n",
    "        canvas_copy = canvas.copy()\n",
    "        \n",
    "        # Extract x, y coordinates and emotion vector\n",
    "        x_coords = frame_data[0:50:2] \n",
    "        y_coords = frame_data[1:50:2]\n",
    "        emotion_vector = tuple(frame_data[100:107])\n",
    "        \n",
    "        xy_coords = list(zip(x_coords, y_coords))\n",
    "        sane = sanity_check(xy_coords)\n",
    "        # Plot keypoints on the canvas\n",
    "        for i, (x, y) in enumerate(xy_coords):\n",
    "            if sane[i] == False:\n",
    "                continue\n",
    "            x_val = x.item() if torch.is_tensor(x) else x\n",
    "            y_val = y.item() if torch.is_tensor(y) else y\n",
    "            cv2.circle(canvas_copy, (int(x_val), int(y_val)), 3, (0, 0, 255), -1)  \n",
    "            cv2.putText(canvas_copy, keypointsMapping[i], (int(x_val), int(y_val)), cv2.FONT_HERSHEY_SIMPLEX, 0.5, (255, 255, 255), 1, cv2.LINE_AA)\n",
    "\n",
    "        # Draw connections (limbs) on the canvas\n",
    "        for limb in limb_connections:\n",
    "            start_idx = keypointsMapping.index(limb[0])\n",
    "            end_idx = keypointsMapping.index(limb[1])\n",
    "            \n",
    "            start_point = (int(x_coords[start_idx]), int(y_coords[start_idx]))\n",
    "            end_point = (int(x_coords[end_idx]), int(y_coords[end_idx]))\n",
    "\n",
    "            if start_point == (0,0) or end_point == (0,0) or not sane[start_idx] or not sane[end_idx]:\n",
    "                continue\n",
    "            cv2.line(canvas_copy, start_point, end_point, (0, 255, 0), 2)  \n",
    "        \n",
    "        # Display the emotion percentages and labels on the top right of the frame\n",
    "        \n",
    "        emotion_percentages = [f\"{int(e * 100)}% {emotion_labels[i]}\" for i, e in enumerate(emotion_vector) if round(e * 100) > 1]\n",
    "        # print(emotion_percentages)\n",
    "        y0, dy = 30, 15  # Starting y position and line gap\n",
    "        for i, line in enumerate(emotion_percentages):\n",
    "            y = y0 + i * dy\n",
    "            cv2.putText(canvas_copy, line, (canvas_size[1] - 120, y), cv2.FONT_HERSHEY_SIMPLEX, 0.5, (255, 255, 255), 1, cv2.LINE_AA)\n",
    "\n",
    "\n",
    "        # Display the canvas with keypoints and connections\n",
    "        cv2.imshow(\"Keypoints Visualization\", canvas_copy)\n",
    "\n",
    "        # If saving, write the frame to the video\n",
    "        if save:\n",
    "            out.write(canvas_copy)\n",
    "\n",
    "        # Wait for 100ms and check for \"esc\" key press to exit\n",
    "        key = cv2.waitKey(100)\n",
    "        if key == 27:  \n",
    "            break\n",
    "\n",
    "    # Release the video writer, if used\n",
    "    if save:\n",
    "        out.release()\n",
    "\n",
    "    if destroy:\n",
    "        # Close the visualization window\n",
    "        cv2.destroyAllWindows()\n"
   ]
  },
  {
   "cell_type": "code",
   "execution_count": 6,
   "metadata": {},
   "outputs": [
    {
     "name": "stdout",
     "output_type": "stream",
     "text": [
      "Loading checkpoint...\n",
      "Checkpoint loaded from checkpoints/proto6_checkpoint.pth\n",
      "training seed: 33694\n"
     ]
    }
   ],
   "source": [
    "\n",
    "\n",
    "# Initialize a dictionary to keep track of cumulative scores and counts for each emotion\n",
    "emotion_data = {emotion: {\"score\": 0.0, \"count\": 0} for emotion in emotion_labels}\n",
    "\n",
    "\n",
    "# List to store average scores indexed by emotions\n",
    "average_scores = [0.0 for _ in emotion_labels]\n",
    "length =0\n",
    "\n",
    "BLOCK_SIZE = 16 # what is the maximum context length for predictions? \n",
    "\n",
    "# create model\n",
    "CHECKPOINT_PATH = \"checkpoints/proto6_checkpoint.pth\"\n",
    "\n",
    "m = MotionModel(input_dim=frame_dim, output_dim=frame_dim, blocksize=BLOCK_SIZE, hidden_dim=512, n_layers=8, dropout=DROPOUT)\n",
    "m = m.to(device)\n",
    "optimizer = torch.optim.Adam(m.parameters(), lr=LEARNING_RATE, weight_decay=L2_REG)  # weight_decay=1e-5 L2 regularization\n",
    "m, optimizer,scheduler, epoch, loss, train_seed = load_checkpoint(m, optimizer, CHECKPOINT_PATH)\n",
    "print(f\"training seed: {train_seed}\")\n"
   ]
  },
  {
   "cell_type": "code",
   "execution_count": 7,
   "metadata": {},
   "outputs": [
    {
     "data": {
      "text/plain": [
       "torch.Size([1, 97, 107])"
      ]
     },
     "execution_count": 7,
     "metadata": {},
     "output_type": "execute_result"
    }
   ],
   "source": [
    "\n",
    "chosen_emotion = \"Fear\"\n",
    "specific_emotion_video = get_video_by_emotion(train_data, chosen_emotion)\n",
    "specific_emotion_video.shape"
   ]
  },
  {
   "cell_type": "code",
   "execution_count": 8,
   "metadata": {},
   "outputs": [
    {
     "name": "stderr",
     "output_type": "stream",
     "text": [
      "Visualizing frames: 100%|██████████| 150/150 [00:16<00:00,  9.22it/s]\n"
     ]
    }
   ],
   "source": [
    "FRAMES_GENERATE = 150\n",
    "\n",
    "chosen_emotion = \"Fear\"\n",
    "# seems like 150 frames is good before it get's a bit weird\n",
    "\n",
    "specific_emotion_video = get_video_by_emotion(train_data, chosen_emotion)\n",
    "\n",
    "# initial generation always neutral\n",
    "\n",
    "generated = m.generate(specific_emotion_video, FRAMES_GENERATE)\n",
    "unnorm_out = unnormalise_list_2D(generated, max_x, min_x, max_y, min_y,max_x, min_x, max_y, min_y)\n",
    "\n",
    "# visualise\n",
    "visualise_skeleton(unnorm_out[0], max_x, max_y, max_frames=FRAMES_GENERATE,save = True,save_path=None,prefix=f'{chosen_emotion}_{epoch}_coord',train_seed=train_seed,delta=False)\n",
    "\n",
    "\n",
    "# have to normalise the generated data before putting it into the model"
   ]
  },
  {
   "cell_type": "code",
   "execution_count": 11,
   "metadata": {},
   "outputs": [
    {
     "name": "stdout",
     "output_type": "stream",
     "text": [
      "torch.Size([1, 5, 107])\n"
     ]
    },
    {
     "name": "stderr",
     "output_type": "stream",
     "text": [
      "Visualizing frames:   0%|          | 0/500 [00:00<?, ?it/s]"
     ]
    }
   ],
   "source": [
    "FRAMES_GENERATE = 500\n",
    "\n",
    "\n",
    "noise = torch.randn(1, 5, 107).to(device)\n",
    "print(noise.shape)  # Should print: torch.Size([1, 97, 107])\n",
    "\n",
    "\n",
    "# initial generation always neutral\n",
    "\n",
    "generated = m.generate(noise, FRAMES_GENERATE)\n",
    "unnorm_out = unnormalise_list_2D(generated, max_x, min_x, max_y, min_y,max_x, min_x, max_y, min_y)\n",
    "\n",
    "# visualise\n",
    "visualise_skeleton(unnorm_out[0], max_x, max_y, max_frames=FRAMES_GENERATE,save = True,save_path=None,prefix=f'noise__{epoch}_coord',train_seed=train_seed,delta=False)\n",
    "\n",
    "\n",
    "# have to normalise the generated data before putting it into the model"
   ]
  },
  {
   "cell_type": "code",
   "execution_count": 10,
   "metadata": {},
   "outputs": [],
   "source": [
    "def normalise_generated(unnorm_out, max_x, min_x, max_y, min_y, max_dx, min_dx, max_dy, min_dy):\n",
    "    norm_out = []\n",
    "    \n",
    "    for frame in unnorm_out:\n",
    "        norm_frame = []\n",
    "        \n",
    "        # Normalize the first 50 values (absolute x and y coordinates)\n",
    "        for i in range(0, 50, 2):\n",
    "            unnormalized_x = frame[i]\n",
    "            unnormalized_y = frame[i+1]\n",
    "            \n",
    "            norm_x = 2 * (unnormalized_x - min_x) / (max_x - min_x) - 1\n",
    "            norm_y = 2 * (unnormalized_y - min_y) / (max_y - min_y) - 1\n",
    "            \n",
    "            norm_frame.extend([norm_x, norm_y])\n",
    "        \n",
    "        # Normalize the second 50 values (x and y deltas)\n",
    "        for i in range(50, 100, 2):\n",
    "            unnormalized_dx = frame[i]\n",
    "            unnormalized_dy = frame[i+1]\n",
    "            \n",
    "            norm_dx = 2 * (unnormalized_dx - min_dx) / (max_dx - min_dx) - 1\n",
    "            norm_dy = 2 * (unnormalized_dy - min_dy) / (max_dy - min_dy) - 1\n",
    "            \n",
    "            norm_frame.extend([norm_dx, norm_dy])\n",
    "        \n",
    "        # Append the emotion encoding without normalizing\n",
    "        norm_frame.extend(frame[-7:])\n",
    "        norm_out.append(norm_frame)\n",
    "        \n",
    "    return norm_out\n"
   ]
  },
  {
   "cell_type": "code",
   "execution_count": 11,
   "metadata": {},
   "outputs": [],
   "source": [
    "import threading\n",
    "import queue\n",
    "import time\n",
    "import keyboard\n",
    "import queue\n"
   ]
  },
  {
   "cell_type": "code",
   "execution_count": 12,
   "metadata": {},
   "outputs": [
    {
     "name": "stdout",
     "output_type": "stream",
     "text": [
      "['D:/Interactive Dance Thesis Tests/TransformerResults\\\\26277\\\\adam_500000steps_optimised_6layer_dropout_lerp1.mp4', 'D:/Interactive Dance Thesis Tests/TransformerResults\\\\26277\\\\adam_500000steps_optimised_6layer_dropout_lerp2.mp4', 'D:/Interactive Dance Thesis Tests/TransformerResults\\\\26277\\\\adam_500000steps_optimised_6layer_dropout_lerp3.mp4', 'D:/Interactive Dance Thesis Tests/TransformerResults\\\\26277\\\\adam_500000steps_optimised_6layer_dropout_lerp4.mp4', 'D:/Interactive Dance Thesis Tests/TransformerResults\\\\33694\\\\adam_500000_coord1.mp4', 'D:/Interactive Dance Thesis Tests/TransformerResults\\\\33694\\\\adam_500000_coord2.mp4', 'D:/Interactive Dance Thesis Tests/TransformerResults\\\\33694\\\\adam_500000_coord3.mp4', 'D:/Interactive Dance Thesis Tests/TransformerResults\\\\33694\\\\adam_500000_coord4.mp4', 'D:/Interactive Dance Thesis Tests/TransformerResults\\\\33694\\\\adam_500000_coord5.mp4', 'D:/Interactive Dance Thesis Tests/TransformerResults\\\\33694\\\\adam_500000_coord6.mp4', 'D:/Interactive Dance Thesis Tests/TransformerResults\\\\33694\\\\adam_500000_coord7.mp4', 'D:/Interactive Dance Thesis Tests/TransformerResults\\\\33694\\\\adam_500000_coord8.mp4', 'D:/Interactive Dance Thesis Tests/TransformerResults\\\\33694\\\\adam_500000_delta1.mp4', 'D:/Interactive Dance Thesis Tests/TransformerResults\\\\33694\\\\adam_500000_delta2.mp4', 'D:/Interactive Dance Thesis Tests/TransformerResults\\\\33694\\\\adam_500000_delta3.mp4', 'D:/Interactive Dance Thesis Tests/TransformerResults\\\\33694\\\\adam_500000_delta4.mp4', 'D:/Interactive Dance Thesis Tests/TransformerResults\\\\33694\\\\adam_500000_delta5.mp4', 'D:/Interactive Dance Thesis Tests/TransformerResults\\\\33694\\\\adam_500000_delta6.mp4', 'D:/Interactive Dance Thesis Tests/TransformerResults\\\\33694\\\\adam_500000_delta7.mp4', 'D:/Interactive Dance Thesis Tests/TransformerResults\\\\33694\\\\adam_500000_delta8.mp4', 'D:/Interactive Dance Thesis Tests/TransformerResults\\\\46061\\\\adam_500000_coord1.mp4', 'D:/Interactive Dance Thesis Tests/TransformerResults\\\\46061\\\\adam_500000_coord2.mp4', 'D:/Interactive Dance Thesis Tests/TransformerResults\\\\46061\\\\adam_500000_coord3.mp4', 'D:/Interactive Dance Thesis Tests/TransformerResults\\\\46061\\\\adam_500000_coord4.mp4', 'D:/Interactive Dance Thesis Tests/TransformerResults\\\\46061\\\\adam_500000_coord5.mp4', 'D:/Interactive Dance Thesis Tests/TransformerResults\\\\46061\\\\adam_500000_coord6.mp4', 'D:/Interactive Dance Thesis Tests/TransformerResults\\\\46061\\\\adam_500000_coord7.mp4', 'D:/Interactive Dance Thesis Tests/TransformerResults\\\\46061\\\\adam_500000_coord8.mp4', 'D:/Interactive Dance Thesis Tests/TransformerResults\\\\46061\\\\adam_500000_delta1.mp4', 'D:/Interactive Dance Thesis Tests/TransformerResults\\\\46061\\\\adam_500000_delta2.mp4', 'D:/Interactive Dance Thesis Tests/TransformerResults\\\\46061\\\\adam_500000_delta3.mp4', 'D:/Interactive Dance Thesis Tests/TransformerResults\\\\46061\\\\adam_500000_delta4.mp4', 'D:/Interactive Dance Thesis Tests/TransformerResults\\\\46061\\\\adam_500000_delta5.mp4', 'D:/Interactive Dance Thesis Tests/TransformerResults\\\\46061\\\\adam_500000_delta6.mp4', 'D:/Interactive Dance Thesis Tests/TransformerResults\\\\46061\\\\adam_500000_delta7.mp4', 'D:/Interactive Dance Thesis Tests/TransformerResults\\\\46061\\\\adam_500000_delta8.mp4', 'D:/Interactive Dance Thesis Tests/TransformerResults\\\\5029\\\\adam_500000_coord1.mp4', 'D:/Interactive Dance Thesis Tests/TransformerResults\\\\5029\\\\adam_500000_coord2.mp4', 'D:/Interactive Dance Thesis Tests/TransformerResults\\\\5029\\\\adam_500000_coord3.mp4', 'D:/Interactive Dance Thesis Tests/TransformerResults\\\\5029\\\\adam_500000_coord4.mp4', 'D:/Interactive Dance Thesis Tests/TransformerResults\\\\5029\\\\adam_500000_coord5.mp4', 'D:/Interactive Dance Thesis Tests/TransformerResults\\\\5029\\\\adam_500000_coord6.mp4', 'D:/Interactive Dance Thesis Tests/TransformerResults\\\\5029\\\\adam_500000_coord7.mp4', 'D:/Interactive Dance Thesis Tests/TransformerResults\\\\5029\\\\adam_500000_coord8.mp4', 'D:/Interactive Dance Thesis Tests/TransformerResults\\\\5029\\\\adam_500000_coord_normalemotion_happy1.mp4', 'D:/Interactive Dance Thesis Tests/TransformerResults\\\\5029\\\\adam_500000_coord_switchhappytodisgust1.mp4', 'D:/Interactive Dance Thesis Tests/TransformerResults\\\\5029\\\\adam_500000_coord_switchhappytosad2.mp4', 'D:/Interactive Dance Thesis Tests/TransformerResults\\\\5029\\\\adam_500000_coord_switchhappytosad3.mp4', 'D:/Interactive Dance Thesis Tests/TransformerResults\\\\5029\\\\adam_500000_coord_switchhappytosurprise1.mp4', 'D:/Interactive Dance Thesis Tests/TransformerResults\\\\5029\\\\adam_500000_delta1.mp4', 'D:/Interactive Dance Thesis Tests/TransformerResults\\\\5029\\\\adam_500000_delta2.mp4', 'D:/Interactive Dance Thesis Tests/TransformerResults\\\\5029\\\\adam_500000_delta3.mp4', 'D:/Interactive Dance Thesis Tests/TransformerResults\\\\5029\\\\adam_500000_delta4.mp4', 'D:/Interactive Dance Thesis Tests/TransformerResults\\\\5029\\\\adam_500000_delta5.mp4', 'D:/Interactive Dance Thesis Tests/TransformerResults\\\\5029\\\\adam_500000_delta6.mp4', 'D:/Interactive Dance Thesis Tests/TransformerResults\\\\5029\\\\adam_500000_delta7.mp4', 'D:/Interactive Dance Thesis Tests/TransformerResults\\\\5029\\\\adam_500000_delta8.mp4', 'D:/Interactive Dance Thesis Tests/TransformerResults\\\\53714\\\\adam_500000steps_optimised_6layer_dropout_lerp1.mp4', 'D:/Interactive Dance Thesis Tests/TransformerResults\\\\53714\\\\adam_500000steps_optimised_6layer_dropout_lerp2.mp4', 'D:/Interactive Dance Thesis Tests/TransformerResults\\\\53714\\\\adam_500000steps_optimised_6layer_dropout_lerp3.mp4', 'D:/Interactive Dance Thesis Tests/TransformerResults\\\\53714\\\\adam_500000steps_optimised_6layer_dropout_lerp4.mp4', 'D:/Interactive Dance Thesis Tests/TransformerResults\\\\53714\\\\adam_500000steps_proto41.mp4', 'D:/Interactive Dance Thesis Tests/TransformerResults\\\\53714\\\\adam_500000steps_proto42.mp4', 'D:/Interactive Dance Thesis Tests/TransformerResults\\\\53714\\\\adam_500000steps_proto43.mp4', 'D:/Interactive Dance Thesis Tests/TransformerResults\\\\53714\\\\adam_500000steps_proto44.mp4', 'D:/Interactive Dance Thesis Tests/TransformerResults\\\\53714\\\\adam_500000steps_proto45.mp4', 'D:/Interactive Dance Thesis Tests/TransformerResults\\\\53714\\\\adam_500000steps_proto46.mp4', 'D:/Interactive Dance Thesis Tests/TransformerResults\\\\53714\\\\adam_500000steps_proto47.mp4', 'D:/Interactive Dance Thesis Tests/TransformerResults\\\\53714\\\\adam_500000steps_proto48.mp4', 'D:/Interactive Dance Thesis Tests/TransformerResults\\\\99438\\\\adam_500000steps_optimised_6layer_dropout_lerp1.mp4', 'D:/Interactive Dance Thesis Tests/TransformerResults\\\\99438\\\\adam_500000steps_optimised_6layer_dropout_lerp2.mp4', 'D:/Interactive Dance Thesis Tests/TransformerResults\\\\99438\\\\adam_500000steps_optimised_6layer_dropout_lerp3.mp4', 'D:/Interactive Dance Thesis Tests/TransformerResults\\\\99438\\\\adam_500000steps_optimised_6layer_dropout_lerp4.mp4', 'D:/Interactive Dance Thesis Tests/TransformerResults\\\\{train_seed}\\\\adam_500000steps_proto41.mp4', 'D:/Interactive Dance Thesis Tests/TransformerResults\\\\{train_seed}\\\\adam_500000steps_proto410.mp4', 'D:/Interactive Dance Thesis Tests/TransformerResults\\\\{train_seed}\\\\adam_500000steps_proto411.mp4', 'D:/Interactive Dance Thesis Tests/TransformerResults\\\\{train_seed}\\\\adam_500000steps_proto412.mp4', 'D:/Interactive Dance Thesis Tests/TransformerResults\\\\{train_seed}\\\\adam_500000steps_proto413.mp4', 'D:/Interactive Dance Thesis Tests/TransformerResults\\\\{train_seed}\\\\adam_500000steps_proto414.mp4', 'D:/Interactive Dance Thesis Tests/TransformerResults\\\\{train_seed}\\\\adam_500000steps_proto415.mp4', 'D:/Interactive Dance Thesis Tests/TransformerResults\\\\{train_seed}\\\\adam_500000steps_proto416.mp4', 'D:/Interactive Dance Thesis Tests/TransformerResults\\\\{train_seed}\\\\adam_500000steps_proto417.mp4', 'D:/Interactive Dance Thesis Tests/TransformerResults\\\\{train_seed}\\\\adam_500000steps_proto418.mp4', 'D:/Interactive Dance Thesis Tests/TransformerResults\\\\{train_seed}\\\\adam_500000steps_proto419.mp4', 'D:/Interactive Dance Thesis Tests/TransformerResults\\\\{train_seed}\\\\adam_500000steps_proto42.mp4', 'D:/Interactive Dance Thesis Tests/TransformerResults\\\\{train_seed}\\\\adam_500000steps_proto420.mp4', 'D:/Interactive Dance Thesis Tests/TransformerResults\\\\{train_seed}\\\\adam_500000steps_proto421.mp4', 'D:/Interactive Dance Thesis Tests/TransformerResults\\\\{train_seed}\\\\adam_500000steps_proto422.mp4', 'D:/Interactive Dance Thesis Tests/TransformerResults\\\\{train_seed}\\\\adam_500000steps_proto423.mp4', 'D:/Interactive Dance Thesis Tests/TransformerResults\\\\{train_seed}\\\\adam_500000steps_proto424.mp4', 'D:/Interactive Dance Thesis Tests/TransformerResults\\\\{train_seed}\\\\adam_500000steps_proto425.mp4', 'D:/Interactive Dance Thesis Tests/TransformerResults\\\\{train_seed}\\\\adam_500000steps_proto426.mp4', 'D:/Interactive Dance Thesis Tests/TransformerResults\\\\{train_seed}\\\\adam_500000steps_proto427.mp4', 'D:/Interactive Dance Thesis Tests/TransformerResults\\\\{train_seed}\\\\adam_500000steps_proto43.mp4', 'D:/Interactive Dance Thesis Tests/TransformerResults\\\\{train_seed}\\\\adam_500000steps_proto44.mp4', 'D:/Interactive Dance Thesis Tests/TransformerResults\\\\{train_seed}\\\\adam_500000steps_proto45.mp4', 'D:/Interactive Dance Thesis Tests/TransformerResults\\\\{train_seed}\\\\adam_500000steps_proto46.mp4', 'D:/Interactive Dance Thesis Tests/TransformerResults\\\\{train_seed}\\\\adam_500000steps_proto47.mp4', 'D:/Interactive Dance Thesis Tests/TransformerResults\\\\{train_seed}\\\\adam_500000steps_proto48.mp4', 'D:/Interactive Dance Thesis Tests/TransformerResults\\\\{train_seed}\\\\adam_500000steps_proto49.mp4']\n"
     ]
    }
   ],
   "source": [
    "import glob\n",
    "\n",
    "files = glob.glob(\"D:/Interactive Dance Thesis Tests/TransformerResults/*/*500000*\")\n",
    "print(files)"
   ]
  },
  {
   "cell_type": "code",
   "execution_count": 13,
   "metadata": {},
   "outputs": [
    {
     "name": "stdout",
     "output_type": "stream",
     "text": [
      "2023-10-25 17:24:29 [Wayz ezY]- They insane ese:hugging_face::dove:\n",
      "[{'label': 'disgust', 'score': 0.631585955619812}]\n",
      "Average scores: [0.0, 0.631585955619812, 0.0, 0.0, 0.0, 0.0, 0.0]\n",
      "2023-10-25 17:24:29 [Open AI Channel / Sites Reviews]- Make Gaza a golf course \n",
      "[{'label': 'neutral', 'score': 0.9495328664779663}]\n",
      "Average scores: [0.0, 0.315792977809906, 0.0, 0.0, 0.9495328664779663, 0.0, 0.0]\n",
      "2023-10-25 17:24:36 [Bitsmart]- paperchase, Allah is not idol. I disagree, quran mention about Idolatry and it's clear. moreover you can blame your Idolatry\n",
      "[{'label': 'anger', 'score': 0.4567664563655853}]\n",
      "Average scores: [0.4567664563655853, 0.157896488904953, 0.0, 0.0, 0.47476643323898315, 0.0, 0.0]\n"
     ]
    },
    {
     "name": "stderr",
     "output_type": "stream",
     "text": [
      "Visualizing frames:   3%|▎         | 5/150 [00:00<00:16,  9.04it/s]"
     ]
    },
    {
     "name": "stdout",
     "output_type": "stream",
     "text": [
      "2023-10-25 17:24:42 [Michael Ryan]- If you know Noah’s sent his kids out into the world after the flood Sodom Gamorrah we all belong to one of the 12 tribes we all decend from Noah and kids we are one peoples humans some act like beasts\n",
      "[{'label': 'neutral', 'score': 0.8912690877914429}]\n",
      "Average scores: [0.22838322818279266, 0.0789482444524765, 0.0, 0.0, 1, 0.0, 0.0]\n"
     ]
    },
    {
     "name": "stderr",
     "output_type": "stream",
     "text": [
      "Visualizing frames:  30%|███       | 45/150 [00:04<00:11,  9.20it/s]"
     ]
    },
    {
     "name": "stdout",
     "output_type": "stream",
     "text": [
      "2023-10-25 17:24:46 [Jack Field]- Gaza needs fuel? Ask their leadership, they have tons of stolen fuel and medicine\n",
      "[{'label': 'anger', 'score': 0.5463253855705261}]\n",
      "Average scores: [0.7747086137533188, 0.03947412222623825, 0, 0, 0.5, 0, 0]\n"
     ]
    },
    {
     "name": "stderr",
     "output_type": "stream",
     "text": [
      "Visualizing frames:  62%|██████▏   | 93/150 [00:10<00:06,  9.10it/s]"
     ]
    },
    {
     "name": "stdout",
     "output_type": "stream",
     "text": [
      "2023-10-25 17:24:51 [Dash with class]- @Alex agreed, this is a watershed moment that could either bring people together or tear us apart. Im saddened to see the just blatant racism, hatred and vittrolic speach on here\n",
      "[{'label': 'sadness', 'score': 0.9682086110115051}]\n",
      "Average scores: [0.3873543068766594, 0, 0, 0, 0.25, 0.9682086110115051, 0]\n"
     ]
    },
    {
     "name": "stderr",
     "output_type": "stream",
     "text": [
      "Visualizing frames:  69%|██████▊   | 103/150 [00:11<00:05,  9.16it/s]"
     ]
    },
    {
     "name": "stdout",
     "output_type": "stream",
     "text": [
      "2023-10-25 17:24:52 [Peace]- Rod they are victimsm.thy don't do bad to anyone.\n",
      "[{'label': 'neutral', 'score': 0.8814396858215332}]\n",
      "Average scores: [0.1936771534383297, 0, 0, 0, 1, 0.48410430550575256, 0]\n",
      "2023-10-25 17:24:52 [Vick]- I mean Al Jazeera ought to let their reporters practice freedom of religion \n",
      "[{'label': 'neutral', 'score': 0.6508169770240784}]\n",
      "Average scores: [0.09683857671916485, 0, 0, 0, 1, 0.24205215275287628, 0]\n"
     ]
    },
    {
     "name": "stderr",
     "output_type": "stream",
     "text": [
      "Visualizing frames:  75%|███████▍  | 112/150 [00:12<00:09,  4.10it/s]"
     ]
    },
    {
     "name": "stdout",
     "output_type": "stream",
     "text": [
      "2023-10-25 17:24:53 [843Amy]- Ur right@Mohammad. The polls do say that. \n",
      "[{'label': 'neutral', 'score': 0.9680444002151489}]\n",
      "Average scores: [0.048419288359582424, 0, 0, 0, 1, 0.12102607637643814, 0]\n"
     ]
    },
    {
     "name": "stderr",
     "output_type": "stream",
     "text": [
      "Visualizing frames: 100%|██████████| 150/150 [00:16<00:00,  8.93it/s]\n",
      "Visualizing frames:  18%|█▊        | 27/150 [00:02<00:13,  9.15it/s]"
     ]
    },
    {
     "name": "stdout",
     "output_type": "stream",
     "text": [
      "2023-10-25 17:25:00 [DoubleOneFour]- All civilian lives have equal value. Stop the injustice. Stop the genocide.\n",
      "[{'label': 'anger', 'score': 0.4289381504058838}]\n",
      "Average scores: [0.4773574387654662, 0, 0, 0, 0.5, 0.06051303818821907, 0]\n"
     ]
    },
    {
     "name": "stderr",
     "output_type": "stream",
     "text": [
      "Visualizing frames:  24%|██▍       | 36/150 [00:03<00:12,  9.13it/s]"
     ]
    },
    {
     "name": "stdout",
     "output_type": "stream",
     "text": [
      "2023-10-25 17:25:01 [Abdul Aziz]- Rod\"god hate Israel:face-orange-frowning:\n",
      "[{'label': 'disgust', 'score': 0.513234555721283}]\n",
      "Average scores: [0.2386787193827331, 0.513234555721283, 0, 0, 0.25, 0, 0]\n"
     ]
    },
    {
     "name": "stderr",
     "output_type": "stream",
     "text": [
      "Visualizing frames:  63%|██████▎   | 94/150 [00:10<00:06,  9.13it/s]"
     ]
    },
    {
     "name": "stdout",
     "output_type": "stream",
     "text": [
      "2023-10-25 17:25:08 [Mohamednur Sheikh]- why is the media not covering the Bill tabled by UN to take Action against those countries that will be involve in RACISM nd DISCRIMINATION...where 106 voted Yes nd only 14 countries voted NO.....\n",
      "[{'label': 'anger', 'score': 0.6682233214378357}]\n",
      "Average scores: [0.9069020408205688, 0.2566172778606415, 0, 0, 0.125, 0, 0]\n"
     ]
    },
    {
     "name": "stderr",
     "output_type": "stream",
     "text": [
      "Visualizing frames:  76%|███████▌  | 114/150 [00:12<00:03,  9.11it/s]"
     ]
    },
    {
     "name": "stdout",
     "output_type": "stream",
     "text": [
      "2023-10-25 17:25:10 [lloyd beard]- Israel will soon fear God more than zion...on your knees\n",
      "[{'label': 'fear', 'score': 0.6694895029067993}]\n",
      "Average scores: [0.4534510204102844, 0.12830863893032074, 0.6694895029067993, 0, 0.0625, 0, 0]\n"
     ]
    },
    {
     "name": "stderr",
     "output_type": "stream",
     "text": [
      "Visualizing frames:  82%|████████▏ | 123/150 [00:13<00:02,  9.19it/s]"
     ]
    },
    {
     "name": "stdout",
     "output_type": "stream",
     "text": [
      "2023-10-25 17:25:11 [Wawa Shiap]- Israel supporter only spread fake and blasphemy and force their claim basic on holy book, and dont have hystory and fact:zany_face::zany_face::zany_face::zany_face:\n",
      "[{'label': 'anger', 'score': 0.5128573775291443}]\n",
      "Average scores: [0.9663083979394287, 0.06415431946516037, 0.33474475145339966, 0, 0, 0, 0]\n"
     ]
    },
    {
     "name": "stderr",
     "output_type": "stream",
     "text": [
      "Visualizing frames: 100%|██████████| 150/150 [00:16<00:00,  9.14it/s]\n",
      "Visualizing frames:   8%|▊         | 12/150 [00:01<00:15,  9.13it/s]"
     ]
    },
    {
     "name": "stdout",
     "output_type": "stream",
     "text": [
      "2023-10-25 17:25:15 [Mr ORN]- All praises be to Allah sustainer of the both worlds.\n",
      "[{'label': 'joy', 'score': 0.6629716157913208}]\n",
      "Average scores: [0.48315419896971434, 0.032077159732580185, 0.16737237572669983, 0.6629716157913208, 0, 0, 0]\n"
     ]
    },
    {
     "name": "stderr",
     "output_type": "stream",
     "text": [
      "Visualizing frames:  15%|█▍        | 22/150 [00:02<00:14,  9.11it/s]"
     ]
    },
    {
     "name": "stdout",
     "output_type": "stream",
     "text": [
      "2023-10-25 17:25:16 [Alexandra Grant Smirk Smile Swallowed a Canary]- A Bryan Kofron spoke about Zionist owned specialist of havana and psyops torture located in Seattle. May be part of Screen International Security Systems. Understand that they pick on innocent. \n",
      "[{'label': 'neutral', 'score': 0.9900349974632263}]\n",
      "Average scores: [0.24157709948485717, 0, 0.08368618786334991, 0.3314858078956604, 0.9900349974632263, 0, 0]\n"
     ]
    },
    {
     "name": "stderr",
     "output_type": "stream",
     "text": [
      "Visualizing frames:  21%|██▏       | 32/150 [00:03<00:12,  9.15it/s]"
     ]
    },
    {
     "name": "stdout",
     "output_type": "stream",
     "text": [
      "2023-10-25 17:25:17 [Beast]- ..\n",
      "[{'label': 'neutral', 'score': 0.9736126065254211}]\n",
      "Average scores: [0.12078854974242859, 0, 0.04184309393167496, 0.1657429039478302, 1, 0, 0]\n",
      "2023-10-25 17:25:18 [#BobbleHead]- sheep? ...isn't iT the Year of the Bull?\n",
      "[{'label': 'surprise', 'score': 0.81931471824646}]\n",
      "Average scores: [0.06039427487121429, 0, 0, 0.0828714519739151, 0.5, 0, 0.81931471824646]\n"
     ]
    },
    {
     "name": "stderr",
     "output_type": "stream",
     "text": [
      "Visualizing frames:  34%|███▍      | 51/150 [00:05<00:10,  9.12it/s]"
     ]
    },
    {
     "name": "stdout",
     "output_type": "stream",
     "text": [
      "2023-10-25 17:25:19 [starkrush]- @SistaJaine IAM AN AMERICAN AM ALL FOR TRAINING KIDS WITH WEAPONS FOR HUNTING BUT WE GIVE OUR KIDS TOYS TOO.\n",
      "[{'label': 'anger', 'score': 0.4485490024089813}]\n",
      "Average scores: [0.5089432772801956, 0, 0, 0.04143572598695755, 0.25, 0, 0.40965735912323]\n"
     ]
    },
    {
     "name": "stderr",
     "output_type": "stream",
     "text": [
      "Visualizing frames:  41%|████      | 61/150 [00:06<00:09,  9.13it/s]"
     ]
    },
    {
     "name": "stdout",
     "output_type": "stream",
     "text": [
      "2023-10-25 17:25:21 [Niezaar Abrahams]- The world is watching live the Israeli genocide of Palestinians\n",
      "[{'label': 'disgust', 'score': 0.8388957977294922}]\n",
      "Average scores: [0.2544716386400978, 0.8388957977294922, 0, 0, 0.125, 0, 0.204828679561615]\n"
     ]
    },
    {
     "name": "stderr",
     "output_type": "stream",
     "text": [
      "Visualizing frames:  47%|████▋     | 70/150 [00:07<00:08,  9.08it/s]"
     ]
    },
    {
     "name": "stdout",
     "output_type": "stream",
     "text": [
      "2023-10-25 17:25:22 [Mo H. Abdi]- :face-orange-frowning::face-orange-frowning::face-orange-frowning:\n",
      "[{'label': 'neutral', 'score': 0.7972515821456909}]\n",
      "Average scores: [0.1272358193200489, 0.4194478988647461, 0, 0, 0.9222515821456909, 0, 0.1024143397808075]\n"
     ]
    },
    {
     "name": "stderr",
     "output_type": "stream",
     "text": [
      "Visualizing frames:  66%|██████▌   | 99/150 [00:10<00:05,  9.13it/s]"
     ]
    },
    {
     "name": "stdout",
     "output_type": "stream",
     "text": [
      "2023-10-25 17:25:25 [Rod Camp]- @suman peng 2 Palestines... Gaza with elected terrorists and West Bank with elected Palestinian Authority. Very, very different. \n",
      "[{'label': 'neutral', 'score': 0.326803982257843}]\n",
      "Average scores: [0.06361790966002445, 0.20972394943237305, 0, 0, 1, 0, 0.05120716989040375]\n"
     ]
    },
    {
     "name": "stderr",
     "output_type": "stream",
     "text": [
      "Visualizing frames:  86%|████████▌ | 129/150 [00:14<00:02,  9.15it/s]"
     ]
    },
    {
     "name": "stdout",
     "output_type": "stream",
     "text": [
      "2023-10-25 17:25:29 [Paraglidecrete]- how many israelis were killed ?? really ???\n",
      "[{'label': 'surprise', 'score': 0.5663201212882996}]\n",
      "Average scores: [0.031808954830012226, 0.10486197471618652, 0, 0, 0.5, 0, 0.6175272911787033]\n"
     ]
    },
    {
     "name": "stderr",
     "output_type": "stream",
     "text": [
      "Visualizing frames: 100%|██████████| 150/150 [00:16<00:00,  9.14it/s]\n",
      "Visualizing frames:  18%|█▊        | 27/150 [00:02<00:13,  9.11it/s]"
     ]
    },
    {
     "name": "stdout",
     "output_type": "stream",
     "text": [
      "2023-10-25 17:25:33 [Wayz ezY]- \n",
      "[{'label': 'neutral', 'score': 0.9805926084518433}]\n",
      "Average scores: [0, 0.05243098735809326, 0, 0, 1, 0, 0.30876364558935165]\n"
     ]
    },
    {
     "name": "stderr",
     "output_type": "stream",
     "text": [
      "Visualizing frames:  31%|███       | 46/150 [00:05<00:11,  9.05it/s]"
     ]
    },
    {
     "name": "stdout",
     "output_type": "stream",
     "text": [
      "2023-10-25 17:25:35 [John McDonald]- @uk careful, or I will report you...\n",
      "[{'label': 'neutral', 'score': 0.9044694900512695}]\n",
      "Average scores: [0, 0, 0, 0, 1, 0, 0.15438182279467583]\n"
     ]
    },
    {
     "name": "stderr",
     "output_type": "stream",
     "text": [
      "Visualizing frames:  37%|███▋      | 56/150 [00:06<00:10,  9.15it/s]"
     ]
    },
    {
     "name": "stdout",
     "output_type": "stream",
     "text": [
      "2023-10-25 17:25:36 [ايهاب .]- تعيش فلسطين 🇵🇸🇵🇸🇵🇸\n",
      "[{'label': 'neutral', 'score': 0.9174259305000305}]\n",
      "Average scores: [0, 0, 0, 0, 1, 0, 0.07719091139733791]\n",
      "2023-10-25 17:25:36 [NVRMND THE MAKER]- @DoubleOneFour no they dont, deep down you know this\n",
      "[{'label': 'neutral', 'score': 0.874638020992279}]\n",
      "Average scores: [0, 0, 0, 0, 1, 0, 0.03859545569866896]\n"
     ]
    },
    {
     "name": "stderr",
     "output_type": "stream",
     "text": [
      "Visualizing frames:  44%|████▍     | 66/150 [00:07<00:09,  9.16it/s]"
     ]
    },
    {
     "name": "stdout",
     "output_type": "stream",
     "text": [
      "2023-10-25 17:25:37 [Stompin'Tom 66]- Killin' and dyin' for their sky daddys\n",
      "[{'label': 'neutral', 'score': 0.5144415497779846}]\n",
      "Average scores: [0, 0, 0, 0, 1, 0, 0]\n"
     ]
    },
    {
     "name": "stderr",
     "output_type": "stream",
     "text": [
      "Visualizing frames:  51%|█████     | 76/150 [00:08<00:08,  9.13it/s]"
     ]
    },
    {
     "name": "stdout",
     "output_type": "stream",
     "text": [
      "2023-10-25 17:25:38 [Neelofar Royeen]- Israel scared they going to die\n",
      "[{'label': 'fear', 'score': 0.9083736538887024}]\n",
      "Average scores: [0, 0, 0.9083736538887024, 0, 0.5, 0, 0]\n",
      "2023-10-25 17:25:39 [Kim Jong un]- tetapi janji kamu Biden...:beaming_face_with_smiling_eyes::beaming_face_with_smiling_eyes::beaming_face_with_smiling_eyes: wlpun dngn cara apapun dn gimanapun.\n",
      "[{'label': 'joy', 'score': 0.9763967394828796}]\n",
      "Average scores: [0, 0, 0.4541868269443512, 0.9763967394828796, 0.25, 0, 0]\n"
     ]
    },
    {
     "name": "stderr",
     "output_type": "stream",
     "text": [
      "Visualizing frames: 100%|██████████| 150/150 [00:16<00:00,  9.14it/s]\n",
      "Visualizing frames:  41%|████▏     | 62/150 [00:06<00:09,  9.24it/s]"
     ]
    },
    {
     "name": "stdout",
     "output_type": "stream",
     "text": [
      "2023-10-25 17:25:53 [Sonny Carreon]- Absolutely God Hates Doing Evil Things Like Terrorist doing.\n",
      "[{'label': 'fear', 'score': 0.8089784979820251}]\n",
      "Average scores: [0, 0, 1, 0.4881983697414398, 0.125, 0, 0]\n"
     ]
    },
    {
     "name": "stderr",
     "output_type": "stream",
     "text": [
      "Visualizing frames:  55%|█████▍    | 82/150 [00:08<00:07,  9.17it/s]"
     ]
    },
    {
     "name": "stdout",
     "output_type": "stream",
     "text": [
      "2023-10-25 17:25:55 [קרן ]- all the Israelis arabs have equal rights, as all the religious. israel is the only democracy here\n",
      "[{'label': 'neutral', 'score': 0.9791024327278137}]\n",
      "Average scores: [0, 0, 0.5, 0.2440991848707199, 1, 0, 0]\n",
      "2023-10-25 17:25:55 [Norm J.]- The promised land has no oil\n",
      "[{'label': 'neutral', 'score': 0.9777286648750305}]\n",
      "Average scores: [0, 0, 0.25, 0.12204959243535995, 1, 0, 0]\n"
     ]
    },
    {
     "name": "stderr",
     "output_type": "stream",
     "text": [
      "Visualizing frames:  67%|██████▋   | 101/150 [00:10<00:05,  9.26it/s]"
     ]
    },
    {
     "name": "stdout",
     "output_type": "stream",
     "text": [
      "2023-10-25 17:25:58 [Paperchase 4eva]- Fear ye not, neither be afraid: have not I told thee from that time, and have declared it? ye are even my witnesses. Is there a God beside me? yea, there is no God; I know not any. Isaiah 44;8\n",
      "[{'label': 'fear', 'score': 0.5984241366386414}]\n",
      "Average scores: [0, 0, 0.8484241366386414, 0.06102479621767998, 0.5, 0, 0]\n"
     ]
    },
    {
     "name": "stderr",
     "output_type": "stream",
     "text": [
      "Visualizing frames: 100%|██████████| 150/150 [00:16<00:00,  9.22it/s]\n"
     ]
    },
    {
     "name": "stdout",
     "output_type": "stream",
     "text": [
      "2023-10-25 17:26:04 [steady ]- stop slaughtering the Palestines, your self defense is outrageous and no longer hold water...stop the evil acts\n",
      "[{'label': 'anger', 'score': 0.9794198870658875}]\n",
      "Average scores: [0.9794198870658875, 0, 0.4242120683193207, 0, 0.25, 0, 0]\n"
     ]
    },
    {
     "name": "stderr",
     "output_type": "stream",
     "text": [
      "Visualizing frames:   7%|▋         | 10/150 [00:01<00:15,  9.26it/s]"
     ]
    },
    {
     "name": "stdout",
     "output_type": "stream",
     "text": [
      "2023-10-25 17:26:05 [uk]- higher calories is indeed their wish\n",
      "[{'label': 'neutral', 'score': 0.9676700830459595}]\n",
      "Average scores: [0.4897099435329437, 0, 0.21210603415966034, 0, 1, 0, 0]\n"
     ]
    },
    {
     "name": "stderr",
     "output_type": "stream",
     "text": [
      "Visualizing frames:  59%|█████▊    | 88/150 [00:09<00:06,  9.23it/s]"
     ]
    },
    {
     "name": "stdout",
     "output_type": "stream",
     "text": [
      "2023-10-25 17:26:12 [Jaswant Kaur]- newk zios:star_of_david::snake:\n",
      "[{'label': 'neutral', 'score': 0.9823126196861267}]\n",
      "Average scores: [0.24485497176647186, 0, 0.10605301707983017, 0, 1, 0, 0]\n",
      "2023-10-25 17:26:12 [SlientWolf]- SECOND ACTION\n",
      "[{'label': 'neutral', 'score': 0.901919424533844}]\n",
      "Average scores: [0.12242748588323593, 0, 0.053026508539915085, 0, 1, 0, 0]\n"
     ]
    },
    {
     "name": "stderr",
     "output_type": "stream",
     "text": [
      "Visualizing frames:  89%|████████▊ | 133/150 [00:14<00:01,  9.25it/s]"
     ]
    },
    {
     "name": "stdout",
     "output_type": "stream",
     "text": [
      "2023-10-25 17:26:14 [RJ]- ALOHA SNACKBAR:chocolate_bar:\n",
      "[{'label': 'neutral', 'score': 0.9758880734443665}]\n",
      "Average scores: [0.061213742941617966, 0, 0, 0, 1, 0, 0]\n",
      "2023-10-25 17:26:16 [Mr ORN]- most kind and most merciful. master of the day of judgment. show us the straight path.\n",
      "[{'label': 'neutral', 'score': 0.6519680023193359}]\n",
      "Average scores: [0, 0, 0, 0, 1, 0, 0]\n",
      "2023-10-25 17:26:16 [WorldAnalyst]- My Name IS Bacon and I can protect you against evil Gods.\n",
      "[{'label': 'neutral', 'score': 0.7114557027816772}]\n",
      "Average scores: [0, 0, 0, 0, 1, 0, 0]\n",
      "2023-10-25 17:26:17 [rolsy h]- Cmon Hezbolah let’s gooo \n",
      "[{'label': 'neutral', 'score': 0.9200884103775024}]\n",
      "Average scores: [0, 0, 0, 0, 1, 0, 0]\n"
     ]
    },
    {
     "name": "stderr",
     "output_type": "stream",
     "text": [
      "Visualizing frames:  95%|█████████▌| 143/150 [00:15<00:00,  9.19it/s]"
     ]
    },
    {
     "name": "stdout",
     "output_type": "stream",
     "text": [
      "2023-10-25 17:26:19 [Jack Field]- The Palestinian leadership has plenty of fuel :fuel_pump:\n",
      "[{'label': 'neutral', 'score': 0.9796684384346008}]\n",
      "Average scores: [0, 0, 0, 0, 1, 0, 0]\n"
     ]
    },
    {
     "name": "stderr",
     "output_type": "stream",
     "text": [
      "Visualizing frames: 100%|██████████| 150/150 [00:16<00:00,  9.23it/s]\n",
      "Visualizing frames:  28%|██▊       | 42/150 [00:04<00:11,  9.18it/s]"
     ]
    },
    {
     "name": "stdout",
     "output_type": "stream",
     "text": [
      "2023-10-25 17:26:25 [Mohammed Howlader]- Mahatma Gandhi would not support you what you are saying. \n",
      "[{'label': 'anger', 'score': 0.40910089015960693}]\n",
      "Average scores: [0.40910089015960693, 0, 0, 0, 0.5, 0, 0]\n"
     ]
    },
    {
     "name": "stderr",
     "output_type": "stream",
     "text": [
      "Visualizing frames:  56%|█████▌    | 84/150 [00:09<00:07,  9.15it/s]"
     ]
    },
    {
     "name": "stdout",
     "output_type": "stream",
     "text": [
      "2023-10-25 17:26:28 [fatiha zeghli]- 🇦🇪🇦🇪🇦🇪:loudly_crying_face::loudly_crying_face::index_pointing_up::index_pointing_up::victory_hand::victory_hand::pouting_face::pouting_face::no_entry::no_entry::no_entry::no_entry::folded_hands::folded_hands:mon frere mon soeucr GAZA PARTNERS ALLAH AMINÉ 🇦🇪🇦🇪:folded_hands::folded_hands:\n",
      "[{'label': 'joy', 'score': 0.6627287864685059}]\n",
      "Average scores: [0.20455044507980347, 0, 0, 0.6627287864685059, 0.25, 0, 0]\n"
     ]
    },
    {
     "name": "stderr",
     "output_type": "stream",
     "text": [
      "Visualizing frames:  58%|█████▊    | 87/150 [00:09<00:06,  9.17it/s]"
     ]
    },
    {
     "name": "stdout",
     "output_type": "stream",
     "text": [
      "2023-10-25 17:26:29 [flashyFlavius]- occupied East Jerusalem...??? really?\n",
      "[{'label': 'surprise', 'score': 0.9890174865722656}]\n",
      "Average scores: [0.10227522253990173, 0, 0, 0.33136439323425293, 0.125, 0, 0.9890174865722656]\n"
     ]
    },
    {
     "name": "stderr",
     "output_type": "stream",
     "text": [
      "Visualizing frames:  61%|██████▏   | 92/150 [00:09<00:06,  9.18it/s]"
     ]
    },
    {
     "name": "stdout",
     "output_type": "stream",
     "text": [
      "2023-10-25 17:26:29 [Beast]- hello\n",
      "[{'label': 'neutral', 'score': 0.991295576095581}]\n",
      "Average scores: [0.05113761126995087, 0, 0, 0.16568219661712646, 1, 0, 0.4945087432861328]\n",
      "2023-10-25 17:26:30 [starkrush]- @SistaJaine NEVER SEE A MUSLIM AT TOYSRUS EVER.\n",
      "[{'label': 'sadness', 'score': 0.4374036192893982}]\n",
      "Average scores: [0.025568805634975433, 0, 0, 0.08284109830856323, 0.5, 0.4374036192893982, 0.2472543716430664]\n"
     ]
    },
    {
     "name": "stderr",
     "output_type": "stream",
     "text": [
      "Visualizing frames:  80%|████████  | 120/150 [00:13<00:03,  9.19it/s]"
     ]
    },
    {
     "name": "stdout",
     "output_type": "stream",
     "text": [
      "2023-10-25 17:26:32 [Alexandra Grant Smirk Smile Swallowed a Canary]-  Screen International Security Systems, is founded by an Israeli and used by Hollywood A listers as false security. They are satanic Havana agents probably in secret. Linked to Keanu Reeves. Inspect.\n",
      "[{'label': 'neutral', 'score': 0.9878227710723877}]\n",
      "Average scores: [0, 0, 0, 0.041420549154281616, 1, 0.2187018096446991, 0.1236271858215332]\n"
     ]
    },
    {
     "name": "stderr",
     "output_type": "stream",
     "text": [
      "Visualizing frames: 100%|██████████| 150/150 [00:16<00:00,  9.22it/s]\n",
      "Visualizing frames:  32%|███▏      | 48/150 [00:05<00:11,  9.13it/s]"
     ]
    },
    {
     "name": "stdout",
     "output_type": "stream",
     "text": [
      "2023-10-25 17:26:41 [Paraglidecrete]- get a gps\n",
      "[{'label': 'neutral', 'score': 0.9831972122192383}]\n",
      "Average scores: [0, 0, 0, 0, 1, 0.10935090482234955, 0.0618135929107666]\n"
     ]
    },
    {
     "name": "stderr",
     "output_type": "stream",
     "text": [
      "Visualizing frames:  39%|███▊      | 58/150 [00:06<00:09,  9.26it/s]"
     ]
    },
    {
     "name": "stdout",
     "output_type": "stream",
     "text": [
      "2023-10-25 17:26:42 [R L]- no fuel for terrorists\n",
      "[{'label': 'neutral', 'score': 0.8826184868812561}]\n",
      "Average scores: [0, 0, 0, 0, 1, 0.054675452411174774, 0]\n"
     ]
    },
    {
     "name": "stderr",
     "output_type": "stream",
     "text": [
      "Visualizing frames:  65%|██████▍   | 97/150 [00:10<00:05,  9.35it/s]"
     ]
    },
    {
     "name": "stdout",
     "output_type": "stream",
     "text": [
      "2023-10-25 17:26:46 [843Amy]- Yay Bacon :bacon: \n",
      "[{'label': 'joy', 'score': 0.9457906484603882}]\n",
      "Average scores: [0, 0, 0, 0.9457906484603882, 0.5, 0.027337726205587387, 0]\n",
      "2023-10-25 17:26:45 [Murlin]- The Russians are rebuilding Mariupol and paying pensions to the local population and other social benefits. Of course, not everything is done as it should be, but we try.\n",
      "[{'label': 'neutral', 'score': 0.9709950685501099}]\n",
      "Average scores: [0, 0, 0, 0.4728953242301941, 1, 0, 0]\n"
     ]
    },
    {
     "name": "stderr",
     "output_type": "stream",
     "text": [
      "Visualizing frames:  71%|███████▏  | 107/150 [00:11<00:04,  9.19it/s]"
     ]
    },
    {
     "name": "stdout",
     "output_type": "stream",
     "text": [
      "2023-10-25 17:26:47 [suman peng]- @ rod camp :ok_hand:\n",
      "[{'label': 'neutral', 'score': 0.9872547388076782}]\n",
      "Average scores: [0, 0, 0, 0.23644766211509705, 1, 0, 0]\n"
     ]
    },
    {
     "name": "stderr",
     "output_type": "stream",
     "text": [
      "Visualizing frames:  78%|███████▊  | 117/150 [00:12<00:03,  9.20it/s]"
     ]
    },
    {
     "name": "stdout",
     "output_type": "stream",
     "text": [
      "2023-10-25 17:26:49 [Shane Corning]- I have shot rifle since before I was teenager yes. SINCE I was child yes. \n",
      "[{'label': 'neutral', 'score': 0.9272587895393372}]\n",
      "Average scores: [0, 0, 0, 0.11822383105754852, 1, 0, 0]\n"
     ]
    },
    {
     "name": "stderr",
     "output_type": "stream",
     "text": [
      "Visualizing frames:  84%|████████▍ | 126/150 [00:13<00:02,  9.18it/s]"
     ]
    },
    {
     "name": "stdout",
     "output_type": "stream",
     "text": [
      "2023-10-25 17:26:49 [Wayz ezY]- :rolling_on_the_floor_laughing::face_with_tears_of_joy:\n",
      "[{'label': 'joy', 'score': 0.9839805960655212}]\n",
      "Average scores: [0, 0, 0, 1, 0.5, 0, 0]\n"
     ]
    },
    {
     "name": "stderr",
     "output_type": "stream",
     "text": [
      "Visualizing frames: 100%|██████████| 150/150 [00:16<00:00,  9.21it/s]\n",
      "Visualizing frames:  23%|██▎       | 35/150 [00:03<00:12,  9.16it/s]"
     ]
    },
    {
     "name": "stdout",
     "output_type": "stream",
     "text": [
      "2023-10-25 17:26:56 [Alex]- @Dash with class , Indeed we all must come together speaking of peace, the trolls noise by the week effecting the week. peace.\n",
      "[{'label': 'joy', 'score': 0.6219706535339355}]\n",
      "Average scores: [0, 0, 0, 1, 0.25, 0, 0]\n"
     ]
    },
    {
     "name": "stderr",
     "output_type": "stream",
     "text": [
      "Visualizing frames:  51%|█████     | 76/150 [00:08<00:08,  9.22it/s]"
     ]
    },
    {
     "name": "stdout",
     "output_type": "stream",
     "text": [
      "2023-10-25 17:27:00 [Wawa Shiap]- Israel supporter only spread fake and blasphemy and force their claim basic on holy book, and dont have hystory and fact:zany_face::zany_face::zany_face::zany_face:\n",
      "[{'label': 'anger', 'score': 0.5128573775291443}]\n",
      "Average scores: [0.5128573775291443, 0, 0, 0.5, 0.125, 0, 0]\n"
     ]
    },
    {
     "name": "stderr",
     "output_type": "stream",
     "text": [
      "Visualizing frames:  52%|█████▏    | 78/150 [00:08<00:07,  9.23it/s]"
     ]
    },
    {
     "name": "stdout",
     "output_type": "stream",
     "text": [
      "2023-10-25 17:27:00 [kave]- GOODBYE PALESTINE. :grinning_squinting_face:\n",
      "[{'label': 'neutral', 'score': 0.6638472676277161}]\n",
      "Average scores: [0.25642868876457214, 0, 0, 0.25, 0.7888472676277161, 0, 0]\n"
     ]
    },
    {
     "name": "stderr",
     "output_type": "stream",
     "text": [
      "Visualizing frames:  56%|█████▌    | 84/150 [00:09<00:07,  9.15it/s]"
     ]
    },
    {
     "name": "stdout",
     "output_type": "stream",
     "text": [
      "2023-10-25 17:27:01 [Paperchase 4eva]- Fear ye not, neither be afraid: have not I told thee from that time, and have declared it? ye are even my witnesses. Is there a God beside me? yea, there is no God; I know not any. Isaiah 44;8\n",
      "[{'label': 'fear', 'score': 0.5984241366386414}]\n",
      "Average scores: [0.12821434438228607, 0, 0.5984241366386414, 0.125, 0.39442363381385803, 0, 0]\n"
     ]
    },
    {
     "name": "stderr",
     "output_type": "stream",
     "text": [
      "Visualizing frames:  82%|████████▏ | 123/150 [00:13<00:02,  9.28it/s]"
     ]
    },
    {
     "name": "stdout",
     "output_type": "stream",
     "text": [
      "2023-10-25 17:27:04 [Imran]- Rationale voice from UN … “The attacks by Hamas did not happen in a vacuum …” - UNSG. *THIS GENOCIDE AND APARTHEID SHOULD STOP*\n",
      "[{'label': 'neutral', 'score': 0.680151641368866}]\n",
      "Average scores: [0.06410717219114304, 0, 0.2992120683193207, 0.0625, 1, 0, 0]\n"
     ]
    },
    {
     "name": "stderr",
     "output_type": "stream",
     "text": [
      "Visualizing frames: 100%|██████████| 150/150 [00:16<00:00,  9.24it/s]\n",
      "Visualizing frames:   1%|▏         | 2/150 [00:00<00:16,  9.19it/s]"
     ]
    },
    {
     "name": "stdout",
     "output_type": "stream",
     "text": [
      "2023-10-25 17:27:07 [Anonymous Artist]- they just want to kill the poor, and the leaders give them an excuse...their judgement day will come\n",
      "[{'label': 'anger', 'score': 0.6513022184371948}]\n",
      "Average scores: [0.7154093906283379, 0, 0.14960603415966034, 0, 0.5, 0, 0]\n"
     ]
    },
    {
     "name": "stderr",
     "output_type": "stream",
     "text": [
      "Visualizing frames:  34%|███▍      | 51/150 [00:05<00:10,  9.24it/s]"
     ]
    },
    {
     "name": "stdout",
     "output_type": "stream",
     "text": [
      "2023-10-25 17:27:14 [SlientWolf]- 2 gross evil actions\n",
      "[{'label': 'disgust', 'score': 0.5785326957702637}]\n",
      "Average scores: [0.35770469531416893, 0.5785326957702637, 0.07480301707983017, 0, 0.25, 0, 0]\n"
     ]
    },
    {
     "name": "stderr",
     "output_type": "stream",
     "text": [
      "Visualizing frames:  54%|█████▍    | 81/150 [00:08<00:07,  9.25it/s]"
     ]
    },
    {
     "name": "stdout",
     "output_type": "stream",
     "text": [
      "2023-10-25 17:27:17 [Talha Khan]- Cs 1.6 Pro\n",
      "[{'label': 'neutral', 'score': 0.9898720383644104}]\n",
      "Average scores: [0.17885234765708447, 0.28926634788513184, 0.037401508539915085, 0, 1, 0, 0]\n"
     ]
    },
    {
     "name": "stderr",
     "output_type": "stream",
     "text": [
      "Visualizing frames:  67%|██████▋   | 100/150 [00:10<00:05,  9.23it/s]"
     ]
    },
    {
     "name": "stdout",
     "output_type": "stream",
     "text": [
      "2023-10-25 17:27:19 [David Berg]- Free The Donkeys!! No fuel for you!!\n",
      "[{'label': 'anger', 'score': 0.9759200811386108}]\n",
      "Average scores: [1, 0.14463317394256592, 0, 0, 0.5, 0, 0]\n",
      "2023-10-25 17:27:19 [Tabassum Iman]- White Americans stole USA and Israel stealing Palestine. Same thing. We don't have a $3 billion per day miltary...and you punish severly for small rifle. Just like you treated the native Americans!!!\n",
      "[{'label': 'anger', 'score': 0.9351134300231934}]\n",
      "Average scores: [1, 0.07231658697128296, 0, 0, 0.25, 0, 0]\n"
     ]
    },
    {
     "name": "stderr",
     "output_type": "stream",
     "text": [
      "Visualizing frames:  86%|████████▌ | 129/150 [00:13<00:02,  9.27it/s]"
     ]
    },
    {
     "name": "stdout",
     "output_type": "stream",
     "text": [
      "2023-10-25 17:27:21 [rolsy h]- Where’s Hezbolah \n",
      "[{'label': 'neutral', 'score': 0.9815424084663391}]\n",
      "Average scores: [0.5, 0.03615829348564148, 0, 0, 1, 0, 0]\n"
     ]
    },
    {
     "name": "stderr",
     "output_type": "stream",
     "text": [
      "Visualizing frames:  93%|█████████▎| 139/150 [00:15<00:01,  9.22it/s]"
     ]
    },
    {
     "name": "stdout",
     "output_type": "stream",
     "text": [
      "2023-10-25 17:27:22 [Abdul Aziz]- rosly\" Israel yahudi stop barbaric attacks the gaza people?\n",
      "[{'label': 'anger', 'score': 0.48694220185279846}]\n",
      "Average scores: [0.9869422018527985, 0, 0, 0, 0.5, 0, 0]\n"
     ]
    },
    {
     "name": "stderr",
     "output_type": "stream",
     "text": [
      "Visualizing frames: 100%|██████████| 150/150 [00:16<00:00,  9.01it/s]\n",
      "Visualizing frames:   3%|▎         | 5/150 [00:00<00:15,  9.32it/s]"
     ]
    },
    {
     "name": "stdout",
     "output_type": "stream",
     "text": [
      "2023-10-25 17:27:25 [Ministerio Metodista Hispano St.Andrews;Cullman]- Free Palestine from Hamas! #Strong4Israel\n",
      "[{'label': 'fear', 'score': 0.6884332895278931}]\n",
      "Average scores: [0.49347110092639923, 0, 0.6884332895278931, 0, 0.25, 0, 0]\n"
     ]
    },
    {
     "name": "stderr",
     "output_type": "stream",
     "text": [
      "Visualizing frames:  36%|███▌      | 54/150 [00:05<00:10,  9.21it/s]"
     ]
    },
    {
     "name": "stdout",
     "output_type": "stream",
     "text": [
      "2023-10-25 17:27:31 [Rohit]- NETANYAHU SON YAIR NETANYAHU ENJOYING AT MIAMI BEACH :face_with_tears_of_joy::face_with_tears_of_joy:\n",
      "[{'label': 'joy', 'score': 0.9487340450286865}]\n",
      "Average scores: [0.24673555046319962, 0, 0.34421664476394653, 0.9487340450286865, 0.125, 0, 0]\n"
     ]
    },
    {
     "name": "stderr",
     "output_type": "stream",
     "text": [
      "Visualizing frames:  49%|████▉     | 74/150 [00:08<00:08,  9.27it/s]"
     ]
    },
    {
     "name": "stdout",
     "output_type": "stream",
     "text": [
      "2023-10-25 17:27:32 [Mumble Bee]- this is exactly what Israel wants and promised.\n",
      "[{'label': 'neutral', 'score': 0.9668267965316772}]\n",
      "Average scores: [0.12336777523159981, 0, 0.17210832238197327, 0.47436702251434326, 1, 0, 0]\n"
     ]
    },
    {
     "name": "stderr",
     "output_type": "stream",
     "text": [
      "Visualizing frames:  62%|██████▏   | 93/150 [00:10<00:06,  9.30it/s]"
     ]
    },
    {
     "name": "stdout",
     "output_type": "stream",
     "text": [
      "2023-10-25 17:27:35 [Don’t jab the children 4:125 #pfizerknew]- be careful they might declare the un a terrorist organization\n",
      "[{'label': 'neutral', 'score': 0.5271201133728027}]\n",
      "Average scores: [0.061683887615799904, 0, 0.08605416119098663, 0.23718351125717163, 1, 0, 0]\n"
     ]
    },
    {
     "name": "stderr",
     "output_type": "stream",
     "text": [
      "Visualizing frames:  69%|██████▊   | 103/150 [00:11<00:05,  9.18it/s]"
     ]
    },
    {
     "name": "stdout",
     "output_type": "stream",
     "text": [
      "2023-10-25 17:27:36 [WorldAnalyst]- No Vaseline!!!\n",
      "[{'label': 'anger', 'score': 0.8369973301887512}]\n",
      "Average scores: [0.8986812178045511, 0, 0.04302708059549332, 0.11859175562858582, 0.5, 0, 0]\n"
     ]
    },
    {
     "name": "stderr",
     "output_type": "stream",
     "text": [
      "Visualizing frames:  89%|████████▊ | 133/150 [00:14<00:01,  9.24it/s]"
     ]
    },
    {
     "name": "stdout",
     "output_type": "stream",
     "text": [
      "2023-10-25 17:27:38 [Vick]- Send me free fuel\n",
      "[{'label': 'neutral', 'score': 0.9876163601875305}]\n",
      "Average scores: [0.44934060890227556, 0, 0, 0.05929587781429291, 1, 0, 0]\n",
      "2023-10-25 17:27:38 [S.M.H.M]- Russia has proved Iran to be a treacherous friend. We woulnd't let him use us as a card. Russia will be held responsible and investigation is on the plan \n",
      "[{'label': 'neutral', 'score': 0.797635555267334}]\n",
      "Average scores: [0.22467030445113778, 0, 0, 0, 1, 0, 0]\n",
      "2023-10-25 17:27:38 [Lal Touthang]- how long are they gonna say on the verge of collapse but still function after all these days:rolling_on_the_floor_laughing:\n",
      "[{'label': 'neutral', 'score': 0.7276549935340881}]\n",
      "Average scores: [0.11233515222556889, 0, 0, 0, 1, 0, 0]\n",
      "2023-10-25 17:27:39 [Norm J.]- The tunnels have power\n",
      "[{'label': 'neutral', 'score': 0.9863563776016235}]\n",
      "Average scores: [0.056167576112784445, 0, 0, 0, 1, 0, 0]\n"
     ]
    },
    {
     "name": "stderr",
     "output_type": "stream",
     "text": [
      "Visualizing frames:  95%|█████████▍| 142/150 [00:15<00:00,  9.13it/s]"
     ]
    },
    {
     "name": "stdout",
     "output_type": "stream",
     "text": [
      "2023-10-25 17:27:40 [Rain Tarrant]- War sucks\n",
      "[{'label': 'anger', 'score': 0.35366666316986084}]\n",
      "Average scores: [0.4098342392826453, 0, 0, 0, 0.5, 0, 0]\n"
     ]
    },
    {
     "name": "stderr",
     "output_type": "stream",
     "text": [
      "Visualizing frames: 100%|██████████| 150/150 [00:16<00:00,  9.22it/s]\n",
      "Visualizing frames:   1%|▏         | 2/150 [00:00<00:15,  9.36it/s]"
     ]
    },
    {
     "name": "stdout",
     "output_type": "stream",
     "text": [
      "2023-10-25 17:27:42 [Jack Field]- PALESTINE IS A DONE DEAL\n",
      "[{'label': 'neutral', 'score': 0.4591194987297058}]\n",
      "Average scores: [0.20491711964132264, 0, 0, 0, 0.9591194987297058, 0, 0]\n"
     ]
    },
    {
     "name": "stderr",
     "output_type": "stream",
     "text": [
      "Visualizing frames:  27%|██▋       | 41/150 [00:04<00:11,  9.20it/s]"
     ]
    },
    {
     "name": "stdout",
     "output_type": "stream",
     "text": [
      "2023-10-25 17:27:46 [Alexandra Grant Smirk Smile Swallowed a Canary]- A Bryan Kofron spoke about Zionist owned specialist of havana and psyops torture located in Seattle. May be part of Screen International Security Systems. Understand that they pick on innocent & weak.\n",
      "[{'label': 'neutral', 'score': 0.9884905815124512}]\n",
      "Average scores: [0.10245855982066132, 0, 0, 0, 1, 0, 0]\n"
     ]
    },
    {
     "name": "stderr",
     "output_type": "stream",
     "text": [
      "Visualizing frames:  34%|███▍      | 51/150 [00:05<00:10,  9.15it/s]"
     ]
    },
    {
     "name": "stdout",
     "output_type": "stream",
     "text": [
      "2023-10-25 17:27:47 [Plan Daniel Kariuki Waweru .]- IN\n",
      "[{'label': 'neutral', 'score': 0.9678857922554016}]\n",
      "Average scores: [0.05122927991033066, 0, 0, 0, 1, 0, 0]\n"
     ]
    },
    {
     "name": "stderr",
     "output_type": "stream",
     "text": [
      "Visualizing frames:  47%|████▋     | 70/150 [00:07<00:08,  9.16it/s]"
     ]
    },
    {
     "name": "stdout",
     "output_type": "stream",
     "text": [
      "2023-10-25 17:27:49 [steady ]- Isreal should go occupy land in the US instead, don't take on the oppressed and the people with no power. take on Nation of your size :grinning_squinting_face:\n",
      "[{'label': 'neutral', 'score': 0.4767121374607086}]\n",
      "Average scores: [0.02561463995516533, 0, 0, 0, 1, 0, 0]\n"
     ]
    },
    {
     "name": "stderr",
     "output_type": "stream",
     "text": [
      "Visualizing frames:  93%|█████████▎| 139/150 [00:15<00:01,  9.29it/s]"
     ]
    },
    {
     "name": "stdout",
     "output_type": "stream",
     "text": [
      "2023-10-25 17:27:57 [Akedit Alewei]- I support Palestinians people\n",
      "[{'label': 'neutral', 'score': 0.5270242691040039}]\n",
      "Average scores: [0, 0, 0, 0, 1, 0, 0]\n"
     ]
    },
    {
     "name": "stderr",
     "output_type": "stream",
     "text": [
      "Visualizing frames:  99%|█████████▉| 149/150 [00:16<00:00,  9.25it/s]"
     ]
    },
    {
     "name": "stdout",
     "output_type": "stream",
     "text": [
      "2023-10-25 17:27:58 [Absolut_Jay]- I know who is going to win WW3! The one who gets the spider-cats, the so-called illuminated souls, the underground trend-setters, like conspiracy theorists, artists, the light-workers, cosplayers,etc.\n",
      "[{'label': 'joy', 'score': 0.7753987312316895}]\n",
      "Average scores: [0, 0, 0, 0.7753987312316895, 0.5, 0, 0]\n"
     ]
    },
    {
     "name": "stderr",
     "output_type": "stream",
     "text": [
      "Visualizing frames: 100%|██████████| 150/150 [00:16<00:00,  9.22it/s]\n",
      "Visualizing frames:   5%|▌         | 8/150 [00:00<00:15,  9.19it/s]"
     ]
    },
    {
     "name": "stdout",
     "output_type": "stream",
     "text": [
      "2023-10-25 17:27:58 [Alex]- @Dash with class , Indeed we all must come together speaking of peace, the trolls noise by the weak effecting the weak. peace.\n",
      "[{'label': 'joy', 'score': 0.6634863615036011}]\n",
      "Average scores: [0, 0, 0, 1, 0.25, 0, 0]\n"
     ]
    },
    {
     "name": "stderr",
     "output_type": "stream",
     "text": [
      "Visualizing frames:  12%|█▏        | 18/150 [00:01<00:14,  9.16it/s]"
     ]
    },
    {
     "name": "stdout",
     "output_type": "stream",
     "text": [
      "2023-10-25 17:27:59 [DoubleOneFour]- @NVRMND THE MAKER If you think so you need to clean yourself from the deep down. It isn't the eyes that are blind, it's the heart.\n",
      "[{'label': 'neutral', 'score': 0.6920329928398132}]\n",
      "Average scores: [0, 0, 0, 0.5, 0.9420329928398132, 0, 0]\n"
     ]
    },
    {
     "name": "stderr",
     "output_type": "stream",
     "text": [
      "Visualizing frames:  19%|█▊        | 28/150 [00:03<00:13,  9.24it/s]"
     ]
    },
    {
     "name": "stdout",
     "output_type": "stream",
     "text": [
      "2023-10-25 17:28:00 [Jesus ™]- The first casualty of war is always the truth \n",
      "[{'label': 'neutral', 'score': 0.8582817316055298}]\n",
      "Average scores: [0, 0, 0, 0.25, 1, 0, 0]\n"
     ]
    },
    {
     "name": "stderr",
     "output_type": "stream",
     "text": [
      "Visualizing frames:  31%|███▏      | 47/150 [00:05<00:11,  9.16it/s]"
     ]
    },
    {
     "name": "stdout",
     "output_type": "stream",
     "text": [
      "2023-10-25 17:28:02 [Paperchase 4eva]- Fear ye not, neither be afraid: have not I told thee from that time, and have declared it? ye are even my witnesses. Is there a God beside me? yea, there is no God; I know not any. Isaiah 44;8\n",
      "[{'label': 'fear', 'score': 0.5984241366386414}]\n",
      "Average scores: [0, 0, 0.5984241366386414, 0.125, 0.5, 0, 0]\n"
     ]
    },
    {
     "name": "stderr",
     "output_type": "stream",
     "text": [
      "Visualizing frames:  58%|█████▊    | 87/150 [00:09<00:06,  9.24it/s]"
     ]
    },
    {
     "name": "stdout",
     "output_type": "stream",
     "text": [
      "2023-10-25 17:28:07 [Mr ORN]- path of those whom you have favoured. not the path of those who have earned your anger.\n",
      "[{'label': 'anger', 'score': 0.9054120182991028}]\n",
      "Average scores: [0.9054120182991028, 0, 0.2992120683193207, 0.0625, 0.25, 0, 0]\n"
     ]
    },
    {
     "name": "stderr",
     "output_type": "stream",
     "text": [
      "Visualizing frames:  77%|███████▋  | 116/150 [00:12<00:03,  9.27it/s]"
     ]
    },
    {
     "name": "stdout",
     "output_type": "stream",
     "text": [
      "2023-10-25 17:28:09 [Ss Ar]- Wati Kurniawan, being n Indian you all do not know how British established Israel. most indian who comments here you are using Qatar or work for Islamic country. \n",
      "[{'label': 'neutral', 'score': 0.97430020570755}]\n",
      "Average scores: [0.4527060091495514, 0, 0.14960603415966034, 0, 1, 0, 0]\n"
     ]
    },
    {
     "name": "stderr",
     "output_type": "stream",
     "text": [
      "Visualizing frames:  84%|████████▍ | 126/150 [00:13<00:02,  9.29it/s]"
     ]
    },
    {
     "name": "stdout",
     "output_type": "stream",
     "text": [
      "2023-10-25 17:28:11 [seattle wa.]- Arafat :body-blue-raised-arms::hand-orange-covering-eyes:\n",
      "[{'label': 'neutral', 'score': 0.8976266384124756}]\n",
      "Average scores: [0.2263530045747757, 0, 0.07480301707983017, 0, 1, 0, 0]\n"
     ]
    },
    {
     "name": "stderr",
     "output_type": "stream",
     "text": [
      "Visualizing frames:  91%|█████████ | 136/150 [00:14<00:01,  9.23it/s]"
     ]
    },
    {
     "name": "stdout",
     "output_type": "stream",
     "text": [
      "2023-10-25 17:28:12 [Garmonbozia]- Perpetually only 24 hours of power left \n",
      "[{'label': 'neutral', 'score': 0.9099329113960266}]\n",
      "Average scores: [0.11317650228738785, 0, 0.037401508539915085, 0, 1, 0, 0]\n"
     ]
    },
    {
     "name": "stderr",
     "output_type": "stream",
     "text": [
      "Visualizing frames:  97%|█████████▋| 146/150 [00:15<00:00,  9.27it/s]"
     ]
    },
    {
     "name": "stdout",
     "output_type": "stream",
     "text": [
      "2023-10-25 17:28:12 [fatiha zeghli]- STOP STOP MON FRERE MON SOEUCR GAZA PARTNERS ALLAH AMINÉ :loudly_crying_face::loudly_crying_face:🇦🇪🇦🇪🇦🇪:broken_heart::broken_heart::index_pointing_up::index_pointing_up::victory_hand::victory_hand::pouting_face::pouting_face::pouting_face::no_entry::no_entry::no_entry::folded_hands::folded_hands::folded_hands:\n",
      "[{'label': 'sadness', 'score': 0.9894411563873291}]\n",
      "Average scores: [0.056588251143693924, 0, 0, 0, 0.5, 0.9894411563873291, 0]\n",
      "2023-10-25 17:28:12 [Priyantha Pushpakumara]- END of religion terror well done israel\n",
      "[{'label': 'neutral', 'score': 0.7656400799751282}]\n",
      "Average scores: [0, 0, 0, 0, 1, 0.49472057819366455, 0]\n"
     ]
    },
    {
     "name": "stderr",
     "output_type": "stream",
     "text": [
      "Visualizing frames: 100%|██████████| 150/150 [00:16<00:00,  9.22it/s]\n",
      "Visualizing frames:   3%|▎         | 5/150 [00:00<00:15,  9.21it/s]"
     ]
    },
    {
     "name": "stdout",
     "output_type": "stream",
     "text": [
      "2023-10-25 17:28:14 [Wayz ezY]- :rolling_on_the_floor_laughing::cross_mark_button:\n",
      "[{'label': 'neutral', 'score': 0.9073677062988281}]\n",
      "Average scores: [0, 0, 0, 0, 1, 0.24736028909683228, 0]\n"
     ]
    },
    {
     "name": "stderr",
     "output_type": "stream",
     "text": [
      "Visualizing frames:  10%|█         | 15/150 [00:01<00:14,  9.20it/s]"
     ]
    },
    {
     "name": "stdout",
     "output_type": "stream",
     "text": [
      "2023-10-25 17:28:16 [SistaJaine]- @starkrush .... Well, the fact that every Oisraeli has to go into the army regardless of male or female tells the world something..\n",
      "[{'label': 'joy', 'score': 0.5769065022468567}]\n",
      "Average scores: [0, 0, 0, 0.5769065022468567, 0.5, 0.12368014454841614, 0]\n"
     ]
    },
    {
     "name": "stderr",
     "output_type": "stream",
     "text": [
      "Visualizing frames:  36%|███▌      | 54/150 [00:05<00:10,  9.17it/s]"
     ]
    },
    {
     "name": "stdout",
     "output_type": "stream",
     "text": [
      "2023-10-25 17:28:19 [flashyFlavius]- gaza people not grateful for all the generosity of Israel\n",
      "[{'label': 'neutral', 'score': 0.808235764503479}]\n",
      "Average scores: [0, 0, 0, 0.28845325112342834, 1, 0.06184007227420807, 0]\n"
     ]
    },
    {
     "name": "stderr",
     "output_type": "stream",
     "text": [
      "Visualizing frames:  43%|████▎     | 64/150 [00:06<00:09,  9.22it/s]"
     ]
    },
    {
     "name": "stdout",
     "output_type": "stream",
     "text": [
      "2023-10-25 17:28:20 [Judy Wambui]- Any grown up here?\n",
      "[{'label': 'neutral', 'score': 0.9143895506858826}]\n",
      "Average scores: [0, 0, 0, 0.14422662556171417, 1, 0, 0]\n",
      "2023-10-25 17:28:20 [Mark Undpfennig]- @Murlin: And our earth is flat.\n",
      "[{'label': 'neutral', 'score': 0.9670567512512207}]\n",
      "Average scores: [0, 0, 0, 0.07211331278085709, 1, 0, 0]\n"
     ]
    },
    {
     "name": "stderr",
     "output_type": "stream",
     "text": [
      "Visualizing frames:  56%|█████▌    | 84/150 [00:09<00:07,  9.14it/s]"
     ]
    },
    {
     "name": "stdout",
     "output_type": "stream",
     "text": [
      "2023-10-25 17:28:23 [Gareth Clarke]- There is always \"HoPe\"!\n",
      "[{'label': 'neutral', 'score': 0.4536837041378021}]\n",
      "Average scores: [0, 0, 0, 0.03605665639042854, 1, 0, 0]\n"
     ]
    },
    {
     "name": "stderr",
     "output_type": "stream",
     "text": [
      "Visualizing frames:  75%|███████▌  | 113/150 [00:12<00:03,  9.30it/s]"
     ]
    },
    {
     "name": "stdout",
     "output_type": "stream",
     "text": [
      "2023-10-25 17:28:26 [Rod Camp]- FACTS? Gaza was freed in 2005 :beaming_face_with_smiling_eyes: They voted in terrorists in 2011 :face_with_rolling_eyes: Big mistake!\n",
      "[{'label': 'anger', 'score': 0.5658755898475647}]\n",
      "Average scores: [0.5658755898475647, 0, 0, 0, 0.5, 0, 0]\n"
     ]
    },
    {
     "name": "stderr",
     "output_type": "stream",
     "text": [
      "Visualizing frames:  89%|████████▊ | 133/150 [00:14<00:01,  9.20it/s]"
     ]
    },
    {
     "name": "stdout",
     "output_type": "stream",
     "text": [
      "2023-10-25 17:28:28 [billy Caldy]- no\n",
      "[{'label': 'neutral', 'score': 0.5541446805000305}]\n",
      "Average scores: [0.28293779492378235, 0, 0, 0, 1, 0, 0]\n",
      "2023-10-25 17:28:28 [Israel was the one behind the covid19 plandemic 💯]- 🇮🇱 god chosen :clown_face::clown_face: they shot them self's in the foot and triggered aramageddon :rolling_on_the_floor_laughing::winking_face:\n",
      "[{'label': 'joy', 'score': 0.9258337020874023}]\n",
      "Average scores: [0.14146889746189117, 0, 0, 0.9258337020874023, 0.5, 0, 0]\n"
     ]
    },
    {
     "name": "stderr",
     "output_type": "stream",
     "text": [
      "Visualizing frames: 100%|██████████| 150/150 [00:16<00:00,  9.21it/s]\n",
      "Visualizing frames:  15%|█▍        | 22/150 [00:02<00:13,  9.27it/s]"
     ]
    },
    {
     "name": "stdout",
     "output_type": "stream",
     "text": [
      "2023-10-25 17:28:31 [FASHION CITY METAVERSE]- The faster Israel gives back the land that is owned by Palestine people that israel illegally occupied ALL of it the faster peace can be made for the world -opinion think about it\n",
      "[{'label': 'joy', 'score': 0.637841522693634}]\n",
      "Average scores: [0.07073444873094559, 0, 0, 1, 0.25, 0, 0]\n"
     ]
    },
    {
     "name": "stderr",
     "output_type": "stream",
     "text": [
      "Visualizing frames:  73%|███████▎  | 110/150 [00:11<00:04,  9.19it/s]"
     ]
    },
    {
     "name": "stdout",
     "output_type": "stream",
     "text": [
      "2023-10-25 17:28:42 [July4]- #Stompin'Tom 66 . i think there is property issue. no sky dady issue. \n",
      "[{'label': 'fear', 'score': 0.6454209685325623}]\n",
      "Average scores: [0.035367224365472794, 0, 0.6454209685325623, 0.5, 0.125, 0, 0]\n"
     ]
    },
    {
     "name": "stderr",
     "output_type": "stream",
     "text": [
      "Visualizing frames:  79%|███████▉  | 119/150 [00:12<00:03,  9.23it/s]"
     ]
    },
    {
     "name": "stdout",
     "output_type": "stream",
     "text": [
      "2023-10-25 17:28:42 [Ali Khan]- what happened to Kim jong un?\n",
      "[{'label': 'surprise', 'score': 0.5029292702674866}]\n",
      "Average scores: [0, 0, 0.32271048426628113, 0.25, 0.0625, 0, 0.5029292702674866]\n"
     ]
    },
    {
     "name": "stderr",
     "output_type": "stream",
     "text": [
      "Visualizing frames:  86%|████████▌ | 129/150 [00:13<00:02,  9.18it/s]"
     ]
    },
    {
     "name": "stdout",
     "output_type": "stream",
     "text": [
      "2023-10-25 17:28:44 [Mohamednur Sheikh]- those who voted NO.to the Bill by UN are Israel, USA,US German, Canada,France\n",
      "[{'label': 'neutral', 'score': 0.9699262380599976}]\n",
      "Average scores: [0, 0, 0.16135524213314056, 0.125, 1, 0, 0.2514646351337433]\n"
     ]
    },
    {
     "name": "stderr",
     "output_type": "stream",
     "text": [
      "Visualizing frames:  93%|█████████▎| 139/150 [00:15<00:01,  9.19it/s]"
     ]
    },
    {
     "name": "stdout",
     "output_type": "stream",
     "text": [
      "2023-10-25 17:28:45 [Zr Perrotte]- @Paperchase 4eva The Muslim motto is \"No god beside the God (Exalted and Superior). Moses, Jesus and Muhammad (pbut) are the Messengers of the God\"\n",
      "[{'label': 'neutral', 'score': 0.8418376445770264}]\n",
      "Average scores: [0, 0, 0.08067762106657028, 0.0625, 1, 0, 0.12573231756687164]\n"
     ]
    },
    {
     "name": "stderr",
     "output_type": "stream",
     "text": [
      "Visualizing frames:  99%|█████████▉| 149/150 [00:16<00:00,  9.21it/s]"
     ]
    },
    {
     "name": "stdout",
     "output_type": "stream",
     "text": [
      "2023-10-25 17:28:46 [פסח שטמלר]- How many Israelis are intiminate\n",
      "[{'label': 'surprise', 'score': 0.6281096339225769}]\n",
      "Average scores: [0, 0, 0.04033881053328514, 0, 0.5, 0, 0.7538419514894485]\n"
     ]
    },
    {
     "name": "stderr",
     "output_type": "stream",
     "text": [
      "Visualizing frames: 100%|██████████| 150/150 [00:16<00:00,  9.22it/s]\n",
      "Visualizing frames:   6%|▌         | 9/150 [00:00<00:15,  9.28it/s]"
     ]
    },
    {
     "name": "stdout",
     "output_type": "stream",
     "text": [
      "2023-10-25 17:28:47 [Jack Field]- They don't have fuel in hospitals but in tunnels there's plenty\n",
      "[{'label': 'neutral', 'score': 0.9877524375915527}]\n",
      "Average scores: [0, 0, 0, 0, 1, 0, 0.3769209757447243]\n"
     ]
    },
    {
     "name": "stderr",
     "output_type": "stream",
     "text": [
      "Visualizing frames:  12%|█▏        | 18/150 [00:01<00:14,  9.21it/s]"
     ]
    },
    {
     "name": "stdout",
     "output_type": "stream",
     "text": [
      "2023-10-25 17:28:48 [Rain Tarrant]- Poor children :(\n",
      "[{'label': 'sadness', 'score': 0.9613035917282104}]\n",
      "Average scores: [0, 0, 0, 0, 0.5, 0.9613035917282104, 0.18846048787236214]\n"
     ]
    },
    {
     "name": "stderr",
     "output_type": "stream",
     "text": [
      "Visualizing frames:  25%|██▌       | 38/150 [00:04<00:12,  9.24it/s]"
     ]
    },
    {
     "name": "stdout",
     "output_type": "stream",
     "text": [
      "2023-10-25 17:28:49 [Shakeel Ahmed]- Bravery is not killing innocent Children and women. Israel has most coward army on this planet killing innocent women and children. If the world wants peace this terrorist state must be removed\n",
      "[{'label': 'anger', 'score': 0.42462512850761414}]\n",
      "Average scores: [0.42462512850761414, 0, 0, 0, 0.25, 0.4806517958641052, 0.09423024393618107]\n"
     ]
    },
    {
     "name": "stderr",
     "output_type": "stream",
     "text": [
      "Visualizing frames:  31%|███       | 46/150 [00:04<00:11,  9.28it/s]"
     ]
    }
   ],
   "source": [
    "\n",
    "# Initial setup\n",
    "shared_data = {\n",
    "    'average_scores': [1.0, 0.0, 0.0, 0.0, 0.0, 0.0, 0.0]\n",
    "}\n",
    "\n",
    "chat = pytchat.create(video_id=\"gCNeDWCI0vo\")\n",
    "FRAMES_GENERATE = 150\n",
    "terminate_threads = False\n",
    "\n",
    "# This queue will hold the batches ready for visualization\n",
    "viz_queue = queue.Queue()\n",
    "\n",
    "\n",
    "def process_chat_message(c):\n",
    "    \"\"\"Process a chat message and update emotion scores.\"\"\"\n",
    "    print(f\"{c.datetime} [{c.author.name}]- {c.message}\")\n",
    "    result = pipe(c.message)  # Assuming pipe() returns emotion prediction\n",
    "    print(result)\n",
    "\n",
    "    detected_emotion = result[0]['label']\n",
    "\n",
    "    # Reset the counter for the detected emotion and boost its score\n",
    "    emotion_data[detected_emotion][\"count\"] = 0\n",
    "    score = result[0]['score']\n",
    "    emotion_data[detected_emotion][\"score\"] = min(1, emotion_data[detected_emotion][\"score\"] + score)\n",
    "\n",
    "    # Decay scores for other emotions and increase their counters\n",
    "    for emotion, data in emotion_data.items():\n",
    "        if emotion != detected_emotion:\n",
    "            data[\"count\"] += 1\n",
    "            if data[\"count\"] >= 5:\n",
    "                data[\"score\"] = 0\n",
    "            else:\n",
    "                data[\"score\"] *= 0.5  # or any other decay factor you prefer\n",
    "\n",
    "    # Update average scores\n",
    "    for i, emotion in enumerate(emotion_labels):\n",
    "        shared_data['average_scores'][i] = emotion_data[emotion][\"score\"]\n",
    "\n",
    "    print(\"Average scores:\", shared_data['average_scores'])\n",
    "\n",
    "\n",
    "INPUT_LENGTH = 1\n",
    "\n",
    "# Batch generation function\n",
    "def generate_new_batch():\n",
    "    \"\"\"Generate a new batch based on the current average scores.\"\"\"\n",
    "    last_frames = unnorm_out[0][-INPUT_LENGTH:]\n",
    "    norm_last_frames = normalise_generated(last_frames, max_x, min_x, max_y, min_y, max_x, min_x, max_y, min_y)\n",
    "    new_batch = [frame[:-7] + shared_data['average_scores'] for frame in norm_last_frames]\n",
    "    new_input = torch.tensor([new_batch]).to(device).float()\n",
    "\n",
    "    # Generate the new frames\n",
    "    generated = m.generate(new_input, FRAMES_GENERATE)\n",
    "    return unnormalise_list_2D(generated, max_x, min_x, max_y, min_y, max_x, min_x, max_y, min_y)\n",
    "\n",
    "# Periodic batch generation function - secs\n",
    "def generate_batches_periodically(period=2):\n",
    "    \"\"\"Periodically generate batches and put them in the visualization queue.\"\"\"\n",
    "    while True:\n",
    "        time.sleep(period)\n",
    "        unnorm_out = generate_new_batch()\n",
    "        viz_queue.put(unnorm_out)\n",
    "        \n",
    "def visualise(unnorm_out):\n",
    "    # visualize\n",
    "    visualise_skeleton(unnorm_out[0], max_x, max_y, max_frames=FRAMES_GENERATE,save = False,save_path=None,prefix=f'adam_{EPOCHS}_coord_switchhappytodisgust',train_seed=train_seed,delta=False,destroy=False)\n",
    "\n",
    "# Visualization thread\n",
    "def visualise_batches():\n",
    "    while True:\n",
    "        # Wait for a new batch to be available in the queue\n",
    "        unnorm_out = viz_queue.get()\n",
    "        \n",
    "        # visualise the batch\n",
    "        visualise(unnorm_out)\n",
    "\n",
    "# Start the threads\n",
    "threading.Thread(target=visualise_batches, daemon=True).start()\n",
    "threading.Thread(target=generate_batches_periodically, args=(10,), daemon=True).start()\n",
    "\n",
    "# Process chat messages\n",
    "length = 0\n",
    "while chat.is_alive():\n",
    "    if keyboard.is_pressed('esc'):  # Check if ESC key is pressed\n",
    "        terminate_threads = True\n",
    "        break  # Exit the main loop\n",
    "    for c in chat.get().sync_items():\n",
    "        process_chat_message(c)\n",
    "        length += 1\n",
    "        \n",
    "cv2.destroyAllWindows()\n"
   ]
  },
  {
   "cell_type": "code",
   "execution_count": 45,
   "metadata": {},
   "outputs": [
    {
     "data": {
      "text/plain": [
       "'C:\\\\Users\\\\avika\\\\OneDrive\\\\Documents\\\\UAL\\\\interactive_dance_thesis\\\\Sean Lew  Low - SZA  Dance Choreography by Alexander Chung.mp4'"
      ]
     },
     "execution_count": 45,
     "metadata": {},
     "output_type": "execute_result"
    }
   ],
   "source": [
    "from pytube import YouTube\n",
    "\n",
    "yt = YouTube('https://www.youtube.com/watch?v=OlmMP2Z83Pg')\n",
    "yt.streams.filter(progressive=True, file_extension='mp4').order_by('resolution') .desc().first().download()"
   ]
  },
  {
   "cell_type": "code",
   "execution_count": 52,
   "metadata": {},
   "outputs": [
    {
     "name": "stderr",
     "output_type": "stream",
     "text": [
      "Downloading videos:   0%|          | 0/13940 [00:00<?, ?it/s]"
     ]
    },
    {
     "name": "stderr",
     "output_type": "stream",
     "text": [
      "Downloading videos:  31%|███       | 4313/13940 [17:14:42<1517:01:42, 567.29s/it]"
     ]
    }
   ],
   "source": [
    "import os\n",
    "import pandas as pd\n",
    "import subprocess\n",
    "from tqdm import tqdm\n",
    "\n",
    "def download_videos(csv_path, output_dir):\n",
    "    # Create the output directory if it does not exist\n",
    "    if not os.path.exists(output_dir):\n",
    "        os.makedirs(output_dir)\n",
    "\n",
    "    # Load the CSV file\n",
    "    df = pd.read_csv(csv_path, header=None, names=[\"video_url\"])\n",
    "\n",
    "    # Iterate over the video URLs in the CSV file\n",
    "    for index, row in tqdm(df.iterrows(), total=df.shape[0], desc=\"Downloading videos\"):\n",
    "        video_url = row['video_url']  # Assuming the column name is 'video_url'\n",
    "        video_name = os.path.basename(video_url)\n",
    "        output_path = os.path.join(output_dir, video_name)\n",
    "\n",
    "        # Download the video using wget\n",
    "        subprocess.run(['wget', '-O', output_path, video_url, '--show-progress'])\n",
    "\n",
    "if __name__ == \"__main__\":\n",
    "    csv_path = \"G:/Downloads/refined_10M_all_video_url.csv\"\n",
    "    output_dir = \"G:/UAL_Thesis/affective_computing_datasets/AIST\"\n",
    "    download_videos(csv_path, output_dir)\n"
   ]
  }
 ],
 "metadata": {
  "kernelspec": {
   "display_name": "interactive_dance_thesis",
   "language": "python",
   "name": "python3"
  },
  "language_info": {
   "codemirror_mode": {
    "name": "ipython",
    "version": 3
   },
   "file_extension": ".py",
   "mimetype": "text/x-python",
   "name": "python",
   "nbconvert_exporter": "python",
   "pygments_lexer": "ipython3",
   "version": "3.10.9"
  }
 },
 "nbformat": 4,
 "nbformat_minor": 2
}
