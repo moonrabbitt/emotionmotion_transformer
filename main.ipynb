{
 "cells": [
  {
   "cell_type": "code",
   "execution_count": 1,
   "metadata": {},
   "outputs": [
    {
     "name": "stdout",
     "output_type": "stream",
     "text": [
      "C:\\Users\\avika\\OneDrive\\Documents\\UAL\\interactive_dance_thesis\n"
     ]
    }
   ],
   "source": [
    "from model import *\n",
    "import pytchat\n"
   ]
  },
  {
   "cell_type": "code",
   "execution_count": 2,
   "metadata": {},
   "outputs": [],
   "source": [
    "# Use a pipeline as a high-level helper\n",
    "from transformers import pipeline\n",
    "\n",
    "pipe = pipeline(\"text-classification\", model=\"michellejieli/emotion_text_classifier\")\n",
    "# Load model directly\n",
    "from transformers import AutoTokenizer, AutoModelForSequenceClassification\n",
    "\n",
    "tokenizer = AutoTokenizer.from_pretrained(\"michellejieli/emotion_text_classifier\")\n",
    "model = AutoModelForSequenceClassification.from_pretrained(\"michellejieli/emotion_text_classifier\")"
   ]
  },
  {
   "cell_type": "code",
   "execution_count": 3,
   "metadata": {},
   "outputs": [
    {
     "name": "stdout",
     "output_type": "stream",
     "text": [
      "2023-10-18 20:00:52 [Рамил Мирзоев]- Эля\n",
      "[{'label': 'neutral', 'score': 0.9787927269935608}]\n",
      "2023-10-18 20:00:53 [Junaid]- H- yeah we’re everywhere i guess\n",
      "[{'label': 'neutral', 'score': 0.9099355936050415}]\n",
      "2023-10-18 20:00:54 [beyza]- Ted. how are you\n",
      "[{'label': 'neutral', 'score': 0.95458984375}]\n",
      "2023-10-18 20:00:56 [Petra Miller]- INC U\n",
      "[{'label': 'neutral', 'score': 0.9838861227035522}]\n"
     ]
    }
   ],
   "source": [
    "\n",
    "\n",
    "chat = pytchat.create(video_id=\"jfKfPfyJRdk\")\n",
    "while chat.is_alive():\n",
    "    for c in chat.get().sync_items():\n",
    "        print(f\"{c.datetime} [{c.author.name}]- {c.message}\")\n",
    "        result = pipe(c.message)\n",
    "        print(result)"
   ]
  },
  {
   "cell_type": "code",
   "execution_count": 2,
   "metadata": {},
   "outputs": [
    {
     "name": "stderr",
     "output_type": "stream",
     "text": [
      "100%|██████████| 4102/4102 [00:03<00:00, 1086.69it/s]\n"
     ]
    },
    {
     "name": "stdout",
     "output_type": "stream",
     "text": [
      "Validating interpolation...\n",
      "No errors found!\n"
     ]
    },
    {
     "name": "stderr",
     "output_type": "stream",
     "text": [
      "4102it [00:01, 2499.12it/s]\n",
      "4102it [00:01, 2397.84it/s]\n"
     ]
    },
    {
     "name": "stdout",
     "output_type": "stream",
     "text": [
      "Creating keypoint frames...\n"
     ]
    },
    {
     "name": "stderr",
     "output_type": "stream",
     "text": [
      "100%|██████████| 4102/4102 [00:03<00:00, 1039.36it/s]\n"
     ]
    },
    {
     "name": "stdout",
     "output_type": "stream",
     "text": [
      "Creating keypoint frames...\n"
     ]
    },
    {
     "name": "stderr",
     "output_type": "stream",
     "text": [
      "100%|██████████| 4102/4102 [00:03<00:00, 1149.98it/s]\n"
     ]
    },
    {
     "name": "stdout",
     "output_type": "stream",
     "text": [
      "Validating length of dkp_frames\n",
      "Validating length of kp_frames\n",
      "Adding deltas to frames...\n"
     ]
    },
    {
     "name": "stderr",
     "output_type": "stream",
     "text": [
      "4102it [00:03, 1110.06it/s]\n"
     ]
    },
    {
     "name": "stdout",
     "output_type": "stream",
     "text": [
      "Validating length of data after delta\n",
      "Adding emotions to frames...\n"
     ]
    },
    {
     "name": "stderr",
     "output_type": "stream",
     "text": [
      "100%|██████████| 4102/4102 [00:00<00:00, 9863.41it/s]\n"
     ]
    },
    {
     "name": "stdout",
     "output_type": "stream",
     "text": [
      "Validating length of data after emotions\n",
      "frame_dim: 107\n",
      "Loading checkpoint...\n",
      "Checkpoint loaded from checkpoints/proto5_checkpoint.pth\n",
      "Generating sequence of 300 frames...\n"
     ]
    },
    {
     "ename": "NameError",
     "evalue": "name 'batch' is not defined",
     "output_type": "error",
     "traceback": [
      "\u001b[1;31m---------------------------------------------------------------------------\u001b[0m",
      "\u001b[1;31mNameError\u001b[0m                                 Traceback (most recent call last)",
      "\u001b[1;32mc:\\Users\\avika\\OneDrive\\Documents\\UAL\\interactive_dance_thesis\\main.ipynb Cell 4\u001b[0m line \u001b[0;36m1\n\u001b[0;32m     <a href='vscode-notebook-cell:/c%3A/Users/avika/OneDrive/Documents/UAL/interactive_dance_thesis/main.ipynb#W4sZmlsZQ%3D%3D?line=13'>14</a>\u001b[0m generated \u001b[39m=\u001b[39m m\u001b[39m.\u001b[39mgenerate(xb, FRAMES_GENERATE)\n\u001b[0;32m     <a href='vscode-notebook-cell:/c%3A/Users/avika/OneDrive/Documents/UAL/interactive_dance_thesis/main.ipynb#W4sZmlsZQ%3D%3D?line=14'>15</a>\u001b[0m unnorm_out \u001b[39m=\u001b[39m unnormalise_list_2D(generated, max_x, min_x, max_y, min_y,max_x, min_x, max_y, min_y)\n\u001b[1;32m---> <a href='vscode-notebook-cell:/c%3A/Users/avika/OneDrive/Documents/UAL/interactive_dance_thesis/main.ipynb#W4sZmlsZQ%3D%3D?line=15'>16</a>\u001b[0m visualise_skeleton(batch, max_x, max_y, max_frames\u001b[39m=\u001b[39mFRAMES_GENERATE,save \u001b[39m=\u001b[39m \u001b[39mTrue\u001b[39;00m,save_path\u001b[39m=\u001b[39m\u001b[39mNone\u001b[39;00m,prefix\u001b[39m=\u001b[39m\u001b[39mf\u001b[39m\u001b[39m'\u001b[39m\u001b[39madam_\u001b[39m\u001b[39m{\u001b[39;00mEPOCHS\u001b[39m}\u001b[39;00m\u001b[39m_coord\u001b[39m\u001b[39m'\u001b[39m,train_seed\u001b[39m=\u001b[39mtrain_seed,delta\u001b[39m=\u001b[39m\u001b[39mFalse\u001b[39;00m)\n",
      "\u001b[1;31mNameError\u001b[0m: name 'batch' is not defined"
     ]
    }
   ],
   "source": [
    "# Preparing MEED data for model\n",
    "MEED= prep_MEED_data()\n",
    "train_data,val_data,frame_dim,max_x,min_x,max_y,min_y,max_dx,min_dx,max_dy,min_dy = MEED\n",
    "\n",
    "# create model\n",
    "m = MotionModel(input_dim=frame_dim, output_dim=frame_dim, blocksize=BLOCK_SIZE, hidden_dim=512, n_layers=8, dropout=DROPOUT)\n",
    "m = m.to(device)\n",
    "optimizer = torch.optim.Adam(m.parameters(), lr=LEARNING_RATE, weight_decay=L2_REG)  # weight_decay=1e-5 L2 regularization\n",
    "m, optimizer, epoch, loss, train_seed = load_checkpoint(m, optimizer, CHECKPOINT_PATH)\n",
    "# Generate a sequence\n",
    "print(f'Generating sequence of {FRAMES_GENERATE} frames...')\n",
    "BATCH_SIZE = 1\n",
    "xb,yb,mask = get_batch('val',BLOCK_SIZE,BATCH_SIZE, train_data,val_data)\n",
    "generated = m.generate(xb, FRAMES_GENERATE)\n",
    "unnorm_out = unnormalise_list_2D(generated, max_x, min_x, max_y, min_y,max_x, min_x, max_y, min_y)\n"
   ]
  },
  {
   "cell_type": "code",
   "execution_count": 19,
   "metadata": {},
   "outputs": [
    {
     "data": {
      "text/plain": [
       "['Anger', 'Fear', 'Happiness']"
      ]
     },
     "execution_count": 19,
     "metadata": {},
     "output_type": "execute_result"
    }
   ],
   "source": [
    "def encoding_to_emotions(encoding):\n",
    "    \"\"\"\n",
    "    Convert an encoding to its corresponding emotion labels.\n",
    "    \n",
    "    Parameters:\n",
    "    - encoding (list of int): The encoding of the emotions.\n",
    "    \n",
    "    Returns:\n",
    "    - list of str: The labels of the emotions.\n",
    "    \"\"\"\n",
    "    \n",
    "    emotion_labels = ['Anger', 'Disgust', 'Fear', 'Happiness', 'Neutral', 'Sad', 'Surprise']\n",
    "    \n",
    "    # Find the indices of non-zero values in the encoding and return the corresponding labels\n",
    "    emotion_indices = [i for i, value in enumerate(encoding) if value > 0]\n",
    "    return [emotion_labels[i] for i in emotion_indices]\n",
    "\n",
    "# Test the function with an example encoding\n",
    "test_encoding = [0.97, 0, 1, 1, 0, 0, 0]\n",
    "encoding_to_emotions(test_encoding)\n"
   ]
  },
  {
   "cell_type": "code",
   "execution_count": 12,
   "metadata": {},
   "outputs": [
    {
     "data": {
      "text/plain": [
       "[0.0, 0.0, 0.0, 1.0, 0.0, 0.0, 0.0]"
      ]
     },
     "execution_count": 12,
     "metadata": {},
     "output_type": "execute_result"
    }
   ],
   "source": [
    "frame[-7:]"
   ]
  },
  {
   "cell_type": "code",
   "execution_count": 33,
   "metadata": {},
   "outputs": [
    {
     "name": "stdout",
     "output_type": "stream",
     "text": [
      "['Happiness']\n",
      "['Happiness']\n",
      "['Happiness']\n",
      "['Happiness']\n",
      "['Happiness']\n",
      "['Happiness']\n",
      "['Happiness']\n",
      "['Happiness']\n",
      "['Happiness']\n",
      "['Happiness']\n",
      "['Happiness']\n",
      "['Happiness']\n",
      "['Happiness']\n",
      "['Happiness']\n",
      "['Happiness']\n",
      "['Happiness']\n",
      "['Anger', 'Disgust', 'Happiness', 'Neutral']\n",
      "['Anger', 'Disgust', 'Happiness', 'Surprise']\n",
      "['Anger', 'Disgust', 'Happiness', 'Surprise']\n",
      "['Anger', 'Disgust', 'Happiness', 'Surprise']\n",
      "['Anger', 'Disgust', 'Happiness', 'Surprise']\n",
      "['Anger', 'Disgust', 'Happiness', 'Surprise']\n",
      "['Anger', 'Disgust', 'Happiness', 'Surprise']\n",
      "['Anger', 'Disgust', 'Happiness', 'Surprise']\n",
      "['Anger', 'Happiness', 'Neutral', 'Surprise']\n",
      "['Anger', 'Disgust', 'Happiness', 'Sad', 'Surprise']\n",
      "['Anger', 'Disgust', 'Happiness', 'Surprise']\n",
      "['Anger', 'Disgust', 'Happiness', 'Surprise']\n",
      "['Anger', 'Disgust', 'Fear', 'Happiness']\n",
      "['Anger', 'Disgust', 'Happiness', 'Surprise']\n",
      "['Anger', 'Disgust', 'Happiness', 'Surprise']\n",
      "['Anger', 'Disgust', 'Happiness', 'Surprise']\n",
      "['Anger', 'Disgust', 'Happiness', 'Surprise']\n",
      "['Anger', 'Disgust', 'Happiness', 'Sad', 'Surprise']\n",
      "['Anger', 'Disgust', 'Happiness', 'Surprise']\n",
      "['Anger', 'Disgust', 'Happiness', 'Neutral', 'Sad', 'Surprise']\n",
      "['Anger', 'Disgust', 'Happiness', 'Neutral', 'Surprise']\n",
      "['Anger', 'Disgust', 'Happiness', 'Neutral', 'Surprise']\n",
      "['Anger', 'Disgust', 'Fear', 'Happiness', 'Surprise']\n",
      "['Anger', 'Disgust', 'Happiness', 'Neutral', 'Sad']\n",
      "['Disgust', 'Happiness', 'Neutral', 'Surprise']\n",
      "['Anger', 'Disgust', 'Happiness', 'Neutral', 'Surprise']\n",
      "['Anger', 'Disgust', 'Happiness', 'Neutral', 'Surprise']\n",
      "['Anger', 'Disgust', 'Happiness', 'Neutral', 'Sad']\n",
      "['Disgust', 'Happiness', 'Neutral', 'Surprise']\n",
      "['Anger', 'Happiness', 'Neutral', 'Surprise']\n",
      "['Disgust', 'Happiness', 'Neutral', 'Sad', 'Surprise']\n",
      "['Anger', 'Disgust', 'Happiness', 'Neutral', 'Sad']\n",
      "['Anger', 'Disgust', 'Happiness', 'Neutral']\n",
      "['Anger', 'Happiness', 'Neutral', 'Surprise']\n",
      "['Anger', 'Disgust', 'Happiness', 'Neutral', 'Surprise']\n",
      "['Anger', 'Disgust', 'Happiness', 'Neutral', 'Sad', 'Surprise']\n",
      "['Anger', 'Disgust', 'Happiness', 'Neutral', 'Surprise']\n",
      "['Anger', 'Disgust', 'Happiness', 'Surprise']\n",
      "['Anger', 'Disgust', 'Happiness']\n",
      "['Anger', 'Disgust', 'Happiness', 'Neutral', 'Surprise']\n",
      "['Anger', 'Disgust', 'Happiness', 'Neutral', 'Surprise']\n",
      "['Anger', 'Disgust', 'Happiness', 'Neutral', 'Sad', 'Surprise']\n",
      "['Anger', 'Fear', 'Happiness', 'Neutral', 'Surprise']\n",
      "['Disgust', 'Happiness', 'Neutral', 'Sad', 'Surprise']\n",
      "['Anger', 'Disgust', 'Happiness', 'Sad', 'Surprise']\n",
      "['Anger', 'Disgust', 'Happiness', 'Surprise']\n",
      "['Anger', 'Disgust', 'Happiness', 'Neutral', 'Surprise']\n",
      "['Anger', 'Disgust', 'Happiness', 'Neutral', 'Surprise']\n",
      "['Anger', 'Disgust', 'Happiness', 'Neutral', 'Surprise']\n",
      "['Anger', 'Disgust', 'Happiness', 'Neutral', 'Sad', 'Surprise']\n",
      "['Disgust', 'Happiness', 'Neutral', 'Sad', 'Surprise']\n",
      "['Disgust', 'Happiness', 'Surprise']\n",
      "['Anger', 'Disgust', 'Happiness', 'Neutral', 'Sad', 'Surprise']\n",
      "['Anger', 'Disgust', 'Happiness', 'Neutral', 'Sad', 'Surprise']\n",
      "['Anger', 'Happiness', 'Neutral', 'Sad', 'Surprise']\n",
      "['Anger', 'Disgust', 'Happiness', 'Neutral', 'Sad']\n",
      "['Anger', 'Disgust', 'Happiness', 'Neutral', 'Surprise']\n",
      "['Disgust', 'Happiness', 'Neutral', 'Surprise']\n",
      "['Anger', 'Disgust', 'Happiness', 'Neutral', 'Sad', 'Surprise']\n",
      "['Anger', 'Disgust', 'Happiness', 'Neutral', 'Sad', 'Surprise']\n",
      "['Disgust', 'Happiness', 'Neutral', 'Surprise']\n",
      "['Anger', 'Disgust', 'Happiness', 'Neutral', 'Sad', 'Surprise']\n",
      "['Disgust', 'Happiness', 'Neutral', 'Surprise']\n",
      "['Disgust', 'Happiness', 'Neutral', 'Sad', 'Surprise']\n",
      "['Disgust', 'Happiness', 'Neutral', 'Surprise']\n",
      "['Anger', 'Disgust', 'Happiness', 'Neutral', 'Sad', 'Surprise']\n",
      "['Anger', 'Disgust', 'Happiness', 'Neutral', 'Sad', 'Surprise']\n",
      "['Disgust', 'Happiness', 'Neutral', 'Surprise']\n",
      "['Anger', 'Happiness', 'Neutral', 'Surprise']\n",
      "['Disgust', 'Happiness', 'Neutral', 'Surprise']\n",
      "['Happiness', 'Neutral', 'Surprise']\n",
      "['Anger', 'Disgust', 'Happiness', 'Neutral', 'Surprise']\n",
      "['Disgust', 'Happiness', 'Neutral', 'Sad', 'Surprise']\n",
      "['Disgust', 'Happiness', 'Neutral', 'Sad', 'Surprise']\n",
      "['Disgust', 'Fear', 'Happiness', 'Neutral', 'Surprise']\n",
      "['Anger', 'Disgust', 'Happiness', 'Neutral', 'Surprise']\n",
      "['Anger', 'Disgust', 'Happiness', 'Neutral', 'Surprise']\n",
      "['Disgust', 'Happiness', 'Neutral', 'Surprise']\n",
      "['Anger', 'Disgust', 'Happiness', 'Neutral', 'Surprise']\n",
      "['Disgust', 'Happiness', 'Neutral', 'Surprise']\n",
      "['Anger', 'Disgust', 'Happiness', 'Neutral']\n",
      "['Disgust', 'Happiness', 'Neutral', 'Sad', 'Surprise']\n",
      "['Anger', 'Disgust', 'Happiness', 'Sad', 'Surprise']\n",
      "['Anger', 'Disgust', 'Happiness', 'Neutral', 'Sad', 'Surprise']\n",
      "['Disgust', 'Happiness', 'Neutral', 'Sad', 'Surprise']\n",
      "['Anger', 'Disgust', 'Fear', 'Happiness', 'Neutral', 'Sad']\n",
      "['Anger', 'Disgust', 'Happiness', 'Neutral', 'Surprise']\n",
      "['Disgust', 'Happiness', 'Neutral', 'Surprise']\n",
      "['Disgust', 'Happiness', 'Neutral']\n",
      "['Happiness', 'Neutral', 'Sad', 'Surprise']\n",
      "['Anger', 'Disgust', 'Happiness', 'Neutral', 'Surprise']\n",
      "['Disgust', 'Happiness', 'Neutral', 'Surprise']\n",
      "['Disgust', 'Happiness', 'Neutral', 'Sad', 'Surprise']\n",
      "['Disgust', 'Happiness', 'Neutral', 'Surprise']\n",
      "['Disgust', 'Happiness', 'Neutral', 'Sad']\n",
      "['Disgust', 'Happiness', 'Neutral', 'Surprise']\n",
      "['Anger', 'Happiness', 'Neutral', 'Sad', 'Surprise']\n",
      "['Anger', 'Disgust', 'Happiness', 'Neutral', 'Sad', 'Surprise']\n",
      "['Disgust', 'Fear', 'Happiness', 'Neutral', 'Surprise']\n",
      "['Happiness', 'Neutral', 'Surprise']\n",
      "['Disgust', 'Happiness', 'Neutral', 'Surprise']\n",
      "['Disgust', 'Fear', 'Happiness', 'Neutral', 'Surprise']\n",
      "['Disgust', 'Fear', 'Happiness', 'Surprise']\n",
      "['Anger', 'Disgust', 'Fear', 'Happiness', 'Sad']\n",
      "['Anger', 'Disgust', 'Fear', 'Happiness', 'Neutral', 'Surprise']\n",
      "['Disgust', 'Happiness', 'Neutral', 'Surprise']\n",
      "['Anger', 'Disgust', 'Fear', 'Happiness', 'Neutral', 'Surprise']\n",
      "['Anger', 'Disgust', 'Fear', 'Happiness', 'Neutral', 'Surprise']\n",
      "['Disgust', 'Happiness', 'Neutral']\n",
      "['Disgust', 'Happiness', 'Neutral', 'Surprise']\n",
      "['Disgust', 'Happiness', 'Neutral', 'Surprise']\n",
      "['Disgust', 'Happiness', 'Neutral', 'Surprise']\n",
      "['Disgust', 'Happiness', 'Neutral', 'Surprise']\n",
      "['Disgust', 'Happiness', 'Neutral', 'Sad', 'Surprise']\n",
      "['Disgust', 'Happiness', 'Neutral', 'Sad', 'Surprise']\n",
      "['Happiness', 'Neutral', 'Sad', 'Surprise']\n",
      "['Disgust', 'Happiness', 'Neutral', 'Sad', 'Surprise']\n",
      "['Anger', 'Disgust', 'Happiness', 'Neutral', 'Sad', 'Surprise']\n",
      "['Disgust', 'Happiness', 'Neutral', 'Sad', 'Surprise']\n",
      "['Anger', 'Disgust', 'Happiness', 'Neutral', 'Surprise']\n",
      "['Disgust', 'Happiness', 'Neutral', 'Surprise']\n",
      "['Disgust', 'Happiness', 'Neutral', 'Sad', 'Surprise']\n",
      "['Disgust', 'Fear', 'Happiness', 'Neutral', 'Sad', 'Surprise']\n",
      "['Anger', 'Disgust', 'Fear', 'Happiness', 'Neutral', 'Surprise']\n",
      "['Happiness', 'Neutral', 'Sad', 'Surprise']\n",
      "['Disgust', 'Fear', 'Happiness', 'Neutral', 'Surprise']\n",
      "['Disgust', 'Happiness', 'Neutral', 'Sad', 'Surprise']\n",
      "['Disgust', 'Happiness', 'Neutral', 'Sad', 'Surprise']\n",
      "['Disgust', 'Happiness', 'Surprise']\n",
      "['Anger', 'Disgust', 'Happiness', 'Neutral', 'Surprise']\n",
      "['Disgust', 'Fear', 'Happiness', 'Neutral', 'Surprise']\n",
      "['Anger', 'Disgust', 'Fear', 'Happiness', 'Neutral', 'Surprise']\n",
      "['Disgust', 'Fear', 'Happiness', 'Neutral', 'Surprise']\n",
      "['Disgust', 'Happiness', 'Neutral', 'Sad', 'Surprise']\n",
      "['Anger', 'Disgust', 'Happiness', 'Neutral', 'Surprise']\n",
      "['Anger', 'Disgust', 'Happiness', 'Neutral', 'Surprise']\n",
      "['Anger', 'Disgust', 'Happiness', 'Neutral', 'Surprise']\n",
      "['Anger', 'Disgust', 'Happiness', 'Neutral', 'Surprise']\n",
      "['Anger', 'Disgust', 'Happiness', 'Neutral', 'Surprise']\n",
      "['Anger', 'Disgust', 'Happiness', 'Sad', 'Surprise']\n",
      "['Anger', 'Happiness', 'Sad', 'Surprise']\n",
      "['Anger', 'Fear', 'Happiness', 'Neutral']\n",
      "['Anger', 'Disgust', 'Happiness', 'Neutral', 'Surprise']\n",
      "['Anger', 'Happiness', 'Neutral', 'Surprise']\n",
      "['Disgust', 'Happiness', 'Neutral', 'Surprise']\n",
      "['Disgust', 'Happiness', 'Neutral', 'Surprise']\n",
      "['Disgust', 'Happiness', 'Neutral', 'Surprise']\n",
      "['Anger', 'Disgust', 'Happiness', 'Neutral', 'Sad', 'Surprise']\n",
      "['Disgust', 'Happiness', 'Neutral']\n",
      "['Anger', 'Disgust', 'Fear', 'Happiness', 'Neutral', 'Sad', 'Surprise']\n",
      "['Disgust', 'Fear', 'Happiness', 'Neutral', 'Sad', 'Surprise']\n",
      "['Disgust', 'Fear', 'Happiness', 'Neutral', 'Surprise']\n",
      "['Anger', 'Happiness', 'Neutral', 'Sad', 'Surprise']\n",
      "['Happiness', 'Neutral', 'Surprise']\n",
      "['Disgust', 'Happiness', 'Neutral', 'Sad', 'Surprise']\n",
      "['Disgust', 'Fear', 'Happiness', 'Neutral', 'Surprise']\n",
      "['Anger', 'Disgust', 'Happiness', 'Neutral', 'Sad']\n",
      "['Disgust', 'Happiness', 'Neutral', 'Surprise']\n",
      "['Disgust', 'Fear', 'Happiness', 'Neutral', 'Sad', 'Surprise']\n",
      "['Disgust', 'Fear', 'Happiness', 'Neutral', 'Sad', 'Surprise']\n",
      "['Happiness', 'Neutral', 'Surprise']\n",
      "['Disgust', 'Happiness', 'Neutral', 'Surprise']\n",
      "['Anger', 'Disgust', 'Happiness', 'Neutral', 'Surprise']\n",
      "['Anger', 'Disgust', 'Fear', 'Happiness', 'Surprise']\n",
      "['Anger', 'Disgust', 'Fear', 'Happiness', 'Neutral', 'Surprise']\n",
      "['Anger', 'Disgust', 'Happiness', 'Neutral', 'Surprise']\n",
      "['Disgust', 'Happiness', 'Neutral', 'Sad', 'Surprise']\n",
      "['Anger', 'Disgust', 'Fear', 'Happiness', 'Neutral', 'Surprise']\n",
      "['Anger', 'Disgust', 'Happiness', 'Neutral', 'Surprise']\n",
      "['Anger', 'Disgust', 'Fear', 'Happiness', 'Neutral', 'Sad', 'Surprise']\n",
      "['Anger', 'Disgust', 'Happiness', 'Neutral', 'Sad', 'Surprise']\n",
      "['Fear', 'Happiness', 'Neutral', 'Sad', 'Surprise']\n",
      "['Disgust', 'Happiness', 'Neutral', 'Sad', 'Surprise']\n",
      "['Anger', 'Happiness', 'Neutral', 'Surprise']\n",
      "['Anger', 'Disgust', 'Fear', 'Happiness', 'Neutral', 'Sad', 'Surprise']\n",
      "['Disgust', 'Happiness', 'Neutral', 'Surprise']\n",
      "['Disgust', 'Happiness', 'Neutral', 'Sad', 'Surprise']\n",
      "['Anger', 'Disgust', 'Happiness', 'Neutral']\n",
      "['Disgust', 'Happiness', 'Neutral', 'Surprise']\n",
      "['Disgust', 'Fear', 'Happiness', 'Neutral', 'Sad', 'Surprise']\n",
      "['Happiness', 'Neutral', 'Sad', 'Surprise']\n",
      "['Anger', 'Disgust', 'Happiness', 'Neutral', 'Surprise']\n",
      "['Disgust', 'Happiness', 'Neutral', 'Sad', 'Surprise']\n",
      "['Anger', 'Happiness', 'Neutral', 'Surprise']\n",
      "['Anger', 'Fear', 'Happiness', 'Neutral', 'Surprise']\n",
      "['Disgust', 'Happiness', 'Neutral', 'Sad', 'Surprise']\n",
      "['Anger', 'Disgust', 'Happiness', 'Neutral', 'Surprise']\n",
      "['Anger', 'Disgust', 'Happiness', 'Neutral', 'Surprise']\n",
      "['Anger', 'Disgust', 'Happiness', 'Neutral', 'Sad']\n",
      "['Anger', 'Disgust', 'Happiness', 'Surprise']\n",
      "['Disgust', 'Happiness', 'Neutral', 'Sad', 'Surprise']\n",
      "['Disgust', 'Fear', 'Happiness', 'Neutral', 'Sad', 'Surprise']\n",
      "['Happiness', 'Neutral', 'Sad', 'Surprise']\n",
      "['Disgust', 'Happiness', 'Neutral', 'Sad', 'Surprise']\n",
      "['Anger', 'Disgust', 'Fear', 'Happiness', 'Neutral', 'Surprise']\n",
      "['Disgust', 'Happiness', 'Neutral', 'Surprise']\n",
      "['Disgust', 'Fear', 'Happiness', 'Neutral', 'Surprise']\n",
      "['Anger', 'Disgust', 'Fear', 'Happiness', 'Neutral', 'Sad', 'Surprise']\n",
      "['Anger', 'Disgust', 'Happiness', 'Neutral', 'Surprise']\n",
      "['Anger', 'Happiness', 'Neutral', 'Sad', 'Surprise']\n",
      "['Anger', 'Disgust', 'Fear', 'Happiness', 'Neutral', 'Surprise']\n",
      "['Anger', 'Happiness', 'Neutral', 'Sad', 'Surprise']\n",
      "['Anger', 'Disgust', 'Happiness', 'Neutral', 'Surprise']\n",
      "['Anger', 'Disgust', 'Happiness', 'Neutral', 'Surprise']\n",
      "['Happiness', 'Neutral', 'Sad', 'Surprise']\n",
      "['Anger', 'Disgust', 'Fear', 'Happiness', 'Neutral', 'Surprise']\n",
      "['Anger', 'Disgust', 'Happiness', 'Neutral', 'Surprise']\n",
      "['Disgust', 'Happiness', 'Neutral', 'Surprise']\n",
      "['Anger', 'Disgust', 'Happiness', 'Neutral', 'Surprise']\n",
      "['Anger', 'Disgust', 'Happiness', 'Neutral', 'Sad', 'Surprise']\n",
      "['Disgust', 'Happiness', 'Neutral', 'Surprise']\n",
      "['Disgust', 'Happiness', 'Neutral', 'Surprise']\n",
      "['Disgust', 'Happiness', 'Neutral', 'Surprise']\n",
      "['Disgust', 'Happiness', 'Neutral', 'Sad', 'Surprise']\n",
      "['Disgust', 'Happiness', 'Neutral', 'Surprise']\n",
      "['Disgust', 'Fear', 'Happiness', 'Neutral', 'Sad', 'Surprise']\n",
      "['Anger', 'Disgust', 'Happiness', 'Neutral', 'Sad', 'Surprise']\n",
      "['Anger', 'Fear', 'Happiness', 'Neutral', 'Sad', 'Surprise']\n",
      "['Anger', 'Disgust', 'Fear', 'Happiness', 'Neutral']\n",
      "['Happiness', 'Neutral', 'Surprise']\n",
      "['Anger', 'Happiness', 'Neutral', 'Surprise']\n",
      "['Happiness', 'Neutral', 'Surprise']\n",
      "['Anger', 'Happiness', 'Neutral', 'Sad', 'Surprise']\n",
      "['Happiness', 'Neutral', 'Sad', 'Surprise']\n",
      "['Anger', 'Disgust', 'Happiness', 'Neutral', 'Surprise']\n",
      "['Anger', 'Disgust', 'Fear', 'Happiness', 'Neutral', 'Sad', 'Surprise']\n",
      "['Anger', 'Disgust', 'Happiness', 'Neutral', 'Surprise']\n",
      "['Anger', 'Happiness', 'Neutral', 'Sad', 'Surprise']\n",
      "['Disgust', 'Happiness', 'Neutral', 'Sad', 'Surprise']\n",
      "['Anger', 'Disgust', 'Happiness', 'Neutral', 'Sad', 'Surprise']\n",
      "['Happiness', 'Neutral', 'Sad', 'Surprise']\n",
      "['Anger', 'Disgust', 'Happiness', 'Neutral', 'Sad', 'Surprise']\n",
      "['Anger', 'Disgust', 'Happiness', 'Neutral', 'Sad', 'Surprise']\n",
      "['Anger', 'Disgust', 'Happiness', 'Neutral', 'Surprise']\n",
      "['Anger', 'Disgust', 'Happiness', 'Neutral', 'Surprise']\n",
      "['Anger', 'Disgust', 'Happiness', 'Neutral', 'Sad', 'Surprise']\n",
      "['Anger', 'Disgust', 'Happiness', 'Neutral', 'Sad', 'Surprise']\n",
      "['Anger', 'Disgust', 'Happiness', 'Neutral', 'Surprise']\n",
      "['Anger', 'Disgust', 'Happiness', 'Neutral', 'Sad', 'Surprise']\n",
      "['Disgust', 'Happiness', 'Neutral', 'Sad', 'Surprise']\n",
      "['Disgust', 'Happiness', 'Neutral', 'Sad', 'Surprise']\n",
      "['Disgust', 'Fear', 'Happiness', 'Neutral', 'Sad', 'Surprise']\n",
      "['Anger', 'Disgust', 'Happiness', 'Neutral', 'Surprise']\n",
      "['Disgust', 'Fear', 'Happiness', 'Neutral', 'Sad', 'Surprise']\n",
      "['Disgust', 'Happiness', 'Neutral', 'Surprise']\n",
      "['Happiness', 'Neutral', 'Sad', 'Surprise']\n",
      "['Anger', 'Disgust', 'Happiness', 'Neutral', 'Surprise']\n",
      "['Disgust', 'Fear', 'Happiness', 'Neutral', 'Surprise']\n",
      "['Anger', 'Fear', 'Happiness', 'Neutral', 'Sad', 'Surprise']\n",
      "['Anger', 'Disgust', 'Happiness', 'Neutral', 'Surprise']\n",
      "['Fear', 'Happiness', 'Neutral', 'Surprise']\n",
      "['Anger', 'Disgust', 'Happiness', 'Neutral', 'Sad', 'Surprise']\n",
      "['Anger', 'Disgust', 'Happiness', 'Neutral', 'Surprise']\n",
      "['Anger', 'Disgust', 'Happiness', 'Sad', 'Surprise']\n",
      "['Disgust', 'Happiness', 'Neutral', 'Sad', 'Surprise']\n",
      "['Anger', 'Disgust', 'Happiness', 'Neutral', 'Sad', 'Surprise']\n",
      "['Anger', 'Happiness', 'Neutral', 'Sad', 'Surprise']\n",
      "['Disgust', 'Happiness', 'Neutral', 'Sad', 'Surprise']\n",
      "['Disgust', 'Happiness', 'Neutral', 'Sad', 'Surprise']\n",
      "['Disgust', 'Happiness', 'Neutral', 'Sad', 'Surprise']\n",
      "['Disgust', 'Happiness', 'Neutral', 'Sad', 'Surprise']\n",
      "['Disgust', 'Happiness', 'Neutral', 'Sad', 'Surprise']\n",
      "['Anger', 'Disgust', 'Happiness', 'Neutral', 'Sad', 'Surprise']\n",
      "['Anger', 'Disgust', 'Happiness', 'Neutral', 'Surprise']\n",
      "['Anger', 'Disgust', 'Happiness', 'Neutral', 'Surprise']\n",
      "['Anger', 'Disgust', 'Happiness', 'Surprise']\n",
      "['Anger', 'Disgust', 'Happiness', 'Neutral', 'Sad']\n",
      "['Anger', 'Disgust', 'Fear', 'Happiness', 'Neutral', 'Surprise']\n",
      "['Disgust', 'Happiness', 'Neutral', 'Sad', 'Surprise']\n",
      "['Anger', 'Disgust', 'Happiness', 'Neutral', 'Sad', 'Surprise']\n",
      "['Disgust', 'Fear', 'Happiness', 'Neutral', 'Surprise']\n",
      "['Disgust', 'Fear', 'Happiness', 'Neutral', 'Surprise']\n",
      "['Anger', 'Disgust', 'Happiness', 'Neutral', 'Sad', 'Surprise']\n",
      "['Anger', 'Fear', 'Happiness', 'Neutral', 'Surprise']\n",
      "['Anger', 'Disgust', 'Happiness', 'Neutral', 'Surprise']\n",
      "['Anger', 'Disgust', 'Happiness', 'Neutral', 'Surprise']\n",
      "['Disgust', 'Happiness', 'Neutral', 'Sad', 'Surprise']\n",
      "['Anger', 'Disgust', 'Fear', 'Happiness', 'Neutral', 'Sad', 'Surprise']\n",
      "['Anger', 'Disgust', 'Happiness', 'Neutral', 'Surprise']\n",
      "['Anger', 'Happiness', 'Neutral', 'Surprise']\n",
      "['Anger', 'Disgust', 'Happiness', 'Neutral', 'Surprise']\n",
      "['Anger', 'Fear', 'Happiness', 'Neutral', 'Sad', 'Surprise']\n",
      "['Anger', 'Disgust', 'Happiness', 'Neutral', 'Sad', 'Surprise']\n",
      "['Anger', 'Disgust', 'Fear', 'Happiness', 'Neutral', 'Sad', 'Surprise']\n",
      "['Anger', 'Disgust', 'Happiness', 'Sad', 'Surprise']\n",
      "['Anger', 'Disgust', 'Happiness', 'Sad', 'Surprise']\n",
      "['Disgust', 'Happiness', 'Neutral', 'Sad', 'Surprise']\n",
      "['Anger', 'Disgust', 'Happiness', 'Neutral', 'Sad']\n",
      "['Anger', 'Disgust', 'Happiness', 'Neutral', 'Sad', 'Surprise']\n",
      "['Anger', 'Disgust', 'Happiness', 'Neutral', 'Surprise']\n",
      "['Disgust', 'Happiness', 'Neutral', 'Surprise']\n",
      "['Anger', 'Disgust', 'Happiness', 'Neutral', 'Sad', 'Surprise']\n",
      "['Disgust', 'Fear', 'Happiness', 'Neutral']\n",
      "['Disgust', 'Happiness', 'Neutral', 'Surprise']\n",
      "['Anger', 'Disgust', 'Fear', 'Happiness', 'Neutral']\n",
      "['Disgust', 'Happiness', 'Neutral', 'Sad', 'Surprise']\n",
      "['Anger', 'Disgust', 'Happiness', 'Neutral', 'Sad']\n",
      "['Disgust', 'Happiness', 'Sad', 'Surprise']\n",
      "['Anger', 'Happiness', 'Neutral']\n",
      "['Disgust', 'Happiness', 'Neutral', 'Sad']\n"
     ]
    }
   ],
   "source": [
    "# switch emotions of frames \n",
    "def switch_emotion(frame,old_emotion,new_emotion):\n",
    "    \"\"\"\n",
    "    Switch the emotion of a frame.\n",
    "    \n",
    "    Parameters:\n",
    "    - frame (list of int): The frame to switch the emotion of.\n",
    "    - old_emotion (str): The emotion to switch from.\n",
    "    - new_emotion (str): The emotion to switch to.\n",
    "    \n",
    "    Returns:\n",
    "    - list of int: The frame with the emotion switched.\n",
    "    \"\"\"\n",
    "    \n",
    "    # Get the indices of the old and new emotion\n",
    "    emotion_labels = ['Anger', 'Disgust', 'Fear', 'Happiness', 'Neutral', 'Sad', 'Surprise']\n",
    "    old_emotion_index = emotion_labels.index(old_emotion)\n",
    "    new_emotion_index = emotion_labels.index(new_emotion)\n",
    "    \n",
    "    # Switch the emotion\n",
    "    frame[-7 + old_emotion_index] = 0\n",
    "    frame[-7 + new_emotion_index] = 1\n",
    "    \n",
    "    return frame\n",
    "\n",
    "new_batch = []\n",
    "for frame in batch:\n",
    "    emotion = encoding_to_emotions(frame[-7:])\n",
    "    print(emotion)\n",
    "    new_batch.append(frame[:-7] + emotion_to_encoding('Disgust'))"
   ]
  },
  {
   "cell_type": "code",
   "execution_count": 24,
   "metadata": {},
   "outputs": [
    {
     "name": "stderr",
     "output_type": "stream",
     "text": [
      "Visualizing frames: 100%|██████████| 300/300 [00:33<00:00,  9.07it/s]\n"
     ]
    }
   ],
   "source": [
    "for batch in unnorm_out:\n",
    "    visualise_skeleton(batch, max_x, max_y, max_frames=FRAMES_GENERATE,save =True,save_path=None,prefix=f'adam_{EPOCHS}_coord_normalemotion_happy',train_seed=train_seed,delta=False)"
   ]
  },
  {
   "cell_type": "code",
   "execution_count": 25,
   "metadata": {},
   "outputs": [
    {
     "name": "stderr",
     "output_type": "stream",
     "text": [
      "Visualizing frames:  27%|██▋       | 82/300 [00:09<00:24,  9.06it/s]\n"
     ]
    },
    {
     "ename": "KeyboardInterrupt",
     "evalue": "",
     "output_type": "error",
     "traceback": [
      "\u001b[1;31m---------------------------------------------------------------------------\u001b[0m",
      "\u001b[1;31mKeyboardInterrupt\u001b[0m                         Traceback (most recent call last)",
      "\u001b[1;32mc:\\Users\\avika\\OneDrive\\Documents\\UAL\\interactive_dance_thesis\\main.ipynb Cell 9\u001b[0m line \u001b[0;36m1\n\u001b[1;32m----> <a href='vscode-notebook-cell:/c%3A/Users/avika/OneDrive/Documents/UAL/interactive_dance_thesis/main.ipynb#X13sZmlsZQ%3D%3D?line=0'>1</a>\u001b[0m visualise_skeleton(new_batch, max_x, max_y, max_frames\u001b[39m=\u001b[39;49mFRAMES_GENERATE,save \u001b[39m=\u001b[39;49m \u001b[39mTrue\u001b[39;49;00m,save_path\u001b[39m=\u001b[39;49m\u001b[39mNone\u001b[39;49;00m,prefix\u001b[39m=\u001b[39;49m\u001b[39mf\u001b[39;49m\u001b[39m'\u001b[39;49m\u001b[39madam_\u001b[39;49m\u001b[39m{\u001b[39;49;00mEPOCHS\u001b[39m}\u001b[39;49;00m\u001b[39m_coord_switchhappytosad\u001b[39;49m\u001b[39m'\u001b[39;49m,train_seed\u001b[39m=\u001b[39;49mtrain_seed,delta\u001b[39m=\u001b[39;49m\u001b[39mFalse\u001b[39;49;00m)\n",
      "File \u001b[1;32mc:\\Users\\avika\\OneDrive\\Documents\\UAL\\interactive_dance_thesis\\model.py:837\u001b[0m, in \u001b[0;36mvisualise_skeleton\u001b[1;34m(all_frames, max_x, max_y, max_frames, save, save_path, prefix, train_seed, delta)\u001b[0m\n\u001b[0;32m    834\u001b[0m     out\u001b[39m.\u001b[39mwrite(canvas_copy)\n\u001b[0;32m    836\u001b[0m \u001b[39m# Wait for 100ms and check for \"esc\" key press to exit\u001b[39;00m\n\u001b[1;32m--> 837\u001b[0m key \u001b[39m=\u001b[39m cv2\u001b[39m.\u001b[39;49mwaitKey(\u001b[39m100\u001b[39;49m)\n\u001b[0;32m    838\u001b[0m \u001b[39mif\u001b[39;00m key \u001b[39m==\u001b[39m \u001b[39m27\u001b[39m:  \n\u001b[0;32m    839\u001b[0m     \u001b[39mbreak\u001b[39;00m\n",
      "\u001b[1;31mKeyboardInterrupt\u001b[0m: "
     ]
    }
   ],
   "source": [
    "visualise_skeleton(new_batch, max_x, max_y, max_frames=FRAMES_GENERATE,save = True,save_path=None,prefix=f'adam_{EPOCHS}_coord_switchhappytosad',train_seed=train_seed,delta=False)"
   ]
  },
  {
   "cell_type": "code",
   "execution_count": 34,
   "metadata": {},
   "outputs": [],
   "source": [
    "happy_to_sad_xb = [new_batch[-16:]]\n",
    "happy_to_sad_xb = torch.tensor(happy_to_sad_xb).to(device).float()\n",
    "\n",
    "\n",
    "generated = m.generate(happy_to_sad_xb, FRAMES_GENERATE)\n",
    "unnorm_out = unnormalise_list_2D(generated, max_x, min_x, max_y, min_y,max_x, min_x, max_y, min_y)\n"
   ]
  },
  {
   "cell_type": "code",
   "execution_count": 35,
   "metadata": {},
   "outputs": [
    {
     "name": "stderr",
     "output_type": "stream",
     "text": [
      "Visualizing frames: 100%|██████████| 300/300 [00:32<00:00,  9.17it/s]\n"
     ]
    }
   ],
   "source": [
    "for new_batch in unnorm_out:\n",
    "\n",
    "    visualise_skeleton(new_batch, max_x, max_y, max_frames=FRAMES_GENERATE,save = True,save_path=None,prefix=f'adam_{EPOCHS}_coord_switchhappytodisgust',train_seed=train_seed,delta=False)"
   ]
  }
 ],
 "metadata": {
  "kernelspec": {
   "display_name": "interactive_dance_thesis",
   "language": "python",
   "name": "python3"
  },
  "language_info": {
   "codemirror_mode": {
    "name": "ipython",
    "version": 3
   },
   "file_extension": ".py",
   "mimetype": "text/x-python",
   "name": "python",
   "nbconvert_exporter": "python",
   "pygments_lexer": "ipython3",
   "version": "3.10.9"
  }
 },
 "nbformat": 4,
 "nbformat_minor": 2
}
