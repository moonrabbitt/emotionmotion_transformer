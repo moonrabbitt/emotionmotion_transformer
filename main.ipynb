{
 "cells": [
  {
   "cell_type": "code",
   "execution_count": 3,
   "metadata": {},
   "outputs": [
    {
     "name": "stdout",
     "output_type": "stream",
     "text": [
      "C:\\Users\\avika\\OneDrive\\Documents\\UAL\\interactive_dance_thesis\n"
     ]
    }
   ],
   "source": [
    "from model import *\n",
    "import pytchat\n"
   ]
  },
  {
   "cell_type": "code",
   "execution_count": 4,
   "metadata": {},
   "outputs": [],
   "source": [
    "# Use a pipeline as a high-level helper\n",
    "from transformers import pipeline\n",
    "\n",
    "pipe = pipeline(\"text-classification\", model=\"michellejieli/emotion_text_classifier\")\n",
    "# Load model directly\n",
    "from transformers import AutoTokenizer, AutoModelForSequenceClassification\n",
    "\n",
    "tokenizer = AutoTokenizer.from_pretrained(\"michellejieli/emotion_text_classifier\")\n",
    "model = AutoModelForSequenceClassification.from_pretrained(\"michellejieli/emotion_text_classifier\")"
   ]
  },
  {
   "cell_type": "code",
   "execution_count": 5,
   "metadata": {},
   "outputs": [
    {
     "name": "stderr",
     "output_type": "stream",
     "text": [
      "100%|██████████| 4102/4102 [00:03<00:00, 1070.88it/s]\n"
     ]
    },
    {
     "name": "stdout",
     "output_type": "stream",
     "text": [
      "Validating interpolation...\n",
      "No errors found!\n"
     ]
    },
    {
     "name": "stderr",
     "output_type": "stream",
     "text": [
      "4102it [00:01, 2453.49it/s]\n",
      "4102it [00:02, 1943.19it/s]\n"
     ]
    },
    {
     "name": "stdout",
     "output_type": "stream",
     "text": [
      "Creating keypoint frames...\n"
     ]
    },
    {
     "name": "stderr",
     "output_type": "stream",
     "text": [
      "100%|██████████| 4102/4102 [00:02<00:00, 1457.60it/s]\n"
     ]
    },
    {
     "name": "stdout",
     "output_type": "stream",
     "text": [
      "Creating keypoint frames...\n"
     ]
    },
    {
     "name": "stderr",
     "output_type": "stream",
     "text": [
      "100%|██████████| 4102/4102 [00:02<00:00, 1910.92it/s]\n"
     ]
    },
    {
     "name": "stdout",
     "output_type": "stream",
     "text": [
      "Validating length of dkp_frames\n",
      "Validating length of kp_frames\n",
      "Adding deltas to frames...\n"
     ]
    },
    {
     "name": "stderr",
     "output_type": "stream",
     "text": [
      "4102it [00:02, 1785.03it/s]\n"
     ]
    },
    {
     "name": "stdout",
     "output_type": "stream",
     "text": [
      "Validating length of data after delta\n",
      "Adding emotions to frames...\n"
     ]
    },
    {
     "name": "stderr",
     "output_type": "stream",
     "text": [
      "100%|██████████| 4102/4102 [00:00<00:00, 37296.20it/s]\n"
     ]
    },
    {
     "name": "stdout",
     "output_type": "stream",
     "text": [
      "Validating length of data after emotions\n",
      "frame_dim: 107\n"
     ]
    }
   ],
   "source": [
    "# Preparing MEED data for model\n",
    "MEED= prep_MEED_data()\n",
    "train_data,val_data,frame_dim,max_x,min_x,max_y,min_y,max_dx,min_dx,max_dy,min_dy = MEED"
   ]
  },
  {
   "cell_type": "code",
   "execution_count": 6,
   "metadata": {},
   "outputs": [],
   "source": [
    "\n",
    "specific_emotion_video = get_video_by_emotion(train_data, \"Anger\")"
   ]
  },
  {
   "cell_type": "code",
   "execution_count": 7,
   "metadata": {},
   "outputs": [],
   "source": [
    "emotion_labels = ['anger', 'disgust', 'fear', 'joy', 'neutral', 'sadness', 'surprise']"
   ]
  },
  {
   "cell_type": "code",
   "execution_count": 8,
   "metadata": {},
   "outputs": [],
   "source": [
    "def visualise_skeleton(all_frames, max_x, max_y, max_frames=500, save=False, save_path=None, prefix=None, train_seed=None , delta=False, destroy = True):\n",
    "    \"\"\"Input all frames dim 50xn n being the number of frames 50= 25 keypoints x and y coordinates\"\"\"\n",
    "\n",
    "    \n",
    "    # visualise to check if the data is correct\n",
    "    # BODY_25 Keypoints\n",
    "    keypointsMapping = ['Nose', 'Neck', 'R-Sho', 'R-Elb', 'R-Wr', 'L-Sho', \n",
    "                        'L-Elb', 'L-Wr', 'MidHip', 'R-Hip', 'R-Knee', 'R-Ank', \n",
    "                        'L-Hip', 'L-Knee', 'L-Ank', 'R-Eye', 'L-Eye', 'R-Ear', \n",
    "                        'L-Ear', 'L-BigToe', 'L-SmallToe', 'L-Heel', 'R-BigToe', \n",
    "                        'R-SmallToe', 'R-Heel']\n",
    "\n",
    "\n",
    "    limb_connections = [\n",
    "        (\"Nose\", \"Neck\"),\n",
    "        (\"Neck\", \"R-Sho\"),\n",
    "        (\"R-Sho\", \"R-Elb\"),\n",
    "        (\"R-Elb\", \"R-Wr\"),\n",
    "        (\"Neck\", \"L-Sho\"),\n",
    "        (\"L-Sho\", \"L-Elb\"),\n",
    "        (\"L-Elb\", \"L-Wr\"),\n",
    "        (\"Neck\", \"MidHip\"),\n",
    "        (\"MidHip\", \"R-Hip\"),\n",
    "        (\"R-Hip\", \"R-Knee\"),\n",
    "        (\"R-Knee\", \"R-Ank\"),\n",
    "        (\"MidHip\", \"L-Hip\"),\n",
    "        (\"L-Hip\", \"L-Knee\"),\n",
    "        (\"L-Knee\", \"L-Ank\"),\n",
    "        (\"Nose\", \"R-Eye\"),\n",
    "        (\"R-Eye\", \"R-Ear\"),\n",
    "        (\"Nose\", \"L-Eye\"),\n",
    "        (\"L-Eye\", \"L-Ear\"),\n",
    "        (\"L-Ank\", \"L-BigToe\"),\n",
    "        (\"L-Ank\", \"L-SmallToe\"),\n",
    "        (\"L-Ank\", \"L-Heel\"),\n",
    "        (\"R-Ank\", \"R-BigToe\"),\n",
    "        (\"R-Ank\", \"R-SmallToe\"),\n",
    "        (\"R-Ank\", \"R-Heel\")\n",
    "    ]\n",
    "    \n",
    "     # Define a mapping from emotion vectors to emotion labels\n",
    "    # Define emotion labels\n",
    "    emotion_labels = ['Anger', 'Disgust', 'Fear', 'Happiness', 'Neutral', 'Sad', 'Surprise']\n",
    "    \n",
    "    # Initialize a blank canvas (image)\n",
    "    canvas_size = (int(max_y)+50, int(max_x)+50, 3)  \n",
    "    canvas = np.zeros(canvas_size, dtype=np.uint8)\n",
    "    \n",
    "    \n",
    "    if save:\n",
    "        # Determine the save path\n",
    "        if save_path is None:\n",
    "            save_path = f\"D:\\\\Interactive Dance Thesis Tests\\\\TransformerResults\\\\{train_seed}\"\n",
    "\n",
    "        # Ensure directory exists\n",
    "        if not os.path.exists(save_path):\n",
    "            print(f\"Creating directory {save_path}\")\n",
    "            os.makedirs(save_path)\n",
    "\n",
    "        # Determine a unique filename\n",
    "        existing_files = os.listdir(save_path)\n",
    "        file_num = 1\n",
    "        while f\"{prefix or ''}{file_num}.mp4\" in existing_files:\n",
    "            file_num += 1\n",
    "        out_path = os.path.join(save_path, f\"{prefix or ''}{file_num}.mp4\")\n",
    "\n",
    "        # Create the video writer\n",
    "        fourcc = cv2.VideoWriter_fourcc(*'mp4v')\n",
    "        out = cv2.VideoWriter(out_path, fourcc, 10.0, (canvas_size[1], canvas_size[0]))\n",
    "    \n",
    "    previous_frame_data = None\n",
    "    \n",
    "    # Iterate over all frames; the first frame uses absolute keypoints, the rest use relative keypoints (deltas)\n",
    "    for frame_data in tqdm(all_frames[:max_frames], desc=\"Visualizing frames\"):\n",
    "        \n",
    "        # If previous_frame_data is None, this is the first frame and we use absolute positions.\n",
    "        # Otherwise, add the delta to the previous frame's keypoints to get the new keypoints\n",
    "        if delta ==True:\n",
    "            if previous_frame_data is not None:\n",
    "                frame_data[:50] = [prev + delta for prev, delta in zip(previous_frame_data[:50], frame_data[50:100])]\n",
    "        \n",
    "            # Update previous_frame_data\n",
    "            previous_frame_data = copy.deepcopy(frame_data)\n",
    "        \n",
    "        canvas_copy = canvas.copy()\n",
    "        \n",
    "        # Extract x, y coordinates and emotion vector\n",
    "        x_coords = frame_data[0:50:2] \n",
    "        y_coords = frame_data[1:50:2]\n",
    "        emotion_vector = tuple(frame_data[100:107])\n",
    "        \n",
    "        xy_coords = list(zip(x_coords, y_coords))\n",
    "        sane = sanity_check(xy_coords)\n",
    "        # Plot keypoints on the canvas\n",
    "        for i, (x, y) in enumerate(xy_coords):\n",
    "            if sane[i] == False:\n",
    "                continue\n",
    "            x_val = x.item() if torch.is_tensor(x) else x\n",
    "            y_val = y.item() if torch.is_tensor(y) else y\n",
    "            cv2.circle(canvas_copy, (int(x_val), int(y_val)), 3, (0, 0, 255), -1)  \n",
    "            cv2.putText(canvas_copy, keypointsMapping[i], (int(x_val), int(y_val)), cv2.FONT_HERSHEY_SIMPLEX, 0.5, (255, 255, 255), 1, cv2.LINE_AA)\n",
    "\n",
    "        # Draw connections (limbs) on the canvas\n",
    "        for limb in limb_connections:\n",
    "            start_idx = keypointsMapping.index(limb[0])\n",
    "            end_idx = keypointsMapping.index(limb[1])\n",
    "            \n",
    "            start_point = (int(x_coords[start_idx]), int(y_coords[start_idx]))\n",
    "            end_point = (int(x_coords[end_idx]), int(y_coords[end_idx]))\n",
    "\n",
    "            if start_point == (0,0) or end_point == (0,0) or not sane[start_idx] or not sane[end_idx]:\n",
    "                continue\n",
    "            cv2.line(canvas_copy, start_point, end_point, (0, 255, 0), 2)  \n",
    "        \n",
    "        # Display the emotion percentages and labels on the top right of the frame\n",
    "        \n",
    "        emotion_percentages = [f\"{int(e * 100)}% {emotion_labels[i]}\" for i, e in enumerate(emotion_vector) if round(e * 100) > 1]\n",
    "        print(emotion_percentages)\n",
    "        y0, dy = 30, 15  # Starting y position and line gap\n",
    "        for i, line in enumerate(emotion_percentages):\n",
    "            y = y0 + i * dy\n",
    "            cv2.putText(canvas_copy, line, (canvas_size[1] - 120, y), cv2.FONT_HERSHEY_SIMPLEX, 0.5, (255, 255, 255), 1, cv2.LINE_AA)\n",
    "\n",
    "\n",
    "        # Display the canvas with keypoints and connections\n",
    "        cv2.imshow(\"Keypoints Visualization\", canvas_copy)\n",
    "\n",
    "        # If saving, write the frame to the video\n",
    "        if save:\n",
    "            out.write(canvas_copy)\n",
    "\n",
    "        # Wait for 100ms and check for \"esc\" key press to exit\n",
    "        key = cv2.waitKey(100)\n",
    "        if key == 27:  \n",
    "            break\n",
    "\n",
    "    # Release the video writer, if used\n",
    "    if save:\n",
    "        out.release()\n",
    "\n",
    "    if destroy:\n",
    "        # Close the visualization window\n",
    "        cv2.destroyAllWindows()\n"
   ]
  },
  {
   "cell_type": "code",
   "execution_count": 9,
   "metadata": {},
   "outputs": [
    {
     "name": "stdout",
     "output_type": "stream",
     "text": [
      "Loading checkpoint...\n",
      "Checkpoint loaded from checkpoints/proto5_checkpoint.pth\n"
     ]
    },
    {
     "name": "stderr",
     "output_type": "stream",
     "text": [
      "Visualizing frames:   0%|          | 1/300 [00:00<00:40,  7.38it/s]"
     ]
    },
    {
     "name": "stdout",
     "output_type": "stream",
     "text": [
      "['100% Anger']\n",
      "['100% Anger']\n"
     ]
    },
    {
     "name": "stderr",
     "output_type": "stream",
     "text": [
      "Visualizing frames:   1%|          | 3/300 [00:00<00:34,  8.66it/s]"
     ]
    },
    {
     "name": "stdout",
     "output_type": "stream",
     "text": [
      "['100% Anger']\n",
      "['100% Anger']\n"
     ]
    },
    {
     "name": "stderr",
     "output_type": "stream",
     "text": [
      "Visualizing frames:   2%|▏         | 5/300 [00:00<00:32,  9.01it/s]"
     ]
    },
    {
     "name": "stdout",
     "output_type": "stream",
     "text": [
      "['100% Anger']\n",
      "['100% Anger']\n"
     ]
    },
    {
     "name": "stderr",
     "output_type": "stream",
     "text": [
      "Visualizing frames:   2%|▏         | 7/300 [00:00<00:32,  9.09it/s]"
     ]
    },
    {
     "name": "stdout",
     "output_type": "stream",
     "text": [
      "['100% Anger']\n",
      "['100% Anger']\n"
     ]
    },
    {
     "name": "stderr",
     "output_type": "stream",
     "text": [
      "Visualizing frames:   3%|▎         | 9/300 [00:01<00:31,  9.19it/s]"
     ]
    },
    {
     "name": "stdout",
     "output_type": "stream",
     "text": [
      "['100% Anger']\n",
      "['100% Anger']\n"
     ]
    },
    {
     "name": "stderr",
     "output_type": "stream",
     "text": [
      "Visualizing frames:   4%|▍         | 12/300 [00:01<00:30,  9.29it/s]"
     ]
    },
    {
     "name": "stdout",
     "output_type": "stream",
     "text": [
      "['100% Anger']\n",
      "['100% Anger']\n"
     ]
    },
    {
     "name": "stderr",
     "output_type": "stream",
     "text": [
      "Visualizing frames:   4%|▍         | 13/300 [00:01<00:30,  9.29it/s]"
     ]
    },
    {
     "name": "stdout",
     "output_type": "stream",
     "text": [
      "['100% Anger']\n",
      "['100% Anger']\n"
     ]
    },
    {
     "name": "stderr",
     "output_type": "stream",
     "text": [
      "Visualizing frames:   5%|▌         | 15/300 [00:01<00:30,  9.22it/s]"
     ]
    },
    {
     "name": "stdout",
     "output_type": "stream",
     "text": [
      "['100% Anger']\n",
      "['100% Anger']\n"
     ]
    },
    {
     "name": "stderr",
     "output_type": "stream",
     "text": [
      "Visualizing frames:   6%|▌         | 17/300 [00:01<00:30,  9.19it/s]"
     ]
    },
    {
     "name": "stdout",
     "output_type": "stream",
     "text": [
      "['100% Anger']\n",
      "['100% Anger']\n"
     ]
    },
    {
     "name": "stderr",
     "output_type": "stream",
     "text": [
      "Visualizing frames:   6%|▋         | 19/300 [00:02<00:30,  9.21it/s]"
     ]
    },
    {
     "name": "stdout",
     "output_type": "stream",
     "text": [
      "['100% Anger']\n",
      "['100% Anger']\n"
     ]
    },
    {
     "name": "stderr",
     "output_type": "stream",
     "text": [
      "Visualizing frames:   7%|▋         | 21/300 [00:02<00:30,  9.21it/s]"
     ]
    },
    {
     "name": "stdout",
     "output_type": "stream",
     "text": [
      "['100% Anger']\n",
      "['100% Anger']\n"
     ]
    },
    {
     "name": "stderr",
     "output_type": "stream",
     "text": [
      "Visualizing frames:   8%|▊         | 23/300 [00:02<00:30,  9.23it/s]"
     ]
    },
    {
     "name": "stdout",
     "output_type": "stream",
     "text": [
      "['100% Anger']\n",
      "['100% Anger']\n"
     ]
    },
    {
     "name": "stderr",
     "output_type": "stream",
     "text": [
      "Visualizing frames:   8%|▊         | 25/300 [00:02<00:29,  9.25it/s]"
     ]
    },
    {
     "name": "stdout",
     "output_type": "stream",
     "text": [
      "['100% Anger']\n",
      "['100% Anger']\n"
     ]
    },
    {
     "name": "stderr",
     "output_type": "stream",
     "text": [
      "Visualizing frames:   9%|▉         | 27/300 [00:02<00:29,  9.19it/s]"
     ]
    },
    {
     "name": "stdout",
     "output_type": "stream",
     "text": [
      "['100% Anger']\n",
      "['100% Anger']\n"
     ]
    },
    {
     "name": "stderr",
     "output_type": "stream",
     "text": [
      "Visualizing frames:  10%|▉         | 29/300 [00:03<00:29,  9.22it/s]"
     ]
    },
    {
     "name": "stdout",
     "output_type": "stream",
     "text": [
      "['100% Anger']\n",
      "['100% Anger']\n"
     ]
    },
    {
     "name": "stderr",
     "output_type": "stream",
     "text": [
      "Visualizing frames:  10%|█         | 31/300 [00:03<00:29,  9.19it/s]"
     ]
    },
    {
     "name": "stdout",
     "output_type": "stream",
     "text": [
      "['100% Anger']\n",
      "['100% Anger']\n"
     ]
    },
    {
     "name": "stderr",
     "output_type": "stream",
     "text": [
      "Visualizing frames:  11%|█         | 33/300 [00:03<00:29,  9.19it/s]"
     ]
    },
    {
     "name": "stdout",
     "output_type": "stream",
     "text": [
      "['100% Anger']\n",
      "['100% Anger']\n"
     ]
    },
    {
     "name": "stderr",
     "output_type": "stream",
     "text": [
      "Visualizing frames:  12%|█▏        | 35/300 [00:03<00:28,  9.26it/s]"
     ]
    },
    {
     "name": "stdout",
     "output_type": "stream",
     "text": [
      "['100% Anger']\n",
      "['100% Anger']\n"
     ]
    },
    {
     "name": "stderr",
     "output_type": "stream",
     "text": [
      "Visualizing frames:  12%|█▏        | 37/300 [00:04<00:28,  9.28it/s]"
     ]
    },
    {
     "name": "stdout",
     "output_type": "stream",
     "text": [
      "['100% Anger']\n",
      "['100% Anger']\n"
     ]
    },
    {
     "name": "stderr",
     "output_type": "stream",
     "text": [
      "Visualizing frames:  13%|█▎        | 39/300 [00:04<00:28,  9.22it/s]"
     ]
    },
    {
     "name": "stdout",
     "output_type": "stream",
     "text": [
      "['100% Anger']\n",
      "['100% Anger']\n"
     ]
    },
    {
     "name": "stderr",
     "output_type": "stream",
     "text": [
      "Visualizing frames:  14%|█▎        | 41/300 [00:04<00:27,  9.26it/s]"
     ]
    },
    {
     "name": "stdout",
     "output_type": "stream",
     "text": [
      "['100% Anger']\n",
      "['100% Anger']\n"
     ]
    },
    {
     "name": "stderr",
     "output_type": "stream",
     "text": [
      "Visualizing frames:  14%|█▍        | 43/300 [00:04<00:27,  9.26it/s]"
     ]
    },
    {
     "name": "stdout",
     "output_type": "stream",
     "text": [
      "['100% Anger']\n",
      "['100% Anger']\n"
     ]
    },
    {
     "name": "stderr",
     "output_type": "stream",
     "text": [
      "Visualizing frames:  15%|█▌        | 45/300 [00:04<00:27,  9.27it/s]"
     ]
    },
    {
     "name": "stdout",
     "output_type": "stream",
     "text": [
      "['100% Anger']\n",
      "['100% Anger']\n"
     ]
    },
    {
     "name": "stderr",
     "output_type": "stream",
     "text": [
      "Visualizing frames:  16%|█▌        | 47/300 [00:05<00:27,  9.24it/s]"
     ]
    },
    {
     "name": "stdout",
     "output_type": "stream",
     "text": [
      "['100% Anger']\n",
      "['100% Anger']\n"
     ]
    },
    {
     "name": "stderr",
     "output_type": "stream",
     "text": [
      "Visualizing frames:  16%|█▋        | 49/300 [00:05<00:27,  9.25it/s]"
     ]
    },
    {
     "name": "stdout",
     "output_type": "stream",
     "text": [
      "['100% Anger']\n",
      "['100% Anger']\n"
     ]
    },
    {
     "name": "stderr",
     "output_type": "stream",
     "text": [
      "Visualizing frames:  17%|█▋        | 51/300 [00:05<00:27,  9.21it/s]"
     ]
    },
    {
     "name": "stdout",
     "output_type": "stream",
     "text": [
      "['100% Anger']\n",
      "['100% Anger']\n"
     ]
    },
    {
     "name": "stderr",
     "output_type": "stream",
     "text": [
      "Visualizing frames:  18%|█▊        | 54/300 [00:05<00:26,  9.27it/s]"
     ]
    },
    {
     "name": "stdout",
     "output_type": "stream",
     "text": [
      "['100% Anger']\n",
      "['100% Anger']\n"
     ]
    },
    {
     "name": "stderr",
     "output_type": "stream",
     "text": [
      "Visualizing frames:  18%|█▊        | 55/300 [00:05<00:26,  9.21it/s]"
     ]
    },
    {
     "name": "stdout",
     "output_type": "stream",
     "text": [
      "['100% Anger']\n",
      "['100% Anger']\n"
     ]
    },
    {
     "name": "stderr",
     "output_type": "stream",
     "text": [
      "Visualizing frames:  19%|█▉        | 57/300 [00:06<00:26,  9.26it/s]"
     ]
    },
    {
     "name": "stdout",
     "output_type": "stream",
     "text": [
      "['100% Anger']\n",
      "['100% Anger']\n"
     ]
    },
    {
     "name": "stderr",
     "output_type": "stream",
     "text": [
      "Visualizing frames:  20%|█▉        | 59/300 [00:06<00:26,  9.23it/s]"
     ]
    },
    {
     "name": "stdout",
     "output_type": "stream",
     "text": [
      "['100% Anger']\n",
      "['100% Anger']\n"
     ]
    },
    {
     "name": "stderr",
     "output_type": "stream",
     "text": [
      "Visualizing frames:  20%|██        | 61/300 [00:06<00:25,  9.26it/s]"
     ]
    },
    {
     "name": "stdout",
     "output_type": "stream",
     "text": [
      "['100% Anger']\n",
      "['100% Anger']\n"
     ]
    },
    {
     "name": "stderr",
     "output_type": "stream",
     "text": [
      "Visualizing frames:  21%|██        | 63/300 [00:06<00:25,  9.28it/s]"
     ]
    },
    {
     "name": "stdout",
     "output_type": "stream",
     "text": [
      "['100% Anger']\n",
      "['100% Anger']\n"
     ]
    },
    {
     "name": "stderr",
     "output_type": "stream",
     "text": [
      "Visualizing frames:  22%|██▏       | 65/300 [00:07<00:25,  9.26it/s]"
     ]
    },
    {
     "name": "stdout",
     "output_type": "stream",
     "text": [
      "['100% Anger']\n",
      "['100% Anger']\n"
     ]
    },
    {
     "name": "stderr",
     "output_type": "stream",
     "text": [
      "Visualizing frames:  22%|██▏       | 67/300 [00:07<00:25,  9.29it/s]"
     ]
    },
    {
     "name": "stdout",
     "output_type": "stream",
     "text": [
      "['100% Anger']\n",
      "['100% Anger']\n"
     ]
    },
    {
     "name": "stderr",
     "output_type": "stream",
     "text": [
      "Visualizing frames:  23%|██▎       | 69/300 [00:07<00:24,  9.28it/s]"
     ]
    },
    {
     "name": "stdout",
     "output_type": "stream",
     "text": [
      "['100% Anger']\n",
      "['100% Anger']\n"
     ]
    },
    {
     "name": "stderr",
     "output_type": "stream",
     "text": [
      "Visualizing frames:  24%|██▎       | 71/300 [00:07<00:24,  9.29it/s]"
     ]
    },
    {
     "name": "stdout",
     "output_type": "stream",
     "text": [
      "['100% Anger']\n",
      "['100% Anger']\n"
     ]
    },
    {
     "name": "stderr",
     "output_type": "stream",
     "text": [
      "Visualizing frames:  24%|██▍       | 73/300 [00:07<00:24,  9.27it/s]"
     ]
    },
    {
     "name": "stdout",
     "output_type": "stream",
     "text": [
      "['100% Anger']\n",
      "['100% Anger']\n"
     ]
    },
    {
     "name": "stderr",
     "output_type": "stream",
     "text": [
      "Visualizing frames:  25%|██▌       | 75/300 [00:08<00:24,  9.31it/s]"
     ]
    },
    {
     "name": "stdout",
     "output_type": "stream",
     "text": [
      "['100% Anger']\n",
      "['100% Anger']\n"
     ]
    },
    {
     "name": "stderr",
     "output_type": "stream",
     "text": [
      "Visualizing frames:  26%|██▌       | 77/300 [00:08<00:23,  9.32it/s]"
     ]
    },
    {
     "name": "stdout",
     "output_type": "stream",
     "text": [
      "['100% Anger']\n",
      "['100% Anger']\n"
     ]
    },
    {
     "name": "stderr",
     "output_type": "stream",
     "text": [
      "Visualizing frames:  26%|██▋       | 79/300 [00:08<00:23,  9.31it/s]"
     ]
    },
    {
     "name": "stdout",
     "output_type": "stream",
     "text": [
      "['100% Anger']\n",
      "['100% Anger']\n"
     ]
    },
    {
     "name": "stderr",
     "output_type": "stream",
     "text": [
      "Visualizing frames:  27%|██▋       | 81/300 [00:08<00:23,  9.25it/s]"
     ]
    },
    {
     "name": "stdout",
     "output_type": "stream",
     "text": [
      "['100% Anger']\n",
      "['100% Anger']\n"
     ]
    },
    {
     "name": "stderr",
     "output_type": "stream",
     "text": [
      "Visualizing frames:  28%|██▊       | 83/300 [00:09<00:23,  9.29it/s]"
     ]
    },
    {
     "name": "stdout",
     "output_type": "stream",
     "text": [
      "['100% Anger']\n",
      "['100% Anger']\n"
     ]
    },
    {
     "name": "stderr",
     "output_type": "stream",
     "text": [
      "Visualizing frames:  28%|██▊       | 85/300 [00:09<00:23,  9.27it/s]"
     ]
    },
    {
     "name": "stdout",
     "output_type": "stream",
     "text": [
      "['100% Anger']\n",
      "['100% Anger']\n"
     ]
    },
    {
     "name": "stderr",
     "output_type": "stream",
     "text": [
      "Visualizing frames:  29%|██▉       | 87/300 [00:09<00:23,  9.25it/s]"
     ]
    },
    {
     "name": "stdout",
     "output_type": "stream",
     "text": [
      "['100% Anger']\n",
      "['100% Anger']\n"
     ]
    },
    {
     "name": "stderr",
     "output_type": "stream",
     "text": [
      "Visualizing frames:  30%|██▉       | 89/300 [00:09<00:22,  9.24it/s]"
     ]
    },
    {
     "name": "stdout",
     "output_type": "stream",
     "text": [
      "['100% Anger']\n",
      "['100% Anger']\n"
     ]
    },
    {
     "name": "stderr",
     "output_type": "stream",
     "text": [
      "Visualizing frames:  30%|███       | 91/300 [00:09<00:22,  9.29it/s]"
     ]
    },
    {
     "name": "stdout",
     "output_type": "stream",
     "text": [
      "['100% Anger']\n",
      "['100% Anger']\n"
     ]
    },
    {
     "name": "stderr",
     "output_type": "stream",
     "text": [
      "Visualizing frames:  31%|███       | 93/300 [00:10<00:22,  9.25it/s]"
     ]
    },
    {
     "name": "stdout",
     "output_type": "stream",
     "text": [
      "['100% Anger']\n",
      "['100% Anger']\n"
     ]
    },
    {
     "name": "stderr",
     "output_type": "stream",
     "text": [
      "Visualizing frames:  32%|███▏      | 95/300 [00:10<00:22,  9.26it/s]"
     ]
    },
    {
     "name": "stdout",
     "output_type": "stream",
     "text": [
      "['100% Anger']\n",
      "['100% Anger']\n"
     ]
    },
    {
     "name": "stderr",
     "output_type": "stream",
     "text": [
      "Visualizing frames:  32%|███▏      | 97/300 [00:10<00:21,  9.28it/s]"
     ]
    },
    {
     "name": "stdout",
     "output_type": "stream",
     "text": [
      "['100% Anger']\n",
      "['100% Anger']\n"
     ]
    },
    {
     "name": "stderr",
     "output_type": "stream",
     "text": [
      "Visualizing frames:  33%|███▎      | 99/300 [00:10<00:21,  9.28it/s]"
     ]
    },
    {
     "name": "stdout",
     "output_type": "stream",
     "text": [
      "['100% Anger']\n",
      "['100% Anger']\n"
     ]
    },
    {
     "name": "stderr",
     "output_type": "stream",
     "text": [
      "Visualizing frames:  34%|███▎      | 101/300 [00:10<00:21,  9.22it/s]"
     ]
    },
    {
     "name": "stdout",
     "output_type": "stream",
     "text": [
      "['100% Anger']\n",
      "['100% Anger']\n"
     ]
    },
    {
     "name": "stderr",
     "output_type": "stream",
     "text": [
      "Visualizing frames:  34%|███▍      | 103/300 [00:11<00:21,  9.24it/s]"
     ]
    },
    {
     "name": "stdout",
     "output_type": "stream",
     "text": [
      "['100% Anger']\n",
      "['100% Anger']\n"
     ]
    },
    {
     "name": "stderr",
     "output_type": "stream",
     "text": [
      "Visualizing frames:  35%|███▌      | 105/300 [00:11<00:21,  9.24it/s]"
     ]
    },
    {
     "name": "stdout",
     "output_type": "stream",
     "text": [
      "['100% Anger']\n",
      "['100% Anger']\n"
     ]
    },
    {
     "name": "stderr",
     "output_type": "stream",
     "text": [
      "Visualizing frames:  36%|███▌      | 107/300 [00:11<00:20,  9.24it/s]"
     ]
    },
    {
     "name": "stdout",
     "output_type": "stream",
     "text": [
      "['100% Anger']\n",
      "['100% Anger']\n"
     ]
    },
    {
     "name": "stderr",
     "output_type": "stream",
     "text": [
      "Visualizing frames:  36%|███▋      | 109/300 [00:11<00:20,  9.22it/s]"
     ]
    },
    {
     "name": "stdout",
     "output_type": "stream",
     "text": [
      "['100% Anger']\n",
      "['100% Anger']\n"
     ]
    },
    {
     "name": "stderr",
     "output_type": "stream",
     "text": [
      "Visualizing frames:  37%|███▋      | 111/300 [00:12<00:20,  9.24it/s]"
     ]
    },
    {
     "name": "stdout",
     "output_type": "stream",
     "text": [
      "['99% Anger']\n",
      "['99% Anger']\n"
     ]
    },
    {
     "name": "stderr",
     "output_type": "stream",
     "text": [
      "Visualizing frames:  38%|███▊      | 113/300 [00:12<00:20,  9.24it/s]"
     ]
    },
    {
     "name": "stdout",
     "output_type": "stream",
     "text": [
      "['99% Anger']\n",
      "['100% Anger']\n"
     ]
    },
    {
     "name": "stderr",
     "output_type": "stream",
     "text": [
      "Visualizing frames:  38%|███▊      | 115/300 [00:12<00:19,  9.26it/s]"
     ]
    },
    {
     "name": "stdout",
     "output_type": "stream",
     "text": [
      "['100% Anger']\n",
      "['100% Anger']\n"
     ]
    },
    {
     "name": "stderr",
     "output_type": "stream",
     "text": [
      "Visualizing frames:  39%|███▉      | 117/300 [00:12<00:19,  9.24it/s]"
     ]
    },
    {
     "name": "stdout",
     "output_type": "stream",
     "text": [
      "['100% Anger']\n",
      "['100% Anger']\n"
     ]
    },
    {
     "name": "stderr",
     "output_type": "stream",
     "text": [
      "Visualizing frames:  40%|███▉      | 119/300 [00:12<00:19,  9.29it/s]"
     ]
    },
    {
     "name": "stdout",
     "output_type": "stream",
     "text": [
      "['100% Anger']\n",
      "['100% Anger']\n"
     ]
    },
    {
     "name": "stderr",
     "output_type": "stream",
     "text": [
      "Visualizing frames:  40%|████      | 121/300 [00:13<00:19,  9.30it/s]"
     ]
    },
    {
     "name": "stdout",
     "output_type": "stream",
     "text": [
      "['100% Anger']\n",
      "['100% Anger']\n"
     ]
    },
    {
     "name": "stderr",
     "output_type": "stream",
     "text": [
      "Visualizing frames:  41%|████      | 123/300 [00:13<00:19,  9.30it/s]"
     ]
    },
    {
     "name": "stdout",
     "output_type": "stream",
     "text": [
      "['100% Anger']\n",
      "['100% Anger']\n"
     ]
    },
    {
     "name": "stderr",
     "output_type": "stream",
     "text": [
      "Visualizing frames:  42%|████▏     | 125/300 [00:13<00:18,  9.26it/s]"
     ]
    },
    {
     "name": "stdout",
     "output_type": "stream",
     "text": [
      "['100% Anger']\n",
      "['100% Anger']\n"
     ]
    },
    {
     "name": "stderr",
     "output_type": "stream",
     "text": [
      "Visualizing frames:  42%|████▏     | 127/300 [00:13<00:18,  9.28it/s]"
     ]
    },
    {
     "name": "stdout",
     "output_type": "stream",
     "text": [
      "['100% Anger']\n",
      "['100% Anger']\n"
     ]
    },
    {
     "name": "stderr",
     "output_type": "stream",
     "text": [
      "Visualizing frames:  43%|████▎     | 129/300 [00:13<00:18,  9.26it/s]"
     ]
    },
    {
     "name": "stdout",
     "output_type": "stream",
     "text": [
      "['100% Anger']\n",
      "['100% Anger']\n"
     ]
    },
    {
     "name": "stderr",
     "output_type": "stream",
     "text": [
      "Visualizing frames:  44%|████▎     | 131/300 [00:14<00:18,  9.25it/s]"
     ]
    },
    {
     "name": "stdout",
     "output_type": "stream",
     "text": [
      "['100% Anger']\n",
      "['100% Anger']\n"
     ]
    },
    {
     "name": "stderr",
     "output_type": "stream",
     "text": [
      "Visualizing frames:  44%|████▍     | 133/300 [00:14<00:18,  9.23it/s]"
     ]
    },
    {
     "name": "stdout",
     "output_type": "stream",
     "text": [
      "['100% Anger']\n",
      "['99% Anger']\n"
     ]
    },
    {
     "name": "stderr",
     "output_type": "stream",
     "text": [
      "Visualizing frames:  45%|████▌     | 135/300 [00:14<00:17,  9.27it/s]"
     ]
    },
    {
     "name": "stdout",
     "output_type": "stream",
     "text": [
      "['100% Anger']\n",
      "['100% Anger']\n"
     ]
    },
    {
     "name": "stderr",
     "output_type": "stream",
     "text": [
      "Visualizing frames:  46%|████▌     | 137/300 [00:14<00:17,  9.26it/s]"
     ]
    },
    {
     "name": "stdout",
     "output_type": "stream",
     "text": [
      "['101% Anger']\n",
      "['101% Anger']\n"
     ]
    },
    {
     "name": "stderr",
     "output_type": "stream",
     "text": [
      "Visualizing frames:  47%|████▋     | 140/300 [00:15<00:17,  9.30it/s]"
     ]
    },
    {
     "name": "stdout",
     "output_type": "stream",
     "text": [
      "['101% Anger']\n",
      "['100% Anger']\n"
     ]
    },
    {
     "name": "stderr",
     "output_type": "stream",
     "text": [
      "Visualizing frames:  47%|████▋     | 141/300 [00:15<00:17,  9.30it/s]"
     ]
    },
    {
     "name": "stdout",
     "output_type": "stream",
     "text": [
      "['100% Anger']\n",
      "['100% Anger']\n"
     ]
    },
    {
     "name": "stderr",
     "output_type": "stream",
     "text": [
      "Visualizing frames:  48%|████▊     | 143/300 [00:15<00:17,  9.23it/s]"
     ]
    },
    {
     "name": "stdout",
     "output_type": "stream",
     "text": [
      "['100% Anger']\n",
      "['100% Anger']\n"
     ]
    },
    {
     "name": "stderr",
     "output_type": "stream",
     "text": [
      "Visualizing frames:  48%|████▊     | 145/300 [00:15<00:16,  9.27it/s]"
     ]
    },
    {
     "name": "stdout",
     "output_type": "stream",
     "text": [
      "['100% Anger']\n",
      "['100% Anger']\n"
     ]
    },
    {
     "name": "stderr",
     "output_type": "stream",
     "text": [
      "Visualizing frames:  49%|████▉     | 147/300 [00:15<00:16,  9.26it/s]"
     ]
    },
    {
     "name": "stdout",
     "output_type": "stream",
     "text": [
      "['100% Anger']\n",
      "['99% Anger']\n"
     ]
    },
    {
     "name": "stderr",
     "output_type": "stream",
     "text": [
      "Visualizing frames:  50%|████▉     | 149/300 [00:16<00:16,  9.21it/s]"
     ]
    },
    {
     "name": "stdout",
     "output_type": "stream",
     "text": [
      "['100% Anger']\n",
      "['100% Anger']\n"
     ]
    },
    {
     "name": "stderr",
     "output_type": "stream",
     "text": [
      "Visualizing frames:  51%|█████     | 152/300 [00:16<00:16,  9.25it/s]"
     ]
    },
    {
     "name": "stdout",
     "output_type": "stream",
     "text": [
      "['100% Anger']\n",
      "['99% Anger']\n"
     ]
    },
    {
     "name": "stderr",
     "output_type": "stream",
     "text": [
      "Visualizing frames:  51%|█████     | 153/300 [00:16<00:15,  9.26it/s]"
     ]
    },
    {
     "name": "stdout",
     "output_type": "stream",
     "text": [
      "['100% Anger']\n",
      "['100% Anger']\n"
     ]
    },
    {
     "name": "stderr",
     "output_type": "stream",
     "text": [
      "Visualizing frames:  52%|█████▏    | 155/300 [00:16<00:15,  9.25it/s]"
     ]
    },
    {
     "name": "stdout",
     "output_type": "stream",
     "text": [
      "['100% Anger']\n",
      "['100% Anger']\n"
     ]
    },
    {
     "name": "stderr",
     "output_type": "stream",
     "text": [
      "Visualizing frames:  52%|█████▏    | 157/300 [00:16<00:15,  9.24it/s]"
     ]
    },
    {
     "name": "stdout",
     "output_type": "stream",
     "text": [
      "['100% Anger']\n",
      "['100% Anger']\n"
     ]
    },
    {
     "name": "stderr",
     "output_type": "stream",
     "text": [
      "Visualizing frames:  53%|█████▎    | 159/300 [00:17<00:15,  9.26it/s]"
     ]
    },
    {
     "name": "stdout",
     "output_type": "stream",
     "text": [
      "['100% Anger']\n",
      "['100% Anger']\n"
     ]
    },
    {
     "name": "stderr",
     "output_type": "stream",
     "text": [
      "Visualizing frames:  54%|█████▎    | 161/300 [00:17<00:15,  9.24it/s]"
     ]
    },
    {
     "name": "stdout",
     "output_type": "stream",
     "text": [
      "['100% Anger']\n",
      "['100% Anger']\n"
     ]
    },
    {
     "name": "stderr",
     "output_type": "stream",
     "text": [
      "Visualizing frames:  55%|█████▍    | 164/300 [00:17<00:14,  9.30it/s]"
     ]
    },
    {
     "name": "stdout",
     "output_type": "stream",
     "text": [
      "['101% Anger']\n",
      "['100% Anger']\n"
     ]
    },
    {
     "name": "stderr",
     "output_type": "stream",
     "text": [
      "Visualizing frames:  55%|█████▌    | 165/300 [00:17<00:14,  9.27it/s]"
     ]
    },
    {
     "name": "stdout",
     "output_type": "stream",
     "text": [
      "['100% Anger']\n",
      "['100% Anger']\n"
     ]
    },
    {
     "name": "stderr",
     "output_type": "stream",
     "text": [
      "Visualizing frames:  56%|█████▌    | 167/300 [00:18<00:14,  9.26it/s]"
     ]
    },
    {
     "name": "stdout",
     "output_type": "stream",
     "text": [
      "['100% Anger']\n",
      "['100% Anger']\n"
     ]
    },
    {
     "name": "stderr",
     "output_type": "stream",
     "text": [
      "Visualizing frames:  56%|█████▋    | 169/300 [00:18<00:14,  9.27it/s]"
     ]
    },
    {
     "name": "stdout",
     "output_type": "stream",
     "text": [
      "['101% Anger']\n",
      "['100% Anger']\n"
     ]
    },
    {
     "name": "stderr",
     "output_type": "stream",
     "text": [
      "Visualizing frames:  57%|█████▋    | 171/300 [00:18<00:14,  9.20it/s]"
     ]
    },
    {
     "name": "stdout",
     "output_type": "stream",
     "text": [
      "['100% Anger']\n",
      "['100% Anger']\n"
     ]
    },
    {
     "name": "stderr",
     "output_type": "stream",
     "text": [
      "Visualizing frames:  58%|█████▊    | 173/300 [00:18<00:13,  9.22it/s]"
     ]
    },
    {
     "name": "stdout",
     "output_type": "stream",
     "text": [
      "['100% Anger']\n",
      "['100% Anger']\n"
     ]
    },
    {
     "name": "stderr",
     "output_type": "stream",
     "text": [
      "Visualizing frames:  58%|█████▊    | 175/300 [00:18<00:13,  9.25it/s]"
     ]
    },
    {
     "name": "stdout",
     "output_type": "stream",
     "text": [
      "['100% Anger']\n",
      "['100% Anger']\n"
     ]
    },
    {
     "name": "stderr",
     "output_type": "stream",
     "text": [
      "Visualizing frames:  59%|█████▉    | 177/300 [00:19<00:13,  9.19it/s]"
     ]
    },
    {
     "name": "stdout",
     "output_type": "stream",
     "text": [
      "['100% Anger']\n",
      "['101% Anger']\n"
     ]
    },
    {
     "name": "stderr",
     "output_type": "stream",
     "text": [
      "Visualizing frames:  60%|█████▉    | 179/300 [00:19<00:13,  9.19it/s]"
     ]
    },
    {
     "name": "stdout",
     "output_type": "stream",
     "text": [
      "['100% Anger']\n",
      "['100% Anger']\n"
     ]
    },
    {
     "name": "stderr",
     "output_type": "stream",
     "text": [
      "Visualizing frames:  61%|██████    | 182/300 [00:19<00:12,  9.20it/s]"
     ]
    },
    {
     "name": "stdout",
     "output_type": "stream",
     "text": [
      "['101% Anger']\n",
      "['100% Anger']\n"
     ]
    },
    {
     "name": "stderr",
     "output_type": "stream",
     "text": [
      "Visualizing frames:  61%|██████    | 183/300 [00:19<00:12,  9.20it/s]"
     ]
    },
    {
     "name": "stdout",
     "output_type": "stream",
     "text": [
      "['100% Anger']\n",
      "['100% Anger']\n"
     ]
    },
    {
     "name": "stderr",
     "output_type": "stream",
     "text": [
      "Visualizing frames:  62%|██████▏   | 185/300 [00:20<00:12,  9.25it/s]"
     ]
    },
    {
     "name": "stdout",
     "output_type": "stream",
     "text": [
      "['99% Anger']\n",
      "['101% Anger']\n"
     ]
    },
    {
     "name": "stderr",
     "output_type": "stream",
     "text": [
      "Visualizing frames:  62%|██████▏   | 187/300 [00:20<00:12,  9.24it/s]"
     ]
    },
    {
     "name": "stdout",
     "output_type": "stream",
     "text": [
      "['100% Anger']\n",
      "['100% Anger']\n"
     ]
    },
    {
     "name": "stderr",
     "output_type": "stream",
     "text": [
      "Visualizing frames:  63%|██████▎   | 189/300 [00:20<00:12,  9.15it/s]"
     ]
    },
    {
     "name": "stdout",
     "output_type": "stream",
     "text": [
      "['100% Anger']\n",
      "['99% Anger']\n"
     ]
    },
    {
     "name": "stderr",
     "output_type": "stream",
     "text": [
      "Visualizing frames:  64%|██████▎   | 191/300 [00:20<00:11,  9.25it/s]"
     ]
    },
    {
     "name": "stdout",
     "output_type": "stream",
     "text": [
      "['100% Anger']\n",
      "['100% Anger']\n"
     ]
    },
    {
     "name": "stderr",
     "output_type": "stream",
     "text": [
      "Visualizing frames:  64%|██████▍   | 193/300 [00:20<00:11,  9.18it/s]"
     ]
    },
    {
     "name": "stdout",
     "output_type": "stream",
     "text": [
      "['100% Anger']\n",
      "['100% Anger']\n"
     ]
    },
    {
     "name": "stderr",
     "output_type": "stream",
     "text": [
      "Visualizing frames:  65%|██████▌   | 195/300 [00:21<00:11,  9.24it/s]"
     ]
    },
    {
     "name": "stdout",
     "output_type": "stream",
     "text": [
      "['100% Anger']\n",
      "['100% Anger']\n"
     ]
    },
    {
     "name": "stderr",
     "output_type": "stream",
     "text": [
      "Visualizing frames:  66%|██████▌   | 197/300 [00:21<00:11,  9.16it/s]"
     ]
    },
    {
     "name": "stdout",
     "output_type": "stream",
     "text": [
      "['100% Anger']\n",
      "['100% Anger']\n"
     ]
    },
    {
     "name": "stderr",
     "output_type": "stream",
     "text": [
      "Visualizing frames:  66%|██████▋   | 199/300 [00:21<00:11,  9.12it/s]"
     ]
    },
    {
     "name": "stdout",
     "output_type": "stream",
     "text": [
      "['99% Anger']\n",
      "['99% Anger']\n"
     ]
    },
    {
     "name": "stderr",
     "output_type": "stream",
     "text": [
      "Visualizing frames:  67%|██████▋   | 201/300 [00:21<00:10,  9.20it/s]"
     ]
    },
    {
     "name": "stdout",
     "output_type": "stream",
     "text": [
      "['100% Anger']\n",
      "['100% Anger']\n"
     ]
    },
    {
     "name": "stderr",
     "output_type": "stream",
     "text": [
      "Visualizing frames:  68%|██████▊   | 204/300 [00:22<00:10,  9.20it/s]"
     ]
    },
    {
     "name": "stdout",
     "output_type": "stream",
     "text": [
      "['100% Anger']\n",
      "['100% Anger']\n"
     ]
    },
    {
     "name": "stderr",
     "output_type": "stream",
     "text": [
      "Visualizing frames:  68%|██████▊   | 205/300 [00:22<00:10,  9.21it/s]"
     ]
    },
    {
     "name": "stdout",
     "output_type": "stream",
     "text": [
      "['101% Anger']\n",
      "['100% Anger']\n"
     ]
    },
    {
     "name": "stderr",
     "output_type": "stream",
     "text": [
      "Visualizing frames:  69%|██████▉   | 207/300 [00:22<00:10,  9.16it/s]"
     ]
    },
    {
     "name": "stdout",
     "output_type": "stream",
     "text": [
      "['100% Anger']\n",
      "['100% Anger']\n"
     ]
    },
    {
     "name": "stderr",
     "output_type": "stream",
     "text": [
      "Visualizing frames:  70%|██████▉   | 209/300 [00:22<00:09,  9.17it/s]"
     ]
    },
    {
     "name": "stdout",
     "output_type": "stream",
     "text": [
      "['100% Anger']\n",
      "['101% Anger']\n"
     ]
    },
    {
     "name": "stderr",
     "output_type": "stream",
     "text": [
      "Visualizing frames:  70%|███████   | 211/300 [00:22<00:09,  9.17it/s]"
     ]
    },
    {
     "name": "stdout",
     "output_type": "stream",
     "text": [
      "['100% Anger']\n",
      "['100% Anger']\n"
     ]
    },
    {
     "name": "stderr",
     "output_type": "stream",
     "text": [
      "Visualizing frames:  71%|███████   | 213/300 [00:23<00:09,  9.16it/s]"
     ]
    },
    {
     "name": "stdout",
     "output_type": "stream",
     "text": [
      "['100% Anger', '1% Sad']\n",
      "['100% Anger']\n"
     ]
    },
    {
     "name": "stderr",
     "output_type": "stream",
     "text": [
      "Visualizing frames:  72%|███████▏  | 215/300 [00:23<00:09,  9.19it/s]"
     ]
    },
    {
     "name": "stdout",
     "output_type": "stream",
     "text": [
      "['100% Anger']\n",
      "['99% Anger']\n"
     ]
    },
    {
     "name": "stderr",
     "output_type": "stream",
     "text": [
      "Visualizing frames:  72%|███████▏  | 217/300 [00:23<00:09,  9.22it/s]"
     ]
    },
    {
     "name": "stdout",
     "output_type": "stream",
     "text": [
      "['100% Anger']\n",
      "['100% Anger']\n"
     ]
    },
    {
     "name": "stderr",
     "output_type": "stream",
     "text": [
      "Visualizing frames:  73%|███████▎  | 219/300 [00:23<00:08,  9.26it/s]"
     ]
    },
    {
     "name": "stdout",
     "output_type": "stream",
     "text": [
      "['100% Anger']\n",
      "['100% Anger']\n"
     ]
    },
    {
     "name": "stderr",
     "output_type": "stream",
     "text": [
      "Visualizing frames:  74%|███████▎  | 221/300 [00:23<00:08,  9.26it/s]"
     ]
    },
    {
     "name": "stdout",
     "output_type": "stream",
     "text": [
      "['100% Anger']\n",
      "['100% Anger']\n"
     ]
    },
    {
     "name": "stderr",
     "output_type": "stream",
     "text": [
      "Visualizing frames:  74%|███████▍  | 223/300 [00:24<00:08,  9.26it/s]"
     ]
    },
    {
     "name": "stdout",
     "output_type": "stream",
     "text": [
      "['100% Anger']\n",
      "['100% Anger']\n"
     ]
    },
    {
     "name": "stderr",
     "output_type": "stream",
     "text": [
      "Visualizing frames:  75%|███████▌  | 225/300 [00:24<00:08,  9.25it/s]"
     ]
    },
    {
     "name": "stdout",
     "output_type": "stream",
     "text": [
      "['99% Anger']\n",
      "['100% Anger']\n"
     ]
    },
    {
     "name": "stderr",
     "output_type": "stream",
     "text": [
      "Visualizing frames:  76%|███████▌  | 227/300 [00:24<00:07,  9.25it/s]"
     ]
    },
    {
     "name": "stdout",
     "output_type": "stream",
     "text": [
      "['99% Anger']\n",
      "['100% Anger']\n"
     ]
    },
    {
     "name": "stderr",
     "output_type": "stream",
     "text": [
      "Visualizing frames:  76%|███████▋  | 229/300 [00:24<00:07,  9.24it/s]"
     ]
    },
    {
     "name": "stdout",
     "output_type": "stream",
     "text": [
      "['99% Anger']\n",
      "['100% Anger']\n"
     ]
    },
    {
     "name": "stderr",
     "output_type": "stream",
     "text": [
      "Visualizing frames:  77%|███████▋  | 231/300 [00:25<00:07,  9.23it/s]"
     ]
    },
    {
     "name": "stdout",
     "output_type": "stream",
     "text": [
      "['100% Anger']\n",
      "['100% Anger']\n"
     ]
    },
    {
     "name": "stderr",
     "output_type": "stream",
     "text": [
      "Visualizing frames:  78%|███████▊  | 233/300 [00:25<00:07,  9.26it/s]"
     ]
    },
    {
     "name": "stdout",
     "output_type": "stream",
     "text": [
      "['100% Anger']\n",
      "['99% Anger']\n"
     ]
    },
    {
     "name": "stderr",
     "output_type": "stream",
     "text": [
      "Visualizing frames:  78%|███████▊  | 235/300 [00:25<00:07,  9.24it/s]"
     ]
    },
    {
     "name": "stdout",
     "output_type": "stream",
     "text": [
      "['100% Anger']\n",
      "['100% Anger']\n"
     ]
    },
    {
     "name": "stderr",
     "output_type": "stream",
     "text": [
      "Visualizing frames:  79%|███████▉  | 237/300 [00:25<00:06,  9.23it/s]"
     ]
    },
    {
     "name": "stdout",
     "output_type": "stream",
     "text": [
      "['100% Anger']\n",
      "['100% Anger']\n"
     ]
    },
    {
     "name": "stderr",
     "output_type": "stream",
     "text": [
      "Visualizing frames:  80%|███████▉  | 239/300 [00:25<00:06,  9.23it/s]"
     ]
    },
    {
     "name": "stdout",
     "output_type": "stream",
     "text": [
      "['100% Anger']\n",
      "['100% Anger']\n"
     ]
    },
    {
     "name": "stderr",
     "output_type": "stream",
     "text": [
      "Visualizing frames:  80%|████████  | 241/300 [00:26<00:06,  9.18it/s]"
     ]
    },
    {
     "name": "stdout",
     "output_type": "stream",
     "text": [
      "['101% Anger']\n",
      "['100% Anger']\n"
     ]
    },
    {
     "name": "stderr",
     "output_type": "stream",
     "text": [
      "Visualizing frames:  81%|████████  | 243/300 [00:26<00:06,  9.23it/s]"
     ]
    },
    {
     "name": "stdout",
     "output_type": "stream",
     "text": [
      "['100% Anger']\n",
      "['100% Anger']\n"
     ]
    },
    {
     "name": "stderr",
     "output_type": "stream",
     "text": [
      "Visualizing frames:  82%|████████▏ | 245/300 [00:26<00:05,  9.23it/s]"
     ]
    },
    {
     "name": "stdout",
     "output_type": "stream",
     "text": [
      "['100% Anger']\n",
      "['101% Anger']\n"
     ]
    },
    {
     "name": "stderr",
     "output_type": "stream",
     "text": [
      "Visualizing frames:  82%|████████▏ | 247/300 [00:26<00:05,  9.28it/s]"
     ]
    },
    {
     "name": "stdout",
     "output_type": "stream",
     "text": [
      "['100% Anger']\n",
      "['100% Anger']\n"
     ]
    },
    {
     "name": "stderr",
     "output_type": "stream",
     "text": [
      "Visualizing frames:  83%|████████▎ | 249/300 [00:26<00:05,  9.25it/s]"
     ]
    },
    {
     "name": "stdout",
     "output_type": "stream",
     "text": [
      "['100% Anger']\n",
      "['100% Anger']\n"
     ]
    },
    {
     "name": "stderr",
     "output_type": "stream",
     "text": [
      "Visualizing frames:  84%|████████▎ | 251/300 [00:27<00:05,  9.23it/s]"
     ]
    },
    {
     "name": "stdout",
     "output_type": "stream",
     "text": [
      "['100% Anger']\n",
      "['101% Anger']\n"
     ]
    },
    {
     "name": "stderr",
     "output_type": "stream",
     "text": [
      "Visualizing frames:  84%|████████▍ | 253/300 [00:27<00:05,  9.25it/s]"
     ]
    },
    {
     "name": "stdout",
     "output_type": "stream",
     "text": [
      "['100% Anger']\n",
      "['100% Anger']\n"
     ]
    },
    {
     "name": "stderr",
     "output_type": "stream",
     "text": [
      "Visualizing frames:  85%|████████▌ | 256/300 [00:27<00:04,  9.20it/s]"
     ]
    },
    {
     "name": "stdout",
     "output_type": "stream",
     "text": [
      "['100% Anger']\n",
      "['98% Anger']\n"
     ]
    },
    {
     "name": "stderr",
     "output_type": "stream",
     "text": [
      "Visualizing frames:  86%|████████▌ | 257/300 [00:27<00:04,  9.19it/s]"
     ]
    },
    {
     "name": "stdout",
     "output_type": "stream",
     "text": [
      "['99% Anger']\n",
      "['100% Anger']\n"
     ]
    },
    {
     "name": "stderr",
     "output_type": "stream",
     "text": [
      "Visualizing frames:  86%|████████▋ | 259/300 [00:28<00:04,  9.21it/s]"
     ]
    },
    {
     "name": "stdout",
     "output_type": "stream",
     "text": [
      "['100% Anger']\n",
      "['101% Anger', '1% Neutral']\n"
     ]
    },
    {
     "name": "stderr",
     "output_type": "stream",
     "text": [
      "Visualizing frames:  87%|████████▋ | 261/300 [00:28<00:04,  9.23it/s]"
     ]
    },
    {
     "name": "stdout",
     "output_type": "stream",
     "text": [
      "['101% Anger']\n",
      "['99% Anger']\n"
     ]
    },
    {
     "name": "stderr",
     "output_type": "stream",
     "text": [
      "Visualizing frames:  88%|████████▊ | 263/300 [00:28<00:04,  9.24it/s]"
     ]
    },
    {
     "name": "stdout",
     "output_type": "stream",
     "text": [
      "['99% Anger']\n",
      "['100% Anger']\n"
     ]
    },
    {
     "name": "stderr",
     "output_type": "stream",
     "text": [
      "Visualizing frames:  88%|████████▊ | 265/300 [00:28<00:03,  9.23it/s]"
     ]
    },
    {
     "name": "stdout",
     "output_type": "stream",
     "text": [
      "['100% Anger']\n",
      "['100% Anger']\n"
     ]
    },
    {
     "name": "stderr",
     "output_type": "stream",
     "text": [
      "Visualizing frames:  89%|████████▉ | 267/300 [00:28<00:03,  9.25it/s]"
     ]
    },
    {
     "name": "stdout",
     "output_type": "stream",
     "text": [
      "['100% Anger']\n",
      "['100% Anger']\n"
     ]
    },
    {
     "name": "stderr",
     "output_type": "stream",
     "text": [
      "Visualizing frames:  90%|████████▉ | 269/300 [00:29<00:03,  9.21it/s]"
     ]
    },
    {
     "name": "stdout",
     "output_type": "stream",
     "text": [
      "['100% Anger']\n",
      "['100% Anger']\n"
     ]
    },
    {
     "name": "stderr",
     "output_type": "stream",
     "text": [
      "Visualizing frames:  90%|█████████ | 271/300 [00:29<00:03,  9.19it/s]"
     ]
    },
    {
     "name": "stdout",
     "output_type": "stream",
     "text": [
      "['100% Anger']\n",
      "['100% Anger']\n"
     ]
    },
    {
     "name": "stderr",
     "output_type": "stream",
     "text": [
      "Visualizing frames:  91%|█████████ | 273/300 [00:29<00:02,  9.21it/s]"
     ]
    },
    {
     "name": "stdout",
     "output_type": "stream",
     "text": [
      "['100% Anger']\n",
      "['100% Anger']\n"
     ]
    },
    {
     "name": "stderr",
     "output_type": "stream",
     "text": [
      "Visualizing frames:  92%|█████████▏| 275/300 [00:29<00:02,  9.19it/s]"
     ]
    },
    {
     "name": "stdout",
     "output_type": "stream",
     "text": [
      "['100% Anger']\n",
      "['100% Anger']\n"
     ]
    },
    {
     "name": "stderr",
     "output_type": "stream",
     "text": [
      "Visualizing frames:  92%|█████████▏| 277/300 [00:30<00:02,  9.22it/s]"
     ]
    },
    {
     "name": "stdout",
     "output_type": "stream",
     "text": [
      "['100% Anger']\n",
      "['100% Anger']\n"
     ]
    },
    {
     "name": "stderr",
     "output_type": "stream",
     "text": [
      "Visualizing frames:  93%|█████████▎| 279/300 [00:30<00:02,  9.29it/s]"
     ]
    },
    {
     "name": "stdout",
     "output_type": "stream",
     "text": [
      "['100% Anger']\n",
      "['100% Anger']\n"
     ]
    },
    {
     "name": "stderr",
     "output_type": "stream",
     "text": [
      "Visualizing frames:  94%|█████████▎| 281/300 [00:30<00:02,  9.20it/s]"
     ]
    },
    {
     "name": "stdout",
     "output_type": "stream",
     "text": [
      "['100% Anger']\n",
      "['99% Anger']\n"
     ]
    },
    {
     "name": "stderr",
     "output_type": "stream",
     "text": [
      "Visualizing frames:  94%|█████████▍| 283/300 [00:30<00:01,  9.21it/s]"
     ]
    },
    {
     "name": "stdout",
     "output_type": "stream",
     "text": [
      "['100% Anger']\n",
      "['99% Anger']\n"
     ]
    },
    {
     "name": "stderr",
     "output_type": "stream",
     "text": [
      "Visualizing frames:  95%|█████████▌| 285/300 [00:30<00:01,  9.22it/s]"
     ]
    },
    {
     "name": "stdout",
     "output_type": "stream",
     "text": [
      "['100% Anger']\n",
      "['100% Anger']\n"
     ]
    },
    {
     "name": "stderr",
     "output_type": "stream",
     "text": [
      "Visualizing frames:  96%|█████████▌| 288/300 [00:31<00:01,  9.29it/s]"
     ]
    },
    {
     "name": "stdout",
     "output_type": "stream",
     "text": [
      "['99% Anger']\n",
      "['100% Anger']\n"
     ]
    },
    {
     "name": "stderr",
     "output_type": "stream",
     "text": [
      "Visualizing frames:  96%|█████████▋| 289/300 [00:31<00:01,  9.33it/s]"
     ]
    },
    {
     "name": "stdout",
     "output_type": "stream",
     "text": [
      "['100% Anger']\n",
      "['100% Anger']\n"
     ]
    },
    {
     "name": "stderr",
     "output_type": "stream",
     "text": [
      "Visualizing frames:  97%|█████████▋| 291/300 [00:31<00:00,  9.32it/s]"
     ]
    },
    {
     "name": "stdout",
     "output_type": "stream",
     "text": [
      "['100% Anger']\n",
      "['100% Anger']\n"
     ]
    },
    {
     "name": "stderr",
     "output_type": "stream",
     "text": [
      "Visualizing frames:  98%|█████████▊| 293/300 [00:31<00:00,  9.20it/s]"
     ]
    },
    {
     "name": "stdout",
     "output_type": "stream",
     "text": [
      "['99% Anger']\n",
      "['99% Anger']\n"
     ]
    },
    {
     "name": "stderr",
     "output_type": "stream",
     "text": [
      "Visualizing frames:  98%|█████████▊| 295/300 [00:31<00:00,  9.22it/s]"
     ]
    },
    {
     "name": "stdout",
     "output_type": "stream",
     "text": [
      "['100% Anger']\n",
      "['100% Anger']\n"
     ]
    },
    {
     "name": "stderr",
     "output_type": "stream",
     "text": [
      "Visualizing frames:  99%|█████████▉| 297/300 [00:32<00:00,  9.17it/s]"
     ]
    },
    {
     "name": "stdout",
     "output_type": "stream",
     "text": [
      "['100% Anger']\n",
      "['100% Anger']\n"
     ]
    },
    {
     "name": "stderr",
     "output_type": "stream",
     "text": [
      "Visualizing frames: 100%|█████████▉| 299/300 [00:32<00:00,  9.21it/s]"
     ]
    },
    {
     "name": "stdout",
     "output_type": "stream",
     "text": [
      "['99% Anger']\n",
      "['101% Anger']\n"
     ]
    },
    {
     "name": "stderr",
     "output_type": "stream",
     "text": [
      "Visualizing frames: 100%|██████████| 300/300 [00:32<00:00,  9.23it/s]\n"
     ]
    }
   ],
   "source": [
    "\n",
    "\n",
    "# Initialize a dictionary to keep track of cumulative scores and counts for each emotion\n",
    "emotion_data = {emotion: {\"score\": 0.0, \"count\": 0} for emotion in emotion_labels}\n",
    "\n",
    "# List to store average scores indexed by emotions\n",
    "average_scores = [0.0 for _ in emotion_labels]\n",
    "length =0\n",
    "\n",
    "\n",
    "# create model\n",
    "CHECKPOINT_PATH = \"checkpoints/proto5_checkpoint.pth\"\n",
    "\n",
    "m = MotionModel(input_dim=frame_dim, output_dim=frame_dim, blocksize=BLOCK_SIZE, hidden_dim=512, n_layers=8, dropout=DROPOUT)\n",
    "m = m.to(device)\n",
    "optimizer = torch.optim.Adam(m.parameters(), lr=LEARNING_RATE, weight_decay=L2_REG)  # weight_decay=1e-5 L2 regularization\n",
    "m, optimizer,scheduler, epoch, loss, train_seed = load_checkpoint(m, optimizer, CHECKPOINT_PATH)\n",
    "\n",
    "# initial generation always neutral\n",
    "generated = m.generate(specific_emotion_video, FRAMES_GENERATE)\n",
    "unnorm_out = unnormalise_list_2D(generated, max_x, min_x, max_y, min_y,max_x, min_x, max_y, min_y)\n",
    "\n",
    "# visualise\n",
    "visualise_skeleton(unnorm_out[0], max_x, max_y, max_frames=FRAMES_GENERATE,save = False,save_path=None,prefix=f'adam_{EPOCHS}_coord_switchhappytodisgust',train_seed=train_seed,delta=False)\n",
    "\n",
    "\n",
    "# have to normalise the generated data before putting it into the model"
   ]
  },
  {
   "cell_type": "code",
   "execution_count": 10,
   "metadata": {},
   "outputs": [],
   "source": [
    "def normalise_generated(unnorm_out, max_x, min_x, max_y, min_y, max_dx, min_dx, max_dy, min_dy):\n",
    "    norm_out = []\n",
    "    \n",
    "    for frame in unnorm_out:\n",
    "        norm_frame = []\n",
    "        \n",
    "        # Normalize the first 50 values (absolute x and y coordinates)\n",
    "        for i in range(0, 50, 2):\n",
    "            unnormalized_x = frame[i]\n",
    "            unnormalized_y = frame[i+1]\n",
    "            \n",
    "            norm_x = 2 * (unnormalized_x - min_x) / (max_x - min_x) - 1\n",
    "            norm_y = 2 * (unnormalized_y - min_y) / (max_y - min_y) - 1\n",
    "            \n",
    "            norm_frame.extend([norm_x, norm_y])\n",
    "        \n",
    "        # Normalize the second 50 values (x and y deltas)\n",
    "        for i in range(50, 100, 2):\n",
    "            unnormalized_dx = frame[i]\n",
    "            unnormalized_dy = frame[i+1]\n",
    "            \n",
    "            norm_dx = 2 * (unnormalized_dx - min_dx) / (max_dx - min_dx) - 1\n",
    "            norm_dy = 2 * (unnormalized_dy - min_dy) / (max_dy - min_dy) - 1\n",
    "            \n",
    "            norm_frame.extend([norm_dx, norm_dy])\n",
    "        \n",
    "        # Append the emotion encoding without normalizing\n",
    "        norm_frame.extend(frame[-7:])\n",
    "        norm_out.append(norm_frame)\n",
    "        \n",
    "    return norm_out\n"
   ]
  },
  {
   "cell_type": "code",
   "execution_count": 11,
   "metadata": {},
   "outputs": [],
   "source": [
    "import threading\n",
    "import queue\n",
    "import time\n",
    "import keyboard\n",
    "import queue\n"
   ]
  },
  {
   "cell_type": "code",
   "execution_count": 12,
   "metadata": {},
   "outputs": [
    {
     "name": "stderr",
     "output_type": "stream",
     "text": [
      "Visualizing frames:   2%|▏         | 1/50 [00:00<00:06,  7.98it/s]"
     ]
    },
    {
     "name": "stdout",
     "output_type": "stream",
     "text": [
      "['100% Anger']\n",
      "['100% Anger']\n"
     ]
    },
    {
     "name": "stderr",
     "output_type": "stream",
     "text": [
      "Visualizing frames:   6%|▌         | 3/50 [00:00<00:05,  8.90it/s]"
     ]
    },
    {
     "name": "stdout",
     "output_type": "stream",
     "text": [
      "['100% Anger']\n",
      "['100% Anger']\n"
     ]
    },
    {
     "name": "stderr",
     "output_type": "stream",
     "text": [
      "Visualizing frames:  10%|█         | 5/50 [00:00<00:04,  9.18it/s]"
     ]
    },
    {
     "name": "stdout",
     "output_type": "stream",
     "text": [
      "['100% Anger']\n",
      "['100% Anger']\n"
     ]
    },
    {
     "name": "stderr",
     "output_type": "stream",
     "text": [
      "Visualizing frames:  14%|█▍        | 7/50 [00:00<00:04,  9.18it/s]"
     ]
    },
    {
     "name": "stdout",
     "output_type": "stream",
     "text": [
      "['100% Anger']\n",
      "['100% Anger']\n"
     ]
    },
    {
     "name": "stderr",
     "output_type": "stream",
     "text": [
      "Visualizing frames:  18%|█▊        | 9/50 [00:00<00:04,  9.18it/s]"
     ]
    },
    {
     "name": "stdout",
     "output_type": "stream",
     "text": [
      "['100% Anger']\n",
      "['100% Anger']\n"
     ]
    },
    {
     "name": "stderr",
     "output_type": "stream",
     "text": [
      "Visualizing frames:  24%|██▍       | 12/50 [00:01<00:04,  9.21it/s]"
     ]
    },
    {
     "name": "stdout",
     "output_type": "stream",
     "text": [
      "['100% Anger']\n",
      "['100% Anger']\n"
     ]
    },
    {
     "name": "stderr",
     "output_type": "stream",
     "text": [
      "Visualizing frames:  26%|██▌       | 13/50 [00:01<00:04,  9.24it/s]"
     ]
    },
    {
     "name": "stdout",
     "output_type": "stream",
     "text": [
      "['100% Anger']\n",
      "['100% Anger']\n"
     ]
    },
    {
     "name": "stderr",
     "output_type": "stream",
     "text": [
      "Visualizing frames:  30%|███       | 15/50 [00:01<00:03,  9.27it/s]"
     ]
    },
    {
     "name": "stdout",
     "output_type": "stream",
     "text": [
      "['100% Anger']\n",
      "['100% Anger']\n"
     ]
    },
    {
     "name": "stderr",
     "output_type": "stream",
     "text": [
      "Visualizing frames:  34%|███▍      | 17/50 [00:01<00:03,  9.27it/s]"
     ]
    },
    {
     "name": "stdout",
     "output_type": "stream",
     "text": [
      "['100% Anger']\n",
      "['100% Anger']\n"
     ]
    },
    {
     "name": "stderr",
     "output_type": "stream",
     "text": [
      "Visualizing frames:  38%|███▊      | 19/50 [00:02<00:03,  9.27it/s]"
     ]
    },
    {
     "name": "stdout",
     "output_type": "stream",
     "text": [
      "['100% Anger']\n",
      "['100% Anger']\n"
     ]
    },
    {
     "name": "stderr",
     "output_type": "stream",
     "text": [
      "Visualizing frames:  42%|████▏     | 21/50 [00:02<00:03,  9.26it/s]"
     ]
    },
    {
     "name": "stdout",
     "output_type": "stream",
     "text": [
      "['100% Anger']\n",
      "['100% Anger']\n"
     ]
    },
    {
     "name": "stderr",
     "output_type": "stream",
     "text": [
      "Visualizing frames:  46%|████▌     | 23/50 [00:02<00:02,  9.23it/s]"
     ]
    },
    {
     "name": "stdout",
     "output_type": "stream",
     "text": [
      "['100% Anger']\n",
      "['100% Anger']\n"
     ]
    },
    {
     "name": "stderr",
     "output_type": "stream",
     "text": [
      "Visualizing frames:  50%|█████     | 25/50 [00:02<00:02,  9.21it/s]"
     ]
    },
    {
     "name": "stdout",
     "output_type": "stream",
     "text": [
      "['99% Anger']\n",
      "['100% Anger']\n"
     ]
    },
    {
     "name": "stderr",
     "output_type": "stream",
     "text": [
      "Visualizing frames:  54%|█████▍    | 27/50 [00:02<00:02,  9.13it/s]"
     ]
    },
    {
     "name": "stdout",
     "output_type": "stream",
     "text": [
      "['100% Anger']\n",
      "['100% Anger']\n"
     ]
    },
    {
     "name": "stderr",
     "output_type": "stream",
     "text": [
      "Visualizing frames:  58%|█████▊    | 29/50 [00:03<00:02,  9.15it/s]"
     ]
    },
    {
     "name": "stdout",
     "output_type": "stream",
     "text": [
      "['100% Anger']\n",
      "['100% Anger']\n"
     ]
    },
    {
     "name": "stderr",
     "output_type": "stream",
     "text": [
      "Visualizing frames:  62%|██████▏   | 31/50 [00:03<00:02,  9.19it/s]"
     ]
    },
    {
     "name": "stdout",
     "output_type": "stream",
     "text": [
      "['100% Anger']\n",
      "['100% Anger']\n"
     ]
    },
    {
     "name": "stderr",
     "output_type": "stream",
     "text": [
      "Visualizing frames:  66%|██████▌   | 33/50 [00:03<00:01,  9.23it/s]"
     ]
    },
    {
     "name": "stdout",
     "output_type": "stream",
     "text": [
      "['100% Anger']\n",
      "['100% Anger']\n"
     ]
    },
    {
     "name": "stderr",
     "output_type": "stream",
     "text": [
      "Visualizing frames:  70%|███████   | 35/50 [00:03<00:01,  9.28it/s]"
     ]
    },
    {
     "name": "stdout",
     "output_type": "stream",
     "text": [
      "['100% Anger']\n",
      "['100% Anger']\n"
     ]
    },
    {
     "name": "stderr",
     "output_type": "stream",
     "text": [
      "Visualizing frames:  74%|███████▍  | 37/50 [00:04<00:01,  9.27it/s]"
     ]
    },
    {
     "name": "stdout",
     "output_type": "stream",
     "text": [
      "['100% Anger']\n",
      "['100% Anger']\n"
     ]
    },
    {
     "name": "stderr",
     "output_type": "stream",
     "text": [
      "Visualizing frames:  78%|███████▊  | 39/50 [00:04<00:01,  9.29it/s]"
     ]
    },
    {
     "name": "stdout",
     "output_type": "stream",
     "text": [
      "['101% Anger']\n",
      "['100% Anger']\n"
     ]
    },
    {
     "name": "stderr",
     "output_type": "stream",
     "text": [
      "Visualizing frames:  80%|████████  | 40/50 [00:04<00:01,  9.28it/s]"
     ]
    },
    {
     "name": "stdout",
     "output_type": "stream",
     "text": [
      "['100% Anger']\n"
     ]
    },
    {
     "name": "stderr",
     "output_type": "stream",
     "text": [
      "Visualizing frames:  84%|████████▍ | 42/50 [00:04<00:01,  5.17it/s]"
     ]
    },
    {
     "name": "stdout",
     "output_type": "stream",
     "text": [
      "['99% Anger']\n",
      "['100% Anger']\n"
     ]
    },
    {
     "name": "stderr",
     "output_type": "stream",
     "text": [
      "Visualizing frames:  88%|████████▊ | 44/50 [00:05<00:00,  6.69it/s]"
     ]
    },
    {
     "name": "stdout",
     "output_type": "stream",
     "text": [
      "['101% Anger']\n",
      "['100% Anger']\n"
     ]
    },
    {
     "name": "stderr",
     "output_type": "stream",
     "text": [
      "Visualizing frames:  92%|█████████▏| 46/50 [00:05<00:00,  7.77it/s]"
     ]
    },
    {
     "name": "stdout",
     "output_type": "stream",
     "text": [
      "['100% Anger']\n",
      "['100% Anger']\n"
     ]
    },
    {
     "name": "stderr",
     "output_type": "stream",
     "text": [
      "Visualizing frames:  96%|█████████▌| 48/50 [00:05<00:00,  8.45it/s]"
     ]
    },
    {
     "name": "stdout",
     "output_type": "stream",
     "text": [
      "['100% Anger']\n",
      "['100% Anger']\n"
     ]
    },
    {
     "name": "stderr",
     "output_type": "stream",
     "text": [
      "Visualizing frames: 100%|██████████| 50/50 [00:05<00:00,  8.57it/s]\n"
     ]
    },
    {
     "name": "stdout",
     "output_type": "stream",
     "text": [
      "['100% Anger']\n"
     ]
    },
    {
     "name": "stderr",
     "output_type": "stream",
     "text": [
      "Visualizing frames:   2%|▏         | 1/50 [00:00<00:05,  8.68it/s]"
     ]
    },
    {
     "name": "stdout",
     "output_type": "stream",
     "text": [
      "['100% Anger']\n",
      "['100% Anger']\n"
     ]
    },
    {
     "name": "stderr",
     "output_type": "stream",
     "text": [
      "Visualizing frames:   6%|▌         | 3/50 [00:00<00:05,  9.24it/s]"
     ]
    },
    {
     "name": "stdout",
     "output_type": "stream",
     "text": [
      "['100% Anger']\n",
      "['100% Anger']\n"
     ]
    },
    {
     "name": "stderr",
     "output_type": "stream",
     "text": [
      "Visualizing frames:  10%|█         | 5/50 [00:00<00:04,  9.25it/s]"
     ]
    },
    {
     "name": "stdout",
     "output_type": "stream",
     "text": [
      "['100% Anger']\n",
      "['100% Anger']\n"
     ]
    },
    {
     "name": "stderr",
     "output_type": "stream",
     "text": [
      "Visualizing frames:  14%|█▍        | 7/50 [00:00<00:04,  9.27it/s]"
     ]
    },
    {
     "name": "stdout",
     "output_type": "stream",
     "text": [
      "['100% Anger']\n",
      "['100% Anger']\n"
     ]
    },
    {
     "name": "stderr",
     "output_type": "stream",
     "text": [
      "Visualizing frames:  18%|█▊        | 9/50 [00:00<00:04,  9.27it/s]"
     ]
    },
    {
     "name": "stdout",
     "output_type": "stream",
     "text": [
      "['100% Anger']\n",
      "['100% Anger']\n"
     ]
    },
    {
     "name": "stderr",
     "output_type": "stream",
     "text": [
      "Visualizing frames:  22%|██▏       | 11/50 [00:01<00:04,  9.24it/s]"
     ]
    },
    {
     "name": "stdout",
     "output_type": "stream",
     "text": [
      "['100% Anger']\n",
      "['100% Anger']\n"
     ]
    },
    {
     "name": "stderr",
     "output_type": "stream",
     "text": [
      "Visualizing frames:  26%|██▌       | 13/50 [00:01<00:03,  9.26it/s]"
     ]
    },
    {
     "name": "stdout",
     "output_type": "stream",
     "text": [
      "['100% Anger']\n",
      "['100% Anger']\n"
     ]
    },
    {
     "name": "stderr",
     "output_type": "stream",
     "text": [
      "Visualizing frames:  30%|███       | 15/50 [00:01<00:03,  9.17it/s]"
     ]
    },
    {
     "name": "stdout",
     "output_type": "stream",
     "text": [
      "['100% Anger']\n",
      "['100% Anger']\n"
     ]
    },
    {
     "name": "stderr",
     "output_type": "stream",
     "text": [
      "Visualizing frames:  34%|███▍      | 17/50 [00:01<00:03,  9.22it/s]"
     ]
    },
    {
     "name": "stdout",
     "output_type": "stream",
     "text": [
      "['99% Anger']\n",
      "2023-10-19 23:01:46 [Moon Rabbit]- happy\n",
      "[{'label': 'joy', 'score': 0.9400689005851746}]\n",
      "Average scores: [0.0, 0.0, 0.0, 0.9400689005851746, 0.0, 0.0, 0.0]\n",
      "['100% Anger']\n"
     ]
    },
    {
     "name": "stderr",
     "output_type": "stream",
     "text": [
      "Visualizing frames:  38%|███▊      | 19/50 [00:02<00:03,  9.24it/s]"
     ]
    },
    {
     "name": "stdout",
     "output_type": "stream",
     "text": [
      "['100% Anger']\n",
      "['99% Anger']\n"
     ]
    },
    {
     "name": "stderr",
     "output_type": "stream",
     "text": [
      "Visualizing frames:  42%|████▏     | 21/50 [00:02<00:03,  9.18it/s]"
     ]
    },
    {
     "name": "stdout",
     "output_type": "stream",
     "text": [
      "['100% Anger']\n",
      "['100% Anger']\n"
     ]
    },
    {
     "name": "stderr",
     "output_type": "stream",
     "text": [
      "Visualizing frames:  46%|████▌     | 23/50 [00:02<00:02,  9.21it/s]"
     ]
    },
    {
     "name": "stdout",
     "output_type": "stream",
     "text": [
      "['100% Anger']\n",
      "['100% Anger']\n"
     ]
    },
    {
     "name": "stderr",
     "output_type": "stream",
     "text": [
      "Visualizing frames:  50%|█████     | 25/50 [00:02<00:02,  9.22it/s]"
     ]
    },
    {
     "name": "stdout",
     "output_type": "stream",
     "text": [
      "['100% Anger']\n",
      "['100% Anger']\n"
     ]
    },
    {
     "name": "stderr",
     "output_type": "stream",
     "text": [
      "Visualizing frames:  54%|█████▍    | 27/50 [00:02<00:02,  9.21it/s]"
     ]
    },
    {
     "name": "stdout",
     "output_type": "stream",
     "text": [
      "['100% Anger']\n",
      "['99% Anger']\n"
     ]
    },
    {
     "name": "stderr",
     "output_type": "stream",
     "text": [
      "Visualizing frames:  58%|█████▊    | 29/50 [00:03<00:02,  9.20it/s]"
     ]
    },
    {
     "name": "stdout",
     "output_type": "stream",
     "text": [
      "['100% Anger']\n",
      "['101% Anger']\n"
     ]
    },
    {
     "name": "stderr",
     "output_type": "stream",
     "text": [
      "Visualizing frames:  62%|██████▏   | 31/50 [00:03<00:02,  9.16it/s]"
     ]
    },
    {
     "name": "stdout",
     "output_type": "stream",
     "text": [
      "['100% Anger']\n",
      "['100% Anger']\n"
     ]
    },
    {
     "name": "stderr",
     "output_type": "stream",
     "text": [
      "Visualizing frames:  66%|██████▌   | 33/50 [00:03<00:01,  9.26it/s]"
     ]
    },
    {
     "name": "stdout",
     "output_type": "stream",
     "text": [
      "['100% Anger']\n",
      "['100% Anger']\n"
     ]
    },
    {
     "name": "stderr",
     "output_type": "stream",
     "text": [
      "Visualizing frames:  70%|███████   | 35/50 [00:03<00:01,  9.24it/s]"
     ]
    },
    {
     "name": "stdout",
     "output_type": "stream",
     "text": [
      "['99% Anger']\n",
      "['100% Anger']\n"
     ]
    },
    {
     "name": "stderr",
     "output_type": "stream",
     "text": [
      "Visualizing frames:  74%|███████▍  | 37/50 [00:04<00:01,  9.22it/s]"
     ]
    },
    {
     "name": "stdout",
     "output_type": "stream",
     "text": [
      "['100% Anger']\n",
      "['100% Anger']\n"
     ]
    },
    {
     "name": "stderr",
     "output_type": "stream",
     "text": [
      "Visualizing frames:  78%|███████▊  | 39/50 [00:04<00:01,  9.29it/s]"
     ]
    },
    {
     "name": "stdout",
     "output_type": "stream",
     "text": [
      "['100% Anger']\n",
      "['100% Anger']\n"
     ]
    },
    {
     "name": "stderr",
     "output_type": "stream",
     "text": [
      "Visualizing frames:  82%|████████▏ | 41/50 [00:04<00:00,  9.26it/s]"
     ]
    },
    {
     "name": "stdout",
     "output_type": "stream",
     "text": [
      "['100% Anger']\n",
      "['100% Anger']\n"
     ]
    },
    {
     "name": "stderr",
     "output_type": "stream",
     "text": [
      "Visualizing frames:  86%|████████▌ | 43/50 [00:04<00:00,  9.33it/s]"
     ]
    },
    {
     "name": "stdout",
     "output_type": "stream",
     "text": [
      "['100% Anger']\n",
      "['99% Anger']\n"
     ]
    },
    {
     "name": "stderr",
     "output_type": "stream",
     "text": [
      "Visualizing frames:  90%|█████████ | 45/50 [00:04<00:00,  9.31it/s]"
     ]
    },
    {
     "name": "stdout",
     "output_type": "stream",
     "text": [
      "['100% Anger']\n",
      "['100% Anger']\n"
     ]
    },
    {
     "name": "stderr",
     "output_type": "stream",
     "text": [
      "Visualizing frames:  94%|█████████▍| 47/50 [00:05<00:00,  9.31it/s]"
     ]
    },
    {
     "name": "stdout",
     "output_type": "stream",
     "text": [
      "['99% Anger']\n",
      "['100% Anger']\n"
     ]
    },
    {
     "name": "stderr",
     "output_type": "stream",
     "text": [
      "Visualizing frames:  98%|█████████▊| 49/50 [00:05<00:00,  9.20it/s]"
     ]
    },
    {
     "name": "stdout",
     "output_type": "stream",
     "text": [
      "['100% Anger']\n",
      "['99% Anger']\n"
     ]
    },
    {
     "name": "stderr",
     "output_type": "stream",
     "text": [
      "Visualizing frames: 100%|██████████| 50/50 [00:05<00:00,  9.23it/s]\n"
     ]
    },
    {
     "name": "stdout",
     "output_type": "stream",
     "text": [
      "2023-10-19 23:01:51 [Moon Rabbit]- happy\n",
      "[{'label': 'joy', 'score': 0.9400689005851746}]\n",
      "Average scores: [0.0, 0.0, 0.0, 1, 0.0, 0.0, 0.0]\n",
      "2023-10-19 23:01:53 [Moon Rabbit]- happy\n",
      "[{'label': 'joy', 'score': 0.9400689005851746}]\n",
      "Average scores: [0.0, 0.0, 0.0, 1, 0.0, 0.0, 0.0]\n",
      "2023-10-19 23:01:54 [Moon Rabbit]- happy\n",
      "[{'label': 'joy', 'score': 0.9400689005851746}]\n",
      "Average scores: [0.0, 0.0, 0.0, 1, 0.0, 0.0, 0.0]\n",
      "2023-10-19 23:01:55 [Moon Rabbit]- happy\n",
      "[{'label': 'joy', 'score': 0.9400689005851746}]\n",
      "Average scores: [0, 0, 0, 1, 0, 0, 0]\n"
     ]
    },
    {
     "name": "stderr",
     "output_type": "stream",
     "text": [
      "Visualizing frames:   2%|▏         | 1/50 [00:00<00:05,  9.17it/s]"
     ]
    },
    {
     "name": "stdout",
     "output_type": "stream",
     "text": [
      "['100% Happiness']\n",
      "['100% Happiness']\n"
     ]
    },
    {
     "name": "stderr",
     "output_type": "stream",
     "text": [
      "Visualizing frames:   6%|▌         | 3/50 [00:00<00:05,  9.26it/s]"
     ]
    },
    {
     "name": "stdout",
     "output_type": "stream",
     "text": [
      "['100% Happiness']\n",
      "['100% Happiness']\n"
     ]
    },
    {
     "name": "stderr",
     "output_type": "stream",
     "text": [
      "Visualizing frames:  10%|█         | 5/50 [00:00<00:04,  9.28it/s]"
     ]
    },
    {
     "name": "stdout",
     "output_type": "stream",
     "text": [
      "['100% Happiness']\n",
      "['100% Happiness']\n"
     ]
    },
    {
     "name": "stderr",
     "output_type": "stream",
     "text": [
      "Visualizing frames:  14%|█▍        | 7/50 [00:00<00:04,  9.23it/s]"
     ]
    },
    {
     "name": "stdout",
     "output_type": "stream",
     "text": [
      "['100% Happiness']\n",
      "['100% Happiness']\n"
     ]
    },
    {
     "name": "stderr",
     "output_type": "stream",
     "text": [
      "Visualizing frames:  18%|█▊        | 9/50 [00:00<00:04,  9.25it/s]"
     ]
    },
    {
     "name": "stdout",
     "output_type": "stream",
     "text": [
      "['100% Happiness']\n",
      "['100% Happiness']\n"
     ]
    },
    {
     "name": "stderr",
     "output_type": "stream",
     "text": [
      "Visualizing frames:  22%|██▏       | 11/50 [00:01<00:04,  9.26it/s]"
     ]
    },
    {
     "name": "stdout",
     "output_type": "stream",
     "text": [
      "['100% Happiness']\n",
      "['100% Happiness']\n"
     ]
    },
    {
     "name": "stderr",
     "output_type": "stream",
     "text": [
      "Visualizing frames:  26%|██▌       | 13/50 [00:01<00:03,  9.27it/s]"
     ]
    },
    {
     "name": "stdout",
     "output_type": "stream",
     "text": [
      "['100% Happiness']\n",
      "['100% Happiness']\n"
     ]
    },
    {
     "name": "stderr",
     "output_type": "stream",
     "text": [
      "Visualizing frames:  30%|███       | 15/50 [00:01<00:03,  9.22it/s]"
     ]
    },
    {
     "name": "stdout",
     "output_type": "stream",
     "text": [
      "['100% Happiness']\n",
      "['100% Happiness']\n"
     ]
    },
    {
     "name": "stderr",
     "output_type": "stream",
     "text": [
      "Visualizing frames:  34%|███▍      | 17/50 [00:01<00:03,  9.26it/s]"
     ]
    },
    {
     "name": "stdout",
     "output_type": "stream",
     "text": [
      "['99% Happiness']\n",
      "['99% Happiness']\n"
     ]
    },
    {
     "name": "stderr",
     "output_type": "stream",
     "text": [
      "Visualizing frames:  38%|███▊      | 19/50 [00:02<00:03,  9.26it/s]"
     ]
    },
    {
     "name": "stdout",
     "output_type": "stream",
     "text": [
      "['99% Happiness']\n",
      "['99% Happiness']\n"
     ]
    },
    {
     "name": "stderr",
     "output_type": "stream",
     "text": [
      "Visualizing frames:  42%|████▏     | 21/50 [00:02<00:03,  9.23it/s]"
     ]
    },
    {
     "name": "stdout",
     "output_type": "stream",
     "text": [
      "['99% Happiness']\n",
      "['99% Happiness']\n"
     ]
    },
    {
     "name": "stderr",
     "output_type": "stream",
     "text": [
      "Visualizing frames:  46%|████▌     | 23/50 [00:02<00:02,  9.16it/s]"
     ]
    },
    {
     "name": "stdout",
     "output_type": "stream",
     "text": [
      "['99% Happiness']\n",
      "['99% Happiness']\n"
     ]
    },
    {
     "name": "stderr",
     "output_type": "stream",
     "text": [
      "Visualizing frames:  50%|█████     | 25/50 [00:02<00:02,  9.21it/s]"
     ]
    },
    {
     "name": "stdout",
     "output_type": "stream",
     "text": [
      "['99% Happiness']\n",
      "['99% Happiness']\n"
     ]
    },
    {
     "name": "stderr",
     "output_type": "stream",
     "text": [
      "Visualizing frames:  54%|█████▍    | 27/50 [00:02<00:02,  9.25it/s]"
     ]
    },
    {
     "name": "stdout",
     "output_type": "stream",
     "text": [
      "['99% Happiness']\n",
      "['99% Happiness']\n"
     ]
    },
    {
     "name": "stderr",
     "output_type": "stream",
     "text": [
      "Visualizing frames:  58%|█████▊    | 29/50 [00:03<00:02,  9.22it/s]"
     ]
    },
    {
     "name": "stdout",
     "output_type": "stream",
     "text": [
      "['99% Happiness']\n",
      "['99% Happiness']\n"
     ]
    },
    {
     "name": "stderr",
     "output_type": "stream",
     "text": [
      "Visualizing frames:  62%|██████▏   | 31/50 [00:03<00:02,  9.23it/s]"
     ]
    },
    {
     "name": "stdout",
     "output_type": "stream",
     "text": [
      "['99% Happiness']\n",
      "['99% Happiness']\n"
     ]
    },
    {
     "name": "stderr",
     "output_type": "stream",
     "text": [
      "Visualizing frames:  66%|██████▌   | 33/50 [00:03<00:01,  9.26it/s]"
     ]
    },
    {
     "name": "stdout",
     "output_type": "stream",
     "text": [
      "['99% Happiness']\n",
      "['99% Happiness']\n"
     ]
    },
    {
     "name": "stderr",
     "output_type": "stream",
     "text": [
      "Visualizing frames:  70%|███████   | 35/50 [00:03<00:01,  9.28it/s]"
     ]
    },
    {
     "name": "stdout",
     "output_type": "stream",
     "text": [
      "['99% Happiness']\n",
      "['99% Happiness']\n"
     ]
    },
    {
     "name": "stderr",
     "output_type": "stream",
     "text": [
      "Visualizing frames:  74%|███████▍  | 37/50 [00:04<00:01,  9.27it/s]"
     ]
    },
    {
     "name": "stdout",
     "output_type": "stream",
     "text": [
      "['99% Happiness']\n",
      "['99% Happiness']\n"
     ]
    },
    {
     "name": "stderr",
     "output_type": "stream",
     "text": [
      "Visualizing frames:  78%|███████▊  | 39/50 [00:04<00:01,  9.29it/s]"
     ]
    },
    {
     "name": "stdout",
     "output_type": "stream",
     "text": [
      "['99% Happiness']\n",
      "['99% Happiness']\n"
     ]
    },
    {
     "name": "stderr",
     "output_type": "stream",
     "text": [
      "Visualizing frames:  82%|████████▏ | 41/50 [00:04<00:00,  9.26it/s]"
     ]
    },
    {
     "name": "stdout",
     "output_type": "stream",
     "text": [
      "['99% Happiness']\n",
      "['99% Happiness']\n"
     ]
    },
    {
     "name": "stderr",
     "output_type": "stream",
     "text": [
      "Visualizing frames:  88%|████████▊ | 44/50 [00:04<00:00,  9.31it/s]"
     ]
    },
    {
     "name": "stdout",
     "output_type": "stream",
     "text": [
      "['99% Happiness']\n",
      "['99% Happiness']\n"
     ]
    },
    {
     "name": "stderr",
     "output_type": "stream",
     "text": [
      "Visualizing frames:  90%|█████████ | 45/50 [00:04<00:00,  9.28it/s]"
     ]
    },
    {
     "name": "stdout",
     "output_type": "stream",
     "text": [
      "['99% Happiness']\n",
      "['99% Happiness']\n"
     ]
    },
    {
     "name": "stderr",
     "output_type": "stream",
     "text": [
      "Visualizing frames:  94%|█████████▍| 47/50 [00:05<00:00,  9.34it/s]"
     ]
    },
    {
     "name": "stdout",
     "output_type": "stream",
     "text": [
      "['99% Happiness']\n",
      "['99% Happiness']\n"
     ]
    },
    {
     "name": "stderr",
     "output_type": "stream",
     "text": [
      "Visualizing frames:  98%|█████████▊| 49/50 [00:05<00:00,  9.29it/s]"
     ]
    },
    {
     "name": "stdout",
     "output_type": "stream",
     "text": [
      "['99% Happiness']\n",
      "['99% Happiness']\n"
     ]
    },
    {
     "name": "stderr",
     "output_type": "stream",
     "text": [
      "Visualizing frames: 100%|██████████| 50/50 [00:05<00:00,  9.26it/s]\n",
      "Visualizing frames:   2%|▏         | 1/50 [00:00<00:05,  9.47it/s]"
     ]
    },
    {
     "name": "stdout",
     "output_type": "stream",
     "text": [
      "['100% Happiness']\n",
      "['100% Happiness']\n"
     ]
    },
    {
     "name": "stderr",
     "output_type": "stream",
     "text": [
      "Visualizing frames:   6%|▌         | 3/50 [00:00<00:05,  9.29it/s]"
     ]
    },
    {
     "name": "stdout",
     "output_type": "stream",
     "text": [
      "['100% Happiness']\n",
      "['100% Happiness']\n"
     ]
    },
    {
     "name": "stderr",
     "output_type": "stream",
     "text": [
      "Visualizing frames:  12%|█▏        | 6/50 [00:00<00:04,  9.22it/s]"
     ]
    },
    {
     "name": "stdout",
     "output_type": "stream",
     "text": [
      "['100% Happiness']\n",
      "['100% Happiness']\n"
     ]
    },
    {
     "name": "stderr",
     "output_type": "stream",
     "text": [
      "Visualizing frames:  14%|█▍        | 7/50 [00:00<00:04,  9.27it/s]"
     ]
    },
    {
     "name": "stdout",
     "output_type": "stream",
     "text": [
      "['100% Happiness']\n",
      "['100% Happiness']\n"
     ]
    },
    {
     "name": "stderr",
     "output_type": "stream",
     "text": [
      "Visualizing frames:  18%|█▊        | 9/50 [00:00<00:04,  9.27it/s]"
     ]
    },
    {
     "name": "stdout",
     "output_type": "stream",
     "text": [
      "['100% Happiness']\n",
      "['100% Happiness']\n"
     ]
    },
    {
     "name": "stderr",
     "output_type": "stream",
     "text": [
      "Visualizing frames:  22%|██▏       | 11/50 [00:01<00:04,  9.28it/s]"
     ]
    },
    {
     "name": "stdout",
     "output_type": "stream",
     "text": [
      "['100% Happiness']\n",
      "['100% Happiness']\n"
     ]
    },
    {
     "name": "stderr",
     "output_type": "stream",
     "text": [
      "Visualizing frames:  26%|██▌       | 13/50 [00:01<00:03,  9.33it/s]"
     ]
    },
    {
     "name": "stdout",
     "output_type": "stream",
     "text": [
      "['100% Happiness']\n",
      "['100% Happiness']\n"
     ]
    },
    {
     "name": "stderr",
     "output_type": "stream",
     "text": [
      "Visualizing frames:  30%|███       | 15/50 [00:01<00:03,  9.24it/s]"
     ]
    },
    {
     "name": "stdout",
     "output_type": "stream",
     "text": [
      "['100% Happiness']\n",
      "['100% Happiness']\n"
     ]
    },
    {
     "name": "stderr",
     "output_type": "stream",
     "text": [
      "Visualizing frames:  34%|███▍      | 17/50 [00:01<00:03,  9.29it/s]"
     ]
    },
    {
     "name": "stdout",
     "output_type": "stream",
     "text": [
      "['99% Happiness']\n",
      "['100% Happiness']\n"
     ]
    },
    {
     "name": "stderr",
     "output_type": "stream",
     "text": [
      "Visualizing frames:  38%|███▊      | 19/50 [00:02<00:03,  9.26it/s]"
     ]
    },
    {
     "name": "stdout",
     "output_type": "stream",
     "text": [
      "['99% Happiness']\n",
      "['99% Happiness']\n"
     ]
    },
    {
     "name": "stderr",
     "output_type": "stream",
     "text": [
      "Visualizing frames:  42%|████▏     | 21/50 [00:02<00:03,  9.28it/s]"
     ]
    },
    {
     "name": "stdout",
     "output_type": "stream",
     "text": [
      "['99% Happiness']\n",
      "['99% Happiness']\n"
     ]
    },
    {
     "name": "stderr",
     "output_type": "stream",
     "text": [
      "Visualizing frames:  48%|████▊     | 24/50 [00:02<00:02,  9.33it/s]"
     ]
    },
    {
     "name": "stdout",
     "output_type": "stream",
     "text": [
      "['99% Happiness']\n",
      "['99% Happiness']\n"
     ]
    },
    {
     "name": "stderr",
     "output_type": "stream",
     "text": [
      "Visualizing frames:  50%|█████     | 25/50 [00:02<00:02,  9.30it/s]"
     ]
    },
    {
     "name": "stdout",
     "output_type": "stream",
     "text": [
      "['99% Happiness']\n",
      "['99% Happiness']\n"
     ]
    },
    {
     "name": "stderr",
     "output_type": "stream",
     "text": [
      "Visualizing frames:  54%|█████▍    | 27/50 [00:02<00:02,  9.28it/s]"
     ]
    },
    {
     "name": "stdout",
     "output_type": "stream",
     "text": [
      "['99% Happiness']\n",
      "['99% Happiness']\n"
     ]
    },
    {
     "name": "stderr",
     "output_type": "stream",
     "text": [
      "Visualizing frames:  58%|█████▊    | 29/50 [00:03<00:02,  9.28it/s]"
     ]
    },
    {
     "name": "stdout",
     "output_type": "stream",
     "text": [
      "['99% Happiness']\n",
      "['99% Happiness']\n"
     ]
    },
    {
     "name": "stderr",
     "output_type": "stream",
     "text": [
      "Visualizing frames:  62%|██████▏   | 31/50 [00:03<00:02,  9.32it/s]"
     ]
    },
    {
     "name": "stdout",
     "output_type": "stream",
     "text": [
      "['99% Happiness']\n",
      "['99% Happiness']\n"
     ]
    },
    {
     "name": "stderr",
     "output_type": "stream",
     "text": [
      "Visualizing frames:  66%|██████▌   | 33/50 [00:03<00:01,  9.25it/s]"
     ]
    },
    {
     "name": "stdout",
     "output_type": "stream",
     "text": [
      "['99% Happiness']\n",
      "['99% Happiness']\n"
     ]
    },
    {
     "name": "stderr",
     "output_type": "stream",
     "text": [
      "Visualizing frames:  70%|███████   | 35/50 [00:03<00:01,  9.23it/s]"
     ]
    },
    {
     "name": "stdout",
     "output_type": "stream",
     "text": [
      "['99% Happiness']\n",
      "['100% Happiness']\n"
     ]
    },
    {
     "name": "stderr",
     "output_type": "stream",
     "text": [
      "Visualizing frames:  74%|███████▍  | 37/50 [00:03<00:01,  9.28it/s]"
     ]
    },
    {
     "name": "stdout",
     "output_type": "stream",
     "text": [
      "['99% Happiness']\n",
      "['99% Happiness']\n"
     ]
    },
    {
     "name": "stderr",
     "output_type": "stream",
     "text": [
      "Visualizing frames:  78%|███████▊  | 39/50 [00:04<00:01,  9.25it/s]"
     ]
    },
    {
     "name": "stdout",
     "output_type": "stream",
     "text": [
      "['99% Happiness']\n",
      "['98% Happiness']\n"
     ]
    },
    {
     "name": "stderr",
     "output_type": "stream",
     "text": [
      "Visualizing frames:  82%|████████▏ | 41/50 [00:04<00:00,  9.22it/s]"
     ]
    },
    {
     "name": "stdout",
     "output_type": "stream",
     "text": [
      "['99% Happiness']\n",
      "['99% Happiness']\n"
     ]
    },
    {
     "name": "stderr",
     "output_type": "stream",
     "text": [
      "Visualizing frames:  86%|████████▌ | 43/50 [00:04<00:00,  9.21it/s]"
     ]
    },
    {
     "name": "stdout",
     "output_type": "stream",
     "text": [
      "['99% Happiness']\n",
      "['100% Happiness']\n"
     ]
    },
    {
     "name": "stderr",
     "output_type": "stream",
     "text": [
      "Visualizing frames:  90%|█████████ | 45/50 [00:04<00:00,  9.22it/s]"
     ]
    },
    {
     "name": "stdout",
     "output_type": "stream",
     "text": [
      "['99% Happiness']\n",
      "['99% Happiness']\n"
     ]
    },
    {
     "name": "stderr",
     "output_type": "stream",
     "text": [
      "Visualizing frames:  94%|█████████▍| 47/50 [00:05<00:00,  9.23it/s]"
     ]
    },
    {
     "name": "stdout",
     "output_type": "stream",
     "text": [
      "['100% Happiness']\n",
      "['99% Happiness']\n"
     ]
    },
    {
     "name": "stderr",
     "output_type": "stream",
     "text": [
      "Visualizing frames:  98%|█████████▊| 49/50 [00:05<00:00,  9.30it/s]"
     ]
    },
    {
     "name": "stdout",
     "output_type": "stream",
     "text": [
      "['99% Happiness']\n",
      "['98% Happiness']\n"
     ]
    },
    {
     "name": "stderr",
     "output_type": "stream",
     "text": [
      "Visualizing frames: 100%|██████████| 50/50 [00:05<00:00,  9.27it/s]\n",
      "Visualizing frames:   2%|▏         | 1/50 [00:00<00:05,  9.17it/s]"
     ]
    },
    {
     "name": "stdout",
     "output_type": "stream",
     "text": [
      "['100% Happiness']\n",
      "['100% Happiness']\n"
     ]
    },
    {
     "name": "stderr",
     "output_type": "stream",
     "text": [
      "Visualizing frames:   6%|▌         | 3/50 [00:00<00:05,  9.26it/s]"
     ]
    },
    {
     "name": "stdout",
     "output_type": "stream",
     "text": [
      "['100% Happiness']\n",
      "['100% Happiness']\n"
     ]
    },
    {
     "name": "stderr",
     "output_type": "stream",
     "text": [
      "Visualizing frames:  10%|█         | 5/50 [00:00<00:04,  9.16it/s]"
     ]
    },
    {
     "name": "stdout",
     "output_type": "stream",
     "text": [
      "['100% Happiness']\n",
      "['100% Happiness']\n"
     ]
    },
    {
     "name": "stderr",
     "output_type": "stream",
     "text": [
      "Visualizing frames:  14%|█▍        | 7/50 [00:00<00:04,  9.16it/s]"
     ]
    },
    {
     "name": "stdout",
     "output_type": "stream",
     "text": [
      "['100% Happiness']\n",
      "['100% Happiness']\n"
     ]
    },
    {
     "name": "stderr",
     "output_type": "stream",
     "text": [
      "Visualizing frames:  18%|█▊        | 9/50 [00:00<00:04,  9.15it/s]"
     ]
    },
    {
     "name": "stdout",
     "output_type": "stream",
     "text": [
      "['100% Happiness']\n",
      "['100% Happiness']\n"
     ]
    },
    {
     "name": "stderr",
     "output_type": "stream",
     "text": [
      "Visualizing frames:  22%|██▏       | 11/50 [00:01<00:04,  9.21it/s]"
     ]
    },
    {
     "name": "stdout",
     "output_type": "stream",
     "text": [
      "['100% Happiness']\n",
      "['100% Happiness']\n"
     ]
    },
    {
     "name": "stderr",
     "output_type": "stream",
     "text": [
      "Visualizing frames:  26%|██▌       | 13/50 [00:01<00:04,  9.24it/s]"
     ]
    },
    {
     "name": "stdout",
     "output_type": "stream",
     "text": [
      "['100% Happiness']\n",
      "['100% Happiness']\n"
     ]
    },
    {
     "name": "stderr",
     "output_type": "stream",
     "text": [
      "Visualizing frames:  30%|███       | 15/50 [00:01<00:03,  9.31it/s]"
     ]
    },
    {
     "name": "stdout",
     "output_type": "stream",
     "text": [
      "['100% Happiness']\n",
      "['100% Happiness']\n"
     ]
    },
    {
     "name": "stderr",
     "output_type": "stream",
     "text": [
      "Visualizing frames:  34%|███▍      | 17/50 [00:01<00:03,  9.30it/s]"
     ]
    },
    {
     "name": "stdout",
     "output_type": "stream",
     "text": [
      "['99% Happiness']\n",
      "['99% Happiness']\n"
     ]
    },
    {
     "name": "stderr",
     "output_type": "stream",
     "text": [
      "Visualizing frames:  40%|████      | 20/50 [00:02<00:03,  9.31it/s]"
     ]
    },
    {
     "name": "stdout",
     "output_type": "stream",
     "text": [
      "['99% Happiness']\n",
      "['99% Happiness']\n"
     ]
    },
    {
     "name": "stderr",
     "output_type": "stream",
     "text": [
      "Visualizing frames:  42%|████▏     | 21/50 [00:02<00:03,  9.31it/s]"
     ]
    },
    {
     "name": "stdout",
     "output_type": "stream",
     "text": [
      "['99% Happiness']\n",
      "['99% Happiness']\n"
     ]
    },
    {
     "name": "stderr",
     "output_type": "stream",
     "text": [
      "Visualizing frames:  46%|████▌     | 23/50 [00:02<00:02,  9.27it/s]"
     ]
    },
    {
     "name": "stdout",
     "output_type": "stream",
     "text": [
      "['99% Happiness']\n",
      "['99% Happiness']\n"
     ]
    },
    {
     "name": "stderr",
     "output_type": "stream",
     "text": [
      "Visualizing frames:  50%|█████     | 25/50 [00:02<00:02,  9.28it/s]"
     ]
    },
    {
     "name": "stdout",
     "output_type": "stream",
     "text": [
      "['99% Happiness']\n",
      "['99% Happiness']\n"
     ]
    },
    {
     "name": "stderr",
     "output_type": "stream",
     "text": [
      "Visualizing frames:  54%|█████▍    | 27/50 [00:02<00:02,  9.34it/s]"
     ]
    },
    {
     "name": "stdout",
     "output_type": "stream",
     "text": [
      "['99% Happiness']\n",
      "['99% Happiness']\n"
     ]
    },
    {
     "name": "stderr",
     "output_type": "stream",
     "text": [
      "Visualizing frames:  58%|█████▊    | 29/50 [00:03<00:02,  9.34it/s]"
     ]
    },
    {
     "name": "stdout",
     "output_type": "stream",
     "text": [
      "['99% Happiness']\n",
      "['99% Happiness']\n"
     ]
    },
    {
     "name": "stderr",
     "output_type": "stream",
     "text": [
      "Visualizing frames:  62%|██████▏   | 31/50 [00:03<00:02,  9.29it/s]"
     ]
    },
    {
     "name": "stdout",
     "output_type": "stream",
     "text": [
      "['99% Happiness']\n",
      "['99% Happiness']\n"
     ]
    },
    {
     "name": "stderr",
     "output_type": "stream",
     "text": [
      "Visualizing frames:  66%|██████▌   | 33/50 [00:03<00:01,  9.20it/s]"
     ]
    },
    {
     "name": "stdout",
     "output_type": "stream",
     "text": [
      "['99% Happiness']\n",
      "['99% Happiness']\n"
     ]
    },
    {
     "name": "stderr",
     "output_type": "stream",
     "text": [
      "Visualizing frames:  70%|███████   | 35/50 [00:03<00:01,  9.25it/s]"
     ]
    },
    {
     "name": "stdout",
     "output_type": "stream",
     "text": [
      "['99% Happiness']\n",
      "['99% Happiness']\n"
     ]
    },
    {
     "name": "stderr",
     "output_type": "stream",
     "text": [
      "Visualizing frames:  74%|███████▍  | 37/50 [00:03<00:01,  9.22it/s]"
     ]
    },
    {
     "name": "stdout",
     "output_type": "stream",
     "text": [
      "['99% Happiness']\n",
      "['99% Happiness']\n"
     ]
    },
    {
     "name": "stderr",
     "output_type": "stream",
     "text": [
      "Visualizing frames:  78%|███████▊  | 39/50 [00:04<00:01,  9.22it/s]"
     ]
    },
    {
     "name": "stdout",
     "output_type": "stream",
     "text": [
      "['99% Happiness']\n",
      "['99% Happiness']\n"
     ]
    },
    {
     "name": "stderr",
     "output_type": "stream",
     "text": [
      "Visualizing frames:  82%|████████▏ | 41/50 [00:04<00:00,  9.19it/s]"
     ]
    },
    {
     "name": "stdout",
     "output_type": "stream",
     "text": [
      "['99% Happiness']\n",
      "['99% Happiness']\n"
     ]
    },
    {
     "name": "stderr",
     "output_type": "stream",
     "text": [
      "Visualizing frames:  86%|████████▌ | 43/50 [00:04<00:00,  9.25it/s]"
     ]
    },
    {
     "name": "stdout",
     "output_type": "stream",
     "text": [
      "['99% Happiness']\n",
      "['100% Happiness']\n"
     ]
    },
    {
     "name": "stderr",
     "output_type": "stream",
     "text": [
      "Visualizing frames:  90%|█████████ | 45/50 [00:04<00:00,  9.22it/s]"
     ]
    },
    {
     "name": "stdout",
     "output_type": "stream",
     "text": [
      "['99% Happiness']\n",
      "['99% Happiness']\n"
     ]
    },
    {
     "name": "stderr",
     "output_type": "stream",
     "text": [
      "Visualizing frames:  94%|█████████▍| 47/50 [00:05<00:00,  9.24it/s]"
     ]
    },
    {
     "name": "stdout",
     "output_type": "stream",
     "text": [
      "['99% Happiness']\n",
      "['99% Happiness']\n"
     ]
    },
    {
     "name": "stderr",
     "output_type": "stream",
     "text": [
      "Visualizing frames:  98%|█████████▊| 49/50 [00:05<00:00,  9.28it/s]"
     ]
    },
    {
     "name": "stdout",
     "output_type": "stream",
     "text": [
      "['99% Happiness']\n",
      "['99% Happiness']\n"
     ]
    },
    {
     "name": "stderr",
     "output_type": "stream",
     "text": [
      "Visualizing frames: 100%|██████████| 50/50 [00:05<00:00,  9.25it/s]\n",
      "Visualizing frames:   2%|▏         | 1/50 [00:00<00:05,  9.43it/s]"
     ]
    },
    {
     "name": "stdout",
     "output_type": "stream",
     "text": [
      "['100% Happiness']\n",
      "['100% Happiness']\n"
     ]
    },
    {
     "name": "stderr",
     "output_type": "stream",
     "text": [
      "Visualizing frames:   8%|▊         | 4/50 [00:00<00:04,  9.34it/s]"
     ]
    },
    {
     "name": "stdout",
     "output_type": "stream",
     "text": [
      "['100% Happiness']\n",
      "['100% Happiness']\n"
     ]
    },
    {
     "name": "stderr",
     "output_type": "stream",
     "text": [
      "Visualizing frames:  10%|█         | 5/50 [00:00<00:04,  9.35it/s]"
     ]
    },
    {
     "name": "stdout",
     "output_type": "stream",
     "text": [
      "['100% Happiness']\n",
      "['100% Happiness']\n"
     ]
    },
    {
     "name": "stderr",
     "output_type": "stream",
     "text": [
      "Visualizing frames:  14%|█▍        | 7/50 [00:00<00:04,  9.26it/s]"
     ]
    },
    {
     "name": "stdout",
     "output_type": "stream",
     "text": [
      "['100% Happiness']\n",
      "['100% Happiness']\n"
     ]
    },
    {
     "name": "stderr",
     "output_type": "stream",
     "text": [
      "Visualizing frames:  18%|█▊        | 9/50 [00:00<00:04,  9.25it/s]"
     ]
    },
    {
     "name": "stdout",
     "output_type": "stream",
     "text": [
      "['100% Happiness']\n",
      "['100% Happiness']\n"
     ]
    },
    {
     "name": "stderr",
     "output_type": "stream",
     "text": [
      "Visualizing frames:  22%|██▏       | 11/50 [00:01<00:04,  9.32it/s]"
     ]
    },
    {
     "name": "stdout",
     "output_type": "stream",
     "text": [
      "['100% Happiness']\n",
      "['100% Happiness']\n"
     ]
    },
    {
     "name": "stderr",
     "output_type": "stream",
     "text": [
      "Visualizing frames:  28%|██▊       | 14/50 [00:01<00:03,  9.32it/s]"
     ]
    },
    {
     "name": "stdout",
     "output_type": "stream",
     "text": [
      "['100% Happiness']\n",
      "['100% Happiness']\n"
     ]
    },
    {
     "name": "stderr",
     "output_type": "stream",
     "text": [
      "Visualizing frames:  30%|███       | 15/50 [00:01<00:03,  9.27it/s]"
     ]
    },
    {
     "name": "stdout",
     "output_type": "stream",
     "text": [
      "['100% Happiness']\n",
      "['100% Happiness']\n"
     ]
    },
    {
     "name": "stderr",
     "output_type": "stream",
     "text": [
      "Visualizing frames:  34%|███▍      | 17/50 [00:01<00:03,  9.31it/s]"
     ]
    },
    {
     "name": "stdout",
     "output_type": "stream",
     "text": [
      "['99% Happiness']\n",
      "['99% Happiness']\n"
     ]
    },
    {
     "name": "stderr",
     "output_type": "stream",
     "text": [
      "Visualizing frames:  38%|███▊      | 19/50 [00:02<00:03,  9.27it/s]"
     ]
    },
    {
     "name": "stdout",
     "output_type": "stream",
     "text": [
      "['99% Happiness']\n",
      "['99% Happiness']\n"
     ]
    },
    {
     "name": "stderr",
     "output_type": "stream",
     "text": [
      "Visualizing frames:  42%|████▏     | 21/50 [00:02<00:03,  9.28it/s]"
     ]
    },
    {
     "name": "stdout",
     "output_type": "stream",
     "text": [
      "['99% Happiness']\n",
      "['99% Happiness']\n"
     ]
    },
    {
     "name": "stderr",
     "output_type": "stream",
     "text": [
      "Visualizing frames:  46%|████▌     | 23/50 [00:02<00:02,  9.31it/s]"
     ]
    },
    {
     "name": "stdout",
     "output_type": "stream",
     "text": [
      "['99% Happiness']\n",
      "['99% Happiness']\n"
     ]
    },
    {
     "name": "stderr",
     "output_type": "stream",
     "text": [
      "Visualizing frames:  50%|█████     | 25/50 [00:02<00:02,  9.32it/s]"
     ]
    },
    {
     "name": "stdout",
     "output_type": "stream",
     "text": [
      "['99% Happiness']\n",
      "['99% Happiness']\n"
     ]
    },
    {
     "name": "stderr",
     "output_type": "stream",
     "text": [
      "Visualizing frames:  54%|█████▍    | 27/50 [00:02<00:02,  9.29it/s]"
     ]
    },
    {
     "name": "stdout",
     "output_type": "stream",
     "text": [
      "['99% Happiness']\n",
      "['99% Happiness']\n"
     ]
    },
    {
     "name": "stderr",
     "output_type": "stream",
     "text": [
      "Visualizing frames:  58%|█████▊    | 29/50 [00:03<00:02,  9.26it/s]"
     ]
    },
    {
     "name": "stdout",
     "output_type": "stream",
     "text": [
      "['99% Happiness']\n",
      "['99% Happiness']\n"
     ]
    },
    {
     "name": "stderr",
     "output_type": "stream",
     "text": [
      "Visualizing frames:  64%|██████▍   | 32/50 [00:03<00:01,  9.29it/s]"
     ]
    },
    {
     "name": "stdout",
     "output_type": "stream",
     "text": [
      "['99% Happiness']\n",
      "['99% Happiness']\n"
     ]
    },
    {
     "name": "stderr",
     "output_type": "stream",
     "text": [
      "Visualizing frames:  66%|██████▌   | 33/50 [00:03<00:01,  9.27it/s]"
     ]
    },
    {
     "name": "stdout",
     "output_type": "stream",
     "text": [
      "['99% Happiness']\n",
      "['99% Happiness']\n"
     ]
    },
    {
     "name": "stderr",
     "output_type": "stream",
     "text": [
      "Visualizing frames:  70%|███████   | 35/50 [00:03<00:01,  9.25it/s]"
     ]
    },
    {
     "name": "stdout",
     "output_type": "stream",
     "text": [
      "['99% Happiness']\n",
      "['99% Happiness']\n"
     ]
    },
    {
     "name": "stderr",
     "output_type": "stream",
     "text": [
      "Visualizing frames:  74%|███████▍  | 37/50 [00:03<00:01,  9.29it/s]"
     ]
    },
    {
     "name": "stdout",
     "output_type": "stream",
     "text": [
      "['99% Happiness']\n",
      "['99% Happiness']\n"
     ]
    },
    {
     "name": "stderr",
     "output_type": "stream",
     "text": [
      "Visualizing frames:  78%|███████▊  | 39/50 [00:04<00:01,  9.27it/s]"
     ]
    },
    {
     "name": "stdout",
     "output_type": "stream",
     "text": [
      "['99% Happiness']\n",
      "['99% Happiness']\n"
     ]
    },
    {
     "name": "stderr",
     "output_type": "stream",
     "text": [
      "Visualizing frames:  82%|████████▏ | 41/50 [00:04<00:00,  9.25it/s]"
     ]
    },
    {
     "name": "stdout",
     "output_type": "stream",
     "text": [
      "['99% Happiness']\n",
      "['99% Happiness']\n"
     ]
    },
    {
     "name": "stderr",
     "output_type": "stream",
     "text": [
      "Visualizing frames:  86%|████████▌ | 43/50 [00:04<00:00,  9.31it/s]"
     ]
    },
    {
     "name": "stdout",
     "output_type": "stream",
     "text": [
      "['99% Happiness']\n",
      "['99% Happiness']\n"
     ]
    },
    {
     "name": "stderr",
     "output_type": "stream",
     "text": [
      "Visualizing frames:  90%|█████████ | 45/50 [00:04<00:00,  9.30it/s]"
     ]
    },
    {
     "name": "stdout",
     "output_type": "stream",
     "text": [
      "['99% Happiness']\n",
      "['99% Happiness']\n"
     ]
    },
    {
     "name": "stderr",
     "output_type": "stream",
     "text": [
      "Visualizing frames:  94%|█████████▍| 47/50 [00:05<00:00,  9.24it/s]"
     ]
    },
    {
     "name": "stdout",
     "output_type": "stream",
     "text": [
      "['98% Happiness']\n",
      "['99% Happiness']\n"
     ]
    },
    {
     "name": "stderr",
     "output_type": "stream",
     "text": [
      "Visualizing frames:  98%|█████████▊| 49/50 [00:05<00:00,  9.21it/s]"
     ]
    },
    {
     "name": "stdout",
     "output_type": "stream",
     "text": [
      "['99% Happiness']\n",
      "['99% Happiness']\n"
     ]
    },
    {
     "name": "stderr",
     "output_type": "stream",
     "text": [
      "Visualizing frames: 100%|██████████| 50/50 [00:05<00:00,  9.28it/s]\n",
      "Visualizing frames:   2%|▏         | 1/50 [00:00<00:05,  9.42it/s]"
     ]
    },
    {
     "name": "stdout",
     "output_type": "stream",
     "text": [
      "['100% Happiness']\n",
      "['100% Happiness']\n"
     ]
    },
    {
     "name": "stderr",
     "output_type": "stream",
     "text": [
      "Visualizing frames:   6%|▌         | 3/50 [00:00<00:05,  9.31it/s]"
     ]
    },
    {
     "name": "stdout",
     "output_type": "stream",
     "text": [
      "['100% Happiness']\n",
      "['100% Happiness']\n"
     ]
    },
    {
     "name": "stderr",
     "output_type": "stream",
     "text": [
      "Visualizing frames:  10%|█         | 5/50 [00:00<00:04,  9.23it/s]"
     ]
    },
    {
     "name": "stdout",
     "output_type": "stream",
     "text": [
      "['100% Happiness']\n",
      "['100% Happiness']\n"
     ]
    },
    {
     "name": "stderr",
     "output_type": "stream",
     "text": [
      "Visualizing frames:  14%|█▍        | 7/50 [00:00<00:04,  9.26it/s]"
     ]
    },
    {
     "name": "stdout",
     "output_type": "stream",
     "text": [
      "['100% Happiness']\n",
      "['100% Happiness']\n"
     ]
    },
    {
     "name": "stderr",
     "output_type": "stream",
     "text": [
      "Visualizing frames:  18%|█▊        | 9/50 [00:00<00:04,  9.26it/s]"
     ]
    },
    {
     "name": "stdout",
     "output_type": "stream",
     "text": [
      "['100% Happiness']\n",
      "['100% Happiness']\n"
     ]
    },
    {
     "name": "stderr",
     "output_type": "stream",
     "text": [
      "Visualizing frames:  22%|██▏       | 11/50 [00:01<00:04,  9.26it/s]"
     ]
    },
    {
     "name": "stdout",
     "output_type": "stream",
     "text": [
      "['100% Happiness']\n",
      "['100% Happiness']\n"
     ]
    },
    {
     "name": "stderr",
     "output_type": "stream",
     "text": [
      "Visualizing frames:  26%|██▌       | 13/50 [00:01<00:04,  9.20it/s]"
     ]
    },
    {
     "name": "stdout",
     "output_type": "stream",
     "text": [
      "['100% Happiness']\n",
      "['100% Happiness']\n"
     ]
    },
    {
     "name": "stderr",
     "output_type": "stream",
     "text": [
      "Visualizing frames:  30%|███       | 15/50 [00:01<00:03,  9.20it/s]"
     ]
    },
    {
     "name": "stdout",
     "output_type": "stream",
     "text": [
      "['100% Happiness']\n",
      "['100% Happiness']\n"
     ]
    },
    {
     "name": "stderr",
     "output_type": "stream",
     "text": [
      "Visualizing frames:  34%|███▍      | 17/50 [00:01<00:03,  9.22it/s]"
     ]
    },
    {
     "name": "stdout",
     "output_type": "stream",
     "text": [
      "['99% Happiness']\n",
      "['95% Happiness', '4% Neutral']\n"
     ]
    },
    {
     "name": "stderr",
     "output_type": "stream",
     "text": [
      "Visualizing frames:  38%|███▊      | 19/50 [00:02<00:03,  9.21it/s]"
     ]
    },
    {
     "name": "stdout",
     "output_type": "stream",
     "text": [
      "['99% Happiness']\n",
      "['99% Happiness']\n"
     ]
    },
    {
     "name": "stderr",
     "output_type": "stream",
     "text": [
      "Visualizing frames:  42%|████▏     | 21/50 [00:02<00:03,  9.17it/s]"
     ]
    },
    {
     "name": "stdout",
     "output_type": "stream",
     "text": [
      "['99% Happiness']\n",
      "['99% Happiness']\n"
     ]
    },
    {
     "name": "stderr",
     "output_type": "stream",
     "text": [
      "Visualizing frames:  46%|████▌     | 23/50 [00:02<00:02,  9.18it/s]"
     ]
    },
    {
     "name": "stdout",
     "output_type": "stream",
     "text": [
      "['99% Happiness']\n",
      "['99% Happiness']\n"
     ]
    },
    {
     "name": "stderr",
     "output_type": "stream",
     "text": [
      "Visualizing frames:  50%|█████     | 25/50 [00:02<00:02,  9.24it/s]"
     ]
    },
    {
     "name": "stdout",
     "output_type": "stream",
     "text": [
      "['99% Happiness']\n",
      "['99% Happiness']\n"
     ]
    },
    {
     "name": "stderr",
     "output_type": "stream",
     "text": [
      "Visualizing frames:  54%|█████▍    | 27/50 [00:02<00:02,  9.27it/s]"
     ]
    },
    {
     "name": "stdout",
     "output_type": "stream",
     "text": [
      "['99% Happiness']\n",
      "['99% Happiness']\n"
     ]
    },
    {
     "name": "stderr",
     "output_type": "stream",
     "text": [
      "Visualizing frames:  58%|█████▊    | 29/50 [00:03<00:02,  9.23it/s]"
     ]
    },
    {
     "name": "stdout",
     "output_type": "stream",
     "text": [
      "['99% Happiness']\n",
      "['99% Happiness']\n"
     ]
    },
    {
     "name": "stderr",
     "output_type": "stream",
     "text": [
      "Visualizing frames:  62%|██████▏   | 31/50 [00:03<00:02,  9.19it/s]"
     ]
    },
    {
     "name": "stdout",
     "output_type": "stream",
     "text": [
      "['99% Happiness']\n",
      "['99% Happiness']\n"
     ]
    },
    {
     "name": "stderr",
     "output_type": "stream",
     "text": [
      "Visualizing frames:  66%|██████▌   | 33/50 [00:03<00:01,  9.25it/s]"
     ]
    },
    {
     "name": "stdout",
     "output_type": "stream",
     "text": [
      "['99% Happiness']\n",
      "['99% Happiness']\n"
     ]
    },
    {
     "name": "stderr",
     "output_type": "stream",
     "text": [
      "Visualizing frames:  70%|███████   | 35/50 [00:03<00:01,  9.27it/s]"
     ]
    },
    {
     "name": "stdout",
     "output_type": "stream",
     "text": [
      "['99% Happiness']\n",
      "['99% Happiness']\n"
     ]
    },
    {
     "name": "stderr",
     "output_type": "stream",
     "text": [
      "Visualizing frames:  74%|███████▍  | 37/50 [00:04<00:01,  9.23it/s]"
     ]
    },
    {
     "name": "stdout",
     "output_type": "stream",
     "text": [
      "['99% Happiness']\n",
      "['98% Happiness']\n"
     ]
    },
    {
     "name": "stderr",
     "output_type": "stream",
     "text": [
      "Visualizing frames:  78%|███████▊  | 39/50 [00:04<00:01,  9.26it/s]"
     ]
    },
    {
     "name": "stdout",
     "output_type": "stream",
     "text": [
      "['98% Happiness']\n",
      "['99% Happiness']\n"
     ]
    },
    {
     "name": "stderr",
     "output_type": "stream",
     "text": [
      "Visualizing frames:  82%|████████▏ | 41/50 [00:04<00:00,  9.24it/s]"
     ]
    },
    {
     "name": "stdout",
     "output_type": "stream",
     "text": [
      "['99% Happiness']\n",
      "['99% Happiness']\n"
     ]
    },
    {
     "name": "stderr",
     "output_type": "stream",
     "text": [
      "Visualizing frames:  86%|████████▌ | 43/50 [00:04<00:00,  9.23it/s]"
     ]
    },
    {
     "name": "stdout",
     "output_type": "stream",
     "text": [
      "['99% Happiness']\n",
      "['99% Happiness']\n"
     ]
    },
    {
     "name": "stderr",
     "output_type": "stream",
     "text": [
      "Visualizing frames:  90%|█████████ | 45/50 [00:04<00:00,  9.28it/s]"
     ]
    },
    {
     "name": "stdout",
     "output_type": "stream",
     "text": [
      "['99% Happiness']\n",
      "['99% Happiness']\n"
     ]
    },
    {
     "name": "stderr",
     "output_type": "stream",
     "text": [
      "Visualizing frames:  94%|█████████▍| 47/50 [00:05<00:00,  9.24it/s]"
     ]
    },
    {
     "name": "stdout",
     "output_type": "stream",
     "text": [
      "['99% Happiness']\n",
      "['99% Happiness']\n"
     ]
    },
    {
     "name": "stderr",
     "output_type": "stream",
     "text": [
      "Visualizing frames: 100%|██████████| 50/50 [00:05<00:00,  9.27it/s]"
     ]
    },
    {
     "name": "stdout",
     "output_type": "stream",
     "text": [
      "['99% Happiness']\n",
      "['99% Happiness']\n"
     ]
    },
    {
     "name": "stderr",
     "output_type": "stream",
     "text": [
      "Visualizing frames: 100%|██████████| 50/50 [00:05<00:00,  9.24it/s]\n",
      "Visualizing frames:   2%|▏         | 1/50 [00:00<00:05,  9.18it/s]"
     ]
    },
    {
     "name": "stdout",
     "output_type": "stream",
     "text": [
      "['100% Happiness']\n",
      "['100% Happiness']\n"
     ]
    },
    {
     "name": "stderr",
     "output_type": "stream",
     "text": [
      "Visualizing frames:   6%|▌         | 3/50 [00:00<00:05,  9.31it/s]"
     ]
    },
    {
     "name": "stdout",
     "output_type": "stream",
     "text": [
      "['100% Happiness']\n",
      "['100% Happiness']\n"
     ]
    },
    {
     "name": "stderr",
     "output_type": "stream",
     "text": [
      "Visualizing frames:  10%|█         | 5/50 [00:00<00:04,  9.29it/s]"
     ]
    },
    {
     "name": "stdout",
     "output_type": "stream",
     "text": [
      "['100% Happiness']\n",
      "['100% Happiness']\n"
     ]
    },
    {
     "name": "stderr",
     "output_type": "stream",
     "text": [
      "Visualizing frames:  14%|█▍        | 7/50 [00:00<00:04,  9.26it/s]"
     ]
    },
    {
     "name": "stdout",
     "output_type": "stream",
     "text": [
      "['100% Happiness']\n",
      "['100% Happiness']\n"
     ]
    },
    {
     "name": "stderr",
     "output_type": "stream",
     "text": [
      "Visualizing frames:  18%|█▊        | 9/50 [00:00<00:04,  9.30it/s]"
     ]
    },
    {
     "name": "stdout",
     "output_type": "stream",
     "text": [
      "['100% Happiness']\n",
      "['100% Happiness']\n"
     ]
    },
    {
     "name": "stderr",
     "output_type": "stream",
     "text": [
      "Visualizing frames:  22%|██▏       | 11/50 [00:01<00:04,  9.33it/s]"
     ]
    },
    {
     "name": "stdout",
     "output_type": "stream",
     "text": [
      "['100% Happiness']\n",
      "['100% Happiness']\n"
     ]
    },
    {
     "name": "stderr",
     "output_type": "stream",
     "text": [
      "Visualizing frames:  26%|██▌       | 13/50 [00:01<00:03,  9.26it/s]"
     ]
    },
    {
     "name": "stdout",
     "output_type": "stream",
     "text": [
      "['100% Happiness']\n",
      "['100% Happiness']\n"
     ]
    },
    {
     "name": "stderr",
     "output_type": "stream",
     "text": [
      "Visualizing frames:  30%|███       | 15/50 [00:01<00:03,  9.29it/s]"
     ]
    },
    {
     "name": "stdout",
     "output_type": "stream",
     "text": [
      "['100% Happiness']\n",
      "['100% Happiness']\n"
     ]
    },
    {
     "name": "stderr",
     "output_type": "stream",
     "text": [
      "Visualizing frames:  34%|███▍      | 17/50 [00:01<00:03,  9.25it/s]"
     ]
    },
    {
     "name": "stdout",
     "output_type": "stream",
     "text": [
      "['99% Happiness']\n",
      "['100% Happiness']\n"
     ]
    },
    {
     "name": "stderr",
     "output_type": "stream",
     "text": [
      "Visualizing frames:  38%|███▊      | 19/50 [00:02<00:03,  9.23it/s]"
     ]
    },
    {
     "name": "stdout",
     "output_type": "stream",
     "text": [
      "['99% Happiness']\n",
      "['99% Happiness']\n"
     ]
    },
    {
     "name": "stderr",
     "output_type": "stream",
     "text": [
      "Visualizing frames:  42%|████▏     | 21/50 [00:02<00:03,  9.27it/s]"
     ]
    },
    {
     "name": "stdout",
     "output_type": "stream",
     "text": [
      "['99% Happiness']\n",
      "['99% Happiness']\n"
     ]
    },
    {
     "name": "stderr",
     "output_type": "stream",
     "text": [
      "Visualizing frames:  46%|████▌     | 23/50 [00:02<00:02,  9.27it/s]"
     ]
    },
    {
     "name": "stdout",
     "output_type": "stream",
     "text": [
      "['99% Happiness']\n",
      "['99% Happiness']\n"
     ]
    },
    {
     "name": "stderr",
     "output_type": "stream",
     "text": [
      "Visualizing frames:  50%|█████     | 25/50 [00:02<00:02,  9.30it/s]"
     ]
    },
    {
     "name": "stdout",
     "output_type": "stream",
     "text": [
      "['99% Happiness']\n",
      "['99% Happiness']\n"
     ]
    },
    {
     "name": "stderr",
     "output_type": "stream",
     "text": [
      "Visualizing frames:  54%|█████▍    | 27/50 [00:02<00:02,  9.30it/s]"
     ]
    },
    {
     "name": "stdout",
     "output_type": "stream",
     "text": [
      "['99% Happiness']\n",
      "['99% Happiness']\n"
     ]
    },
    {
     "name": "stderr",
     "output_type": "stream",
     "text": [
      "Visualizing frames:  58%|█████▊    | 29/50 [00:03<00:02,  9.26it/s]"
     ]
    },
    {
     "name": "stdout",
     "output_type": "stream",
     "text": [
      "['99% Happiness']\n",
      "['99% Happiness']\n"
     ]
    },
    {
     "name": "stderr",
     "output_type": "stream",
     "text": [
      "Visualizing frames:  62%|██████▏   | 31/50 [00:03<00:02,  9.35it/s]"
     ]
    },
    {
     "name": "stdout",
     "output_type": "stream",
     "text": [
      "['99% Happiness']\n",
      "['99% Happiness']\n"
     ]
    },
    {
     "name": "stderr",
     "output_type": "stream",
     "text": [
      "Visualizing frames:  66%|██████▌   | 33/50 [00:03<00:01,  9.27it/s]"
     ]
    },
    {
     "name": "stdout",
     "output_type": "stream",
     "text": [
      "['99% Happiness']\n",
      "['99% Happiness']\n"
     ]
    },
    {
     "name": "stderr",
     "output_type": "stream",
     "text": [
      "Visualizing frames:  70%|███████   | 35/50 [00:03<00:01,  9.33it/s]"
     ]
    },
    {
     "name": "stdout",
     "output_type": "stream",
     "text": [
      "['99% Happiness']\n",
      "['99% Happiness']\n"
     ]
    },
    {
     "name": "stderr",
     "output_type": "stream",
     "text": [
      "Visualizing frames:  74%|███████▍  | 37/50 [00:03<00:01,  9.33it/s]"
     ]
    },
    {
     "name": "stdout",
     "output_type": "stream",
     "text": [
      "['99% Happiness']\n",
      "['99% Happiness']\n"
     ]
    },
    {
     "name": "stderr",
     "output_type": "stream",
     "text": [
      "Visualizing frames:  78%|███████▊  | 39/50 [00:04<00:01,  9.25it/s]"
     ]
    },
    {
     "name": "stdout",
     "output_type": "stream",
     "text": [
      "['99% Happiness']\n",
      "['99% Happiness']\n"
     ]
    },
    {
     "name": "stderr",
     "output_type": "stream",
     "text": [
      "Visualizing frames:  82%|████████▏ | 41/50 [00:04<00:00,  9.24it/s]"
     ]
    },
    {
     "name": "stdout",
     "output_type": "stream",
     "text": [
      "['99% Happiness']\n",
      "['99% Happiness']\n"
     ]
    },
    {
     "name": "stderr",
     "output_type": "stream",
     "text": [
      "Visualizing frames:  86%|████████▌ | 43/50 [00:04<00:00,  9.20it/s]"
     ]
    },
    {
     "name": "stdout",
     "output_type": "stream",
     "text": [
      "['100% Happiness']\n",
      "['99% Happiness']\n"
     ]
    },
    {
     "name": "stderr",
     "output_type": "stream",
     "text": [
      "Visualizing frames:  90%|█████████ | 45/50 [00:04<00:00,  9.18it/s]"
     ]
    },
    {
     "name": "stdout",
     "output_type": "stream",
     "text": [
      "['99% Happiness']\n",
      "['100% Happiness']\n"
     ]
    },
    {
     "name": "stderr",
     "output_type": "stream",
     "text": [
      "Visualizing frames:  94%|█████████▍| 47/50 [00:05<00:00,  9.21it/s]"
     ]
    },
    {
     "name": "stdout",
     "output_type": "stream",
     "text": [
      "['99% Happiness']\n",
      "['99% Happiness']\n"
     ]
    },
    {
     "name": "stderr",
     "output_type": "stream",
     "text": [
      "Visualizing frames:  98%|█████████▊| 49/50 [00:05<00:00,  9.24it/s]"
     ]
    },
    {
     "name": "stdout",
     "output_type": "stream",
     "text": [
      "['99% Happiness']\n",
      "['99% Happiness']\n"
     ]
    },
    {
     "name": "stderr",
     "output_type": "stream",
     "text": [
      "Visualizing frames: 100%|██████████| 50/50 [00:05<00:00,  9.27it/s]\n",
      "Visualizing frames:   2%|▏         | 1/50 [00:00<00:05,  8.91it/s]"
     ]
    },
    {
     "name": "stdout",
     "output_type": "stream",
     "text": [
      "['100% Happiness']\n",
      "['100% Happiness']\n"
     ]
    },
    {
     "name": "stderr",
     "output_type": "stream",
     "text": [
      "Visualizing frames:   6%|▌         | 3/50 [00:00<00:05,  9.20it/s]"
     ]
    },
    {
     "name": "stdout",
     "output_type": "stream",
     "text": [
      "['100% Happiness']\n",
      "['100% Happiness']\n"
     ]
    },
    {
     "name": "stderr",
     "output_type": "stream",
     "text": [
      "Visualizing frames:  10%|█         | 5/50 [00:00<00:04,  9.25it/s]"
     ]
    },
    {
     "name": "stdout",
     "output_type": "stream",
     "text": [
      "['100% Happiness']\n",
      "['100% Happiness']\n"
     ]
    },
    {
     "name": "stderr",
     "output_type": "stream",
     "text": [
      "Visualizing frames:  14%|█▍        | 7/50 [00:00<00:04,  9.26it/s]"
     ]
    },
    {
     "name": "stdout",
     "output_type": "stream",
     "text": [
      "['100% Happiness']\n",
      "['100% Happiness']\n"
     ]
    },
    {
     "name": "stderr",
     "output_type": "stream",
     "text": [
      "Visualizing frames:  18%|█▊        | 9/50 [00:00<00:04,  9.26it/s]"
     ]
    },
    {
     "name": "stdout",
     "output_type": "stream",
     "text": [
      "['100% Happiness']\n",
      "['100% Happiness']\n"
     ]
    },
    {
     "name": "stderr",
     "output_type": "stream",
     "text": [
      "Visualizing frames:  22%|██▏       | 11/50 [00:01<00:04,  9.27it/s]"
     ]
    },
    {
     "name": "stdout",
     "output_type": "stream",
     "text": [
      "['100% Happiness']\n",
      "['100% Happiness']\n"
     ]
    },
    {
     "name": "stderr",
     "output_type": "stream",
     "text": [
      "Visualizing frames:  26%|██▌       | 13/50 [00:01<00:03,  9.27it/s]"
     ]
    },
    {
     "name": "stdout",
     "output_type": "stream",
     "text": [
      "['100% Happiness']\n",
      "['100% Happiness']\n"
     ]
    },
    {
     "name": "stderr",
     "output_type": "stream",
     "text": [
      "Visualizing frames:  30%|███       | 15/50 [00:01<00:03,  9.19it/s]"
     ]
    },
    {
     "name": "stdout",
     "output_type": "stream",
     "text": [
      "['100% Happiness']\n",
      "['100% Happiness']\n"
     ]
    },
    {
     "name": "stderr",
     "output_type": "stream",
     "text": [
      "Visualizing frames:  34%|███▍      | 17/50 [00:01<00:03,  9.16it/s]"
     ]
    },
    {
     "name": "stdout",
     "output_type": "stream",
     "text": [
      "['99% Happiness']\n",
      "['99% Happiness']\n"
     ]
    },
    {
     "name": "stderr",
     "output_type": "stream",
     "text": [
      "Visualizing frames:  38%|███▊      | 19/50 [00:02<00:03,  9.15it/s]"
     ]
    },
    {
     "name": "stdout",
     "output_type": "stream",
     "text": [
      "['99% Happiness']\n",
      "['99% Happiness']\n"
     ]
    },
    {
     "name": "stderr",
     "output_type": "stream",
     "text": [
      "Visualizing frames:  42%|████▏     | 21/50 [00:02<00:03,  9.20it/s]"
     ]
    },
    {
     "name": "stdout",
     "output_type": "stream",
     "text": [
      "['99% Happiness']\n",
      "['99% Happiness']\n"
     ]
    },
    {
     "name": "stderr",
     "output_type": "stream",
     "text": [
      "Visualizing frames:  46%|████▌     | 23/50 [00:02<00:02,  9.25it/s]"
     ]
    },
    {
     "name": "stdout",
     "output_type": "stream",
     "text": [
      "['99% Happiness']\n",
      "['99% Happiness']\n"
     ]
    },
    {
     "name": "stderr",
     "output_type": "stream",
     "text": [
      "Visualizing frames:  50%|█████     | 25/50 [00:02<00:02,  9.24it/s]"
     ]
    },
    {
     "name": "stdout",
     "output_type": "stream",
     "text": [
      "['99% Happiness']\n",
      "['99% Happiness']\n"
     ]
    },
    {
     "name": "stderr",
     "output_type": "stream",
     "text": [
      "Visualizing frames:  54%|█████▍    | 27/50 [00:02<00:02,  9.26it/s]"
     ]
    },
    {
     "name": "stdout",
     "output_type": "stream",
     "text": [
      "['99% Happiness']\n",
      "['99% Happiness']\n"
     ]
    },
    {
     "name": "stderr",
     "output_type": "stream",
     "text": [
      "Visualizing frames:  58%|█████▊    | 29/50 [00:03<00:02,  9.24it/s]"
     ]
    },
    {
     "name": "stdout",
     "output_type": "stream",
     "text": [
      "['99% Happiness']\n",
      "['99% Happiness']\n"
     ]
    },
    {
     "name": "stderr",
     "output_type": "stream",
     "text": [
      "Visualizing frames:  62%|██████▏   | 31/50 [00:03<00:02,  9.25it/s]"
     ]
    },
    {
     "name": "stdout",
     "output_type": "stream",
     "text": [
      "['99% Happiness']\n",
      "['99% Happiness']\n"
     ]
    },
    {
     "name": "stderr",
     "output_type": "stream",
     "text": [
      "Visualizing frames:  66%|██████▌   | 33/50 [00:03<00:01,  9.22it/s]"
     ]
    },
    {
     "name": "stdout",
     "output_type": "stream",
     "text": [
      "['99% Happiness']\n",
      "['99% Happiness']\n"
     ]
    },
    {
     "name": "stderr",
     "output_type": "stream",
     "text": [
      "Visualizing frames:  70%|███████   | 35/50 [00:03<00:01,  9.25it/s]"
     ]
    },
    {
     "name": "stdout",
     "output_type": "stream",
     "text": [
      "['99% Happiness']\n",
      "['99% Happiness']\n"
     ]
    },
    {
     "name": "stderr",
     "output_type": "stream",
     "text": [
      "Visualizing frames:  76%|███████▌  | 38/50 [00:04<00:01,  9.24it/s]"
     ]
    },
    {
     "name": "stdout",
     "output_type": "stream",
     "text": [
      "['99% Happiness']\n",
      "['99% Happiness']\n"
     ]
    },
    {
     "name": "stderr",
     "output_type": "stream",
     "text": [
      "Visualizing frames:  78%|███████▊  | 39/50 [00:04<00:01,  9.20it/s]"
     ]
    },
    {
     "name": "stdout",
     "output_type": "stream",
     "text": [
      "['99% Happiness']\n",
      "['99% Happiness']\n"
     ]
    },
    {
     "name": "stderr",
     "output_type": "stream",
     "text": [
      "Visualizing frames:  82%|████████▏ | 41/50 [00:04<00:00,  9.17it/s]"
     ]
    },
    {
     "name": "stdout",
     "output_type": "stream",
     "text": [
      "['99% Happiness']\n",
      "['99% Happiness']\n"
     ]
    },
    {
     "name": "stderr",
     "output_type": "stream",
     "text": [
      "Visualizing frames:  86%|████████▌ | 43/50 [00:04<00:00,  9.19it/s]"
     ]
    },
    {
     "name": "stdout",
     "output_type": "stream",
     "text": [
      "['99% Happiness']\n",
      "['99% Happiness']\n"
     ]
    },
    {
     "name": "stderr",
     "output_type": "stream",
     "text": [
      "Visualizing frames:  90%|█████████ | 45/50 [00:04<00:00,  9.19it/s]"
     ]
    },
    {
     "name": "stdout",
     "output_type": "stream",
     "text": [
      "['99% Happiness']\n",
      "['99% Happiness']\n"
     ]
    },
    {
     "name": "stderr",
     "output_type": "stream",
     "text": [
      "Visualizing frames:  94%|█████████▍| 47/50 [00:05<00:00,  9.26it/s]"
     ]
    },
    {
     "name": "stdout",
     "output_type": "stream",
     "text": [
      "['99% Happiness']\n",
      "['99% Happiness']\n"
     ]
    },
    {
     "name": "stderr",
     "output_type": "stream",
     "text": [
      "Visualizing frames:  98%|█████████▊| 49/50 [00:05<00:00,  9.28it/s]"
     ]
    },
    {
     "name": "stdout",
     "output_type": "stream",
     "text": [
      "['99% Happiness']\n",
      "['99% Happiness']\n"
     ]
    },
    {
     "name": "stderr",
     "output_type": "stream",
     "text": [
      "Visualizing frames: 100%|██████████| 50/50 [00:05<00:00,  9.23it/s]\n",
      "Visualizing frames:   2%|▏         | 1/50 [00:00<00:05,  9.53it/s]"
     ]
    },
    {
     "name": "stdout",
     "output_type": "stream",
     "text": [
      "['100% Happiness']\n",
      "['100% Happiness']\n"
     ]
    },
    {
     "name": "stderr",
     "output_type": "stream",
     "text": [
      "Visualizing frames:   6%|▌         | 3/50 [00:00<00:05,  9.32it/s]"
     ]
    },
    {
     "name": "stdout",
     "output_type": "stream",
     "text": [
      "['100% Happiness']\n",
      "['100% Happiness']\n"
     ]
    },
    {
     "name": "stderr",
     "output_type": "stream",
     "text": [
      "Visualizing frames:  10%|█         | 5/50 [00:00<00:04,  9.20it/s]"
     ]
    },
    {
     "name": "stdout",
     "output_type": "stream",
     "text": [
      "['100% Happiness']\n",
      "['100% Happiness']\n"
     ]
    },
    {
     "name": "stderr",
     "output_type": "stream",
     "text": [
      "Visualizing frames:  14%|█▍        | 7/50 [00:00<00:04,  9.27it/s]"
     ]
    },
    {
     "name": "stdout",
     "output_type": "stream",
     "text": [
      "['100% Happiness']\n",
      "['100% Happiness']\n"
     ]
    },
    {
     "name": "stderr",
     "output_type": "stream",
     "text": [
      "Visualizing frames:  18%|█▊        | 9/50 [00:00<00:04,  9.25it/s]"
     ]
    },
    {
     "name": "stdout",
     "output_type": "stream",
     "text": [
      "['100% Happiness']\n",
      "['100% Happiness']\n"
     ]
    },
    {
     "name": "stderr",
     "output_type": "stream",
     "text": [
      "Visualizing frames:  22%|██▏       | 11/50 [00:01<00:04,  9.26it/s]"
     ]
    },
    {
     "name": "stdout",
     "output_type": "stream",
     "text": [
      "['100% Happiness']\n",
      "['100% Happiness']\n"
     ]
    },
    {
     "name": "stderr",
     "output_type": "stream",
     "text": [
      "Visualizing frames:  26%|██▌       | 13/50 [00:01<00:03,  9.28it/s]"
     ]
    },
    {
     "name": "stdout",
     "output_type": "stream",
     "text": [
      "['100% Happiness']\n",
      "['100% Happiness']\n"
     ]
    },
    {
     "name": "stderr",
     "output_type": "stream",
     "text": [
      "Visualizing frames:  30%|███       | 15/50 [00:01<00:03,  9.27it/s]"
     ]
    },
    {
     "name": "stdout",
     "output_type": "stream",
     "text": [
      "['100% Happiness']\n",
      "['100% Happiness']\n"
     ]
    },
    {
     "name": "stderr",
     "output_type": "stream",
     "text": [
      "Visualizing frames:  34%|███▍      | 17/50 [00:01<00:03,  9.29it/s]"
     ]
    },
    {
     "name": "stdout",
     "output_type": "stream",
     "text": [
      "['99% Happiness']\n",
      "['99% Happiness']\n"
     ]
    },
    {
     "name": "stderr",
     "output_type": "stream",
     "text": [
      "Visualizing frames:  40%|████      | 20/50 [00:02<00:03,  9.28it/s]"
     ]
    },
    {
     "name": "stdout",
     "output_type": "stream",
     "text": [
      "['99% Happiness']\n",
      "['99% Happiness']\n"
     ]
    },
    {
     "name": "stderr",
     "output_type": "stream",
     "text": [
      "Visualizing frames:  42%|████▏     | 21/50 [00:02<00:03,  9.28it/s]"
     ]
    },
    {
     "name": "stdout",
     "output_type": "stream",
     "text": [
      "['99% Happiness']\n",
      "['99% Happiness']\n"
     ]
    },
    {
     "name": "stderr",
     "output_type": "stream",
     "text": [
      "Visualizing frames:  46%|████▌     | 23/50 [00:02<00:02,  9.29it/s]"
     ]
    },
    {
     "name": "stdout",
     "output_type": "stream",
     "text": [
      "['99% Happiness']\n",
      "['99% Happiness']\n"
     ]
    },
    {
     "name": "stderr",
     "output_type": "stream",
     "text": [
      "Visualizing frames:  50%|█████     | 25/50 [00:02<00:02,  9.27it/s]"
     ]
    },
    {
     "name": "stdout",
     "output_type": "stream",
     "text": [
      "['99% Happiness']\n",
      "['99% Happiness']\n"
     ]
    },
    {
     "name": "stderr",
     "output_type": "stream",
     "text": [
      "Visualizing frames:  54%|█████▍    | 27/50 [00:02<00:02,  9.29it/s]"
     ]
    },
    {
     "name": "stdout",
     "output_type": "stream",
     "text": [
      "['99% Happiness']\n",
      "['99% Happiness']\n"
     ]
    },
    {
     "name": "stderr",
     "output_type": "stream",
     "text": [
      "Visualizing frames:  60%|██████    | 30/50 [00:03<00:02,  9.28it/s]"
     ]
    },
    {
     "name": "stdout",
     "output_type": "stream",
     "text": [
      "['99% Happiness']\n",
      "['99% Happiness']\n"
     ]
    },
    {
     "name": "stderr",
     "output_type": "stream",
     "text": [
      "Visualizing frames:  62%|██████▏   | 31/50 [00:03<00:02,  9.30it/s]"
     ]
    },
    {
     "name": "stdout",
     "output_type": "stream",
     "text": [
      "['99% Happiness']\n",
      "['99% Happiness']\n"
     ]
    },
    {
     "name": "stderr",
     "output_type": "stream",
     "text": [
      "Visualizing frames:  66%|██████▌   | 33/50 [00:03<00:01,  9.29it/s]"
     ]
    },
    {
     "name": "stdout",
     "output_type": "stream",
     "text": [
      "['99% Happiness']\n",
      "['99% Happiness']\n"
     ]
    },
    {
     "name": "stderr",
     "output_type": "stream",
     "text": [
      "Visualizing frames:  70%|███████   | 35/50 [00:03<00:01,  9.26it/s]"
     ]
    },
    {
     "name": "stdout",
     "output_type": "stream",
     "text": [
      "['99% Happiness']\n",
      "['99% Happiness']\n"
     ]
    },
    {
     "name": "stderr",
     "output_type": "stream",
     "text": [
      "Visualizing frames:  74%|███████▍  | 37/50 [00:03<00:01,  9.23it/s]"
     ]
    },
    {
     "name": "stdout",
     "output_type": "stream",
     "text": [
      "['99% Happiness']\n",
      "['99% Happiness']\n"
     ]
    },
    {
     "name": "stderr",
     "output_type": "stream",
     "text": [
      "Visualizing frames:  80%|████████  | 40/50 [00:04<00:01,  9.28it/s]"
     ]
    },
    {
     "name": "stdout",
     "output_type": "stream",
     "text": [
      "['99% Happiness']\n",
      "['99% Happiness']\n"
     ]
    },
    {
     "name": "stderr",
     "output_type": "stream",
     "text": [
      "Visualizing frames:  82%|████████▏ | 41/50 [00:04<00:00,  9.32it/s]"
     ]
    },
    {
     "name": "stdout",
     "output_type": "stream",
     "text": [
      "['98% Happiness']\n",
      "['99% Happiness']\n"
     ]
    },
    {
     "name": "stderr",
     "output_type": "stream",
     "text": [
      "Visualizing frames:  86%|████████▌ | 43/50 [00:04<00:00,  9.29it/s]"
     ]
    },
    {
     "name": "stdout",
     "output_type": "stream",
     "text": [
      "['99% Happiness']\n",
      "['100% Happiness']\n"
     ]
    },
    {
     "name": "stderr",
     "output_type": "stream",
     "text": [
      "Visualizing frames:  92%|█████████▏| 46/50 [00:04<00:00,  9.30it/s]"
     ]
    },
    {
     "name": "stdout",
     "output_type": "stream",
     "text": [
      "['99% Happiness']\n",
      "['98% Happiness', '1% Neutral']\n"
     ]
    },
    {
     "name": "stderr",
     "output_type": "stream",
     "text": [
      "Visualizing frames:  96%|█████████▌| 48/50 [00:05<00:00,  9.31it/s]"
     ]
    },
    {
     "name": "stdout",
     "output_type": "stream",
     "text": [
      "['99% Happiness']\n",
      "['99% Happiness']\n"
     ]
    },
    {
     "name": "stderr",
     "output_type": "stream",
     "text": [
      "Visualizing frames:  98%|█████████▊| 49/50 [00:05<00:00,  9.27it/s]"
     ]
    },
    {
     "name": "stdout",
     "output_type": "stream",
     "text": [
      "['99% Happiness']\n",
      "['99% Happiness']\n"
     ]
    },
    {
     "name": "stderr",
     "output_type": "stream",
     "text": [
      "Visualizing frames: 100%|██████████| 50/50 [00:05<00:00,  9.28it/s]\n",
      "Visualizing frames:   2%|▏         | 1/50 [00:00<00:05,  9.25it/s]"
     ]
    },
    {
     "name": "stdout",
     "output_type": "stream",
     "text": [
      "['100% Happiness']\n",
      "['100% Happiness']\n"
     ]
    },
    {
     "name": "stderr",
     "output_type": "stream",
     "text": [
      "Visualizing frames:   6%|▌         | 3/50 [00:00<00:05,  9.22it/s]"
     ]
    },
    {
     "name": "stdout",
     "output_type": "stream",
     "text": [
      "['100% Happiness']\n",
      "['100% Happiness']\n"
     ]
    },
    {
     "name": "stderr",
     "output_type": "stream",
     "text": [
      "Visualizing frames:  10%|█         | 5/50 [00:00<00:04,  9.27it/s]"
     ]
    },
    {
     "name": "stdout",
     "output_type": "stream",
     "text": [
      "['100% Happiness']\n",
      "['100% Happiness']\n"
     ]
    },
    {
     "name": "stderr",
     "output_type": "stream",
     "text": [
      "Visualizing frames:  14%|█▍        | 7/50 [00:00<00:04,  9.23it/s]"
     ]
    },
    {
     "name": "stdout",
     "output_type": "stream",
     "text": [
      "['100% Happiness']\n",
      "['100% Happiness']\n"
     ]
    },
    {
     "name": "stderr",
     "output_type": "stream",
     "text": [
      "Visualizing frames:  18%|█▊        | 9/50 [00:00<00:04,  9.23it/s]"
     ]
    },
    {
     "name": "stdout",
     "output_type": "stream",
     "text": [
      "['100% Happiness']\n",
      "['100% Happiness']\n"
     ]
    },
    {
     "name": "stderr",
     "output_type": "stream",
     "text": [
      "Visualizing frames:  22%|██▏       | 11/50 [00:01<00:04,  9.24it/s]"
     ]
    },
    {
     "name": "stdout",
     "output_type": "stream",
     "text": [
      "['100% Happiness']\n",
      "['100% Happiness']\n"
     ]
    },
    {
     "name": "stderr",
     "output_type": "stream",
     "text": [
      "Visualizing frames:  26%|██▌       | 13/50 [00:01<00:03,  9.26it/s]"
     ]
    },
    {
     "name": "stdout",
     "output_type": "stream",
     "text": [
      "['100% Happiness']\n",
      "['100% Happiness']\n"
     ]
    },
    {
     "name": "stderr",
     "output_type": "stream",
     "text": [
      "Visualizing frames:  32%|███▏      | 16/50 [00:01<00:03,  9.33it/s]"
     ]
    },
    {
     "name": "stdout",
     "output_type": "stream",
     "text": [
      "['100% Happiness']\n",
      "['100% Happiness']\n"
     ]
    },
    {
     "name": "stderr",
     "output_type": "stream",
     "text": [
      "Visualizing frames:  34%|███▍      | 17/50 [00:01<00:03,  9.38it/s]"
     ]
    },
    {
     "name": "stdout",
     "output_type": "stream",
     "text": [
      "['99% Happiness']\n",
      "['99% Happiness']\n"
     ]
    },
    {
     "name": "stderr",
     "output_type": "stream",
     "text": [
      "Visualizing frames:  38%|███▊      | 19/50 [00:02<00:03,  9.30it/s]"
     ]
    },
    {
     "name": "stdout",
     "output_type": "stream",
     "text": [
      "['99% Happiness']\n",
      "['99% Happiness']\n"
     ]
    },
    {
     "name": "stderr",
     "output_type": "stream",
     "text": [
      "Visualizing frames:  42%|████▏     | 21/50 [00:02<00:03,  9.28it/s]"
     ]
    },
    {
     "name": "stdout",
     "output_type": "stream",
     "text": [
      "['99% Happiness']\n",
      "['99% Happiness']\n"
     ]
    },
    {
     "name": "stderr",
     "output_type": "stream",
     "text": [
      "Visualizing frames:  48%|████▊     | 24/50 [00:02<00:02,  9.28it/s]"
     ]
    },
    {
     "name": "stdout",
     "output_type": "stream",
     "text": [
      "['99% Happiness']\n",
      "['99% Happiness']\n"
     ]
    },
    {
     "name": "stderr",
     "output_type": "stream",
     "text": [
      "Visualizing frames:  50%|█████     | 25/50 [00:02<00:02,  9.26it/s]"
     ]
    },
    {
     "name": "stdout",
     "output_type": "stream",
     "text": [
      "['100% Happiness']\n",
      "['99% Happiness']\n"
     ]
    },
    {
     "name": "stderr",
     "output_type": "stream",
     "text": [
      "Visualizing frames:  54%|█████▍    | 27/50 [00:02<00:02,  9.28it/s]"
     ]
    },
    {
     "name": "stdout",
     "output_type": "stream",
     "text": [
      "['99% Happiness']\n",
      "['99% Happiness']\n"
     ]
    },
    {
     "name": "stderr",
     "output_type": "stream",
     "text": [
      "Visualizing frames:  58%|█████▊    | 29/50 [00:03<00:02,  9.24it/s]"
     ]
    },
    {
     "name": "stdout",
     "output_type": "stream",
     "text": [
      "['99% Happiness']\n",
      "['99% Happiness']\n"
     ]
    },
    {
     "name": "stderr",
     "output_type": "stream",
     "text": [
      "Visualizing frames:  62%|██████▏   | 31/50 [00:03<00:02,  9.20it/s]"
     ]
    },
    {
     "name": "stdout",
     "output_type": "stream",
     "text": [
      "['99% Happiness']\n",
      "['99% Happiness']\n"
     ]
    },
    {
     "name": "stderr",
     "output_type": "stream",
     "text": [
      "Visualizing frames:  66%|██████▌   | 33/50 [00:03<00:01,  9.27it/s]"
     ]
    },
    {
     "name": "stdout",
     "output_type": "stream",
     "text": [
      "['99% Happiness']\n",
      "['99% Happiness']\n"
     ]
    },
    {
     "name": "stderr",
     "output_type": "stream",
     "text": [
      "Visualizing frames:  70%|███████   | 35/50 [00:03<00:01,  9.24it/s]"
     ]
    },
    {
     "name": "stdout",
     "output_type": "stream",
     "text": [
      "['99% Happiness']\n",
      "['99% Happiness']\n"
     ]
    },
    {
     "name": "stderr",
     "output_type": "stream",
     "text": [
      "Visualizing frames:  76%|███████▌  | 38/50 [00:04<00:01,  9.30it/s]"
     ]
    },
    {
     "name": "stdout",
     "output_type": "stream",
     "text": [
      "['99% Happiness']\n",
      "['99% Happiness']\n"
     ]
    },
    {
     "name": "stderr",
     "output_type": "stream",
     "text": [
      "Visualizing frames:  78%|███████▊  | 39/50 [00:04<00:01,  9.29it/s]"
     ]
    },
    {
     "name": "stdout",
     "output_type": "stream",
     "text": [
      "['99% Happiness']\n",
      "['99% Happiness']\n"
     ]
    },
    {
     "name": "stderr",
     "output_type": "stream",
     "text": [
      "Visualizing frames:  82%|████████▏ | 41/50 [00:04<00:00,  9.34it/s]"
     ]
    },
    {
     "name": "stdout",
     "output_type": "stream",
     "text": [
      "['99% Happiness']\n",
      "['99% Happiness']\n"
     ]
    },
    {
     "name": "stderr",
     "output_type": "stream",
     "text": [
      "Visualizing frames:  86%|████████▌ | 43/50 [00:04<00:00,  9.24it/s]"
     ]
    },
    {
     "name": "stdout",
     "output_type": "stream",
     "text": [
      "['99% Happiness']\n",
      "['99% Happiness']\n"
     ]
    },
    {
     "name": "stderr",
     "output_type": "stream",
     "text": [
      "Visualizing frames:  90%|█████████ | 45/50 [00:04<00:00,  9.19it/s]"
     ]
    },
    {
     "name": "stdout",
     "output_type": "stream",
     "text": [
      "['99% Happiness']\n",
      "['99% Happiness']\n"
     ]
    },
    {
     "name": "stderr",
     "output_type": "stream",
     "text": [
      "Visualizing frames:  94%|█████████▍| 47/50 [00:05<00:00,  9.24it/s]"
     ]
    },
    {
     "name": "stdout",
     "output_type": "stream",
     "text": [
      "['99% Happiness']\n",
      "['100% Happiness']\n"
     ]
    },
    {
     "name": "stderr",
     "output_type": "stream",
     "text": [
      "Visualizing frames:  98%|█████████▊| 49/50 [00:05<00:00,  9.29it/s]"
     ]
    },
    {
     "name": "stdout",
     "output_type": "stream",
     "text": [
      "['99% Happiness']\n",
      "['99% Happiness']\n"
     ]
    },
    {
     "name": "stderr",
     "output_type": "stream",
     "text": [
      "Visualizing frames: 100%|██████████| 50/50 [00:05<00:00,  9.26it/s]\n",
      "Visualizing frames:   2%|▏         | 1/50 [00:00<00:05,  8.64it/s]"
     ]
    },
    {
     "name": "stdout",
     "output_type": "stream",
     "text": [
      "['100% Happiness']\n",
      "['100% Happiness']\n"
     ]
    },
    {
     "name": "stderr",
     "output_type": "stream",
     "text": [
      "Visualizing frames:   6%|▌         | 3/50 [00:00<00:05,  9.20it/s]"
     ]
    },
    {
     "name": "stdout",
     "output_type": "stream",
     "text": [
      "['100% Happiness']\n",
      "['100% Happiness']\n"
     ]
    },
    {
     "name": "stderr",
     "output_type": "stream",
     "text": [
      "Visualizing frames:  10%|█         | 5/50 [00:00<00:04,  9.18it/s]"
     ]
    },
    {
     "name": "stdout",
     "output_type": "stream",
     "text": [
      "['100% Happiness']\n",
      "['100% Happiness']\n"
     ]
    },
    {
     "name": "stderr",
     "output_type": "stream",
     "text": [
      "Visualizing frames:  14%|█▍        | 7/50 [00:00<00:04,  9.20it/s]"
     ]
    },
    {
     "name": "stdout",
     "output_type": "stream",
     "text": [
      "['100% Happiness']\n",
      "['100% Happiness']\n"
     ]
    },
    {
     "name": "stderr",
     "output_type": "stream",
     "text": [
      "Visualizing frames:  18%|█▊        | 9/50 [00:00<00:04,  9.24it/s]"
     ]
    },
    {
     "name": "stdout",
     "output_type": "stream",
     "text": [
      "['100% Happiness']\n",
      "['100% Happiness']\n"
     ]
    },
    {
     "name": "stderr",
     "output_type": "stream",
     "text": [
      "Visualizing frames:  22%|██▏       | 11/50 [00:01<00:04,  9.24it/s]"
     ]
    },
    {
     "name": "stdout",
     "output_type": "stream",
     "text": [
      "['100% Happiness']\n",
      "['100% Happiness']\n"
     ]
    },
    {
     "name": "stderr",
     "output_type": "stream",
     "text": [
      "Visualizing frames:  26%|██▌       | 13/50 [00:01<00:04,  9.22it/s]"
     ]
    },
    {
     "name": "stdout",
     "output_type": "stream",
     "text": [
      "['100% Happiness']\n",
      "['100% Happiness']\n"
     ]
    },
    {
     "name": "stderr",
     "output_type": "stream",
     "text": [
      "Visualizing frames:  30%|███       | 15/50 [00:01<00:03,  9.29it/s]"
     ]
    },
    {
     "name": "stdout",
     "output_type": "stream",
     "text": [
      "['100% Happiness']\n",
      "['100% Happiness']\n"
     ]
    },
    {
     "name": "stderr",
     "output_type": "stream",
     "text": [
      "Visualizing frames:  34%|███▍      | 17/50 [00:01<00:03,  9.25it/s]"
     ]
    },
    {
     "name": "stdout",
     "output_type": "stream",
     "text": [
      "['99% Happiness']\n",
      "['99% Happiness']\n"
     ]
    },
    {
     "name": "stderr",
     "output_type": "stream",
     "text": [
      "Visualizing frames:  38%|███▊      | 19/50 [00:02<00:03,  9.25it/s]"
     ]
    },
    {
     "name": "stdout",
     "output_type": "stream",
     "text": [
      "['99% Happiness']\n",
      "['99% Happiness']\n"
     ]
    },
    {
     "name": "stderr",
     "output_type": "stream",
     "text": [
      "Visualizing frames:  42%|████▏     | 21/50 [00:02<00:03,  9.21it/s]"
     ]
    },
    {
     "name": "stdout",
     "output_type": "stream",
     "text": [
      "['99% Happiness']\n",
      "['99% Happiness']\n"
     ]
    },
    {
     "name": "stderr",
     "output_type": "stream",
     "text": [
      "Visualizing frames:  46%|████▌     | 23/50 [00:02<00:02,  9.22it/s]"
     ]
    },
    {
     "name": "stdout",
     "output_type": "stream",
     "text": [
      "['99% Happiness']\n",
      "['99% Happiness']\n"
     ]
    },
    {
     "name": "stderr",
     "output_type": "stream",
     "text": [
      "Visualizing frames:  50%|█████     | 25/50 [00:02<00:02,  9.21it/s]"
     ]
    },
    {
     "name": "stdout",
     "output_type": "stream",
     "text": [
      "['99% Happiness']\n",
      "['99% Happiness']\n"
     ]
    },
    {
     "name": "stderr",
     "output_type": "stream",
     "text": [
      "Visualizing frames:  54%|█████▍    | 27/50 [00:02<00:02,  9.21it/s]"
     ]
    },
    {
     "name": "stdout",
     "output_type": "stream",
     "text": [
      "['99% Happiness']\n",
      "['99% Happiness']\n"
     ]
    },
    {
     "name": "stderr",
     "output_type": "stream",
     "text": [
      "Visualizing frames:  58%|█████▊    | 29/50 [00:03<00:02,  9.20it/s]"
     ]
    },
    {
     "name": "stdout",
     "output_type": "stream",
     "text": [
      "['99% Happiness']\n",
      "['99% Happiness']\n"
     ]
    },
    {
     "name": "stderr",
     "output_type": "stream",
     "text": [
      "Visualizing frames:  62%|██████▏   | 31/50 [00:03<00:02,  9.19it/s]"
     ]
    },
    {
     "name": "stdout",
     "output_type": "stream",
     "text": [
      "['99% Happiness']\n",
      "['99% Happiness']\n"
     ]
    },
    {
     "name": "stderr",
     "output_type": "stream",
     "text": [
      "Visualizing frames:  66%|██████▌   | 33/50 [00:03<00:01,  9.21it/s]"
     ]
    },
    {
     "name": "stdout",
     "output_type": "stream",
     "text": [
      "['99% Happiness']\n",
      "['99% Happiness']\n"
     ]
    },
    {
     "name": "stderr",
     "output_type": "stream",
     "text": [
      "Visualizing frames:  70%|███████   | 35/50 [00:03<00:01,  9.28it/s]"
     ]
    },
    {
     "name": "stdout",
     "output_type": "stream",
     "text": [
      "['99% Happiness']\n",
      "['99% Happiness']\n"
     ]
    },
    {
     "name": "stderr",
     "output_type": "stream",
     "text": [
      "Visualizing frames:  74%|███████▍  | 37/50 [00:04<00:01,  9.28it/s]"
     ]
    },
    {
     "name": "stdout",
     "output_type": "stream",
     "text": [
      "['99% Happiness']\n",
      "['99% Happiness']\n"
     ]
    },
    {
     "name": "stderr",
     "output_type": "stream",
     "text": [
      "Visualizing frames:  78%|███████▊  | 39/50 [00:04<00:01,  9.26it/s]"
     ]
    },
    {
     "name": "stdout",
     "output_type": "stream",
     "text": [
      "['99% Happiness']\n",
      "['99% Happiness']\n"
     ]
    },
    {
     "name": "stderr",
     "output_type": "stream",
     "text": [
      "Visualizing frames:  82%|████████▏ | 41/50 [00:04<00:00,  9.30it/s]"
     ]
    },
    {
     "name": "stdout",
     "output_type": "stream",
     "text": [
      "['99% Happiness']\n",
      "['99% Happiness']\n"
     ]
    },
    {
     "name": "stderr",
     "output_type": "stream",
     "text": [
      "Visualizing frames:  86%|████████▌ | 43/50 [00:04<00:00,  9.23it/s]"
     ]
    },
    {
     "name": "stdout",
     "output_type": "stream",
     "text": [
      "['99% Happiness']\n",
      "['98% Happiness']\n"
     ]
    },
    {
     "name": "stderr",
     "output_type": "stream",
     "text": [
      "Visualizing frames:  90%|█████████ | 45/50 [00:04<00:00,  9.23it/s]"
     ]
    },
    {
     "name": "stdout",
     "output_type": "stream",
     "text": [
      "['99% Happiness']\n",
      "['99% Happiness']\n"
     ]
    },
    {
     "name": "stderr",
     "output_type": "stream",
     "text": [
      "Visualizing frames:  94%|█████████▍| 47/50 [00:05<00:00,  9.28it/s]"
     ]
    },
    {
     "name": "stdout",
     "output_type": "stream",
     "text": [
      "['99% Happiness']\n",
      "['99% Happiness']\n"
     ]
    },
    {
     "name": "stderr",
     "output_type": "stream",
     "text": [
      "Visualizing frames:  98%|█████████▊| 49/50 [00:05<00:00,  9.29it/s]"
     ]
    },
    {
     "name": "stdout",
     "output_type": "stream",
     "text": [
      "['99% Happiness']\n",
      "['98% Happiness']\n"
     ]
    },
    {
     "name": "stderr",
     "output_type": "stream",
     "text": [
      "Visualizing frames: 100%|██████████| 50/50 [00:05<00:00,  9.23it/s]\n",
      "Visualizing frames:   2%|▏         | 1/50 [00:00<00:05,  8.80it/s]"
     ]
    },
    {
     "name": "stdout",
     "output_type": "stream",
     "text": [
      "['100% Happiness']\n",
      "['100% Happiness']\n"
     ]
    },
    {
     "name": "stderr",
     "output_type": "stream",
     "text": [
      "Visualizing frames:   8%|▊         | 4/50 [00:00<00:04,  9.28it/s]"
     ]
    },
    {
     "name": "stdout",
     "output_type": "stream",
     "text": [
      "['100% Happiness']\n",
      "['100% Happiness']\n"
     ]
    },
    {
     "name": "stderr",
     "output_type": "stream",
     "text": [
      "Visualizing frames:  10%|█         | 5/50 [00:00<00:04,  9.29it/s]"
     ]
    },
    {
     "name": "stdout",
     "output_type": "stream",
     "text": [
      "['100% Happiness']\n",
      "['100% Happiness']\n"
     ]
    },
    {
     "name": "stderr",
     "output_type": "stream",
     "text": [
      "Visualizing frames:  16%|█▌        | 8/50 [00:00<00:04,  9.22it/s]"
     ]
    },
    {
     "name": "stdout",
     "output_type": "stream",
     "text": [
      "['100% Happiness']\n",
      "['100% Happiness']\n"
     ]
    },
    {
     "name": "stderr",
     "output_type": "stream",
     "text": [
      "Visualizing frames:  18%|█▊        | 9/50 [00:00<00:04,  9.30it/s]"
     ]
    },
    {
     "name": "stdout",
     "output_type": "stream",
     "text": [
      "['100% Happiness']\n",
      "['100% Happiness']\n"
     ]
    },
    {
     "name": "stderr",
     "output_type": "stream",
     "text": [
      "Visualizing frames:  22%|██▏       | 11/50 [00:01<00:04,  9.24it/s]"
     ]
    },
    {
     "name": "stdout",
     "output_type": "stream",
     "text": [
      "['100% Happiness']\n",
      "['100% Happiness']\n"
     ]
    },
    {
     "name": "stderr",
     "output_type": "stream",
     "text": [
      "Visualizing frames:  26%|██▌       | 13/50 [00:01<00:04,  9.17it/s]"
     ]
    },
    {
     "name": "stdout",
     "output_type": "stream",
     "text": [
      "['100% Happiness']\n",
      "['100% Happiness']\n"
     ]
    },
    {
     "name": "stderr",
     "output_type": "stream",
     "text": [
      "Visualizing frames:  30%|███       | 15/50 [00:01<00:03,  9.25it/s]"
     ]
    },
    {
     "name": "stdout",
     "output_type": "stream",
     "text": [
      "['100% Happiness']\n",
      "['100% Happiness']\n"
     ]
    },
    {
     "name": "stderr",
     "output_type": "stream",
     "text": [
      "Visualizing frames:  34%|███▍      | 17/50 [00:01<00:03,  9.27it/s]"
     ]
    },
    {
     "name": "stdout",
     "output_type": "stream",
     "text": [
      "['99% Happiness']\n",
      "['100% Happiness']\n"
     ]
    },
    {
     "name": "stderr",
     "output_type": "stream",
     "text": [
      "Visualizing frames:  38%|███▊      | 19/50 [00:02<00:03,  9.23it/s]"
     ]
    },
    {
     "name": "stdout",
     "output_type": "stream",
     "text": [
      "['99% Happiness']\n",
      "['99% Happiness']\n"
     ]
    },
    {
     "name": "stderr",
     "output_type": "stream",
     "text": [
      "Visualizing frames:  42%|████▏     | 21/50 [00:02<00:03,  9.21it/s]"
     ]
    },
    {
     "name": "stdout",
     "output_type": "stream",
     "text": [
      "['99% Happiness']\n",
      "['99% Happiness']\n"
     ]
    },
    {
     "name": "stderr",
     "output_type": "stream",
     "text": [
      "Visualizing frames:  46%|████▌     | 23/50 [00:02<00:02,  9.28it/s]"
     ]
    },
    {
     "name": "stdout",
     "output_type": "stream",
     "text": [
      "['99% Happiness']\n",
      "['99% Happiness']\n"
     ]
    },
    {
     "name": "stderr",
     "output_type": "stream",
     "text": [
      "Visualizing frames:  50%|█████     | 25/50 [00:02<00:02,  9.24it/s]"
     ]
    },
    {
     "name": "stdout",
     "output_type": "stream",
     "text": [
      "['99% Happiness']\n",
      "['99% Happiness']\n"
     ]
    },
    {
     "name": "stderr",
     "output_type": "stream",
     "text": [
      "Visualizing frames:  54%|█████▍    | 27/50 [00:02<00:02,  9.23it/s]"
     ]
    },
    {
     "name": "stdout",
     "output_type": "stream",
     "text": [
      "['99% Happiness']\n",
      "['99% Happiness']\n"
     ]
    },
    {
     "name": "stderr",
     "output_type": "stream",
     "text": [
      "Visualizing frames:  58%|█████▊    | 29/50 [00:03<00:02,  9.20it/s]"
     ]
    },
    {
     "name": "stdout",
     "output_type": "stream",
     "text": [
      "['99% Happiness']\n",
      "['99% Happiness']\n"
     ]
    },
    {
     "name": "stderr",
     "output_type": "stream",
     "text": [
      "Visualizing frames:  62%|██████▏   | 31/50 [00:03<00:02,  9.24it/s]"
     ]
    },
    {
     "name": "stdout",
     "output_type": "stream",
     "text": [
      "['99% Happiness']\n",
      "['99% Happiness']\n"
     ]
    },
    {
     "name": "stderr",
     "output_type": "stream",
     "text": [
      "Visualizing frames:  66%|██████▌   | 33/50 [00:03<00:01,  9.25it/s]"
     ]
    },
    {
     "name": "stdout",
     "output_type": "stream",
     "text": [
      "['99% Happiness']\n",
      "['99% Happiness']\n"
     ]
    },
    {
     "name": "stderr",
     "output_type": "stream",
     "text": [
      "Visualizing frames:  72%|███████▏  | 36/50 [00:03<00:01,  9.30it/s]"
     ]
    },
    {
     "name": "stdout",
     "output_type": "stream",
     "text": [
      "['99% Happiness']\n",
      "['99% Happiness']\n"
     ]
    },
    {
     "name": "stderr",
     "output_type": "stream",
     "text": [
      "Visualizing frames:  74%|███████▍  | 37/50 [00:04<00:01,  9.32it/s]"
     ]
    },
    {
     "name": "stdout",
     "output_type": "stream",
     "text": [
      "['99% Happiness']\n",
      "['99% Happiness']\n"
     ]
    },
    {
     "name": "stderr",
     "output_type": "stream",
     "text": [
      "Visualizing frames:  78%|███████▊  | 39/50 [00:04<00:01,  9.32it/s]"
     ]
    },
    {
     "name": "stdout",
     "output_type": "stream",
     "text": [
      "['99% Happiness']\n",
      "['99% Happiness']\n"
     ]
    },
    {
     "name": "stderr",
     "output_type": "stream",
     "text": [
      "Visualizing frames:  82%|████████▏ | 41/50 [00:04<00:00,  9.29it/s]"
     ]
    },
    {
     "name": "stdout",
     "output_type": "stream",
     "text": [
      "['99% Happiness']\n",
      "['99% Happiness']\n"
     ]
    },
    {
     "name": "stderr",
     "output_type": "stream",
     "text": [
      "Visualizing frames:  86%|████████▌ | 43/50 [00:04<00:00,  9.22it/s]"
     ]
    },
    {
     "name": "stdout",
     "output_type": "stream",
     "text": [
      "['99% Happiness']\n",
      "['99% Happiness']\n"
     ]
    },
    {
     "name": "stderr",
     "output_type": "stream",
     "text": [
      "Visualizing frames:  90%|█████████ | 45/50 [00:04<00:00,  9.26it/s]"
     ]
    },
    {
     "name": "stdout",
     "output_type": "stream",
     "text": [
      "['99% Happiness']\n",
      "['99% Happiness']\n"
     ]
    },
    {
     "name": "stderr",
     "output_type": "stream",
     "text": [
      "Visualizing frames:  94%|█████████▍| 47/50 [00:05<00:00,  9.25it/s]"
     ]
    },
    {
     "name": "stdout",
     "output_type": "stream",
     "text": [
      "['99% Happiness']\n",
      "['99% Happiness']\n"
     ]
    },
    {
     "name": "stderr",
     "output_type": "stream",
     "text": [
      "Visualizing frames:  98%|█████████▊| 49/50 [00:05<00:00,  9.26it/s]"
     ]
    },
    {
     "name": "stdout",
     "output_type": "stream",
     "text": [
      "['99% Happiness']\n",
      "['99% Happiness']\n"
     ]
    },
    {
     "name": "stderr",
     "output_type": "stream",
     "text": [
      "Visualizing frames: 100%|██████████| 50/50 [00:05<00:00,  9.25it/s]\n",
      "Visualizing frames:   2%|▏         | 1/50 [00:00<00:05,  9.17it/s]"
     ]
    },
    {
     "name": "stdout",
     "output_type": "stream",
     "text": [
      "['100% Happiness']\n",
      "['100% Happiness']\n"
     ]
    },
    {
     "name": "stderr",
     "output_type": "stream",
     "text": [
      "Visualizing frames:   6%|▌         | 3/50 [00:00<00:05,  9.14it/s]"
     ]
    },
    {
     "name": "stdout",
     "output_type": "stream",
     "text": [
      "['100% Happiness']\n",
      "['100% Happiness']\n"
     ]
    },
    {
     "name": "stderr",
     "output_type": "stream",
     "text": [
      "Visualizing frames:  10%|█         | 5/50 [00:00<00:04,  9.27it/s]"
     ]
    },
    {
     "name": "stdout",
     "output_type": "stream",
     "text": [
      "['100% Happiness']\n",
      "['100% Happiness']\n"
     ]
    },
    {
     "name": "stderr",
     "output_type": "stream",
     "text": [
      "Visualizing frames:  16%|█▌        | 8/50 [00:00<00:04,  9.27it/s]"
     ]
    },
    {
     "name": "stdout",
     "output_type": "stream",
     "text": [
      "['100% Happiness']\n",
      "['100% Happiness']\n"
     ]
    },
    {
     "name": "stderr",
     "output_type": "stream",
     "text": [
      "Visualizing frames:  18%|█▊        | 9/50 [00:00<00:04,  9.28it/s]"
     ]
    },
    {
     "name": "stdout",
     "output_type": "stream",
     "text": [
      "['100% Happiness']\n",
      "['100% Happiness']\n"
     ]
    },
    {
     "name": "stderr",
     "output_type": "stream",
     "text": [
      "Visualizing frames:  22%|██▏       | 11/50 [00:01<00:04,  9.25it/s]"
     ]
    },
    {
     "name": "stdout",
     "output_type": "stream",
     "text": [
      "['100% Happiness']\n",
      "['100% Happiness']\n"
     ]
    },
    {
     "name": "stderr",
     "output_type": "stream",
     "text": [
      "Visualizing frames:  26%|██▌       | 13/50 [00:01<00:03,  9.27it/s]"
     ]
    },
    {
     "name": "stdout",
     "output_type": "stream",
     "text": [
      "['100% Happiness']\n",
      "['100% Happiness']\n"
     ]
    },
    {
     "name": "stderr",
     "output_type": "stream",
     "text": [
      "Visualizing frames:  30%|███       | 15/50 [00:01<00:03,  9.29it/s]"
     ]
    },
    {
     "name": "stdout",
     "output_type": "stream",
     "text": [
      "['100% Happiness']\n",
      "['100% Happiness']\n"
     ]
    },
    {
     "name": "stderr",
     "output_type": "stream",
     "text": [
      "Visualizing frames:  34%|███▍      | 17/50 [00:01<00:03,  9.24it/s]"
     ]
    },
    {
     "name": "stdout",
     "output_type": "stream",
     "text": [
      "['98% Happiness']\n",
      "['99% Happiness']\n"
     ]
    },
    {
     "name": "stderr",
     "output_type": "stream",
     "text": [
      "Visualizing frames:  40%|████      | 20/50 [00:02<00:03,  9.29it/s]"
     ]
    },
    {
     "name": "stdout",
     "output_type": "stream",
     "text": [
      "['99% Happiness']\n",
      "['99% Happiness']\n"
     ]
    },
    {
     "name": "stderr",
     "output_type": "stream",
     "text": [
      "Visualizing frames:  42%|████▏     | 21/50 [00:02<00:03,  9.25it/s]"
     ]
    },
    {
     "name": "stdout",
     "output_type": "stream",
     "text": [
      "['99% Happiness']\n",
      "['99% Happiness']\n"
     ]
    },
    {
     "name": "stderr",
     "output_type": "stream",
     "text": [
      "Visualizing frames:  46%|████▌     | 23/50 [00:02<00:02,  9.22it/s]"
     ]
    },
    {
     "name": "stdout",
     "output_type": "stream",
     "text": [
      "['99% Happiness']\n",
      "['99% Happiness']\n"
     ]
    },
    {
     "name": "stderr",
     "output_type": "stream",
     "text": [
      "Visualizing frames:  50%|█████     | 25/50 [00:02<00:02,  9.27it/s]"
     ]
    },
    {
     "name": "stdout",
     "output_type": "stream",
     "text": [
      "['99% Happiness']\n",
      "['99% Happiness']\n"
     ]
    },
    {
     "name": "stderr",
     "output_type": "stream",
     "text": [
      "Visualizing frames:  54%|█████▍    | 27/50 [00:02<00:02,  9.25it/s]"
     ]
    },
    {
     "name": "stdout",
     "output_type": "stream",
     "text": [
      "['99% Happiness']\n",
      "['99% Happiness']\n"
     ]
    },
    {
     "name": "stderr",
     "output_type": "stream",
     "text": [
      "Visualizing frames:  58%|█████▊    | 29/50 [00:03<00:02,  9.24it/s]"
     ]
    },
    {
     "name": "stdout",
     "output_type": "stream",
     "text": [
      "['99% Happiness']\n",
      "['99% Happiness']\n"
     ]
    },
    {
     "name": "stderr",
     "output_type": "stream",
     "text": [
      "Visualizing frames:  64%|██████▍   | 32/50 [00:03<00:01,  9.23it/s]"
     ]
    },
    {
     "name": "stdout",
     "output_type": "stream",
     "text": [
      "['99% Happiness']\n",
      "['99% Happiness']\n"
     ]
    },
    {
     "name": "stderr",
     "output_type": "stream",
     "text": [
      "Visualizing frames:  66%|██████▌   | 33/50 [00:03<00:01,  9.27it/s]"
     ]
    },
    {
     "name": "stdout",
     "output_type": "stream",
     "text": [
      "['99% Happiness']\n",
      "['99% Happiness']\n"
     ]
    },
    {
     "name": "stderr",
     "output_type": "stream",
     "text": [
      "Visualizing frames:  70%|███████   | 35/50 [00:03<00:01,  9.29it/s]"
     ]
    },
    {
     "name": "stdout",
     "output_type": "stream",
     "text": [
      "['99% Happiness']\n",
      "['99% Happiness']\n"
     ]
    },
    {
     "name": "stderr",
     "output_type": "stream",
     "text": [
      "Visualizing frames:  74%|███████▍  | 37/50 [00:03<00:01,  9.24it/s]"
     ]
    },
    {
     "name": "stdout",
     "output_type": "stream",
     "text": [
      "['99% Happiness']\n",
      "['99% Happiness']\n"
     ]
    },
    {
     "name": "stderr",
     "output_type": "stream",
     "text": [
      "Visualizing frames:  78%|███████▊  | 39/50 [00:04<00:01,  9.32it/s]"
     ]
    },
    {
     "name": "stdout",
     "output_type": "stream",
     "text": [
      "['99% Happiness']\n",
      "['98% Happiness']\n"
     ]
    },
    {
     "name": "stderr",
     "output_type": "stream",
     "text": [
      "Visualizing frames:  82%|████████▏ | 41/50 [00:04<00:00,  9.20it/s]"
     ]
    },
    {
     "name": "stdout",
     "output_type": "stream",
     "text": [
      "['99% Happiness']\n",
      "['99% Happiness']\n"
     ]
    },
    {
     "name": "stderr",
     "output_type": "stream",
     "text": [
      "Visualizing frames:  86%|████████▌ | 43/50 [00:04<00:00,  9.28it/s]"
     ]
    },
    {
     "name": "stdout",
     "output_type": "stream",
     "text": [
      "['99% Happiness']\n",
      "['99% Happiness']\n"
     ]
    },
    {
     "name": "stderr",
     "output_type": "stream",
     "text": [
      "Visualizing frames:  90%|█████████ | 45/50 [00:04<00:00,  9.22it/s]"
     ]
    },
    {
     "name": "stdout",
     "output_type": "stream",
     "text": [
      "['99% Happiness']\n",
      "['99% Happiness']\n"
     ]
    },
    {
     "name": "stderr",
     "output_type": "stream",
     "text": [
      "Visualizing frames:  94%|█████████▍| 47/50 [00:05<00:00,  9.22it/s]"
     ]
    },
    {
     "name": "stdout",
     "output_type": "stream",
     "text": [
      "['99% Happiness']\n",
      "['98% Happiness']\n"
     ]
    },
    {
     "name": "stderr",
     "output_type": "stream",
     "text": [
      "Visualizing frames:  98%|█████████▊| 49/50 [00:05<00:00,  9.20it/s]"
     ]
    },
    {
     "name": "stdout",
     "output_type": "stream",
     "text": [
      "['98% Happiness']\n",
      "['99% Happiness']\n"
     ]
    },
    {
     "name": "stderr",
     "output_type": "stream",
     "text": [
      "Visualizing frames: 100%|██████████| 50/50 [00:05<00:00,  9.24it/s]\n",
      "Visualizing frames:   0%|          | 0/50 [00:00<?, ?it/s]"
     ]
    },
    {
     "name": "stdout",
     "output_type": "stream",
     "text": [
      "['100% Happiness']\n"
     ]
    }
   ],
   "source": [
    "\n",
    "# Initial setup\n",
    "shared_data = {\n",
    "    'average_scores': [1.0, 0.0, 0.0, 0.0, 0.0, 0.0, 0.0]\n",
    "}\n",
    "\n",
    "chat = pytchat.create(video_id=\"6v3j-BGsYDg\")\n",
    "FRAMES_GENERATE = 50\n",
    "terminate_threads = False\n",
    "\n",
    "# This queue will hold the batches ready for visualization\n",
    "viz_queue = queue.Queue()\n",
    "\n",
    "\n",
    "def process_chat_message(c):\n",
    "    \"\"\"Process a chat message and update emotion scores.\"\"\"\n",
    "    print(f\"{c.datetime} [{c.author.name}]- {c.message}\")\n",
    "    result = pipe(c.message)  # Assuming pipe() returns emotion prediction\n",
    "    print(result)\n",
    "\n",
    "    detected_emotion = result[0]['label']\n",
    "\n",
    "    # Reset the counter for the detected emotion and boost its score\n",
    "    emotion_data[detected_emotion][\"count\"] = 0\n",
    "    score = result[0]['score']\n",
    "    emotion_data[detected_emotion][\"score\"] = min(1, emotion_data[detected_emotion][\"score\"] + score)\n",
    "\n",
    "    # Decay scores for other emotions and increase their counters\n",
    "    for emotion, data in emotion_data.items():\n",
    "        if emotion != detected_emotion:\n",
    "            data[\"count\"] += 1\n",
    "            if data[\"count\"] >= 5:\n",
    "                data[\"score\"] = 0\n",
    "            else:\n",
    "                data[\"score\"] *= 0.5  # or any other decay factor you prefer\n",
    "\n",
    "    # Update average scores\n",
    "    for i, emotion in enumerate(emotion_labels):\n",
    "        shared_data['average_scores'][i] = emotion_data[emotion][\"score\"]\n",
    "\n",
    "    print(\"Average scores:\", shared_data['average_scores'])\n",
    "\n",
    "\n",
    "\n",
    "\n",
    "# Batch generation function\n",
    "def generate_new_batch():\n",
    "    \"\"\"Generate a new batch based on the current average scores.\"\"\"\n",
    "    last_frames = unnorm_out[0][-16:]\n",
    "    norm_last_frames = normalise_generated(last_frames, max_x, min_x, max_y, min_y, max_x, min_x, max_y, min_y)\n",
    "    new_batch = [frame[:-7] + shared_data['average_scores'] for frame in norm_last_frames]\n",
    "    new_input = torch.tensor([new_batch]).to(device).float()\n",
    "\n",
    "    # Generate the new frames\n",
    "    generated = m.generate(new_input, FRAMES_GENERATE)\n",
    "    return unnormalise_list_2D(generated, max_x, min_x, max_y, min_y, max_x, min_x, max_y, min_y)\n",
    "\n",
    "# Periodic batch generation function - secs\n",
    "def generate_batches_periodically(period=2):\n",
    "    \"\"\"Periodically generate batches and put them in the visualization queue.\"\"\"\n",
    "    while True:\n",
    "        time.sleep(period)\n",
    "        unnorm_out = generate_new_batch()\n",
    "        viz_queue.put(unnorm_out)\n",
    "        \n",
    "def visualise(unnorm_out):\n",
    "    # visualize\n",
    "    visualise_skeleton(unnorm_out[0], max_x, max_y, max_frames=FRAMES_GENERATE,save = False,save_path=None,prefix=f'adam_{EPOCHS}_coord_switchhappytodisgust',train_seed=train_seed,delta=False,destroy=False)\n",
    "\n",
    "# Visualization thread\n",
    "def visualise_batches():\n",
    "    while True:\n",
    "        # Wait for a new batch to be available in the queue\n",
    "        unnorm_out = viz_queue.get()\n",
    "        \n",
    "        # visualise the batch\n",
    "        visualise(unnorm_out)\n",
    "\n",
    "# Start the threads\n",
    "threading.Thread(target=visualise_batches, daemon=True).start()\n",
    "threading.Thread(target=generate_batches_periodically, args=(10,), daemon=True).start()\n",
    "\n",
    "# Process chat messages\n",
    "length = 0\n",
    "while chat.is_alive():\n",
    "    if keyboard.is_pressed('esc'):  # Check if ESC key is pressed\n",
    "        terminate_threads = True\n",
    "        break  # Exit the main loop\n",
    "    for c in chat.get().sync_items():\n",
    "        process_chat_message(c)\n",
    "        length += 1\n",
    "        \n",
    "cv2.destroyAllWindows()\n"
   ]
  }
 ],
 "metadata": {
  "kernelspec": {
   "display_name": "interactive_dance_thesis",
   "language": "python",
   "name": "python3"
  },
  "language_info": {
   "codemirror_mode": {
    "name": "ipython",
    "version": 3
   },
   "file_extension": ".py",
   "mimetype": "text/x-python",
   "name": "python",
   "nbconvert_exporter": "python",
   "pygments_lexer": "ipython3",
   "version": "3.10.9"
  }
 },
 "nbformat": 4,
 "nbformat_minor": 2
}
