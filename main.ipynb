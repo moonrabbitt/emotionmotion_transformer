{
 "cells": [
  {
   "cell_type": "code",
   "execution_count": 1,
   "metadata": {},
   "outputs": [
    {
     "name": "stdout",
     "output_type": "stream",
     "text": [
      "C:\\Users\\avika\\OneDrive\\Documents\\UAL\\interactive_dance_thesis\n"
     ]
    }
   ],
   "source": [
    "from model import *\n",
    "import pytchat\n"
   ]
  },
  {
   "cell_type": "code",
   "execution_count": 2,
   "metadata": {},
   "outputs": [],
   "source": [
    "# Use a pipeline as a high-level helper\n",
    "from transformers import pipeline\n",
    "\n",
    "pipe = pipeline(\"text-classification\", model=\"michellejieli/emotion_text_classifier\")\n",
    "# Load model directly\n",
    "from transformers import AutoTokenizer, AutoModelForSequenceClassification\n",
    "\n",
    "tokenizer = AutoTokenizer.from_pretrained(\"michellejieli/emotion_text_classifier\")\n",
    "model = AutoModelForSequenceClassification.from_pretrained(\"michellejieli/emotion_text_classifier\")"
   ]
  },
  {
   "cell_type": "code",
   "execution_count": 3,
   "metadata": {},
   "outputs": [
    {
     "name": "stderr",
     "output_type": "stream",
     "text": [
      " 75%|███████▌  | 3094/4102 [00:02<00:01, 971.08it/s] "
     ]
    }
   ],
   "source": [
    "# Preparing MEED data for model\n",
    "MEED= prep_MEED_data()\n",
    "train_data,val_data,frame_dim,max_x,min_x,max_y,min_y,max_dx,min_dx,max_dy,min_dy = MEED"
   ]
  },
  {
   "cell_type": "code",
   "execution_count": null,
   "metadata": {},
   "outputs": [],
   "source": [
    "def get_video_by_emotion(data, specific_emotion):\n",
    "    \"\"\"\n",
    "    Retrieve a single video of a specified emotion from the dataset.\n",
    "    \n",
    "    Parameters:\n",
    "    - data (list): The entire dataset, assumed to be a list of videos.\n",
    "    - specific_emotion (str): The emotion label of the desired video.\n",
    "    \n",
    "    Returns:\n",
    "    - list: A single video corresponding to the specified emotion.\n",
    "    \"\"\"\n",
    "    # Convert the specific emotion to its encoding\n",
    "    specific_emotion_tuple = tuple(emotion_to_encoding(specific_emotion))\n",
    "    \n",
    "    # Search the dataset for a video with the specified emotion - return as tensor\n",
    "    for video in data:\n",
    "        if tuple(video[0][-7:]) == specific_emotion_tuple:\n",
    "            return torch.tensor([video]).to(device).float()\n",
    "    \n",
    "    # If no video with the specified emotion is found, return None\n",
    "    return None\n",
    "\n",
    "\n",
    "\n",
    "\n",
    "# Example usage\n",
    "specific_emotion_video = get_video_by_emotion(train_data, \"Anger\")"
   ]
  },
  {
   "cell_type": "code",
   "execution_count": null,
   "metadata": {},
   "outputs": [],
   "source": [
    "emotion_labels = ['anger', 'disgust', 'fear', 'joy', 'neutral', 'sadness', 'surprise']"
   ]
  },
  {
   "cell_type": "code",
   "execution_count": null,
   "metadata": {},
   "outputs": [
    {
     "name": "stderr",
     "output_type": "stream",
     "text": [
      "Visualizing frames:  27%|██▋       | 81/300 [00:08<00:23,  9.13it/s]"
     ]
    },
    {
     "name": "stdout",
     "output_type": "stream",
     "text": [
      "Loading checkpoint...\n"
     ]
    },
    {
     "name": "stderr",
     "output_type": "stream",
     "text": [
      "Visualizing frames:  28%|██▊       | 84/300 [00:09<00:23,  9.13it/s]"
     ]
    },
    {
     "name": "stdout",
     "output_type": "stream",
     "text": [
      "Checkpoint loaded from checkpoints/proto5_checkpoint.pth\n"
     ]
    },
    {
     "name": "stderr",
     "output_type": "stream",
     "text": [
      "Visualizing frames: 100%|██████████| 300/300 [00:49<00:00,  6.07it/s]\n",
      "Visualizing frames:  27%|██▋       | 81/300 [00:17<00:47,  4.59it/s]"
     ]
    }
   ],
   "source": [
    "chat = pytchat.create(video_id=\"jfKfPfyJRdk\")\n",
    "\n",
    "# Initialize a dictionary to keep track of cumulative scores and counts for each emotion\n",
    "emotion_data = {emotion: {\"score\": 0.0, \"count\": 0} for emotion in emotion_labels}\n",
    "\n",
    "# List to store average scores indexed by emotions\n",
    "average_scores = [0.0 for _ in emotion_labels]\n",
    "length =0\n",
    "\n",
    "\n",
    "# create model\n",
    "CHECKPOINT_PATH = \"checkpoints/proto5_checkpoint.pth\"\n",
    "\n",
    "m = MotionModel(input_dim=frame_dim, output_dim=frame_dim, blocksize=BLOCK_SIZE, hidden_dim=512, n_layers=8, dropout=DROPOUT)\n",
    "m = m.to(device)\n",
    "optimizer = torch.optim.Adam(m.parameters(), lr=LEARNING_RATE, weight_decay=L2_REG)  # weight_decay=1e-5 L2 regularization\n",
    "m, optimizer,scheduler, epoch, loss, train_seed = load_checkpoint(m, optimizer, CHECKPOINT_PATH)\n",
    "\n",
    "# initial generation always neutral\n",
    "generated = m.generate(specific_emotion_video, FRAMES_GENERATE)\n",
    "unnorm_out = unnormalise_list_2D(generated, max_x, min_x, max_y, min_y,max_x, min_x, max_y, min_y)\n",
    "\n",
    "# visualize\n",
    "visualise_skeleton(unnorm_out[0], max_x, max_y, max_frames=FRAMES_GENERATE,save = False,save_path=None,prefix=f'adam_{EPOCHS}_coord_switchhappytodisgust',train_seed=train_seed,delta=False)\n",
    "\n",
    "\n"
   ]
  },
  {
   "cell_type": "code",
   "execution_count": 8,
   "metadata": {},
   "outputs": [],
   "source": [
    "import threading\n",
    "import queue"
   ]
  },
  {
   "cell_type": "code",
   "execution_count": null,
   "metadata": {},
   "outputs": [
    {
     "name": "stdout",
     "output_type": "stream",
     "text": [
      "2023-10-19 19:22:34 [ro]- اوبااااا يا رؤى\n",
      "[{'label': 'neutral', 'score': 0.9258161187171936}]\n",
      "Average scores: [0.0, 0.0, 0.0, 0.0, 0.9258161187171936, 0.0, 0.0]\n",
      "2023-10-19 19:22:36 [Xa]- Elina الحفظ حلو همين\n",
      "[{'label': 'neutral', 'score': 0.8884650468826294}]\n",
      "Average scores: [0.0, 0.0, 0.0, 0.0, 0.9071405827999115, 0.0, 0.0]\n",
      "2023-10-19 19:22:38 [Baka ハンサム 🇵🇸]- zara thanks :folded_hands:\n",
      "[{'label': 'joy', 'score': 0.6992315053939819}]\n",
      "Average scores: [0.0, 0.0, 0.0, 0.6992315053939819, 0.9071405827999115, 0.0, 0.0]\n",
      "2023-10-19 19:22:39 [Rhishabh Suneeth]- how are yall doin\n",
      "[{'label': 'neutral', 'score': 0.9851313233375549}]\n",
      "Average scores: [0.0, 0.0, 0.0, 0.6992315053939819, 0.9331374963124593, 0.0, 0.0]\n",
      "2023-10-19 19:22:39 [zoro]- TOPPER:backhand_index_pointing_down:\n",
      "[{'label': 'neutral', 'score': 0.9879993200302124}]\n",
      "Average scores: [0.0, 0.0, 0.0, 0.6992315053939819, 0.9468529522418976, 0.0, 0.0]\n",
      "2023-10-19 19:22:41 [Suzan Demir]- benim bir gidip gelicem\n",
      "[{'label': 'neutral', 'score': 0.8868414759635925}]\n",
      "Average scores: [0.0, 0.0, 0.0, 0.6992315053939819, 0.9348506569862366, 0.0, 0.0]\n",
      "2023-10-19 19:22:41 [worthy ]- bhai apki English padh kar mai English bhul rahi hu\n",
      "[{'label': 'neutral', 'score': 0.8515940308570862}]\n",
      "Average scores: [0.0, 0.0, 0.0, 0.6992315053939819, 0.9209745526313782, 0.0, 0.0]\n",
      "2023-10-19 19:22:42 [Sanjana.V.S]- How are you?:full_moon_face:\n",
      "[{'label': 'neutral', 'score': 0.9188944101333618}]\n",
      "Average scores: [0.0, 0.0, 0.0, 0.6992315053939819, 0.9206773894173759, 0.0, 0.0]\n",
      "2023-10-19 19:22:46 [B]- بحكي مع الكل الا معي :slightly_smiling_face:\n",
      "[{'label': 'neutral', 'score': 0.6305946111679077}]\n",
      "Average scores: [0.0, 0.0, 0.0, 0.6992315053939819, 0.8844170421361923, 0.0, 0.0]\n",
      "2023-10-19 19:22:48 [mys]- zoro prso nhi aya abhi\n",
      "[{'label': 'neutral', 'score': 0.8487768769264221}]\n",
      "Average scores: [0.0, 0.0, 0.0, 0.6992315053939819, 0.8804570237795512, 0.0, 0.0]\n"
     ]
    },
    {
     "name": "stderr",
     "output_type": "stream",
     "text": [
      "Visualizing frames:   3%|▎         | 9/300 [00:00<00:31,  9.13it/s]"
     ]
    },
    {
     "name": "stdout",
     "output_type": "stream",
     "text": [
      "2023-10-19 19:22:50 [𝘻𝘢𝘳𝘢 ༒]- حرامات الوقت عدهم معكوس من اقرا بالليل هي عدها صبح\n",
      "[{'label': 'neutral', 'score': 0.8088387250900269}]\n",
      "Average scores: [0.0, 0.0, 0.0, 0.6992315053939819, 0.8732951939105987, 0.0, 0.0]\n"
     ]
    },
    {
     "name": "stderr",
     "output_type": "stream",
     "text": [
      "Visualizing frames:   6%|▌         | 18/300 [00:01<00:30,  9.10it/s]"
     ]
    },
    {
     "name": "stdout",
     "output_type": "stream",
     "text": [
      "2023-10-19 19:22:50 [doneswar]- ananya but why you scolding me :clown_face:\n",
      "[{'label': 'anger', 'score': 0.7776647210121155}]\n",
      "Average scores: [0.7776647210121155, 0.0, 0.0, 0.6992315053939819, 0.8732951939105987, 0.0, 0.0]\n"
     ]
    },
    {
     "name": "stderr",
     "output_type": "stream",
     "text": [
      "Visualizing frames:   9%|▊         | 26/300 [00:02<00:29,  9.16it/s]"
     ]
    },
    {
     "name": "stdout",
     "output_type": "stream",
     "text": [
      "2023-10-19 19:22:50 [PIZZA-UoU]- E włala :grinning_face::grinning_face::grinning_face:\n",
      "[{'label': 'joy', 'score': 0.8682769536972046}]\n",
      "Average scores: [0.7776647210121155, 0.0, 0.0, 0.7837542295455933, 0.8732951939105987, 0.0, 0.0]\n"
     ]
    },
    {
     "name": "stderr",
     "output_type": "stream",
     "text": [
      "Visualizing frames:  11%|█▏        | 34/300 [00:03<00:28,  9.22it/s]"
     ]
    },
    {
     "name": "stdout",
     "output_type": "stream",
     "text": [
      "2023-10-19 19:22:50 [~~Elden]- أنا كراشي فلسطينية و الله ملأت قلبي\n",
      "[{'label': 'neutral', 'score': 0.8884096145629883}]\n",
      "Average scores: [0.7776647210121155, 0.0, 0.0, 0.7837542295455933, 0.8746692321517251, 0.0, 0.0]\n"
     ]
    },
    {
     "name": "stderr",
     "output_type": "stream",
     "text": [
      "Visualizing frames:  14%|█▍        | 42/300 [00:04<00:28,  9.16it/s]"
     ]
    },
    {
     "name": "stdout",
     "output_type": "stream",
     "text": [
      "2023-10-19 19:22:51 [Usmaan Din]- hasnain uve been here all day bro\n",
      "[{'label': 'neutral', 'score': 0.9783405661582947}]\n",
      "Average scores: [0.7776647210121155, 0.0, 0.0, 0.7837542295455933, 0.8833085099856058, 0.0, 0.0]\n"
     ]
    },
    {
     "name": "stderr",
     "output_type": "stream",
     "text": [
      "Visualizing frames:  17%|█▋        | 51/300 [00:05<00:27,  9.20it/s]"
     ]
    },
    {
     "name": "stdout",
     "output_type": "stream",
     "text": [
      "2023-10-19 19:22:51 [Sanjana.V.S]- :slightly_smiling_face:\n",
      "[{'label': 'neutral', 'score': 0.8979910016059875}]\n",
      "Average scores: [0.7776647210121155, 0.0, 0.0, 0.7837542295455933, 0.8844379324179429, 0.0, 0.0]\n"
     ]
    },
    {
     "name": "stderr",
     "output_type": "stream",
     "text": [
      "Visualizing frames:  20%|█▉        | 59/300 [00:06<00:26,  9.24it/s]"
     ]
    },
    {
     "name": "stdout",
     "output_type": "stream",
     "text": [
      "2023-10-19 19:22:51 [zoro]- NERD:backhand_index_pointing_down:\n",
      "[{'label': 'neutral', 'score': 0.9899649024009705}]\n",
      "Average scores: [0.7776647210121155, 0.0, 0.0, 0.7837542295455933, 0.8919755731310163, 0.0, 0.0]\n"
     ]
    },
    {
     "name": "stderr",
     "output_type": "stream",
     "text": [
      "Visualizing frames:  22%|██▏       | 67/300 [00:07<00:25,  9.18it/s]"
     ]
    },
    {
     "name": "stdout",
     "output_type": "stream",
     "text": [
      "2023-10-19 19:22:53 [Gece]- @Suzan Demir iyiyim valla öyle boş beleş oturuyom sen\n",
      "[{'label': 'joy', 'score': 0.34024327993392944}]\n",
      "Average scores: [0.7776647210121155, 0.0, 0.0, 0.6359172463417053, 0.8919755731310163, 0.0, 0.0]\n"
     ]
    },
    {
     "name": "stderr",
     "output_type": "stream",
     "text": [
      "Visualizing frames:  25%|██▌       | 76/300 [00:08<00:24,  9.21it/s]"
     ]
    },
    {
     "name": "stdout",
     "output_type": "stream",
     "text": [
      "2023-10-19 19:22:54 [Hinna]- Tuff idk :skull:\n",
      "[{'label': 'neutral', 'score': 0.9447005391120911}]\n",
      "Average scores: [0.7776647210121155, 0.0, 0.0, 0.6359172463417053, 0.8954905708630879, 0.0, 0.0]\n"
     ]
    },
    {
     "name": "stderr",
     "output_type": "stream",
     "text": [
      "Visualizing frames:  28%|██▊       | 84/300 [00:09<00:23,  9.20it/s]"
     ]
    },
    {
     "name": "stdout",
     "output_type": "stream",
     "text": [
      "2023-10-19 19:22:54 [Elina]- Xa اي اطونا حاليا بس العربي ما عندي\n",
      "[{'label': 'neutral', 'score': 0.860589325428009}]\n",
      "Average scores: [0.7776647210121155, 0.0, 0.0, 0.6359172463417053, 0.8933092430233955, 0.0, 0.0]\n"
     ]
    },
    {
     "name": "stderr",
     "output_type": "stream",
     "text": [
      "Visualizing frames:  54%|█████▎    | 161/300 [00:17<00:15,  9.21it/s]"
     ]
    },
    {
     "name": "stdout",
     "output_type": "stream",
     "text": [
      "2023-10-19 19:22:56 [Arcane]- which book do you prefer for study?\n",
      "[{'label': 'neutral', 'score': 0.9857397675514221}]\n",
      "Average scores: [0.7776647210121155, 0.0, 0.0, 0.6359172463417053, 0.8987463327015147, 0.0, 0.0]\n"
     ]
    },
    {
     "name": "stderr",
     "output_type": "stream",
     "text": [
      "Visualizing frames:  57%|█████▋    | 170/300 [00:18<00:14,  9.23it/s]"
     ]
    },
    {
     "name": "stdout",
     "output_type": "stream",
     "text": [
      "2023-10-19 19:22:57 [Abrus Fredrick]- @Vinh Duong thnx man)) you too\n",
      "[{'label': 'neutral', 'score': 0.9775556921958923}]\n",
      "Average scores: [0.7776647210121155, 0.0, 0.0, 0.6359172463417053, 0.9031246304512024, 0.0, 0.0]\n"
     ]
    },
    {
     "name": "stderr",
     "output_type": "stream",
     "text": [
      "Visualizing frames:  59%|█████▉    | 178/300 [00:19<00:13,  9.14it/s]"
     ]
    },
    {
     "name": "stdout",
     "output_type": "stream",
     "text": [
      "2023-10-19 19:22:59 [Usmaan Din]- i saw u this morning as well bro\n",
      "[{'label': 'neutral', 'score': 0.9812605381011963}]\n",
      "Average scores: [0.7776647210121155, 0.0, 0.0, 0.6359172463417053, 0.9072370466433073, 0.0, 0.0]\n"
     ]
    },
    {
     "name": "stderr",
     "output_type": "stream",
     "text": [
      "Visualizing frames:  62%|██████▏   | 186/300 [00:20<00:12,  9.17it/s]"
     ]
    },
    {
     "name": "stdout",
     "output_type": "stream",
     "text": [
      "2023-10-19 19:23:00 [𝑱𝒂𝒅🇻🇪]- رؤى فجرتها \n",
      "[{'label': 'neutral', 'score': 0.7138473987579346}]\n",
      "Average scores: [0.7776647210121155, 0.0, 0.0, 0.6359172463417053, 0.8975675642490387, 0.0, 0.0]\n"
     ]
    },
    {
     "name": "stderr",
     "output_type": "stream",
     "text": [
      "Visualizing frames:  65%|██████▌   | 195/300 [00:21<00:11,  9.20it/s]"
     ]
    },
    {
     "name": "stdout",
     "output_type": "stream",
     "text": [
      "2023-10-19 19:23:01 [Aayesha Shaikhbhai]- Fate :disguised_face:\n",
      "[{'label': 'neutral', 'score': 0.6721386313438416}]\n",
      "Average scores: [0.7776647210121155, 0.0, 0.0, 0.6359172463417053, 0.8868328531583151, 0.0, 0.0]\n"
     ]
    },
    {
     "name": "stderr",
     "output_type": "stream",
     "text": [
      "Visualizing frames:  68%|██████▊   | 203/300 [00:22<00:10,  9.14it/s]"
     ]
    },
    {
     "name": "stdout",
     "output_type": "stream",
     "text": [
      "2023-10-19 19:23:02 [Fate]- #ayesha Shaikhbhai idc either way my child\n",
      "[{'label': 'neutral', 'score': 0.8516268730163574}]\n",
      "Average scores: [0.7776647210121155, 0.0, 0.0, 0.6359172463417053, 0.8852325813336805, 0.0, 0.0]\n"
     ]
    },
    {
     "name": "stderr",
     "output_type": "stream",
     "text": [
      "Visualizing frames:  70%|███████   | 211/300 [00:22<00:09,  9.23it/s]"
     ]
    },
    {
     "name": "stdout",
     "output_type": "stream",
     "text": [
      "2023-10-19 19:23:02 [Elina]- Xa وانتم \n",
      "[{'label': 'neutral', 'score': 0.8528289198875427}]\n",
      "Average scores: [0.7776647210121155, 0.0, 0.0, 0.6359172463417053, 0.8838237264881963, 0.0, 0.0]\n"
     ]
    },
    {
     "name": "stderr",
     "output_type": "stream",
     "text": [
      "Visualizing frames:  73%|███████▎  | 219/300 [00:23<00:08,  9.24it/s]"
     ]
    },
    {
     "name": "stdout",
     "output_type": "stream",
     "text": [
      "2023-10-19 19:23:02 [doneswar]- i'm rich :polar_bear:\n",
      "[{'label': 'joy', 'score': 0.9484891891479492}]\n",
      "Average scores: [0.7776647210121155, 0.0, 0.0, 0.7140602320432663, 0.8838237264881963, 0.0, 0.0]\n"
     ]
    },
    {
     "name": "stderr",
     "output_type": "stream",
     "text": [
      "Visualizing frames:  76%|███████▌  | 228/300 [00:24<00:07,  9.22it/s]"
     ]
    },
    {
     "name": "stdout",
     "output_type": "stream",
     "text": [
      "2023-10-19 19:23:03 [Flower 🌸 ]- Okeyyyy :smiling_face::smiling_face::smiling_face::smiling_face:\n",
      "[{'label': 'joy', 'score': 0.914490818977356}]\n",
      "Average scores: [0.7776647210121155, 0.0, 0.0, 0.7541463494300842, 0.8838237264881963, 0.0, 0.0]\n"
     ]
    },
    {
     "name": "stderr",
     "output_type": "stream",
     "text": [
      "Visualizing frames:  79%|███████▊  | 236/300 [00:25<00:06,  9.16it/s]"
     ]
    },
    {
     "name": "stdout",
     "output_type": "stream",
     "text": [
      "2023-10-19 19:23:03 [Confetta]- what is my purpose\n",
      "[{'label': 'neutral', 'score': 0.8807530403137207}]\n",
      "Average scores: [0.7776647210121155, 0.0, 0.0, 0.7541463494300842, 0.8836957812309265, 0.0, 0.0]\n"
     ]
    },
    {
     "name": "stderr",
     "output_type": "stream",
     "text": [
      "Visualizing frames: 100%|██████████| 300/300 [00:32<00:00,  9.18it/s]\n",
      "Visualizing frames:   5%|▌         | 16/300 [00:01<00:30,  9.27it/s]"
     ]
    },
    {
     "name": "stdout",
     "output_type": "stream",
     "text": [
      "2023-10-19 19:23:04 [Joao]- get money\n",
      "[{'label': 'neutral', 'score': 0.9744711518287659}]\n",
      "Average scores: [0.7776647210121155, 0.0, 0.0, 0.7541463494300842, 0.8873267960548401, 0.0, 0.0]\n"
     ]
    },
    {
     "name": "stderr",
     "output_type": "stream",
     "text": [
      "Visualizing frames:   8%|▊         | 24/300 [00:02<00:30,  9.08it/s]"
     ]
    },
    {
     "name": "stdout",
     "output_type": "stream",
     "text": [
      "2023-10-19 19:23:04 [Special]- يلا ما عليه الحياه تروح وتجي اتوقع انه اخر لقاء لنا\n",
      "[{'label': 'neutral', 'score': 0.5877392888069153}]\n",
      "Average scores: [0.7776647210121155, 0.0, 0.0, 0.7541463494300842, 0.8758041996222276, 0.0, 0.0]\n"
     ]
    },
    {
     "name": "stderr",
     "output_type": "stream",
     "text": [
      "Visualizing frames:  11%|█         | 33/300 [00:03<00:28,  9.26it/s]"
     ]
    },
    {
     "name": "stdout",
     "output_type": "stream",
     "text": [
      "2023-10-19 19:23:05 [mys]- L :backhand_index_pointing_down:\n",
      "[{'label': 'neutral', 'score': 0.9900739192962646}]\n",
      "Average scores: [0.7776647210121155, 0.0, 0.0, 0.7541463494300842, 0.8800364114620067, 0.0, 0.0]\n"
     ]
    },
    {
     "name": "stderr",
     "output_type": "stream",
     "text": [
      "Visualizing frames:  14%|█▎        | 41/300 [00:04<00:28,  9.15it/s]"
     ]
    },
    {
     "name": "stdout",
     "output_type": "stream",
     "text": [
      "2023-10-19 19:23:05 [worthy ]- @doneshwar where do you live?\n",
      "[{'label': 'neutral', 'score': 0.9743477702140808}]\n",
      "Average scores: [0.7776647210121155, 0.0, 0.0, 0.7541463494300842, 0.8834046742745808, 0.0, 0.0]\n"
     ]
    },
    {
     "name": "stderr",
     "output_type": "stream",
     "text": [
      "Visualizing frames:  16%|█▋        | 49/300 [00:05<00:27,  9.23it/s]"
     ]
    },
    {
     "name": "stdout",
     "output_type": "stream",
     "text": [
      "2023-10-19 19:23:05 [Junaid]- @Rhishabh Suneeth doing pretty good but pay attention to your friend since sheé here\n",
      "[{'label': 'neutral', 'score': 0.8203771114349365}]\n",
      "Average scores: [0.7776647210121155, 0.0, 0.0, 0.7541463494300842, 0.881231310038731, 0.0, 0.0]\n"
     ]
    },
    {
     "name": "stderr",
     "output_type": "stream",
     "text": [
      "Visualizing frames:  19%|█▉        | 57/300 [00:06<00:26,  9.08it/s]"
     ]
    },
    {
     "name": "stdout",
     "output_type": "stream",
     "text": [
      "2023-10-19 19:23:06 [zoro]- @mys incase i forget..\n",
      "[{'label': 'neutral', 'score': 0.8516794443130493}]\n",
      "Average scores: [0.7776647210121155, 0.0, 0.0, 0.7541463494300842, 0.880246247847875, 0.0, 0.0]\n"
     ]
    },
    {
     "name": "stderr",
     "output_type": "stream",
     "text": [
      "Visualizing frames:  22%|██▏       | 66/300 [00:07<00:25,  9.19it/s]"
     ]
    },
    {
     "name": "stdout",
     "output_type": "stream",
     "text": [
      "2023-10-19 19:23:06 [H-]- @Junaid chem lmao 2.t5 gehnte Ik seat mein :loudly_crying_face::loudly_crying_face:\n",
      "[{'label': 'joy', 'score': 0.5413848161697388}]\n",
      "Average scores: [0.7776647210121155, 0.0, 0.0, 0.7186860938866934, 0.880246247847875, 0.0, 0.0]\n"
     ]
    },
    {
     "name": "stderr",
     "output_type": "stream",
     "text": [
      "Visualizing frames:  25%|██▍       | 74/300 [00:08<00:24,  9.18it/s]"
     ]
    },
    {
     "name": "stdout",
     "output_type": "stream",
     "text": [
      "2023-10-19 19:23:07 [B]- اعرف ريد فلاق بس وش اسوي :downcast_face_with_sweat:\n",
      "[{'label': 'neutral', 'score': 0.8649486899375916}]\n",
      "Average scores: [0.7776647210121155, 0.0, 0.0, 0.7186860938866934, 0.8797527782378658, 0.0, 0.0]\n"
     ]
    },
    {
     "name": "stderr",
     "output_type": "stream",
     "text": [
      "Visualizing frames:  28%|██▊       | 83/300 [00:09<00:23,  9.24it/s]"
     ]
    },
    {
     "name": "stdout",
     "output_type": "stream",
     "text": [
      "2023-10-19 19:23:08 [ʜᴀsɴᴀɪɴシ︎]- Stranger, who knows all my secrets, Can pull me apart and break my heart ~\n",
      "[{'label': 'sadness', 'score': 0.7273768782615662}]\n",
      "Average scores: [0.7776647210121155, 0.0, 0.0, 0.7186860938866934, 0.8797527782378658, 0.7273768782615662, 0.0]\n"
     ]
    },
    {
     "name": "stderr",
     "output_type": "stream",
     "text": [
      "Visualizing frames:  30%|███       | 91/300 [00:09<00:22,  9.12it/s]"
     ]
    },
    {
     "name": "stdout",
     "output_type": "stream",
     "text": [
      "2023-10-19 19:23:09 [Mustufa]- H- Mustard nahi, Mufasa... me hoon Mufasa ek sachcha raja\n",
      "[{'label': 'joy', 'score': 0.687349259853363}]\n",
      "Average scores: [0.7776647210121155, 0.0, 0.0, 0.7142094033105033, 0.8797527782378658, 0.7273768782615662, 0.0]\n"
     ]
    },
    {
     "name": "stderr",
     "output_type": "stream",
     "text": [
      "Visualizing frames:  55%|█████▌    | 166/300 [00:18<00:14,  9.20it/s]"
     ]
    },
    {
     "name": "stdout",
     "output_type": "stream",
     "text": [
      "2023-10-19 19:23:11 [clara bonet]- francaiiiiiiiiiiiiiiiiiiiiiiiiiis\n",
      "[{'label': 'neutral', 'score': 0.9426519870758057}]\n",
      "Average scores: [0.7776647210121155, 0.0, 0.0, 0.7142094033105033, 0.8817183785140514, 0.7273768782615662, 0.0]\n"
     ]
    },
    {
     "name": "stderr",
     "output_type": "stream",
     "text": [
      "Visualizing frames:  58%|█████▊    | 174/300 [00:18<00:13,  9.19it/s]"
     ]
    },
    {
     "name": "stdout",
     "output_type": "stream",
     "text": [
      "2023-10-19 19:23:11 [Baka ハンサム 🇵🇸]- Suzan Demir selamlar Demir beyler :beaming_face_with_smiling_eyes:\n",
      "[{'label': 'joy', 'score': 0.7152713537216187}]\n",
      "Average scores: [0.7776647210121155, 0.0, 0.0, 0.7143421471118927, 0.8817183785140514, 0.7273768782615662, 0.0]\n"
     ]
    },
    {
     "name": "stderr",
     "output_type": "stream",
     "text": [
      "Visualizing frames:  61%|██████    | 182/300 [00:19<00:12,  9.21it/s]"
     ]
    },
    {
     "name": "stdout",
     "output_type": "stream",
     "text": [
      "2023-10-19 19:23:11 [Elina]- Xa انا اكره الحفظ \n",
      "[{'label': 'neutral', 'score': 0.7329078316688538}]\n",
      "Average scores: [0.7776647210121155, 0.0, 0.0, 0.7143421471118927, 0.8772089680035909, 0.7273768782615662, 0.0]\n"
     ]
    },
    {
     "name": "stderr",
     "output_type": "stream",
     "text": [
      "Visualizing frames:  64%|██████▎   | 191/300 [00:20<00:11,  9.16it/s]"
     ]
    },
    {
     "name": "stdout",
     "output_type": "stream",
     "text": [
      "2023-10-19 19:23:13 [PIZZA-UoU]- MADAFAKA:skull:\n",
      "[{'label': 'neutral', 'score': 0.9537063837051392}]\n",
      "Average scores: [0.7776647210121155, 0.0, 0.0, 0.7143421471118927, 0.8794588919948129, 0.7273768782615662, 0.0]\n"
     ]
    },
    {
     "name": "stderr",
     "output_type": "stream",
     "text": [
      "Visualizing frames:  66%|██████▋   | 199/300 [00:21<00:11,  9.15it/s]"
     ]
    },
    {
     "name": "stdout",
     "output_type": "stream",
     "text": [
      "2023-10-19 19:23:14 [Chahd ]- @Rhishabh Suneeth ur glowing as usual :sparkles:\n",
      "[{'label': 'joy', 'score': 0.9390818476676941}]\n",
      "Average scores: [0.7776647210121155, 0.0, 0.0, 0.7393132249514262, 0.8794588919948129, 0.7273768782615662, 0.0]\n"
     ]
    },
    {
     "name": "stderr",
     "output_type": "stream",
     "text": [
      "Visualizing frames:  68%|██████▊   | 205/300 [00:22<00:10,  9.08it/s]"
     ]
    },
    {
     "name": "stdout",
     "output_type": "stream",
     "text": [
      "2023-10-19 19:23:14 [Lefty]- hussain dnt try on angel u wasting ur time :rolling_on_the_floor_laughing:\n",
      "[{'label': 'neutral', 'score': 0.5076814889907837}]\n",
      "Average scores: [0.7776647210121155, 0.0, 0.0, 0.7393132249514262, 0.8688366804804121, 0.7273768782615662, 0.0]\n"
     ]
    },
    {
     "name": "stderr",
     "output_type": "stream",
     "text": [
      "Visualizing frames:  70%|██████▉   | 209/300 [00:22<00:09,  9.19it/s]"
     ]
    },
    {
     "name": "stdout",
     "output_type": "stream",
     "text": [
      "2023-10-19 19:23:14 [Tuff]- good as well Pretty ~\n",
      "[{'label': 'neutral', 'score': 0.5163661241531372}]\n",
      "Average scores: [0.7776647210121155, 0.0, 0.0, 0.7393132249514262, 0.8590458316935433, 0.7273768782615662, 0.0]\n"
     ]
    },
    {
     "name": "stderr",
     "output_type": "stream",
     "text": [
      "Visualizing frames:  71%|███████▏  | 214/300 [00:23<00:09,  9.17it/s]"
     ]
    },
    {
     "name": "stdout",
     "output_type": "stream",
     "text": [
      "2023-10-19 19:23:16 [dainis merksons]- I make ideas ))\n",
      "[{'label': 'neutral', 'score': 0.9638804197311401}]\n",
      "Average scores: [0.7776647210121155, 0.0, 0.0, 0.7393132249514262, 0.8618791989378027, 0.7273768782615662, 0.0]\n"
     ]
    },
    {
     "name": "stderr",
     "output_type": "stream",
     "text": [
      "Visualizing frames:  73%|███████▎  | 219/300 [00:23<00:08,  9.21it/s]"
     ]
    },
    {
     "name": "stdout",
     "output_type": "stream",
     "text": [
      "2023-10-19 19:23:17 [ro]- جابت العييييد\n",
      "[{'label': 'neutral', 'score': 0.9413127899169922}]\n",
      "Average scores: [0.7776647210121155, 0.0, 0.0, 0.7393132249514262, 0.8639695565951498, 0.7273768782615662, 0.0]\n"
     ]
    },
    {
     "name": "stderr",
     "output_type": "stream",
     "text": [
      "Visualizing frames:  75%|███████▍  | 224/300 [00:24<00:08,  9.23it/s]"
     ]
    },
    {
     "name": "stdout",
     "output_type": "stream",
     "text": [
      "2023-10-19 19:23:17 [ʜᴀsɴᴀɪɴシ︎]- I'm Just A Bot\n",
      "[{'label': 'neutral', 'score': 0.9892873764038086}]\n",
      "Average scores: [0.7776647210121155, 0.0, 0.0, 0.7393132249514262, 0.867182834026141, 0.7273768782615662, 0.0]\n"
     ]
    },
    {
     "name": "stderr",
     "output_type": "stream",
     "text": [
      "Visualizing frames:  99%|█████████▊| 296/300 [00:32<00:00,  9.13it/s]"
     ]
    },
    {
     "name": "stdout",
     "output_type": "stream",
     "text": [
      "2023-10-19 19:23:17 [Xa]- كلش زين Elina\n",
      "[{'label': 'neutral', 'score': 0.9803088903427124}]\n",
      "Average scores: [0.7776647210121155, 0.0, 0.0, 0.7393132249514262, 0.8700109854340553, 0.7273768782615662, 0.0]\n"
     ]
    },
    {
     "name": "stderr",
     "output_type": "stream",
     "text": [
      "Visualizing frames: 100%|██████████| 300/300 [00:33<00:00,  9.08it/s]\n"
     ]
    },
    {
     "name": "stdout",
     "output_type": "stream",
     "text": [
      "2023-10-19 19:23:21 [PIZZA-UoU]- Uuuooiououououououo\n",
      "[{'label': 'joy', 'score': 0.9247157573699951}]\n",
      "Average scores: [0.7776647210121155, 0.0, 0.0, 0.7578534781932831, 0.8700109854340553, 0.7273768782615662, 0.0]\n"
     ]
    },
    {
     "name": "stderr",
     "output_type": "stream",
     "text": [
      "Visualizing frames:   2%|▏         | 5/300 [00:00<00:32,  9.18it/s]"
     ]
    },
    {
     "name": "stdout",
     "output_type": "stream",
     "text": [
      "2023-10-19 19:23:21 [zoro]- OHIO CITIZEN:backhand_index_pointing_down:\n",
      "[{'label': 'neutral', 'score': 0.9885940551757812}]\n",
      "Average scores: [0.7776647210121155, 0.0, 0.0, 0.7578534781932831, 0.8729032554277559, 0.7273768782615662, 0.0]\n"
     ]
    },
    {
     "name": "stderr",
     "output_type": "stream",
     "text": [
      "Visualizing frames:   3%|▎         | 10/300 [00:01<00:31,  9.16it/s]"
     ]
    },
    {
     "name": "stdout",
     "output_type": "stream",
     "text": [
      "2023-10-19 19:23:22 [Swaranjali Gaikwad]- @Ted. aare manje tasa nahi khara aasa manje ky bolshil tu\n",
      "[{'label': 'neutral', 'score': 0.6648694276809692}]\n",
      "Average scores: [0.7776647210121155, 0.0, 0.0, 0.7578534781932831, 0.8679500690528325, 0.7273768782615662, 0.0]\n"
     ]
    },
    {
     "name": "stderr",
     "output_type": "stream",
     "text": [
      "Visualizing frames:   5%|▍         | 14/300 [00:01<00:31,  9.19it/s]"
     ]
    },
    {
     "name": "stdout",
     "output_type": "stream",
     "text": [
      "2023-10-19 19:23:24 [NOOBUYA]- Israel should give land to the Palestinian people\n",
      "[{'label': 'anger', 'score': 0.8156362771987915}]\n",
      "Average scores: [0.7966504991054535, 0.0, 0.0, 0.7578534781932831, 0.8679500690528325, 0.7273768782615662, 0.0]\n"
     ]
    },
    {
     "name": "stderr",
     "output_type": "stream",
     "text": [
      "Visualizing frames:   6%|▋         | 19/300 [00:02<00:30,  9.14it/s]"
     ]
    },
    {
     "name": "stdout",
     "output_type": "stream",
     "text": [
      "2023-10-19 19:23:24 [Junaid]- IM poor enough! that a coin make fun of me now\n",
      "[{'label': 'anger', 'score': 0.9247006773948669}]\n",
      "Average scores: [0.8393338918685913, 0.0, 0.0, 0.7578534781932831, 0.8679500690528325, 0.7273768782615662, 0.0]\n"
     ]
    },
    {
     "name": "stderr",
     "output_type": "stream",
     "text": [
      "Visualizing frames:   8%|▊         | 24/300 [00:02<00:30,  9.17it/s]"
     ]
    },
    {
     "name": "stdout",
     "output_type": "stream",
     "text": [
      "2023-10-19 19:23:24 [Gece]- @Baka :face_with_tears_of_joy::grinning_squinting_face:u speak sorani we speak Kurmanci :face_with_tears_of_joy:\n",
      "[{'label': 'joy', 'score': 0.9425803422927856}]\n",
      "Average scores: [0.8393338918685913, 0.0, 0.0, 0.774646829475056, 0.8679500690528325, 0.7273768782615662, 0.0]\n"
     ]
    },
    {
     "name": "stderr",
     "output_type": "stream",
     "text": [
      "Visualizing frames:  10%|▉         | 29/300 [00:03<00:29,  9.13it/s]"
     ]
    },
    {
     "name": "stdout",
     "output_type": "stream",
     "text": [
      "2023-10-19 19:23:25 [Sereñe]- i don't study books ;)\n",
      "[{'label': 'anger', 'score': 0.960405707359314}]\n",
      "Average scores: [0.869601845741272, 0.0, 0.0, 0.774646829475056, 0.8679500690528325, 0.7273768782615662, 0.0]\n"
     ]
    },
    {
     "name": "stderr",
     "output_type": "stream",
     "text": [
      "Visualizing frames:  11%|█         | 33/300 [00:03<00:29,  9.17it/s]"
     ]
    },
    {
     "name": "stdout",
     "output_type": "stream",
     "text": [
      "2023-10-19 19:23:27 [ananya]- doneswar bcoz u r too much older than me thats why:smiling_face_with_smiling_eyes:\n",
      "[{'label': 'neutral', 'score': 0.8197815418243408}]\n",
      "Average scores: [0.869601845741272, 0.0, 0.0, 0.774646829475056, 0.8668298707451931, 0.7273768782615662, 0.0]\n"
     ]
    },
    {
     "name": "stderr",
     "output_type": "stream",
     "text": [
      "Visualizing frames:  13%|█▎        | 38/300 [00:04<00:28,  9.15it/s]"
     ]
    },
    {
     "name": "stdout",
     "output_type": "stream",
     "text": [
      "2023-10-19 19:23:29 [Rhishabh Suneeth]- doing good sanju, wbu @Sanjana.V.S \n",
      "[{'label': 'neutral', 'score': 0.6114146113395691}]\n",
      "Average scores: [0.869601845741272, 0.0, 0.0, 0.774646829475056, 0.8610249784859744, 0.7273768782615662, 0.0]\n"
     ]
    },
    {
     "name": "stderr",
     "output_type": "stream",
     "text": [
      "Visualizing frames:  37%|███▋      | 110/300 [00:12<00:20,  9.17it/s]"
     ]
    },
    {
     "name": "stdout",
     "output_type": "stream",
     "text": [
      "2023-10-19 19:23:31 [Rahul]- diploma nhi krna chahiye tha admission lete waqt dimaag maa ch****** gya tha\n",
      "[{'label': 'neutral', 'score': 0.7242940068244934}]\n",
      "Average scores: [0.869601845741272, 0.0, 0.0, 0.774646829475056, 0.8579865124490526, 0.7273768782615662, 0.0]\n"
     ]
    },
    {
     "name": "stderr",
     "output_type": "stream",
     "text": [
      "Visualizing frames:  38%|███▊      | 115/300 [00:12<00:20,  9.24it/s]"
     ]
    },
    {
     "name": "stdout",
     "output_type": "stream",
     "text": [
      "2023-10-19 19:23:34 [Aayesha Shaikhbhai]- Joao Money :money_bag:\n",
      "[{'label': 'neutral', 'score': 0.9857195019721985}]\n",
      "Average scores: [0.869601845741272, 0.0, 0.0, 0.774646829475056, 0.860763316569121, 0.7273768782615662, 0.0]\n"
     ]
    },
    {
     "name": "stderr",
     "output_type": "stream",
     "text": [
      "Visualizing frames:  40%|███▉      | 119/300 [00:12<00:19,  9.16it/s]"
     ]
    },
    {
     "name": "stdout",
     "output_type": "stream",
     "text": [
      "2023-10-19 19:23:35 [Даниял]- Abrus,okay, Then I will the greatest teacher :face_with_tears_of_joy:\n",
      "[{'label': 'joy', 'score': 0.9369140863418579}]\n",
      "Average scores: [0.869601845741272, 0.0, 0.0, 0.7881691008806229, 0.860763316569121, 0.7273768782615662, 0.0]\n"
     ]
    },
    {
     "name": "stderr",
     "output_type": "stream",
     "text": [
      "Visualizing frames:  41%|████▏     | 124/300 [00:13<00:19,  9.16it/s]"
     ]
    },
    {
     "name": "stdout",
     "output_type": "stream",
     "text": [
      "2023-10-19 19:23:36 [Usmaan Din]- hasnain r u tho\n",
      "[{'label': 'neutral', 'score': 0.9250025749206543}]\n",
      "Average scores: [0.869601845741272, 0.0, 0.0, 0.7881691008806229, 0.8621301093000047, 0.7273768782615662, 0.0]\n"
     ]
    },
    {
     "name": "stderr",
     "output_type": "stream",
     "text": [
      "Visualizing frames:  43%|████▎     | 129/300 [00:14<00:18,  9.15it/s]"
     ]
    },
    {
     "name": "stdout",
     "output_type": "stream",
     "text": [
      "2023-10-19 19:23:36 [PIZZA-UoU]- I mąkę ideas\n",
      "[{'label': 'neutral', 'score': 0.9339903593063354}]\n",
      "Average scores: [0.869601845741272, 0.0, 0.0, 0.7881691008806229, 0.8636271978418032, 0.7273768782615662, 0.0]\n"
     ]
    },
    {
     "name": "stderr",
     "output_type": "stream",
     "text": [
      "Visualizing frames:  44%|████▍     | 133/300 [00:14<00:18,  9.18it/s]"
     ]
    },
    {
     "name": "stdout",
     "output_type": "stream",
     "text": [
      "2023-10-19 19:23:38 [mys]- zoro how thoughtful\n",
      "[{'label': 'neutral', 'score': 0.9429503679275513}]\n",
      "Average scores: [0.869601845741272, 0.0, 0.0, 0.7881691008806229, 0.8652460380476348, 0.7273768782615662, 0.0]\n"
     ]
    },
    {
     "name": "stderr",
     "output_type": "stream",
     "text": [
      "Visualizing frames:  46%|████▌     | 138/300 [00:15<00:17,  9.20it/s]"
     ]
    },
    {
     "name": "stdout",
     "output_type": "stream",
     "text": [
      "2023-10-19 19:23:38 [𝑺𝑨𝑴𝑬𝑹]- ههههه روُى يعطيكي العافيه :face_with_tears_of_joy::face_with_tears_of_joy::broken_heart:\n",
      "[{'label': 'sadness', 'score': 0.9188715219497681}]\n",
      "Average scores: [0.869601845741272, 0.0, 0.0, 0.7881691008806229, 0.8652460380476348, 0.8231242001056671, 0.0]\n"
     ]
    },
    {
     "name": "stderr",
     "output_type": "stream",
     "text": [
      "Visualizing frames:  48%|████▊     | 143/300 [00:15<00:17,  9.20it/s]"
     ]
    },
    {
     "name": "stdout",
     "output_type": "stream",
     "text": [
      "2023-10-19 19:23:40 [Gece]- kurdi turki\n",
      "[{'label': 'neutral', 'score': 0.9705100059509277}]\n",
      "Average scores: [0.869601845741272, 0.0, 0.0, 0.7881691008806229, 0.8673513174057007, 0.8231242001056671, 0.0]\n"
     ]
    },
    {
     "name": "stderr",
     "output_type": "stream",
     "text": [
      "Visualizing frames:  49%|████▉     | 148/300 [00:16<00:16,  9.24it/s]"
     ]
    },
    {
     "name": "stdout",
     "output_type": "stream",
     "text": [
      "2023-10-19 19:23:43 [Sereñe]- i think i should start\n",
      "[{'label': 'fear', 'score': 0.4819953143596649}]\n",
      "Average scores: [0.869601845741272, 0.0, 0.4819953143596649, 0.7881691008806229, 0.8673513174057007, 0.8231242001056671, 0.0]\n"
     ]
    },
    {
     "name": "stderr",
     "output_type": "stream",
     "text": [
      "Visualizing frames:  51%|█████     | 152/300 [00:16<00:16,  9.17it/s]"
     ]
    },
    {
     "name": "stdout",
     "output_type": "stream",
     "text": [
      "2023-10-19 19:23:43 [doneswar]- worthy i'm indian but idk hindi \n",
      "[{'label': 'neutral', 'score': 0.8465135097503662}]\n",
      "Average scores: [0.869601845741272, 0.0, 0.4819953143596649, 0.7881691008806229, 0.8669427329418706, 0.8231242001056671, 0.0]\n"
     ]
    },
    {
     "name": "stderr",
     "output_type": "stream",
     "text": [
      "Visualizing frames:  75%|███████▌  | 225/300 [00:24<00:08,  9.18it/s]"
     ]
    },
    {
     "name": "stdout",
     "output_type": "stream",
     "text": [
      "2023-10-19 19:23:43 [Rahul]- watt lg gyi meri\n",
      "[{'label': 'neutral', 'score': 0.8545408844947815}]\n",
      "Average scores: [0.869601845741272, 0.0, 0.4819953143596649, 0.7881691008806229, 0.8667042358563497, 0.8231242001056671, 0.0]\n"
     ]
    },
    {
     "name": "stderr",
     "output_type": "stream",
     "text": [
      "Visualizing frames:  77%|███████▋  | 230/300 [00:25<00:07,  9.11it/s]"
     ]
    },
    {
     "name": "stdout",
     "output_type": "stream",
     "text": [
      "2023-10-19 19:23:44 [Swaranjali Gaikwad]- @Ted. sod te\n",
      "[{'label': 'neutral', 'score': 0.9881165027618408}]\n",
      "Average scores: [0.869601845741272, 0.0, 0.4819953143596649, 0.7881691008806229, 0.8689950333451325, 0.8231242001056671, 0.0]\n"
     ]
    },
    {
     "name": "stderr",
     "output_type": "stream",
     "text": [
      "Visualizing frames:  78%|███████▊  | 234/300 [00:25<00:07,  9.19it/s]"
     ]
    },
    {
     "name": "stdout",
     "output_type": "stream",
     "text": [
      "2023-10-19 19:23:45 [Lefty]- fatima\n",
      "[{'label': 'neutral', 'score': 0.9887205958366394}]\n",
      "Average scores: [0.869601845741272, 0.0, 0.4819953143596649, 0.7881691008806229, 0.8712121733912715, 0.8231242001056671, 0.0]\n"
     ]
    },
    {
     "name": "stderr",
     "output_type": "stream",
     "text": [
      "Visualizing frames:  80%|███████▉  | 239/300 [00:26<00:06,  9.18it/s]"
     ]
    },
    {
     "name": "stdout",
     "output_type": "stream",
     "text": [
      "2023-10-19 19:23:45 [H-]- @Mustafa Raja? :loudly_crying_face::skull::rolling_on_the_floor_laughing:daffa ho \n",
      "[{'label': 'joy', 'score': 0.4674212336540222}]\n",
      "Average scores: [0.869601845741272, 0.0, 0.4819953143596649, 0.7634961880170382, 0.8712121733912715, 0.8231242001056671, 0.0]\n"
     ]
    },
    {
     "name": "stderr",
     "output_type": "stream",
     "text": [
      "Visualizing frames:  81%|████████▏ | 244/300 [00:26<00:06,  9.12it/s]"
     ]
    },
    {
     "name": "stdout",
     "output_type": "stream",
     "text": [
      "2023-10-19 19:23:45 [Flower 🌸 ]- U ready book :closed_book: Lefty ? \n",
      "[{'label': 'neutral', 'score': 0.779660165309906}]\n",
      "Average scores: [0.869601845741272, 0.0, 0.4819953143596649, 0.7634961880170382, 0.8695475914261558, 0.8231242001056671, 0.0]\n"
     ]
    },
    {
     "name": "stderr",
     "output_type": "stream",
     "text": [
      "Visualizing frames:  83%|████████▎ | 248/300 [00:27<00:05,  9.22it/s]"
     ]
    },
    {
     "name": "stdout",
     "output_type": "stream",
     "text": [
      "2023-10-19 19:23:46 [ko-shamo black]- ドロンを使ってサリン\n",
      "[{'label': 'neutral', 'score': 0.9510525465011597}]\n",
      "Average scores: [0.869601845741272, 0.0, 0.4819953143596649, 0.7634961880170382, 0.8710030370524952, 0.8231242001056671, 0.0]\n"
     ]
    },
    {
     "name": "stderr",
     "output_type": "stream",
     "text": [
      "Visualizing frames:  84%|████████▍ | 253/300 [00:27<00:05,  9.17it/s]"
     ]
    },
    {
     "name": "stdout",
     "output_type": "stream",
     "text": [
      "2023-10-19 19:23:46 […RO'A]- ليش :slightly_smiling_face:\n",
      "[{'label': 'neutral', 'score': 0.8419359922409058}]\n",
      "Average scores: [0.869601845741272, 0.0, 0.4819953143596649, 0.7634961880170382, 0.8704930888979059, 0.8231242001056671, 0.0]\n"
     ]
    },
    {
     "name": "stderr",
     "output_type": "stream",
     "text": [
      "Visualizing frames:  86%|████████▌ | 258/300 [00:28<00:04,  9.14it/s]"
     ]
    },
    {
     "name": "stdout",
     "output_type": "stream",
     "text": [
      "2023-10-19 19:23:46 [PIZZA-UoU]- I make ideas\n",
      "[{'label': 'neutral', 'score': 0.7432219386100769}]\n",
      "Average scores: [0.869601845741272, 0.0, 0.4819953143596649, 0.7634961880170382, 0.8682987587205295, 0.8231242001056671, 0.0]\n"
     ]
    },
    {
     "name": "stderr",
     "output_type": "stream",
     "text": [
      "Visualizing frames:  88%|████████▊ | 263/300 [00:28<00:04,  9.20it/s]"
     ]
    },
    {
     "name": "stdout",
     "output_type": "stream",
     "text": [
      "2023-10-19 19:23:47 [Baka ハンサム 🇵🇸]- #Gece i know :loudly_crying_face:\n",
      "[{'label': 'anger', 'score': 0.3660997450351715}]\n",
      "Average scores: [0.7689014256000519, 0.0, 0.4819953143596649, 0.7634961880170382, 0.8682987587205295, 0.8231242001056671, 0.0]\n"
     ]
    },
    {
     "name": "stderr",
     "output_type": "stream",
     "text": [
      "Visualizing frames:  89%|████████▉ | 267/300 [00:29<00:03,  9.18it/s]"
     ]
    },
    {
     "name": "stdout",
     "output_type": "stream",
     "text": [
      "2023-10-19 19:23:47 [ʜᴀsɴᴀɪɴシ︎]- Yea lol\n",
      "[{'label': 'joy', 'score': 0.7089577317237854}]\n",
      "Average scores: [0.7689014256000519, 0.0, 0.4819953143596649, 0.7596005839960915, 0.8682987587205295, 0.8231242001056671, 0.0]\n"
     ]
    },
    {
     "name": "stderr",
     "output_type": "stream",
     "text": [
      "Visualizing frames: 100%|██████████| 300/300 [00:32<00:00,  9.17it/s]\n",
      "Visualizing frames:  13%|█▎        | 39/300 [00:04<00:28,  9.19it/s]"
     ]
    },
    {
     "name": "stdout",
     "output_type": "stream",
     "text": [
      "2023-10-19 19:23:50 [Mustufa]- Junaid muje b aaya tha, bt me vepari sath tha... seen kru tb tk usne unsend krdi thi\n",
      "[{'label': 'neutral', 'score': 0.6779137849807739}]\n",
      "Average scores: [0.7689014256000519, 0.0, 0.4819953143596649, 0.7596005839960915, 0.8650718947588387, 0.8231242001056671, 0.0]\n"
     ]
    },
    {
     "name": "stderr",
     "output_type": "stream",
     "text": [
      "Visualizing frames:  15%|█▍        | 44/300 [00:04<00:27,  9.19it/s]"
     ]
    },
    {
     "name": "stdout",
     "output_type": "stream",
     "text": [
      "2023-10-19 19:23:50 [Sanjana.V.S]- yeah gtk... I'm good too :right_facing_fist::left_facing_fist:\n",
      "[{'label': 'joy', 'score': 0.6774320006370544}]\n",
      "Average scores: [0.7689014256000519, 0.0, 0.4819953143596649, 0.7541226784388224, 0.8650718947588387, 0.8231242001056671, 0.0]\n"
     ]
    },
    {
     "name": "stderr",
     "output_type": "stream",
     "text": [
      "Visualizing frames:  16%|█▋        | 49/300 [00:05<00:27,  9.16it/s]"
     ]
    },
    {
     "name": "stdout",
     "output_type": "stream",
     "text": [
      "2023-10-19 19:23:51 [worthy ]- hasnain ko bot kehenge to yakeen bhi aajayega\n",
      "[{'label': 'neutral', 'score': 0.9472169280052185}]\n",
      "Average scores: [0.7689014256000519, 0.0, 0.4819953143596649, 0.7541226784388224, 0.8664409786462783, 0.8231242001056671, 0.0]\n"
     ]
    },
    {
     "name": "stderr",
     "output_type": "stream",
     "text": [
      "Visualizing frames:  18%|█▊        | 54/300 [00:05<00:26,  9.18it/s]"
     ]
    },
    {
     "name": "stdout",
     "output_type": "stream",
     "text": [
      "2023-10-19 19:23:53 [Elina]- Xa اي زيين بس غير كوه اطونا كلساع رايحين للمخزن \n",
      "[{'label': 'neutral', 'score': 0.6955385208129883}]\n",
      "Average scores: [0.7689014256000519, 0.0, 0.4819953143596649, 0.7541226784388224, 0.8636392990096671, 0.8231242001056671, 0.0]\n"
     ]
    },
    {
     "name": "stderr",
     "output_type": "stream",
     "text": [
      "Visualizing frames:  19%|█▉        | 58/300 [00:06<00:26,  9.17it/s]"
     ]
    },
    {
     "name": "stdout",
     "output_type": "stream",
     "text": [
      "2023-10-19 19:23:54 [Chahd ]- Alr gtg\n",
      "[{'label': 'neutral', 'score': 0.9838184714317322}]\n",
      "Average scores: [0.7689014256000519, 0.0, 0.4819953143596649, 0.7541226784388224, 0.86557767275841, 0.8231242001056671, 0.0]\n"
     ]
    },
    {
     "name": "stderr",
     "output_type": "stream",
     "text": [
      "Visualizing frames:  21%|██        | 63/300 [00:06<00:25,  9.16it/s]"
     ]
    },
    {
     "name": "stdout",
     "output_type": "stream",
     "text": [
      "2023-10-19 19:23:54 [Tuff]- Abrus did u recieve my message?\n",
      "[{'label': 'neutral', 'score': 0.9217071533203125}]\n",
      "Average scores: [0.7689014256000519, 0.0, 0.4819953143596649, 0.7541226784388224, 0.8664686168943133, 0.8231242001056671, 0.0]\n"
     ]
    },
    {
     "name": "stderr",
     "output_type": "stream",
     "text": [
      "Visualizing frames:  23%|██▎       | 68/300 [00:07<00:25,  9.18it/s]"
     ]
    },
    {
     "name": "stdout",
     "output_type": "stream",
     "text": [
      "2023-10-19 19:23:54 [Rhishabh Suneeth]- @Chahd ayy thanks, you too :fire:\n",
      "[{'label': 'joy', 'score': 0.7522679567337036}]\n",
      "Average scores: [0.7689014256000519, 0.0, 0.4819953143596649, 0.7540067583322525, 0.8664686168943133, 0.8231242001056671, 0.0]\n"
     ]
    },
    {
     "name": "stderr",
     "output_type": "stream",
     "text": [
      "Visualizing frames:  24%|██▍       | 73/300 [00:07<00:24,  9.22it/s]"
     ]
    },
    {
     "name": "stdout",
     "output_type": "stream",
     "text": [
      "2023-10-19 19:23:55 [Abrus Fredrick]- @Даниял hahaha ok master \n",
      "[{'label': 'joy', 'score': 0.6606692671775818}]\n",
      "Average scores: [0.7689014256000519, 0.0, 0.4819953143596649, 0.7485163176760954, 0.8664686168943133, 0.8231242001056671, 0.0]\n"
     ]
    },
    {
     "name": "stderr",
     "output_type": "stream",
     "text": [
      "Visualizing frames:  26%|██▌       | 77/300 [00:08<00:24,  9.21it/s]"
     ]
    },
    {
     "name": "stdout",
     "output_type": "stream",
     "text": [
      "2023-10-19 19:23:55 […RO'A]- :slightly_smiling_face::slightly_smiling_face::slightly_smiling_face::slightly_smiling_face:عا\n",
      "[{'label': 'joy', 'score': 0.9200422763824463}]\n",
      "Average scores: [0.7689014256000519, 0.0, 0.4819953143596649, 0.758045537604226, 0.8664686168943133, 0.8231242001056671, 0.0]\n"
     ]
    },
    {
     "name": "stderr",
     "output_type": "stream",
     "text": [
      "Visualizing frames:  27%|██▋       | 82/300 [00:08<00:23,  9.14it/s]"
     ]
    },
    {
     "name": "stdout",
     "output_type": "stream",
     "text": [
      "2023-10-19 19:23:55 [Lefty]- zainab\n",
      "[{'label': 'neutral', 'score': 0.9843168258666992}]\n",
      "Average scores: [0.7689014256000519, 0.0, 0.4819953143596649, 0.758045537604226, 0.8683099951595068, 0.8231242001056671, 0.0]\n"
     ]
    },
    {
     "name": "stderr",
     "output_type": "stream",
     "text": [
      "Visualizing frames:  51%|█████▏    | 154/300 [00:16<00:15,  9.26it/s]"
     ]
    },
    {
     "name": "stdout",
     "output_type": "stream",
     "text": [
      "2023-10-19 19:23:55 [PIZZA-UoU]- fatiam\n",
      "[{'label': 'neutral', 'score': 0.9909389019012451}]\n",
      "Average scores: [0.7689014256000519, 0.0, 0.4819953143596649, 0.758045537604226, 0.8701965937247643, 0.8231242001056671, 0.0]\n"
     ]
    },
    {
     "name": "stderr",
     "output_type": "stream",
     "text": [
      "Visualizing frames:  53%|█████▎    | 158/300 [00:17<00:15,  9.21it/s]"
     ]
    },
    {
     "name": "stdout",
     "output_type": "stream",
     "text": [
      "2023-10-19 19:23:56 [Ted.]- neet ka paper kafi boring rehta.. maine akkad bakkad bambe bo krke 20 min me saare gol kr diye the.. fir bhi 3 ghnta baithna pda\n",
      "[{'label': 'joy', 'score': 0.5930356979370117}]\n",
      "Average scores: [0.7689014256000519, 0.0, 0.4819953143596649, 0.7493608092006884, 0.8701965937247643, 0.8231242001056671, 0.0]\n"
     ]
    },
    {
     "name": "stderr",
     "output_type": "stream",
     "text": [
      "Visualizing frames:  54%|█████▍    | 163/300 [00:17<00:14,  9.17it/s]"
     ]
    },
    {
     "name": "stdout",
     "output_type": "stream",
     "text": [
      "2023-10-19 19:23:56 [Sanjana.V.S]- Had dinner?\n",
      "[{'label': 'neutral', 'score': 0.9171862006187439}]\n",
      "Average scores: [0.7689014256000519, 0.0, 0.4819953143596649, 0.7493608092006884, 0.8709085574655822, 0.8231242001056671, 0.0]\n"
     ]
    },
    {
     "name": "stderr",
     "output_type": "stream",
     "text": [
      "Visualizing frames:  56%|█████▌    | 168/300 [00:18<00:14,  9.26it/s]"
     ]
    },
    {
     "name": "stdout",
     "output_type": "stream",
     "text": [
      "2023-10-19 19:23:56 [zoro]- @mys yee im\n",
      "[{'label': 'neutral', 'score': 0.932935893535614}]\n",
      "Average scores: [0.7689014256000519, 0.0, 0.4819953143596649, 0.7493608092006884, 0.8718343386009558, 0.8231242001056671, 0.0]\n"
     ]
    },
    {
     "name": "stderr",
     "output_type": "stream",
     "text": [
      "Visualizing frames:  58%|█████▊    | 173/300 [00:18<00:13,  9.18it/s]"
     ]
    },
    {
     "name": "stdout",
     "output_type": "stream",
     "text": [
      "2023-10-19 19:23:57 [Usmaan Din]- :'0\n",
      "[{'label': 'neutral', 'score': 0.9862598180770874}]\n",
      "Average scores: [0.7689014256000519, 0.0, 0.4819953143596649, 0.7493608092006884, 0.8735170662403107, 0.8231242001056671, 0.0]\n"
     ]
    },
    {
     "name": "stderr",
     "output_type": "stream",
     "text": [
      "Visualizing frames:  59%|█████▉    | 177/300 [00:19<00:13,  9.19it/s]"
     ]
    },
    {
     "name": "stdout",
     "output_type": "stream",
     "text": [
      "2023-10-19 19:23:59 [ro]- متتت:face_with_tears_of_joy::face_with_tears_of_joy:\n",
      "[{'label': 'joy', 'score': 0.9296367764472961}]\n",
      "Average scores: [0.7689014256000519, 0.0, 0.4819953143596649, 0.7583746075630188, 0.8735170662403107, 0.8231242001056671, 0.0]\n"
     ]
    },
    {
     "name": "stderr",
     "output_type": "stream",
     "text": [
      "Visualizing frames:  61%|██████    | 182/300 [00:19<00:12,  9.11it/s]"
     ]
    },
    {
     "name": "stdout",
     "output_type": "stream",
     "text": [
      "2023-10-19 19:24:02 [Andie Childs]- sup i like balls and boobs\n",
      "[{'label': 'neutral', 'score': 0.8021317720413208}]\n",
      "Average scores: [0.7689014256000519, 0.0, 0.4819953143596649, 0.7583746075630188, 0.8724824967591659, 0.8231242001056671, 0.0]\n"
     ]
    },
    {
     "name": "stderr",
     "output_type": "stream",
     "text": [
      "Visualizing frames:  62%|██████▏   | 187/300 [00:20<00:12,  9.17it/s]"
     ]
    },
    {
     "name": "stdout",
     "output_type": "stream",
     "text": [
      "2023-10-19 19:24:04 [PIZZA-UoU]- uguguguguglglglgiglguglgulgugluluglgulluhulgluhhl\n",
      "[{'label': 'joy', 'score': 0.9146554470062256}]\n",
      "Average scores: [0.7689014256000519, 0.0, 0.4819953143596649, 0.7658165522984096, 0.8724824967591659, 0.8231242001056671, 0.0]\n"
     ]
    },
    {
     "name": "stderr",
     "output_type": "stream",
     "text": [
      "Visualizing frames:  64%|██████▎   | 191/300 [00:20<00:11,  9.16it/s]"
     ]
    },
    {
     "name": "stdout",
     "output_type": "stream",
     "text": [
      "2023-10-19 19:24:04 [pacifist]- what movie shld i watch TDY huh\n",
      "[{'label': 'neutral', 'score': 0.9807509183883667}]\n",
      "Average scores: [0.7689014256000519, 0.0, 0.4819953143596649, 0.7658165522984096, 0.874029188496726, 0.8231242001056671, 0.0]\n"
     ]
    },
    {
     "name": "stderr",
     "output_type": "stream",
     "text": [
      "Visualizing frames:  65%|██████▌   | 196/300 [00:21<00:11,  9.17it/s]"
     ]
    },
    {
     "name": "stdout",
     "output_type": "stream",
     "text": [
      "2023-10-19 19:24:04 [Gece]- @Baka Osman Bey:new_moon_face:\n",
      "[{'label': 'neutral', 'score': 0.8888988494873047}]\n",
      "Average scores: [0.7689014256000519, 0.0, 0.4819953143596649, 0.7658165522984096, 0.8742386203416637, 0.8231242001056671, 0.0]\n"
     ]
    },
    {
     "name": "stderr",
     "output_type": "stream",
     "text": [
      "Visualizing frames:  91%|█████████ | 272/300 [00:30<00:03,  9.18it/s]"
     ]
    },
    {
     "name": "stdout",
     "output_type": "stream",
     "text": [
      "2023-10-19 19:24:05 [Ted.]- tbse decide kr liya ab nhi dunga neet\n",
      "[{'label': 'neutral', 'score': 0.9575483202934265}]\n",
      "Average scores: [0.7689014256000519, 0.0, 0.4819953143596649, 0.7658165522984096, 0.8753956995076604, 0.8231242001056671, 0.0]\n"
     ]
    },
    {
     "name": "stderr",
     "output_type": "stream",
     "text": [
      "Visualizing frames:  92%|█████████▏| 277/300 [00:30<00:02,  9.16it/s]"
     ]
    },
    {
     "name": "stdout",
     "output_type": "stream",
     "text": [
      "2023-10-19 19:24:06 [Lefty]- alhamdulliah\n",
      "[{'label': 'neutral', 'score': 0.9865276217460632}]\n",
      "Average scores: [0.7689014256000519, 0.0, 0.4819953143596649, 0.7658165522984096, 0.8769180546068165, 0.8231242001056671, 0.0]\n"
     ]
    },
    {
     "name": "stderr",
     "output_type": "stream",
     "text": [
      "Visualizing frames:  94%|█████████▍| 282/300 [00:31<00:01,  9.11it/s]"
     ]
    },
    {
     "name": "stdout",
     "output_type": "stream",
     "text": [
      "2023-10-19 19:24:07 [Flower 🌸 ]- Fatima ?\n",
      "[{'label': 'neutral', 'score': 0.8902527689933777}]\n",
      "Average scores: [0.7689014256000519, 0.0, 0.4819953143596649, 0.7658165522984096, 0.8770982534498781, 0.8231242001056671, 0.0]\n"
     ]
    },
    {
     "name": "stderr",
     "output_type": "stream",
     "text": [
      "Visualizing frames:  95%|█████████▌| 286/300 [00:31<00:01,  9.13it/s]"
     ]
    },
    {
     "name": "stdout",
     "output_type": "stream",
     "text": [
      "2023-10-19 19:24:08 [حسين]- :upside_down_face:.\n",
      "[{'label': 'neutral', 'score': 0.9806220531463623}]\n",
      "Average scores: [0.7689014256000519, 0.0, 0.4819953143596649, 0.7658165522984096, 0.8784785707791646, 0.8231242001056671, 0.0]\n"
     ]
    },
    {
     "name": "stderr",
     "output_type": "stream",
     "text": [
      "Visualizing frames:  97%|█████████▋| 291/300 [00:32<00:00,  9.24it/s]"
     ]
    },
    {
     "name": "stdout",
     "output_type": "stream",
     "text": [
      "2023-10-19 19:24:10 [Junaid]- @H- invigilator ko bolna tha cheating krwa\n",
      "[{'label': 'neutral', 'score': 0.7244315147399902}]\n",
      "Average scores: [0.7689014256000519, 0.0, 0.4819953143596649, 0.7658165522984096, 0.8764516358312807, 0.8231242001056671, 0.0]\n"
     ]
    },
    {
     "name": "stderr",
     "output_type": "stream",
     "text": [
      "Visualizing frames:  99%|█████████▊| 296/300 [00:32<00:00,  9.26it/s]"
     ]
    },
    {
     "name": "stdout",
     "output_type": "stream",
     "text": [
      "2023-10-19 19:24:10 [PIZZA-UoU]- XDXDDXDXDDXDXDXDX\n",
      "[{'label': 'neutral', 'score': 0.9568681120872498}]\n",
      "Average scores: [0.7689014256000519, 0.0, 0.4819953143596649, 0.7658165522984096, 0.8774960056527868, 0.8231242001056671, 0.0]\n"
     ]
    },
    {
     "name": "stderr",
     "output_type": "stream",
     "text": [
      "Visualizing frames: 100%|██████████| 300/300 [00:33<00:00,  9.06it/s]\n"
     ]
    },
    {
     "name": "stdout",
     "output_type": "stream",
     "text": [
      "2023-10-19 19:24:10 [or712]- good studies everyone who needs it\n",
      "[{'label': 'neutral', 'score': 0.8237411379814148}]\n",
      "Average scores: [0.7689014256000519, 0.0, 0.4819953143596649, 0.7658165522984096, 0.876806840682641, 0.8231242001056671, 0.0]\n"
     ]
    },
    {
     "name": "stderr",
     "output_type": "stream",
     "text": [
      "Visualizing frames:   2%|▏         | 5/300 [00:00<00:32,  8.98it/s]"
     ]
    },
    {
     "name": "stdout",
     "output_type": "stream",
     "text": [
      "2023-10-19 19:24:11 [zoro]- PIZZA+MILK+KIWI\n",
      "[{'label': 'neutral', 'score': 0.9377173781394958}]\n",
      "Average scores: [0.7689014256000519, 0.0, 0.4819953143596649, 0.7658165522984096, 0.8775778601441202, 0.8231242001056671, 0.0]\n"
     ]
    },
    {
     "name": "stderr",
     "output_type": "stream",
     "text": [
      "Visualizing frames:   3%|▎         | 10/300 [00:01<00:31,  9.11it/s]"
     ]
    },
    {
     "name": "stdout",
     "output_type": "stream",
     "text": [
      "2023-10-19 19:24:12 [𝑱𝒂𝒅🇻🇪]- انا كراشي …:face_with_hand_over_mouth: ما رح اقولكم \n",
      "[{'label': 'neutral', 'score': 0.5895466208457947}]\n",
      "Average scores: [0.7689014256000519, 0.0, 0.4819953143596649, 0.7658165522984096, 0.8739774696528911, 0.8231242001056671, 0.0]\n"
     ]
    },
    {
     "name": "stderr",
     "output_type": "stream",
     "text": [
      "Visualizing frames:   5%|▍         | 14/300 [00:01<00:31,  9.18it/s]"
     ]
    },
    {
     "name": "stdout",
     "output_type": "stream",
     "text": [
      "2023-10-19 19:24:12 [PIZZA-UoU]- xd\n",
      "[{'label': 'neutral', 'score': 0.977573037147522}]\n",
      "Average scores: [0.7689014256000519, 0.0, 0.4819953143596649, 0.7658165522984096, 0.8752564272762816, 0.8231242001056671, 0.0]\n"
     ]
    },
    {
     "name": "stderr",
     "output_type": "stream",
     "text": [
      "Visualizing frames:  28%|██▊       | 84/300 [00:09<00:23,  9.17it/s]"
     ]
    },
    {
     "name": "stdout",
     "output_type": "stream",
     "text": [
      "2023-10-19 19:24:12 [worthy ]- @doneshwar northeast? south Indian?\n",
      "[{'label': 'neutral', 'score': 0.8747418522834778}]\n",
      "Average scores: [0.7689014256000519, 0.0, 0.4819953143596649, 0.7658165522984096, 0.8752501519714914, 0.8231242001056671, 0.0]\n"
     ]
    },
    {
     "name": "stderr",
     "output_type": "stream",
     "text": [
      "Visualizing frames:  30%|██▉       | 89/300 [00:09<00:23,  9.12it/s]"
     ]
    },
    {
     "name": "stdout",
     "output_type": "stream",
     "text": [
      "2023-10-19 19:24:12 [Arcane]- then i will help you. if you want to know.\n",
      "[{'label': 'neutral', 'score': 0.9770007133483887}]\n",
      "Average scores: [0.7689014256000519, 0.0, 0.4819953143596649, 0.7658165522984096, 0.8764760623495262, 0.8231242001056671, 0.0]\n"
     ]
    },
    {
     "name": "stderr",
     "output_type": "stream",
     "text": [
      "Visualizing frames:  31%|███▏      | 94/300 [00:10<00:22,  9.19it/s]"
     ]
    },
    {
     "name": "stdout",
     "output_type": "stream",
     "text": [
      "2023-10-19 19:24:13 [Flower 🌸 ]- Zainab?\n",
      "[{'label': 'neutral', 'score': 0.8717241287231445}]\n",
      "Average scores: [0.7689014256000519, 0.0, 0.4819953143596649, 0.7658165522984096, 0.876419491711117, 0.8231242001056671, 0.0]\n"
     ]
    },
    {
     "name": "stderr",
     "output_type": "stream",
     "text": [
      "Visualizing frames:  33%|███▎      | 99/300 [00:10<00:21,  9.21it/s]"
     ]
    },
    {
     "name": "stdout",
     "output_type": "stream",
     "text": [
      "2023-10-19 19:24:13 [𝑺𝑨𝑴𝑬𝑹]- جاد انت عراقي :face_with_tears_of_joy:\n",
      "[{'label': 'joy', 'score': 0.8996080756187439}]\n",
      "Average scores: [0.7689014256000519, 0.0, 0.4819953143596649, 0.7718979851766066, 0.876419491711117, 0.8231242001056671, 0.0]\n"
     ]
    },
    {
     "name": "stderr",
     "output_type": "stream",
     "text": [
      "Visualizing frames:  34%|███▍      | 103/300 [00:11<00:21,  9.19it/s]"
     ]
    },
    {
     "name": "stdout",
     "output_type": "stream",
     "text": [
      "2023-10-19 19:24:14 [doneswar]- ananya flirting have age issue :skull:\n",
      "[{'label': 'neutral', 'score': 0.9672459959983826}]\n",
      "Average scores: [0.7689014256000519, 0.0, 0.4819953143596649, 0.7718979851766066, 0.877488038820379, 0.8231242001056671, 0.0]\n"
     ]
    },
    {
     "name": "stderr",
     "output_type": "stream",
     "text": [
      "Visualizing frames:  36%|███▌      | 108/300 [00:11<00:20,  9.15it/s]"
     ]
    },
    {
     "name": "stdout",
     "output_type": "stream",
     "text": [
      "2023-10-19 19:24:14 [Rhishabh Suneeth]- yes I had, wbu\n",
      "[{'label': 'neutral', 'score': 0.9702951312065125}]\n",
      "Average scores: [0.7689014256000519, 0.0, 0.4819953143596649, 0.7718979851766066, 0.878567191057427, 0.8231242001056671, 0.0]\n"
     ]
    },
    {
     "name": "stderr",
     "output_type": "stream",
     "text": [
      "Visualizing frames:  38%|███▊      | 113/300 [00:12<00:20,  9.15it/s]"
     ]
    },
    {
     "name": "stdout",
     "output_type": "stream",
     "text": [
      "2023-10-19 19:24:15 [Petra Miller]- SOMEONE WANT TO TEXT ME??\n",
      "[{'label': 'surprise', 'score': 0.4198499023914337}]\n",
      "Average scores: [0.7689014256000519, 0.0, 0.4819953143596649, 0.7718979851766066, 0.878567191057427, 0.8231242001056671, 0.4198499023914337]\n"
     ]
    },
    {
     "name": "stderr",
     "output_type": "stream",
     "text": [
      "Visualizing frames:  39%|███▉      | 117/300 [00:12<00:20,  9.14it/s]"
     ]
    },
    {
     "name": "stdout",
     "output_type": "stream",
     "text": [
      "2023-10-19 19:24:16 […RO'A]- عادي كراشي سوري شو فيها :slightly_smiling_face:\n",
      "[{'label': 'neutral', 'score': 0.6750720739364624}]\n",
      "Average scores: [0.7689014256000519, 0.0, 0.4819953143596649, 0.7718979851766066, 0.8762281667227032, 0.8231242001056671, 0.4198499023914337]\n"
     ]
    },
    {
     "name": "stderr",
     "output_type": "stream",
     "text": [
      "Visualizing frames:  41%|████      | 122/300 [00:13<00:19,  9.17it/s]"
     ]
    },
    {
     "name": "stdout",
     "output_type": "stream",
     "text": [
      "2023-10-19 19:24:18 [Lefty]- khizar\n",
      "[{'label': 'neutral', 'score': 0.9840880632400513}]\n",
      "Average scores: [0.7689014256000519, 0.0, 0.4819953143596649, 0.7718979851766066, 0.8774538473649458, 0.8231242001056671, 0.4198499023914337]\n"
     ]
    },
    {
     "name": "stderr",
     "output_type": "stream",
     "text": [
      "Visualizing frames:  42%|████▏     | 127/300 [00:13<00:18,  9.22it/s]"
     ]
    },
    {
     "name": "stdout",
     "output_type": "stream",
     "text": [
      "2023-10-19 19:24:22 [Andie Childs]- BALLS ARE JUIICY\n",
      "[{'label': 'neutral', 'score': 0.8536806106567383}]\n",
      "Average scores: [0.7689014256000519, 0.0, 0.4819953143596649, 0.7718979851766066, 0.8771867323457525, 0.8231242001056671, 0.4198499023914337]\n"
     ]
    },
    {
     "name": "stderr",
     "output_type": "stream",
     "text": [
      "Visualizing frames:  67%|██████▋   | 200/300 [00:21<00:10,  9.23it/s]"
     ]
    },
    {
     "name": "stdout",
     "output_type": "stream",
     "text": [
      "2023-10-19 19:24:26 [Xa]- Elina احنا ماكو لحد الان بس أني عندي اختي جانت خامس فأخذت كتبها\n",
      "[{'label': 'neutral', 'score': 0.8314419984817505}]\n",
      "Average scores: [0.7689014256000519, 0.0, 0.4819953143596649, 0.7718979851766066, 0.8766784575250414, 0.8231242001056671, 0.4198499023914337]\n"
     ]
    },
    {
     "name": "stderr",
     "output_type": "stream",
     "text": [
      "Visualizing frames:  68%|██████▊   | 203/300 [00:22<00:10,  9.17it/s]"
     ]
    },
    {
     "name": "stdout",
     "output_type": "stream",
     "text": [
      "2023-10-19 19:24:27 [𝑱𝒂𝒅🇻🇪]- عاااا فتحي تمك:rolling_on_the_floor_laughing::rolling_on_the_floor_laughing: \n",
      "[{'label': 'joy', 'score': 0.8384842276573181}]\n",
      "Average scores: [0.7689014256000519, 0.0, 0.4819953143596649, 0.7747930391975071, 0.8766784575250414, 0.8231242001056671, 0.4198499023914337]\n"
     ]
    },
    {
     "name": "stderr",
     "output_type": "stream",
     "text": [
      "Visualizing frames:  69%|██████▊   | 206/300 [00:22<00:10,  9.21it/s]"
     ]
    },
    {
     "name": "stdout",
     "output_type": "stream",
     "text": [
      "2023-10-19 19:24:28 [Mustufa]- H- dafa krdunga tuje yaha se lmao :face_with_tears_of_joy:\n",
      "[{'label': 'joy', 'score': 0.9103749394416809}]\n",
      "Average scores: [0.7689014256000519, 0.0, 0.4819953143596649, 0.7804422850410143, 0.8766784575250414, 0.8231242001056671, 0.4198499023914337]\n"
     ]
    },
    {
     "name": "stderr",
     "output_type": "stream",
     "text": [
      "Visualizing frames:  70%|██████▉   | 209/300 [00:22<00:09,  9.20it/s]"
     ]
    },
    {
     "name": "stdout",
     "output_type": "stream",
     "text": [
      "2023-10-19 19:24:29 [ro]- كراشك ال 125868بنت\n",
      "[{'label': 'neutral', 'score': 0.8807188868522644}]\n",
      "Average scores: [0.7689014256000519, 0.0, 0.4819953143596649, 0.7804422850410143, 0.8767228578473185, 0.8231242001056671, 0.4198499023914337]\n"
     ]
    },
    {
     "name": "stderr",
     "output_type": "stream",
     "text": [
      "Visualizing frames:  71%|███████   | 212/300 [00:23<00:09,  9.23it/s]"
     ]
    },
    {
     "name": "stdout",
     "output_type": "stream",
     "text": [
      "2023-10-19 19:24:29 [ʜᴀsɴᴀɪɴシ︎]- Ab se Kam Aaoga :smiling_face_with_tear:\n",
      "[{'label': 'neutral', 'score': 0.9382403492927551}]\n",
      "Average scores: [0.7689014256000519, 0.0, 0.4819953143596649, 0.7804422850410143, 0.877391526232595, 0.8231242001056671, 0.4198499023914337]\n"
     ]
    },
    {
     "name": "stderr",
     "output_type": "stream",
     "text": [
      "Visualizing frames:  72%|███████▏  | 215/300 [00:23<00:09,  9.19it/s]"
     ]
    },
    {
     "name": "stdout",
     "output_type": "stream",
     "text": [
      "2023-10-19 19:24:29 [doneswar]- worthy south yaroo :upside_down_face:\n",
      "[{'label': 'neutral', 'score': 0.9753431081771851}]\n",
      "Average scores: [0.7689014256000519, 0.0, 0.4819953143596649, 0.7804422850410143, 0.8784447690492035, 0.8231242001056671, 0.4198499023914337]\n"
     ]
    },
    {
     "name": "stderr",
     "output_type": "stream",
     "text": [
      "Visualizing frames:  73%|███████▎  | 218/300 [00:23<00:08,  9.15it/s]"
     ]
    },
    {
     "name": "stdout",
     "output_type": "stream",
     "text": [
      "2023-10-19 19:24:30 [Abrus Fredrick]- @Tuff apologies Maybe I did? did you ask how am I?\n",
      "[{'label': 'sadness', 'score': 0.41059058904647827}]\n",
      "Average scores: [0.7689014256000519, 0.0, 0.4819953143596649, 0.7804422850410143, 0.8784447690492035, 0.6856129964192709, 0.4198499023914337]\n"
     ]
    },
    {
     "name": "stderr",
     "output_type": "stream",
     "text": [
      "Visualizing frames:  74%|███████▎  | 221/300 [00:24<00:08,  9.16it/s]"
     ]
    },
    {
     "name": "stdout",
     "output_type": "stream",
     "text": [
      "2023-10-19 19:24:31 [Sanjana.V.S]- yeah I had too..\n",
      "[{'label': 'neutral', 'score': 0.7083992958068848}]\n",
      "Average scores: [0.7689014256000519, 0.0, 0.4819953143596649, 0.7804422850410143, 0.8766357746530087, 0.6856129964192709, 0.4198499023914337]\n"
     ]
    },
    {
     "name": "stderr",
     "output_type": "stream",
     "text": [
      "Visualizing frames:  75%|███████▍  | 224/300 [00:24<00:08,  9.12it/s]"
     ]
    },
    {
     "name": "stdout",
     "output_type": "stream",
     "text": [
      "2023-10-19 19:24:31 [Flower 🌸 ]- لاتحزن ان اللە معنا\n",
      "[{'label': 'neutral', 'score': 0.8409854769706726}]\n",
      "Average scores: [0.7689014256000519, 0.0, 0.4819953143596649, 0.7804422850410143, 0.8762605083616156, 0.6856129964192709, 0.4198499023914337]\n"
     ]
    },
    {
     "name": "stderr",
     "output_type": "stream",
     "text": [
      "Visualizing frames:  76%|███████▌  | 228/300 [00:24<00:07,  9.16it/s]"
     ]
    },
    {
     "name": "stdout",
     "output_type": "stream",
     "text": [
      "2023-10-19 19:24:32 [Даниял]- Tuff, maybe She was busy\n",
      "[{'label': 'neutral', 'score': 0.9750990271568298}]\n",
      "Average scores: [0.7689014256000519, 0.0, 0.4819953143596649, 0.7804422850410143, 0.8772900762657324, 0.6856129964192709, 0.4198499023914337]\n"
     ]
    },
    {
     "name": "stderr",
     "output_type": "stream",
     "text": [
      "Visualizing frames:  99%|█████████▊| 296/300 [00:32<00:00,  9.19it/s]"
     ]
    },
    {
     "name": "stdout",
     "output_type": "stream",
     "text": [
      "2023-10-19 19:24:32 [ko-shamo black]- 迎撃されればサリンが飛び散る\n",
      "[{'label': 'neutral', 'score': 0.9179700016975403}]\n",
      "Average scores: [0.7689014256000519, 0.0, 0.4819953143596649, 0.7804422850410143, 0.8777094569402871, 0.6856129964192709, 0.4198499023914337]\n"
     ]
    },
    {
     "name": "stderr",
     "output_type": "stream",
     "text": [
      "Visualizing frames: 100%|█████████▉| 299/300 [00:32<00:00,  9.19it/s]"
     ]
    },
    {
     "name": "stdout",
     "output_type": "stream",
     "text": [
      "2023-10-19 19:24:33 [Junaid]- @Mustufa phir se palang toro tum dono\n",
      "[{'label': 'joy', 'score': 0.5390259623527527}]\n",
      "Average scores: [0.7689014256000519, 0.0, 0.4819953143596649, 0.7707856321334838, 0.8777094569402871, 0.6856129964192709, 0.4198499023914337]\n"
     ]
    },
    {
     "name": "stderr",
     "output_type": "stream",
     "text": [
      "Visualizing frames: 100%|██████████| 300/300 [00:32<00:00,  9.17it/s]\n",
      "Visualizing frames:   1%|          | 2/300 [00:00<00:35,  8.40it/s]"
     ]
    },
    {
     "name": "stdout",
     "output_type": "stream",
     "text": [
      "2023-10-19 19:24:33 [Lefty]- mehrunisa\n",
      "[{'label': 'neutral', 'score': 0.9837732315063477}]\n",
      "Average scores: [0.7689014256000519, 0.0, 0.4819953143596649, 0.7707856321334838, 0.8787917403542266, 0.6856129964192709, 0.4198499023914337]\n"
     ]
    },
    {
     "name": "stderr",
     "output_type": "stream",
     "text": [
      "Visualizing frames:   2%|▏         | 5/300 [00:00<00:32,  8.99it/s]"
     ]
    },
    {
     "name": "stdout",
     "output_type": "stream",
     "text": [
      "2023-10-19 19:24:33 [Pretty 爱]- @Tuff where are you from? \n",
      "[{'label': 'neutral', 'score': 0.6167250871658325}]\n",
      "Average scores: [0.7689014256000519, 0.0, 0.4819953143596649, 0.7707856321334838, 0.8761446024432327, 0.6856129964192709, 0.4198499023914337]\n"
     ]
    },
    {
     "name": "stderr",
     "output_type": "stream",
     "text": [
      "Visualizing frames:   3%|▎         | 8/300 [00:00<00:32,  9.07it/s]"
     ]
    },
    {
     "name": "stdout",
     "output_type": "stream",
     "text": [
      "2023-10-19 19:24:34 [PIZZA-UoU]- khizar\n",
      "[{'label': 'neutral', 'score': 0.9840880632400513}]\n",
      "Average scores: [0.7689014256000519, 0.0, 0.4819953143596649, 0.7707856321334838, 0.8772240370512009, 0.6856129964192709, 0.4198499023914337]\n"
     ]
    },
    {
     "name": "stderr",
     "output_type": "stream",
     "text": [
      "Visualizing frames:   4%|▎         | 11/300 [00:01<00:31,  9.18it/s]"
     ]
    },
    {
     "name": "stdout",
     "output_type": "stream",
     "text": [
      "2023-10-19 19:24:36 [ananya]- doneswar no:face_with_tears_of_joy:\n",
      "[{'label': 'joy', 'score': 0.6738104820251465}]\n",
      "Average scores: [0.7689014256000519, 0.0, 0.4819953143596649, 0.7670558186677786, 0.8772240370512009, 0.6856129964192709, 0.4198499023914337]\n"
     ]
    },
    {
     "name": "stderr",
     "output_type": "stream",
     "text": [
      "Visualizing frames:   5%|▍         | 14/300 [00:01<00:31,  9.14it/s]"
     ]
    },
    {
     "name": "stdout",
     "output_type": "stream",
     "text": [
      "2023-10-19 19:24:37 [Sanjana.V.S]- How's life?\n",
      "[{'label': 'neutral', 'score': 0.9697473049163818}]\n",
      "Average scores: [0.7689014256000519, 0.0, 0.4819953143596649, 0.7670558186677786, 0.8781401090102621, 0.6856129964192709, 0.4198499023914337]\n"
     ]
    },
    {
     "name": "stderr",
     "output_type": "stream",
     "text": [
      "Visualizing frames:   6%|▌         | 17/300 [00:01<00:30,  9.19it/s]"
     ]
    },
    {
     "name": "stdout",
     "output_type": "stream",
     "text": [
      "2023-10-19 19:24:37 [𝑱𝒂𝒅🇻🇪]- سامر انا سوري شكلو قصدها عني:rolling_on_the_floor_laughing::rolling_on_the_floor_laughing::rolling_on_the_floor_laughing:\n",
      "[{'label': 'joy', 'score': 0.91881263256073}]\n",
      "Average scores: [0.7689014256000519, 0.0, 0.4819953143596649, 0.7726764414045546, 0.8781401090102621, 0.6856129964192709, 0.4198499023914337]\n"
     ]
    },
    {
     "name": "stderr",
     "output_type": "stream",
     "text": [
      "Visualizing frames:   7%|▋         | 20/300 [00:02<00:30,  9.20it/s]"
     ]
    },
    {
     "name": "stdout",
     "output_type": "stream",
     "text": [
      "2023-10-19 19:24:38 [H-]- @Junaid tbh I’m happy with the outcome Tw it’s cool lol \n",
      "[{'label': 'joy', 'score': 0.8153335452079773}]\n",
      "Average scores: [0.7689014256000519, 0.0, 0.4819953143596649, 0.7741999093975339, 0.8781401090102621, 0.6856129964192709, 0.4198499023914337]\n"
     ]
    },
    {
     "name": "stderr",
     "output_type": "stream",
     "text": [
      "Visualizing frames:   8%|▊         | 23/300 [00:02<00:29,  9.26it/s]"
     ]
    },
    {
     "name": "stdout",
     "output_type": "stream",
     "text": [
      "2023-10-19 19:24:38 [mys]- wo din bhi kya din the\n",
      "[{'label': 'neutral', 'score': 0.9692026376724243}]\n",
      "Average scores: [0.7689014256000519, 0.0, 0.4819953143596649, 0.7741999093975339, 0.8790328788991068, 0.6856129964192709, 0.4198499023914337]\n"
     ]
    },
    {
     "name": "stderr",
     "output_type": "stream",
     "text": [
      "Visualizing frames:  13%|█▎        | 40/300 [00:05<01:14,  3.48it/s]"
     ]
    },
    {
     "ename": "KeyboardInterrupt",
     "evalue": "",
     "output_type": "error",
     "traceback": [
      "\u001b[1;31m---------------------------------------------------------------------------\u001b[0m",
      "\u001b[1;31mKeyboardInterrupt\u001b[0m                         Traceback (most recent call last)",
      "\u001b[1;32mc:\\Users\\avika\\OneDrive\\Documents\\UAL\\interactive_dance_thesis\\main.ipynb Cell 8\u001b[0m line \u001b[0;36m5\n\u001b[0;32m     <a href='vscode-notebook-cell:/c%3A/Users/avika/OneDrive/Documents/UAL/interactive_dance_thesis/main.ipynb#Y356sZmlsZQ%3D%3D?line=54'>55</a>\u001b[0m new_batch \u001b[39m=\u001b[39m torch\u001b[39m.\u001b[39mtensor([new_batch])\u001b[39m.\u001b[39mto(device)\u001b[39m.\u001b[39mfloat()\n\u001b[0;32m     <a href='vscode-notebook-cell:/c%3A/Users/avika/OneDrive/Documents/UAL/interactive_dance_thesis/main.ipynb#Y356sZmlsZQ%3D%3D?line=56'>57</a>\u001b[0m \u001b[39m# Generate the new frames\u001b[39;00m\n\u001b[1;32m---> <a href='vscode-notebook-cell:/c%3A/Users/avika/OneDrive/Documents/UAL/interactive_dance_thesis/main.ipynb#Y356sZmlsZQ%3D%3D?line=57'>58</a>\u001b[0m generated \u001b[39m=\u001b[39m m\u001b[39m.\u001b[39;49mgenerate(new_batch, FRAMES_GENERATE)\n\u001b[0;32m     <a href='vscode-notebook-cell:/c%3A/Users/avika/OneDrive/Documents/UAL/interactive_dance_thesis/main.ipynb#Y356sZmlsZQ%3D%3D?line=58'>59</a>\u001b[0m unnorm_out \u001b[39m=\u001b[39m unnormalise_list_2D(generated, max_x, min_x, max_y, min_y, max_x, min_x, max_y, min_y)\n\u001b[0;32m     <a href='vscode-notebook-cell:/c%3A/Users/avika/OneDrive/Documents/UAL/interactive_dance_thesis/main.ipynb#Y356sZmlsZQ%3D%3D?line=60'>61</a>\u001b[0m \u001b[39m# Put the batch in the visualization queue\u001b[39;00m\n",
      "File \u001b[1;32mc:\\Users\\avika\\OneDrive\\Documents\\UAL\\interactive_dance_thesis\\model.py:622\u001b[0m, in \u001b[0;36mMotionModel.generate\u001b[1;34m(self, inputs, max_new_tokens)\u001b[0m\n\u001b[0;32m    620\u001b[0m cond_sequence \u001b[39m=\u001b[39m generated_sequence[:, \u001b[39m-\u001b[39mBLOCK_SIZE:] \u001b[39m# get the last block_size tokens from the generated sequence so positional doesn't run out\u001b[39;00m\n\u001b[0;32m    621\u001b[0m \u001b[39m# don't actually need to do this cause positional is sinusoidal but just in case since model trained with blocksize\u001b[39;00m\n\u001b[1;32m--> 622\u001b[0m logits, _ \u001b[39m=\u001b[39m \u001b[39mself\u001b[39;49m(cond_sequence)\n\u001b[0;32m    623\u001b[0m next_values \u001b[39m=\u001b[39m logits[:, \u001b[39m-\u001b[39m\u001b[39m1\u001b[39m, :]  \u001b[39m# Get the values from the last timestep\u001b[39;00m\n\u001b[0;32m    625\u001b[0m \u001b[39m# Append the predicted values to the sequence\u001b[39;00m\n",
      "File \u001b[1;32mc:\\Users\\avika\\anaconda3\\envs\\interactive_dance_thesis\\lib\\site-packages\\torch\\nn\\modules\\module.py:1501\u001b[0m, in \u001b[0;36mModule._call_impl\u001b[1;34m(self, *args, **kwargs)\u001b[0m\n\u001b[0;32m   1496\u001b[0m \u001b[39m# If we don't have any hooks, we want to skip the rest of the logic in\u001b[39;00m\n\u001b[0;32m   1497\u001b[0m \u001b[39m# this function, and just call forward.\u001b[39;00m\n\u001b[0;32m   1498\u001b[0m \u001b[39mif\u001b[39;00m \u001b[39mnot\u001b[39;00m (\u001b[39mself\u001b[39m\u001b[39m.\u001b[39m_backward_hooks \u001b[39mor\u001b[39;00m \u001b[39mself\u001b[39m\u001b[39m.\u001b[39m_backward_pre_hooks \u001b[39mor\u001b[39;00m \u001b[39mself\u001b[39m\u001b[39m.\u001b[39m_forward_hooks \u001b[39mor\u001b[39;00m \u001b[39mself\u001b[39m\u001b[39m.\u001b[39m_forward_pre_hooks\n\u001b[0;32m   1499\u001b[0m         \u001b[39mor\u001b[39;00m _global_backward_pre_hooks \u001b[39mor\u001b[39;00m _global_backward_hooks\n\u001b[0;32m   1500\u001b[0m         \u001b[39mor\u001b[39;00m _global_forward_hooks \u001b[39mor\u001b[39;00m _global_forward_pre_hooks):\n\u001b[1;32m-> 1501\u001b[0m     \u001b[39mreturn\u001b[39;00m forward_call(\u001b[39m*\u001b[39margs, \u001b[39m*\u001b[39m\u001b[39m*\u001b[39mkwargs)\n\u001b[0;32m   1502\u001b[0m \u001b[39m# Do not call functions when jit is used\u001b[39;00m\n\u001b[0;32m   1503\u001b[0m full_backward_hooks, non_full_backward_hooks \u001b[39m=\u001b[39m [], []\n",
      "File \u001b[1;32mc:\\Users\\avika\\OneDrive\\Documents\\UAL\\interactive_dance_thesis\\model.py:561\u001b[0m, in \u001b[0;36mMotionModel.forward\u001b[1;34m(self, inputs, targets, l1_lambda, mask)\u001b[0m\n\u001b[0;32m    557\u001b[0m \u001b[39m# Add positional encoding\u001b[39;00m\n\u001b[0;32m    559\u001b[0m x \u001b[39m+\u001b[39m\u001b[39m=\u001b[39m positional_encoding(seq_len\u001b[39m=\u001b[39mT, d_model\u001b[39m=\u001b[39m\u001b[39mself\u001b[39m\u001b[39m.\u001b[39mhidden_dim)\u001b[39m.\u001b[39mto(device) \u001b[39m# positional_encoding = T,hidden dimension , added = B,T,hidden dimension\u001b[39;00m\n\u001b[1;32m--> 561\u001b[0m x \u001b[39m=\u001b[39m \u001b[39mself\u001b[39;49m\u001b[39m.\u001b[39;49mblocks(x) \u001b[39m# B,T,hidden dimension\u001b[39;00m\n\u001b[0;32m    562\u001b[0m x \u001b[39m=\u001b[39m \u001b[39mself\u001b[39m\u001b[39m.\u001b[39mlm_head(x) \u001b[39m# B,T,hidden dimension\u001b[39;00m\n\u001b[0;32m    564\u001b[0m \u001b[39m# fc2 transforms hidden dimension into output dimension\u001b[39;00m\n",
      "File \u001b[1;32mc:\\Users\\avika\\anaconda3\\envs\\interactive_dance_thesis\\lib\\site-packages\\torch\\nn\\modules\\module.py:1501\u001b[0m, in \u001b[0;36mModule._call_impl\u001b[1;34m(self, *args, **kwargs)\u001b[0m\n\u001b[0;32m   1496\u001b[0m \u001b[39m# If we don't have any hooks, we want to skip the rest of the logic in\u001b[39;00m\n\u001b[0;32m   1497\u001b[0m \u001b[39m# this function, and just call forward.\u001b[39;00m\n\u001b[0;32m   1498\u001b[0m \u001b[39mif\u001b[39;00m \u001b[39mnot\u001b[39;00m (\u001b[39mself\u001b[39m\u001b[39m.\u001b[39m_backward_hooks \u001b[39mor\u001b[39;00m \u001b[39mself\u001b[39m\u001b[39m.\u001b[39m_backward_pre_hooks \u001b[39mor\u001b[39;00m \u001b[39mself\u001b[39m\u001b[39m.\u001b[39m_forward_hooks \u001b[39mor\u001b[39;00m \u001b[39mself\u001b[39m\u001b[39m.\u001b[39m_forward_pre_hooks\n\u001b[0;32m   1499\u001b[0m         \u001b[39mor\u001b[39;00m _global_backward_pre_hooks \u001b[39mor\u001b[39;00m _global_backward_hooks\n\u001b[0;32m   1500\u001b[0m         \u001b[39mor\u001b[39;00m _global_forward_hooks \u001b[39mor\u001b[39;00m _global_forward_pre_hooks):\n\u001b[1;32m-> 1501\u001b[0m     \u001b[39mreturn\u001b[39;00m forward_call(\u001b[39m*\u001b[39margs, \u001b[39m*\u001b[39m\u001b[39m*\u001b[39mkwargs)\n\u001b[0;32m   1502\u001b[0m \u001b[39m# Do not call functions when jit is used\u001b[39;00m\n\u001b[0;32m   1503\u001b[0m full_backward_hooks, non_full_backward_hooks \u001b[39m=\u001b[39m [], []\n",
      "File \u001b[1;32mc:\\Users\\avika\\anaconda3\\envs\\interactive_dance_thesis\\lib\\site-packages\\torch\\nn\\modules\\container.py:217\u001b[0m, in \u001b[0;36mSequential.forward\u001b[1;34m(self, input)\u001b[0m\n\u001b[0;32m    215\u001b[0m \u001b[39mdef\u001b[39;00m \u001b[39mforward\u001b[39m(\u001b[39mself\u001b[39m, \u001b[39minput\u001b[39m):\n\u001b[0;32m    216\u001b[0m     \u001b[39mfor\u001b[39;00m module \u001b[39min\u001b[39;00m \u001b[39mself\u001b[39m:\n\u001b[1;32m--> 217\u001b[0m         \u001b[39minput\u001b[39m \u001b[39m=\u001b[39m module(\u001b[39minput\u001b[39;49m)\n\u001b[0;32m    218\u001b[0m     \u001b[39mreturn\u001b[39;00m \u001b[39minput\u001b[39m\n",
      "File \u001b[1;32mc:\\Users\\avika\\anaconda3\\envs\\interactive_dance_thesis\\lib\\site-packages\\torch\\nn\\modules\\module.py:1501\u001b[0m, in \u001b[0;36mModule._call_impl\u001b[1;34m(self, *args, **kwargs)\u001b[0m\n\u001b[0;32m   1496\u001b[0m \u001b[39m# If we don't have any hooks, we want to skip the rest of the logic in\u001b[39;00m\n\u001b[0;32m   1497\u001b[0m \u001b[39m# this function, and just call forward.\u001b[39;00m\n\u001b[0;32m   1498\u001b[0m \u001b[39mif\u001b[39;00m \u001b[39mnot\u001b[39;00m (\u001b[39mself\u001b[39m\u001b[39m.\u001b[39m_backward_hooks \u001b[39mor\u001b[39;00m \u001b[39mself\u001b[39m\u001b[39m.\u001b[39m_backward_pre_hooks \u001b[39mor\u001b[39;00m \u001b[39mself\u001b[39m\u001b[39m.\u001b[39m_forward_hooks \u001b[39mor\u001b[39;00m \u001b[39mself\u001b[39m\u001b[39m.\u001b[39m_forward_pre_hooks\n\u001b[0;32m   1499\u001b[0m         \u001b[39mor\u001b[39;00m _global_backward_pre_hooks \u001b[39mor\u001b[39;00m _global_backward_hooks\n\u001b[0;32m   1500\u001b[0m         \u001b[39mor\u001b[39;00m _global_forward_hooks \u001b[39mor\u001b[39;00m _global_forward_pre_hooks):\n\u001b[1;32m-> 1501\u001b[0m     \u001b[39mreturn\u001b[39;00m forward_call(\u001b[39m*\u001b[39margs, \u001b[39m*\u001b[39m\u001b[39m*\u001b[39mkwargs)\n\u001b[0;32m   1502\u001b[0m \u001b[39m# Do not call functions when jit is used\u001b[39;00m\n\u001b[0;32m   1503\u001b[0m full_backward_hooks, non_full_backward_hooks \u001b[39m=\u001b[39m [], []\n",
      "File \u001b[1;32mc:\\Users\\avika\\OneDrive\\Documents\\UAL\\interactive_dance_thesis\\model.py:530\u001b[0m, in \u001b[0;36mBlock.forward\u001b[1;34m(self, x)\u001b[0m\n\u001b[0;32m    528\u001b[0m \u001b[39mdef\u001b[39;00m \u001b[39mforward\u001b[39m(\u001b[39mself\u001b[39m, x):\n\u001b[0;32m    529\u001b[0m     \u001b[39m# x + due to residual connection\u001b[39;00m\n\u001b[1;32m--> 530\u001b[0m     x \u001b[39m=\u001b[39m x \u001b[39m+\u001b[39m \u001b[39mself\u001b[39;49m\u001b[39m.\u001b[39;49msa(\u001b[39mself\u001b[39;49m\u001b[39m.\u001b[39;49mln1(x))\n\u001b[0;32m    531\u001b[0m     x \u001b[39m=\u001b[39m x \u001b[39m+\u001b[39m \u001b[39mself\u001b[39m\u001b[39m.\u001b[39mffwd(\u001b[39mself\u001b[39m\u001b[39m.\u001b[39mln2(x))\n\u001b[0;32m    532\u001b[0m     \u001b[39mreturn\u001b[39;00m x\n",
      "File \u001b[1;32mc:\\Users\\avika\\anaconda3\\envs\\interactive_dance_thesis\\lib\\site-packages\\torch\\nn\\modules\\module.py:1501\u001b[0m, in \u001b[0;36mModule._call_impl\u001b[1;34m(self, *args, **kwargs)\u001b[0m\n\u001b[0;32m   1496\u001b[0m \u001b[39m# If we don't have any hooks, we want to skip the rest of the logic in\u001b[39;00m\n\u001b[0;32m   1497\u001b[0m \u001b[39m# this function, and just call forward.\u001b[39;00m\n\u001b[0;32m   1498\u001b[0m \u001b[39mif\u001b[39;00m \u001b[39mnot\u001b[39;00m (\u001b[39mself\u001b[39m\u001b[39m.\u001b[39m_backward_hooks \u001b[39mor\u001b[39;00m \u001b[39mself\u001b[39m\u001b[39m.\u001b[39m_backward_pre_hooks \u001b[39mor\u001b[39;00m \u001b[39mself\u001b[39m\u001b[39m.\u001b[39m_forward_hooks \u001b[39mor\u001b[39;00m \u001b[39mself\u001b[39m\u001b[39m.\u001b[39m_forward_pre_hooks\n\u001b[0;32m   1499\u001b[0m         \u001b[39mor\u001b[39;00m _global_backward_pre_hooks \u001b[39mor\u001b[39;00m _global_backward_hooks\n\u001b[0;32m   1500\u001b[0m         \u001b[39mor\u001b[39;00m _global_forward_hooks \u001b[39mor\u001b[39;00m _global_forward_pre_hooks):\n\u001b[1;32m-> 1501\u001b[0m     \u001b[39mreturn\u001b[39;00m forward_call(\u001b[39m*\u001b[39margs, \u001b[39m*\u001b[39m\u001b[39m*\u001b[39mkwargs)\n\u001b[0;32m   1502\u001b[0m \u001b[39m# Do not call functions when jit is used\u001b[39;00m\n\u001b[0;32m   1503\u001b[0m full_backward_hooks, non_full_backward_hooks \u001b[39m=\u001b[39m [], []\n",
      "File \u001b[1;32mc:\\Users\\avika\\OneDrive\\Documents\\UAL\\interactive_dance_thesis\\model.py:492\u001b[0m, in \u001b[0;36mMultiHeadAttention.forward\u001b[1;34m(self, x)\u001b[0m\n\u001b[0;32m    490\u001b[0m \u001b[39mdef\u001b[39;00m \u001b[39mforward\u001b[39m(\u001b[39mself\u001b[39m, x):\n\u001b[0;32m    491\u001b[0m     \u001b[39m# x is (B,T,C)\u001b[39;00m\n\u001b[1;32m--> 492\u001b[0m     out \u001b[39m=\u001b[39m torch\u001b[39m.\u001b[39mcat([h(x) \u001b[39mfor\u001b[39;00m h \u001b[39min\u001b[39;00m \u001b[39mself\u001b[39m\u001b[39m.\u001b[39mheads], dim\u001b[39m=\u001b[39m\u001b[39m-\u001b[39m\u001b[39m1\u001b[39m) \u001b[39m# (B,T,C*num_heads)\u001b[39;00m\n\u001b[0;32m    493\u001b[0m     out \u001b[39m=\u001b[39m \u001b[39mself\u001b[39m\u001b[39m.\u001b[39mdropout(\u001b[39mself\u001b[39m\u001b[39m.\u001b[39mproj(out)) \u001b[39m# (B,T,C) - projection back into residual pathway\u001b[39;00m\n\u001b[0;32m    495\u001b[0m     \u001b[39mreturn\u001b[39;00m out\n",
      "File \u001b[1;32mc:\\Users\\avika\\OneDrive\\Documents\\UAL\\interactive_dance_thesis\\model.py:492\u001b[0m, in \u001b[0;36m<listcomp>\u001b[1;34m(.0)\u001b[0m\n\u001b[0;32m    490\u001b[0m \u001b[39mdef\u001b[39;00m \u001b[39mforward\u001b[39m(\u001b[39mself\u001b[39m, x):\n\u001b[0;32m    491\u001b[0m     \u001b[39m# x is (B,T,C)\u001b[39;00m\n\u001b[1;32m--> 492\u001b[0m     out \u001b[39m=\u001b[39m torch\u001b[39m.\u001b[39mcat([h(x) \u001b[39mfor\u001b[39;00m h \u001b[39min\u001b[39;00m \u001b[39mself\u001b[39m\u001b[39m.\u001b[39mheads], dim\u001b[39m=\u001b[39m\u001b[39m-\u001b[39m\u001b[39m1\u001b[39m) \u001b[39m# (B,T,C*num_heads)\u001b[39;00m\n\u001b[0;32m    493\u001b[0m     out \u001b[39m=\u001b[39m \u001b[39mself\u001b[39m\u001b[39m.\u001b[39mdropout(\u001b[39mself\u001b[39m\u001b[39m.\u001b[39mproj(out)) \u001b[39m# (B,T,C) - projection back into residual pathway\u001b[39;00m\n\u001b[0;32m    495\u001b[0m     \u001b[39mreturn\u001b[39;00m out\n",
      "File \u001b[1;32mc:\\Users\\avika\\anaconda3\\envs\\interactive_dance_thesis\\lib\\site-packages\\torch\\nn\\modules\\module.py:1501\u001b[0m, in \u001b[0;36mModule._call_impl\u001b[1;34m(self, *args, **kwargs)\u001b[0m\n\u001b[0;32m   1496\u001b[0m \u001b[39m# If we don't have any hooks, we want to skip the rest of the logic in\u001b[39;00m\n\u001b[0;32m   1497\u001b[0m \u001b[39m# this function, and just call forward.\u001b[39;00m\n\u001b[0;32m   1498\u001b[0m \u001b[39mif\u001b[39;00m \u001b[39mnot\u001b[39;00m (\u001b[39mself\u001b[39m\u001b[39m.\u001b[39m_backward_hooks \u001b[39mor\u001b[39;00m \u001b[39mself\u001b[39m\u001b[39m.\u001b[39m_backward_pre_hooks \u001b[39mor\u001b[39;00m \u001b[39mself\u001b[39m\u001b[39m.\u001b[39m_forward_hooks \u001b[39mor\u001b[39;00m \u001b[39mself\u001b[39m\u001b[39m.\u001b[39m_forward_pre_hooks\n\u001b[0;32m   1499\u001b[0m         \u001b[39mor\u001b[39;00m _global_backward_pre_hooks \u001b[39mor\u001b[39;00m _global_backward_hooks\n\u001b[0;32m   1500\u001b[0m         \u001b[39mor\u001b[39;00m _global_forward_hooks \u001b[39mor\u001b[39;00m _global_forward_pre_hooks):\n\u001b[1;32m-> 1501\u001b[0m     \u001b[39mreturn\u001b[39;00m forward_call(\u001b[39m*\u001b[39margs, \u001b[39m*\u001b[39m\u001b[39m*\u001b[39mkwargs)\n\u001b[0;32m   1502\u001b[0m \u001b[39m# Do not call functions when jit is used\u001b[39;00m\n\u001b[0;32m   1503\u001b[0m full_backward_hooks, non_full_backward_hooks \u001b[39m=\u001b[39m [], []\n",
      "File \u001b[1;32mc:\\Users\\avika\\OneDrive\\Documents\\UAL\\interactive_dance_thesis\\model.py:473\u001b[0m, in \u001b[0;36mHead.forward\u001b[1;34m(self, x)\u001b[0m\n\u001b[0;32m    471\u001b[0m wei \u001b[39m/\u001b[39m\u001b[39m=\u001b[39m math\u001b[39m.\u001b[39msqrt(\u001b[39mself\u001b[39m\u001b[39m.\u001b[39mn_emb) \u001b[39m# scale by sqrt of embedding dimension\u001b[39;00m\n\u001b[0;32m    472\u001b[0m \u001b[39mself\u001b[39m\u001b[39m.\u001b[39mtril \u001b[39m=\u001b[39m \u001b[39mself\u001b[39m\u001b[39m.\u001b[39mtril\u001b[39m.\u001b[39mto(device)\n\u001b[1;32m--> 473\u001b[0m wei \u001b[39m=\u001b[39m wei\u001b[39m.\u001b[39;49mmasked_fill(\u001b[39mself\u001b[39;49m\u001b[39m.\u001b[39;49mtril[:T,:T] \u001b[39m==\u001b[39;49m \u001b[39m0\u001b[39;49m, \u001b[39mfloat\u001b[39;49m(\u001b[39m'\u001b[39;49m\u001b[39m-inf\u001b[39;49m\u001b[39m'\u001b[39;49m)) \u001b[39m# mask out upper triangular part so don't attend to future\u001b[39;00m\n\u001b[0;32m    474\u001b[0m wei \u001b[39m=\u001b[39m F\u001b[39m.\u001b[39msoftmax(wei, dim\u001b[39m=\u001b[39m\u001b[39m-\u001b[39m\u001b[39m1\u001b[39m) \u001b[39m# B,T,T\u001b[39;00m\n\u001b[0;32m    475\u001b[0m wei \u001b[39m=\u001b[39m \u001b[39mself\u001b[39m\u001b[39m.\u001b[39mdropout(wei)\n",
      "\u001b[1;31mKeyboardInterrupt\u001b[0m: "
     ]
    },
    {
     "name": "stderr",
     "output_type": "stream",
     "text": [
      "Visualizing frames: 100%|██████████| 300/300 [00:33<00:00,  8.93it/s]\n",
      "Visualizing frames:  26%|██▌       | 77/300 [00:08<00:24,  9.14it/s]"
     ]
    }
   ],
   "source": [
    "\n",
    "\n",
    "def generate_new_batch():\n",
    "    # prep new input from chat emotion average scores and last 16 frames of generated\n",
    "    last_frames = unnorm_out[0][-16:]\n",
    "    new_batch = [frame[:-7] + average_scores for frame in unnorm_out[0][-16:]]\n",
    "    new_batch = torch.tensor(new_batch).to(device).float()\n",
    "\n",
    "    # generate new frames\n",
    "    generated = m.generate(new_batch, FRAMES_GENERATE)\n",
    "    return unnormalise_list_2D(generated, max_x, min_x, max_y, min_y, max_x, min_x, max_y, min_y)\n",
    "\n",
    "def visualize(unnorm_out):\n",
    "    # visualize\n",
    "    visualise_skeleton(unnorm_out[0], max_x, max_y, max_frames=FRAMES_GENERATE, save=False, save_path=None, prefix=f'adam_{EPOCHS}_coord_switchhappytodisgust', train_seed=train_seed, delta=False)\n",
    "\n",
    "\n",
    "# This queue will hold the batches ready for visualization\n",
    "viz_queue = queue.Queue()\n",
    "\n",
    "def visualize_batches():\n",
    "    while True:\n",
    "        # Wait for a new batch to be available in the queue\n",
    "        unnorm_out = viz_queue.get()\n",
    "        \n",
    "        # Visualize the batch\n",
    "        visualize(unnorm_out)\n",
    "\n",
    "# Start the visualization thread\n",
    "threading.Thread(target=visualize_batches, daemon=True).start()\n",
    "\n",
    "while chat.is_alive():\n",
    "    for c in chat.get().sync_items():\n",
    "        print(f\"{c.datetime} [{c.author.name}]- {c.message}\")\n",
    "        result = pipe(c.message)  # Assuming pipe() returns emotion prediction\n",
    "        print(result)\n",
    "        \n",
    "        # Update emotion data with new score and count\n",
    "        emotion = result[0]['label']\n",
    "        score = result[0]['score']\n",
    "        emotion_data[emotion][\"score\"] += score\n",
    "        emotion_data[emotion][\"count\"] += 1\n",
    "        \n",
    "        # Compute average scores for each emotion\n",
    "        for i, emotion in enumerate(emotion_labels):\n",
    "            if emotion_data[emotion][\"count\"] > 0:\n",
    "                average_scores[i] = emotion_data[emotion][\"score\"] / emotion_data[emotion][\"count\"]\n",
    "        \n",
    "        # Print average scores (can also store them elsewhere if needed)\n",
    "        print(\"Average scores:\", average_scores)\n",
    "        length  +=1\n",
    "        \n",
    "        if length % 10 == 0:\n",
    "            # Generate a new batch based on the current average scores\n",
    "            last_frames = unnorm_out[0][-16:]\n",
    "            new_batch = [frame[:-7] + average_scores for frame in last_frames]\n",
    "            new_batch = torch.tensor([new_batch]).to(device).float()\n",
    "\n",
    "            # Generate the new frames\n",
    "            generated = m.generate(new_batch, FRAMES_GENERATE)\n",
    "            unnorm_out = unnormalise_list_2D(generated, max_x, min_x, max_y, min_y, max_x, min_x, max_y, min_y)\n",
    "\n",
    "            # Put the batch in the visualization queue\n",
    "            viz_queue.put(unnorm_out)\n",
    "\n"
   ]
  },
  {
   "cell_type": "code",
   "execution_count": 7,
   "metadata": {},
   "outputs": [
    {
     "name": "stdout",
     "output_type": "stream",
     "text": [
      "2023-10-19 18:55:18 [ Ar. Sharma~]- :cigarette:\n",
      "[{'label': 'neutral', 'score': 0.9502205848693848}]\n",
      "Average scores: [0.0, 0.0, 0.0, 0.0, 0.9502205848693848, 0.0, 0.0]\n",
      "2023-10-19 18:55:18 [Michael Terry Wilson]- Best wishes and love to everyone.\n",
      "[{'label': 'neutral', 'score': 0.682776689529419}]\n",
      "Average scores: [0.0, 0.0, 0.0, 0.0, 0.8164986371994019, 0.0, 0.0]\n"
     ]
    },
    {
     "ename": "KeyboardInterrupt",
     "evalue": "",
     "output_type": "error",
     "traceback": [
      "\u001b[1;31m---------------------------------------------------------------------------\u001b[0m",
      "\u001b[1;31mKeyboardInterrupt\u001b[0m                         Traceback (most recent call last)",
      "\u001b[1;32mc:\\Users\\avika\\OneDrive\\Documents\\UAL\\interactive_dance_thesis\\main.ipynb Cell 7\u001b[0m line \u001b[0;36m2\n\u001b[0;32m      <a href='vscode-notebook-cell:/c%3A/Users/avika/OneDrive/Documents/UAL/interactive_dance_thesis/main.ipynb#Y353sZmlsZQ%3D%3D?line=0'>1</a>\u001b[0m \u001b[39mwhile\u001b[39;00m chat\u001b[39m.\u001b[39mis_alive():\n\u001b[1;32m----> <a href='vscode-notebook-cell:/c%3A/Users/avika/OneDrive/Documents/UAL/interactive_dance_thesis/main.ipynb#Y353sZmlsZQ%3D%3D?line=1'>2</a>\u001b[0m     \u001b[39mfor\u001b[39;00m c \u001b[39min\u001b[39;00m chat\u001b[39m.\u001b[39mget()\u001b[39m.\u001b[39msync_items():\n\u001b[0;32m      <a href='vscode-notebook-cell:/c%3A/Users/avika/OneDrive/Documents/UAL/interactive_dance_thesis/main.ipynb#Y353sZmlsZQ%3D%3D?line=2'>3</a>\u001b[0m         \u001b[39mprint\u001b[39m(\u001b[39mf\u001b[39m\u001b[39m\"\u001b[39m\u001b[39m{\u001b[39;00mc\u001b[39m.\u001b[39mdatetime\u001b[39m}\u001b[39;00m\u001b[39m [\u001b[39m\u001b[39m{\u001b[39;00mc\u001b[39m.\u001b[39mauthor\u001b[39m.\u001b[39mname\u001b[39m}\u001b[39;00m\u001b[39m]- \u001b[39m\u001b[39m{\u001b[39;00mc\u001b[39m.\u001b[39mmessage\u001b[39m}\u001b[39;00m\u001b[39m\"\u001b[39m)\n\u001b[0;32m      <a href='vscode-notebook-cell:/c%3A/Users/avika/OneDrive/Documents/UAL/interactive_dance_thesis/main.ipynb#Y353sZmlsZQ%3D%3D?line=3'>4</a>\u001b[0m         result \u001b[39m=\u001b[39m pipe(c\u001b[39m.\u001b[39mmessage)  \u001b[39m# Assuming pipe() returns emotion prediction\u001b[39;00m\n",
      "File \u001b[1;32mc:\\Users\\avika\\anaconda3\\envs\\interactive_dance_thesis\\lib\\site-packages\\pytchat\\processors\\default\\processor.py:89\u001b[0m, in \u001b[0;36mChatdata.sync_items\u001b[1;34m(self)\u001b[0m\n\u001b[0;32m     87\u001b[0m         \u001b[39mif\u001b[39;00m wait_sec \u001b[39m<\u001b[39m \u001b[39m0\u001b[39m:\n\u001b[0;32m     88\u001b[0m             wait_sec \u001b[39m=\u001b[39m \u001b[39m0\u001b[39m\n\u001b[1;32m---> 89\u001b[0m         time\u001b[39m.\u001b[39;49msleep(wait_sec)\n\u001b[0;32m     90\u001b[0m         \u001b[39myield\u001b[39;00m c\n\u001b[0;32m     91\u001b[0m stop_interval \u001b[39m=\u001b[39m time\u001b[39m.\u001b[39mtime() \u001b[39m-\u001b[39m starttime\n",
      "\u001b[1;31mKeyboardInterrupt\u001b[0m: "
     ]
    }
   ],
   "source": [
    "\n",
    "while chat.is_alive():\n",
    "    for c in chat.get().sync_items():\n",
    "        print(f\"{c.datetime} [{c.author.name}]- {c.message}\")\n",
    "        result = pipe(c.message)  # Assuming pipe() returns emotion prediction\n",
    "        print(result)\n",
    "        \n",
    "        # Update emotion data with new score and count\n",
    "        emotion = result[0]['label']\n",
    "        score = result[0]['score']\n",
    "        emotion_data[emotion][\"score\"] += score\n",
    "        emotion_data[emotion][\"count\"] += 1\n",
    "        \n",
    "        # Compute average scores for each emotion\n",
    "        for i, emotion in enumerate(emotion_labels):\n",
    "            if emotion_data[emotion][\"count\"] > 0:\n",
    "                average_scores[i] = emotion_data[emotion][\"score\"] / emotion_data[emotion][\"count\"]\n",
    "        \n",
    "        # Print average scores (can also store them elsewhere if needed)\n",
    "        print(\"Average scores:\", average_scores)\n",
    "        length  +=1\n",
    "        \n",
    "        if length % 10 ==0 :\n",
    "            generated = m.generate(xb, FRAMES_GENERATE)\n"
   ]
  },
  {
   "cell_type": "code",
   "execution_count": null,
   "metadata": {},
   "outputs": [],
   "source": [
    "# Preparing MEED data for model\n",
    "MEED= prep_MEED_data()\n",
    "train_data,val_data,frame_dim,max_x,min_x,max_y,min_y,max_dx,min_dx,max_dy,min_dy = MEED"
   ]
  },
  {
   "cell_type": "code",
   "execution_count": 2,
   "metadata": {},
   "outputs": [
    {
     "name": "stderr",
     "output_type": "stream",
     "text": [
      "100%|██████████| 4102/4102 [00:03<00:00, 1086.69it/s]\n"
     ]
    },
    {
     "name": "stdout",
     "output_type": "stream",
     "text": [
      "Validating interpolation...\n",
      "No errors found!\n"
     ]
    },
    {
     "name": "stderr",
     "output_type": "stream",
     "text": [
      "4102it [00:01, 2499.12it/s]\n",
      "4102it [00:01, 2397.84it/s]\n"
     ]
    },
    {
     "name": "stdout",
     "output_type": "stream",
     "text": [
      "Creating keypoint frames...\n"
     ]
    },
    {
     "name": "stderr",
     "output_type": "stream",
     "text": [
      "100%|██████████| 4102/4102 [00:03<00:00, 1039.36it/s]\n"
     ]
    },
    {
     "name": "stdout",
     "output_type": "stream",
     "text": [
      "Creating keypoint frames...\n"
     ]
    },
    {
     "name": "stderr",
     "output_type": "stream",
     "text": [
      "100%|██████████| 4102/4102 [00:03<00:00, 1149.98it/s]\n"
     ]
    },
    {
     "name": "stdout",
     "output_type": "stream",
     "text": [
      "Validating length of dkp_frames\n",
      "Validating length of kp_frames\n",
      "Adding deltas to frames...\n"
     ]
    },
    {
     "name": "stderr",
     "output_type": "stream",
     "text": [
      "4102it [00:03, 1110.06it/s]\n"
     ]
    },
    {
     "name": "stdout",
     "output_type": "stream",
     "text": [
      "Validating length of data after delta\n",
      "Adding emotions to frames...\n"
     ]
    },
    {
     "name": "stderr",
     "output_type": "stream",
     "text": [
      "100%|██████████| 4102/4102 [00:00<00:00, 9863.41it/s]\n"
     ]
    },
    {
     "name": "stdout",
     "output_type": "stream",
     "text": [
      "Validating length of data after emotions\n",
      "frame_dim: 107\n",
      "Loading checkpoint...\n",
      "Checkpoint loaded from checkpoints/proto5_checkpoint.pth\n",
      "Generating sequence of 300 frames...\n"
     ]
    },
    {
     "ename": "NameError",
     "evalue": "name 'batch' is not defined",
     "output_type": "error",
     "traceback": [
      "\u001b[1;31m---------------------------------------------------------------------------\u001b[0m",
      "\u001b[1;31mNameError\u001b[0m                                 Traceback (most recent call last)",
      "\u001b[1;32mc:\\Users\\avika\\OneDrive\\Documents\\UAL\\interactive_dance_thesis\\main.ipynb Cell 4\u001b[0m line \u001b[0;36m1\n\u001b[0;32m     <a href='vscode-notebook-cell:/c%3A/Users/avika/OneDrive/Documents/UAL/interactive_dance_thesis/main.ipynb#W4sZmlsZQ%3D%3D?line=13'>14</a>\u001b[0m generated \u001b[39m=\u001b[39m m\u001b[39m.\u001b[39mgenerate(xb, FRAMES_GENERATE)\n\u001b[0;32m     <a href='vscode-notebook-cell:/c%3A/Users/avika/OneDrive/Documents/UAL/interactive_dance_thesis/main.ipynb#W4sZmlsZQ%3D%3D?line=14'>15</a>\u001b[0m unnorm_out \u001b[39m=\u001b[39m unnormalise_list_2D(generated, max_x, min_x, max_y, min_y,max_x, min_x, max_y, min_y)\n\u001b[1;32m---> <a href='vscode-notebook-cell:/c%3A/Users/avika/OneDrive/Documents/UAL/interactive_dance_thesis/main.ipynb#W4sZmlsZQ%3D%3D?line=15'>16</a>\u001b[0m visualise_skeleton(batch, max_x, max_y, max_frames\u001b[39m=\u001b[39mFRAMES_GENERATE,save \u001b[39m=\u001b[39m \u001b[39mTrue\u001b[39;00m,save_path\u001b[39m=\u001b[39m\u001b[39mNone\u001b[39;00m,prefix\u001b[39m=\u001b[39m\u001b[39mf\u001b[39m\u001b[39m'\u001b[39m\u001b[39madam_\u001b[39m\u001b[39m{\u001b[39;00mEPOCHS\u001b[39m}\u001b[39;00m\u001b[39m_coord\u001b[39m\u001b[39m'\u001b[39m,train_seed\u001b[39m=\u001b[39mtrain_seed,delta\u001b[39m=\u001b[39m\u001b[39mFalse\u001b[39;00m)\n",
      "\u001b[1;31mNameError\u001b[0m: name 'batch' is not defined"
     ]
    }
   ],
   "source": [
    "\n",
    "\n",
    "CHECKPOINT_PATH = \"checkpoints/proto5_checkpoint.pth\"\n",
    "\n",
    "# create model\n",
    "m = MotionModel(input_dim=frame_dim, output_dim=frame_dim, blocksize=BLOCK_SIZE, hidden_dim=512, n_layers=8, dropout=DROPOUT)\n",
    "m = m.to(device)\n",
    "optimizer = torch.optim.Adam(m.parameters(), lr=LEARNING_RATE, weight_decay=L2_REG)  # weight_decay=1e-5 L2 regularization\n",
    "m, optimizer,scheduler, epoch, loss, train_seed = load_checkpoint(m, optimizer, CHECKPOINT_PATH)\n",
    "# Generate a sequence\n",
    "print(f'Generating sequence of {FRAMES_GENERATE} frames...')\n",
    "\n",
    "generated = m.generate(, FRAMES_GENERATE)\n",
    "unnorm_out = unnormalise_list_2D(generated, max_x, min_x, max_y, min_y,max_x, min_x, max_y, min_y)\n",
    "\n"
   ]
  },
  {
   "cell_type": "code",
   "execution_count": 19,
   "metadata": {},
   "outputs": [
    {
     "data": {
      "text/plain": [
       "['Anger', 'Fear', 'Happiness']"
      ]
     },
     "execution_count": 19,
     "metadata": {},
     "output_type": "execute_result"
    }
   ],
   "source": [
    "def encoding_to_emotions(encoding):\n",
    "    \"\"\"\n",
    "    Convert an encoding to its corresponding emotion labels.\n",
    "    \n",
    "    Parameters:\n",
    "    - encoding (list of int): The encoding of the emotions.\n",
    "    \n",
    "    Returns:\n",
    "    - list of str: The labels of the emotions.\n",
    "    \"\"\"\n",
    "    \n",
    "    emotion_labels = ['Anger', 'Disgust', 'Fear', 'Happiness', 'Neutral', 'Sad', 'Surprise']\n",
    "    \n",
    "    # Find the indices of non-zero values in the encoding and return the corresponding labels\n",
    "    emotion_indices = [i for i, value in enumerate(encoding) if value > 0]\n",
    "    return [emotion_labels[i] for i in emotion_indices]\n",
    "\n",
    "# Test the function with an example encoding\n",
    "test_encoding = [0.97, 0, 1, 1, 0, 0, 0]\n",
    "encoding_to_emotions(test_encoding)\n"
   ]
  },
  {
   "cell_type": "code",
   "execution_count": 12,
   "metadata": {},
   "outputs": [
    {
     "data": {
      "text/plain": [
       "[0.0, 0.0, 0.0, 1.0, 0.0, 0.0, 0.0]"
      ]
     },
     "execution_count": 12,
     "metadata": {},
     "output_type": "execute_result"
    }
   ],
   "source": [
    "frame[-7:]"
   ]
  },
  {
   "cell_type": "code",
   "execution_count": 33,
   "metadata": {},
   "outputs": [
    {
     "name": "stdout",
     "output_type": "stream",
     "text": [
      "['Happiness']\n",
      "['Happiness']\n",
      "['Happiness']\n",
      "['Happiness']\n",
      "['Happiness']\n",
      "['Happiness']\n",
      "['Happiness']\n",
      "['Happiness']\n",
      "['Happiness']\n",
      "['Happiness']\n",
      "['Happiness']\n",
      "['Happiness']\n",
      "['Happiness']\n",
      "['Happiness']\n",
      "['Happiness']\n",
      "['Happiness']\n",
      "['Anger', 'Disgust', 'Happiness', 'Neutral']\n",
      "['Anger', 'Disgust', 'Happiness', 'Surprise']\n",
      "['Anger', 'Disgust', 'Happiness', 'Surprise']\n",
      "['Anger', 'Disgust', 'Happiness', 'Surprise']\n",
      "['Anger', 'Disgust', 'Happiness', 'Surprise']\n",
      "['Anger', 'Disgust', 'Happiness', 'Surprise']\n",
      "['Anger', 'Disgust', 'Happiness', 'Surprise']\n",
      "['Anger', 'Disgust', 'Happiness', 'Surprise']\n",
      "['Anger', 'Happiness', 'Neutral', 'Surprise']\n",
      "['Anger', 'Disgust', 'Happiness', 'Sad', 'Surprise']\n",
      "['Anger', 'Disgust', 'Happiness', 'Surprise']\n",
      "['Anger', 'Disgust', 'Happiness', 'Surprise']\n",
      "['Anger', 'Disgust', 'Fear', 'Happiness']\n",
      "['Anger', 'Disgust', 'Happiness', 'Surprise']\n",
      "['Anger', 'Disgust', 'Happiness', 'Surprise']\n",
      "['Anger', 'Disgust', 'Happiness', 'Surprise']\n",
      "['Anger', 'Disgust', 'Happiness', 'Surprise']\n",
      "['Anger', 'Disgust', 'Happiness', 'Sad', 'Surprise']\n",
      "['Anger', 'Disgust', 'Happiness', 'Surprise']\n",
      "['Anger', 'Disgust', 'Happiness', 'Neutral', 'Sad', 'Surprise']\n",
      "['Anger', 'Disgust', 'Happiness', 'Neutral', 'Surprise']\n",
      "['Anger', 'Disgust', 'Happiness', 'Neutral', 'Surprise']\n",
      "['Anger', 'Disgust', 'Fear', 'Happiness', 'Surprise']\n",
      "['Anger', 'Disgust', 'Happiness', 'Neutral', 'Sad']\n",
      "['Disgust', 'Happiness', 'Neutral', 'Surprise']\n",
      "['Anger', 'Disgust', 'Happiness', 'Neutral', 'Surprise']\n",
      "['Anger', 'Disgust', 'Happiness', 'Neutral', 'Surprise']\n",
      "['Anger', 'Disgust', 'Happiness', 'Neutral', 'Sad']\n",
      "['Disgust', 'Happiness', 'Neutral', 'Surprise']\n",
      "['Anger', 'Happiness', 'Neutral', 'Surprise']\n",
      "['Disgust', 'Happiness', 'Neutral', 'Sad', 'Surprise']\n",
      "['Anger', 'Disgust', 'Happiness', 'Neutral', 'Sad']\n",
      "['Anger', 'Disgust', 'Happiness', 'Neutral']\n",
      "['Anger', 'Happiness', 'Neutral', 'Surprise']\n",
      "['Anger', 'Disgust', 'Happiness', 'Neutral', 'Surprise']\n",
      "['Anger', 'Disgust', 'Happiness', 'Neutral', 'Sad', 'Surprise']\n",
      "['Anger', 'Disgust', 'Happiness', 'Neutral', 'Surprise']\n",
      "['Anger', 'Disgust', 'Happiness', 'Surprise']\n",
      "['Anger', 'Disgust', 'Happiness']\n",
      "['Anger', 'Disgust', 'Happiness', 'Neutral', 'Surprise']\n",
      "['Anger', 'Disgust', 'Happiness', 'Neutral', 'Surprise']\n",
      "['Anger', 'Disgust', 'Happiness', 'Neutral', 'Sad', 'Surprise']\n",
      "['Anger', 'Fear', 'Happiness', 'Neutral', 'Surprise']\n",
      "['Disgust', 'Happiness', 'Neutral', 'Sad', 'Surprise']\n",
      "['Anger', 'Disgust', 'Happiness', 'Sad', 'Surprise']\n",
      "['Anger', 'Disgust', 'Happiness', 'Surprise']\n",
      "['Anger', 'Disgust', 'Happiness', 'Neutral', 'Surprise']\n",
      "['Anger', 'Disgust', 'Happiness', 'Neutral', 'Surprise']\n",
      "['Anger', 'Disgust', 'Happiness', 'Neutral', 'Surprise']\n",
      "['Anger', 'Disgust', 'Happiness', 'Neutral', 'Sad', 'Surprise']\n",
      "['Disgust', 'Happiness', 'Neutral', 'Sad', 'Surprise']\n",
      "['Disgust', 'Happiness', 'Surprise']\n",
      "['Anger', 'Disgust', 'Happiness', 'Neutral', 'Sad', 'Surprise']\n",
      "['Anger', 'Disgust', 'Happiness', 'Neutral', 'Sad', 'Surprise']\n",
      "['Anger', 'Happiness', 'Neutral', 'Sad', 'Surprise']\n",
      "['Anger', 'Disgust', 'Happiness', 'Neutral', 'Sad']\n",
      "['Anger', 'Disgust', 'Happiness', 'Neutral', 'Surprise']\n",
      "['Disgust', 'Happiness', 'Neutral', 'Surprise']\n",
      "['Anger', 'Disgust', 'Happiness', 'Neutral', 'Sad', 'Surprise']\n",
      "['Anger', 'Disgust', 'Happiness', 'Neutral', 'Sad', 'Surprise']\n",
      "['Disgust', 'Happiness', 'Neutral', 'Surprise']\n",
      "['Anger', 'Disgust', 'Happiness', 'Neutral', 'Sad', 'Surprise']\n",
      "['Disgust', 'Happiness', 'Neutral', 'Surprise']\n",
      "['Disgust', 'Happiness', 'Neutral', 'Sad', 'Surprise']\n",
      "['Disgust', 'Happiness', 'Neutral', 'Surprise']\n",
      "['Anger', 'Disgust', 'Happiness', 'Neutral', 'Sad', 'Surprise']\n",
      "['Anger', 'Disgust', 'Happiness', 'Neutral', 'Sad', 'Surprise']\n",
      "['Disgust', 'Happiness', 'Neutral', 'Surprise']\n",
      "['Anger', 'Happiness', 'Neutral', 'Surprise']\n",
      "['Disgust', 'Happiness', 'Neutral', 'Surprise']\n",
      "['Happiness', 'Neutral', 'Surprise']\n",
      "['Anger', 'Disgust', 'Happiness', 'Neutral', 'Surprise']\n",
      "['Disgust', 'Happiness', 'Neutral', 'Sad', 'Surprise']\n",
      "['Disgust', 'Happiness', 'Neutral', 'Sad', 'Surprise']\n",
      "['Disgust', 'Fear', 'Happiness', 'Neutral', 'Surprise']\n",
      "['Anger', 'Disgust', 'Happiness', 'Neutral', 'Surprise']\n",
      "['Anger', 'Disgust', 'Happiness', 'Neutral', 'Surprise']\n",
      "['Disgust', 'Happiness', 'Neutral', 'Surprise']\n",
      "['Anger', 'Disgust', 'Happiness', 'Neutral', 'Surprise']\n",
      "['Disgust', 'Happiness', 'Neutral', 'Surprise']\n",
      "['Anger', 'Disgust', 'Happiness', 'Neutral']\n",
      "['Disgust', 'Happiness', 'Neutral', 'Sad', 'Surprise']\n",
      "['Anger', 'Disgust', 'Happiness', 'Sad', 'Surprise']\n",
      "['Anger', 'Disgust', 'Happiness', 'Neutral', 'Sad', 'Surprise']\n",
      "['Disgust', 'Happiness', 'Neutral', 'Sad', 'Surprise']\n",
      "['Anger', 'Disgust', 'Fear', 'Happiness', 'Neutral', 'Sad']\n",
      "['Anger', 'Disgust', 'Happiness', 'Neutral', 'Surprise']\n",
      "['Disgust', 'Happiness', 'Neutral', 'Surprise']\n",
      "['Disgust', 'Happiness', 'Neutral']\n",
      "['Happiness', 'Neutral', 'Sad', 'Surprise']\n",
      "['Anger', 'Disgust', 'Happiness', 'Neutral', 'Surprise']\n",
      "['Disgust', 'Happiness', 'Neutral', 'Surprise']\n",
      "['Disgust', 'Happiness', 'Neutral', 'Sad', 'Surprise']\n",
      "['Disgust', 'Happiness', 'Neutral', 'Surprise']\n",
      "['Disgust', 'Happiness', 'Neutral', 'Sad']\n",
      "['Disgust', 'Happiness', 'Neutral', 'Surprise']\n",
      "['Anger', 'Happiness', 'Neutral', 'Sad', 'Surprise']\n",
      "['Anger', 'Disgust', 'Happiness', 'Neutral', 'Sad', 'Surprise']\n",
      "['Disgust', 'Fear', 'Happiness', 'Neutral', 'Surprise']\n",
      "['Happiness', 'Neutral', 'Surprise']\n",
      "['Disgust', 'Happiness', 'Neutral', 'Surprise']\n",
      "['Disgust', 'Fear', 'Happiness', 'Neutral', 'Surprise']\n",
      "['Disgust', 'Fear', 'Happiness', 'Surprise']\n",
      "['Anger', 'Disgust', 'Fear', 'Happiness', 'Sad']\n",
      "['Anger', 'Disgust', 'Fear', 'Happiness', 'Neutral', 'Surprise']\n",
      "['Disgust', 'Happiness', 'Neutral', 'Surprise']\n",
      "['Anger', 'Disgust', 'Fear', 'Happiness', 'Neutral', 'Surprise']\n",
      "['Anger', 'Disgust', 'Fear', 'Happiness', 'Neutral', 'Surprise']\n",
      "['Disgust', 'Happiness', 'Neutral']\n",
      "['Disgust', 'Happiness', 'Neutral', 'Surprise']\n",
      "['Disgust', 'Happiness', 'Neutral', 'Surprise']\n",
      "['Disgust', 'Happiness', 'Neutral', 'Surprise']\n",
      "['Disgust', 'Happiness', 'Neutral', 'Surprise']\n",
      "['Disgust', 'Happiness', 'Neutral', 'Sad', 'Surprise']\n",
      "['Disgust', 'Happiness', 'Neutral', 'Sad', 'Surprise']\n",
      "['Happiness', 'Neutral', 'Sad', 'Surprise']\n",
      "['Disgust', 'Happiness', 'Neutral', 'Sad', 'Surprise']\n",
      "['Anger', 'Disgust', 'Happiness', 'Neutral', 'Sad', 'Surprise']\n",
      "['Disgust', 'Happiness', 'Neutral', 'Sad', 'Surprise']\n",
      "['Anger', 'Disgust', 'Happiness', 'Neutral', 'Surprise']\n",
      "['Disgust', 'Happiness', 'Neutral', 'Surprise']\n",
      "['Disgust', 'Happiness', 'Neutral', 'Sad', 'Surprise']\n",
      "['Disgust', 'Fear', 'Happiness', 'Neutral', 'Sad', 'Surprise']\n",
      "['Anger', 'Disgust', 'Fear', 'Happiness', 'Neutral', 'Surprise']\n",
      "['Happiness', 'Neutral', 'Sad', 'Surprise']\n",
      "['Disgust', 'Fear', 'Happiness', 'Neutral', 'Surprise']\n",
      "['Disgust', 'Happiness', 'Neutral', 'Sad', 'Surprise']\n",
      "['Disgust', 'Happiness', 'Neutral', 'Sad', 'Surprise']\n",
      "['Disgust', 'Happiness', 'Surprise']\n",
      "['Anger', 'Disgust', 'Happiness', 'Neutral', 'Surprise']\n",
      "['Disgust', 'Fear', 'Happiness', 'Neutral', 'Surprise']\n",
      "['Anger', 'Disgust', 'Fear', 'Happiness', 'Neutral', 'Surprise']\n",
      "['Disgust', 'Fear', 'Happiness', 'Neutral', 'Surprise']\n",
      "['Disgust', 'Happiness', 'Neutral', 'Sad', 'Surprise']\n",
      "['Anger', 'Disgust', 'Happiness', 'Neutral', 'Surprise']\n",
      "['Anger', 'Disgust', 'Happiness', 'Neutral', 'Surprise']\n",
      "['Anger', 'Disgust', 'Happiness', 'Neutral', 'Surprise']\n",
      "['Anger', 'Disgust', 'Happiness', 'Neutral', 'Surprise']\n",
      "['Anger', 'Disgust', 'Happiness', 'Neutral', 'Surprise']\n",
      "['Anger', 'Disgust', 'Happiness', 'Sad', 'Surprise']\n",
      "['Anger', 'Happiness', 'Sad', 'Surprise']\n",
      "['Anger', 'Fear', 'Happiness', 'Neutral']\n",
      "['Anger', 'Disgust', 'Happiness', 'Neutral', 'Surprise']\n",
      "['Anger', 'Happiness', 'Neutral', 'Surprise']\n",
      "['Disgust', 'Happiness', 'Neutral', 'Surprise']\n",
      "['Disgust', 'Happiness', 'Neutral', 'Surprise']\n",
      "['Disgust', 'Happiness', 'Neutral', 'Surprise']\n",
      "['Anger', 'Disgust', 'Happiness', 'Neutral', 'Sad', 'Surprise']\n",
      "['Disgust', 'Happiness', 'Neutral']\n",
      "['Anger', 'Disgust', 'Fear', 'Happiness', 'Neutral', 'Sad', 'Surprise']\n",
      "['Disgust', 'Fear', 'Happiness', 'Neutral', 'Sad', 'Surprise']\n",
      "['Disgust', 'Fear', 'Happiness', 'Neutral', 'Surprise']\n",
      "['Anger', 'Happiness', 'Neutral', 'Sad', 'Surprise']\n",
      "['Happiness', 'Neutral', 'Surprise']\n",
      "['Disgust', 'Happiness', 'Neutral', 'Sad', 'Surprise']\n",
      "['Disgust', 'Fear', 'Happiness', 'Neutral', 'Surprise']\n",
      "['Anger', 'Disgust', 'Happiness', 'Neutral', 'Sad']\n",
      "['Disgust', 'Happiness', 'Neutral', 'Surprise']\n",
      "['Disgust', 'Fear', 'Happiness', 'Neutral', 'Sad', 'Surprise']\n",
      "['Disgust', 'Fear', 'Happiness', 'Neutral', 'Sad', 'Surprise']\n",
      "['Happiness', 'Neutral', 'Surprise']\n",
      "['Disgust', 'Happiness', 'Neutral', 'Surprise']\n",
      "['Anger', 'Disgust', 'Happiness', 'Neutral', 'Surprise']\n",
      "['Anger', 'Disgust', 'Fear', 'Happiness', 'Surprise']\n",
      "['Anger', 'Disgust', 'Fear', 'Happiness', 'Neutral', 'Surprise']\n",
      "['Anger', 'Disgust', 'Happiness', 'Neutral', 'Surprise']\n",
      "['Disgust', 'Happiness', 'Neutral', 'Sad', 'Surprise']\n",
      "['Anger', 'Disgust', 'Fear', 'Happiness', 'Neutral', 'Surprise']\n",
      "['Anger', 'Disgust', 'Happiness', 'Neutral', 'Surprise']\n",
      "['Anger', 'Disgust', 'Fear', 'Happiness', 'Neutral', 'Sad', 'Surprise']\n",
      "['Anger', 'Disgust', 'Happiness', 'Neutral', 'Sad', 'Surprise']\n",
      "['Fear', 'Happiness', 'Neutral', 'Sad', 'Surprise']\n",
      "['Disgust', 'Happiness', 'Neutral', 'Sad', 'Surprise']\n",
      "['Anger', 'Happiness', 'Neutral', 'Surprise']\n",
      "['Anger', 'Disgust', 'Fear', 'Happiness', 'Neutral', 'Sad', 'Surprise']\n",
      "['Disgust', 'Happiness', 'Neutral', 'Surprise']\n",
      "['Disgust', 'Happiness', 'Neutral', 'Sad', 'Surprise']\n",
      "['Anger', 'Disgust', 'Happiness', 'Neutral']\n",
      "['Disgust', 'Happiness', 'Neutral', 'Surprise']\n",
      "['Disgust', 'Fear', 'Happiness', 'Neutral', 'Sad', 'Surprise']\n",
      "['Happiness', 'Neutral', 'Sad', 'Surprise']\n",
      "['Anger', 'Disgust', 'Happiness', 'Neutral', 'Surprise']\n",
      "['Disgust', 'Happiness', 'Neutral', 'Sad', 'Surprise']\n",
      "['Anger', 'Happiness', 'Neutral', 'Surprise']\n",
      "['Anger', 'Fear', 'Happiness', 'Neutral', 'Surprise']\n",
      "['Disgust', 'Happiness', 'Neutral', 'Sad', 'Surprise']\n",
      "['Anger', 'Disgust', 'Happiness', 'Neutral', 'Surprise']\n",
      "['Anger', 'Disgust', 'Happiness', 'Neutral', 'Surprise']\n",
      "['Anger', 'Disgust', 'Happiness', 'Neutral', 'Sad']\n",
      "['Anger', 'Disgust', 'Happiness', 'Surprise']\n",
      "['Disgust', 'Happiness', 'Neutral', 'Sad', 'Surprise']\n",
      "['Disgust', 'Fear', 'Happiness', 'Neutral', 'Sad', 'Surprise']\n",
      "['Happiness', 'Neutral', 'Sad', 'Surprise']\n",
      "['Disgust', 'Happiness', 'Neutral', 'Sad', 'Surprise']\n",
      "['Anger', 'Disgust', 'Fear', 'Happiness', 'Neutral', 'Surprise']\n",
      "['Disgust', 'Happiness', 'Neutral', 'Surprise']\n",
      "['Disgust', 'Fear', 'Happiness', 'Neutral', 'Surprise']\n",
      "['Anger', 'Disgust', 'Fear', 'Happiness', 'Neutral', 'Sad', 'Surprise']\n",
      "['Anger', 'Disgust', 'Happiness', 'Neutral', 'Surprise']\n",
      "['Anger', 'Happiness', 'Neutral', 'Sad', 'Surprise']\n",
      "['Anger', 'Disgust', 'Fear', 'Happiness', 'Neutral', 'Surprise']\n",
      "['Anger', 'Happiness', 'Neutral', 'Sad', 'Surprise']\n",
      "['Anger', 'Disgust', 'Happiness', 'Neutral', 'Surprise']\n",
      "['Anger', 'Disgust', 'Happiness', 'Neutral', 'Surprise']\n",
      "['Happiness', 'Neutral', 'Sad', 'Surprise']\n",
      "['Anger', 'Disgust', 'Fear', 'Happiness', 'Neutral', 'Surprise']\n",
      "['Anger', 'Disgust', 'Happiness', 'Neutral', 'Surprise']\n",
      "['Disgust', 'Happiness', 'Neutral', 'Surprise']\n",
      "['Anger', 'Disgust', 'Happiness', 'Neutral', 'Surprise']\n",
      "['Anger', 'Disgust', 'Happiness', 'Neutral', 'Sad', 'Surprise']\n",
      "['Disgust', 'Happiness', 'Neutral', 'Surprise']\n",
      "['Disgust', 'Happiness', 'Neutral', 'Surprise']\n",
      "['Disgust', 'Happiness', 'Neutral', 'Surprise']\n",
      "['Disgust', 'Happiness', 'Neutral', 'Sad', 'Surprise']\n",
      "['Disgust', 'Happiness', 'Neutral', 'Surprise']\n",
      "['Disgust', 'Fear', 'Happiness', 'Neutral', 'Sad', 'Surprise']\n",
      "['Anger', 'Disgust', 'Happiness', 'Neutral', 'Sad', 'Surprise']\n",
      "['Anger', 'Fear', 'Happiness', 'Neutral', 'Sad', 'Surprise']\n",
      "['Anger', 'Disgust', 'Fear', 'Happiness', 'Neutral']\n",
      "['Happiness', 'Neutral', 'Surprise']\n",
      "['Anger', 'Happiness', 'Neutral', 'Surprise']\n",
      "['Happiness', 'Neutral', 'Surprise']\n",
      "['Anger', 'Happiness', 'Neutral', 'Sad', 'Surprise']\n",
      "['Happiness', 'Neutral', 'Sad', 'Surprise']\n",
      "['Anger', 'Disgust', 'Happiness', 'Neutral', 'Surprise']\n",
      "['Anger', 'Disgust', 'Fear', 'Happiness', 'Neutral', 'Sad', 'Surprise']\n",
      "['Anger', 'Disgust', 'Happiness', 'Neutral', 'Surprise']\n",
      "['Anger', 'Happiness', 'Neutral', 'Sad', 'Surprise']\n",
      "['Disgust', 'Happiness', 'Neutral', 'Sad', 'Surprise']\n",
      "['Anger', 'Disgust', 'Happiness', 'Neutral', 'Sad', 'Surprise']\n",
      "['Happiness', 'Neutral', 'Sad', 'Surprise']\n",
      "['Anger', 'Disgust', 'Happiness', 'Neutral', 'Sad', 'Surprise']\n",
      "['Anger', 'Disgust', 'Happiness', 'Neutral', 'Sad', 'Surprise']\n",
      "['Anger', 'Disgust', 'Happiness', 'Neutral', 'Surprise']\n",
      "['Anger', 'Disgust', 'Happiness', 'Neutral', 'Surprise']\n",
      "['Anger', 'Disgust', 'Happiness', 'Neutral', 'Sad', 'Surprise']\n",
      "['Anger', 'Disgust', 'Happiness', 'Neutral', 'Sad', 'Surprise']\n",
      "['Anger', 'Disgust', 'Happiness', 'Neutral', 'Surprise']\n",
      "['Anger', 'Disgust', 'Happiness', 'Neutral', 'Sad', 'Surprise']\n",
      "['Disgust', 'Happiness', 'Neutral', 'Sad', 'Surprise']\n",
      "['Disgust', 'Happiness', 'Neutral', 'Sad', 'Surprise']\n",
      "['Disgust', 'Fear', 'Happiness', 'Neutral', 'Sad', 'Surprise']\n",
      "['Anger', 'Disgust', 'Happiness', 'Neutral', 'Surprise']\n",
      "['Disgust', 'Fear', 'Happiness', 'Neutral', 'Sad', 'Surprise']\n",
      "['Disgust', 'Happiness', 'Neutral', 'Surprise']\n",
      "['Happiness', 'Neutral', 'Sad', 'Surprise']\n",
      "['Anger', 'Disgust', 'Happiness', 'Neutral', 'Surprise']\n",
      "['Disgust', 'Fear', 'Happiness', 'Neutral', 'Surprise']\n",
      "['Anger', 'Fear', 'Happiness', 'Neutral', 'Sad', 'Surprise']\n",
      "['Anger', 'Disgust', 'Happiness', 'Neutral', 'Surprise']\n",
      "['Fear', 'Happiness', 'Neutral', 'Surprise']\n",
      "['Anger', 'Disgust', 'Happiness', 'Neutral', 'Sad', 'Surprise']\n",
      "['Anger', 'Disgust', 'Happiness', 'Neutral', 'Surprise']\n",
      "['Anger', 'Disgust', 'Happiness', 'Sad', 'Surprise']\n",
      "['Disgust', 'Happiness', 'Neutral', 'Sad', 'Surprise']\n",
      "['Anger', 'Disgust', 'Happiness', 'Neutral', 'Sad', 'Surprise']\n",
      "['Anger', 'Happiness', 'Neutral', 'Sad', 'Surprise']\n",
      "['Disgust', 'Happiness', 'Neutral', 'Sad', 'Surprise']\n",
      "['Disgust', 'Happiness', 'Neutral', 'Sad', 'Surprise']\n",
      "['Disgust', 'Happiness', 'Neutral', 'Sad', 'Surprise']\n",
      "['Disgust', 'Happiness', 'Neutral', 'Sad', 'Surprise']\n",
      "['Disgust', 'Happiness', 'Neutral', 'Sad', 'Surprise']\n",
      "['Anger', 'Disgust', 'Happiness', 'Neutral', 'Sad', 'Surprise']\n",
      "['Anger', 'Disgust', 'Happiness', 'Neutral', 'Surprise']\n",
      "['Anger', 'Disgust', 'Happiness', 'Neutral', 'Surprise']\n",
      "['Anger', 'Disgust', 'Happiness', 'Surprise']\n",
      "['Anger', 'Disgust', 'Happiness', 'Neutral', 'Sad']\n",
      "['Anger', 'Disgust', 'Fear', 'Happiness', 'Neutral', 'Surprise']\n",
      "['Disgust', 'Happiness', 'Neutral', 'Sad', 'Surprise']\n",
      "['Anger', 'Disgust', 'Happiness', 'Neutral', 'Sad', 'Surprise']\n",
      "['Disgust', 'Fear', 'Happiness', 'Neutral', 'Surprise']\n",
      "['Disgust', 'Fear', 'Happiness', 'Neutral', 'Surprise']\n",
      "['Anger', 'Disgust', 'Happiness', 'Neutral', 'Sad', 'Surprise']\n",
      "['Anger', 'Fear', 'Happiness', 'Neutral', 'Surprise']\n",
      "['Anger', 'Disgust', 'Happiness', 'Neutral', 'Surprise']\n",
      "['Anger', 'Disgust', 'Happiness', 'Neutral', 'Surprise']\n",
      "['Disgust', 'Happiness', 'Neutral', 'Sad', 'Surprise']\n",
      "['Anger', 'Disgust', 'Fear', 'Happiness', 'Neutral', 'Sad', 'Surprise']\n",
      "['Anger', 'Disgust', 'Happiness', 'Neutral', 'Surprise']\n",
      "['Anger', 'Happiness', 'Neutral', 'Surprise']\n",
      "['Anger', 'Disgust', 'Happiness', 'Neutral', 'Surprise']\n",
      "['Anger', 'Fear', 'Happiness', 'Neutral', 'Sad', 'Surprise']\n",
      "['Anger', 'Disgust', 'Happiness', 'Neutral', 'Sad', 'Surprise']\n",
      "['Anger', 'Disgust', 'Fear', 'Happiness', 'Neutral', 'Sad', 'Surprise']\n",
      "['Anger', 'Disgust', 'Happiness', 'Sad', 'Surprise']\n",
      "['Anger', 'Disgust', 'Happiness', 'Sad', 'Surprise']\n",
      "['Disgust', 'Happiness', 'Neutral', 'Sad', 'Surprise']\n",
      "['Anger', 'Disgust', 'Happiness', 'Neutral', 'Sad']\n",
      "['Anger', 'Disgust', 'Happiness', 'Neutral', 'Sad', 'Surprise']\n",
      "['Anger', 'Disgust', 'Happiness', 'Neutral', 'Surprise']\n",
      "['Disgust', 'Happiness', 'Neutral', 'Surprise']\n",
      "['Anger', 'Disgust', 'Happiness', 'Neutral', 'Sad', 'Surprise']\n",
      "['Disgust', 'Fear', 'Happiness', 'Neutral']\n",
      "['Disgust', 'Happiness', 'Neutral', 'Surprise']\n",
      "['Anger', 'Disgust', 'Fear', 'Happiness', 'Neutral']\n",
      "['Disgust', 'Happiness', 'Neutral', 'Sad', 'Surprise']\n",
      "['Anger', 'Disgust', 'Happiness', 'Neutral', 'Sad']\n",
      "['Disgust', 'Happiness', 'Sad', 'Surprise']\n",
      "['Anger', 'Happiness', 'Neutral']\n",
      "['Disgust', 'Happiness', 'Neutral', 'Sad']\n"
     ]
    }
   ],
   "source": [
    "# switch emotions of frames \n",
    "def switch_emotion(frame,old_emotion,new_emotion):\n",
    "    \"\"\"\n",
    "    Switch the emotion of a frame.\n",
    "    \n",
    "    Parameters:\n",
    "    - frame (list of int): The frame to switch the emotion of.\n",
    "    - old_emotion (str): The emotion to switch from.\n",
    "    - new_emotion (str): The emotion to switch to.\n",
    "    \n",
    "    Returns:\n",
    "    - list of int: The frame with the emotion switched.\n",
    "    \"\"\"\n",
    "    \n",
    "    # Get the indices of the old and new emotion\n",
    "    emotion_labels = ['Anger', 'Disgust', 'Fear', 'Happiness', 'Neutral', 'Sad', 'Surprise']\n",
    "    old_emotion_index = emotion_labels.index(old_emotion)\n",
    "    new_emotion_index = emotion_labels.index(new_emotion)\n",
    "    \n",
    "    # Switch the emotion\n",
    "    frame[-7 + old_emotion_index] = 0\n",
    "    frame[-7 + new_emotion_index] = 1\n",
    "    \n",
    "    return frame\n",
    "\n",
    "new_batch = []\n",
    "for frame in batch:\n",
    "    emotion = encoding_to_emotions(frame[-7:])\n",
    "    print(emotion)\n",
    "    new_batch.append(frame[:-7] + emotion_to_encoding('Disgust'))"
   ]
  },
  {
   "cell_type": "code",
   "execution_count": 24,
   "metadata": {},
   "outputs": [
    {
     "name": "stderr",
     "output_type": "stream",
     "text": [
      "Visualizing frames: 100%|██████████| 300/300 [00:33<00:00,  9.07it/s]\n"
     ]
    }
   ],
   "source": [
    "for batch in unnorm_out:\n",
    "    visualise_skeleton(batch, max_x, max_y, max_frames=FRAMES_GENERATE,save =True,save_path=None,prefix=f'adam_{EPOCHS}_coord_normalemotion_happy',train_seed=train_seed,delta=False)"
   ]
  },
  {
   "cell_type": "code",
   "execution_count": 25,
   "metadata": {},
   "outputs": [
    {
     "name": "stderr",
     "output_type": "stream",
     "text": [
      "Visualizing frames:  27%|██▋       | 82/300 [00:09<00:24,  9.06it/s]\n"
     ]
    },
    {
     "ename": "KeyboardInterrupt",
     "evalue": "",
     "output_type": "error",
     "traceback": [
      "\u001b[1;31m---------------------------------------------------------------------------\u001b[0m",
      "\u001b[1;31mKeyboardInterrupt\u001b[0m                         Traceback (most recent call last)",
      "\u001b[1;32mc:\\Users\\avika\\OneDrive\\Documents\\UAL\\interactive_dance_thesis\\main.ipynb Cell 9\u001b[0m line \u001b[0;36m1\n\u001b[1;32m----> <a href='vscode-notebook-cell:/c%3A/Users/avika/OneDrive/Documents/UAL/interactive_dance_thesis/main.ipynb#X13sZmlsZQ%3D%3D?line=0'>1</a>\u001b[0m visualise_skeleton(new_batch, max_x, max_y, max_frames\u001b[39m=\u001b[39;49mFRAMES_GENERATE,save \u001b[39m=\u001b[39;49m \u001b[39mTrue\u001b[39;49;00m,save_path\u001b[39m=\u001b[39;49m\u001b[39mNone\u001b[39;49;00m,prefix\u001b[39m=\u001b[39;49m\u001b[39mf\u001b[39;49m\u001b[39m'\u001b[39;49m\u001b[39madam_\u001b[39;49m\u001b[39m{\u001b[39;49;00mEPOCHS\u001b[39m}\u001b[39;49;00m\u001b[39m_coord_switchhappytosad\u001b[39;49m\u001b[39m'\u001b[39;49m,train_seed\u001b[39m=\u001b[39;49mtrain_seed,delta\u001b[39m=\u001b[39;49m\u001b[39mFalse\u001b[39;49;00m)\n",
      "File \u001b[1;32mc:\\Users\\avika\\OneDrive\\Documents\\UAL\\interactive_dance_thesis\\model.py:837\u001b[0m, in \u001b[0;36mvisualise_skeleton\u001b[1;34m(all_frames, max_x, max_y, max_frames, save, save_path, prefix, train_seed, delta)\u001b[0m\n\u001b[0;32m    834\u001b[0m     out\u001b[39m.\u001b[39mwrite(canvas_copy)\n\u001b[0;32m    836\u001b[0m \u001b[39m# Wait for 100ms and check for \"esc\" key press to exit\u001b[39;00m\n\u001b[1;32m--> 837\u001b[0m key \u001b[39m=\u001b[39m cv2\u001b[39m.\u001b[39;49mwaitKey(\u001b[39m100\u001b[39;49m)\n\u001b[0;32m    838\u001b[0m \u001b[39mif\u001b[39;00m key \u001b[39m==\u001b[39m \u001b[39m27\u001b[39m:  \n\u001b[0;32m    839\u001b[0m     \u001b[39mbreak\u001b[39;00m\n",
      "\u001b[1;31mKeyboardInterrupt\u001b[0m: "
     ]
    }
   ],
   "source": [
    "visualise_skeleton(new_batch, max_x, max_y, max_frames=FRAMES_GENERATE,save = True,save_path=None,prefix=f'adam_{EPOCHS}_coord_switchhappytosad',train_seed=train_seed,delta=False)"
   ]
  },
  {
   "cell_type": "code",
   "execution_count": 34,
   "metadata": {},
   "outputs": [],
   "source": [
    "happy_to_sad_xb = [new_batch[-16:]]\n",
    "happy_to_sad_xb = torch.tensor(happy_to_sad_xb).to(device).float()\n",
    "\n",
    "\n",
    "generated = m.generate(happy_to_sad_xb, FRAMES_GENERATE)\n",
    "unnorm_out = unnormalise_list_2D(generated, max_x, min_x, max_y, min_y,max_x, min_x, max_y, min_y)\n"
   ]
  },
  {
   "cell_type": "code",
   "execution_count": 35,
   "metadata": {},
   "outputs": [
    {
     "name": "stderr",
     "output_type": "stream",
     "text": [
      "Visualizing frames: 100%|██████████| 300/300 [00:32<00:00,  9.17it/s]\n"
     ]
    }
   ],
   "source": [
    "for new_batch in unnorm_out:\n",
    "\n",
    "    visualise_skeleton(new_batch, max_x, max_y, max_frames=FRAMES_GENERATE,save = True,save_path=None,prefix=f'adam_{EPOCHS}_coord_switchhappytodisgust',train_seed=train_seed,delta=False)"
   ]
  },
  {
   "cell_type": "code",
   "execution_count": 36,
   "metadata": {},
   "outputs": [
    {
     "data": {
      "text/plain": [
       "torch.Size([1, 16, 107])"
      ]
     },
     "execution_count": 36,
     "metadata": {},
     "output_type": "execute_result"
    }
   ],
   "source": [
    "xb.shape"
   ]
  }
 ],
 "metadata": {
  "kernelspec": {
   "display_name": "interactive_dance_thesis",
   "language": "python",
   "name": "python3"
  },
  "language_info": {
   "codemirror_mode": {
    "name": "ipython",
    "version": 3
   },
   "file_extension": ".py",
   "mimetype": "text/x-python",
   "name": "python",
   "nbconvert_exporter": "python",
   "pygments_lexer": "ipython3",
   "version": "3.10.9"
  }
 },
 "nbformat": 4,
 "nbformat_minor": 2
}
