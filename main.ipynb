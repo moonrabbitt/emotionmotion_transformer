{
 "cells": [
  {
   "cell_type": "code",
   "execution_count": 1,
   "metadata": {},
   "outputs": [
    {
     "name": "stdout",
     "output_type": "stream",
     "text": [
      "C:\\Users\\avika\\OneDrive\\Documents\\UAL\\interactive_dance_thesis\n"
     ]
    }
   ],
   "source": [
    "from model import *\n",
    "import pytchat\n"
   ]
  },
  {
   "cell_type": "code",
   "execution_count": 2,
   "metadata": {},
   "outputs": [],
   "source": [
    "# Use a pipeline as a high-level helper\n",
    "from transformers import pipeline\n",
    "\n",
    "pipe = pipeline(\"text-classification\", model=\"michellejieli/emotion_text_classifier\")\n",
    "# Load model directly\n",
    "from transformers import AutoTokenizer, AutoModelForSequenceClassification\n",
    "\n",
    "tokenizer = AutoTokenizer.from_pretrained(\"michellejieli/emotion_text_classifier\")\n",
    "model = AutoModelForSequenceClassification.from_pretrained(\"michellejieli/emotion_text_classifier\")"
   ]
  },
  {
   "cell_type": "code",
   "execution_count": 3,
   "metadata": {},
   "outputs": [
    {
     "name": "stderr",
     "output_type": "stream",
     "text": [
      "100%|██████████| 4102/4102 [00:03<00:00, 1054.20it/s]\n"
     ]
    },
    {
     "name": "stdout",
     "output_type": "stream",
     "text": [
      "Validating interpolation...\n",
      "No errors found!\n"
     ]
    },
    {
     "name": "stderr",
     "output_type": "stream",
     "text": [
      "4102it [00:01, 2416.58it/s]\n",
      "4102it [00:01, 2270.88it/s]\n"
     ]
    },
    {
     "name": "stdout",
     "output_type": "stream",
     "text": [
      "Creating keypoint frames...\n"
     ]
    },
    {
     "name": "stderr",
     "output_type": "stream",
     "text": [
      "100%|██████████| 4102/4102 [00:03<00:00, 1199.06it/s]\n"
     ]
    },
    {
     "name": "stdout",
     "output_type": "stream",
     "text": [
      "Creating keypoint frames...\n"
     ]
    },
    {
     "name": "stderr",
     "output_type": "stream",
     "text": [
      "100%|██████████| 4102/4102 [00:02<00:00, 1832.93it/s]\n"
     ]
    },
    {
     "name": "stdout",
     "output_type": "stream",
     "text": [
      "Validating length of dkp_frames\n",
      "Validating length of kp_frames\n",
      "Adding deltas to frames...\n"
     ]
    },
    {
     "name": "stderr",
     "output_type": "stream",
     "text": [
      "4102it [00:02, 1784.76it/s]\n"
     ]
    },
    {
     "name": "stdout",
     "output_type": "stream",
     "text": [
      "Validating length of data after delta\n",
      "Adding emotions to frames...\n"
     ]
    },
    {
     "name": "stderr",
     "output_type": "stream",
     "text": [
      "100%|██████████| 4102/4102 [00:00<00:00, 34903.89it/s]\n"
     ]
    },
    {
     "name": "stdout",
     "output_type": "stream",
     "text": [
      "Validating length of data after emotions\n",
      "frame_dim: 107\n"
     ]
    }
   ],
   "source": [
    "# Preparing MEED data for model\n",
    "MEED= prep_MEED_data()\n",
    "train_data,val_data,frame_dim,max_x,min_x,max_y,min_y,max_dx,min_dx,max_dy,min_dy = MEED"
   ]
  },
  {
   "cell_type": "code",
   "execution_count": 4,
   "metadata": {},
   "outputs": [],
   "source": [
    "def get_video_by_emotion(data, specific_emotion):\n",
    "    \"\"\"\n",
    "    Retrieve a single video of a specified emotion from the dataset.\n",
    "    \n",
    "    Parameters:\n",
    "    - data (list): The entire dataset, assumed to be a list of videos.\n",
    "    - specific_emotion (str): The emotion label of the desired video.\n",
    "    \n",
    "    Returns:\n",
    "    - list: A single video corresponding to the specified emotion.\n",
    "    \"\"\"\n",
    "    # Convert the specific emotion to its encoding\n",
    "    specific_emotion_tuple = tuple(emotion_to_encoding(specific_emotion))\n",
    "    \n",
    "    # Search the dataset for a video with the specified emotion - return as tensor\n",
    "    for video in data:\n",
    "        if tuple(video[0][-7:]) == specific_emotion_tuple:\n",
    "            return torch.tensor([video]).to(device).float()\n",
    "    \n",
    "    # If no video with the specified emotion is found, return None\n",
    "    return None\n",
    "\n",
    "\n",
    "\n",
    "\n",
    "# Example usage\n",
    "specific_emotion_video = get_video_by_emotion(train_data, \"Anger\")"
   ]
  },
  {
   "cell_type": "code",
   "execution_count": 5,
   "metadata": {},
   "outputs": [],
   "source": [
    "emotion_labels = ['anger', 'disgust', 'fear', 'joy', 'neutral', 'sadness', 'surprise']"
   ]
  },
  {
   "cell_type": "code",
   "execution_count": 23,
   "metadata": {},
   "outputs": [
    {
     "name": "stdout",
     "output_type": "stream",
     "text": [
      "Loading checkpoint...\n",
      "Checkpoint loaded from checkpoints/proto5_checkpoint.pth\n"
     ]
    },
    {
     "name": "stderr",
     "output_type": "stream",
     "text": [
      "Visualizing frames: 100%|██████████| 300/300 [00:32<00:00,  9.18it/s]\n"
     ]
    }
   ],
   "source": [
    "chat = pytchat.create(video_id=\"jfKfPfyJRdk\")\n",
    "\n",
    "# Initialize a dictionary to keep track of cumulative scores and counts for each emotion\n",
    "emotion_data = {emotion: {\"score\": 0.0, \"count\": 0} for emotion in emotion_labels}\n",
    "\n",
    "# List to store average scores indexed by emotions\n",
    "average_scores = [0.0 for _ in emotion_labels]\n",
    "length =0\n",
    "\n",
    "\n",
    "# create model\n",
    "CHECKPOINT_PATH = \"checkpoints/proto5_checkpoint.pth\"\n",
    "\n",
    "m = MotionModel(input_dim=frame_dim, output_dim=frame_dim, blocksize=BLOCK_SIZE, hidden_dim=512, n_layers=8, dropout=DROPOUT)\n",
    "m = m.to(device)\n",
    "optimizer = torch.optim.Adam(m.parameters(), lr=LEARNING_RATE, weight_decay=L2_REG)  # weight_decay=1e-5 L2 regularization\n",
    "m, optimizer,scheduler, epoch, loss, train_seed = load_checkpoint(m, optimizer, CHECKPOINT_PATH)\n",
    "\n",
    "# initial generation always neutral\n",
    "generated = m.generate(specific_emotion_video, FRAMES_GENERATE)\n",
    "unnorm_out = unnormalise_list_2D(generated, max_x, min_x, max_y, min_y,max_x, min_x, max_y, min_y)\n",
    "\n",
    "# visualize\n",
    "visualise_skeleton(unnorm_out[0], max_x, max_y, max_frames=FRAMES_GENERATE,save = False,save_path=None,prefix=f'adam_{EPOCHS}_coord_switchhappytodisgust',train_seed=train_seed,delta=False)\n",
    "\n",
    "\n",
    "# have to normalise the generated data before putting it into the model"
   ]
  },
  {
   "cell_type": "code",
   "execution_count": 40,
   "metadata": {},
   "outputs": [],
   "source": [
    "def normalise_generated(unnorm_out, max_x, min_x, max_y, min_y, max_dx, min_dx, max_dy, min_dy):\n",
    "    norm_out = []\n",
    "    \n",
    "    for frame in unnorm_out:\n",
    "        norm_frame = []\n",
    "        \n",
    "        # Normalize the first 50 values (absolute x and y coordinates)\n",
    "        for i in range(0, 50, 2):\n",
    "            unnormalized_x = frame[i]\n",
    "            unnormalized_y = frame[i+1]\n",
    "            \n",
    "            norm_x = 2 * (unnormalized_x - min_x) / (max_x - min_x) - 1\n",
    "            norm_y = 2 * (unnormalized_y - min_y) / (max_y - min_y) - 1\n",
    "            \n",
    "            norm_frame.extend([norm_x, norm_y])\n",
    "        \n",
    "        # Normalize the second 50 values (x and y deltas)\n",
    "        for i in range(50, 100, 2):\n",
    "            unnormalized_dx = frame[i]\n",
    "            unnormalized_dy = frame[i+1]\n",
    "            \n",
    "            norm_dx = 2 * (unnormalized_dx - min_dx) / (max_dx - min_dx) - 1\n",
    "            norm_dy = 2 * (unnormalized_dy - min_dy) / (max_dy - min_dy) - 1\n",
    "            \n",
    "            norm_frame.extend([norm_dx, norm_dy])\n",
    "        \n",
    "        # Append the emotion encoding without normalizing\n",
    "        norm_frame.extend(frame[-7:])\n",
    "        norm_out.append(norm_frame)\n",
    "        \n",
    "    return norm_out\n"
   ]
  },
  {
   "cell_type": "code",
   "execution_count": 27,
   "metadata": {},
   "outputs": [
    {
     "data": {
      "text/plain": [
       "(16, 107)"
      ]
     },
     "execution_count": 27,
     "metadata": {},
     "output_type": "execute_result"
    }
   ],
   "source": [
    "np.shape(unnorm_out[0][-16:])"
   ]
  },
  {
   "cell_type": "code",
   "execution_count": 41,
   "metadata": {},
   "outputs": [
    {
     "name": "stderr",
     "output_type": "stream",
     "text": [
      "Visualizing frames: 100%|██████████| 300/300 [00:32<00:00,  9.13it/s]\n"
     ]
    }
   ],
   "source": [
    "# testing normalise_generated\n",
    "\n",
    "average_scores= [0.0, 0.0, 0.0, 0.0, 0.9258161187171936, 0.0, 0.0]\n",
    "\n",
    "# Generate a new batch based on the current average scores\n",
    "last_frames = unnorm_out[0][-16:]\n",
    "norm_last_frames = normalise_generated(last_frames, max_x, min_x, max_y, min_y,max_x, min_x, max_y, min_y)\n",
    "new_batch = [frame[:-7] + average_scores for frame in norm_last_frames]\n",
    "new_input = torch.tensor([new_batch]).to(device).float()\n",
    "\n",
    "# Generate the new frames\n",
    "\n",
    "generated = m.generate(new_input, FRAMES_GENERATE)\n",
    "unnorm_out = unnormalise_list_2D(generated, max_x, min_x, max_y, min_y, max_x, min_x, max_y, min_y)\n",
    "\n",
    "# visualize\n",
    "visualise_skeleton(unnorm_out[0], max_x, max_y, max_frames=FRAMES_GENERATE,save = False,save_path=None,prefix=f'adam_{EPOCHS}_coord_switchhappytodisgust',train_seed=train_seed,delta=False)\n"
   ]
  },
  {
   "cell_type": "code",
   "execution_count": 46,
   "metadata": {},
   "outputs": [
    {
     "name": "stdout",
     "output_type": "stream",
     "text": [
      "3.91 s ± 24.5 ms per loop (mean ± std. dev. of 7 runs, 1 loop each)\n"
     ]
    }
   ],
   "source": [
    "%%timeit\n",
    "\n",
    "generated = m.generate(new_input, FRAMES_GENERATE)"
   ]
  },
  {
   "cell_type": "code",
   "execution_count": 43,
   "metadata": {},
   "outputs": [],
   "source": [
    "import threading\n",
    "import queue\n",
    "import time"
   ]
  },
  {
   "cell_type": "code",
   "execution_count": 48,
   "metadata": {},
   "outputs": [
    {
     "name": "stdout",
     "output_type": "stream",
     "text": [
      "2023-10-19 21:42:23 [Moon Rabbit]- I really hate you you know that\n",
      "[{'label': 'disgust', 'score': 0.49187198281288147}]\n",
      "Average scores: [0.5959455711500985, 0.4970051467418671, 0.0, 0.8157621166922829, 0.8821436061213414, 0.8616082146763802, 0.6938560158014297]\n"
     ]
    },
    {
     "name": "stderr",
     "output_type": "stream",
     "text": [
      "Visualizing frames:  31%|███       | 31/100 [00:03<00:07,  9.25it/s]"
     ]
    },
    {
     "name": "stdout",
     "output_type": "stream",
     "text": [
      "2023-10-19 21:42:29 [Moon Rabbit]- you suck so much as a person\n",
      "[{'label': 'joy', 'score': 0.9237198829650879}]\n",
      "Average scores: [0.5959455711500985, 0.4970051467418671, 0.0, 0.8176899339471545, 0.8821436061213414, 0.8616082146763802, 0.6938560158014297]\n"
     ]
    },
    {
     "name": "stderr",
     "output_type": "stream",
     "text": [
      "Visualizing frames:  84%|████████▍ | 84/100 [00:09<00:01,  9.21it/s]"
     ]
    },
    {
     "name": "stdout",
     "output_type": "stream",
     "text": [
      "2023-10-19 21:42:34 [Moon Rabbit]- I hope you go to hell\n",
      "[{'label': 'disgust', 'score': 0.5716186165809631}]\n",
      "Average scores: [0.5959455711500985, 0.5094407250483831, 0.0, 0.8176899339471545, 0.8821436061213414, 0.8616082146763802, 0.6938560158014297]\n"
     ]
    },
    {
     "name": "stderr",
     "output_type": "stream",
     "text": [
      "Visualizing frames: 100%|██████████| 100/100 [00:10<00:00,  9.22it/s]\n",
      "Visualizing frames: 100%|██████████| 100/100 [00:10<00:00,  9.22it/s]\n",
      "Visualizing frames: 100%|██████████| 100/100 [00:10<00:00,  9.23it/s]\n"
     ]
    },
    {
     "name": "stdout",
     "output_type": "stream",
     "text": [
      "2023-10-19 21:43:48 [Moon Rabbit]- I really hate you you know that\n",
      "[{'label': 'disgust', 'score': 0.49187198281288147}]\n",
      "Average scores: [0.5959455711500985, 0.5069309047290257, 0.0, 0.8176899339471545, 0.8821436061213414, 0.8616082146763802, 0.6938560158014297]\n"
     ]
    },
    {
     "name": "stderr",
     "output_type": "stream",
     "text": [
      "Visualizing frames:  12%|█▏        | 12/100 [00:01<00:09,  9.26it/s]"
     ]
    },
    {
     "name": "stdout",
     "output_type": "stream",
     "text": [
      "2023-10-19 21:43:53 [Moon Rabbit]- I hope you go to hell\n",
      "[{'label': 'disgust', 'score': 0.5716186165809631}]\n",
      "Average scores: [0.5959455711500985, 0.5150168687105179, 0.0, 0.8176899339471545, 0.8821436061213414, 0.8616082146763802, 0.6938560158014297]\n"
     ]
    },
    {
     "name": "stderr",
     "output_type": "stream",
     "text": [
      "Visualizing frames:  65%|██████▌   | 65/100 [00:07<00:03,  9.29it/s]"
     ]
    },
    {
     "name": "stdout",
     "output_type": "stream",
     "text": [
      "2023-10-19 21:43:59 [Moon Rabbit]- I think that you're terrible\n",
      "[{'label': 'sadness', 'score': 0.7218468189239502}]\n",
      "Average scores: [0.5959455711500985, 0.5150168687105179, 0.0, 0.8176899339471545, 0.8821436061213414, 0.8460791707038879, 0.6938560158014297]\n"
     ]
    },
    {
     "name": "stderr",
     "output_type": "stream",
     "text": [
      "Visualizing frames: 100%|██████████| 100/100 [00:11<00:00,  8.79it/s]\n",
      "Visualizing frames:   7%|▋         | 7/100 [00:00<00:10,  9.26it/s]"
     ]
    },
    {
     "name": "stdout",
     "output_type": "stream",
     "text": [
      "2023-10-19 21:44:03 [Moon Rabbit]- this video is terrible\n",
      "[{'label': 'sadness', 'score': 0.6937482357025146}]\n",
      "Average scores: [0.5959455711500985, 0.5150168687105179, 0.0, 0.8176899339471545, 0.8821436061213414, 0.8308460772037506, 0.6938560158014297]\n"
     ]
    },
    {
     "name": "stderr",
     "output_type": "stream",
     "text": [
      "Visualizing frames: 100%|██████████| 100/100 [00:10<00:00,  9.24it/s]\n",
      "Visualizing frames:  18%|█▊        | 18/100 [00:01<00:08,  9.16it/s]"
     ]
    },
    {
     "name": "stdout",
     "output_type": "stream",
     "text": [
      "2023-10-19 21:44:15 [Moon Rabbit]- this broadcast loop is very slow......\n",
      "[{'label': 'neutral', 'score': 0.9417462944984436}]\n",
      "Average scores: [0.5959455711500985, 0.5150168687105179, 0.0, 0.8176899339471545, 0.8823909201809974, 0.8308460772037506, 0.6938560158014297]\n"
     ]
    },
    {
     "name": "stderr",
     "output_type": "stream",
     "text": [
      "Visualizing frames: 100%|██████████| 100/100 [00:10<00:00,  9.23it/s]\n",
      "Visualizing frames:  21%|██        | 21/100 [00:02<00:08,  9.26it/s]"
     ]
    },
    {
     "name": "stdout",
     "output_type": "stream",
     "text": [
      "2023-10-19 21:44:27 [Moon Rabbit]- I am very happy\n",
      "[{'label': 'joy', 'score': 0.9885468482971191}]\n",
      "Average scores: [0.5959455711500985, 0.5150168687105179, 0.0, 0.8206874236725924, 0.8823909201809974, 0.8308460772037506, 0.6938560158014297]\n"
     ]
    },
    {
     "name": "stderr",
     "output_type": "stream",
     "text": [
      "Visualizing frames:  55%|█████▌    | 55/100 [00:05<00:04,  9.21it/s]"
     ]
    },
    {
     "name": "stdout",
     "output_type": "stream",
     "text": [
      "2023-10-19 21:44:30 [Moon Rabbit]- you are very happy\n",
      "[{'label': 'joy', 'score': 0.9448604583740234}]\n",
      "Average scores: [0.5959455711500985, 0.5150168687105179, 0.0, 0.8228283380639965, 0.8823909201809974, 0.8308460772037506, 0.6938560158014297]\n"
     ]
    },
    {
     "name": "stderr",
     "output_type": "stream",
     "text": [
      "Visualizing frames: 100%|██████████| 100/100 [00:10<00:00,  9.22it/s]\n",
      "Visualizing frames:  57%|█████▋    | 57/100 [00:06<00:04,  9.25it/s]"
     ]
    },
    {
     "name": "stdout",
     "output_type": "stream",
     "text": [
      "2023-10-19 21:44:41 [Moon Rabbit]- I think that you're great\n",
      "[{'label': 'joy', 'score': 0.9805246591567993}]\n",
      "Average scores: [0.5959455711500985, 0.5150168687105179, 0.0, 0.8255011570655694, 0.8823909201809974, 0.8308460772037506, 0.6938560158014297]\n"
     ]
    },
    {
     "name": "stderr",
     "output_type": "stream",
     "text": [
      "Visualizing frames:  81%|████████  | 81/100 [00:08<00:02,  9.27it/s]"
     ]
    },
    {
     "name": "stdout",
     "output_type": "stream",
     "text": [
      "2023-10-19 21:44:43 [Moon Rabbit]- YAYYYYY\n",
      "[{'label': 'joy', 'score': 0.8759798407554626}]\n",
      "Average scores: [0.5959455711500985, 0.5150168687105179, 0.0, 0.8263424684604009, 0.8823909201809974, 0.8308460772037506, 0.6938560158014297]\n"
     ]
    },
    {
     "name": "stderr",
     "output_type": "stream",
     "text": [
      "Visualizing frames: 100%|██████████| 100/100 [00:10<00:00,  9.25it/s]\n",
      "Visualizing frames:  73%|███████▎  | 73/100 [00:07<00:02,  9.28it/s]"
     ]
    },
    {
     "name": "stdout",
     "output_type": "stream",
     "text": [
      "2023-10-19 21:44:54 [Moon Rabbit]- I hope you're doing well I'm very happy\n",
      "[{'label': 'joy', 'score': 0.9717280864715576}]\n",
      "Average scores: [0.5959455711500985, 0.5150168687105179, 0.0, 0.828725839247469, 0.8823909201809974, 0.8308460772037506, 0.6938560158014297]\n"
     ]
    },
    {
     "name": "stderr",
     "output_type": "stream",
     "text": [
      "Visualizing frames: 100%|██████████| 100/100 [00:10<00:00,  9.25it/s]\n",
      "Visualizing frames:  95%|█████████▌| 95/100 [00:10<00:00,  9.20it/s]"
     ]
    },
    {
     "name": "stdout",
     "output_type": "stream",
     "text": [
      "2023-10-19 21:45:07 [Moon Rabbit]- omg this broadcast loop is verrrry slowwwww\n",
      "[{'label': 'joy', 'score': 0.6307977437973022}]\n",
      "Average scores: [0.5959455711500985, 0.5150168687105179, 0.0, 0.825533450611176, 0.8823909201809974, 0.8308460772037506, 0.6938560158014297]\n"
     ]
    },
    {
     "name": "stderr",
     "output_type": "stream",
     "text": [
      "Visualizing frames: 100%|██████████| 100/100 [00:10<00:00,  9.24it/s]\n",
      "Visualizing frames:  98%|█████████▊| 98/100 [00:10<00:00,  9.22it/s]"
     ]
    },
    {
     "name": "stdout",
     "output_type": "stream",
     "text": [
      "2023-10-19 21:45:18 [Moon Rabbit]- happy, yayyy, get happier please\n",
      "[{'label': 'joy', 'score': 0.6702018976211548}]\n",
      "Average scores: [0.5959455711500985, 0.5150168687105179, 0.0, 0.8230678704049852, 0.8823909201809974, 0.8308460772037506, 0.6938560158014297]\n"
     ]
    },
    {
     "name": "stderr",
     "output_type": "stream",
     "text": [
      "Visualizing frames: 100%|██████████| 100/100 [00:10<00:00,  9.24it/s]\n",
      "Visualizing frames:  53%|█████▎    | 53/100 [00:05<00:05,  9.33it/s]"
     ]
    },
    {
     "name": "stdout",
     "output_type": "stream",
     "text": [
      "2023-10-19 21:45:24 [Moon Rabbit]- HAPPYYYYY COME ONNNNN\n",
      "[{'label': 'joy', 'score': 0.5969468355178833}]\n",
      "Average scores: [0.5959455711500985, 0.5150168687105179, 0.0, 0.8195347292348742, 0.8823909201809974, 0.8308460772037506, 0.6938560158014297]\n"
     ]
    },
    {
     "name": "stderr",
     "output_type": "stream",
     "text": [
      "Visualizing frames: 100%|██████████| 100/100 [00:10<00:00,  9.25it/s]\n",
      "Visualizing frames:  96%|█████████▌| 96/100 [00:10<00:00,  9.30it/s]"
     ]
    },
    {
     "name": "stdout",
     "output_type": "stream",
     "text": [
      "2023-10-19 21:45:40 [Moon Rabbit]- why are you not happy yet jesus\n",
      "[{'label': 'neutral', 'score': 0.6848568916320801}]\n",
      "Average scores: [0.5959455711500985, 0.5150168687105179, 0.0, 0.8195347292348742, 0.8815746638646795, 0.8308460772037506, 0.6938560158014297]\n"
     ]
    },
    {
     "name": "stderr",
     "output_type": "stream",
     "text": [
      "Visualizing frames: 100%|██████████| 100/100 [00:10<00:00,  9.25it/s]\n",
      "Visualizing frames: 100%|██████████| 100/100 [00:10<00:00,  9.22it/s]\n",
      "Visualizing frames:  57%|█████▋    | 57/100 [00:06<00:04,  9.30it/s]"
     ]
    },
    {
     "name": "stdout",
     "output_type": "stream",
     "text": [
      "2023-10-19 21:45:57 [Moon Rabbit]- I love earth\n",
      "[{'label': 'joy', 'score': 0.9143938422203064}]\n",
      "Average scores: [0.5959455711500985, 0.5150168687105179, 0.0, 0.8209941002038809, 0.8815746638646795, 0.8308460772037506, 0.6938560158014297]\n"
     ]
    },
    {
     "name": "stderr",
     "output_type": "stream",
     "text": [
      "Visualizing frames: 100%|██████████| 100/100 [00:10<00:00,  9.24it/s]\n",
      "Visualizing frames:  51%|█████     | 51/100 [00:05<00:05,  9.21it/s]"
     ]
    },
    {
     "name": "stdout",
     "output_type": "stream",
     "text": [
      "2023-10-19 21:46:07 [Moon Rabbit]- i love earth\n",
      "[{'label': 'joy', 'score': 0.7692592740058899}]\n",
      "Average scores: [0.5959455711500985, 0.5150168687105179, 0.0, 0.820210239200881, 0.8815746638646795, 0.8308460772037506, 0.6938560158014297]\n"
     ]
    },
    {
     "name": "stderr",
     "output_type": "stream",
     "text": [
      "Visualizing frames:  76%|███████▌  | 76/100 [00:08<00:02,  9.18it/s]"
     ]
    },
    {
     "name": "stdout",
     "output_type": "stream",
     "text": [
      "2023-10-19 21:46:08 [Moon Rabbit]- i love earth\n",
      "[{'label': 'joy', 'score': 0.7692592740058899}]\n",
      "Average scores: [0.5959455711500985, 0.5150168687105179, 0.0, 0.8194497770337916, 0.8815746638646795, 0.8308460772037506, 0.6938560158014297]\n"
     ]
    },
    {
     "name": "stderr",
     "output_type": "stream",
     "text": [
      "Visualizing frames: 100%|██████████| 100/100 [00:11<00:00,  8.81it/s]\n",
      "Visualizing frames: 100%|██████████| 100/100 [00:10<00:00,  9.21it/s]\n",
      "Visualizing frames: 100%|██████████| 100/100 [00:10<00:00,  9.23it/s]\n",
      "Visualizing frames: 100%|██████████| 100/100 [00:10<00:00,  9.24it/s]\n",
      "Visualizing frames: 100%|██████████| 100/100 [00:10<00:00,  9.24it/s]\n"
     ]
    },
    {
     "name": "stdout",
     "output_type": "stream",
     "text": [
      "2023-10-19 21:47:06 [Moon Rabbit]- it's not very happy is it\n",
      "[{'label': 'sadness', 'score': 0.9873784184455872}]\n",
      "Average scores: [0.5959455711500985, 0.5150168687105179, 0.0, 0.8194497770337916, 0.8815746638646795, 0.8450762900439176, 0.6938560158014297]\n"
     ]
    },
    {
     "name": "stderr",
     "output_type": "stream",
     "text": [
      "Visualizing frames:  11%|█         | 11/100 [00:01<00:09,  9.16it/s]"
     ]
    },
    {
     "name": "stdout",
     "output_type": "stream",
     "text": [
      "2023-10-19 21:47:10 [Moon Rabbit]- happy\n",
      "[{'label': 'joy', 'score': 0.9400689005851746}]\n",
      "Average scores: [0.5959455711500985, 0.5150168687105179, 0.0, 0.8212235876742531, 0.8815746638646795, 0.8450762900439176, 0.6938560158014297]\n"
     ]
    },
    {
     "name": "stderr",
     "output_type": "stream",
     "text": [
      "Visualizing frames:  35%|███▌      | 35/100 [00:03<00:07,  9.24it/s]"
     ]
    },
    {
     "name": "stdout",
     "output_type": "stream",
     "text": [
      "2023-10-19 21:47:13 [Moon Rabbit]- happy happy\n",
      "[{'label': 'joy', 'score': 0.9685095548629761}]\n",
      "Average scores: [0.5959455711500985, 0.5150168687105179, 0.0, 0.8233581669088723, 0.8815746638646795, 0.8450762900439176, 0.6938560158014297]\n"
     ]
    },
    {
     "name": "stderr",
     "output_type": "stream",
     "text": [
      "Visualizing frames:  59%|█████▉    | 59/100 [00:06<00:04,  9.18it/s]"
     ]
    },
    {
     "name": "stdout",
     "output_type": "stream",
     "text": [
      "2023-10-19 21:47:14 [Moon Rabbit]- happy\n",
      "[{'label': 'joy', 'score': 0.9400689005851746}]\n",
      "Average scores: [0.5959455711500985, 0.5150168687105179, 0.0, 0.8250254631042481, 0.8815746638646795, 0.8450762900439176, 0.6938560158014297]\n"
     ]
    },
    {
     "name": "stderr",
     "output_type": "stream",
     "text": [
      "Visualizing frames: 100%|██████████| 100/100 [00:10<00:00,  9.21it/s]\n",
      "Visualizing frames: 100%|██████████| 100/100 [00:10<00:00,  9.23it/s]\n",
      "Visualizing frames:  75%|███████▌  | 75/100 [00:08<00:02,  9.25it/s]"
     ]
    },
    {
     "name": "stdout",
     "output_type": "stream",
     "text": [
      "2023-10-19 21:47:16 [Moon Rabbit]- happy\n",
      "[{'label': 'joy', 'score': 0.9400689005851746}]\n",
      "Average scores: [0.5959455711500985, 0.5150168687105179, 0.0, 0.8266457932096132, 0.8815746638646795, 0.8450762900439176, 0.6938560158014297]\n"
     ]
    },
    {
     "name": "stderr",
     "output_type": "stream",
     "text": [
      "Visualizing frames: 100%|██████████| 100/100 [00:10<00:00,  9.22it/s]\n",
      "Visualizing frames: 100%|██████████| 100/100 [00:10<00:00,  9.22it/s]\n",
      "Visualizing frames:  94%|█████████▍| 94/100 [00:10<00:00,  9.20it/s]"
     ]
    },
    {
     "name": "stdout",
     "output_type": "stream",
     "text": [
      "2023-10-19 21:47:17 [Moon Rabbit]- happy\n",
      "[{'label': 'joy', 'score': 0.9400689005851746}]\n",
      "Average scores: [0.5959455711500985, 0.5150168687105179, 0.0, 0.8282211141453849, 0.8815746638646795, 0.8450762900439176, 0.6938560158014297]\n"
     ]
    },
    {
     "name": "stderr",
     "output_type": "stream",
     "text": [
      "Visualizing frames: 100%|██████████| 100/100 [00:10<00:00,  9.21it/s]\n",
      "Visualizing frames: 100%|██████████| 100/100 [00:10<00:00,  9.23it/s]\n"
     ]
    },
    {
     "name": "stdout",
     "output_type": "stream",
     "text": [
      "2023-10-19 21:47:18 [Moon Rabbit]- happy\n",
      "[{'label': 'joy', 'score': 0.9400689005851746}]\n",
      "Average scores: [0.5959455711500985, 0.5150168687105179, 0.0, 0.8297532756034642, 0.8815746638646795, 0.8450762900439176, 0.6938560158014297]\n"
     ]
    },
    {
     "name": "stderr",
     "output_type": "stream",
     "text": [
      "Visualizing frames:  66%|██████▌   | 66/100 [00:07<00:03,  9.27it/s]"
     ]
    },
    {
     "name": "stdout",
     "output_type": "stream",
     "text": [
      "2023-10-19 21:47:19 [Moon Rabbit]- happy\n",
      "[{'label': 'joy', 'score': 0.9400689005851746}]\n",
      "Average scores: [0.5959455711500985, 0.5150168687105179, 0.0, 0.8312440272924062, 0.8815746638646795, 0.8450762900439176, 0.6938560158014297]\n"
     ]
    },
    {
     "name": "stderr",
     "output_type": "stream",
     "text": [
      "Visualizing frames: 100%|██████████| 100/100 [00:10<00:00,  9.22it/s]\n",
      "Visualizing frames:  51%|█████     | 51/100 [00:05<00:05,  9.23it/s]"
     ]
    },
    {
     "name": "stdout",
     "output_type": "stream",
     "text": [
      "2023-10-19 21:47:21 [Moon Rabbit]- happy\n",
      "[{'label': 'joy', 'score': 0.9400689005851746}]\n",
      "Average scores: [0.5959455711500985, 0.5150168687105179, 0.0, 0.8326950256029765, 0.8815746638646795, 0.8450762900439176, 0.6938560158014297]\n"
     ]
    },
    {
     "name": "stderr",
     "output_type": "stream",
     "text": [
      "Visualizing frames: 100%|██████████| 100/100 [00:10<00:00,  9.25it/s]\n",
      "Visualizing frames:  39%|███▉      | 39/100 [00:04<00:06,  9.23it/s]"
     ]
    },
    {
     "name": "stdout",
     "output_type": "stream",
     "text": [
      "2023-10-19 21:47:21 [Moon Rabbit]- happy\n",
      "[{'label': 'joy', 'score': 0.9400689005851746}]\n",
      "Average scores: [0.5959455711500985, 0.5150168687105179, 0.0, 0.834107839747479, 0.8815746638646795, 0.8450762900439176, 0.6938560158014297]\n"
     ]
    },
    {
     "name": "stderr",
     "output_type": "stream",
     "text": [
      "Visualizing frames: 100%|██████████| 100/100 [00:10<00:00,  9.23it/s]\n",
      "Visualizing frames:  26%|██▌       | 26/100 [00:02<00:07,  9.31it/s]"
     ]
    },
    {
     "name": "stdout",
     "output_type": "stream",
     "text": [
      "2023-10-19 21:47:53 [Moon Rabbit]- happy happy happy happy happy happy happy happy happy\n",
      "[{'label': 'joy', 'score': 0.9782267212867737}]\n",
      "Average scores: [0.5959455711500985, 0.5150168687105179, 0.0, 0.8359795135337037, 0.8815746638646795, 0.8450762900439176, 0.6938560158014297]\n"
     ]
    },
    {
     "name": "stderr",
     "output_type": "stream",
     "text": [
      "Visualizing frames: 100%|██████████| 100/100 [00:10<00:00,  9.24it/s]\n",
      "Visualizing frames: 100%|██████████| 100/100 [00:10<00:00,  9.23it/s]\n"
     ]
    }
   ],
   "source": [
    "chat = pytchat.create(video_id=\"6v3j-BGsYDg\")\n",
    "FRAMES_GENERATE = 100\n",
    "shared_data = {\n",
    "    'average_scores': [0] * len(emotion_labels)\n",
    "}\n",
    "\n",
    "def generate_new_batch():\n",
    "    # prep new input from chat emotion average scores and last 16 frames of generated\n",
    "    last_frames = unnorm_out[0][-16:]\n",
    "    new_batch = [frame[:-7] + average_scores for frame in unnorm_out[0][-16:]]\n",
    "    new_batch = torch.tensor(new_batch).to(device).float()\n",
    "\n",
    "    # generate new frames\n",
    "    generated = m.generate(new_batch, FRAMES_GENERATE)\n",
    "    return unnormalise_list_2D(generated, max_x, min_x, max_y, min_y, max_x, min_x, max_y, min_y)\n",
    "\n",
    "def visualize(unnorm_out):\n",
    "    # visualize\n",
    "    visualise_skeleton(unnorm_out[0], max_x, max_y, max_frames=FRAMES_GENERATE, save=False, save_path=None, prefix=f'adam_{EPOCHS}_coord_switchhappytodisgust', train_seed=train_seed, delta=False)\n",
    "\n",
    "\n",
    "# This queue will hold the batches ready for visualization\n",
    "viz_queue = queue.Queue()\n",
    "\n",
    "def visualize_batches():\n",
    "    while True:\n",
    "        # Wait for a new batch to be available in the queue\n",
    "        unnorm_out = viz_queue.get()\n",
    "        \n",
    "        # Visualize the batch\n",
    "        visualize(unnorm_out)\n",
    "        \n",
    "\n",
    "\n",
    "def generate_batches_periodically(period=10):\n",
    "    while True:\n",
    "        # Wait for the specified period\n",
    "        time.sleep(period)\n",
    "        \n",
    "        # Generate a new batch based on the current average scores\n",
    "        last_frames = unnorm_out[0][-16:]\n",
    "        norm_last_frames = normalise_generated(last_frames, max_x, min_x, max_y, min_y, max_x, min_x, max_y, min_y)\n",
    "        new_batch = [frame[:-7] + average_scores for frame in norm_last_frames]\n",
    "        new_input = torch.tensor([new_batch]).to(device).float()\n",
    "\n",
    "        # Generate the new frames\n",
    "        generated = m.generate(new_input, FRAMES_GENERATE)\n",
    "        unnorm_out = unnormalise_list_2D(generated, max_x, min_x, max_y, min_y, max_x, min_x, max_y, min_y)\n",
    "\n",
    "        # Put the batch in the visualization queue\n",
    "        viz_queue.put(unnorm_out)\n",
    "\n",
    "# Start the periodic batch generation thread\n",
    "threading.Thread(target=generate_batches_periodically, args=(10,), daemon=True).start()\n",
    "\n",
    "\n",
    "# Start the visualization thread\n",
    "threading.Thread(target=visualize_batches, daemon=True).start()\n",
    "\n",
    "\n",
    "# issue is if chat isnt active this wont move much\n",
    "while chat.is_alive():\n",
    "    for c in chat.get().sync_items():\n",
    "        print(f\"{c.datetime} [{c.author.name}]- {c.message}\")\n",
    "        result = pipe(c.message)  # Assuming pipe() returns emotion prediction\n",
    "        print(result)\n",
    "        \n",
    "        # Update emotion data with new score and count\n",
    "        emotion = result[0]['label']\n",
    "        score = result[0]['score']\n",
    "        emotion_data[emotion][\"score\"] += score\n",
    "        emotion_data[emotion][\"count\"] += 1\n",
    "        \n",
    "        # Compute average scores for each emotion\n",
    "        for i, emotion in enumerate(emotion_labels):\n",
    "            if emotion_data[emotion][\"count\"] > 0:\n",
    "                average_scores[i] = emotion_data[emotion][\"score\"] / emotion_data[emotion][\"count\"]\n",
    "        \n",
    "        # Print average scores (can also store them elsewhere if needed)\n",
    "        print(\"Average scores:\", average_scores)\n",
    "        length  +=1\n",
    "        \n",
    "        if length % 1 == 0:\n",
    "            # Generate a new batch based on the current average scores\n",
    "            last_frames = unnorm_out[0][-16:]\n",
    "            norm_last_frames = normalise_generated(last_frames, max_x, min_x, max_y, min_y,max_x, min_x, max_y, min_y)\n",
    "            new_batch = [frame[:-7] + average_scores for frame in norm_last_frames]\n",
    "            new_input = torch.tensor([new_batch]).to(device).float()\n",
    "\n",
    "\n",
    "            # Generate the new frames\n",
    "            generated = m.generate(new_input, FRAMES_GENERATE)\n",
    "            unnorm_out = unnormalise_list_2D(generated, max_x, min_x, max_y, min_y, max_x, min_x, max_y, min_y)\n",
    "\n",
    "            # Put the batch in the visualization queue\n",
    "            viz_queue.put(unnorm_out)\n",
    "\n"
   ]
  },
  {
   "cell_type": "code",
   "execution_count": 49,
   "metadata": {},
   "outputs": [
    {
     "name": "stderr",
     "output_type": "stream",
     "text": [
      "Visualizing frames: 100%|██████████| 100/100 [00:10<00:00,  9.23it/s]\n",
      "Visualizing frames: 100%|██████████| 100/100 [00:10<00:00,  9.24it/s]\n",
      "Visualizing frames: 100%|██████████| 100/100 [00:10<00:00,  9.23it/s]\n"
     ]
    },
    {
     "name": "stderr",
     "output_type": "stream",
     "text": [
      "Visualizing frames:   0%|          | 0/100 [00:00<?, ?it/s]"
     ]
    }
   ],
   "source": [
    "import time\n",
    "import threading\n",
    "\n",
    "# Initial setup\n",
    "shared_data = {\n",
    "    'average_scores': [0] * len(emotion_labels)\n",
    "}\n",
    "\n",
    "chat = pytchat.create(video_id=\"6v3j-BGsYDg\")\n",
    "FRAMES_GENERATE = 100\n",
    "\n",
    "# Emotion processing function\n",
    "def process_chat_message(c):\n",
    "    \"\"\"Process a chat message and update emotion scores.\"\"\"\n",
    "    print(f\"{c.datetime} [{c.author.name}]- {c.message}\")\n",
    "    result = pipe(c.message)  # Assuming pipe() returns emotion prediction\n",
    "    print(result)\n",
    "\n",
    "    emotion = result[0]['label']\n",
    "    score = result[0]['score']\n",
    "    emotion_data[emotion][\"score\"] += score\n",
    "    emotion_data[emotion][\"count\"] += 1\n",
    "\n",
    "    # Update average scores\n",
    "    for i, emotion in enumerate(emotion_labels):\n",
    "        if emotion_data[emotion][\"count\"] > 0:\n",
    "            shared_data['average_scores'][i] = emotion_data[emotion][\"score\"] / emotion_data[emotion][\"count\"]\n",
    "\n",
    "    print(\"Average scores:\", shared_data['average_scores'])\n",
    "\n",
    "# Batch generation function\n",
    "def generate_new_batch():\n",
    "    \"\"\"Generate a new batch based on the current average scores.\"\"\"\n",
    "    last_frames = unnorm_out[0][-16:]\n",
    "    norm_last_frames = normalise_generated(last_frames, max_x, min_x, max_y, min_y, max_x, min_x, max_y, min_y)\n",
    "    new_batch = [frame[:-7] + shared_data['average_scores'] for frame in norm_last_frames]\n",
    "    new_input = torch.tensor([new_batch]).to(device).float()\n",
    "\n",
    "    # Generate the new frames\n",
    "    generated = m.generate(new_input, FRAMES_GENERATE)\n",
    "    return unnormalise_list_2D(generated, max_x, min_x, max_y, min_y, max_x, min_x, max_y, min_y)\n",
    "\n",
    "# Periodic batch generation function\n",
    "def generate_batches_periodically(period=10):\n",
    "    \"\"\"Periodically generate batches and put them in the visualization queue.\"\"\"\n",
    "    while True:\n",
    "        time.sleep(period)\n",
    "        unnorm_out = generate_new_batch()\n",
    "        viz_queue.put(unnorm_out)\n",
    "\n",
    "# Visualization thread\n",
    "def visualize_batches():\n",
    "    while True:\n",
    "        # Wait for a new batch to be available in the queue\n",
    "        unnorm_out = viz_queue.get()\n",
    "        \n",
    "        # Visualize the batch\n",
    "        visualize(unnorm_out)\n",
    "\n",
    "# Start the threads\n",
    "threading.Thread(target=visualize_batches, daemon=True).start()\n",
    "threading.Thread(target=generate_batches_periodically, args=(10,), daemon=True).start()\n",
    "\n",
    "# Process chat messages\n",
    "length = 0\n",
    "while chat.is_alive():\n",
    "    for c in chat.get().sync_items():\n",
    "        process_chat_message(c)\n",
    "        length += 1\n"
   ]
  },
  {
   "cell_type": "code",
   "execution_count": 7,
   "metadata": {},
   "outputs": [
    {
     "name": "stdout",
     "output_type": "stream",
     "text": [
      "2023-10-19 18:55:18 [ Ar. Sharma~]- :cigarette:\n",
      "[{'label': 'neutral', 'score': 0.9502205848693848}]\n",
      "Average scores: [0.0, 0.0, 0.0, 0.0, 0.9502205848693848, 0.0, 0.0]\n",
      "2023-10-19 18:55:18 [Michael Terry Wilson]- Best wishes and love to everyone.\n",
      "[{'label': 'neutral', 'score': 0.682776689529419}]\n",
      "Average scores: [0.0, 0.0, 0.0, 0.0, 0.8164986371994019, 0.0, 0.0]\n"
     ]
    },
    {
     "ename": "KeyboardInterrupt",
     "evalue": "",
     "output_type": "error",
     "traceback": [
      "\u001b[1;31m---------------------------------------------------------------------------\u001b[0m",
      "\u001b[1;31mKeyboardInterrupt\u001b[0m                         Traceback (most recent call last)",
      "\u001b[1;32mc:\\Users\\avika\\OneDrive\\Documents\\UAL\\interactive_dance_thesis\\main.ipynb Cell 7\u001b[0m line \u001b[0;36m2\n\u001b[0;32m      <a href='vscode-notebook-cell:/c%3A/Users/avika/OneDrive/Documents/UAL/interactive_dance_thesis/main.ipynb#Y353sZmlsZQ%3D%3D?line=0'>1</a>\u001b[0m \u001b[39mwhile\u001b[39;00m chat\u001b[39m.\u001b[39mis_alive():\n\u001b[1;32m----> <a href='vscode-notebook-cell:/c%3A/Users/avika/OneDrive/Documents/UAL/interactive_dance_thesis/main.ipynb#Y353sZmlsZQ%3D%3D?line=1'>2</a>\u001b[0m     \u001b[39mfor\u001b[39;00m c \u001b[39min\u001b[39;00m chat\u001b[39m.\u001b[39mget()\u001b[39m.\u001b[39msync_items():\n\u001b[0;32m      <a href='vscode-notebook-cell:/c%3A/Users/avika/OneDrive/Documents/UAL/interactive_dance_thesis/main.ipynb#Y353sZmlsZQ%3D%3D?line=2'>3</a>\u001b[0m         \u001b[39mprint\u001b[39m(\u001b[39mf\u001b[39m\u001b[39m\"\u001b[39m\u001b[39m{\u001b[39;00mc\u001b[39m.\u001b[39mdatetime\u001b[39m}\u001b[39;00m\u001b[39m [\u001b[39m\u001b[39m{\u001b[39;00mc\u001b[39m.\u001b[39mauthor\u001b[39m.\u001b[39mname\u001b[39m}\u001b[39;00m\u001b[39m]- \u001b[39m\u001b[39m{\u001b[39;00mc\u001b[39m.\u001b[39mmessage\u001b[39m}\u001b[39;00m\u001b[39m\"\u001b[39m)\n\u001b[0;32m      <a href='vscode-notebook-cell:/c%3A/Users/avika/OneDrive/Documents/UAL/interactive_dance_thesis/main.ipynb#Y353sZmlsZQ%3D%3D?line=3'>4</a>\u001b[0m         result \u001b[39m=\u001b[39m pipe(c\u001b[39m.\u001b[39mmessage)  \u001b[39m# Assuming pipe() returns emotion prediction\u001b[39;00m\n",
      "File \u001b[1;32mc:\\Users\\avika\\anaconda3\\envs\\interactive_dance_thesis\\lib\\site-packages\\pytchat\\processors\\default\\processor.py:89\u001b[0m, in \u001b[0;36mChatdata.sync_items\u001b[1;34m(self)\u001b[0m\n\u001b[0;32m     87\u001b[0m         \u001b[39mif\u001b[39;00m wait_sec \u001b[39m<\u001b[39m \u001b[39m0\u001b[39m:\n\u001b[0;32m     88\u001b[0m             wait_sec \u001b[39m=\u001b[39m \u001b[39m0\u001b[39m\n\u001b[1;32m---> 89\u001b[0m         time\u001b[39m.\u001b[39;49msleep(wait_sec)\n\u001b[0;32m     90\u001b[0m         \u001b[39myield\u001b[39;00m c\n\u001b[0;32m     91\u001b[0m stop_interval \u001b[39m=\u001b[39m time\u001b[39m.\u001b[39mtime() \u001b[39m-\u001b[39m starttime\n",
      "\u001b[1;31mKeyboardInterrupt\u001b[0m: "
     ]
    }
   ],
   "source": [
    "\n",
    "while chat.is_alive():\n",
    "    for c in chat.get().sync_items():\n",
    "        print(f\"{c.datetime} [{c.author.name}]- {c.message}\")\n",
    "        result = pipe(c.message)  # Assuming pipe() returns emotion prediction\n",
    "        print(result)\n",
    "        \n",
    "        # Update emotion data with new score and count\n",
    "        emotion = result[0]['label']\n",
    "        score = result[0]['score']\n",
    "        emotion_data[emotion][\"score\"] += score\n",
    "        emotion_data[emotion][\"count\"] += 1\n",
    "        \n",
    "        # Compute average scores for each emotion\n",
    "        for i, emotion in enumerate(emotion_labels):\n",
    "            if emotion_data[emotion][\"count\"] > 0:\n",
    "                average_scores[i] = emotion_data[emotion][\"score\"] / emotion_data[emotion][\"count\"]\n",
    "        \n",
    "        # Print average scores (can also store them elsewhere if needed)\n",
    "        print(\"Average scores:\", average_scores)\n",
    "        length  +=1\n",
    "        \n",
    "        if length % 10 ==0 :\n",
    "            generated = m.generate(xb, FRAMES_GENERATE)\n"
   ]
  },
  {
   "cell_type": "code",
   "execution_count": null,
   "metadata": {},
   "outputs": [],
   "source": [
    "# Preparing MEED data for model\n",
    "MEED= prep_MEED_data()\n",
    "train_data,val_data,frame_dim,max_x,min_x,max_y,min_y,max_dx,min_dx,max_dy,min_dy = MEED"
   ]
  },
  {
   "cell_type": "code",
   "execution_count": 2,
   "metadata": {},
   "outputs": [
    {
     "name": "stderr",
     "output_type": "stream",
     "text": [
      "100%|██████████| 4102/4102 [00:03<00:00, 1086.69it/s]\n"
     ]
    },
    {
     "name": "stdout",
     "output_type": "stream",
     "text": [
      "Validating interpolation...\n",
      "No errors found!\n"
     ]
    },
    {
     "name": "stderr",
     "output_type": "stream",
     "text": [
      "4102it [00:01, 2499.12it/s]\n",
      "4102it [00:01, 2397.84it/s]\n"
     ]
    },
    {
     "name": "stdout",
     "output_type": "stream",
     "text": [
      "Creating keypoint frames...\n"
     ]
    },
    {
     "name": "stderr",
     "output_type": "stream",
     "text": [
      "100%|██████████| 4102/4102 [00:03<00:00, 1039.36it/s]\n"
     ]
    },
    {
     "name": "stdout",
     "output_type": "stream",
     "text": [
      "Creating keypoint frames...\n"
     ]
    },
    {
     "name": "stderr",
     "output_type": "stream",
     "text": [
      "100%|██████████| 4102/4102 [00:03<00:00, 1149.98it/s]\n"
     ]
    },
    {
     "name": "stdout",
     "output_type": "stream",
     "text": [
      "Validating length of dkp_frames\n",
      "Validating length of kp_frames\n",
      "Adding deltas to frames...\n"
     ]
    },
    {
     "name": "stderr",
     "output_type": "stream",
     "text": [
      "4102it [00:03, 1110.06it/s]\n"
     ]
    },
    {
     "name": "stdout",
     "output_type": "stream",
     "text": [
      "Validating length of data after delta\n",
      "Adding emotions to frames...\n"
     ]
    },
    {
     "name": "stderr",
     "output_type": "stream",
     "text": [
      "100%|██████████| 4102/4102 [00:00<00:00, 9863.41it/s]\n"
     ]
    },
    {
     "name": "stdout",
     "output_type": "stream",
     "text": [
      "Validating length of data after emotions\n",
      "frame_dim: 107\n",
      "Loading checkpoint...\n",
      "Checkpoint loaded from checkpoints/proto5_checkpoint.pth\n",
      "Generating sequence of 300 frames...\n"
     ]
    },
    {
     "ename": "NameError",
     "evalue": "name 'batch' is not defined",
     "output_type": "error",
     "traceback": [
      "\u001b[1;31m---------------------------------------------------------------------------\u001b[0m",
      "\u001b[1;31mNameError\u001b[0m                                 Traceback (most recent call last)",
      "\u001b[1;32mc:\\Users\\avika\\OneDrive\\Documents\\UAL\\interactive_dance_thesis\\main.ipynb Cell 4\u001b[0m line \u001b[0;36m1\n\u001b[0;32m     <a href='vscode-notebook-cell:/c%3A/Users/avika/OneDrive/Documents/UAL/interactive_dance_thesis/main.ipynb#W4sZmlsZQ%3D%3D?line=13'>14</a>\u001b[0m generated \u001b[39m=\u001b[39m m\u001b[39m.\u001b[39mgenerate(xb, FRAMES_GENERATE)\n\u001b[0;32m     <a href='vscode-notebook-cell:/c%3A/Users/avika/OneDrive/Documents/UAL/interactive_dance_thesis/main.ipynb#W4sZmlsZQ%3D%3D?line=14'>15</a>\u001b[0m unnorm_out \u001b[39m=\u001b[39m unnormalise_list_2D(generated, max_x, min_x, max_y, min_y,max_x, min_x, max_y, min_y)\n\u001b[1;32m---> <a href='vscode-notebook-cell:/c%3A/Users/avika/OneDrive/Documents/UAL/interactive_dance_thesis/main.ipynb#W4sZmlsZQ%3D%3D?line=15'>16</a>\u001b[0m visualise_skeleton(batch, max_x, max_y, max_frames\u001b[39m=\u001b[39mFRAMES_GENERATE,save \u001b[39m=\u001b[39m \u001b[39mTrue\u001b[39;00m,save_path\u001b[39m=\u001b[39m\u001b[39mNone\u001b[39;00m,prefix\u001b[39m=\u001b[39m\u001b[39mf\u001b[39m\u001b[39m'\u001b[39m\u001b[39madam_\u001b[39m\u001b[39m{\u001b[39;00mEPOCHS\u001b[39m}\u001b[39;00m\u001b[39m_coord\u001b[39m\u001b[39m'\u001b[39m,train_seed\u001b[39m=\u001b[39mtrain_seed,delta\u001b[39m=\u001b[39m\u001b[39mFalse\u001b[39;00m)\n",
      "\u001b[1;31mNameError\u001b[0m: name 'batch' is not defined"
     ]
    }
   ],
   "source": [
    "\n",
    "\n",
    "CHECKPOINT_PATH = \"checkpoints/proto5_checkpoint.pth\"\n",
    "\n",
    "# create model\n",
    "m = MotionModel(input_dim=frame_dim, output_dim=frame_dim, blocksize=BLOCK_SIZE, hidden_dim=512, n_layers=8, dropout=DROPOUT)\n",
    "m = m.to(device)\n",
    "optimizer = torch.optim.Adam(m.parameters(), lr=LEARNING_RATE, weight_decay=L2_REG)  # weight_decay=1e-5 L2 regularization\n",
    "m, optimizer,scheduler, epoch, loss, train_seed = load_checkpoint(m, optimizer, CHECKPOINT_PATH)\n",
    "# Generate a sequence\n",
    "print(f'Generating sequence of {FRAMES_GENERATE} frames...')\n",
    "\n",
    "generated = m.generate(, FRAMES_GENERATE)\n",
    "unnorm_out = unnormalise_list_2D(generated, max_x, min_x, max_y, min_y,max_x, min_x, max_y, min_y)\n",
    "\n"
   ]
  },
  {
   "cell_type": "code",
   "execution_count": 19,
   "metadata": {},
   "outputs": [
    {
     "data": {
      "text/plain": [
       "['Anger', 'Fear', 'Happiness']"
      ]
     },
     "execution_count": 19,
     "metadata": {},
     "output_type": "execute_result"
    }
   ],
   "source": [
    "def encoding_to_emotions(encoding):\n",
    "    \"\"\"\n",
    "    Convert an encoding to its corresponding emotion labels.\n",
    "    \n",
    "    Parameters:\n",
    "    - encoding (list of int): The encoding of the emotions.\n",
    "    \n",
    "    Returns:\n",
    "    - list of str: The labels of the emotions.\n",
    "    \"\"\"\n",
    "    \n",
    "    emotion_labels = ['Anger', 'Disgust', 'Fear', 'Happiness', 'Neutral', 'Sad', 'Surprise']\n",
    "    \n",
    "    # Find the indices of non-zero values in the encoding and return the corresponding labels\n",
    "    emotion_indices = [i for i, value in enumerate(encoding) if value > 0]\n",
    "    return [emotion_labels[i] for i in emotion_indices]\n",
    "\n",
    "# Test the function with an example encoding\n",
    "test_encoding = [0.97, 0, 1, 1, 0, 0, 0]\n",
    "encoding_to_emotions(test_encoding)\n"
   ]
  },
  {
   "cell_type": "code",
   "execution_count": 12,
   "metadata": {},
   "outputs": [
    {
     "data": {
      "text/plain": [
       "[0.0, 0.0, 0.0, 1.0, 0.0, 0.0, 0.0]"
      ]
     },
     "execution_count": 12,
     "metadata": {},
     "output_type": "execute_result"
    }
   ],
   "source": [
    "frame[-7:]"
   ]
  },
  {
   "cell_type": "code",
   "execution_count": 33,
   "metadata": {},
   "outputs": [
    {
     "name": "stdout",
     "output_type": "stream",
     "text": [
      "['Happiness']\n",
      "['Happiness']\n",
      "['Happiness']\n",
      "['Happiness']\n",
      "['Happiness']\n",
      "['Happiness']\n",
      "['Happiness']\n",
      "['Happiness']\n",
      "['Happiness']\n",
      "['Happiness']\n",
      "['Happiness']\n",
      "['Happiness']\n",
      "['Happiness']\n",
      "['Happiness']\n",
      "['Happiness']\n",
      "['Happiness']\n",
      "['Anger', 'Disgust', 'Happiness', 'Neutral']\n",
      "['Anger', 'Disgust', 'Happiness', 'Surprise']\n",
      "['Anger', 'Disgust', 'Happiness', 'Surprise']\n",
      "['Anger', 'Disgust', 'Happiness', 'Surprise']\n",
      "['Anger', 'Disgust', 'Happiness', 'Surprise']\n",
      "['Anger', 'Disgust', 'Happiness', 'Surprise']\n",
      "['Anger', 'Disgust', 'Happiness', 'Surprise']\n",
      "['Anger', 'Disgust', 'Happiness', 'Surprise']\n",
      "['Anger', 'Happiness', 'Neutral', 'Surprise']\n",
      "['Anger', 'Disgust', 'Happiness', 'Sad', 'Surprise']\n",
      "['Anger', 'Disgust', 'Happiness', 'Surprise']\n",
      "['Anger', 'Disgust', 'Happiness', 'Surprise']\n",
      "['Anger', 'Disgust', 'Fear', 'Happiness']\n",
      "['Anger', 'Disgust', 'Happiness', 'Surprise']\n",
      "['Anger', 'Disgust', 'Happiness', 'Surprise']\n",
      "['Anger', 'Disgust', 'Happiness', 'Surprise']\n",
      "['Anger', 'Disgust', 'Happiness', 'Surprise']\n",
      "['Anger', 'Disgust', 'Happiness', 'Sad', 'Surprise']\n",
      "['Anger', 'Disgust', 'Happiness', 'Surprise']\n",
      "['Anger', 'Disgust', 'Happiness', 'Neutral', 'Sad', 'Surprise']\n",
      "['Anger', 'Disgust', 'Happiness', 'Neutral', 'Surprise']\n",
      "['Anger', 'Disgust', 'Happiness', 'Neutral', 'Surprise']\n",
      "['Anger', 'Disgust', 'Fear', 'Happiness', 'Surprise']\n",
      "['Anger', 'Disgust', 'Happiness', 'Neutral', 'Sad']\n",
      "['Disgust', 'Happiness', 'Neutral', 'Surprise']\n",
      "['Anger', 'Disgust', 'Happiness', 'Neutral', 'Surprise']\n",
      "['Anger', 'Disgust', 'Happiness', 'Neutral', 'Surprise']\n",
      "['Anger', 'Disgust', 'Happiness', 'Neutral', 'Sad']\n",
      "['Disgust', 'Happiness', 'Neutral', 'Surprise']\n",
      "['Anger', 'Happiness', 'Neutral', 'Surprise']\n",
      "['Disgust', 'Happiness', 'Neutral', 'Sad', 'Surprise']\n",
      "['Anger', 'Disgust', 'Happiness', 'Neutral', 'Sad']\n",
      "['Anger', 'Disgust', 'Happiness', 'Neutral']\n",
      "['Anger', 'Happiness', 'Neutral', 'Surprise']\n",
      "['Anger', 'Disgust', 'Happiness', 'Neutral', 'Surprise']\n",
      "['Anger', 'Disgust', 'Happiness', 'Neutral', 'Sad', 'Surprise']\n",
      "['Anger', 'Disgust', 'Happiness', 'Neutral', 'Surprise']\n",
      "['Anger', 'Disgust', 'Happiness', 'Surprise']\n",
      "['Anger', 'Disgust', 'Happiness']\n",
      "['Anger', 'Disgust', 'Happiness', 'Neutral', 'Surprise']\n",
      "['Anger', 'Disgust', 'Happiness', 'Neutral', 'Surprise']\n",
      "['Anger', 'Disgust', 'Happiness', 'Neutral', 'Sad', 'Surprise']\n",
      "['Anger', 'Fear', 'Happiness', 'Neutral', 'Surprise']\n",
      "['Disgust', 'Happiness', 'Neutral', 'Sad', 'Surprise']\n",
      "['Anger', 'Disgust', 'Happiness', 'Sad', 'Surprise']\n",
      "['Anger', 'Disgust', 'Happiness', 'Surprise']\n",
      "['Anger', 'Disgust', 'Happiness', 'Neutral', 'Surprise']\n",
      "['Anger', 'Disgust', 'Happiness', 'Neutral', 'Surprise']\n",
      "['Anger', 'Disgust', 'Happiness', 'Neutral', 'Surprise']\n",
      "['Anger', 'Disgust', 'Happiness', 'Neutral', 'Sad', 'Surprise']\n",
      "['Disgust', 'Happiness', 'Neutral', 'Sad', 'Surprise']\n",
      "['Disgust', 'Happiness', 'Surprise']\n",
      "['Anger', 'Disgust', 'Happiness', 'Neutral', 'Sad', 'Surprise']\n",
      "['Anger', 'Disgust', 'Happiness', 'Neutral', 'Sad', 'Surprise']\n",
      "['Anger', 'Happiness', 'Neutral', 'Sad', 'Surprise']\n",
      "['Anger', 'Disgust', 'Happiness', 'Neutral', 'Sad']\n",
      "['Anger', 'Disgust', 'Happiness', 'Neutral', 'Surprise']\n",
      "['Disgust', 'Happiness', 'Neutral', 'Surprise']\n",
      "['Anger', 'Disgust', 'Happiness', 'Neutral', 'Sad', 'Surprise']\n",
      "['Anger', 'Disgust', 'Happiness', 'Neutral', 'Sad', 'Surprise']\n",
      "['Disgust', 'Happiness', 'Neutral', 'Surprise']\n",
      "['Anger', 'Disgust', 'Happiness', 'Neutral', 'Sad', 'Surprise']\n",
      "['Disgust', 'Happiness', 'Neutral', 'Surprise']\n",
      "['Disgust', 'Happiness', 'Neutral', 'Sad', 'Surprise']\n",
      "['Disgust', 'Happiness', 'Neutral', 'Surprise']\n",
      "['Anger', 'Disgust', 'Happiness', 'Neutral', 'Sad', 'Surprise']\n",
      "['Anger', 'Disgust', 'Happiness', 'Neutral', 'Sad', 'Surprise']\n",
      "['Disgust', 'Happiness', 'Neutral', 'Surprise']\n",
      "['Anger', 'Happiness', 'Neutral', 'Surprise']\n",
      "['Disgust', 'Happiness', 'Neutral', 'Surprise']\n",
      "['Happiness', 'Neutral', 'Surprise']\n",
      "['Anger', 'Disgust', 'Happiness', 'Neutral', 'Surprise']\n",
      "['Disgust', 'Happiness', 'Neutral', 'Sad', 'Surprise']\n",
      "['Disgust', 'Happiness', 'Neutral', 'Sad', 'Surprise']\n",
      "['Disgust', 'Fear', 'Happiness', 'Neutral', 'Surprise']\n",
      "['Anger', 'Disgust', 'Happiness', 'Neutral', 'Surprise']\n",
      "['Anger', 'Disgust', 'Happiness', 'Neutral', 'Surprise']\n",
      "['Disgust', 'Happiness', 'Neutral', 'Surprise']\n",
      "['Anger', 'Disgust', 'Happiness', 'Neutral', 'Surprise']\n",
      "['Disgust', 'Happiness', 'Neutral', 'Surprise']\n",
      "['Anger', 'Disgust', 'Happiness', 'Neutral']\n",
      "['Disgust', 'Happiness', 'Neutral', 'Sad', 'Surprise']\n",
      "['Anger', 'Disgust', 'Happiness', 'Sad', 'Surprise']\n",
      "['Anger', 'Disgust', 'Happiness', 'Neutral', 'Sad', 'Surprise']\n",
      "['Disgust', 'Happiness', 'Neutral', 'Sad', 'Surprise']\n",
      "['Anger', 'Disgust', 'Fear', 'Happiness', 'Neutral', 'Sad']\n",
      "['Anger', 'Disgust', 'Happiness', 'Neutral', 'Surprise']\n",
      "['Disgust', 'Happiness', 'Neutral', 'Surprise']\n",
      "['Disgust', 'Happiness', 'Neutral']\n",
      "['Happiness', 'Neutral', 'Sad', 'Surprise']\n",
      "['Anger', 'Disgust', 'Happiness', 'Neutral', 'Surprise']\n",
      "['Disgust', 'Happiness', 'Neutral', 'Surprise']\n",
      "['Disgust', 'Happiness', 'Neutral', 'Sad', 'Surprise']\n",
      "['Disgust', 'Happiness', 'Neutral', 'Surprise']\n",
      "['Disgust', 'Happiness', 'Neutral', 'Sad']\n",
      "['Disgust', 'Happiness', 'Neutral', 'Surprise']\n",
      "['Anger', 'Happiness', 'Neutral', 'Sad', 'Surprise']\n",
      "['Anger', 'Disgust', 'Happiness', 'Neutral', 'Sad', 'Surprise']\n",
      "['Disgust', 'Fear', 'Happiness', 'Neutral', 'Surprise']\n",
      "['Happiness', 'Neutral', 'Surprise']\n",
      "['Disgust', 'Happiness', 'Neutral', 'Surprise']\n",
      "['Disgust', 'Fear', 'Happiness', 'Neutral', 'Surprise']\n",
      "['Disgust', 'Fear', 'Happiness', 'Surprise']\n",
      "['Anger', 'Disgust', 'Fear', 'Happiness', 'Sad']\n",
      "['Anger', 'Disgust', 'Fear', 'Happiness', 'Neutral', 'Surprise']\n",
      "['Disgust', 'Happiness', 'Neutral', 'Surprise']\n",
      "['Anger', 'Disgust', 'Fear', 'Happiness', 'Neutral', 'Surprise']\n",
      "['Anger', 'Disgust', 'Fear', 'Happiness', 'Neutral', 'Surprise']\n",
      "['Disgust', 'Happiness', 'Neutral']\n",
      "['Disgust', 'Happiness', 'Neutral', 'Surprise']\n",
      "['Disgust', 'Happiness', 'Neutral', 'Surprise']\n",
      "['Disgust', 'Happiness', 'Neutral', 'Surprise']\n",
      "['Disgust', 'Happiness', 'Neutral', 'Surprise']\n",
      "['Disgust', 'Happiness', 'Neutral', 'Sad', 'Surprise']\n",
      "['Disgust', 'Happiness', 'Neutral', 'Sad', 'Surprise']\n",
      "['Happiness', 'Neutral', 'Sad', 'Surprise']\n",
      "['Disgust', 'Happiness', 'Neutral', 'Sad', 'Surprise']\n",
      "['Anger', 'Disgust', 'Happiness', 'Neutral', 'Sad', 'Surprise']\n",
      "['Disgust', 'Happiness', 'Neutral', 'Sad', 'Surprise']\n",
      "['Anger', 'Disgust', 'Happiness', 'Neutral', 'Surprise']\n",
      "['Disgust', 'Happiness', 'Neutral', 'Surprise']\n",
      "['Disgust', 'Happiness', 'Neutral', 'Sad', 'Surprise']\n",
      "['Disgust', 'Fear', 'Happiness', 'Neutral', 'Sad', 'Surprise']\n",
      "['Anger', 'Disgust', 'Fear', 'Happiness', 'Neutral', 'Surprise']\n",
      "['Happiness', 'Neutral', 'Sad', 'Surprise']\n",
      "['Disgust', 'Fear', 'Happiness', 'Neutral', 'Surprise']\n",
      "['Disgust', 'Happiness', 'Neutral', 'Sad', 'Surprise']\n",
      "['Disgust', 'Happiness', 'Neutral', 'Sad', 'Surprise']\n",
      "['Disgust', 'Happiness', 'Surprise']\n",
      "['Anger', 'Disgust', 'Happiness', 'Neutral', 'Surprise']\n",
      "['Disgust', 'Fear', 'Happiness', 'Neutral', 'Surprise']\n",
      "['Anger', 'Disgust', 'Fear', 'Happiness', 'Neutral', 'Surprise']\n",
      "['Disgust', 'Fear', 'Happiness', 'Neutral', 'Surprise']\n",
      "['Disgust', 'Happiness', 'Neutral', 'Sad', 'Surprise']\n",
      "['Anger', 'Disgust', 'Happiness', 'Neutral', 'Surprise']\n",
      "['Anger', 'Disgust', 'Happiness', 'Neutral', 'Surprise']\n",
      "['Anger', 'Disgust', 'Happiness', 'Neutral', 'Surprise']\n",
      "['Anger', 'Disgust', 'Happiness', 'Neutral', 'Surprise']\n",
      "['Anger', 'Disgust', 'Happiness', 'Neutral', 'Surprise']\n",
      "['Anger', 'Disgust', 'Happiness', 'Sad', 'Surprise']\n",
      "['Anger', 'Happiness', 'Sad', 'Surprise']\n",
      "['Anger', 'Fear', 'Happiness', 'Neutral']\n",
      "['Anger', 'Disgust', 'Happiness', 'Neutral', 'Surprise']\n",
      "['Anger', 'Happiness', 'Neutral', 'Surprise']\n",
      "['Disgust', 'Happiness', 'Neutral', 'Surprise']\n",
      "['Disgust', 'Happiness', 'Neutral', 'Surprise']\n",
      "['Disgust', 'Happiness', 'Neutral', 'Surprise']\n",
      "['Anger', 'Disgust', 'Happiness', 'Neutral', 'Sad', 'Surprise']\n",
      "['Disgust', 'Happiness', 'Neutral']\n",
      "['Anger', 'Disgust', 'Fear', 'Happiness', 'Neutral', 'Sad', 'Surprise']\n",
      "['Disgust', 'Fear', 'Happiness', 'Neutral', 'Sad', 'Surprise']\n",
      "['Disgust', 'Fear', 'Happiness', 'Neutral', 'Surprise']\n",
      "['Anger', 'Happiness', 'Neutral', 'Sad', 'Surprise']\n",
      "['Happiness', 'Neutral', 'Surprise']\n",
      "['Disgust', 'Happiness', 'Neutral', 'Sad', 'Surprise']\n",
      "['Disgust', 'Fear', 'Happiness', 'Neutral', 'Surprise']\n",
      "['Anger', 'Disgust', 'Happiness', 'Neutral', 'Sad']\n",
      "['Disgust', 'Happiness', 'Neutral', 'Surprise']\n",
      "['Disgust', 'Fear', 'Happiness', 'Neutral', 'Sad', 'Surprise']\n",
      "['Disgust', 'Fear', 'Happiness', 'Neutral', 'Sad', 'Surprise']\n",
      "['Happiness', 'Neutral', 'Surprise']\n",
      "['Disgust', 'Happiness', 'Neutral', 'Surprise']\n",
      "['Anger', 'Disgust', 'Happiness', 'Neutral', 'Surprise']\n",
      "['Anger', 'Disgust', 'Fear', 'Happiness', 'Surprise']\n",
      "['Anger', 'Disgust', 'Fear', 'Happiness', 'Neutral', 'Surprise']\n",
      "['Anger', 'Disgust', 'Happiness', 'Neutral', 'Surprise']\n",
      "['Disgust', 'Happiness', 'Neutral', 'Sad', 'Surprise']\n",
      "['Anger', 'Disgust', 'Fear', 'Happiness', 'Neutral', 'Surprise']\n",
      "['Anger', 'Disgust', 'Happiness', 'Neutral', 'Surprise']\n",
      "['Anger', 'Disgust', 'Fear', 'Happiness', 'Neutral', 'Sad', 'Surprise']\n",
      "['Anger', 'Disgust', 'Happiness', 'Neutral', 'Sad', 'Surprise']\n",
      "['Fear', 'Happiness', 'Neutral', 'Sad', 'Surprise']\n",
      "['Disgust', 'Happiness', 'Neutral', 'Sad', 'Surprise']\n",
      "['Anger', 'Happiness', 'Neutral', 'Surprise']\n",
      "['Anger', 'Disgust', 'Fear', 'Happiness', 'Neutral', 'Sad', 'Surprise']\n",
      "['Disgust', 'Happiness', 'Neutral', 'Surprise']\n",
      "['Disgust', 'Happiness', 'Neutral', 'Sad', 'Surprise']\n",
      "['Anger', 'Disgust', 'Happiness', 'Neutral']\n",
      "['Disgust', 'Happiness', 'Neutral', 'Surprise']\n",
      "['Disgust', 'Fear', 'Happiness', 'Neutral', 'Sad', 'Surprise']\n",
      "['Happiness', 'Neutral', 'Sad', 'Surprise']\n",
      "['Anger', 'Disgust', 'Happiness', 'Neutral', 'Surprise']\n",
      "['Disgust', 'Happiness', 'Neutral', 'Sad', 'Surprise']\n",
      "['Anger', 'Happiness', 'Neutral', 'Surprise']\n",
      "['Anger', 'Fear', 'Happiness', 'Neutral', 'Surprise']\n",
      "['Disgust', 'Happiness', 'Neutral', 'Sad', 'Surprise']\n",
      "['Anger', 'Disgust', 'Happiness', 'Neutral', 'Surprise']\n",
      "['Anger', 'Disgust', 'Happiness', 'Neutral', 'Surprise']\n",
      "['Anger', 'Disgust', 'Happiness', 'Neutral', 'Sad']\n",
      "['Anger', 'Disgust', 'Happiness', 'Surprise']\n",
      "['Disgust', 'Happiness', 'Neutral', 'Sad', 'Surprise']\n",
      "['Disgust', 'Fear', 'Happiness', 'Neutral', 'Sad', 'Surprise']\n",
      "['Happiness', 'Neutral', 'Sad', 'Surprise']\n",
      "['Disgust', 'Happiness', 'Neutral', 'Sad', 'Surprise']\n",
      "['Anger', 'Disgust', 'Fear', 'Happiness', 'Neutral', 'Surprise']\n",
      "['Disgust', 'Happiness', 'Neutral', 'Surprise']\n",
      "['Disgust', 'Fear', 'Happiness', 'Neutral', 'Surprise']\n",
      "['Anger', 'Disgust', 'Fear', 'Happiness', 'Neutral', 'Sad', 'Surprise']\n",
      "['Anger', 'Disgust', 'Happiness', 'Neutral', 'Surprise']\n",
      "['Anger', 'Happiness', 'Neutral', 'Sad', 'Surprise']\n",
      "['Anger', 'Disgust', 'Fear', 'Happiness', 'Neutral', 'Surprise']\n",
      "['Anger', 'Happiness', 'Neutral', 'Sad', 'Surprise']\n",
      "['Anger', 'Disgust', 'Happiness', 'Neutral', 'Surprise']\n",
      "['Anger', 'Disgust', 'Happiness', 'Neutral', 'Surprise']\n",
      "['Happiness', 'Neutral', 'Sad', 'Surprise']\n",
      "['Anger', 'Disgust', 'Fear', 'Happiness', 'Neutral', 'Surprise']\n",
      "['Anger', 'Disgust', 'Happiness', 'Neutral', 'Surprise']\n",
      "['Disgust', 'Happiness', 'Neutral', 'Surprise']\n",
      "['Anger', 'Disgust', 'Happiness', 'Neutral', 'Surprise']\n",
      "['Anger', 'Disgust', 'Happiness', 'Neutral', 'Sad', 'Surprise']\n",
      "['Disgust', 'Happiness', 'Neutral', 'Surprise']\n",
      "['Disgust', 'Happiness', 'Neutral', 'Surprise']\n",
      "['Disgust', 'Happiness', 'Neutral', 'Surprise']\n",
      "['Disgust', 'Happiness', 'Neutral', 'Sad', 'Surprise']\n",
      "['Disgust', 'Happiness', 'Neutral', 'Surprise']\n",
      "['Disgust', 'Fear', 'Happiness', 'Neutral', 'Sad', 'Surprise']\n",
      "['Anger', 'Disgust', 'Happiness', 'Neutral', 'Sad', 'Surprise']\n",
      "['Anger', 'Fear', 'Happiness', 'Neutral', 'Sad', 'Surprise']\n",
      "['Anger', 'Disgust', 'Fear', 'Happiness', 'Neutral']\n",
      "['Happiness', 'Neutral', 'Surprise']\n",
      "['Anger', 'Happiness', 'Neutral', 'Surprise']\n",
      "['Happiness', 'Neutral', 'Surprise']\n",
      "['Anger', 'Happiness', 'Neutral', 'Sad', 'Surprise']\n",
      "['Happiness', 'Neutral', 'Sad', 'Surprise']\n",
      "['Anger', 'Disgust', 'Happiness', 'Neutral', 'Surprise']\n",
      "['Anger', 'Disgust', 'Fear', 'Happiness', 'Neutral', 'Sad', 'Surprise']\n",
      "['Anger', 'Disgust', 'Happiness', 'Neutral', 'Surprise']\n",
      "['Anger', 'Happiness', 'Neutral', 'Sad', 'Surprise']\n",
      "['Disgust', 'Happiness', 'Neutral', 'Sad', 'Surprise']\n",
      "['Anger', 'Disgust', 'Happiness', 'Neutral', 'Sad', 'Surprise']\n",
      "['Happiness', 'Neutral', 'Sad', 'Surprise']\n",
      "['Anger', 'Disgust', 'Happiness', 'Neutral', 'Sad', 'Surprise']\n",
      "['Anger', 'Disgust', 'Happiness', 'Neutral', 'Sad', 'Surprise']\n",
      "['Anger', 'Disgust', 'Happiness', 'Neutral', 'Surprise']\n",
      "['Anger', 'Disgust', 'Happiness', 'Neutral', 'Surprise']\n",
      "['Anger', 'Disgust', 'Happiness', 'Neutral', 'Sad', 'Surprise']\n",
      "['Anger', 'Disgust', 'Happiness', 'Neutral', 'Sad', 'Surprise']\n",
      "['Anger', 'Disgust', 'Happiness', 'Neutral', 'Surprise']\n",
      "['Anger', 'Disgust', 'Happiness', 'Neutral', 'Sad', 'Surprise']\n",
      "['Disgust', 'Happiness', 'Neutral', 'Sad', 'Surprise']\n",
      "['Disgust', 'Happiness', 'Neutral', 'Sad', 'Surprise']\n",
      "['Disgust', 'Fear', 'Happiness', 'Neutral', 'Sad', 'Surprise']\n",
      "['Anger', 'Disgust', 'Happiness', 'Neutral', 'Surprise']\n",
      "['Disgust', 'Fear', 'Happiness', 'Neutral', 'Sad', 'Surprise']\n",
      "['Disgust', 'Happiness', 'Neutral', 'Surprise']\n",
      "['Happiness', 'Neutral', 'Sad', 'Surprise']\n",
      "['Anger', 'Disgust', 'Happiness', 'Neutral', 'Surprise']\n",
      "['Disgust', 'Fear', 'Happiness', 'Neutral', 'Surprise']\n",
      "['Anger', 'Fear', 'Happiness', 'Neutral', 'Sad', 'Surprise']\n",
      "['Anger', 'Disgust', 'Happiness', 'Neutral', 'Surprise']\n",
      "['Fear', 'Happiness', 'Neutral', 'Surprise']\n",
      "['Anger', 'Disgust', 'Happiness', 'Neutral', 'Sad', 'Surprise']\n",
      "['Anger', 'Disgust', 'Happiness', 'Neutral', 'Surprise']\n",
      "['Anger', 'Disgust', 'Happiness', 'Sad', 'Surprise']\n",
      "['Disgust', 'Happiness', 'Neutral', 'Sad', 'Surprise']\n",
      "['Anger', 'Disgust', 'Happiness', 'Neutral', 'Sad', 'Surprise']\n",
      "['Anger', 'Happiness', 'Neutral', 'Sad', 'Surprise']\n",
      "['Disgust', 'Happiness', 'Neutral', 'Sad', 'Surprise']\n",
      "['Disgust', 'Happiness', 'Neutral', 'Sad', 'Surprise']\n",
      "['Disgust', 'Happiness', 'Neutral', 'Sad', 'Surprise']\n",
      "['Disgust', 'Happiness', 'Neutral', 'Sad', 'Surprise']\n",
      "['Disgust', 'Happiness', 'Neutral', 'Sad', 'Surprise']\n",
      "['Anger', 'Disgust', 'Happiness', 'Neutral', 'Sad', 'Surprise']\n",
      "['Anger', 'Disgust', 'Happiness', 'Neutral', 'Surprise']\n",
      "['Anger', 'Disgust', 'Happiness', 'Neutral', 'Surprise']\n",
      "['Anger', 'Disgust', 'Happiness', 'Surprise']\n",
      "['Anger', 'Disgust', 'Happiness', 'Neutral', 'Sad']\n",
      "['Anger', 'Disgust', 'Fear', 'Happiness', 'Neutral', 'Surprise']\n",
      "['Disgust', 'Happiness', 'Neutral', 'Sad', 'Surprise']\n",
      "['Anger', 'Disgust', 'Happiness', 'Neutral', 'Sad', 'Surprise']\n",
      "['Disgust', 'Fear', 'Happiness', 'Neutral', 'Surprise']\n",
      "['Disgust', 'Fear', 'Happiness', 'Neutral', 'Surprise']\n",
      "['Anger', 'Disgust', 'Happiness', 'Neutral', 'Sad', 'Surprise']\n",
      "['Anger', 'Fear', 'Happiness', 'Neutral', 'Surprise']\n",
      "['Anger', 'Disgust', 'Happiness', 'Neutral', 'Surprise']\n",
      "['Anger', 'Disgust', 'Happiness', 'Neutral', 'Surprise']\n",
      "['Disgust', 'Happiness', 'Neutral', 'Sad', 'Surprise']\n",
      "['Anger', 'Disgust', 'Fear', 'Happiness', 'Neutral', 'Sad', 'Surprise']\n",
      "['Anger', 'Disgust', 'Happiness', 'Neutral', 'Surprise']\n",
      "['Anger', 'Happiness', 'Neutral', 'Surprise']\n",
      "['Anger', 'Disgust', 'Happiness', 'Neutral', 'Surprise']\n",
      "['Anger', 'Fear', 'Happiness', 'Neutral', 'Sad', 'Surprise']\n",
      "['Anger', 'Disgust', 'Happiness', 'Neutral', 'Sad', 'Surprise']\n",
      "['Anger', 'Disgust', 'Fear', 'Happiness', 'Neutral', 'Sad', 'Surprise']\n",
      "['Anger', 'Disgust', 'Happiness', 'Sad', 'Surprise']\n",
      "['Anger', 'Disgust', 'Happiness', 'Sad', 'Surprise']\n",
      "['Disgust', 'Happiness', 'Neutral', 'Sad', 'Surprise']\n",
      "['Anger', 'Disgust', 'Happiness', 'Neutral', 'Sad']\n",
      "['Anger', 'Disgust', 'Happiness', 'Neutral', 'Sad', 'Surprise']\n",
      "['Anger', 'Disgust', 'Happiness', 'Neutral', 'Surprise']\n",
      "['Disgust', 'Happiness', 'Neutral', 'Surprise']\n",
      "['Anger', 'Disgust', 'Happiness', 'Neutral', 'Sad', 'Surprise']\n",
      "['Disgust', 'Fear', 'Happiness', 'Neutral']\n",
      "['Disgust', 'Happiness', 'Neutral', 'Surprise']\n",
      "['Anger', 'Disgust', 'Fear', 'Happiness', 'Neutral']\n",
      "['Disgust', 'Happiness', 'Neutral', 'Sad', 'Surprise']\n",
      "['Anger', 'Disgust', 'Happiness', 'Neutral', 'Sad']\n",
      "['Disgust', 'Happiness', 'Sad', 'Surprise']\n",
      "['Anger', 'Happiness', 'Neutral']\n",
      "['Disgust', 'Happiness', 'Neutral', 'Sad']\n"
     ]
    }
   ],
   "source": [
    "# switch emotions of frames \n",
    "def switch_emotion(frame,old_emotion,new_emotion):\n",
    "    \"\"\"\n",
    "    Switch the emotion of a frame.\n",
    "    \n",
    "    Parameters:\n",
    "    - frame (list of int): The frame to switch the emotion of.\n",
    "    - old_emotion (str): The emotion to switch from.\n",
    "    - new_emotion (str): The emotion to switch to.\n",
    "    \n",
    "    Returns:\n",
    "    - list of int: The frame with the emotion switched.\n",
    "    \"\"\"\n",
    "    \n",
    "    # Get the indices of the old and new emotion\n",
    "    emotion_labels = ['Anger', 'Disgust', 'Fear', 'Happiness', 'Neutral', 'Sad', 'Surprise']\n",
    "    old_emotion_index = emotion_labels.index(old_emotion)\n",
    "    new_emotion_index = emotion_labels.index(new_emotion)\n",
    "    \n",
    "    # Switch the emotion\n",
    "    frame[-7 + old_emotion_index] = 0\n",
    "    frame[-7 + new_emotion_index] = 1\n",
    "    \n",
    "    return frame\n",
    "\n",
    "new_batch = []\n",
    "for frame in batch:\n",
    "    emotion = encoding_to_emotions(frame[-7:])\n",
    "    print(emotion)\n",
    "    new_batch.append(frame[:-7] + emotion_to_encoding('Disgust'))"
   ]
  },
  {
   "cell_type": "code",
   "execution_count": 24,
   "metadata": {},
   "outputs": [
    {
     "name": "stderr",
     "output_type": "stream",
     "text": [
      "Visualizing frames: 100%|██████████| 300/300 [00:33<00:00,  9.07it/s]\n"
     ]
    }
   ],
   "source": [
    "for batch in unnorm_out:\n",
    "    visualise_skeleton(batch, max_x, max_y, max_frames=FRAMES_GENERATE,save =True,save_path=None,prefix=f'adam_{EPOCHS}_coord_normalemotion_happy',train_seed=train_seed,delta=False)"
   ]
  },
  {
   "cell_type": "code",
   "execution_count": 25,
   "metadata": {},
   "outputs": [
    {
     "name": "stderr",
     "output_type": "stream",
     "text": [
      "Visualizing frames:  27%|██▋       | 82/300 [00:09<00:24,  9.06it/s]\n"
     ]
    },
    {
     "ename": "KeyboardInterrupt",
     "evalue": "",
     "output_type": "error",
     "traceback": [
      "\u001b[1;31m---------------------------------------------------------------------------\u001b[0m",
      "\u001b[1;31mKeyboardInterrupt\u001b[0m                         Traceback (most recent call last)",
      "\u001b[1;32mc:\\Users\\avika\\OneDrive\\Documents\\UAL\\interactive_dance_thesis\\main.ipynb Cell 9\u001b[0m line \u001b[0;36m1\n\u001b[1;32m----> <a href='vscode-notebook-cell:/c%3A/Users/avika/OneDrive/Documents/UAL/interactive_dance_thesis/main.ipynb#X13sZmlsZQ%3D%3D?line=0'>1</a>\u001b[0m visualise_skeleton(new_batch, max_x, max_y, max_frames\u001b[39m=\u001b[39;49mFRAMES_GENERATE,save \u001b[39m=\u001b[39;49m \u001b[39mTrue\u001b[39;49;00m,save_path\u001b[39m=\u001b[39;49m\u001b[39mNone\u001b[39;49;00m,prefix\u001b[39m=\u001b[39;49m\u001b[39mf\u001b[39;49m\u001b[39m'\u001b[39;49m\u001b[39madam_\u001b[39;49m\u001b[39m{\u001b[39;49;00mEPOCHS\u001b[39m}\u001b[39;49;00m\u001b[39m_coord_switchhappytosad\u001b[39;49m\u001b[39m'\u001b[39;49m,train_seed\u001b[39m=\u001b[39;49mtrain_seed,delta\u001b[39m=\u001b[39;49m\u001b[39mFalse\u001b[39;49;00m)\n",
      "File \u001b[1;32mc:\\Users\\avika\\OneDrive\\Documents\\UAL\\interactive_dance_thesis\\model.py:837\u001b[0m, in \u001b[0;36mvisualise_skeleton\u001b[1;34m(all_frames, max_x, max_y, max_frames, save, save_path, prefix, train_seed, delta)\u001b[0m\n\u001b[0;32m    834\u001b[0m     out\u001b[39m.\u001b[39mwrite(canvas_copy)\n\u001b[0;32m    836\u001b[0m \u001b[39m# Wait for 100ms and check for \"esc\" key press to exit\u001b[39;00m\n\u001b[1;32m--> 837\u001b[0m key \u001b[39m=\u001b[39m cv2\u001b[39m.\u001b[39;49mwaitKey(\u001b[39m100\u001b[39;49m)\n\u001b[0;32m    838\u001b[0m \u001b[39mif\u001b[39;00m key \u001b[39m==\u001b[39m \u001b[39m27\u001b[39m:  \n\u001b[0;32m    839\u001b[0m     \u001b[39mbreak\u001b[39;00m\n",
      "\u001b[1;31mKeyboardInterrupt\u001b[0m: "
     ]
    }
   ],
   "source": [
    "visualise_skeleton(new_batch, max_x, max_y, max_frames=FRAMES_GENERATE,save = True,save_path=None,prefix=f'adam_{EPOCHS}_coord_switchhappytosad',train_seed=train_seed,delta=False)"
   ]
  },
  {
   "cell_type": "code",
   "execution_count": 34,
   "metadata": {},
   "outputs": [],
   "source": [
    "happy_to_sad_xb = [new_batch[-16:]]\n",
    "happy_to_sad_xb = torch.tensor(happy_to_sad_xb).to(device).float()\n",
    "\n",
    "\n",
    "generated = m.generate(happy_to_sad_xb, FRAMES_GENERATE)\n",
    "unnorm_out = unnormalise_list_2D(generated, max_x, min_x, max_y, min_y,max_x, min_x, max_y, min_y)\n"
   ]
  },
  {
   "cell_type": "code",
   "execution_count": 35,
   "metadata": {},
   "outputs": [
    {
     "name": "stderr",
     "output_type": "stream",
     "text": [
      "Visualizing frames: 100%|██████████| 300/300 [00:32<00:00,  9.17it/s]\n"
     ]
    }
   ],
   "source": [
    "for new_batch in unnorm_out:\n",
    "\n",
    "    visualise_skeleton(new_batch, max_x, max_y, max_frames=FRAMES_GENERATE,save = True,save_path=None,prefix=f'adam_{EPOCHS}_coord_switchhappytodisgust',train_seed=train_seed,delta=False)"
   ]
  },
  {
   "cell_type": "code",
   "execution_count": 36,
   "metadata": {},
   "outputs": [
    {
     "data": {
      "text/plain": [
       "torch.Size([1, 16, 107])"
      ]
     },
     "execution_count": 36,
     "metadata": {},
     "output_type": "execute_result"
    }
   ],
   "source": [
    "xb.shape"
   ]
  }
 ],
 "metadata": {
  "kernelspec": {
   "display_name": "interactive_dance_thesis",
   "language": "python",
   "name": "python3"
  },
  "language_info": {
   "codemirror_mode": {
    "name": "ipython",
    "version": 3
   },
   "file_extension": ".py",
   "mimetype": "text/x-python",
   "name": "python",
   "nbconvert_exporter": "python",
   "pygments_lexer": "ipython3",
   "version": "3.10.9"
  }
 },
 "nbformat": 4,
 "nbformat_minor": 2
}
