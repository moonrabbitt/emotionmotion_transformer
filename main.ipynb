{
 "cells": [
  {
   "cell_type": "code",
   "execution_count": 1,
   "metadata": {},
   "outputs": [
    {
     "name": "stdout",
     "output_type": "stream",
     "text": [
      "C:\\Users\\avika\\OneDrive\\Documents\\UAL\\interactive_dance_thesis\n"
     ]
    }
   ],
   "source": [
    "from model import *\n",
    "import pytchat\n"
   ]
  },
  {
   "cell_type": "code",
   "execution_count": 2,
   "metadata": {},
   "outputs": [],
   "source": [
    "# Use a pipeline as a high-level helper\n",
    "from transformers import pipeline\n",
    "\n",
    "pipe = pipeline(\"text-classification\", model=\"michellejieli/emotion_text_classifier\")\n",
    "# Load model directly\n",
    "from transformers import AutoTokenizer, AutoModelForSequenceClassification\n",
    "\n",
    "tokenizer = AutoTokenizer.from_pretrained(\"michellejieli/emotion_text_classifier\")\n",
    "model = AutoModelForSequenceClassification.from_pretrained(\"michellejieli/emotion_text_classifier\")"
   ]
  },
  {
   "cell_type": "code",
   "execution_count": 4,
   "metadata": {},
   "outputs": [
    {
     "name": "stderr",
     "output_type": "stream",
     "text": [
      "100%|██████████| 4102/4102 [00:04<00:00, 1022.18it/s]\n"
     ]
    },
    {
     "name": "stdout",
     "output_type": "stream",
     "text": [
      "Validating interpolation...\n",
      "No errors found!\n"
     ]
    },
    {
     "name": "stderr",
     "output_type": "stream",
     "text": [
      "4102it [00:01, 2444.48it/s]\n",
      "4102it [00:01, 2357.64it/s]\n"
     ]
    },
    {
     "name": "stdout",
     "output_type": "stream",
     "text": [
      "Creating keypoint frames...\n"
     ]
    },
    {
     "name": "stderr",
     "output_type": "stream",
     "text": [
      "100%|██████████| 4102/4102 [00:03<00:00, 1253.28it/s]\n"
     ]
    },
    {
     "name": "stdout",
     "output_type": "stream",
     "text": [
      "Creating keypoint frames...\n"
     ]
    },
    {
     "name": "stderr",
     "output_type": "stream",
     "text": [
      "100%|██████████| 4102/4102 [00:02<00:00, 1958.60it/s]\n"
     ]
    },
    {
     "name": "stdout",
     "output_type": "stream",
     "text": [
      "Validating length of dkp_frames\n",
      "Validating length of kp_frames\n",
      "Adding deltas to frames...\n"
     ]
    },
    {
     "name": "stderr",
     "output_type": "stream",
     "text": [
      "4102it [00:02, 1834.32it/s]\n"
     ]
    },
    {
     "name": "stdout",
     "output_type": "stream",
     "text": [
      "Validating length of data after delta\n",
      "Adding emotions to frames...\n"
     ]
    },
    {
     "name": "stderr",
     "output_type": "stream",
     "text": [
      "100%|██████████| 4102/4102 [00:00<00:00, 36618.53it/s]\n"
     ]
    },
    {
     "name": "stdout",
     "output_type": "stream",
     "text": [
      "Validating length of data after emotions\n",
      "frame_dim: 107\n"
     ]
    }
   ],
   "source": [
    "# Preparing MEED data for model\n",
    "MEED= prep_MEED_data()\n",
    "train_data,val_data,frame_dim,max_x,min_x,max_y,min_y,max_dx,min_dx,max_dy,min_dy = MEED"
   ]
  },
  {
   "cell_type": "code",
   "execution_count": 5,
   "metadata": {},
   "outputs": [],
   "source": [
    "def get_video_by_emotion(data, specific_emotion):\n",
    "    \"\"\"\n",
    "    Retrieve a single video of a specified emotion from the dataset.\n",
    "    \n",
    "    Parameters:\n",
    "    - data (list): The entire dataset, assumed to be a list of videos.\n",
    "    - specific_emotion (str): The emotion label of the desired video.\n",
    "    \n",
    "    Returns:\n",
    "    - list: A single video corresponding to the specified emotion.\n",
    "    \"\"\"\n",
    "    # Convert the specific emotion to its encoding\n",
    "    specific_emotion_tuple = tuple(emotion_to_encoding(specific_emotion))\n",
    "    \n",
    "    # Search the dataset for a video with the specified emotion - return as tensor\n",
    "    for video in data:\n",
    "        if tuple(video[0][-7:]) == specific_emotion_tuple:\n",
    "            return torch.tensor([video]).to(device).float()\n",
    "    \n",
    "    # If no video with the specified emotion is found, return None\n",
    "    return None\n",
    "\n",
    "\n",
    "\n",
    "\n",
    "# Example usage\n",
    "specific_emotion_video = get_video_by_emotion(train_data, \"Anger\")"
   ]
  },
  {
   "cell_type": "code",
   "execution_count": 6,
   "metadata": {},
   "outputs": [],
   "source": [
    "emotion_labels = ['anger', 'disgust', 'fear', 'joy', 'neutral', 'sadness', 'surprise']"
   ]
  },
  {
   "cell_type": "code",
   "execution_count": 7,
   "metadata": {},
   "outputs": [
    {
     "name": "stdout",
     "output_type": "stream",
     "text": [
      "Loading checkpoint...\n",
      "Checkpoint loaded from checkpoints/proto5_checkpoint.pth\n"
     ]
    },
    {
     "name": "stderr",
     "output_type": "stream",
     "text": [
      "Visualizing frames: 100%|██████████| 300/300 [00:33<00:00,  9.02it/s]\n"
     ]
    }
   ],
   "source": [
    "chat = pytchat.create(video_id=\"jfKfPfyJRdk\")\n",
    "\n",
    "# Initialize a dictionary to keep track of cumulative scores and counts for each emotion\n",
    "emotion_data = {emotion: {\"score\": 0.0, \"count\": 0} for emotion in emotion_labels}\n",
    "\n",
    "# List to store average scores indexed by emotions\n",
    "average_scores = [0.0 for _ in emotion_labels]\n",
    "length =0\n",
    "\n",
    "\n",
    "# create model\n",
    "CHECKPOINT_PATH = \"checkpoints/proto5_checkpoint.pth\"\n",
    "\n",
    "m = MotionModel(input_dim=frame_dim, output_dim=frame_dim, blocksize=BLOCK_SIZE, hidden_dim=512, n_layers=8, dropout=DROPOUT)\n",
    "m = m.to(device)\n",
    "optimizer = torch.optim.Adam(m.parameters(), lr=LEARNING_RATE, weight_decay=L2_REG)  # weight_decay=1e-5 L2 regularization\n",
    "m, optimizer,scheduler, epoch, loss, train_seed = load_checkpoint(m, optimizer, CHECKPOINT_PATH)\n",
    "\n",
    "# initial generation always neutral\n",
    "generated = m.generate(specific_emotion_video, FRAMES_GENERATE)\n",
    "unnorm_out = unnormalise_list_2D(generated, max_x, min_x, max_y, min_y,max_x, min_x, max_y, min_y)\n",
    "\n",
    "# visualize\n",
    "visualise_skeleton(unnorm_out[0], max_x, max_y, max_frames=FRAMES_GENERATE,save = False,save_path=None,prefix=f'adam_{EPOCHS}_coord_switchhappytodisgust',train_seed=train_seed,delta=False)\n",
    "\n",
    "\n"
   ]
  },
  {
   "cell_type": "code",
   "execution_count": null,
   "metadata": {},
   "outputs": [],
   "source": [
    "import threading"
   ]
  },
  {
   "cell_type": "code",
   "execution_count": 9,
   "metadata": {},
   "outputs": [
    {
     "name": "stdout",
     "output_type": "stream",
     "text": [
      "2023-10-19 19:07:34 [Petra Miller]- U ONLY PROPEL MY TRUTH\n",
      "[{'label': 'anger', 'score': 0.674485981464386}]\n",
      "Average scores: [0.674485981464386, 0.0, 0.0, 0.6622929573059082, 0.8021373748779297, 0.0, 0.0]\n",
      "2023-10-19 19:07:36 [Ted.]- Rahul :grinning_cat_with_smiling_eyes:\n",
      "[{'label': 'joy', 'score': 0.49819064140319824}]\n",
      "Average scores: [0.674485981464386, 0.0, 0.0, 0.6075921853383383, 0.8021373748779297, 0.0, 0.0]\n",
      "2023-10-19 19:07:37 [Vivaldi]- lofi is a dreams crusher \n",
      "[{'label': 'neutral', 'score': 0.9646530151367188}]\n",
      "Average scores: [0.674485981464386, 0.0, 0.0, 0.6075921853383383, 0.8201946682400174, 0.0, 0.0]\n",
      "2023-10-19 19:07:40 [doneswar]- :cat_with_tears_of_joy:\n",
      "[{'label': 'joy', 'score': 0.6010401248931885}]\n",
      "Average scores: [0.674485981464386, 0.0, 0.0, 0.6059541702270508, 0.8201946682400174, 0.0, 0.0]\n",
      "2023-10-19 19:07:40 […RO'A]- :slightly_smiling_face::slightly_smiling_face:\n",
      "[{'label': 'neutral', 'score': 0.6915953755378723}]\n",
      "Average scores: [0.674485981464386, 0.0, 0.0, 0.6059541702270508, 0.8073347389698029, 0.0, 0.0]\n",
      "2023-10-19 19:07:41 [Sereñe]- idk wt type of aggression i have\n",
      "[{'label': 'neutral', 'score': 0.5988132357597351}]\n",
      "Average scores: [0.674485981464386, 0.0, 0.0, 0.6059541702270508, 0.7883782386779785, 0.0, 0.0]\n",
      "2023-10-19 19:07:44 [Sanjana.V.S]- ye kya ho gaya mujko :moai::skull:\n",
      "[{'label': 'joy', 'score': 0.7027952671051025}]\n",
      "Average scores: [0.674485981464386, 0.0, 0.0, 0.6253223896026612, 0.7883782386779785, 0.0, 0.0]\n",
      "2023-10-19 19:07:45 [Flower 🌸 ]- .\n",
      "[{'label': 'neutral', 'score': 0.982885479927063}]\n",
      "Average scores: [0.674485981464386, 0.0, 0.0, 0.6253223896026612, 0.8045871754487356, 0.0, 0.0]\n",
      "2023-10-19 19:07:46 [𓆩⃪〭〬 SOғɪA QUEEN 🤍]- 8010 live\n",
      "[{'label': 'neutral', 'score': 0.9879615902900696}]\n",
      "Average scores: [0.674485981464386, 0.0, 0.0, 0.6253223896026612, 0.8186928996672997, 0.0, 0.0]\n",
      "2023-10-19 19:07:48 [Elina]- Tuff hii wassup\n",
      "[{'label': 'anger', 'score': 0.5228450298309326}]\n",
      "Average scores: [0.5986655056476593, 0.0, 0.0, 0.6253223896026612, 0.8186928996672997, 0.0, 0.0]\n"
     ]
    },
    {
     "name": "stderr",
     "output_type": "stream",
     "text": [
      "Visualizing frames: 100%|██████████| 300/300 [00:33<00:00,  9.00it/s]\n"
     ]
    },
    {
     "name": "stdout",
     "output_type": "stream",
     "text": [
      "2023-10-19 19:07:51 [Flower 🌸 ]- :slightly_smiling_face:\n",
      "[{'label': 'neutral', 'score': 0.8979910016059875}]\n",
      "Average scores: [0.5986655056476593, 0.0, 0.0, 0.6253223896026612, 0.8243570498057774, 0.0, 0.0]\n",
      "2023-10-19 19:07:51 [Sereñe]- hmm\n",
      "[{'label': 'neutral', 'score': 0.9865169525146484}]\n",
      "Average scores: [0.5986655056476593, 0.0, 0.0, 0.6253223896026612, 0.8351677099863688, 0.0, 0.0]\n",
      "2023-10-19 19:07:52 [Hinna]- Tuff Danny said Tuff gone now I'm crying in loud speakers :skull::skull::skull::skull::skull::skull::skull::skull:\n",
      "[{'label': 'sadness', 'score': 0.7676039934158325}]\n",
      "Average scores: [0.5986655056476593, 0.0, 0.0, 0.6253223896026612, 0.8351677099863688, 0.7676039934158325, 0.0]\n",
      "2023-10-19 19:07:53 [Petra Miller]- OF COURSE FLOWER\n",
      "[{'label': 'neutral', 'score': 0.9794634580612183}]\n",
      "Average scores: [0.5986655056476593, 0.0, 0.0, 0.6253223896026612, 0.8441861942410469, 0.7676039934158325, 0.0]\n",
      "2023-10-19 19:07:55 [s...☆.]- عدووووو ما اجااا.؟ :moai:\n",
      "[{'label': 'neutral', 'score': 0.9822618961334229}]\n",
      "Average scores: [0.5986655056476593, 0.0, 0.0, 0.6253223896026612, 0.8523082943523631, 0.7676039934158325, 0.0]\n",
      "2023-10-19 19:07:57 [Даниял]- Tuff, It was Hinna\n",
      "[{'label': 'neutral', 'score': 0.9822220802307129}]\n",
      "Average scores: [0.5986655056476593, 0.0, 0.0, 0.6253223896026612, 0.8595257269011604, 0.7676039934158325, 0.0]\n",
      "2023-10-19 19:07:59 [ro]- تقصد مريم ستأتي؟؟\n",
      "[{'label': 'neutral', 'score': 0.95401930809021}]\n",
      "Average scores: [0.5986655056476593, 0.0, 0.0, 0.6253223896026612, 0.8644990732795313, 0.7676039934158325, 0.0]\n",
      "2023-10-19 19:08:01 [B]- باكا مو ناقصني اطفال\n",
      "[{'label': 'neutral', 'score': 0.9052240252494812}]\n",
      "Average scores: [0.5986655056476593, 0.0, 0.0, 0.6253223896026612, 0.8665353208780289, 0.7676039934158325, 0.0]\n",
      "2023-10-19 19:08:01 [Asad]- @B say whatever u want\n",
      "[{'label': 'neutral', 'score': 0.9680923223495483}]\n",
      "Average scores: [0.5986655056476593, 0.0, 0.0, 0.6253223896026612, 0.8713713685671488, 0.7676039934158325, 0.0]\n",
      "2023-10-19 19:08:02 [Rahul]- @Ted. kitty psnd hai shayad\n",
      "[{'label': 'joy', 'score': 0.7957672476768494}]\n",
      "Average scores: [0.5986655056476593, 0.0, 0.0, 0.6537298659483591, 0.8713713685671488, 0.7676039934158325, 0.0]\n"
     ]
    },
    {
     "name": "stderr",
     "output_type": "stream",
     "text": [
      "Visualizing frames: 100%|██████████| 300/300 [00:34<00:00,  8.63it/s]\n"
     ]
    },
    {
     "name": "stdout",
     "output_type": "stream",
     "text": [
      "2023-10-19 19:08:02 [𝑺𝑨𝑴𝑬𝑹]- وعليكم السلام\n",
      "[{'label': 'neutral', 'score': 0.8485379219055176}]\n",
      "Average scores: [0.5986655056476593, 0.0, 0.0, 0.6537298659483591, 0.8703334846279838, 0.7676039934158325, 0.0]\n"
     ]
    },
    {
     "ename": "KeyboardInterrupt",
     "evalue": "",
     "output_type": "error",
     "traceback": [
      "\u001b[1;31m---------------------------------------------------------------------------\u001b[0m",
      "\u001b[1;31mKeyboardInterrupt\u001b[0m                         Traceback (most recent call last)",
      "\u001b[1;32mc:\\Users\\avika\\OneDrive\\Documents\\UAL\\interactive_dance_thesis\\main.ipynb Cell 8\u001b[0m line \u001b[0;36m2\n\u001b[0;32m      <a href='vscode-notebook-cell:/c%3A/Users/avika/OneDrive/Documents/UAL/interactive_dance_thesis/main.ipynb#Y356sZmlsZQ%3D%3D?line=0'>1</a>\u001b[0m \u001b[39mwhile\u001b[39;00m chat\u001b[39m.\u001b[39mis_alive():\n\u001b[1;32m----> <a href='vscode-notebook-cell:/c%3A/Users/avika/OneDrive/Documents/UAL/interactive_dance_thesis/main.ipynb#Y356sZmlsZQ%3D%3D?line=1'>2</a>\u001b[0m     \u001b[39mfor\u001b[39;00m c \u001b[39min\u001b[39;00m chat\u001b[39m.\u001b[39mget()\u001b[39m.\u001b[39msync_items():\n\u001b[0;32m      <a href='vscode-notebook-cell:/c%3A/Users/avika/OneDrive/Documents/UAL/interactive_dance_thesis/main.ipynb#Y356sZmlsZQ%3D%3D?line=2'>3</a>\u001b[0m         \u001b[39mprint\u001b[39m(\u001b[39mf\u001b[39m\u001b[39m\"\u001b[39m\u001b[39m{\u001b[39;00mc\u001b[39m.\u001b[39mdatetime\u001b[39m}\u001b[39;00m\u001b[39m [\u001b[39m\u001b[39m{\u001b[39;00mc\u001b[39m.\u001b[39mauthor\u001b[39m.\u001b[39mname\u001b[39m}\u001b[39;00m\u001b[39m]- \u001b[39m\u001b[39m{\u001b[39;00mc\u001b[39m.\u001b[39mmessage\u001b[39m}\u001b[39;00m\u001b[39m\"\u001b[39m)\n\u001b[0;32m      <a href='vscode-notebook-cell:/c%3A/Users/avika/OneDrive/Documents/UAL/interactive_dance_thesis/main.ipynb#Y356sZmlsZQ%3D%3D?line=3'>4</a>\u001b[0m         result \u001b[39m=\u001b[39m pipe(c\u001b[39m.\u001b[39mmessage)  \u001b[39m# Assuming pipe() returns emotion prediction\u001b[39;00m\n",
      "File \u001b[1;32mc:\\Users\\avika\\anaconda3\\envs\\interactive_dance_thesis\\lib\\site-packages\\pytchat\\processors\\default\\processor.py:89\u001b[0m, in \u001b[0;36mChatdata.sync_items\u001b[1;34m(self)\u001b[0m\n\u001b[0;32m     87\u001b[0m         \u001b[39mif\u001b[39;00m wait_sec \u001b[39m<\u001b[39m \u001b[39m0\u001b[39m:\n\u001b[0;32m     88\u001b[0m             wait_sec \u001b[39m=\u001b[39m \u001b[39m0\u001b[39m\n\u001b[1;32m---> 89\u001b[0m         time\u001b[39m.\u001b[39;49msleep(wait_sec)\n\u001b[0;32m     90\u001b[0m         \u001b[39myield\u001b[39;00m c\n\u001b[0;32m     91\u001b[0m stop_interval \u001b[39m=\u001b[39m time\u001b[39m.\u001b[39mtime() \u001b[39m-\u001b[39m starttime\n",
      "\u001b[1;31mKeyboardInterrupt\u001b[0m: "
     ]
    }
   ],
   "source": [
    "\n",
    "\n",
    "while chat.is_alive():\n",
    "    for c in chat.get().sync_items():\n",
    "        print(f\"{c.datetime} [{c.author.name}]- {c.message}\")\n",
    "        result = pipe(c.message)  # Assuming pipe() returns emotion prediction\n",
    "        print(result)\n",
    "        \n",
    "        # Update emotion data with new score and count\n",
    "        emotion = result[0]['label']\n",
    "        score = result[0]['score']\n",
    "        emotion_data[emotion][\"score\"] += score\n",
    "        emotion_data[emotion][\"count\"] += 1\n",
    "        \n",
    "        # Compute average scores for each emotion\n",
    "        for i, emotion in enumerate(emotion_labels):\n",
    "            if emotion_data[emotion][\"count\"] > 0:\n",
    "                average_scores[i] = emotion_data[emotion][\"score\"] / emotion_data[emotion][\"count\"]\n",
    "        \n",
    "        # Print average scores (can also store them elsewhere if needed)\n",
    "        print(\"Average scores:\", average_scores)\n",
    "        length  +=1\n",
    "        \n",
    "        if length % 10 ==0 :\n",
    "            # prep new input from chat emotion average scores and last 16 frames of generated\n",
    "            last_frames = unnorm_out[0][-16:]\n",
    "            new_batch = [frame[:-7] + average_scores for frame in last_frames]\n",
    "            new_batch = torch.tensor([new_batch]).to(device).float()\n",
    "\n",
    "            # generate new frames\n",
    "            generated = m.generate(new_batch, FRAMES_GENERATE)\n",
    "            unnorm_out = unnormalise_list_2D(generated, max_x, min_x, max_y, min_y,max_x, min_x, max_y, min_y)\n",
    "\n",
    "            # visualize\n",
    "            visualise_skeleton(unnorm_out[0], max_x, max_y, max_frames=FRAMES_GENERATE,save = False,save_path=None,prefix=f'adam_{EPOCHS}_coord_switchhappytodisgust',train_seed=train_seed,delta=False)\n"
   ]
  },
  {
   "cell_type": "code",
   "execution_count": 7,
   "metadata": {},
   "outputs": [
    {
     "name": "stdout",
     "output_type": "stream",
     "text": [
      "2023-10-19 18:55:18 [ Ar. Sharma~]- :cigarette:\n",
      "[{'label': 'neutral', 'score': 0.9502205848693848}]\n",
      "Average scores: [0.0, 0.0, 0.0, 0.0, 0.9502205848693848, 0.0, 0.0]\n",
      "2023-10-19 18:55:18 [Michael Terry Wilson]- Best wishes and love to everyone.\n",
      "[{'label': 'neutral', 'score': 0.682776689529419}]\n",
      "Average scores: [0.0, 0.0, 0.0, 0.0, 0.8164986371994019, 0.0, 0.0]\n"
     ]
    },
    {
     "ename": "KeyboardInterrupt",
     "evalue": "",
     "output_type": "error",
     "traceback": [
      "\u001b[1;31m---------------------------------------------------------------------------\u001b[0m",
      "\u001b[1;31mKeyboardInterrupt\u001b[0m                         Traceback (most recent call last)",
      "\u001b[1;32mc:\\Users\\avika\\OneDrive\\Documents\\UAL\\interactive_dance_thesis\\main.ipynb Cell 7\u001b[0m line \u001b[0;36m2\n\u001b[0;32m      <a href='vscode-notebook-cell:/c%3A/Users/avika/OneDrive/Documents/UAL/interactive_dance_thesis/main.ipynb#Y353sZmlsZQ%3D%3D?line=0'>1</a>\u001b[0m \u001b[39mwhile\u001b[39;00m chat\u001b[39m.\u001b[39mis_alive():\n\u001b[1;32m----> <a href='vscode-notebook-cell:/c%3A/Users/avika/OneDrive/Documents/UAL/interactive_dance_thesis/main.ipynb#Y353sZmlsZQ%3D%3D?line=1'>2</a>\u001b[0m     \u001b[39mfor\u001b[39;00m c \u001b[39min\u001b[39;00m chat\u001b[39m.\u001b[39mget()\u001b[39m.\u001b[39msync_items():\n\u001b[0;32m      <a href='vscode-notebook-cell:/c%3A/Users/avika/OneDrive/Documents/UAL/interactive_dance_thesis/main.ipynb#Y353sZmlsZQ%3D%3D?line=2'>3</a>\u001b[0m         \u001b[39mprint\u001b[39m(\u001b[39mf\u001b[39m\u001b[39m\"\u001b[39m\u001b[39m{\u001b[39;00mc\u001b[39m.\u001b[39mdatetime\u001b[39m}\u001b[39;00m\u001b[39m [\u001b[39m\u001b[39m{\u001b[39;00mc\u001b[39m.\u001b[39mauthor\u001b[39m.\u001b[39mname\u001b[39m}\u001b[39;00m\u001b[39m]- \u001b[39m\u001b[39m{\u001b[39;00mc\u001b[39m.\u001b[39mmessage\u001b[39m}\u001b[39;00m\u001b[39m\"\u001b[39m)\n\u001b[0;32m      <a href='vscode-notebook-cell:/c%3A/Users/avika/OneDrive/Documents/UAL/interactive_dance_thesis/main.ipynb#Y353sZmlsZQ%3D%3D?line=3'>4</a>\u001b[0m         result \u001b[39m=\u001b[39m pipe(c\u001b[39m.\u001b[39mmessage)  \u001b[39m# Assuming pipe() returns emotion prediction\u001b[39;00m\n",
      "File \u001b[1;32mc:\\Users\\avika\\anaconda3\\envs\\interactive_dance_thesis\\lib\\site-packages\\pytchat\\processors\\default\\processor.py:89\u001b[0m, in \u001b[0;36mChatdata.sync_items\u001b[1;34m(self)\u001b[0m\n\u001b[0;32m     87\u001b[0m         \u001b[39mif\u001b[39;00m wait_sec \u001b[39m<\u001b[39m \u001b[39m0\u001b[39m:\n\u001b[0;32m     88\u001b[0m             wait_sec \u001b[39m=\u001b[39m \u001b[39m0\u001b[39m\n\u001b[1;32m---> 89\u001b[0m         time\u001b[39m.\u001b[39;49msleep(wait_sec)\n\u001b[0;32m     90\u001b[0m         \u001b[39myield\u001b[39;00m c\n\u001b[0;32m     91\u001b[0m stop_interval \u001b[39m=\u001b[39m time\u001b[39m.\u001b[39mtime() \u001b[39m-\u001b[39m starttime\n",
      "\u001b[1;31mKeyboardInterrupt\u001b[0m: "
     ]
    }
   ],
   "source": [
    "\n",
    "while chat.is_alive():\n",
    "    for c in chat.get().sync_items():\n",
    "        print(f\"{c.datetime} [{c.author.name}]- {c.message}\")\n",
    "        result = pipe(c.message)  # Assuming pipe() returns emotion prediction\n",
    "        print(result)\n",
    "        \n",
    "        # Update emotion data with new score and count\n",
    "        emotion = result[0]['label']\n",
    "        score = result[0]['score']\n",
    "        emotion_data[emotion][\"score\"] += score\n",
    "        emotion_data[emotion][\"count\"] += 1\n",
    "        \n",
    "        # Compute average scores for each emotion\n",
    "        for i, emotion in enumerate(emotion_labels):\n",
    "            if emotion_data[emotion][\"count\"] > 0:\n",
    "                average_scores[i] = emotion_data[emotion][\"score\"] / emotion_data[emotion][\"count\"]\n",
    "        \n",
    "        # Print average scores (can also store them elsewhere if needed)\n",
    "        print(\"Average scores:\", average_scores)\n",
    "        length  +=1\n",
    "        \n",
    "        if length % 10 ==0 :\n",
    "            generated = m.generate(xb, FRAMES_GENERATE)\n"
   ]
  },
  {
   "cell_type": "code",
   "execution_count": null,
   "metadata": {},
   "outputs": [],
   "source": [
    "# Preparing MEED data for model\n",
    "MEED= prep_MEED_data()\n",
    "train_data,val_data,frame_dim,max_x,min_x,max_y,min_y,max_dx,min_dx,max_dy,min_dy = MEED"
   ]
  },
  {
   "cell_type": "code",
   "execution_count": 2,
   "metadata": {},
   "outputs": [
    {
     "name": "stderr",
     "output_type": "stream",
     "text": [
      "100%|██████████| 4102/4102 [00:03<00:00, 1086.69it/s]\n"
     ]
    },
    {
     "name": "stdout",
     "output_type": "stream",
     "text": [
      "Validating interpolation...\n",
      "No errors found!\n"
     ]
    },
    {
     "name": "stderr",
     "output_type": "stream",
     "text": [
      "4102it [00:01, 2499.12it/s]\n",
      "4102it [00:01, 2397.84it/s]\n"
     ]
    },
    {
     "name": "stdout",
     "output_type": "stream",
     "text": [
      "Creating keypoint frames...\n"
     ]
    },
    {
     "name": "stderr",
     "output_type": "stream",
     "text": [
      "100%|██████████| 4102/4102 [00:03<00:00, 1039.36it/s]\n"
     ]
    },
    {
     "name": "stdout",
     "output_type": "stream",
     "text": [
      "Creating keypoint frames...\n"
     ]
    },
    {
     "name": "stderr",
     "output_type": "stream",
     "text": [
      "100%|██████████| 4102/4102 [00:03<00:00, 1149.98it/s]\n"
     ]
    },
    {
     "name": "stdout",
     "output_type": "stream",
     "text": [
      "Validating length of dkp_frames\n",
      "Validating length of kp_frames\n",
      "Adding deltas to frames...\n"
     ]
    },
    {
     "name": "stderr",
     "output_type": "stream",
     "text": [
      "4102it [00:03, 1110.06it/s]\n"
     ]
    },
    {
     "name": "stdout",
     "output_type": "stream",
     "text": [
      "Validating length of data after delta\n",
      "Adding emotions to frames...\n"
     ]
    },
    {
     "name": "stderr",
     "output_type": "stream",
     "text": [
      "100%|██████████| 4102/4102 [00:00<00:00, 9863.41it/s]\n"
     ]
    },
    {
     "name": "stdout",
     "output_type": "stream",
     "text": [
      "Validating length of data after emotions\n",
      "frame_dim: 107\n",
      "Loading checkpoint...\n",
      "Checkpoint loaded from checkpoints/proto5_checkpoint.pth\n",
      "Generating sequence of 300 frames...\n"
     ]
    },
    {
     "ename": "NameError",
     "evalue": "name 'batch' is not defined",
     "output_type": "error",
     "traceback": [
      "\u001b[1;31m---------------------------------------------------------------------------\u001b[0m",
      "\u001b[1;31mNameError\u001b[0m                                 Traceback (most recent call last)",
      "\u001b[1;32mc:\\Users\\avika\\OneDrive\\Documents\\UAL\\interactive_dance_thesis\\main.ipynb Cell 4\u001b[0m line \u001b[0;36m1\n\u001b[0;32m     <a href='vscode-notebook-cell:/c%3A/Users/avika/OneDrive/Documents/UAL/interactive_dance_thesis/main.ipynb#W4sZmlsZQ%3D%3D?line=13'>14</a>\u001b[0m generated \u001b[39m=\u001b[39m m\u001b[39m.\u001b[39mgenerate(xb, FRAMES_GENERATE)\n\u001b[0;32m     <a href='vscode-notebook-cell:/c%3A/Users/avika/OneDrive/Documents/UAL/interactive_dance_thesis/main.ipynb#W4sZmlsZQ%3D%3D?line=14'>15</a>\u001b[0m unnorm_out \u001b[39m=\u001b[39m unnormalise_list_2D(generated, max_x, min_x, max_y, min_y,max_x, min_x, max_y, min_y)\n\u001b[1;32m---> <a href='vscode-notebook-cell:/c%3A/Users/avika/OneDrive/Documents/UAL/interactive_dance_thesis/main.ipynb#W4sZmlsZQ%3D%3D?line=15'>16</a>\u001b[0m visualise_skeleton(batch, max_x, max_y, max_frames\u001b[39m=\u001b[39mFRAMES_GENERATE,save \u001b[39m=\u001b[39m \u001b[39mTrue\u001b[39;00m,save_path\u001b[39m=\u001b[39m\u001b[39mNone\u001b[39;00m,prefix\u001b[39m=\u001b[39m\u001b[39mf\u001b[39m\u001b[39m'\u001b[39m\u001b[39madam_\u001b[39m\u001b[39m{\u001b[39;00mEPOCHS\u001b[39m}\u001b[39;00m\u001b[39m_coord\u001b[39m\u001b[39m'\u001b[39m,train_seed\u001b[39m=\u001b[39mtrain_seed,delta\u001b[39m=\u001b[39m\u001b[39mFalse\u001b[39;00m)\n",
      "\u001b[1;31mNameError\u001b[0m: name 'batch' is not defined"
     ]
    }
   ],
   "source": [
    "\n",
    "\n",
    "CHECKPOINT_PATH = \"checkpoints/proto5_checkpoint.pth\"\n",
    "\n",
    "# create model\n",
    "m = MotionModel(input_dim=frame_dim, output_dim=frame_dim, blocksize=BLOCK_SIZE, hidden_dim=512, n_layers=8, dropout=DROPOUT)\n",
    "m = m.to(device)\n",
    "optimizer = torch.optim.Adam(m.parameters(), lr=LEARNING_RATE, weight_decay=L2_REG)  # weight_decay=1e-5 L2 regularization\n",
    "m, optimizer,scheduler, epoch, loss, train_seed = load_checkpoint(m, optimizer, CHECKPOINT_PATH)\n",
    "# Generate a sequence\n",
    "print(f'Generating sequence of {FRAMES_GENERATE} frames...')\n",
    "\n",
    "generated = m.generate(, FRAMES_GENERATE)\n",
    "unnorm_out = unnormalise_list_2D(generated, max_x, min_x, max_y, min_y,max_x, min_x, max_y, min_y)\n",
    "\n"
   ]
  },
  {
   "cell_type": "code",
   "execution_count": 19,
   "metadata": {},
   "outputs": [
    {
     "data": {
      "text/plain": [
       "['Anger', 'Fear', 'Happiness']"
      ]
     },
     "execution_count": 19,
     "metadata": {},
     "output_type": "execute_result"
    }
   ],
   "source": [
    "def encoding_to_emotions(encoding):\n",
    "    \"\"\"\n",
    "    Convert an encoding to its corresponding emotion labels.\n",
    "    \n",
    "    Parameters:\n",
    "    - encoding (list of int): The encoding of the emotions.\n",
    "    \n",
    "    Returns:\n",
    "    - list of str: The labels of the emotions.\n",
    "    \"\"\"\n",
    "    \n",
    "    emotion_labels = ['Anger', 'Disgust', 'Fear', 'Happiness', 'Neutral', 'Sad', 'Surprise']\n",
    "    \n",
    "    # Find the indices of non-zero values in the encoding and return the corresponding labels\n",
    "    emotion_indices = [i for i, value in enumerate(encoding) if value > 0]\n",
    "    return [emotion_labels[i] for i in emotion_indices]\n",
    "\n",
    "# Test the function with an example encoding\n",
    "test_encoding = [0.97, 0, 1, 1, 0, 0, 0]\n",
    "encoding_to_emotions(test_encoding)\n"
   ]
  },
  {
   "cell_type": "code",
   "execution_count": 12,
   "metadata": {},
   "outputs": [
    {
     "data": {
      "text/plain": [
       "[0.0, 0.0, 0.0, 1.0, 0.0, 0.0, 0.0]"
      ]
     },
     "execution_count": 12,
     "metadata": {},
     "output_type": "execute_result"
    }
   ],
   "source": [
    "frame[-7:]"
   ]
  },
  {
   "cell_type": "code",
   "execution_count": 33,
   "metadata": {},
   "outputs": [
    {
     "name": "stdout",
     "output_type": "stream",
     "text": [
      "['Happiness']\n",
      "['Happiness']\n",
      "['Happiness']\n",
      "['Happiness']\n",
      "['Happiness']\n",
      "['Happiness']\n",
      "['Happiness']\n",
      "['Happiness']\n",
      "['Happiness']\n",
      "['Happiness']\n",
      "['Happiness']\n",
      "['Happiness']\n",
      "['Happiness']\n",
      "['Happiness']\n",
      "['Happiness']\n",
      "['Happiness']\n",
      "['Anger', 'Disgust', 'Happiness', 'Neutral']\n",
      "['Anger', 'Disgust', 'Happiness', 'Surprise']\n",
      "['Anger', 'Disgust', 'Happiness', 'Surprise']\n",
      "['Anger', 'Disgust', 'Happiness', 'Surprise']\n",
      "['Anger', 'Disgust', 'Happiness', 'Surprise']\n",
      "['Anger', 'Disgust', 'Happiness', 'Surprise']\n",
      "['Anger', 'Disgust', 'Happiness', 'Surprise']\n",
      "['Anger', 'Disgust', 'Happiness', 'Surprise']\n",
      "['Anger', 'Happiness', 'Neutral', 'Surprise']\n",
      "['Anger', 'Disgust', 'Happiness', 'Sad', 'Surprise']\n",
      "['Anger', 'Disgust', 'Happiness', 'Surprise']\n",
      "['Anger', 'Disgust', 'Happiness', 'Surprise']\n",
      "['Anger', 'Disgust', 'Fear', 'Happiness']\n",
      "['Anger', 'Disgust', 'Happiness', 'Surprise']\n",
      "['Anger', 'Disgust', 'Happiness', 'Surprise']\n",
      "['Anger', 'Disgust', 'Happiness', 'Surprise']\n",
      "['Anger', 'Disgust', 'Happiness', 'Surprise']\n",
      "['Anger', 'Disgust', 'Happiness', 'Sad', 'Surprise']\n",
      "['Anger', 'Disgust', 'Happiness', 'Surprise']\n",
      "['Anger', 'Disgust', 'Happiness', 'Neutral', 'Sad', 'Surprise']\n",
      "['Anger', 'Disgust', 'Happiness', 'Neutral', 'Surprise']\n",
      "['Anger', 'Disgust', 'Happiness', 'Neutral', 'Surprise']\n",
      "['Anger', 'Disgust', 'Fear', 'Happiness', 'Surprise']\n",
      "['Anger', 'Disgust', 'Happiness', 'Neutral', 'Sad']\n",
      "['Disgust', 'Happiness', 'Neutral', 'Surprise']\n",
      "['Anger', 'Disgust', 'Happiness', 'Neutral', 'Surprise']\n",
      "['Anger', 'Disgust', 'Happiness', 'Neutral', 'Surprise']\n",
      "['Anger', 'Disgust', 'Happiness', 'Neutral', 'Sad']\n",
      "['Disgust', 'Happiness', 'Neutral', 'Surprise']\n",
      "['Anger', 'Happiness', 'Neutral', 'Surprise']\n",
      "['Disgust', 'Happiness', 'Neutral', 'Sad', 'Surprise']\n",
      "['Anger', 'Disgust', 'Happiness', 'Neutral', 'Sad']\n",
      "['Anger', 'Disgust', 'Happiness', 'Neutral']\n",
      "['Anger', 'Happiness', 'Neutral', 'Surprise']\n",
      "['Anger', 'Disgust', 'Happiness', 'Neutral', 'Surprise']\n",
      "['Anger', 'Disgust', 'Happiness', 'Neutral', 'Sad', 'Surprise']\n",
      "['Anger', 'Disgust', 'Happiness', 'Neutral', 'Surprise']\n",
      "['Anger', 'Disgust', 'Happiness', 'Surprise']\n",
      "['Anger', 'Disgust', 'Happiness']\n",
      "['Anger', 'Disgust', 'Happiness', 'Neutral', 'Surprise']\n",
      "['Anger', 'Disgust', 'Happiness', 'Neutral', 'Surprise']\n",
      "['Anger', 'Disgust', 'Happiness', 'Neutral', 'Sad', 'Surprise']\n",
      "['Anger', 'Fear', 'Happiness', 'Neutral', 'Surprise']\n",
      "['Disgust', 'Happiness', 'Neutral', 'Sad', 'Surprise']\n",
      "['Anger', 'Disgust', 'Happiness', 'Sad', 'Surprise']\n",
      "['Anger', 'Disgust', 'Happiness', 'Surprise']\n",
      "['Anger', 'Disgust', 'Happiness', 'Neutral', 'Surprise']\n",
      "['Anger', 'Disgust', 'Happiness', 'Neutral', 'Surprise']\n",
      "['Anger', 'Disgust', 'Happiness', 'Neutral', 'Surprise']\n",
      "['Anger', 'Disgust', 'Happiness', 'Neutral', 'Sad', 'Surprise']\n",
      "['Disgust', 'Happiness', 'Neutral', 'Sad', 'Surprise']\n",
      "['Disgust', 'Happiness', 'Surprise']\n",
      "['Anger', 'Disgust', 'Happiness', 'Neutral', 'Sad', 'Surprise']\n",
      "['Anger', 'Disgust', 'Happiness', 'Neutral', 'Sad', 'Surprise']\n",
      "['Anger', 'Happiness', 'Neutral', 'Sad', 'Surprise']\n",
      "['Anger', 'Disgust', 'Happiness', 'Neutral', 'Sad']\n",
      "['Anger', 'Disgust', 'Happiness', 'Neutral', 'Surprise']\n",
      "['Disgust', 'Happiness', 'Neutral', 'Surprise']\n",
      "['Anger', 'Disgust', 'Happiness', 'Neutral', 'Sad', 'Surprise']\n",
      "['Anger', 'Disgust', 'Happiness', 'Neutral', 'Sad', 'Surprise']\n",
      "['Disgust', 'Happiness', 'Neutral', 'Surprise']\n",
      "['Anger', 'Disgust', 'Happiness', 'Neutral', 'Sad', 'Surprise']\n",
      "['Disgust', 'Happiness', 'Neutral', 'Surprise']\n",
      "['Disgust', 'Happiness', 'Neutral', 'Sad', 'Surprise']\n",
      "['Disgust', 'Happiness', 'Neutral', 'Surprise']\n",
      "['Anger', 'Disgust', 'Happiness', 'Neutral', 'Sad', 'Surprise']\n",
      "['Anger', 'Disgust', 'Happiness', 'Neutral', 'Sad', 'Surprise']\n",
      "['Disgust', 'Happiness', 'Neutral', 'Surprise']\n",
      "['Anger', 'Happiness', 'Neutral', 'Surprise']\n",
      "['Disgust', 'Happiness', 'Neutral', 'Surprise']\n",
      "['Happiness', 'Neutral', 'Surprise']\n",
      "['Anger', 'Disgust', 'Happiness', 'Neutral', 'Surprise']\n",
      "['Disgust', 'Happiness', 'Neutral', 'Sad', 'Surprise']\n",
      "['Disgust', 'Happiness', 'Neutral', 'Sad', 'Surprise']\n",
      "['Disgust', 'Fear', 'Happiness', 'Neutral', 'Surprise']\n",
      "['Anger', 'Disgust', 'Happiness', 'Neutral', 'Surprise']\n",
      "['Anger', 'Disgust', 'Happiness', 'Neutral', 'Surprise']\n",
      "['Disgust', 'Happiness', 'Neutral', 'Surprise']\n",
      "['Anger', 'Disgust', 'Happiness', 'Neutral', 'Surprise']\n",
      "['Disgust', 'Happiness', 'Neutral', 'Surprise']\n",
      "['Anger', 'Disgust', 'Happiness', 'Neutral']\n",
      "['Disgust', 'Happiness', 'Neutral', 'Sad', 'Surprise']\n",
      "['Anger', 'Disgust', 'Happiness', 'Sad', 'Surprise']\n",
      "['Anger', 'Disgust', 'Happiness', 'Neutral', 'Sad', 'Surprise']\n",
      "['Disgust', 'Happiness', 'Neutral', 'Sad', 'Surprise']\n",
      "['Anger', 'Disgust', 'Fear', 'Happiness', 'Neutral', 'Sad']\n",
      "['Anger', 'Disgust', 'Happiness', 'Neutral', 'Surprise']\n",
      "['Disgust', 'Happiness', 'Neutral', 'Surprise']\n",
      "['Disgust', 'Happiness', 'Neutral']\n",
      "['Happiness', 'Neutral', 'Sad', 'Surprise']\n",
      "['Anger', 'Disgust', 'Happiness', 'Neutral', 'Surprise']\n",
      "['Disgust', 'Happiness', 'Neutral', 'Surprise']\n",
      "['Disgust', 'Happiness', 'Neutral', 'Sad', 'Surprise']\n",
      "['Disgust', 'Happiness', 'Neutral', 'Surprise']\n",
      "['Disgust', 'Happiness', 'Neutral', 'Sad']\n",
      "['Disgust', 'Happiness', 'Neutral', 'Surprise']\n",
      "['Anger', 'Happiness', 'Neutral', 'Sad', 'Surprise']\n",
      "['Anger', 'Disgust', 'Happiness', 'Neutral', 'Sad', 'Surprise']\n",
      "['Disgust', 'Fear', 'Happiness', 'Neutral', 'Surprise']\n",
      "['Happiness', 'Neutral', 'Surprise']\n",
      "['Disgust', 'Happiness', 'Neutral', 'Surprise']\n",
      "['Disgust', 'Fear', 'Happiness', 'Neutral', 'Surprise']\n",
      "['Disgust', 'Fear', 'Happiness', 'Surprise']\n",
      "['Anger', 'Disgust', 'Fear', 'Happiness', 'Sad']\n",
      "['Anger', 'Disgust', 'Fear', 'Happiness', 'Neutral', 'Surprise']\n",
      "['Disgust', 'Happiness', 'Neutral', 'Surprise']\n",
      "['Anger', 'Disgust', 'Fear', 'Happiness', 'Neutral', 'Surprise']\n",
      "['Anger', 'Disgust', 'Fear', 'Happiness', 'Neutral', 'Surprise']\n",
      "['Disgust', 'Happiness', 'Neutral']\n",
      "['Disgust', 'Happiness', 'Neutral', 'Surprise']\n",
      "['Disgust', 'Happiness', 'Neutral', 'Surprise']\n",
      "['Disgust', 'Happiness', 'Neutral', 'Surprise']\n",
      "['Disgust', 'Happiness', 'Neutral', 'Surprise']\n",
      "['Disgust', 'Happiness', 'Neutral', 'Sad', 'Surprise']\n",
      "['Disgust', 'Happiness', 'Neutral', 'Sad', 'Surprise']\n",
      "['Happiness', 'Neutral', 'Sad', 'Surprise']\n",
      "['Disgust', 'Happiness', 'Neutral', 'Sad', 'Surprise']\n",
      "['Anger', 'Disgust', 'Happiness', 'Neutral', 'Sad', 'Surprise']\n",
      "['Disgust', 'Happiness', 'Neutral', 'Sad', 'Surprise']\n",
      "['Anger', 'Disgust', 'Happiness', 'Neutral', 'Surprise']\n",
      "['Disgust', 'Happiness', 'Neutral', 'Surprise']\n",
      "['Disgust', 'Happiness', 'Neutral', 'Sad', 'Surprise']\n",
      "['Disgust', 'Fear', 'Happiness', 'Neutral', 'Sad', 'Surprise']\n",
      "['Anger', 'Disgust', 'Fear', 'Happiness', 'Neutral', 'Surprise']\n",
      "['Happiness', 'Neutral', 'Sad', 'Surprise']\n",
      "['Disgust', 'Fear', 'Happiness', 'Neutral', 'Surprise']\n",
      "['Disgust', 'Happiness', 'Neutral', 'Sad', 'Surprise']\n",
      "['Disgust', 'Happiness', 'Neutral', 'Sad', 'Surprise']\n",
      "['Disgust', 'Happiness', 'Surprise']\n",
      "['Anger', 'Disgust', 'Happiness', 'Neutral', 'Surprise']\n",
      "['Disgust', 'Fear', 'Happiness', 'Neutral', 'Surprise']\n",
      "['Anger', 'Disgust', 'Fear', 'Happiness', 'Neutral', 'Surprise']\n",
      "['Disgust', 'Fear', 'Happiness', 'Neutral', 'Surprise']\n",
      "['Disgust', 'Happiness', 'Neutral', 'Sad', 'Surprise']\n",
      "['Anger', 'Disgust', 'Happiness', 'Neutral', 'Surprise']\n",
      "['Anger', 'Disgust', 'Happiness', 'Neutral', 'Surprise']\n",
      "['Anger', 'Disgust', 'Happiness', 'Neutral', 'Surprise']\n",
      "['Anger', 'Disgust', 'Happiness', 'Neutral', 'Surprise']\n",
      "['Anger', 'Disgust', 'Happiness', 'Neutral', 'Surprise']\n",
      "['Anger', 'Disgust', 'Happiness', 'Sad', 'Surprise']\n",
      "['Anger', 'Happiness', 'Sad', 'Surprise']\n",
      "['Anger', 'Fear', 'Happiness', 'Neutral']\n",
      "['Anger', 'Disgust', 'Happiness', 'Neutral', 'Surprise']\n",
      "['Anger', 'Happiness', 'Neutral', 'Surprise']\n",
      "['Disgust', 'Happiness', 'Neutral', 'Surprise']\n",
      "['Disgust', 'Happiness', 'Neutral', 'Surprise']\n",
      "['Disgust', 'Happiness', 'Neutral', 'Surprise']\n",
      "['Anger', 'Disgust', 'Happiness', 'Neutral', 'Sad', 'Surprise']\n",
      "['Disgust', 'Happiness', 'Neutral']\n",
      "['Anger', 'Disgust', 'Fear', 'Happiness', 'Neutral', 'Sad', 'Surprise']\n",
      "['Disgust', 'Fear', 'Happiness', 'Neutral', 'Sad', 'Surprise']\n",
      "['Disgust', 'Fear', 'Happiness', 'Neutral', 'Surprise']\n",
      "['Anger', 'Happiness', 'Neutral', 'Sad', 'Surprise']\n",
      "['Happiness', 'Neutral', 'Surprise']\n",
      "['Disgust', 'Happiness', 'Neutral', 'Sad', 'Surprise']\n",
      "['Disgust', 'Fear', 'Happiness', 'Neutral', 'Surprise']\n",
      "['Anger', 'Disgust', 'Happiness', 'Neutral', 'Sad']\n",
      "['Disgust', 'Happiness', 'Neutral', 'Surprise']\n",
      "['Disgust', 'Fear', 'Happiness', 'Neutral', 'Sad', 'Surprise']\n",
      "['Disgust', 'Fear', 'Happiness', 'Neutral', 'Sad', 'Surprise']\n",
      "['Happiness', 'Neutral', 'Surprise']\n",
      "['Disgust', 'Happiness', 'Neutral', 'Surprise']\n",
      "['Anger', 'Disgust', 'Happiness', 'Neutral', 'Surprise']\n",
      "['Anger', 'Disgust', 'Fear', 'Happiness', 'Surprise']\n",
      "['Anger', 'Disgust', 'Fear', 'Happiness', 'Neutral', 'Surprise']\n",
      "['Anger', 'Disgust', 'Happiness', 'Neutral', 'Surprise']\n",
      "['Disgust', 'Happiness', 'Neutral', 'Sad', 'Surprise']\n",
      "['Anger', 'Disgust', 'Fear', 'Happiness', 'Neutral', 'Surprise']\n",
      "['Anger', 'Disgust', 'Happiness', 'Neutral', 'Surprise']\n",
      "['Anger', 'Disgust', 'Fear', 'Happiness', 'Neutral', 'Sad', 'Surprise']\n",
      "['Anger', 'Disgust', 'Happiness', 'Neutral', 'Sad', 'Surprise']\n",
      "['Fear', 'Happiness', 'Neutral', 'Sad', 'Surprise']\n",
      "['Disgust', 'Happiness', 'Neutral', 'Sad', 'Surprise']\n",
      "['Anger', 'Happiness', 'Neutral', 'Surprise']\n",
      "['Anger', 'Disgust', 'Fear', 'Happiness', 'Neutral', 'Sad', 'Surprise']\n",
      "['Disgust', 'Happiness', 'Neutral', 'Surprise']\n",
      "['Disgust', 'Happiness', 'Neutral', 'Sad', 'Surprise']\n",
      "['Anger', 'Disgust', 'Happiness', 'Neutral']\n",
      "['Disgust', 'Happiness', 'Neutral', 'Surprise']\n",
      "['Disgust', 'Fear', 'Happiness', 'Neutral', 'Sad', 'Surprise']\n",
      "['Happiness', 'Neutral', 'Sad', 'Surprise']\n",
      "['Anger', 'Disgust', 'Happiness', 'Neutral', 'Surprise']\n",
      "['Disgust', 'Happiness', 'Neutral', 'Sad', 'Surprise']\n",
      "['Anger', 'Happiness', 'Neutral', 'Surprise']\n",
      "['Anger', 'Fear', 'Happiness', 'Neutral', 'Surprise']\n",
      "['Disgust', 'Happiness', 'Neutral', 'Sad', 'Surprise']\n",
      "['Anger', 'Disgust', 'Happiness', 'Neutral', 'Surprise']\n",
      "['Anger', 'Disgust', 'Happiness', 'Neutral', 'Surprise']\n",
      "['Anger', 'Disgust', 'Happiness', 'Neutral', 'Sad']\n",
      "['Anger', 'Disgust', 'Happiness', 'Surprise']\n",
      "['Disgust', 'Happiness', 'Neutral', 'Sad', 'Surprise']\n",
      "['Disgust', 'Fear', 'Happiness', 'Neutral', 'Sad', 'Surprise']\n",
      "['Happiness', 'Neutral', 'Sad', 'Surprise']\n",
      "['Disgust', 'Happiness', 'Neutral', 'Sad', 'Surprise']\n",
      "['Anger', 'Disgust', 'Fear', 'Happiness', 'Neutral', 'Surprise']\n",
      "['Disgust', 'Happiness', 'Neutral', 'Surprise']\n",
      "['Disgust', 'Fear', 'Happiness', 'Neutral', 'Surprise']\n",
      "['Anger', 'Disgust', 'Fear', 'Happiness', 'Neutral', 'Sad', 'Surprise']\n",
      "['Anger', 'Disgust', 'Happiness', 'Neutral', 'Surprise']\n",
      "['Anger', 'Happiness', 'Neutral', 'Sad', 'Surprise']\n",
      "['Anger', 'Disgust', 'Fear', 'Happiness', 'Neutral', 'Surprise']\n",
      "['Anger', 'Happiness', 'Neutral', 'Sad', 'Surprise']\n",
      "['Anger', 'Disgust', 'Happiness', 'Neutral', 'Surprise']\n",
      "['Anger', 'Disgust', 'Happiness', 'Neutral', 'Surprise']\n",
      "['Happiness', 'Neutral', 'Sad', 'Surprise']\n",
      "['Anger', 'Disgust', 'Fear', 'Happiness', 'Neutral', 'Surprise']\n",
      "['Anger', 'Disgust', 'Happiness', 'Neutral', 'Surprise']\n",
      "['Disgust', 'Happiness', 'Neutral', 'Surprise']\n",
      "['Anger', 'Disgust', 'Happiness', 'Neutral', 'Surprise']\n",
      "['Anger', 'Disgust', 'Happiness', 'Neutral', 'Sad', 'Surprise']\n",
      "['Disgust', 'Happiness', 'Neutral', 'Surprise']\n",
      "['Disgust', 'Happiness', 'Neutral', 'Surprise']\n",
      "['Disgust', 'Happiness', 'Neutral', 'Surprise']\n",
      "['Disgust', 'Happiness', 'Neutral', 'Sad', 'Surprise']\n",
      "['Disgust', 'Happiness', 'Neutral', 'Surprise']\n",
      "['Disgust', 'Fear', 'Happiness', 'Neutral', 'Sad', 'Surprise']\n",
      "['Anger', 'Disgust', 'Happiness', 'Neutral', 'Sad', 'Surprise']\n",
      "['Anger', 'Fear', 'Happiness', 'Neutral', 'Sad', 'Surprise']\n",
      "['Anger', 'Disgust', 'Fear', 'Happiness', 'Neutral']\n",
      "['Happiness', 'Neutral', 'Surprise']\n",
      "['Anger', 'Happiness', 'Neutral', 'Surprise']\n",
      "['Happiness', 'Neutral', 'Surprise']\n",
      "['Anger', 'Happiness', 'Neutral', 'Sad', 'Surprise']\n",
      "['Happiness', 'Neutral', 'Sad', 'Surprise']\n",
      "['Anger', 'Disgust', 'Happiness', 'Neutral', 'Surprise']\n",
      "['Anger', 'Disgust', 'Fear', 'Happiness', 'Neutral', 'Sad', 'Surprise']\n",
      "['Anger', 'Disgust', 'Happiness', 'Neutral', 'Surprise']\n",
      "['Anger', 'Happiness', 'Neutral', 'Sad', 'Surprise']\n",
      "['Disgust', 'Happiness', 'Neutral', 'Sad', 'Surprise']\n",
      "['Anger', 'Disgust', 'Happiness', 'Neutral', 'Sad', 'Surprise']\n",
      "['Happiness', 'Neutral', 'Sad', 'Surprise']\n",
      "['Anger', 'Disgust', 'Happiness', 'Neutral', 'Sad', 'Surprise']\n",
      "['Anger', 'Disgust', 'Happiness', 'Neutral', 'Sad', 'Surprise']\n",
      "['Anger', 'Disgust', 'Happiness', 'Neutral', 'Surprise']\n",
      "['Anger', 'Disgust', 'Happiness', 'Neutral', 'Surprise']\n",
      "['Anger', 'Disgust', 'Happiness', 'Neutral', 'Sad', 'Surprise']\n",
      "['Anger', 'Disgust', 'Happiness', 'Neutral', 'Sad', 'Surprise']\n",
      "['Anger', 'Disgust', 'Happiness', 'Neutral', 'Surprise']\n",
      "['Anger', 'Disgust', 'Happiness', 'Neutral', 'Sad', 'Surprise']\n",
      "['Disgust', 'Happiness', 'Neutral', 'Sad', 'Surprise']\n",
      "['Disgust', 'Happiness', 'Neutral', 'Sad', 'Surprise']\n",
      "['Disgust', 'Fear', 'Happiness', 'Neutral', 'Sad', 'Surprise']\n",
      "['Anger', 'Disgust', 'Happiness', 'Neutral', 'Surprise']\n",
      "['Disgust', 'Fear', 'Happiness', 'Neutral', 'Sad', 'Surprise']\n",
      "['Disgust', 'Happiness', 'Neutral', 'Surprise']\n",
      "['Happiness', 'Neutral', 'Sad', 'Surprise']\n",
      "['Anger', 'Disgust', 'Happiness', 'Neutral', 'Surprise']\n",
      "['Disgust', 'Fear', 'Happiness', 'Neutral', 'Surprise']\n",
      "['Anger', 'Fear', 'Happiness', 'Neutral', 'Sad', 'Surprise']\n",
      "['Anger', 'Disgust', 'Happiness', 'Neutral', 'Surprise']\n",
      "['Fear', 'Happiness', 'Neutral', 'Surprise']\n",
      "['Anger', 'Disgust', 'Happiness', 'Neutral', 'Sad', 'Surprise']\n",
      "['Anger', 'Disgust', 'Happiness', 'Neutral', 'Surprise']\n",
      "['Anger', 'Disgust', 'Happiness', 'Sad', 'Surprise']\n",
      "['Disgust', 'Happiness', 'Neutral', 'Sad', 'Surprise']\n",
      "['Anger', 'Disgust', 'Happiness', 'Neutral', 'Sad', 'Surprise']\n",
      "['Anger', 'Happiness', 'Neutral', 'Sad', 'Surprise']\n",
      "['Disgust', 'Happiness', 'Neutral', 'Sad', 'Surprise']\n",
      "['Disgust', 'Happiness', 'Neutral', 'Sad', 'Surprise']\n",
      "['Disgust', 'Happiness', 'Neutral', 'Sad', 'Surprise']\n",
      "['Disgust', 'Happiness', 'Neutral', 'Sad', 'Surprise']\n",
      "['Disgust', 'Happiness', 'Neutral', 'Sad', 'Surprise']\n",
      "['Anger', 'Disgust', 'Happiness', 'Neutral', 'Sad', 'Surprise']\n",
      "['Anger', 'Disgust', 'Happiness', 'Neutral', 'Surprise']\n",
      "['Anger', 'Disgust', 'Happiness', 'Neutral', 'Surprise']\n",
      "['Anger', 'Disgust', 'Happiness', 'Surprise']\n",
      "['Anger', 'Disgust', 'Happiness', 'Neutral', 'Sad']\n",
      "['Anger', 'Disgust', 'Fear', 'Happiness', 'Neutral', 'Surprise']\n",
      "['Disgust', 'Happiness', 'Neutral', 'Sad', 'Surprise']\n",
      "['Anger', 'Disgust', 'Happiness', 'Neutral', 'Sad', 'Surprise']\n",
      "['Disgust', 'Fear', 'Happiness', 'Neutral', 'Surprise']\n",
      "['Disgust', 'Fear', 'Happiness', 'Neutral', 'Surprise']\n",
      "['Anger', 'Disgust', 'Happiness', 'Neutral', 'Sad', 'Surprise']\n",
      "['Anger', 'Fear', 'Happiness', 'Neutral', 'Surprise']\n",
      "['Anger', 'Disgust', 'Happiness', 'Neutral', 'Surprise']\n",
      "['Anger', 'Disgust', 'Happiness', 'Neutral', 'Surprise']\n",
      "['Disgust', 'Happiness', 'Neutral', 'Sad', 'Surprise']\n",
      "['Anger', 'Disgust', 'Fear', 'Happiness', 'Neutral', 'Sad', 'Surprise']\n",
      "['Anger', 'Disgust', 'Happiness', 'Neutral', 'Surprise']\n",
      "['Anger', 'Happiness', 'Neutral', 'Surprise']\n",
      "['Anger', 'Disgust', 'Happiness', 'Neutral', 'Surprise']\n",
      "['Anger', 'Fear', 'Happiness', 'Neutral', 'Sad', 'Surprise']\n",
      "['Anger', 'Disgust', 'Happiness', 'Neutral', 'Sad', 'Surprise']\n",
      "['Anger', 'Disgust', 'Fear', 'Happiness', 'Neutral', 'Sad', 'Surprise']\n",
      "['Anger', 'Disgust', 'Happiness', 'Sad', 'Surprise']\n",
      "['Anger', 'Disgust', 'Happiness', 'Sad', 'Surprise']\n",
      "['Disgust', 'Happiness', 'Neutral', 'Sad', 'Surprise']\n",
      "['Anger', 'Disgust', 'Happiness', 'Neutral', 'Sad']\n",
      "['Anger', 'Disgust', 'Happiness', 'Neutral', 'Sad', 'Surprise']\n",
      "['Anger', 'Disgust', 'Happiness', 'Neutral', 'Surprise']\n",
      "['Disgust', 'Happiness', 'Neutral', 'Surprise']\n",
      "['Anger', 'Disgust', 'Happiness', 'Neutral', 'Sad', 'Surprise']\n",
      "['Disgust', 'Fear', 'Happiness', 'Neutral']\n",
      "['Disgust', 'Happiness', 'Neutral', 'Surprise']\n",
      "['Anger', 'Disgust', 'Fear', 'Happiness', 'Neutral']\n",
      "['Disgust', 'Happiness', 'Neutral', 'Sad', 'Surprise']\n",
      "['Anger', 'Disgust', 'Happiness', 'Neutral', 'Sad']\n",
      "['Disgust', 'Happiness', 'Sad', 'Surprise']\n",
      "['Anger', 'Happiness', 'Neutral']\n",
      "['Disgust', 'Happiness', 'Neutral', 'Sad']\n"
     ]
    }
   ],
   "source": [
    "# switch emotions of frames \n",
    "def switch_emotion(frame,old_emotion,new_emotion):\n",
    "    \"\"\"\n",
    "    Switch the emotion of a frame.\n",
    "    \n",
    "    Parameters:\n",
    "    - frame (list of int): The frame to switch the emotion of.\n",
    "    - old_emotion (str): The emotion to switch from.\n",
    "    - new_emotion (str): The emotion to switch to.\n",
    "    \n",
    "    Returns:\n",
    "    - list of int: The frame with the emotion switched.\n",
    "    \"\"\"\n",
    "    \n",
    "    # Get the indices of the old and new emotion\n",
    "    emotion_labels = ['Anger', 'Disgust', 'Fear', 'Happiness', 'Neutral', 'Sad', 'Surprise']\n",
    "    old_emotion_index = emotion_labels.index(old_emotion)\n",
    "    new_emotion_index = emotion_labels.index(new_emotion)\n",
    "    \n",
    "    # Switch the emotion\n",
    "    frame[-7 + old_emotion_index] = 0\n",
    "    frame[-7 + new_emotion_index] = 1\n",
    "    \n",
    "    return frame\n",
    "\n",
    "new_batch = []\n",
    "for frame in batch:\n",
    "    emotion = encoding_to_emotions(frame[-7:])\n",
    "    print(emotion)\n",
    "    new_batch.append(frame[:-7] + emotion_to_encoding('Disgust'))"
   ]
  },
  {
   "cell_type": "code",
   "execution_count": 24,
   "metadata": {},
   "outputs": [
    {
     "name": "stderr",
     "output_type": "stream",
     "text": [
      "Visualizing frames: 100%|██████████| 300/300 [00:33<00:00,  9.07it/s]\n"
     ]
    }
   ],
   "source": [
    "for batch in unnorm_out:\n",
    "    visualise_skeleton(batch, max_x, max_y, max_frames=FRAMES_GENERATE,save =True,save_path=None,prefix=f'adam_{EPOCHS}_coord_normalemotion_happy',train_seed=train_seed,delta=False)"
   ]
  },
  {
   "cell_type": "code",
   "execution_count": 25,
   "metadata": {},
   "outputs": [
    {
     "name": "stderr",
     "output_type": "stream",
     "text": [
      "Visualizing frames:  27%|██▋       | 82/300 [00:09<00:24,  9.06it/s]\n"
     ]
    },
    {
     "ename": "KeyboardInterrupt",
     "evalue": "",
     "output_type": "error",
     "traceback": [
      "\u001b[1;31m---------------------------------------------------------------------------\u001b[0m",
      "\u001b[1;31mKeyboardInterrupt\u001b[0m                         Traceback (most recent call last)",
      "\u001b[1;32mc:\\Users\\avika\\OneDrive\\Documents\\UAL\\interactive_dance_thesis\\main.ipynb Cell 9\u001b[0m line \u001b[0;36m1\n\u001b[1;32m----> <a href='vscode-notebook-cell:/c%3A/Users/avika/OneDrive/Documents/UAL/interactive_dance_thesis/main.ipynb#X13sZmlsZQ%3D%3D?line=0'>1</a>\u001b[0m visualise_skeleton(new_batch, max_x, max_y, max_frames\u001b[39m=\u001b[39;49mFRAMES_GENERATE,save \u001b[39m=\u001b[39;49m \u001b[39mTrue\u001b[39;49;00m,save_path\u001b[39m=\u001b[39;49m\u001b[39mNone\u001b[39;49;00m,prefix\u001b[39m=\u001b[39;49m\u001b[39mf\u001b[39;49m\u001b[39m'\u001b[39;49m\u001b[39madam_\u001b[39;49m\u001b[39m{\u001b[39;49;00mEPOCHS\u001b[39m}\u001b[39;49;00m\u001b[39m_coord_switchhappytosad\u001b[39;49m\u001b[39m'\u001b[39;49m,train_seed\u001b[39m=\u001b[39;49mtrain_seed,delta\u001b[39m=\u001b[39;49m\u001b[39mFalse\u001b[39;49;00m)\n",
      "File \u001b[1;32mc:\\Users\\avika\\OneDrive\\Documents\\UAL\\interactive_dance_thesis\\model.py:837\u001b[0m, in \u001b[0;36mvisualise_skeleton\u001b[1;34m(all_frames, max_x, max_y, max_frames, save, save_path, prefix, train_seed, delta)\u001b[0m\n\u001b[0;32m    834\u001b[0m     out\u001b[39m.\u001b[39mwrite(canvas_copy)\n\u001b[0;32m    836\u001b[0m \u001b[39m# Wait for 100ms and check for \"esc\" key press to exit\u001b[39;00m\n\u001b[1;32m--> 837\u001b[0m key \u001b[39m=\u001b[39m cv2\u001b[39m.\u001b[39;49mwaitKey(\u001b[39m100\u001b[39;49m)\n\u001b[0;32m    838\u001b[0m \u001b[39mif\u001b[39;00m key \u001b[39m==\u001b[39m \u001b[39m27\u001b[39m:  \n\u001b[0;32m    839\u001b[0m     \u001b[39mbreak\u001b[39;00m\n",
      "\u001b[1;31mKeyboardInterrupt\u001b[0m: "
     ]
    }
   ],
   "source": [
    "visualise_skeleton(new_batch, max_x, max_y, max_frames=FRAMES_GENERATE,save = True,save_path=None,prefix=f'adam_{EPOCHS}_coord_switchhappytosad',train_seed=train_seed,delta=False)"
   ]
  },
  {
   "cell_type": "code",
   "execution_count": 34,
   "metadata": {},
   "outputs": [],
   "source": [
    "happy_to_sad_xb = [new_batch[-16:]]\n",
    "happy_to_sad_xb = torch.tensor(happy_to_sad_xb).to(device).float()\n",
    "\n",
    "\n",
    "generated = m.generate(happy_to_sad_xb, FRAMES_GENERATE)\n",
    "unnorm_out = unnormalise_list_2D(generated, max_x, min_x, max_y, min_y,max_x, min_x, max_y, min_y)\n"
   ]
  },
  {
   "cell_type": "code",
   "execution_count": 35,
   "metadata": {},
   "outputs": [
    {
     "name": "stderr",
     "output_type": "stream",
     "text": [
      "Visualizing frames: 100%|██████████| 300/300 [00:32<00:00,  9.17it/s]\n"
     ]
    }
   ],
   "source": [
    "for new_batch in unnorm_out:\n",
    "\n",
    "    visualise_skeleton(new_batch, max_x, max_y, max_frames=FRAMES_GENERATE,save = True,save_path=None,prefix=f'adam_{EPOCHS}_coord_switchhappytodisgust',train_seed=train_seed,delta=False)"
   ]
  },
  {
   "cell_type": "code",
   "execution_count": 36,
   "metadata": {},
   "outputs": [
    {
     "data": {
      "text/plain": [
       "torch.Size([1, 16, 107])"
      ]
     },
     "execution_count": 36,
     "metadata": {},
     "output_type": "execute_result"
    }
   ],
   "source": [
    "xb.shape"
   ]
  }
 ],
 "metadata": {
  "kernelspec": {
   "display_name": "interactive_dance_thesis",
   "language": "python",
   "name": "python3"
  },
  "language_info": {
   "codemirror_mode": {
    "name": "ipython",
    "version": 3
   },
   "file_extension": ".py",
   "mimetype": "text/x-python",
   "name": "python",
   "nbconvert_exporter": "python",
   "pygments_lexer": "ipython3",
   "version": "3.10.9"
  }
 },
 "nbformat": 4,
 "nbformat_minor": 2
}
