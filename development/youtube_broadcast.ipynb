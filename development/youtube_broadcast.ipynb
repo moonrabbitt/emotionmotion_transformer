{
 "cells": [
  {
   "cell_type": "code",
   "execution_count": 1,
   "outputs": [],
   "source": [
    "# scrape youtube videos"
   ],
   "metadata": {
    "collapsed": false,
    "pycharm": {
     "name": "#%%\n"
    }
   }
  },
  {
   "cell_type": "code",
   "execution_count": 8,
   "outputs": [
    {
     "name": "stderr",
     "output_type": "stream",
     "text": [
      "100%|██████████| 20/20 [00:41<00:00,  2.05s/it]\n",
      "100%|██████████| 353/353 [00:08<00:00, 40.98it/s] \n"
     ]
    }
   ],
   "source": [
    "from selenium import webdriver\n",
    "from selenium.webdriver.common.by import By\n",
    "from selenium.webdriver.common.keys import Keys\n",
    "from selenium.webdriver.support.ui import WebDriverWait\n",
    "from selenium.webdriver.support import expected_conditions as EC\n",
    "import time\n",
    "from tqdm import tqdm\n",
    "\n",
    "data = []\n",
    "\n",
    "driver = webdriver.Chrome('/Applications/chromedriver_mac64/chromedriver')\n",
    "wait = WebDriverWait(driver, 15)\n",
    "driver.get(\"https://www.youtube.com/watch?v=kuhhT_cBtFU&t=2s\")\n",
    "\n",
    "# scroll down 20 times for javascript comment to load\n",
    "for item in tqdm(range(20)):\n",
    "    wait.until(EC.visibility_of_element_located((By.TAG_NAME, \"body\"))).send_keys(Keys.END)\n",
    "    time.sleep(2)\n",
    "\n",
    "# first comment index 2 , 0 for rest of page, 1 for add comment null, 2 for first comment\n",
    "for comment in tqdm(wait.until(EC.presence_of_all_elements_located((By.CSS_SELECTOR, \"#content\")))):\n",
    "    data.append(comment.text)\n",
    "\n",
    "driver.quit()\n"
   ],
   "metadata": {
    "collapsed": false,
    "pycharm": {
     "name": "#%%\n"
    }
   }
  },
  {
   "cell_type": "code",
   "execution_count": 15,
   "outputs": [
    {
     "data": {
      "text/plain": "\"I'm not from the US but I sure as hell know not to point a weapon at a cop, It's extremely senseless.\""
     },
     "execution_count": 15,
     "metadata": {},
     "output_type": "execute_result"
    }
   ],
   "source": [
    "data[3]"
   ],
   "metadata": {
    "collapsed": false,
    "pycharm": {
     "name": "#%%\n"
    }
   }
  },
  {
   "cell_type": "code",
   "execution_count": null,
   "outputs": [],
   "source": [
    "# youtube comments doesn't update real time, there's a large lag even after several refreshes\n",
    "# https: // developers.google.com / youtube / v3 / live / docs / liveChatMessages\n",
    "# https: // github.com / TechMaz / youtube - live - chat - scraper"
   ],
   "metadata": {
    "collapsed": false,
    "pycharm": {
     "name": "#%%\n"
    }
   }
  }
 ],
 "metadata": {
  "kernelspec": {
   "display_name": "Python 3",
   "language": "python",
   "name": "python3"
  },
  "language_info": {
   "codemirror_mode": {
    "name": "ipython",
    "version": 2
   },
   "file_extension": ".py",
   "mimetype": "text/x-python",
   "name": "python",
   "nbconvert_exporter": "python",
   "pygments_lexer": "ipython2",
   "version": "2.7.6"
  }
 },
 "nbformat": 4,
 "nbformat_minor": 0
}