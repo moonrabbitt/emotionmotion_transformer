{
 "cells": [
  {
   "cell_type": "markdown",
   "metadata": {},
   "source": [
    "# Animating Other Body Models With AMASS\n",
    "In the basic [AMASS visualization notebook](01-AMASS_Visualization.ipynb), we presented code snippets to animate AMASS bodies\n",
    "with [SMPL+H](http://mano.is.tue.mpg.de/) body model.\n",
    "However, we can use AMASS to also animate other SMPL family body models; namely:\n",
    "- Body only [SMPL](https://smpl.is.tue.mpg.de/)\n",
    "- Hand only [MANO](http://mano.is.tue.mpg.de/)\n",
    "- Expressive  Body, with Hands and Face [SMPL-X](https://smpl-x.is.tue.mpg.de/).\n",
    "\n",
    "AMASS uses [human_body_prior](https://github.com/nghorbani/human_body_prior) python package to animate bodies.\n",
    "The provided body model interface handles all SMPL body family models automatically and transparently.\n",
    "That means you can pass a SMPL family model to the BodyModel class and in the forward call pass desired body parameters from AMASS;\n",
    "e.g. load an instance of SMPL and only pass pose_body that won't articulate fingers.\n",
    "The rest will be taken care of automatically by the code.\n",
    "This tutorial shows a practical example to animate SMPL and SMPL-X bodies using AMASS."
   ]
  },
  {
   "cell_type": "code",
   "execution_count": 1,
   "metadata": {},
   "outputs": [],
   "source": [
    "# Preparing the environment\n",
    "%load_ext autoreload\n",
    "%autoreload 2\n",
    "%matplotlib notebook\n",
    "%matplotlib inline"
   ]
  },
  {
   "cell_type": "code",
   "execution_count": 2,
   "metadata": {},
   "outputs": [],
   "source": [
    "from ipywidgets import interact_manual\n",
    "from ipywidgets import IntSlider\n",
    "\n",
    "\n",
    "import torch\n",
    "import numpy as np\n",
    "\n",
    "from human_body_prior.tools.omni_tools import copy2cpu as c2c\n",
    "from os import path as osp\n",
    "\n"
   ]
  },
  {
   "cell_type": "code",
   "execution_count": 3,
   "metadata": {},
   "outputs": [],
   "source": [
    "# Choose the device to run the body model on.\n",
    "comp_device = torch.device(\"cuda\" if torch.cuda.is_available() else \"cpu\")"
   ]
  },
  {
   "cell_type": "code",
   "execution_count": 2,
   "metadata": {
    "pycharm": {
     "name": "#%%\n"
    }
   },
   "outputs": [
    {
     "ename": "NameError",
     "evalue": "name 'osp' is not defined",
     "output_type": "error",
     "traceback": [
      "\u001b[1;31m---------------------------------------------------------------------------\u001b[0m",
      "\u001b[1;31mNameError\u001b[0m                                 Traceback (most recent call last)",
      "\u001b[1;32mc:\\Users\\avika\\OneDrive\\Documents\\UAL\\interactive_dance_thesis\\notebooks\\units\\03-AMASS_Visualization_Advanced.ipynb Cell 5\u001b[0m line \u001b[0;36m1\n\u001b[1;32m----> <a href='vscode-notebook-cell:/c%3A/Users/avika/OneDrive/Documents/UAL/interactive_dance_thesis/notebooks/units/03-AMASS_Visualization_Advanced.ipynb#W4sZmlsZQ%3D%3D?line=0'>1</a>\u001b[0m amass_npz_fname \u001b[39m=\u001b[39m osp\u001b[39m.\u001b[39mjoin(support_dir, \u001b[39m'\u001b[39m\u001b[39mgithub_data/amass_sample.npz\u001b[39m\u001b[39m'\u001b[39m) \u001b[39m# the path to body data\u001b[39;00m\n\u001b[0;32m      <a href='vscode-notebook-cell:/c%3A/Users/avika/OneDrive/Documents/UAL/interactive_dance_thesis/notebooks/units/03-AMASS_Visualization_Advanced.ipynb#W4sZmlsZQ%3D%3D?line=1'>2</a>\u001b[0m bdata \u001b[39m=\u001b[39m np\u001b[39m.\u001b[39mload(amass_npz_fname)\n\u001b[0;32m      <a href='vscode-notebook-cell:/c%3A/Users/avika/OneDrive/Documents/UAL/interactive_dance_thesis/notebooks/units/03-AMASS_Visualization_Advanced.ipynb#W4sZmlsZQ%3D%3D?line=3'>4</a>\u001b[0m num_betas \u001b[39m=\u001b[39m \u001b[39m16\u001b[39m \u001b[39m# number of body parameters\u001b[39;00m\n",
      "\u001b[1;31mNameError\u001b[0m: name 'osp' is not defined"
     ]
    }
   ],
   "source": [
    "amass_npz_fname = osp.join(support_dir, 'github_data/amass_sample.npz') # the path to body data\n",
    "bdata = np.load(amass_npz_fname)\n",
    "\n",
    "num_betas = 16 # number of body parameters\n",
    "num_dmpls = 8 # number of DMPL parameters\n",
    "\n",
    "# you can set the gender manually and if it differs from data's then contact or interpenetration issues might happen\n",
    "subject_gender = bdata['gender']\n",
    "\n",
    "print('Data keys available:%s'%list(bdata.keys()))\n",
    "\n",
    "print('The subject of the mocap sequence is  {}.'.format(subject_gender))"
   ]
  },
  {
   "cell_type": "code",
   "execution_count": 5,
   "metadata": {
    "pycharm": {
     "name": "#%%\n"
    }
   },
   "outputs": [
    {
     "name": "stdout",
     "output_type": "stream",
     "text": [
      "Body parameter vector shapes: \n",
      "root_orient: torch.Size([601, 3]) \n",
      "pose_body: torch.Size([601, 63]) \n",
      "pose_hand: torch.Size([601, 90]) \n",
      "trans: torch.Size([601, 3]) \n",
      "betas: torch.Size([601, 16]) \n",
      "dmpls: torch.Size([601, 8])\n",
      "time_length = 601\n"
     ]
    }
   ],
   "source": [
    "time_length = len(bdata['trans'])\n",
    "\n",
    "body_parms = {\n",
    "    'root_orient': torch.Tensor(bdata['poses'][:, :3]).to(comp_device), # controls the global root orientation\n",
    "    'pose_body': torch.Tensor(bdata['poses'][:, 3:66]).to(comp_device), # controls the body\n",
    "    'pose_hand': torch.Tensor(bdata['poses'][:, 66:]).to(comp_device), # controls the finger articulation\n",
    "    'trans': torch.Tensor(bdata['trans']).to(comp_device), # controls the global body position\n",
    "    'betas': torch.Tensor(np.repeat(bdata['betas'][:num_betas][np.newaxis], repeats=time_length, axis=0)).to(comp_device), # controls the body shape. Body shape is static\n",
    "    'dmpls': torch.Tensor(bdata['dmpls'][:, :num_dmpls]).to(comp_device) # controls soft tissue dynamics\n",
    "}\n",
    "\n",
    "print('Body parameter vector shapes: \\n{}'.format(' \\n'.join(['{}: {}'.format(k,v.shape) for k,v in body_parms.items()])))\n",
    "print('time_length = {}'.format(time_length))"
   ]
  },
  {
   "cell_type": "code",
   "execution_count": 6,
   "metadata": {
    "pycharm": {
     "name": "#%%\n"
    }
   },
   "outputs": [],
   "source": [
    "import trimesh\n",
    "from body_visualizer.tools.vis_tools import colors\n",
    "from body_visualizer.mesh.mesh_viewer import MeshViewer\n",
    "from body_visualizer.tools.vis_tools import show_image\n",
    "\n",
    "imw, imh = 1600, 1600\n",
    "mv = MeshViewer(width=imw, height=imh, use_offscreen=True)\n",
    "\n",
    "## SMPL-X"
   ]
  },
  {
   "cell_type": "markdown",
   "metadata": {},
   "source": [
    "## AMASS for SMPL\n",
    "First download [SMPL](https://smpl.is.tue.mpg.de/) body model and extract it to a desired location.\n",
    "The PCA shape space of SMPL and SMPL+H are compatible, so betas and DMPLs can be used interchangeably.\n",
    "Of course SMPL model does not support hand articulation, unlike SMPL+H. Hence, we cannot animate fingers of SMPL using AMASS."
   ]
  },
  {
   "cell_type": "code",
   "execution_count": 7,
   "metadata": {},
   "outputs": [],
   "source": [
    "from human_body_prior.body_model.body_model import BodyModel\n",
    "\n",
    "bm_smpl_fname = osp.join(support_dir, 'body_models/smpl/{}/model.npz'.format(subject_gender))\n",
    "# bm_smpl_fname = '/is/ps3/nghorbani/code-repos/amass/support_data/body_models/smpl/neutral/model.npz'\n",
    "\n",
    "bm = BodyModel(bm_fname=bm_smpl_fname, num_betas=num_betas).to(comp_device)\n",
    "\n",
    "faces = c2c(bm.f)\n",
    "num_verts = bm.init_v_template.shape[1]"
   ]
  },
  {
   "cell_type": "code",
   "execution_count": 8,
   "metadata": {
    "pycharm": {
     "name": "#%%\n"
    }
   },
   "outputs": [
    {
     "name": "stdout",
     "output_type": "stream",
     "text": [
      "{'pose_body': torch.Size([601, 63]), 'betas': torch.Size([601, 16])}\n"
     ]
    },
    {
     "data": {
      "image/png": "[encoded data removed]",
      "text/plain": [
       "<Figure size 1200x1200 with 1 Axes>"
      ]
     },
     "metadata": {
      "needs_background": "light"
     },
     "output_type": "display_data"
    }
   ],
   "source": [
    "print({k:v.shape for k,v in body_parms.items() if k in ['pose_body', 'betas']})\n",
    "body = bm(**{k:v.to(comp_device) for k,v in body_parms.items() if k in ['pose_body']})\n",
    "body_mesh_wofingers = trimesh.Trimesh(vertices=c2c(body.v[0]), faces=faces, vertex_colors=np.tile(colors['grey'], (num_verts, 1)))\n",
    "mv.set_static_meshes([body_mesh_wofingers])\n",
    "body_image_wofingers = mv.render(render_wireframe=False)\n",
    "show_image(body_image_wofingers)"
   ]
  },
  {
   "cell_type": "markdown",
   "metadata": {},
   "source": [
    "Notice the flat hands due to inability of SMPL to articulate fingers. Due to this fact, we didn't pass pose_hand parameters neither."
   ]
  },
  {
   "cell_type": "markdown",
   "metadata": {},
   "source": [
    "## AMASS for SMPL-X\n",
    "First obtain [SMPL-X](https://smpl-x.is.tue.mpg.de) body model and extract it at a desired location.\n",
    "The PCA shape space of SMPL-X and SMPL+H do not correspond, so we cannot use the shape,\n",
    "i.e. betas, nor the soft tissue dynamics, i.e. DMPLs, from AMASS on SMPL-X.\n",
    "However,  we can still pose the body model using AMASS parameters.\n",
    "SMPL-X has more joints than the SMPLH model because of the eye balls and jaw joints, hence we cannot animate jaw and eye balls using AMASS."
   ]
  },
  {
   "cell_type": "code",
   "execution_count": 14,
   "metadata": {
    "pycharm": {
     "name": "#%%\n"
    }
   },
   "outputs": [],
   "source": [
    "from human_body_prior.body_model.body_model import BodyModel\n",
    "import torch\n",
    "from ipywidgets import interact_manual\n",
    "from ipywidgets import IntSlider\n",
    "\n",
    "\n",
    "import torch\n",
    "import numpy as np\n",
    "\n",
    "from human_body_prior.tools.omni_tools import copy2cpu as c2c\n",
    "from os import path as osp\n",
    "\n",
    "\n",
    "\n",
    "comp_device = torch.device(\"cuda\" if torch.cuda.is_available() else \"cpu\")\n",
    "bm_smplx_fname = \"G:\\\\UAL_Thesis\\\\affective_computing_datasets\\\\smplx_lockedhead_20230207\\\\models_lockedhead\\\\smplx\\\\SMPLX_NEUTRAL.npz\"\n",
    "num_betas = 16 # number of body parameters\n",
    "bm = BodyModel(bm_path=bm_smplx_fname, num_betas=num_betas, model_type=\"smplx\").to(comp_device)\n",
    "\n",
    "faces = c2c(bm.f)\n",
    "num_verts = bm.v_template.shape[1]"
   ]
  },
  {
   "cell_type": "code",
   "execution_count": 36,
   "metadata": {},
   "outputs": [
    {
     "ename": "TypeError",
     "evalue": "lbs() got an unexpected keyword argument 'dtype'",
     "output_type": "error",
     "traceback": [
      "\u001b[1;31m---------------------------------------------------------------------------\u001b[0m",
      "\u001b[1;31mTypeError\u001b[0m                                 Traceback (most recent call last)",
      "\u001b[1;32mc:\\Users\\avika\\OneDrive\\Documents\\UAL\\interactive_dance_thesis\\notebooks\\units\\03-AMASS_Visualization_Advanced.ipynb Cell 14\u001b[0m line \u001b[0;36m2\n\u001b[0;32m     <a href='vscode-notebook-cell:/c%3A/Users/avika/OneDrive/Documents/UAL/interactive_dance_thesis/notebooks/units/03-AMASS_Visualization_Advanced.ipynb#X16sZmlsZQ%3D%3D?line=18'>19</a>\u001b[0m \u001b[39m# Forward pass through the model for each frame\u001b[39;00m\n\u001b[0;32m     <a href='vscode-notebook-cell:/c%3A/Users/avika/OneDrive/Documents/UAL/interactive_dance_thesis/notebooks/units/03-AMASS_Visualization_Advanced.ipynb#X16sZmlsZQ%3D%3D?line=19'>20</a>\u001b[0m \u001b[39mfor\u001b[39;00m i \u001b[39min\u001b[39;00m \u001b[39mrange\u001b[39m(time_length):\n\u001b[1;32m---> <a href='vscode-notebook-cell:/c%3A/Users/avika/OneDrive/Documents/UAL/interactive_dance_thesis/notebooks/units/03-AMASS_Visualization_Advanced.ipynb#X16sZmlsZQ%3D%3D?line=20'>21</a>\u001b[0m     body \u001b[39m=\u001b[39m bm(\u001b[39m*\u001b[39m\u001b[39m*\u001b[39m{k: v[i]\u001b[39m.\u001b[39munsqueeze(\u001b[39m0\u001b[39m) \u001b[39mfor\u001b[39;00m k, v \u001b[39min\u001b[39;00m body_parms\u001b[39m.\u001b[39mitems() \u001b[39mif\u001b[39;00m k \u001b[39min\u001b[39;00m [\u001b[39m'\u001b[39m\u001b[39mroot_orient\u001b[39m\u001b[39m'\u001b[39m, \u001b[39m'\u001b[39m\u001b[39mpose_body\u001b[39m\u001b[39m'\u001b[39m, \u001b[39m'\u001b[39m\u001b[39mpose_hand\u001b[39m\u001b[39m'\u001b[39m, \u001b[39m'\u001b[39m\u001b[39mtrans\u001b[39m\u001b[39m'\u001b[39m, \u001b[39m'\u001b[39m\u001b[39mbetas\u001b[39m\u001b[39m'\u001b[39m]})\n\u001b[0;32m     <a href='vscode-notebook-cell:/c%3A/Users/avika/OneDrive/Documents/UAL/interactive_dance_thesis/notebooks/units/03-AMASS_Visualization_Advanced.ipynb#X16sZmlsZQ%3D%3D?line=21'>22</a>\u001b[0m     body_mesh_wfingers \u001b[39m=\u001b[39m trimesh\u001b[39m.\u001b[39mTrimesh(vertices\u001b[39m=\u001b[39mc2c(body\u001b[39m.\u001b[39mv[\u001b[39m0\u001b[39m]), faces\u001b[39m=\u001b[39mfaces, vertex_colors\u001b[39m=\u001b[39mnp\u001b[39m.\u001b[39mtile(colors[\u001b[39m'\u001b[39m\u001b[39mgrey\u001b[39m\u001b[39m'\u001b[39m], (num_verts, \u001b[39m1\u001b[39m)))\n\u001b[0;32m     <a href='vscode-notebook-cell:/c%3A/Users/avika/OneDrive/Documents/UAL/interactive_dance_thesis/notebooks/units/03-AMASS_Visualization_Advanced.ipynb#X16sZmlsZQ%3D%3D?line=22'>23</a>\u001b[0m     mv\u001b[39m.\u001b[39mset_static_meshes([body_mesh_wfingers])\n",
      "File \u001b[1;32mc:\\Users\\avika\\anaconda3\\envs\\interactive_dance_thesis\\lib\\site-packages\\torch\\nn\\modules\\module.py:1501\u001b[0m, in \u001b[0;36mModule._call_impl\u001b[1;34m(self, *args, **kwargs)\u001b[0m\n\u001b[0;32m   1496\u001b[0m \u001b[39m# If we don't have any hooks, we want to skip the rest of the logic in\u001b[39;00m\n\u001b[0;32m   1497\u001b[0m \u001b[39m# this function, and just call forward.\u001b[39;00m\n\u001b[0;32m   1498\u001b[0m \u001b[39mif\u001b[39;00m \u001b[39mnot\u001b[39;00m (\u001b[39mself\u001b[39m\u001b[39m.\u001b[39m_backward_hooks \u001b[39mor\u001b[39;00m \u001b[39mself\u001b[39m\u001b[39m.\u001b[39m_backward_pre_hooks \u001b[39mor\u001b[39;00m \u001b[39mself\u001b[39m\u001b[39m.\u001b[39m_forward_hooks \u001b[39mor\u001b[39;00m \u001b[39mself\u001b[39m\u001b[39m.\u001b[39m_forward_pre_hooks\n\u001b[0;32m   1499\u001b[0m         \u001b[39mor\u001b[39;00m _global_backward_pre_hooks \u001b[39mor\u001b[39;00m _global_backward_hooks\n\u001b[0;32m   1500\u001b[0m         \u001b[39mor\u001b[39;00m _global_forward_hooks \u001b[39mor\u001b[39;00m _global_forward_pre_hooks):\n\u001b[1;32m-> 1501\u001b[0m     \u001b[39mreturn\u001b[39;00m forward_call(\u001b[39m*\u001b[39margs, \u001b[39m*\u001b[39m\u001b[39m*\u001b[39mkwargs)\n\u001b[0;32m   1502\u001b[0m \u001b[39m# Do not call functions when jit is used\u001b[39;00m\n\u001b[0;32m   1503\u001b[0m full_backward_hooks, non_full_backward_hooks \u001b[39m=\u001b[39m [], []\n",
      "File \u001b[1;32mc:\\Users\\avika\\anaconda3\\envs\\interactive_dance_thesis\\lib\\site-packages\\human_body_prior\\body_model\\body_model.py:229\u001b[0m, in \u001b[0;36mBodyModel.forward\u001b[1;34m(self, root_orient, pose_body, pose_hand, pose_jaw, pose_eye, betas, trans, **kwargs)\u001b[0m\n\u001b[0;32m    226\u001b[0m     shape_components \u001b[39m=\u001b[39m betas\n\u001b[0;32m    227\u001b[0m     shapedirs \u001b[39m=\u001b[39m \u001b[39mself\u001b[39m\u001b[39m.\u001b[39mshapedirs\n\u001b[1;32m--> 229\u001b[0m verts, joints \u001b[39m=\u001b[39m lbs(betas\u001b[39m=\u001b[39;49mshape_components, pose\u001b[39m=\u001b[39;49mfull_pose, v_template\u001b[39m=\u001b[39;49m\u001b[39mself\u001b[39;49m\u001b[39m.\u001b[39;49mv_template,\n\u001b[0;32m    230\u001b[0m                     shapedirs\u001b[39m=\u001b[39;49mshapedirs, posedirs\u001b[39m=\u001b[39;49m\u001b[39mself\u001b[39;49m\u001b[39m.\u001b[39;49mposedirs,\n\u001b[0;32m    231\u001b[0m                     J_regressor\u001b[39m=\u001b[39;49m\u001b[39mself\u001b[39;49m\u001b[39m.\u001b[39;49mJ_regressor, parents\u001b[39m=\u001b[39;49m\u001b[39mself\u001b[39;49m\u001b[39m.\u001b[39;49mkintree_table[\u001b[39m0\u001b[39;49m]\u001b[39m.\u001b[39;49mlong(),\n\u001b[0;32m    232\u001b[0m                     lbs_weights\u001b[39m=\u001b[39;49m\u001b[39mself\u001b[39;49m\u001b[39m.\u001b[39;49mweights,\n\u001b[0;32m    233\u001b[0m                     dtype\u001b[39m=\u001b[39;49m\u001b[39mself\u001b[39;49m\u001b[39m.\u001b[39;49mdtype)\n\u001b[0;32m    235\u001b[0m Jtr \u001b[39m=\u001b[39m joints \u001b[39m+\u001b[39m trans\u001b[39m.\u001b[39munsqueeze(dim\u001b[39m=\u001b[39m\u001b[39m1\u001b[39m)\n\u001b[0;32m    236\u001b[0m verts \u001b[39m=\u001b[39m verts \u001b[39m+\u001b[39m trans\u001b[39m.\u001b[39munsqueeze(dim\u001b[39m=\u001b[39m\u001b[39m1\u001b[39m)\n",
      "\u001b[1;31mTypeError\u001b[0m: lbs() got an unexpected keyword argument 'dtype'"
     ]
    },
    {
     "ename": "",
     "evalue": "",
     "output_type": "error",
     "traceback": [
      "\u001b[1;31mThe Kernel crashed while executing code in the the current cell or a previous cell. Please review the code in the cell(s) to identify a possible cause of the failure. Click <a href='https://aka.ms/vscodeJupyterKernelCrash'>here</a> for more info. View Jupyter <a href='command:jupyter.viewOutput'>log</a> for further details."
     ]
    }
   ],
   "source": [
    "amass_npz_fname = \"G:\\\\UAL_Thesis\\\\affective_computing_datasets\\\\DanceDB_SMPLX\\\\DanceDB\\\\20120731_StefanosTheodorou\\\\Stefanos_1os_antrikos_karsilamas_C3D_stageii.npz\"\n",
    "\n",
    "bdata = np.load(amass_npz_fname)\n",
    "\n",
    "time_length = len(bdata['trans'])\n",
    "\n",
    "body_parms = {\n",
    "    'root_orient': torch.Tensor(bdata['poses'][:, :3]).to(comp_device).view(time_length, -1),\n",
    "    'pose_body': torch.Tensor(bdata['poses'][:, 3:66]).to(comp_device).view(time_length, -1),\n",
    "    'pose_hand': torch.Tensor(bdata['poses'][:, 66:]).to(comp_device).view(time_length, -1),\n",
    "    'trans': torch.Tensor(bdata['trans']).to(comp_device).view(time_length, -1),\n",
    "    'betas': torch.Tensor(np.repeat(bdata['betas'][:num_betas][np.newaxis], repeats=time_length, axis=0)).to(comp_device).view(time_length, -1),\n",
    "    # 'dmpls': torch.Tensor(bdata['dmpls'][:, :num_dmpls]).to(comp_device).view(time_length, -1)\n",
    "}\n",
    "\n",
    "# Ensure all tensors have the same first dimension\n",
    "assert all(p.shape[0] == time_length for p in body_parms.values()), \"All body parameters should have the same number of frames.\"\n",
    "\n",
    "# Forward pass through the model for each frame\n",
    "for i in range(time_length):\n",
    "    body = bm(**{k: v[i].unsqueeze(0) for k, v in body_parms.items() if k in ['root_orient', 'pose_body', 'pose_hand', 'trans', 'betas']})\n",
    "    body_mesh_wfingers = trimesh.Trimesh(vertices=c2c(body.v[0]), faces=faces, vertex_colors=np.tile(colors['grey'], (num_verts, 1)))\n",
    "    mv.set_static_meshes([body_mesh_wfingers])\n",
    "    body_image_wfingers = mv.render(render_wireframe=False)\n",
    "    show_image(body_image_wfingers)"
   ]
  },
  {
   "cell_type": "code",
   "execution_count": 23,
   "metadata": {},
   "outputs": [
    {
     "name": "stdout",
     "output_type": "stream",
     "text": [
      "Available keys in the dataset: ['gender', 'surface_model_type', 'mocap_frame_rate', 'mocap_time_length', 'markers_latent', 'latent_labels', 'markers_latent_vids', 'trans', 'poses', 'betas', 'num_betas', 'root_orient', 'pose_body', 'pose_hand', 'pose_jaw', 'pose_eye', 'markers', 'labels', 'markers_obs', 'labels_obs', 'markers_sim', 'marker_meta', 'num_markers']\n",
      "Shape of keypoints: (10102, 165)\n"
     ]
    }
   ],
   "source": [
    "import numpy as np\n",
    "\n",
    "# Path to the AMASS dataset file (adjust this to your file's location)\n",
    "amass_file_path = amass_npz_fname \n",
    "\n",
    "# Load the AMASS dataset\n",
    "data = np.load(amass_file_path)\n",
    "\n",
    "# The exact key for keypoints might vary depending on the dataset version and structure\n",
    "# Common keys might be 'poses', 'joints', 'keypoints', etc.\n",
    "# You might need to check the available keys in your dataset and choose the correct one\n",
    "print(\"Available keys in the dataset:\", data.files)\n",
    "\n",
    "# Assuming the keypoints are stored under the key 'poses'\n",
    "keypoints = data['poses']\n",
    "\n",
    "# Now 'keypoints' variable holds the skeleton data\n",
    "# You can process or visualize it as needed\n",
    "print(\"Shape of keypoints:\", keypoints.shape)\n"
   ]
  },
  {
   "cell_type": "code",
   "execution_count": 26,
   "metadata": {},
   "outputs": [
    {
     "data": {
      "image/png": "[encoded data removed]",
      "text/plain": [
       "<Figure size 640x480 with 1 Axes>"
      ]
     },
     "metadata": {},
     "output_type": "display_data"
    }
   ],
   "source": [
    "import numpy as np\n",
    "import matplotlib.pyplot as plt\n",
    "import matplotlib.animation as animation\n",
    "\n",
    "# Load your data here\n",
    "# For example: keypoints = np.load('path_to_your_data.npz')['poses']\n",
    "\n",
    "# Define the connections between joints to create the skeleton\n",
    "# This depends on how your keypoints are structured\n",
    "skeleton = [\n",
    "    (0, 1), (1, 2), (2, 3), (3, 4),  # Spine and head\n",
    "    (0, 5), (5, 6), (6, 7), (7, 8),  # Left leg\n",
    "    (0, 9), (9, 10), (10, 11), (11, 12),  # Right leg\n",
    "    (4, 13), (13, 14), (14, 15),  # Left arm\n",
    "    (4, 16), (16, 17), (17, 18),  # Right arm\n",
    "    (15, 19), (15, 20), (15, 21),  # Left hand\n",
    "    (18, 22), (18, 23), (18, 24),  # Right hand\n",
    "    (15, 25), (15, 26), (15, 27),  # Left fingers\n",
    "    (18, 28), (18, 29), (18, 30),  # Right fingers\n",
    "    (15, 31), (15, 32), (15, 33),  # Left toes\n",
    "    (18, 34), (18, 35), (18, 36),  # Right toes\n",
    "    (4, 37), (37, 38), (38, 39),  # Neck and jaw\n",
    "    (39, 40), (39, 41),  # Eyes\n",
    "    (4, 42), (42, 43), (43, 44),  # Left shoulder and elbow\n",
    "    (4, 45), (45, 46), (46, 47),  # Right shoulder and elbow\n",
    "    (44, 48), (44, 49), (44, 50),  # Left wrist and fingers\n",
    "    (47, 51), (47, 52), (47, 53),  # Right wrist and fingers\n",
    "]\n",
    "\n",
    "\n",
    "# Create a function to update the plot for each frame\n",
    "def update(num, keypoints, lines):\n",
    "    for i, line in enumerate(lines):\n",
    "        # For 3D data, you might want to project to 2D\n",
    "        line.set_data(keypoints[num, skeleton[i], :2].T)\n",
    "        print(keypoints)\n",
    "\n",
    "    return lines\n",
    "\n",
    "\n",
    "# Set up the plot\n",
    "fig, ax = plt.subplots()\n",
    "lines = [plt.plot([], [], 'ro-')[0] for _ in range(len(skeleton))]\n",
    "ax.set_xlim(-2, 2)\n",
    "ax.set_ylim(-2, 2)\n",
    "\n",
    "# Create the animation\n",
    "ani = animation.FuncAnimation(fig, update, frames=len(keypoints), fargs=(keypoints, lines), interval=50)\n",
    "\n",
    "plt.show()\n"
   ]
  },
  {
   "cell_type": "code",
   "execution_count": 33,
   "metadata": {},
   "outputs": [
    {
     "name": "stderr",
     "output_type": "stream",
     "text": [
      " 63%|██████▎   | 6375/10102 [01:23<00:48, 76.42it/s] \n"
     ]
    },
    {
     "ename": "KeyboardInterrupt",
     "evalue": "",
     "output_type": "error",
     "traceback": [
      "\u001b[1;31m---------------------------------------------------------------------------\u001b[0m",
      "\u001b[1;31mKeyboardInterrupt\u001b[0m                         Traceback (most recent call last)",
      "\u001b[1;32mc:\\Users\\avika\\OneDrive\\Documents\\UAL\\interactive_dance_thesis\\notebooks\\units\\03-AMASS_Visualization_Advanced.ipynb Cell 17\u001b[0m line \u001b[0;36m5\n\u001b[0;32m     <a href='vscode-notebook-cell:/c%3A/Users/avika/OneDrive/Documents/UAL/interactive_dance_thesis/notebooks/units/03-AMASS_Visualization_Advanced.ipynb#X25sZmlsZQ%3D%3D?line=53'>54</a>\u001b[0m frame \u001b[39m=\u001b[39m np\u001b[39m.\u001b[39mzeros((height, width, \u001b[39m3\u001b[39m), dtype\u001b[39m=\u001b[39mnp\u001b[39m.\u001b[39muint8)\n\u001b[0;32m     <a href='vscode-notebook-cell:/c%3A/Users/avika/OneDrive/Documents/UAL/interactive_dance_thesis/notebooks/units/03-AMASS_Visualization_Advanced.ipynb#X25sZmlsZQ%3D%3D?line=54'>55</a>\u001b[0m draw_skeleton(frame, keypoints[i]\u001b[39m.\u001b[39mreshape(\u001b[39m-\u001b[39m\u001b[39m1\u001b[39m, \u001b[39m3\u001b[39m), connections)  \u001b[39m# Reshape keypoints for each frame\u001b[39;00m\n\u001b[1;32m---> <a href='vscode-notebook-cell:/c%3A/Users/avika/OneDrive/Documents/UAL/interactive_dance_thesis/notebooks/units/03-AMASS_Visualization_Advanced.ipynb#X25sZmlsZQ%3D%3D?line=55'>56</a>\u001b[0m out\u001b[39m.\u001b[39;49mwrite(frame)\n\u001b[0;32m     <a href='vscode-notebook-cell:/c%3A/Users/avika/OneDrive/Documents/UAL/interactive_dance_thesis/notebooks/units/03-AMASS_Visualization_Advanced.ipynb#X25sZmlsZQ%3D%3D?line=56'>57</a>\u001b[0m cv2\u001b[39m.\u001b[39mimshow(\u001b[39m'\u001b[39m\u001b[39mSkeleton\u001b[39m\u001b[39m'\u001b[39m, frame)\n\u001b[0;32m     <a href='vscode-notebook-cell:/c%3A/Users/avika/OneDrive/Documents/UAL/interactive_dance_thesis/notebooks/units/03-AMASS_Visualization_Advanced.ipynb#X25sZmlsZQ%3D%3D?line=57'>58</a>\u001b[0m \u001b[39mif\u001b[39;00m cv2\u001b[39m.\u001b[39mwaitKey(\u001b[39m1\u001b[39m) \u001b[39m&\u001b[39m \u001b[39m0xFF\u001b[39m \u001b[39m==\u001b[39m \u001b[39mord\u001b[39m(\u001b[39m'\u001b[39m\u001b[39mq\u001b[39m\u001b[39m'\u001b[39m):\n",
      "\u001b[1;31mKeyboardInterrupt\u001b[0m: "
     ]
    }
   ],
   "source": [
    "import cv2\n",
    "import numpy as np\n",
    "from tqdm import tqdm\n",
    "\n",
    "def draw_skeleton(frame, keypoints, connections, color=(0, 255, 0), circle_radius=5, line_thickness=2):\n",
    "    h, w, _ = frame.shape\n",
    "    for joint in keypoints:\n",
    "        x, y, _ = joint\n",
    "        x_unnormalized = int((x + 1) / 2 * w)\n",
    "        y_unnormalized = int((y + 1) / 2 * h)\n",
    "        cv2.circle(frame, (x_unnormalized, y_unnormalized), circle_radius, color, -1)\n",
    "    \n",
    "    for connection in connections:\n",
    "        joint_start, joint_end = connection\n",
    "        x_start, y_start, _ = keypoints[joint_start]\n",
    "        x_end, y_end, _ = keypoints[joint_end]\n",
    "        x_start_unnormalized = int((x_start + 1) / 2 * w)\n",
    "        y_start_unnormalized = int((y_start + 1) / 2 * h)\n",
    "        x_end_unnormalized = int((x_end + 1) / 2 * w)\n",
    "        y_end_unnormalized = int((y_end + 1) / 2 * h)\n",
    "        cv2.line(frame, (x_start_unnormalized, y_start_unnormalized), (x_end_unnormalized, y_end_unnormalized), color, line_thickness)\n",
    "\n",
    "\n",
    "# Define the connections between joints based on the SMPL-X model\n",
    "connections = [\n",
    "    (0, 1), (1, 2), (2, 3), (3, 4),  # Spine and head\n",
    "    (0, 5), (5, 6), (6, 7), (7, 8),  # Left leg\n",
    "    (0, 9), (9, 10), (10, 11), (11, 12),  # Right leg\n",
    "    (4, 13), (13, 14), (14, 15),  # Left arm\n",
    "    (4, 16), (16, 17), (17, 18),  # Right arm\n",
    "    (15, 19), (15, 20), (15, 21),  # Left hand\n",
    "    (18, 22), (18, 23), (18, 24),  # Right hand\n",
    "    (15, 25), (15, 26), (15, 27),  # Left fingers\n",
    "    (18, 28), (18, 29), (18, 30),  # Right fingers\n",
    "    (15, 31), (15, 32), (15, 33),  # Left toes\n",
    "    (18, 34), (18, 35), (18, 36),  # Right toes\n",
    "    (4, 37), (37, 38), (38, 39),  # Neck and jaw\n",
    "    (39, 40), (39, 41),  # Eyes\n",
    "    (4, 42), (42, 43), (43, 44),  # Left shoulder and elbow\n",
    "    (4, 45), (45, 46), (46, 47),  # Right shoulder and elbow\n",
    "    (44, 48), (44, 49), (44, 50),  # Left wrist and fingers\n",
    "    (47, 51), (47, 52), (47, 53),  # Right wrist and fingers\n",
    "]\n",
    "\n",
    "\n",
    "num_frames = keypoints.shape[0]\n",
    "height, width = 720, 1280  # Set the height and width of the output video\n",
    "\n",
    "# Create a VideoCapture object\n",
    "fourcc = cv2.VideoWriter_fourcc(*'XVID')\n",
    "out = cv2.VideoWriter('output.avi', fourcc, 20.0, (width, height))\n",
    "\n",
    "for i in tqdm(range(num_frames)):\n",
    "    frame = np.zeros((height, width, 3), dtype=np.uint8)\n",
    "    draw_skeleton(frame, keypoints[i].reshape(-1, 3), connections)  # Reshape keypoints for each frame\n",
    "    out.write(frame)\n",
    "    cv2.imshow('Skeleton', frame)\n",
    "    if cv2.waitKey(1) & 0xFF == ord('q'):\n",
    "        break\n",
    "\n",
    "out.release()\n",
    "cv2.destroyAllWindows()\n"
   ]
  },
  {
   "cell_type": "code",
   "execution_count": 34,
   "metadata": {},
   "outputs": [
    {
     "name": "stderr",
     "output_type": "stream",
     "text": [
      " 40%|████      | 4089/10102 [00:55<01:21, 74.05it/s] \n"
     ]
    },
    {
     "ename": "KeyboardInterrupt",
     "evalue": "",
     "output_type": "error",
     "traceback": [
      "\u001b[1;31m---------------------------------------------------------------------------\u001b[0m",
      "\u001b[1;31mKeyboardInterrupt\u001b[0m                         Traceback (most recent call last)",
      "\u001b[1;32mc:\\Users\\avika\\OneDrive\\Documents\\UAL\\interactive_dance_thesis\\notebooks\\units\\03-AMASS_Visualization_Advanced.ipynb Cell 18\u001b[0m line \u001b[0;36m6\n\u001b[0;32m     <a href='vscode-notebook-cell:/c%3A/Users/avika/OneDrive/Documents/UAL/interactive_dance_thesis/notebooks/units/03-AMASS_Visualization_Advanced.ipynb#X30sZmlsZQ%3D%3D?line=63'>64</a>\u001b[0m frame \u001b[39m=\u001b[39m np\u001b[39m.\u001b[39mzeros((height, width, \u001b[39m3\u001b[39m), dtype\u001b[39m=\u001b[39mnp\u001b[39m.\u001b[39muint8)\n\u001b[0;32m     <a href='vscode-notebook-cell:/c%3A/Users/avika/OneDrive/Documents/UAL/interactive_dance_thesis/notebooks/units/03-AMASS_Visualization_Advanced.ipynb#X30sZmlsZQ%3D%3D?line=64'>65</a>\u001b[0m draw_skeleton(frame, keypoints[i]\u001b[39m.\u001b[39mreshape(\u001b[39m-\u001b[39m\u001b[39m1\u001b[39m, \u001b[39m3\u001b[39m), connections)  \u001b[39m# Reshape keypoints for each frame\u001b[39;00m\n\u001b[1;32m---> <a href='vscode-notebook-cell:/c%3A/Users/avika/OneDrive/Documents/UAL/interactive_dance_thesis/notebooks/units/03-AMASS_Visualization_Advanced.ipynb#X30sZmlsZQ%3D%3D?line=65'>66</a>\u001b[0m out\u001b[39m.\u001b[39;49mwrite(frame)\n\u001b[0;32m     <a href='vscode-notebook-cell:/c%3A/Users/avika/OneDrive/Documents/UAL/interactive_dance_thesis/notebooks/units/03-AMASS_Visualization_Advanced.ipynb#X30sZmlsZQ%3D%3D?line=66'>67</a>\u001b[0m cv2\u001b[39m.\u001b[39mimshow(\u001b[39m'\u001b[39m\u001b[39mSkeleton\u001b[39m\u001b[39m'\u001b[39m, frame)\n\u001b[0;32m     <a href='vscode-notebook-cell:/c%3A/Users/avika/OneDrive/Documents/UAL/interactive_dance_thesis/notebooks/units/03-AMASS_Visualization_Advanced.ipynb#X30sZmlsZQ%3D%3D?line=67'>68</a>\u001b[0m \u001b[39mif\u001b[39;00m cv2\u001b[39m.\u001b[39mwaitKey(\u001b[39m1\u001b[39m) \u001b[39m&\u001b[39m \u001b[39m0xFF\u001b[39m \u001b[39m==\u001b[39m \u001b[39mord\u001b[39m(\u001b[39m'\u001b[39m\u001b[39mq\u001b[39m\u001b[39m'\u001b[39m):\n",
      "\u001b[1;31mKeyboardInterrupt\u001b[0m: "
     ]
    }
   ],
   "source": [
    "import cv2\n",
    "import numpy as np\n",
    "from tqdm import tqdm\n",
    "\n",
    "def rotate_points(points, angle):\n",
    "    rotation_matrix = np.array([\n",
    "        [np.cos(angle), -np.sin(angle), 0],\n",
    "        [np.sin(angle), np.cos(angle), 0],\n",
    "        [0, 0, 1]\n",
    "    ])\n",
    "    return points.dot(rotation_matrix.T)\n",
    "\n",
    "def draw_skeleton(frame, keypoints, connections, color=(0, 255, 0), circle_radius=5, line_thickness=2):\n",
    "    h, w, _ = frame.shape\n",
    "    angle = np.pi  # Rotate 180 degrees to view from front\n",
    "    keypoints_rotated = rotate_points(keypoints, angle)\n",
    "    \n",
    "    for joint in keypoints_rotated:\n",
    "        x, y, _ = joint\n",
    "        x_unnormalized = int((x + 1) / 2 * w)\n",
    "        y_unnormalized = int((y + 1) / 2 * h)\n",
    "        cv2.circle(frame, (x_unnormalized, y_unnormalized), circle_radius, color, -1)\n",
    "    \n",
    "    for connection in connections:\n",
    "        joint_start, joint_end = connection\n",
    "        x_start, y_start, _ = keypoints_rotated[joint_start]\n",
    "        x_end, y_end, _ = keypoints_rotated[joint_end]\n",
    "        x_start_unnormalized = int((x_start + 1) / 2 * w)\n",
    "        y_start_unnormalized = int((y_start + 1) / 2 * h)\n",
    "        x_end_unnormalized = int((x_end + 1) / 2 * w)\n",
    "        y_end_unnormalized = int((y_end + 1) / 2 * h)\n",
    "        cv2.line(frame, (x_start_unnormalized, y_start_unnormalized), (x_end_unnormalized, y_end_unnormalized), color, line_thickness)\n",
    "\n",
    "# Define the connections between joints based on the SMPL-X model\n",
    "connections = [\n",
    "    (0, 1), (1, 2), (2, 3), (3, 4),  # Spine and head\n",
    "    (0, 5), (5, 6), (6, 7), (7, 8),  # Left leg\n",
    "    (0, 9), (9, 10), (10, 11), (11, 12),  # Right leg\n",
    "    (4, 13), (13, 14), (14, 15),  # Left arm\n",
    "    (4, 16), (16, 17), (17, 18),  # Right arm\n",
    "    (15, 19), (15, 20), (15, 21),  # Left hand\n",
    "    (18, 22), (18, 23), (18, 24),  # Right hand\n",
    "    (15, 25), (15, 26), (15, 27),  # Left fingers\n",
    "    (18, 28), (18, 29), (18, 30),  # Right fingers\n",
    "    (15, 31), (15, 32), (15, 33),  # Left toes\n",
    "    (18, 34), (18, 35), (18, 36),  # Right toes\n",
    "    (4, 37), (37, 38), (38, 39),  # Neck and jaw\n",
    "    (39, 40), (39, 41),  # Eyes\n",
    "    (4, 42), (42, 43), (43, 44),  # Left shoulder and elbow\n",
    "    (4, 45), (45, 46), (46, 47),  # Right shoulder and elbow\n",
    "    (44, 48), (44, 49), (44, 50),  # Left wrist and fingers\n",
    "    (47, 51), (47, 52), (47, 53),  # Right wrist and fingers\n",
    "]\n",
    "\n",
    "\n",
    "num_frames = keypoints.shape[0]\n",
    "height, width = 720, 1280  # Set the height and width of the output video\n",
    "\n",
    "# Create a VideoCapture object\n",
    "fourcc = cv2.VideoWriter_fourcc(*'XVID')\n",
    "out = cv2.VideoWriter('output.avi', fourcc, 20.0, (width, height))\n",
    "\n",
    "for i in tqdm(range(num_frames)):\n",
    "    frame = np.zeros((height, width, 3), dtype=np.uint8)\n",
    "    draw_skeleton(frame, keypoints[i].reshape(-1, 3), connections)  # Reshape keypoints for each frame\n",
    "    out.write(frame)\n",
    "    cv2.imshow('Skeleton', frame)\n",
    "    if cv2.waitKey(1) & 0xFF == ord('q'):\n",
    "        break\n",
    "\n",
    "out.release()\n",
    "cv2.destroyAllWindows()\n"
   ]
  },
  {
   "cell_type": "code",
   "execution_count": null,
   "metadata": {},
   "outputs": [],
   "source": []
  },
  {
   "cell_type": "code",
   "execution_count": null,
   "metadata": {},
   "outputs": [],
   "source": []
  },
  {
   "cell_type": "markdown",
   "metadata": {},
   "source": []
  },
  {
   "cell_type": "code",
   "execution_count": 35,
   "metadata": {},
   "outputs": [
    {
     "ename": "KeyError",
     "evalue": "'keypoints is not a file in the archive'",
     "output_type": "error",
     "traceback": [
      "\u001b[1;31m---------------------------------------------------------------------------\u001b[0m",
      "\u001b[1;31mKeyError\u001b[0m                                  Traceback (most recent call last)",
      "\u001b[1;32mc:\\Users\\avika\\OneDrive\\Documents\\UAL\\interactive_dance_thesis\\notebooks\\units\\03-AMASS_Visualization_Advanced.ipynb Cell 22\u001b[0m line \u001b[0;36m2\n\u001b[0;32m     <a href='vscode-notebook-cell:/c%3A/Users/avika/OneDrive/Documents/UAL/interactive_dance_thesis/notebooks/units/03-AMASS_Visualization_Advanced.ipynb#X31sZmlsZQ%3D%3D?line=23'>24</a>\u001b[0m data \u001b[39m=\u001b[39m np\u001b[39m.\u001b[39mload(npz_filename)\n\u001b[0;32m     <a href='vscode-notebook-cell:/c%3A/Users/avika/OneDrive/Documents/UAL/interactive_dance_thesis/notebooks/units/03-AMASS_Visualization_Advanced.ipynb#X31sZmlsZQ%3D%3D?line=25'>26</a>\u001b[0m \u001b[39m# Extract keypoints (joints)\u001b[39;00m\n\u001b[1;32m---> <a href='vscode-notebook-cell:/c%3A/Users/avika/OneDrive/Documents/UAL/interactive_dance_thesis/notebooks/units/03-AMASS_Visualization_Advanced.ipynb#X31sZmlsZQ%3D%3D?line=26'>27</a>\u001b[0m keypoints \u001b[39m=\u001b[39m data[\u001b[39m'\u001b[39;49m\u001b[39mkeypoints\u001b[39;49m\u001b[39m'\u001b[39;49m]  \u001b[39m# Replace 'keypoints' with the actual key in your npz file\u001b[39;00m\n\u001b[0;32m     <a href='vscode-notebook-cell:/c%3A/Users/avika/OneDrive/Documents/UAL/interactive_dance_thesis/notebooks/units/03-AMASS_Visualization_Advanced.ipynb#X31sZmlsZQ%3D%3D?line=28'>29</a>\u001b[0m \u001b[39m# Define connections based on SMPL-X model (you might need to adjust this based on your model)\u001b[39;00m\n\u001b[0;32m     <a href='vscode-notebook-cell:/c%3A/Users/avika/OneDrive/Documents/UAL/interactive_dance_thesis/notebooks/units/03-AMASS_Visualization_Advanced.ipynb#X31sZmlsZQ%3D%3D?line=29'>30</a>\u001b[0m connections \u001b[39m=\u001b[39m [\n\u001b[0;32m     <a href='vscode-notebook-cell:/c%3A/Users/avika/OneDrive/Documents/UAL/interactive_dance_thesis/notebooks/units/03-AMASS_Visualization_Advanced.ipynb#X31sZmlsZQ%3D%3D?line=30'>31</a>\u001b[0m     (\u001b[39m0\u001b[39m, \u001b[39m1\u001b[39m), (\u001b[39m1\u001b[39m, \u001b[39m2\u001b[39m), (\u001b[39m2\u001b[39m, \u001b[39m3\u001b[39m), (\u001b[39m3\u001b[39m, \u001b[39m4\u001b[39m),  \u001b[39m# Spine and head\u001b[39;00m\n\u001b[0;32m     <a href='vscode-notebook-cell:/c%3A/Users/avika/OneDrive/Documents/UAL/interactive_dance_thesis/notebooks/units/03-AMASS_Visualization_Advanced.ipynb#X31sZmlsZQ%3D%3D?line=31'>32</a>\u001b[0m     \u001b[39m# Add other connections as needed\u001b[39;00m\n\u001b[0;32m     <a href='vscode-notebook-cell:/c%3A/Users/avika/OneDrive/Documents/UAL/interactive_dance_thesis/notebooks/units/03-AMASS_Visualization_Advanced.ipynb#X31sZmlsZQ%3D%3D?line=32'>33</a>\u001b[0m ]\n",
      "File \u001b[1;32mc:\\Users\\avika\\anaconda3\\envs\\interactive_dance_thesis\\lib\\site-packages\\numpy\\lib\\npyio.py:263\u001b[0m, in \u001b[0;36mNpzFile.__getitem__\u001b[1;34m(self, key)\u001b[0m\n\u001b[0;32m    261\u001b[0m         \u001b[39mreturn\u001b[39;00m \u001b[39mself\u001b[39m\u001b[39m.\u001b[39mzip\u001b[39m.\u001b[39mread(key)\n\u001b[0;32m    262\u001b[0m \u001b[39melse\u001b[39;00m:\n\u001b[1;32m--> 263\u001b[0m     \u001b[39mraise\u001b[39;00m \u001b[39mKeyError\u001b[39;00m(\u001b[39mf\u001b[39m\u001b[39m\"\u001b[39m\u001b[39m{\u001b[39;00mkey\u001b[39m}\u001b[39;00m\u001b[39m is not a file in the archive\u001b[39m\u001b[39m\"\u001b[39m)\n",
      "\u001b[1;31mKeyError\u001b[0m: 'keypoints is not a file in the archive'"
     ]
    }
   ],
   "source": [
    "import numpy as np\n",
    "import cv2\n",
    "\n",
    "def draw_skeleton(frame, keypoints, connections, color=(0, 255, 0), circle_radius=5, line_thickness=2):\n",
    "    h, w, _ = frame.shape\n",
    "    for joint in keypoints:\n",
    "        x, y, _ = joint\n",
    "        x_unnormalized = int((x + 1) / 2 * w)\n",
    "        y_unnormalized = int((y + 1) / 2 * h)\n",
    "        cv2.circle(frame, (x_unnormalized, y_unnormalized), circle_radius, color, -1)\n",
    "    \n",
    "    for connection in connections:\n",
    "        joint_start, joint_end = connection\n",
    "        x_start, y_start, _ = keypoints[joint_start]\n",
    "        x_end, y_end, _ = keypoints[joint_end]\n",
    "        x_start_unnormalized = int((x_start + 1) / 2 * w)\n",
    "        y_start_unnormalized = int((y_start + 1) / 2 * h)\n",
    "        x_end_unnormalized = int((x_end + 1) / 2 * w)\n",
    "        y_end_unnormalized = int((y_end + 1) / 2 * h)\n",
    "        cv2.line(frame, (x_start_unnormalized, y_start_unnormalized), (x_end_unnormalized, y_end_unnormalized), color, line_thickness)\n",
    "\n",
    "# Load the SMPL-X npz file\n",
    "npz_filename = amass_npz_fname\n",
    "data = np.load(npz_filename)\n",
    "\n",
    "# Extract keypoints (joints)\n",
    "keypoints = data['keypoints']  # Replace 'keypoints' with the actual key in your npz file\n",
    "\n",
    "# Define connections based on SMPL-X model (you might need to adjust this based on your model)\n",
    "connections = [\n",
    "    (0, 1), (1, 2), (2, 3), (3, 4),  # Spine and head\n",
    "    (0, 5), (5, 6), (6, 7), (7, 8),  # Left leg\n",
    "    (0, 9), (9, 10), (10, 11), (11, 12),  # Right leg\n",
    "    (4, 13), (13, 14), (14, 15),  # Left arm\n",
    "    (4, 16), (16, 17), (17, 18),  # Right arm\n",
    "    (15, 19), (15, 20), (15, 21),  # Left hand\n",
    "    (18, 22), (18, 23), (18, 24),  # Right hand\n",
    "    (15, 25), (15, 26), (15, 27),  # Left fingers\n",
    "    (18, 28), (18, 29), (18, 30),  # Right fingers\n",
    "    (15, 31), (15, 32), (15, 33),  # Left toes\n",
    "    (18, 34), (18, 35), (18, 36),  # Right toes\n",
    "    (4, 37), (37, 38), (38, 39),  # Neck and jaw\n",
    "    (39, 40), (39, 41),  # Eyes\n",
    "    (4, 42), (42, 43), (43, 44),  # Left shoulder and elbow\n",
    "    (4, 45), (45, 46), (46, 47),  # Right shoulder and elbow\n",
    "    (44, 48), (44, 49), (44, 50),  # Left wrist and fingers\n",
    "    (47, 51), (47, 52), (47, 53),  # Right wrist and fingers\n",
    "]\n",
    "\n",
    "# Create a video to visualize the skeleton\n",
    "num_frames = keypoints.shape[0]\n",
    "height, width = 720, 1280\n",
    "out = cv2.VideoWriter('output.avi', cv2.VideoWriter_fourcc(*'XVID'), 20.0, (width, height))\n",
    "\n",
    "for i in range(num_frames):\n",
    "    frame = np.zeros((height, width, 3), dtype=np.uint8)\n",
    "    draw_skeleton(frame, keypoints[i].reshape(-1, 3), connections)\n",
    "    out.write(frame)\n",
    "    cv2.imshow('Skeleton', frame)\n",
    "    if cv2.waitKey(1) & 0xFF == ord('q'):\n",
    "        break\n",
    "\n",
    "out.release()\n",
    "cv2.destroyAllWindows()\n"
   ]
  },
  {
   "cell_type": "code",
   "execution_count": 32,
   "metadata": {},
   "outputs": [
    {
     "data": {
      "text/plain": [
       "array([ 1.19092072e+00, -1.00347575e+00, -1.18668399e+00,  2.00684487e-01,\n",
       "        4.94870142e-02,  3.86226348e-02,  1.94893044e-01, -1.13796658e-01,\n",
       "       -3.35413169e-03,  5.78381430e-02,  5.05995573e-02,  2.15738147e-02,\n",
       "       -2.08302147e-01, -2.67837238e-01,  3.97589680e-02, -1.02878405e-01,\n",
       "        1.63699730e-01,  7.17834491e-02,  3.38586784e-02, -5.16442601e-02,\n",
       "       -3.77532168e-02, -1.65941065e-01,  3.32185123e-01, -4.40265163e-02,\n",
       "       -1.84721514e-01, -4.01111442e-01,  2.39762189e-01,  9.76937245e-02,\n",
       "        2.56143181e-02, -1.63103162e-04,  1.51768857e-02,  2.62254375e-04,\n",
       "        1.02288294e-01,  6.02885732e-02,  2.93955070e-01, -3.39801716e-01,\n",
       "        1.14735033e-01,  9.78907901e-02, -6.88231490e-04, -2.26184435e-01,\n",
       "       -5.33848071e-02,  1.63124640e-01, -1.81265659e-01,  5.48554499e-02,\n",
       "       -1.31056565e-01,  9.54507973e-02, -8.89299729e-03,  3.27106055e-02,\n",
       "       -2.82672340e-01, -1.96786510e-01,  2.95397020e-02, -2.30212793e-01,\n",
       "        7.03937559e-02,  2.65289868e-02, -2.24600558e-01,  2.12734980e-01,\n",
       "       -3.85641836e-02, -2.56087334e-01, -1.24109892e-01,  1.28442749e-01,\n",
       "        3.45700949e-01, -1.91526380e-01,  3.62694319e-01,  2.10088039e-01,\n",
       "        1.28009174e-01, -2.71810618e-01,  0.00000000e+00,  0.00000000e+00,\n",
       "        0.00000000e+00,  0.00000000e+00,  0.00000000e+00,  0.00000000e+00,\n",
       "        0.00000000e+00,  0.00000000e+00,  0.00000000e+00,  1.11678716e-01,\n",
       "        4.28921748e-02, -4.16441837e-01,  1.08811325e-01, -6.59856789e-02,\n",
       "       -7.56220010e-01, -9.63929651e-02, -9.09156592e-02, -1.88459291e-01,\n",
       "       -1.18095039e-01,  5.09438526e-02, -5.29584500e-01, -1.43698409e-01,\n",
       "        5.52417000e-02, -7.04857141e-01, -1.91829168e-02, -9.23368482e-02,\n",
       "       -3.37913524e-01, -4.57032983e-01, -1.96283945e-01, -6.25457533e-01,\n",
       "       -2.14652379e-01, -6.59982865e-02, -5.06894207e-01, -3.69724357e-01,\n",
       "       -6.03446264e-02, -7.94902279e-02, -1.41869695e-01, -8.58526333e-02,\n",
       "       -6.35528257e-01, -3.03341587e-01, -5.78809752e-02, -6.31389210e-01,\n",
       "       -1.76120885e-01, -1.32093076e-01, -3.73354576e-01,  8.50964279e-01,\n",
       "        2.76922742e-01, -9.15480698e-02, -4.99839438e-01,  2.65564722e-02,\n",
       "        5.28808767e-02,  5.35559148e-01,  4.59610410e-02, -2.77358021e-01,\n",
       "        1.11678716e-01, -4.28921748e-02,  4.16441837e-01,  1.08811325e-01,\n",
       "        6.59856789e-02,  7.56220010e-01, -9.63929651e-02,  9.09156592e-02,\n",
       "        1.88459291e-01, -1.18095039e-01, -5.09438526e-02,  5.29584500e-01,\n",
       "       -1.43698409e-01, -5.52417000e-02,  7.04857141e-01, -1.91829168e-02,\n",
       "        9.23368482e-02,  3.37913524e-01, -4.57032983e-01,  1.96283945e-01,\n",
       "        6.25457533e-01, -2.14652379e-01,  6.59982865e-02,  5.06894207e-01,\n",
       "       -3.69724357e-01,  6.03446264e-02,  7.94902279e-02, -1.41869695e-01,\n",
       "        8.58526333e-02,  6.35528257e-01, -3.03341587e-01,  5.78809752e-02,\n",
       "        6.31389210e-01, -1.76120885e-01,  1.32093076e-01,  3.73354576e-01,\n",
       "        8.50964279e-01, -2.76922742e-01,  9.15480698e-02, -4.99839438e-01,\n",
       "       -2.65564722e-02, -5.28808767e-02,  5.35559148e-01, -4.59610410e-02,\n",
       "        2.77358021e-01])"
      ]
     },
     "execution_count": 32,
     "metadata": {},
     "output_type": "execute_result"
    }
   ],
   "source": [
    "keypoints[0]"
   ]
  },
  {
   "cell_type": "code",
   "execution_count": 28,
   "metadata": {},
   "outputs": [
    {
     "name": "stdout",
     "output_type": "stream",
     "text": [
      "(10102, 165)\n"
     ]
    }
   ],
   "source": [
    "print(keypoints.shape)"
   ]
  },
  {
   "cell_type": "markdown",
   "metadata": {},
   "source": [
    "You won't see a perfect match with original SMPL+H body because the shape is not taken into account with the above body.\n",
    "SMPL+H and SMPLx body parameters are not fully compatible.\n",
    "For next releases of AMASS we intend to include more model types from SMPL family."
   ]
  }
 ],
 "metadata": {
  "kernelspec": {
   "display_name": "Python 3",
   "language": "python",
   "name": "python3"
  },
  "language_info": {
   "codemirror_mode": {
    "name": "ipython",
    "version": 3
   },
   "file_extension": ".py",
   "mimetype": "text/x-python",
   "name": "python",
   "nbconvert_exporter": "python",
   "pygments_lexer": "ipython3",
   "version": "3.7.7"
  }
 },
 "nbformat": 4,
 "nbformat_minor": 2
}
