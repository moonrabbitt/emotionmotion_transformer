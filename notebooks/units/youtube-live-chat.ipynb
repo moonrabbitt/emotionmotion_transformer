{
 "cells": [
  {
   "cell_type": "code",
   "execution_count": 1,
   "metadata": {},
   "outputs": [
    {
     "name": "stdout",
     "output_type": "stream",
     "text": [
      "Collecting pytchat\n",
      "  Downloading pytchat-0.5.5-py3-none-any.whl (69 kB)\n",
      "\u001b[2K     \u001b[90m━━━━━━━━━━━━━━━━━━━━━━━━━━━━━━━━━━━━━━━\u001b[0m \u001b[32m69.5/69.5 kB\u001b[0m \u001b[31m695.0 kB/s\u001b[0m eta \u001b[36m0:00:00\u001b[0ma \u001b[36m0:00:01\u001b[0m\n",
      "\u001b[?25hCollecting httpx[http2] (from pytchat)\n",
      "  Using cached httpx-0.24.1-py3-none-any.whl (75 kB)\n",
      "Requirement already satisfied: certifi in /Users/avikapulges/opt/anaconda3/envs/interactive_dance_thesis/lib/python3.9/site-packages (from httpx[http2]->pytchat) (2023.5.7)\n",
      "Collecting httpcore<0.18.0,>=0.15.0 (from httpx[http2]->pytchat)\n",
      "  Using cached httpcore-0.17.3-py3-none-any.whl (74 kB)\n",
      "Requirement already satisfied: idna in /Users/avikapulges/opt/anaconda3/envs/interactive_dance_thesis/lib/python3.9/site-packages (from httpx[http2]->pytchat) (3.4)\n",
      "Requirement already satisfied: sniffio in /Users/avikapulges/opt/anaconda3/envs/interactive_dance_thesis/lib/python3.9/site-packages (from httpx[http2]->pytchat) (1.2.0)\n",
      "Collecting h2<5,>=3 (from httpx[http2]->pytchat)\n",
      "  Downloading h2-4.1.0-py3-none-any.whl (57 kB)\n",
      "\u001b[2K     \u001b[90m━━━━━━━━━━━━━━━━━━━━━━━━━━━━━━━━━━━━━━━━\u001b[0m \u001b[32m57.5/57.5 kB\u001b[0m \u001b[31m1.2 MB/s\u001b[0m eta \u001b[36m0:00:00\u001b[0ma \u001b[36m0:00:01\u001b[0m\n",
      "\u001b[?25hCollecting hyperframe<7,>=6.0 (from h2<5,>=3->httpx[http2]->pytchat)\n",
      "  Downloading hyperframe-6.0.1-py3-none-any.whl (12 kB)\n",
      "Collecting hpack<5,>=4.0 (from h2<5,>=3->httpx[http2]->pytchat)\n",
      "  Downloading hpack-4.0.0-py3-none-any.whl (32 kB)\n",
      "Requirement already satisfied: h11<0.15,>=0.13 in /Users/avikapulges/opt/anaconda3/envs/interactive_dance_thesis/lib/python3.9/site-packages (from httpcore<0.18.0,>=0.15.0->httpx[http2]->pytchat) (0.14.0)\n",
      "Requirement already satisfied: anyio<5.0,>=3.0 in /Users/avikapulges/opt/anaconda3/envs/interactive_dance_thesis/lib/python3.9/site-packages (from httpcore<0.18.0,>=0.15.0->httpx[http2]->pytchat) (3.5.0)\n",
      "Installing collected packages: hyperframe, hpack, httpcore, h2, httpx, pytchat\n",
      "Successfully installed h2-4.1.0 hpack-4.0.0 httpcore-0.17.3 httpx-0.24.1 hyperframe-6.0.1 pytchat-0.5.5\n"
     ]
    }
   ],
   "source": [
    "!pip install pytchat"
   ]
  },
  {
   "cell_type": "code",
   "execution_count": 1,
   "metadata": {},
   "outputs": [
    {
     "name": "stdout",
     "output_type": "stream",
     "text": [
      "2023-08-01 16:57:09 [mtz]- Büşra bence şimdi seni anlıyorum\n",
      "2023-08-01 16:57:12 [shao Lyn]- yow \n",
      "2023-08-01 16:57:14 [ELA]- hello :dove::green_heart:\n",
      "2023-08-01 16:57:17 [Khushi Mishra]- Thomas hi\n",
      "2023-08-01 16:57:19 [nyanko]- angel nhi Dayan hun m\n",
      "2023-08-01 16:57:20 [Skittle]- Puck are you mc?\n",
      "2023-08-01 16:57:20 [Seven]- @Diwa u from?:eyes:\n"
     ]
    }
   ],
   "source": [
    "import pytchat\n",
    "# test lofi girl live\n",
    "# https://www.youtube.com/watch?v=jfKfPfyJRdk\n",
    "\n",
    "chat = pytchat.create(video_id=\"jfKfPfyJRdk\")\n",
    "while chat.is_alive():\n",
    "    for c in chat.get().sync_items():\n",
    "        print(f\"{c.datetime} [{c.author.name}]- {c.message}\")"
   ]
  },
  {
   "cell_type": "code",
   "execution_count": null,
   "metadata": {},
   "outputs": [],
   "source": []
  }
 ],
 "metadata": {
  "kernelspec": {
   "display_name": "interactive_dance_thesis",
   "language": "python",
   "name": "python3"
  },
  "language_info": {
   "codemirror_mode": {
    "name": "ipython",
    "version": 3
   },
   "file_extension": ".py",
   "mimetype": "text/x-python",
   "name": "python",
   "nbconvert_exporter": "python",
   "pygments_lexer": "ipython3",
   "version": "3.9.17"
  },
  "orig_nbformat": 4
 },
 "nbformat": 4,
 "nbformat_minor": 2
}
