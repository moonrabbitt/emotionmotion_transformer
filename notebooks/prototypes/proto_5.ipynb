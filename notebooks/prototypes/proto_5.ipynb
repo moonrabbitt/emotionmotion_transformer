{
 "cells": [
  {
   "cell_type": "code",
   "execution_count": 1,
   "metadata": {},
   "outputs": [
    {
     "name": "stdout",
     "output_type": "stream",
     "text": [
      "C:\\Users\\avika\\OneDrive\\Documents\\UAL\\interactive_dance_thesis\n"
     ]
    }
   ],
   "source": [
    "from transformer_proto5 import *"
   ]
  },
  {
   "cell_type": "code",
   "execution_count": 2,
   "metadata": {},
   "outputs": [
    {
     "name": "stderr",
     "output_type": "stream",
     "text": [
      "100%|██████████| 4102/4102 [00:03<00:00, 1059.42it/s]\n"
     ]
    },
    {
     "name": "stdout",
     "output_type": "stream",
     "text": [
      "Validating interpolation...\n",
      "No errors found!\n",
      "Generating deltas...\n"
     ]
    },
    {
     "name": "stderr",
     "output_type": "stream",
     "text": [
      "100%|██████████| 4102/4102 [00:06<00:00, 601.02it/s]\n",
      "100%|██████████| 4102/4102 [00:06<00:00, 627.19it/s]\n"
     ]
    }
   ],
   "source": [
    "# load and preprocess data\n",
    "direction = ['left','right','front']\n",
    "files = []\n",
    "\n",
    "for d in direction:\n",
    "    files.extend(glob.glob(f\"G:/UAL_Thesis/affective_computing_datasets/multiview-emotional-expressions-dataset/*/{d}_*/processed_data.json\"))\n",
    "\n",
    "processed_data = preprocess_data(files)\n",
    "\n",
    "x_list = processed_data['x']\n",
    "y_list = processed_data['y']\n",
    "dx_list = processed_data['dx']\n",
    "dy_list = processed_data['dy']\n",
    "conf_list = processed_data['confidence']\n",
    "emotions_labels = processed_data['emotions']\n",
    "\n",
    "# prepare data for training - deltas from now on\n",
    "global max_x, min_x, max_y, min_y\n",
    "\n",
    "max_dx, min_dx, normalised_dx = normalize_values_2D(dx_list)\n",
    "max_dy, min_dy, normalised_dy = normalize_values_2D(dy_list)\n",
    "max_x, min_x, normalised_x = normalize_values_2D(dx_list)\n",
    "max_y, min_y, normalised_y = normalize_values_2D(dy_list)\n",
    "\n",
    "dkp_frames = create_kp_frames(normalised_dx, normalised_dy)  # 1D tensor array of 50 numbers (x,y,x,y --> 25 keypoints)\n",
    "kp_frames = create_kp_frames(normalised_x, normalised_y)  # 1D tensor array of 50 numbers (x,y,x,y --> 25 keypoints) - for getting first frames/validation\n",
    "\n",
    "data = add_delta_to_frames(kp_frames, dkp_frames)\n",
    "data = add_emotions_to_frames(data, emotion_labels_to_vectors(emotions_labels))\n",
    "\n",
    "\n",
    "frame_dim = len(data[0][0]) # how many numbers are in each frame? - 50 kps xy + 50 deltas + 7 emotion \n",
    "print(f\"frame_dim: {frame_dim}\")\n",
    "train_data, val_data = stratified_split(data, test_size=0.1)\n",
    "\n",
    "\n",
    "# HYPERPARAMETERS------------------\n",
    "\n",
    "torch.manual_seed(1337)\n",
    "BATCH_SIZE = 4 # how many independent sequences will we process in parallel? - every forward and backward pass in transformer\n",
    "BLOCK_SIZE = 16 # what is the maximum context length for predictions? \n",
    "DROPOUT = 0.3\n",
    "LEARNING_RATE = 0.0001\n",
    "EPOCHS = 1000\n",
    "FRAMES_GENERATE = 300\n",
    "TRAIN = False\n",
    "EVAL_EVERY = 100\n",
    "CHECKPOINT_PATH = \"checkpoints/proto5_checkpoint.pth\"\n",
    "L1_LAMBDA = None\n",
    "L2_REG=0.0\n",
    "global train_seed\n",
    "\n",
    "# ---------------------------------\n",
    "\n",
    "# NOTES---------------------------------\n",
    "notes = f\"\"\"Got rid of both L1 and L2, increasing dropout because model acting weird, this is now delta\"\"\"\n",
    "# ---------------------------------\n",
    "\n",
    "# create model\n",
    "\n",
    "m = MotionModel(input_dim=frame_dim, output_dim=frame_dim, hidden_dim=512, n_layers=8, dropout=DROPOUT)\n",
    "m = m.to(device)\n",
    "optimizer = torch.optim.Adam(m.parameters(), lr=LEARNING_RATE, weight_decay=L2_REG)  # weight_decay=1e-5 L2 regularization\n",
    "\n",
    "# train\n",
    "if TRAIN:\n",
    "    # Generate a random seed\n",
    "    \n",
    "    train_seed = random.randint(1, 100000)\n",
    "    print(f'Training model {train_seed}...')\n",
    "    train_losses = []\n",
    "    val_losses = []\n",
    "    best_val_loss = float('inf')  # Initialize with infinity, so first instance is saved\n",
    "\n",
    "    \n",
    "    for epoch in tqdm(range(EPOCHS), desc=\"Training\", unit=\"epoch\"):\n",
    "        # get sample batch of data\n",
    "        xb,yb,mask = get_batch('train',BLOCK_SIZE,BATCH_SIZE)\n",
    "        # validate emotions are consistent\n",
    "        validate_emotion_consistency(xb, yb)\n",
    "        # evaluate loss\n",
    "        logits, loss = m(xb,yb,l1_lambda=L1_LAMBDA)\n",
    "        optimizer.zero_grad(set_to_none=True)\n",
    "        loss.backward()\n",
    "        optimizer.step()\n",
    "        \n",
    "        if epoch % EVAL_EVERY == 0:\n",
    "            losses = estimate_loss()\n",
    "            print(f\"\\nTrain loss: {losses['train']:.6f} val loss: {losses['val']:.6f}\")\n",
    "            \n",
    "            if (epoch != 0):\n",
    "                # Store the losses for plotting\n",
    "                train_losses.append(losses['train'])\n",
    "                val_losses.append(losses['val'])\n",
    "            \n",
    "            if (epoch % (EVAL_EVERY*10) == 0) and (epoch != 0):\n",
    "                # Save a checkpoint every 10 rounds of eval if it has the best validation loss so far\n",
    "                if losses['val'] < best_val_loss:\n",
    "                    print(f\"-> Best model so far (val loss: {best_val_loss:.6f}), saving model...\")\n",
    "                    best_val_loss = losses['val']\n",
    "                    save_checkpoint(model=m, optimizer=optimizer, epoch=epoch, loss=loss, checkpoint_path=CHECKPOINT_PATH)\n",
    "                    print(f'Model {train_seed} saved!')\n",
    "                    \n",
    "    # After the training loop, save the final model\n",
    "    if val_losses[-1] < best_val_loss:\n",
    "                    print(f\"-> Best model so far (val loss: {best_val_loss:.6f}), saving model...\")\n",
    "                    best_val_loss = val_losses[-1]\n",
    "                    save_checkpoint(model=m, optimizer=optimizer, epoch=EPOCHS, loss=val_losses[-1], checkpoint_path=CHECKPOINT_PATH)\n",
    "                    print(f'Model {train_seed} saved!')\n",
    "    # After the training loop, plot the losses\n",
    "    plot_losses(train_losses, val_losses)\n",
    "    \n",
    "else:\n",
    "    # Load the model\n",
    "    print('Loading model...')\n",
    "    m, optimizer, epoch, loss, train_seed = load_checkpoint(m, optimizer, CHECKPOINT_PATH)\n",
    "    print(f\"Model {train_seed} loaded from {CHECKPOINT_PATH} (epoch {epoch}, loss {loss:.6f})\")\n",
    "\n",
    "# Generate a sequence\n",
    "print(f'Generating sequence of {FRAMES_GENERATE} frames...')\n",
    "xb,yb,mask = get_batch('val',BLOCK_SIZE,BATCH_SIZE)\n",
    "\n",
    "generated = m.generate(xb, FRAMES_GENERATE)\n",
    "unnorm_out = unnormalise_list_2D(generated, max_x, min_x, max_y, min_y,max_dx, min_dx, max_dy, min_dy)\n",
    "\n"
   ]
  },
  {
   "cell_type": "code",
   "execution_count": null,
   "metadata": {},
   "outputs": [],
   "source": [
    "    # # visualise and save\n",
    "    # for batch in unnorm_out:\n",
    "    #     visualise_skeleton(batch, max_x, max_y, max_frames=FRAMES_GENERATE,save = True,save_path=None,prefix=f'adam_{EPOCHS}')\n",
    "    \n",
    "    # if TRAIN:\n",
    "    #     write_notes(notes)\n",
    "     \n",
    "    # print('Done!')"
   ]
  }
 ],
 "metadata": {
  "kernelspec": {
   "display_name": "interactive_dance_thesis",
   "language": "python",
   "name": "python3"
  },
  "language_info": {
   "codemirror_mode": {
    "name": "ipython",
    "version": 3
   },
   "file_extension": ".py",
   "mimetype": "text/x-python",
   "name": "python",
   "nbconvert_exporter": "python",
   "pygments_lexer": "ipython3",
   "version": "3.10.9"
  }
 },
 "nbformat": 4,
 "nbformat_minor": 2
}
