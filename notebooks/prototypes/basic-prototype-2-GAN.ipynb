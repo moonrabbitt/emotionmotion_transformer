{
 "cells": [
  {
   "cell_type": "markdown",
   "metadata": {},
   "source": [
    "# Basic Prototype 2\n",
    "\n",
    "Builds on Basic Prototype 1, adds yolov8 pose detection. Landmarks will be saved in a datastructure which then will be visualised and probably exported as a JSON so that it can be trained on Google Colab. This prototype focuses on testing if an AI model can be trained to interpolate and output the correct landmarks to continue the video sequence after being trained on the sequences of the videos.\n",
    "\n",
    "Pose detection wise, Openpose is better since it has more landmarks and also tracks the foot, it is also based on C++ so it's quicker, but I cannot get openpose to work yet, so I will implement using YOLOv8 for now just to test the AI model structure. \n",
    "\n",
    "Mediapipe is also a possibility but it can only detect 1 person at a time and is much slower. \n",
    "\n",
    "Still the broadcast on OBS has to be started manually first."
   ]
  },
  {
   "cell_type": "code",
   "execution_count": 1,
   "metadata": {},
   "outputs": [
    {
     "name": "stdout",
     "output_type": "stream",
     "text": [
      "['G:/UAL_Thesis/raw_videos\\\\idle_bob_1.MOV', 'G:/UAL_Thesis/raw_videos\\\\idle_bob_2.MOV', 'G:/UAL_Thesis/raw_videos\\\\jump_out_in.MOV', 'G:/UAL_Thesis/raw_videos\\\\step_f_b.MOV', 'G:/UAL_Thesis/raw_videos\\\\step_l.MOV', 'G:/UAL_Thesis/raw_videos\\\\step_l_r.MOV', 'G:/UAL_Thesis/raw_videos\\\\step_r.MOV', 'G:/UAL_Thesis/raw_videos\\\\step_r_l.MOV']\n"
     ]
    }
   ],
   "source": [
    "# imports\n",
    "\n",
    "import pytchat\n",
    "import cv2\n",
    "import glob\n",
    "import ultralytics\n",
    "import torch\n",
    "import time\n",
    "import numpy as np\n",
    "from collections import defaultdict\n",
    "import pandas as pd\n",
    "from keras.models import Sequential\n",
    "from keras.layers import Dense\n",
    "from keras.layers import LSTM\n",
    "import mdn\n",
    "import random\n",
    "import tensorflow as tf\n",
    "\n",
    "files = glob.glob('G:/UAL_Thesis/raw_videos/*')\n",
    "print(files)\n"
   ]
  },
  {
   "cell_type": "code",
   "execution_count": 2,
   "metadata": {},
   "outputs": [],
   "source": [
    "from PIL import Image\n",
    "\n",
    "def draw_skeleton(result):\n",
    "    \"\"\"draw frame from YOLOv8 results\"\"\"\n",
    "    for r in result:\n",
    "        im_array = r.plot()  # plot a BGR numpy array of predictions\n",
    "        im = Image.fromarray(im_array[..., ::-1])  # RGB PIL image\n",
    "    return np.array(im)[..., ::-1]  # Convert PIL Image back to BGR numpy array"
   ]
  },
  {
   "cell_type": "code",
   "execution_count": 3,
   "metadata": {},
   "outputs": [
    {
     "name": "stderr",
     "output_type": "stream",
     "text": [
      "\n",
      "0: 640x384 1 person, 59.5ms\n",
      "Speed: 2.0ms preprocess, 59.5ms inference, 1.0ms postprocess per image at shape (1, 3, 640, 384)\n",
      "\n",
      "0: 640x384 1 person, 45.5ms\n",
      "Speed: 1.0ms preprocess, 45.5ms inference, 0.0ms postprocess per image at shape (1, 3, 640, 384)\n",
      "\n",
      "0: 640x384 1 person, 42.5ms\n",
      "Speed: 2.0ms preprocess, 42.5ms inference, 1.0ms postprocess per image at shape (1, 3, 640, 384)\n",
      "\n",
      "0: 640x384 1 person, 42.5ms\n",
      "Speed: 2.0ms preprocess, 42.5ms inference, 1.0ms postprocess per image at shape (1, 3, 640, 384)\n",
      "\n",
      "0: 640x384 1 person, 43.5ms\n",
      "Speed: 2.0ms preprocess, 43.5ms inference, 1.3ms postprocess per image at shape (1, 3, 640, 384)\n",
      "\n",
      "0: 640x384 1 person, 46.5ms\n",
      "Speed: 2.0ms preprocess, 46.5ms inference, 1.0ms postprocess per image at shape (1, 3, 640, 384)\n",
      "\n",
      "0: 640x384 1 person, 43.0ms\n",
      "Speed: 2.0ms preprocess, 43.0ms inference, 1.0ms postprocess per image at shape (1, 3, 640, 384)\n",
      "\n",
      "0: 640x384 1 person, 43.1ms\n",
      "Speed: 2.0ms preprocess, 43.1ms inference, 0.0ms postprocess per image at shape (1, 3, 640, 384)\n",
      "\n",
      "0: 640x384 1 person, 45.0ms\n",
      "Speed: 2.0ms preprocess, 45.0ms inference, 1.0ms postprocess per image at shape (1, 3, 640, 384)\n",
      "\n",
      "0: 640x384 1 person, 44.0ms\n",
      "Speed: 1.0ms preprocess, 44.0ms inference, 1.0ms postprocess per image at shape (1, 3, 640, 384)\n",
      "\n",
      "0: 640x384 1 person, 43.0ms\n",
      "Speed: 2.0ms preprocess, 43.0ms inference, 1.0ms postprocess per image at shape (1, 3, 640, 384)\n",
      "\n",
      "0: 640x384 1 person, 45.0ms\n",
      "Speed: 1.0ms preprocess, 45.0ms inference, 0.0ms postprocess per image at shape (1, 3, 640, 384)\n",
      "\n",
      "0: 640x384 1 person, 45.0ms\n",
      "Speed: 1.0ms preprocess, 45.0ms inference, 0.0ms postprocess per image at shape (1, 3, 640, 384)\n",
      "\n",
      "0: 640x384 1 person, 50.0ms\n",
      "Speed: 1.2ms preprocess, 50.0ms inference, 1.0ms postprocess per image at shape (1, 3, 640, 384)\n",
      "\n",
      "0: 640x384 1 person, 43.0ms\n",
      "Speed: 2.0ms preprocess, 43.0ms inference, 1.0ms postprocess per image at shape (1, 3, 640, 384)\n",
      "\n",
      "0: 640x384 1 person, 45.5ms\n",
      "Speed: 1.0ms preprocess, 45.5ms inference, 1.0ms postprocess per image at shape (1, 3, 640, 384)\n",
      "\n",
      "0: 640x384 1 person, 42.5ms\n",
      "Speed: 1.0ms preprocess, 42.5ms inference, 0.0ms postprocess per image at shape (1, 3, 640, 384)\n",
      "\n",
      "0: 640x384 1 person, 41.5ms\n",
      "Speed: 2.0ms preprocess, 41.5ms inference, 1.0ms postprocess per image at shape (1, 3, 640, 384)\n",
      "\n",
      "0: 640x384 1 person, 44.5ms\n",
      "Speed: 1.0ms preprocess, 44.5ms inference, 0.0ms postprocess per image at shape (1, 3, 640, 384)\n",
      "\n",
      "0: 640x384 1 person, 43.0ms\n",
      "Speed: 1.0ms preprocess, 43.0ms inference, 0.0ms postprocess per image at shape (1, 3, 640, 384)\n",
      "\n",
      "0: 640x384 1 person, 44.0ms\n",
      "Speed: 1.0ms preprocess, 44.0ms inference, 0.0ms postprocess per image at shape (1, 3, 640, 384)\n",
      "\n",
      "0: 640x384 1 person, 44.0ms\n",
      "Speed: 1.0ms preprocess, 44.0ms inference, 0.0ms postprocess per image at shape (1, 3, 640, 384)\n",
      "\n",
      "0: 640x384 1 person, 43.0ms\n",
      "Speed: 2.0ms preprocess, 43.0ms inference, 0.0ms postprocess per image at shape (1, 3, 640, 384)\n",
      "\n",
      "0: 640x384 1 person, 48.5ms\n",
      "Speed: 2.0ms preprocess, 48.5ms inference, 1.0ms postprocess per image at shape (1, 3, 640, 384)\n",
      "\n",
      "0: 640x384 1 person, 46.5ms\n",
      "Speed: 1.0ms preprocess, 46.5ms inference, 1.0ms postprocess per image at shape (1, 3, 640, 384)\n",
      "\n",
      "0: 640x384 1 person, 42.5ms\n",
      "Speed: 1.0ms preprocess, 42.5ms inference, 1.0ms postprocess per image at shape (1, 3, 640, 384)\n",
      "\n",
      "0: 640x384 1 person, 43.5ms\n",
      "Speed: 1.0ms preprocess, 43.5ms inference, 1.0ms postprocess per image at shape (1, 3, 640, 384)\n",
      "\n",
      "0: 640x384 1 person, 42.0ms\n",
      "Speed: 2.0ms preprocess, 42.0ms inference, 1.0ms postprocess per image at shape (1, 3, 640, 384)\n",
      "\n",
      "0: 640x384 1 person, 42.0ms\n",
      "Speed: 1.0ms preprocess, 42.0ms inference, 1.0ms postprocess per image at shape (1, 3, 640, 384)\n",
      "\n",
      "0: 640x384 1 person, 44.0ms\n",
      "Speed: 1.0ms preprocess, 44.0ms inference, 0.0ms postprocess per image at shape (1, 3, 640, 384)\n",
      "\n",
      "0: 640x384 1 person, 44.0ms\n",
      "Speed: 2.0ms preprocess, 44.0ms inference, 0.0ms postprocess per image at shape (1, 3, 640, 384)\n",
      "\n",
      "0: 640x384 1 person, 45.8ms\n",
      "Speed: 2.0ms preprocess, 45.8ms inference, 1.0ms postprocess per image at shape (1, 3, 640, 384)\n",
      "\n",
      "0: 640x384 1 person, 44.0ms\n",
      "Speed: 2.0ms preprocess, 44.0ms inference, 1.0ms postprocess per image at shape (1, 3, 640, 384)\n",
      "\n",
      "0: 640x384 1 person, 43.0ms\n",
      "Speed: 1.0ms preprocess, 43.0ms inference, 0.0ms postprocess per image at shape (1, 3, 640, 384)\n",
      "\n",
      "0: 640x384 1 person, 43.5ms\n",
      "Speed: 1.0ms preprocess, 43.5ms inference, 0.0ms postprocess per image at shape (1, 3, 640, 384)\n",
      "\n",
      "0: 640x384 1 person, 43.5ms\n",
      "Speed: 2.0ms preprocess, 43.5ms inference, 1.0ms postprocess per image at shape (1, 3, 640, 384)\n",
      "\n",
      "0: 640x384 1 person, 43.5ms\n",
      "Speed: 1.0ms preprocess, 43.5ms inference, 0.0ms postprocess per image at shape (1, 3, 640, 384)\n",
      "\n",
      "0: 640x384 1 person, 45.5ms\n",
      "Speed: 1.0ms preprocess, 45.5ms inference, 0.0ms postprocess per image at shape (1, 3, 640, 384)\n",
      "\n",
      "0: 640x384 1 person, 44.5ms\n",
      "Speed: 2.0ms preprocess, 44.5ms inference, 1.0ms postprocess per image at shape (1, 3, 640, 384)\n",
      "\n",
      "0: 640x384 1 person, 46.5ms\n",
      "Speed: 1.0ms preprocess, 46.5ms inference, 0.0ms postprocess per image at shape (1, 3, 640, 384)\n",
      "\n",
      "0: 640x384 1 person, 45.5ms\n",
      "Speed: 2.0ms preprocess, 45.5ms inference, 0.0ms postprocess per image at shape (1, 3, 640, 384)\n",
      "\n",
      "0: 640x384 1 person, 40.5ms\n",
      "Speed: 2.0ms preprocess, 40.5ms inference, 1.0ms postprocess per image at shape (1, 3, 640, 384)\n",
      "\n",
      "0: 640x384 1 person, 42.0ms\n",
      "Speed: 1.0ms preprocess, 42.0ms inference, 1.0ms postprocess per image at shape (1, 3, 640, 384)\n",
      "\n",
      "0: 640x384 1 person, 45.0ms\n",
      "Speed: 2.0ms preprocess, 45.0ms inference, 1.0ms postprocess per image at shape (1, 3, 640, 384)\n",
      "\n",
      "0: 640x384 1 person, 44.0ms\n",
      "Speed: 2.0ms preprocess, 44.0ms inference, 1.0ms postprocess per image at shape (1, 3, 640, 384)\n",
      "\n",
      "0: 640x384 1 person, 48.0ms\n",
      "Speed: 2.0ms preprocess, 48.0ms inference, 0.0ms postprocess per image at shape (1, 3, 640, 384)\n",
      "\n",
      "0: 640x384 1 person, 42.0ms\n",
      "Speed: 2.0ms preprocess, 42.0ms inference, 1.0ms postprocess per image at shape (1, 3, 640, 384)\n",
      "\n",
      "0: 640x384 1 person, 41.0ms\n",
      "Speed: 2.0ms preprocess, 41.0ms inference, 0.0ms postprocess per image at shape (1, 3, 640, 384)\n",
      "\n",
      "0: 640x384 1 person, 42.0ms\n",
      "Speed: 2.0ms preprocess, 42.0ms inference, 1.0ms postprocess per image at shape (1, 3, 640, 384)\n",
      "\n",
      "0: 640x384 1 person, 43.5ms\n",
      "Speed: 1.0ms preprocess, 43.5ms inference, 0.0ms postprocess per image at shape (1, 3, 640, 384)\n",
      "\n",
      "0: 640x384 1 person, 41.5ms\n",
      "Speed: 1.0ms preprocess, 41.5ms inference, 1.0ms postprocess per image at shape (1, 3, 640, 384)\n",
      "\n",
      "0: 640x384 1 person, 43.5ms\n",
      "Speed: 1.0ms preprocess, 43.5ms inference, 0.0ms postprocess per image at shape (1, 3, 640, 384)\n",
      "\n",
      "0: 640x384 1 person, 43.0ms\n",
      "Speed: 2.0ms preprocess, 43.0ms inference, 1.0ms postprocess per image at shape (1, 3, 640, 384)\n",
      "\n",
      "0: 640x384 1 person, 43.0ms\n",
      "Speed: 2.0ms preprocess, 43.0ms inference, 0.0ms postprocess per image at shape (1, 3, 640, 384)\n",
      "\n",
      "0: 640x384 1 person, 45.0ms\n",
      "Speed: 2.0ms preprocess, 45.0ms inference, 0.0ms postprocess per image at shape (1, 3, 640, 384)\n",
      "\n",
      "0: 640x384 1 person, 42.0ms\n",
      "Speed: 2.0ms preprocess, 42.0ms inference, 0.0ms postprocess per image at shape (1, 3, 640, 384)\n",
      "\n",
      "0: 640x384 1 person, 42.0ms\n",
      "Speed: 1.0ms preprocess, 42.0ms inference, 0.0ms postprocess per image at shape (1, 3, 640, 384)\n",
      "\n",
      "0: 640x384 1 person, 48.5ms\n",
      "Speed: 1.0ms preprocess, 48.5ms inference, 1.0ms postprocess per image at shape (1, 3, 640, 384)\n",
      "\n",
      "0: 640x384 1 person, 43.5ms\n",
      "Speed: 1.0ms preprocess, 43.5ms inference, 0.0ms postprocess per image at shape (1, 3, 640, 384)\n",
      "\n",
      "0: 640x384 1 person, 42.5ms\n",
      "Speed: 2.0ms preprocess, 42.5ms inference, 1.0ms postprocess per image at shape (1, 3, 640, 384)\n",
      "\n",
      "0: 640x384 1 person, 45.5ms\n",
      "Speed: 1.0ms preprocess, 45.5ms inference, 1.0ms postprocess per image at shape (1, 3, 640, 384)\n",
      "\n",
      "0: 640x384 1 person, 43.9ms\n",
      "Speed: 1.0ms preprocess, 43.9ms inference, 0.0ms postprocess per image at shape (1, 3, 640, 384)\n",
      "\n",
      "0: 640x384 1 person, 44.0ms\n",
      "Speed: 1.0ms preprocess, 44.0ms inference, 0.0ms postprocess per image at shape (1, 3, 640, 384)\n",
      "\n",
      "0: 640x384 1 person, 43.0ms\n",
      "Speed: 1.0ms preprocess, 43.0ms inference, 1.0ms postprocess per image at shape (1, 3, 640, 384)\n",
      "\n",
      "0: 640x384 1 person, 43.0ms\n",
      "Speed: 1.0ms preprocess, 43.0ms inference, 1.0ms postprocess per image at shape (1, 3, 640, 384)\n",
      "\n",
      "0: 640x384 1 person, 43.0ms\n",
      "Speed: 1.0ms preprocess, 43.0ms inference, 0.0ms postprocess per image at shape (1, 3, 640, 384)\n",
      "\n",
      "0: 640x384 1 person, 42.0ms\n",
      "Speed: 2.0ms preprocess, 42.0ms inference, 0.0ms postprocess per image at shape (1, 3, 640, 384)\n",
      "\n",
      "0: 640x384 1 person, 46.0ms\n",
      "Speed: 1.0ms preprocess, 46.0ms inference, 0.0ms postprocess per image at shape (1, 3, 640, 384)\n",
      "\n",
      "0: 640x384 1 person, 51.0ms\n",
      "Speed: 2.0ms preprocess, 51.0ms inference, 0.0ms postprocess per image at shape (1, 3, 640, 384)\n",
      "\n",
      "0: 640x384 1 person, 43.0ms\n",
      "Speed: 2.0ms preprocess, 43.0ms inference, 1.0ms postprocess per image at shape (1, 3, 640, 384)\n",
      "\n",
      "0: 640x384 1 person, 43.5ms\n",
      "Speed: 2.0ms preprocess, 43.5ms inference, 0.0ms postprocess per image at shape (1, 3, 640, 384)\n",
      "\n",
      "0: 640x384 1 person, 45.5ms\n",
      "Speed: 2.0ms preprocess, 45.5ms inference, 0.0ms postprocess per image at shape (1, 3, 640, 384)\n",
      "\n",
      "0: 640x384 1 person, 41.5ms\n",
      "Speed: 1.0ms preprocess, 41.5ms inference, 1.0ms postprocess per image at shape (1, 3, 640, 384)\n",
      "\n",
      "0: 640x384 1 person, 42.5ms\n",
      "Speed: 2.0ms preprocess, 42.5ms inference, 0.0ms postprocess per image at shape (1, 3, 640, 384)\n",
      "\n",
      "0: 640x384 1 person, 42.0ms\n",
      "Speed: 1.0ms preprocess, 42.0ms inference, 1.0ms postprocess per image at shape (1, 3, 640, 384)\n",
      "\n",
      "0: 640x384 1 person, 42.0ms\n",
      "Speed: 1.0ms preprocess, 42.0ms inference, 0.0ms postprocess per image at shape (1, 3, 640, 384)\n",
      "\n",
      "0: 640x384 1 person, 44.9ms\n",
      "Speed: 2.0ms preprocess, 44.9ms inference, 1.0ms postprocess per image at shape (1, 3, 640, 384)\n",
      "\n",
      "0: 640x384 1 person, 43.0ms\n",
      "Speed: 2.0ms preprocess, 43.0ms inference, 0.0ms postprocess per image at shape (1, 3, 640, 384)\n",
      "\n",
      "0: 640x384 1 person, 42.0ms\n",
      "Speed: 2.0ms preprocess, 42.0ms inference, 1.0ms postprocess per image at shape (1, 3, 640, 384)\n",
      "\n",
      "0: 640x384 1 person, 49.5ms\n",
      "Speed: 2.0ms preprocess, 49.5ms inference, 1.0ms postprocess per image at shape (1, 3, 640, 384)\n",
      "\n",
      "0: 640x384 1 person, 42.5ms\n",
      "Speed: 1.0ms preprocess, 42.5ms inference, 0.0ms postprocess per image at shape (1, 3, 640, 384)\n",
      "\n",
      "0: 640x384 1 person, 41.4ms\n",
      "Speed: 1.0ms preprocess, 41.4ms inference, 1.0ms postprocess per image at shape (1, 3, 640, 384)\n",
      "\n",
      "0: 640x384 1 person, 41.5ms\n",
      "Speed: 1.0ms preprocess, 41.5ms inference, 1.0ms postprocess per image at shape (1, 3, 640, 384)\n",
      "\n",
      "0: 640x384 1 person, 40.5ms\n",
      "Speed: 2.0ms preprocess, 40.5ms inference, 1.0ms postprocess per image at shape (1, 3, 640, 384)\n",
      "\n",
      "0: 640x384 1 person, 47.5ms\n",
      "Speed: 1.0ms preprocess, 47.5ms inference, 0.0ms postprocess per image at shape (1, 3, 640, 384)\n",
      "\n",
      "0: 640x384 1 person, 45.0ms\n",
      "Speed: 1.0ms preprocess, 45.0ms inference, 0.0ms postprocess per image at shape (1, 3, 640, 384)\n",
      "\n",
      "0: 640x384 1 person, 43.0ms\n",
      "Speed: 1.0ms preprocess, 43.0ms inference, 0.0ms postprocess per image at shape (1, 3, 640, 384)\n",
      "\n",
      "0: 640x384 1 person, 43.0ms\n",
      "Speed: 1.0ms preprocess, 43.0ms inference, 0.0ms postprocess per image at shape (1, 3, 640, 384)\n",
      "\n",
      "0: 640x384 1 person, 42.0ms\n",
      "Speed: 1.0ms preprocess, 42.0ms inference, 1.0ms postprocess per image at shape (1, 3, 640, 384)\n",
      "\n",
      "0: 640x384 1 person, 45.5ms\n",
      "Speed: 1.0ms preprocess, 45.5ms inference, 0.0ms postprocess per image at shape (1, 3, 640, 384)\n",
      "\n",
      "0: 640x384 1 person, 46.5ms\n",
      "Speed: 1.0ms preprocess, 46.5ms inference, 1.0ms postprocess per image at shape (1, 3, 640, 384)\n",
      "\n",
      "0: 640x384 1 person, 43.4ms\n",
      "Speed: 2.0ms preprocess, 43.4ms inference, 0.0ms postprocess per image at shape (1, 3, 640, 384)\n",
      "\n",
      "0: 640x384 1 person, 46.5ms\n",
      "Speed: 2.0ms preprocess, 46.5ms inference, 1.0ms postprocess per image at shape (1, 3, 640, 384)\n",
      "\n",
      "0: 640x384 1 person, 44.5ms\n",
      "Speed: 2.0ms preprocess, 44.5ms inference, 0.0ms postprocess per image at shape (1, 3, 640, 384)\n",
      "\n",
      "0: 640x384 1 person, 42.5ms\n",
      "Speed: 1.0ms preprocess, 42.5ms inference, 1.0ms postprocess per image at shape (1, 3, 640, 384)\n",
      "\n",
      "0: 640x384 1 person, 43.8ms\n",
      "Speed: 1.0ms preprocess, 43.8ms inference, 1.0ms postprocess per image at shape (1, 3, 640, 384)\n",
      "\n",
      "0: 640x384 1 person, 44.0ms\n",
      "Speed: 1.0ms preprocess, 44.0ms inference, 0.0ms postprocess per image at shape (1, 3, 640, 384)\n",
      "\n",
      "0: 640x384 1 person, 44.0ms\n",
      "Speed: 2.0ms preprocess, 44.0ms inference, 1.0ms postprocess per image at shape (1, 3, 640, 384)\n",
      "\n",
      "0: 640x384 1 person, 42.0ms\n",
      "Speed: 1.0ms preprocess, 42.0ms inference, 1.0ms postprocess per image at shape (1, 3, 640, 384)\n",
      "\n",
      "0: 640x384 1 person, 47.0ms\n",
      "Speed: 1.0ms preprocess, 47.0ms inference, 1.0ms postprocess per image at shape (1, 3, 640, 384)\n",
      "\n",
      "0: 640x384 1 person, 46.0ms\n",
      "Speed: 2.0ms preprocess, 46.0ms inference, 0.0ms postprocess per image at shape (1, 3, 640, 384)\n",
      "\n",
      "0: 640x384 1 person, 47.5ms\n",
      "Speed: 1.5ms preprocess, 47.5ms inference, 0.0ms postprocess per image at shape (1, 3, 640, 384)\n",
      "\n",
      "0: 640x384 1 person, 45.0ms\n",
      "Speed: 1.0ms preprocess, 45.0ms inference, 1.0ms postprocess per image at shape (1, 3, 640, 384)\n",
      "\n",
      "0: 640x384 1 person, 42.5ms\n",
      "Speed: 1.0ms preprocess, 42.5ms inference, 0.0ms postprocess per image at shape (1, 3, 640, 384)\n",
      "\n",
      "0: 640x384 1 person, 43.5ms\n",
      "Speed: 2.0ms preprocess, 43.5ms inference, 0.0ms postprocess per image at shape (1, 3, 640, 384)\n",
      "\n",
      "0: 640x384 1 person, 41.5ms\n",
      "Speed: 2.0ms preprocess, 41.5ms inference, 0.0ms postprocess per image at shape (1, 3, 640, 384)\n",
      "\n",
      "0: 640x384 1 person, 41.5ms\n",
      "Speed: 1.5ms preprocess, 41.5ms inference, 0.0ms postprocess per image at shape (1, 3, 640, 384)\n",
      "\n",
      "0: 640x384 1 person, 45.0ms\n",
      "Speed: 1.0ms preprocess, 45.0ms inference, 0.0ms postprocess per image at shape (1, 3, 640, 384)\n",
      "\n",
      "0: 640x384 1 person, 44.0ms\n",
      "Speed: 1.0ms preprocess, 44.0ms inference, 0.0ms postprocess per image at shape (1, 3, 640, 384)\n",
      "\n",
      "0: 640x384 1 person, 42.0ms\n",
      "Speed: 1.0ms preprocess, 42.0ms inference, 1.0ms postprocess per image at shape (1, 3, 640, 384)\n",
      "\n",
      "0: 640x384 1 person, 45.0ms\n",
      "Speed: 1.0ms preprocess, 45.0ms inference, 0.0ms postprocess per image at shape (1, 3, 640, 384)\n",
      "\n",
      "0: 640x384 1 person, 44.0ms\n",
      "Speed: 1.0ms preprocess, 44.0ms inference, 0.0ms postprocess per image at shape (1, 3, 640, 384)\n",
      "\n",
      "0: 640x384 1 person, 48.0ms\n",
      "Speed: 2.5ms preprocess, 48.0ms inference, 1.0ms postprocess per image at shape (1, 3, 640, 384)\n",
      "\n",
      "0: 640x384 1 person, 45.5ms\n",
      "Speed: 1.0ms preprocess, 45.5ms inference, 0.0ms postprocess per image at shape (1, 3, 640, 384)\n",
      "\n",
      "0: 640x384 1 person, 42.5ms\n",
      "Speed: 2.0ms preprocess, 42.5ms inference, 0.0ms postprocess per image at shape (1, 3, 640, 384)\n",
      "\n",
      "0: 640x384 1 person, 44.2ms\n",
      "Speed: 2.0ms preprocess, 44.2ms inference, 0.0ms postprocess per image at shape (1, 3, 640, 384)\n",
      "\n",
      "0: 640x384 1 person, 42.5ms\n",
      "Speed: 2.0ms preprocess, 42.5ms inference, 0.0ms postprocess per image at shape (1, 3, 640, 384)\n",
      "\n",
      "0: 640x384 1 person, 42.0ms\n",
      "Speed: 1.0ms preprocess, 42.0ms inference, 1.0ms postprocess per image at shape (1, 3, 640, 384)\n",
      "\n",
      "0: 640x384 1 person, 43.0ms\n",
      "Speed: 2.0ms preprocess, 43.0ms inference, 0.0ms postprocess per image at shape (1, 3, 640, 384)\n",
      "\n",
      "0: 640x384 1 person, 42.0ms\n",
      "Speed: 2.0ms preprocess, 42.0ms inference, 1.0ms postprocess per image at shape (1, 3, 640, 384)\n",
      "\n",
      "0: 640x384 1 person, 43.0ms\n",
      "Speed: 1.0ms preprocess, 43.0ms inference, 0.0ms postprocess per image at shape (1, 3, 640, 384)\n",
      "\n",
      "0: 640x384 1 person, 41.9ms\n",
      "Speed: 1.0ms preprocess, 41.9ms inference, 0.0ms postprocess per image at shape (1, 3, 640, 384)\n",
      "\n",
      "0: 640x384 1 person, 42.5ms\n",
      "Speed: 1.0ms preprocess, 42.5ms inference, 1.0ms postprocess per image at shape (1, 3, 640, 384)\n",
      "\n",
      "0: 640x384 1 person, 43.5ms\n",
      "Speed: 2.0ms preprocess, 43.5ms inference, 1.0ms postprocess per image at shape (1, 3, 640, 384)\n",
      "\n",
      "0: 640x384 1 person, 43.5ms\n",
      "Speed: 1.0ms preprocess, 43.5ms inference, 1.0ms postprocess per image at shape (1, 3, 640, 384)\n",
      "\n",
      "0: 640x384 1 person, 43.0ms\n",
      "Speed: 1.0ms preprocess, 43.0ms inference, 1.0ms postprocess per image at shape (1, 3, 640, 384)\n",
      "\n",
      "0: 640x384 1 person, 44.0ms\n",
      "Speed: 1.0ms preprocess, 44.0ms inference, 1.0ms postprocess per image at shape (1, 3, 640, 384)\n",
      "\n",
      "0: 640x384 1 person, 43.0ms\n",
      "Speed: 1.0ms preprocess, 43.0ms inference, 1.0ms postprocess per image at shape (1, 3, 640, 384)\n",
      "\n",
      "0: 640x384 1 person, 48.0ms\n",
      "Speed: 2.0ms preprocess, 48.0ms inference, 1.0ms postprocess per image at shape (1, 3, 640, 384)\n",
      "\n",
      "0: 640x384 1 person, 44.5ms\n",
      "Speed: 2.0ms preprocess, 44.5ms inference, 0.0ms postprocess per image at shape (1, 3, 640, 384)\n",
      "\n",
      "0: 640x384 1 person, 41.5ms\n",
      "Speed: 2.0ms preprocess, 41.5ms inference, 0.0ms postprocess per image at shape (1, 3, 640, 384)\n",
      "\n",
      "0: 640x384 1 person, 44.5ms\n",
      "Speed: 1.0ms preprocess, 44.5ms inference, 0.0ms postprocess per image at shape (1, 3, 640, 384)\n",
      "\n",
      "0: 640x384 1 person, 42.5ms\n",
      "Speed: 1.0ms preprocess, 42.5ms inference, 0.0ms postprocess per image at shape (1, 3, 640, 384)\n",
      "\n",
      "0: 640x384 1 person, 42.5ms\n",
      "Speed: 1.0ms preprocess, 42.5ms inference, 0.0ms postprocess per image at shape (1, 3, 640, 384)\n",
      "\n",
      "0: 640x384 1 person, 43.0ms\n",
      "Speed: 1.0ms preprocess, 43.0ms inference, 0.0ms postprocess per image at shape (1, 3, 640, 384)\n",
      "\n",
      "0: 640x384 1 person, 43.0ms\n",
      "Speed: 2.0ms preprocess, 43.0ms inference, 1.0ms postprocess per image at shape (1, 3, 640, 384)\n",
      "\n",
      "0: 640x384 1 person, 44.3ms\n",
      "Speed: 1.0ms preprocess, 44.3ms inference, 0.0ms postprocess per image at shape (1, 3, 640, 384)\n",
      "\n",
      "0: 640x384 1 person, 43.0ms\n",
      "Speed: 2.0ms preprocess, 43.0ms inference, 0.0ms postprocess per image at shape (1, 3, 640, 384)\n",
      "\n",
      "0: 640x384 1 person, 43.0ms\n",
      "Speed: 1.0ms preprocess, 43.0ms inference, 0.0ms postprocess per image at shape (1, 3, 640, 384)\n",
      "\n",
      "0: 640x384 1 person, 45.0ms\n",
      "Speed: 2.0ms preprocess, 45.0ms inference, 0.0ms postprocess per image at shape (1, 3, 640, 384)\n",
      "\n",
      "0: 640x384 1 person, 41.5ms\n",
      "Speed: 2.0ms preprocess, 41.5ms inference, 0.0ms postprocess per image at shape (1, 3, 640, 384)\n",
      "\n",
      "0: 640x384 1 person, 42.5ms\n",
      "Speed: 2.0ms preprocess, 42.5ms inference, 1.0ms postprocess per image at shape (1, 3, 640, 384)\n",
      "\n",
      "0: 640x384 1 person, 44.5ms\n",
      "Speed: 2.0ms preprocess, 44.5ms inference, 0.0ms postprocess per image at shape (1, 3, 640, 384)\n",
      "\n",
      "0: 640x384 1 person, 44.5ms\n",
      "Speed: 2.0ms preprocess, 44.5ms inference, 0.0ms postprocess per image at shape (1, 3, 640, 384)\n",
      "\n",
      "0: 640x384 1 person, 42.5ms\n",
      "Speed: 1.0ms preprocess, 42.5ms inference, 1.0ms postprocess per image at shape (1, 3, 640, 384)\n",
      "\n",
      "0: 640x384 1 person, 46.5ms\n",
      "Speed: 2.0ms preprocess, 46.5ms inference, 0.0ms postprocess per image at shape (1, 3, 640, 384)\n",
      "\n",
      "0: 640x384 1 person, 42.0ms\n",
      "Speed: 1.0ms preprocess, 42.0ms inference, 1.0ms postprocess per image at shape (1, 3, 640, 384)\n",
      "\n",
      "0: 640x384 1 person, 43.0ms\n",
      "Speed: 1.0ms preprocess, 43.0ms inference, 1.0ms postprocess per image at shape (1, 3, 640, 384)\n",
      "\n",
      "0: 640x384 1 person, 42.9ms\n",
      "Speed: 1.0ms preprocess, 42.9ms inference, 1.0ms postprocess per image at shape (1, 3, 640, 384)\n",
      "\n",
      "0: 640x384 1 person, 42.0ms\n",
      "Speed: 2.0ms preprocess, 42.0ms inference, 0.0ms postprocess per image at shape (1, 3, 640, 384)\n",
      "\n",
      "0: 640x384 1 person, 43.0ms\n",
      "Speed: 2.0ms preprocess, 43.0ms inference, 1.0ms postprocess per image at shape (1, 3, 640, 384)\n",
      "\n",
      "0: 640x384 1 person, 44.4ms\n",
      "Speed: 0.5ms preprocess, 44.4ms inference, 0.0ms postprocess per image at shape (1, 3, 640, 384)\n",
      "\n",
      "0: 640x384 1 person, 41.5ms\n",
      "Speed: 1.0ms preprocess, 41.5ms inference, 1.0ms postprocess per image at shape (1, 3, 640, 384)\n",
      "\n",
      "0: 640x384 1 person, 42.5ms\n",
      "Speed: 1.0ms preprocess, 42.5ms inference, 1.0ms postprocess per image at shape (1, 3, 640, 384)\n",
      "\n",
      "0: 640x384 1 person, 43.5ms\n",
      "Speed: 1.0ms preprocess, 43.5ms inference, 1.0ms postprocess per image at shape (1, 3, 640, 384)\n",
      "\n",
      "0: 640x384 1 person, 45.5ms\n",
      "Speed: 2.0ms preprocess, 45.5ms inference, 1.0ms postprocess per image at shape (1, 3, 640, 384)\n",
      "\n",
      "0: 640x384 1 person, 43.0ms\n",
      "Speed: 2.0ms preprocess, 43.0ms inference, 1.0ms postprocess per image at shape (1, 3, 640, 384)\n",
      "\n",
      "0: 640x384 1 person, 41.0ms\n",
      "Speed: 1.0ms preprocess, 41.0ms inference, 1.0ms postprocess per image at shape (1, 3, 640, 384)\n",
      "\n",
      "0: 640x384 1 person, 43.0ms\n",
      "Speed: 2.0ms preprocess, 43.0ms inference, 0.0ms postprocess per image at shape (1, 3, 640, 384)\n",
      "\n",
      "0: 640x384 1 person, 43.0ms\n",
      "Speed: 1.0ms preprocess, 43.0ms inference, 0.0ms postprocess per image at shape (1, 3, 640, 384)\n",
      "\n",
      "0: 640x384 1 person, 43.0ms\n",
      "Speed: 2.0ms preprocess, 43.0ms inference, 1.0ms postprocess per image at shape (1, 3, 640, 384)\n",
      "\n",
      "0: 640x384 1 person, 44.5ms\n",
      "Speed: 2.0ms preprocess, 44.5ms inference, 0.0ms postprocess per image at shape (1, 3, 640, 384)\n",
      "\n",
      "0: 640x384 1 person, 44.5ms\n",
      "Speed: 2.0ms preprocess, 44.5ms inference, 0.0ms postprocess per image at shape (1, 3, 640, 384)\n",
      "\n",
      "0: 640x384 1 person, 42.5ms\n",
      "Speed: 1.0ms preprocess, 42.5ms inference, 0.0ms postprocess per image at shape (1, 3, 640, 384)\n",
      "\n",
      "0: 640x384 1 person, 47.0ms\n",
      "Speed: 2.0ms preprocess, 47.0ms inference, 0.5ms postprocess per image at shape (1, 3, 640, 384)\n",
      "\n",
      "0: 640x384 1 person, 45.0ms\n",
      "Speed: 2.0ms preprocess, 45.0ms inference, 1.0ms postprocess per image at shape (1, 3, 640, 384)\n",
      "\n",
      "0: 640x384 1 person, 44.0ms\n",
      "Speed: 1.0ms preprocess, 44.0ms inference, 0.0ms postprocess per image at shape (1, 3, 640, 384)\n",
      "\n",
      "0: 640x384 1 person, 44.0ms\n",
      "Speed: 2.0ms preprocess, 44.0ms inference, 0.0ms postprocess per image at shape (1, 3, 640, 384)\n",
      "\n",
      "0: 640x384 1 person, 42.0ms\n",
      "Speed: 1.0ms preprocess, 42.0ms inference, 1.0ms postprocess per image at shape (1, 3, 640, 384)\n",
      "\n",
      "0: 640x384 1 person, 43.0ms\n",
      "Speed: 1.0ms preprocess, 43.0ms inference, 0.0ms postprocess per image at shape (1, 3, 640, 384)\n",
      "\n",
      "0: 640x384 1 person, 43.0ms\n",
      "Speed: 1.0ms preprocess, 43.0ms inference, 1.0ms postprocess per image at shape (1, 3, 640, 384)\n",
      "\n",
      "0: 640x384 1 person, 41.5ms\n",
      "Speed: 1.0ms preprocess, 41.5ms inference, 0.0ms postprocess per image at shape (1, 3, 640, 384)\n",
      "\n",
      "0: 640x384 1 person, 44.5ms\n",
      "Speed: 1.0ms preprocess, 44.5ms inference, 0.0ms postprocess per image at shape (1, 3, 640, 384)\n",
      "\n",
      "0: 640x384 1 person, 43.5ms\n",
      "Speed: 1.0ms preprocess, 43.5ms inference, 0.0ms postprocess per image at shape (1, 3, 640, 384)\n",
      "\n",
      "0: 640x384 1 person, 45.5ms\n",
      "Speed: 2.0ms preprocess, 45.5ms inference, 1.0ms postprocess per image at shape (1, 3, 640, 384)\n",
      "\n",
      "0: 640x384 1 person, 44.5ms\n",
      "Speed: 1.0ms preprocess, 44.5ms inference, 1.0ms postprocess per image at shape (1, 3, 640, 384)\n",
      "\n",
      "0: 640x384 1 person, 43.5ms\n",
      "Speed: 1.0ms preprocess, 43.5ms inference, 0.0ms postprocess per image at shape (1, 3, 640, 384)\n",
      "\n",
      "0: 640x384 1 person, 43.5ms\n",
      "Speed: 2.0ms preprocess, 43.5ms inference, 0.0ms postprocess per image at shape (1, 3, 640, 384)\n",
      "\n",
      "0: 640x384 1 person, 42.0ms\n",
      "Speed: 2.0ms preprocess, 42.0ms inference, 0.0ms postprocess per image at shape (1, 3, 640, 384)\n",
      "\n",
      "0: 640x384 1 person, 43.0ms\n",
      "Speed: 1.0ms preprocess, 43.0ms inference, 1.0ms postprocess per image at shape (1, 3, 640, 384)\n",
      "\n",
      "0: 640x384 1 person, 43.0ms\n",
      "Speed: 1.0ms preprocess, 43.0ms inference, 0.0ms postprocess per image at shape (1, 3, 640, 384)\n",
      "\n",
      "0: 640x384 1 person, 43.0ms\n",
      "Speed: 1.0ms preprocess, 43.0ms inference, 0.0ms postprocess per image at shape (1, 3, 640, 384)\n",
      "\n",
      "0: 640x384 1 person, 43.5ms\n",
      "Speed: 1.0ms preprocess, 43.5ms inference, 0.0ms postprocess per image at shape (1, 3, 640, 384)\n",
      "\n",
      "0: 640x384 1 person, 44.5ms\n",
      "Speed: 2.0ms preprocess, 44.5ms inference, 0.0ms postprocess per image at shape (1, 3, 640, 384)\n",
      "\n",
      "0: 640x384 1 person, 42.5ms\n",
      "Speed: 1.0ms preprocess, 42.5ms inference, 1.0ms postprocess per image at shape (1, 3, 640, 384)\n",
      "\n",
      "0: 640x384 1 person, 42.0ms\n",
      "Speed: 1.0ms preprocess, 42.0ms inference, 0.0ms postprocess per image at shape (1, 3, 640, 384)\n",
      "\n",
      "0: 640x384 1 person, 42.2ms\n",
      "Speed: 2.0ms preprocess, 42.2ms inference, 1.0ms postprocess per image at shape (1, 3, 640, 384)\n",
      "\n",
      "0: 640x384 1 person, 44.0ms\n",
      "Speed: 1.0ms preprocess, 44.0ms inference, 0.0ms postprocess per image at shape (1, 3, 640, 384)\n",
      "\n",
      "0: 640x384 1 person, 42.0ms\n",
      "Speed: 2.0ms preprocess, 42.0ms inference, 0.0ms postprocess per image at shape (1, 3, 640, 384)\n",
      "\n",
      "0: 640x384 1 person, 43.5ms\n",
      "Speed: 1.0ms preprocess, 43.5ms inference, 0.0ms postprocess per image at shape (1, 3, 640, 384)\n",
      "\n",
      "0: 640x384 1 person, 43.5ms\n",
      "Speed: 1.0ms preprocess, 43.5ms inference, 1.0ms postprocess per image at shape (1, 3, 640, 384)\n",
      "\n",
      "0: 640x384 1 person, 42.5ms\n",
      "Speed: 2.0ms preprocess, 42.5ms inference, 0.0ms postprocess per image at shape (1, 3, 640, 384)\n",
      "\n",
      "0: 640x384 1 person, 45.0ms\n",
      "Speed: 1.0ms preprocess, 45.0ms inference, 1.5ms postprocess per image at shape (1, 3, 640, 384)\n",
      "\n",
      "0: 640x384 1 person, 43.0ms\n",
      "Speed: 1.0ms preprocess, 43.0ms inference, 0.0ms postprocess per image at shape (1, 3, 640, 384)\n",
      "\n",
      "0: 640x384 1 person, 45.0ms\n",
      "Speed: 1.0ms preprocess, 45.0ms inference, 1.0ms postprocess per image at shape (1, 3, 640, 384)\n",
      "\n",
      "0: 640x384 1 person, 46.4ms\n",
      "Speed: 2.0ms preprocess, 46.4ms inference, 0.0ms postprocess per image at shape (1, 3, 640, 384)\n",
      "\n",
      "0: 640x384 1 person, 42.0ms\n",
      "Speed: 2.0ms preprocess, 42.0ms inference, 1.0ms postprocess per image at shape (1, 3, 640, 384)\n",
      "\n",
      "0: 640x384 1 person, 46.0ms\n",
      "Speed: 1.0ms preprocess, 46.0ms inference, 1.0ms postprocess per image at shape (1, 3, 640, 384)\n",
      "\n",
      "0: 640x384 1 person, 44.0ms\n",
      "Speed: 1.0ms preprocess, 44.0ms inference, 1.0ms postprocess per image at shape (1, 3, 640, 384)\n",
      "\n",
      "0: 640x384 1 person, 44.0ms\n",
      "Speed: 1.0ms preprocess, 44.0ms inference, 0.0ms postprocess per image at shape (1, 3, 640, 384)\n",
      "\n",
      "0: 640x384 1 person, 43.5ms\n",
      "Speed: 1.0ms preprocess, 43.5ms inference, 0.0ms postprocess per image at shape (1, 3, 640, 384)\n",
      "\n",
      "0: 640x384 1 person, 45.5ms\n",
      "Speed: 1.0ms preprocess, 45.5ms inference, 0.0ms postprocess per image at shape (1, 3, 640, 384)\n",
      "\n",
      "0: 640x384 1 person, 43.5ms\n",
      "Speed: 2.0ms preprocess, 43.5ms inference, 0.0ms postprocess per image at shape (1, 3, 640, 384)\n",
      "\n",
      "0: 640x384 1 person, 41.5ms\n",
      "Speed: 2.0ms preprocess, 41.5ms inference, 1.0ms postprocess per image at shape (1, 3, 640, 384)\n",
      "\n",
      "0: 640x384 1 person, 42.0ms\n",
      "Speed: 2.0ms preprocess, 42.0ms inference, 1.0ms postprocess per image at shape (1, 3, 640, 384)\n",
      "\n",
      "0: 640x384 1 person, 42.0ms\n",
      "Speed: 2.0ms preprocess, 42.0ms inference, 0.0ms postprocess per image at shape (1, 3, 640, 384)\n",
      "\n",
      "0: 640x384 1 person, 43.0ms\n",
      "Speed: 2.0ms preprocess, 43.0ms inference, 1.0ms postprocess per image at shape (1, 3, 640, 384)\n",
      "\n",
      "0: 640x384 1 person, 43.0ms\n",
      "Speed: 2.0ms preprocess, 43.0ms inference, 1.0ms postprocess per image at shape (1, 3, 640, 384)\n",
      "\n",
      "0: 640x384 1 person, 45.0ms\n",
      "Speed: 1.0ms preprocess, 45.0ms inference, 1.0ms postprocess per image at shape (1, 3, 640, 384)\n",
      "\n",
      "0: 640x384 1 person, 47.5ms\n",
      "Speed: 1.0ms preprocess, 47.5ms inference, 1.0ms postprocess per image at shape (1, 3, 640, 384)\n",
      "\n",
      "0: 640x384 1 person, 46.5ms\n",
      "Speed: 1.0ms preprocess, 46.5ms inference, 1.0ms postprocess per image at shape (1, 3, 640, 384)\n",
      "\n",
      "0: 640x384 1 person, 43.5ms\n",
      "Speed: 1.0ms preprocess, 43.5ms inference, 0.0ms postprocess per image at shape (1, 3, 640, 384)\n",
      "\n",
      "0: 640x384 1 person, 44.8ms\n",
      "Speed: 2.0ms preprocess, 44.8ms inference, 0.0ms postprocess per image at shape (1, 3, 640, 384)\n",
      "\n",
      "0: 640x384 1 person, 43.0ms\n",
      "Speed: 1.0ms preprocess, 43.0ms inference, 1.0ms postprocess per image at shape (1, 3, 640, 384)\n",
      "\n",
      "0: 640x384 1 person, 43.0ms\n",
      "Speed: 1.0ms preprocess, 43.0ms inference, 0.0ms postprocess per image at shape (1, 3, 640, 384)\n",
      "\n",
      "0: 640x384 1 person, 44.0ms\n",
      "Speed: 2.0ms preprocess, 44.0ms inference, 1.0ms postprocess per image at shape (1, 3, 640, 384)\n",
      "\n",
      "0: 640x384 1 person, 43.0ms\n",
      "Speed: 1.0ms preprocess, 43.0ms inference, 1.0ms postprocess per image at shape (1, 3, 640, 384)\n",
      "\n",
      "0: 640x384 1 person, 43.0ms\n",
      "Speed: 2.0ms preprocess, 43.0ms inference, 1.0ms postprocess per image at shape (1, 3, 640, 384)\n",
      "\n",
      "0: 640x384 1 person, 43.0ms\n",
      "Speed: 2.0ms preprocess, 43.0ms inference, 0.0ms postprocess per image at shape (1, 3, 640, 384)\n",
      "\n",
      "0: 640x384 1 person, 45.5ms\n",
      "Speed: 1.0ms preprocess, 45.5ms inference, 1.0ms postprocess per image at shape (1, 3, 640, 384)\n",
      "\n",
      "0: 640x384 1 person, 45.5ms\n",
      "Speed: 2.0ms preprocess, 45.5ms inference, 0.0ms postprocess per image at shape (1, 3, 640, 384)\n",
      "\n",
      "0: 640x384 1 person, 42.5ms\n",
      "Speed: 1.0ms preprocess, 42.5ms inference, 1.0ms postprocess per image at shape (1, 3, 640, 384)\n",
      "\n",
      "0: 640x384 1 person, 43.5ms\n",
      "Speed: 2.0ms preprocess, 43.5ms inference, 0.0ms postprocess per image at shape (1, 3, 640, 384)\n",
      "\n",
      "0: 640x384 1 person, 47.5ms\n",
      "Speed: 2.0ms preprocess, 47.5ms inference, 1.0ms postprocess per image at shape (1, 3, 640, 384)\n",
      "\n",
      "0: 640x384 1 person, 42.5ms\n",
      "Speed: 2.0ms preprocess, 42.5ms inference, 1.0ms postprocess per image at shape (1, 3, 640, 384)\n",
      "\n",
      "0: 640x384 1 person, 42.5ms\n",
      "Speed: 1.0ms preprocess, 42.5ms inference, 1.0ms postprocess per image at shape (1, 3, 640, 384)\n",
      "\n",
      "0: 640x384 1 person, 43.0ms\n",
      "Speed: 1.0ms preprocess, 43.0ms inference, 0.0ms postprocess per image at shape (1, 3, 640, 384)\n",
      "\n",
      "0: 640x384 1 person, 44.8ms\n",
      "Speed: 1.0ms preprocess, 44.8ms inference, 1.0ms postprocess per image at shape (1, 3, 640, 384)\n",
      "\n",
      "0: 640x384 1 person, 44.0ms\n",
      "Speed: 2.0ms preprocess, 44.0ms inference, 1.0ms postprocess per image at shape (1, 3, 640, 384)\n",
      "\n",
      "0: 640x384 1 person, 43.0ms\n",
      "Speed: 1.0ms preprocess, 43.0ms inference, 1.0ms postprocess per image at shape (1, 3, 640, 384)\n",
      "\n",
      "0: 640x384 1 person, 44.0ms\n",
      "Speed: 2.0ms preprocess, 44.0ms inference, 0.0ms postprocess per image at shape (1, 3, 640, 384)\n",
      "\n",
      "0: 640x384 1 person, 41.5ms\n",
      "Speed: 2.0ms preprocess, 41.5ms inference, 1.0ms postprocess per image at shape (1, 3, 640, 384)\n",
      "\n",
      "0: 640x384 1 person, 43.5ms\n",
      "Speed: 2.0ms preprocess, 43.5ms inference, 0.0ms postprocess per image at shape (1, 3, 640, 384)\n",
      "\n",
      "0: 640x384 1 person, 47.6ms\n",
      "Speed: 2.0ms preprocess, 47.6ms inference, 0.0ms postprocess per image at shape (1, 3, 640, 384)\n",
      "\n",
      "0: 640x384 1 person, 43.0ms\n",
      "Speed: 1.0ms preprocess, 43.0ms inference, 1.0ms postprocess per image at shape (1, 3, 640, 384)\n",
      "\n",
      "0: 640x384 1 person, 43.0ms\n",
      "Speed: 1.0ms preprocess, 43.0ms inference, 1.0ms postprocess per image at shape (1, 3, 640, 384)\n",
      "\n",
      "0: 640x384 1 person, 45.0ms\n",
      "Speed: 1.0ms preprocess, 45.0ms inference, 0.0ms postprocess per image at shape (1, 3, 640, 384)\n",
      "\n",
      "0: 640x384 1 person, 42.0ms\n",
      "Speed: 2.0ms preprocess, 42.0ms inference, 1.0ms postprocess per image at shape (1, 3, 640, 384)\n",
      "\n",
      "0: 640x384 1 person, 40.5ms\n",
      "Speed: 2.0ms preprocess, 40.5ms inference, 0.0ms postprocess per image at shape (1, 3, 640, 384)\n",
      "\n",
      "0: 640x384 1 person, 44.5ms\n",
      "Speed: 1.0ms preprocess, 44.5ms inference, 1.0ms postprocess per image at shape (1, 3, 640, 384)\n",
      "\n",
      "0: 640x384 1 person, 46.5ms\n",
      "Speed: 1.0ms preprocess, 46.5ms inference, 1.0ms postprocess per image at shape (1, 3, 640, 384)\n",
      "\n",
      "0: 640x384 1 person, 42.5ms\n",
      "Speed: 1.0ms preprocess, 42.5ms inference, 0.0ms postprocess per image at shape (1, 3, 640, 384)\n",
      "\n",
      "0: 640x384 1 person, 44.8ms\n",
      "Speed: 2.0ms preprocess, 44.8ms inference, 0.5ms postprocess per image at shape (1, 3, 640, 384)\n",
      "\n",
      "0: 640x384 1 person, 43.0ms\n",
      "Speed: 2.0ms preprocess, 43.0ms inference, 0.5ms postprocess per image at shape (1, 3, 640, 384)\n",
      "\n",
      "0: 640x384 1 person, 42.0ms\n",
      "Speed: 1.0ms preprocess, 42.0ms inference, 1.0ms postprocess per image at shape (1, 3, 640, 384)\n",
      "\n",
      "0: 640x384 1 person, 45.0ms\n",
      "Speed: 1.0ms preprocess, 45.0ms inference, 0.0ms postprocess per image at shape (1, 3, 640, 384)\n",
      "\n",
      "0: 640x384 1 person, 47.0ms\n",
      "Speed: 1.0ms preprocess, 47.0ms inference, 1.0ms postprocess per image at shape (1, 3, 640, 384)\n",
      "\n",
      "0: 640x384 1 person, 43.0ms\n",
      "Speed: 2.0ms preprocess, 43.0ms inference, 0.0ms postprocess per image at shape (1, 3, 640, 384)\n",
      "\n",
      "0: 640x384 1 person, 45.5ms\n",
      "Speed: 2.0ms preprocess, 45.5ms inference, 0.0ms postprocess per image at shape (1, 3, 640, 384)\n",
      "\n",
      "0: 640x384 1 person, 42.5ms\n",
      "Speed: 2.0ms preprocess, 42.5ms inference, 0.0ms postprocess per image at shape (1, 3, 640, 384)\n",
      "\n",
      "0: 640x384 1 person, 42.5ms\n",
      "Speed: 2.0ms preprocess, 42.5ms inference, 1.0ms postprocess per image at shape (1, 3, 640, 384)\n",
      "\n",
      "0: 640x384 1 person, 45.0ms\n",
      "Speed: 1.0ms preprocess, 45.0ms inference, 1.0ms postprocess per image at shape (1, 3, 640, 384)\n",
      "\n",
      "0: 640x384 1 person, 42.0ms\n",
      "Speed: 2.0ms preprocess, 42.0ms inference, 0.0ms postprocess per image at shape (1, 3, 640, 384)\n",
      "\n",
      "0: 640x384 1 person, 42.7ms\n",
      "Speed: 1.0ms preprocess, 42.7ms inference, 0.5ms postprocess per image at shape (1, 3, 640, 384)\n",
      "\n",
      "0: 640x384 1 person, 44.0ms\n",
      "Speed: 1.0ms preprocess, 44.0ms inference, 1.0ms postprocess per image at shape (1, 3, 640, 384)\n",
      "\n",
      "0: 640x384 1 person, 44.5ms\n",
      "Speed: 1.0ms preprocess, 44.5ms inference, 1.0ms postprocess per image at shape (1, 3, 640, 384)\n",
      "\n",
      "0: 640x384 1 person, 44.5ms\n",
      "Speed: 1.0ms preprocess, 44.5ms inference, 0.0ms postprocess per image at shape (1, 3, 640, 384)\n",
      "\n",
      "0: 640x384 1 person, 42.5ms\n",
      "Speed: 1.0ms preprocess, 42.5ms inference, 1.0ms postprocess per image at shape (1, 3, 640, 384)\n",
      "\n",
      "0: 640x384 1 person, 43.4ms\n",
      "Speed: 1.0ms preprocess, 43.4ms inference, 1.0ms postprocess per image at shape (1, 3, 640, 384)\n",
      "\n",
      "0: 640x384 1 person, 43.0ms\n",
      "Speed: 1.0ms preprocess, 43.0ms inference, 0.0ms postprocess per image at shape (1, 3, 640, 384)\n",
      "\n",
      "0: 640x384 1 person, 42.0ms\n",
      "Speed: 2.0ms preprocess, 42.0ms inference, 0.0ms postprocess per image at shape (1, 3, 640, 384)\n",
      "\n",
      "0: 640x384 1 person, 42.5ms\n",
      "Speed: 2.0ms preprocess, 42.5ms inference, 1.0ms postprocess per image at shape (1, 3, 640, 384)\n",
      "\n",
      "0: 640x384 1 person, 41.5ms\n",
      "Speed: 2.0ms preprocess, 41.5ms inference, 0.0ms postprocess per image at shape (1, 3, 640, 384)\n",
      "\n",
      "0: 640x384 1 person, 41.5ms\n",
      "Speed: 1.0ms preprocess, 41.5ms inference, 1.0ms postprocess per image at shape (1, 3, 640, 384)\n"
     ]
    },
    {
     "data": {
      "text/plain": "<function destroyAllWindows>"
     },
     "execution_count": 3,
     "metadata": {},
     "output_type": "execute_result"
    }
   ],
   "source": [
    "# test YOLOv8 pose recognition with 1 file first\n",
    "\n",
    "\"\"\"Check hardware and load model\"\"\"\n",
    "\n",
    "\n",
    "# Check if GPU is available otherwise use CPU for torch\n",
    "device = torch.device(\"cuda:0\" if torch.cuda.is_available() else \"cpu\")\n",
    "\n",
    "\n",
    "# load model\n",
    "video_path = files[1]\n",
    "model = ultralytics.YOLO('yolov8n-pose.pt')\n",
    "\n",
    "\n",
    "# If GPU is available set model to use half-precision floating-point numbers\n",
    "if torch.cuda.is_available():\n",
    "    model.half().to(device)\n",
    "\n",
    "# predict\n",
    "\n",
    "cap = cv2.VideoCapture(video_path)\n",
    "start_time = time.time()\n",
    "\n",
    "# resize cv2 window\n",
    "\n",
    "# Get the original video dimensions\n",
    "width = int(cap.get(cv2.CAP_PROP_FRAME_WIDTH))\n",
    "height = int(cap.get(cv2.CAP_PROP_FRAME_HEIGHT))\n",
    "\n",
    "# Define the desired width and calculate the height to maintain the aspect ratio\n",
    "desired_width = 540  # You can change this value\n",
    "aspect_ratio = height / width\n",
    "desired_height = int(desired_width * aspect_ratio)\n",
    "\n",
    "# Get video, pose analyse and display pose detection frame by frame\n",
    "pose_results = defaultdict(int)\n",
    "i=0\n",
    "\n",
    "while(cap.isOpened() and time.time()):\n",
    "    ret, frame = cap.read()\n",
    "    if ret == True:\n",
    "        result = model.predict(frame)\n",
    "        pose_results[i] = result\n",
    "        i = i+1\n",
    "        annotated_frame = draw_skeleton(result)\n",
    "        # Resize the frame while maintaining the aspect ratio\n",
    "        resized_frame = cv2.resize(annotated_frame, (desired_width, desired_height))\n",
    "        # comment out because using too much RAM - run headless\n",
    "        # cv2.imshow('Frame', resized_frame)\n",
    "        \n",
    "        # # Press Q on keyboard to exit\n",
    "        # if cv2.waitKey(25) & 0xFF == ord('q'):\n",
    "        #     break\n",
    "    else:\n",
    "        break\n",
    "\n",
    "cap.release()\n",
    "cv2.destroyAllWindows \n",
    "\n",
    "\n"
   ]
  },
  {
   "cell_type": "code",
   "execution_count": 4,
   "metadata": {},
   "outputs": [],
   "source": [
    "def define_keypoints():\n",
    "    return {\n",
    "    \"nose\": 0,\n",
    "    \"left_eye\": 1,\n",
    "    \"right_eye\": 2,\n",
    "    \"left_ear\": 3,\n",
    "    \"right_ear\": 4,\n",
    "    \"left_shoulder\": 5,\n",
    "    \"right_shoulder\": 6,\n",
    "    \"left_elbow\": 7,\n",
    "    \"right_elbow\": 8,\n",
    "    \"left_wrist\": 9,\n",
    "    \"right_wrist\": 10,\n",
    "    \"left_hip\": 11,\n",
    "    \"right_hip\": 12,\n",
    "    \"left_knee\": 13,\n",
    "    \"right_knee\": 14,\n",
    "    \"left_ankle\": 15,\n",
    "    \"right_ankle\": 16\n",
    "}"
   ]
  },
  {
   "cell_type": "code",
   "execution_count": 5,
   "metadata": {},
   "outputs": [],
   "source": [
    "from collections import defaultdict\n",
    "\n",
    "# LSTM - adapted from AI for media \n",
    "# https://git.arts.ac.uk/tbroad/AI-4-Media-22-23/blob/main/Week%205.1%20LSTM%20for%20forecasting%20and%20movement%20generation/Generating_Movement_Sequences_with_LSTM.ipynb\n",
    "\n",
    "# define keypoints\n",
    "keypoints = {\n",
    "    \"nose\": 0,\n",
    "    \"left_eye\": 1,\n",
    "    \"right_eye\": 2,\n",
    "    \"left_ear\": 3,\n",
    "    \"right_ear\": 4,\n",
    "    \"left_shoulder\": 5,\n",
    "    \"right_shoulder\": 6,\n",
    "    \"left_elbow\": 7,\n",
    "    \"right_elbow\": 8,\n",
    "    \"left_wrist\": 9,\n",
    "    \"right_wrist\": 10,\n",
    "    \"left_hip\": 11,\n",
    "    \"right_hip\": 12,\n",
    "    \"left_knee\": 13,\n",
    "    \"right_knee\": 14,\n",
    "    \"left_ankle\": 15,\n",
    "    \"right_ankle\": 16\n",
    "}\n",
    "\n",
    "\n",
    "# convert tensor of xy coordinate per frame into a pandas time series\n",
    "keypoints_dict_master = defaultdict(dict)\n",
    "\n",
    "for frame, results in pose_results.items():\n",
    "    for idx, person in enumerate(results):\n",
    "        # Check if person has the attribute 'keypoints' and it has the attribute 'xy'\n",
    "        if hasattr(person, 'keypoints') and hasattr(person.keypoints, 'xy'):\n",
    "            tensor_values = person.keypoints.xy\n",
    "            \n",
    "            # Convert tensor to dictionary format\n",
    "            keypoint_coordinates = {key: tensor_values[0][value] for key, value in keypoints.items() if value < len(tensor_values[0])}\n",
    "            \n",
    "            # Use idx as a unique identifier for each person\n",
    "            keypoints_dict_master[frame][idx] = keypoint_coordinates\n"
   ]
  },
  {
   "cell_type": "markdown",
   "metadata": {},
   "source": [
    "# GAN - Temporal GANs"
   ]
  },
  {
   "cell_type": "code",
   "execution_count": 6,
   "metadata": {},
   "outputs": [],
   "source": [
    "# https://pytorch.org/tutorials/beginner/dcgan_faces_tutorial.html\n",
    "# https://github.com/pfnet-research/tgan2\n",
    "# prototyping with this one for now because it seems easy\n",
    "# https://github.com/amunozgarza/tsb-gan"
   ]
  },
  {
   "cell_type": "code",
   "execution_count": 7,
   "metadata": {},
   "outputs": [
    {
     "name": "stdout",
     "output_type": "stream",
     "text": [
      "Random Seed:  999\n"
     ]
    }
   ],
   "source": [
    "# actually going to just try adapt a simple DCGAN from pytorch tutorials first because I'm super confused\n",
    "# https://pytorch.org/tutorials/beginner/dcgan_faces_tutorial.html\n",
    "\n",
    "#%matplotlib inline\n",
    "import argparse\n",
    "import os\n",
    "import random\n",
    "import torch\n",
    "import torch.nn as nn\n",
    "import torch.nn.parallel\n",
    "import torch.optim as optim\n",
    "import torch.utils.data\n",
    "import torchvision.datasets as dset\n",
    "import torchvision.transforms as transforms\n",
    "import torchvision.utils as vutils\n",
    "import numpy as np\n",
    "import matplotlib.pyplot as plt\n",
    "import matplotlib.animation as animation\n",
    "from IPython.display import HTML\n",
    "\n",
    "# Set random seed for reproducibility\n",
    "manualSeed = 999\n",
    "#manualSeed = random.randint(1, 10000) # use if you want new results\n",
    "print(\"Random Seed: \", manualSeed)\n",
    "random.seed(manualSeed)\n",
    "torch.manual_seed(manualSeed)\n",
    "torch.use_deterministic_algorithms(True) # Needed for reproducible results"
   ]
  },
  {
   "cell_type": "code",
   "execution_count": 8,
   "metadata": {},
   "outputs": [
    {
     "data": {
      "text/plain": "     frame  person            nose_x            nose_y        left_eye_x  \\\n0        0       0  tensor(548.0113)  tensor(253.8890)  tensor(581.6307)   \n1        1       0  tensor(546.6755)  tensor(253.1892)  tensor(580.1018)   \n2        2       0  tensor(546.6104)  tensor(252.9438)  tensor(579.6425)   \n3        3       0  tensor(544.0967)  tensor(252.5411)  tensor(578.2271)   \n4        4       0  tensor(541.8898)  tensor(252.8846)  tensor(576.3556)   \n..     ...     ...               ...               ...               ...   \n259    259       0  tensor(577.7915)  tensor(227.9224)  tensor(609.9910)   \n260    260       0  tensor(576.8605)  tensor(226.1658)  tensor(608.8916)   \n261    261       0  tensor(578.3124)  tensor(223.8032)  tensor(610.0950)   \n262    262       0  tensor(579.3981)  tensor(224.5157)  tensor(610.7469)   \n263    263       0  tensor(577.5127)  tensor(226.0952)  tensor(609.5530)   \n\n           left_eye_y       right_eye_x       right_eye_y        left_ear_x  \\\n0    tensor(223.7902)  tensor(507.8804)  tensor(227.8574)  tensor(628.7161)   \n1    tensor(222.3493)  tensor(506.0098)  tensor(226.8007)  tensor(627.4545)   \n2    tensor(222.1322)  tensor(505.6010)  tensor(226.8907)  tensor(626.6183)   \n3    tensor(221.6877)  tensor(503.2304)  tensor(226.3312)  tensor(627.1232)   \n4    tensor(222.8937)  tensor(501.8326)  tensor(226.7325)  tensor(625.4022)   \n..                ...               ...               ...               ...   \n259  tensor(195.5344)  tensor(539.4560)  tensor(202.7635)  tensor(664.3465)   \n260  tensor(193.7439)  tensor(538.2430)  tensor(201.3604)  tensor(663.2470)   \n261  tensor(191.2101)  tensor(538.9871)  tensor(199.1104)  tensor(663.7280)   \n262  tensor(191.7832)  tensor(539.7184)  tensor(199.9108)  tensor(663.5896)   \n263  tensor(193.1802)  tensor(538.8023)  tensor(200.8163)  tensor(664.4314)   \n\n           left_ear_y  ...       right_hip_x       right_hip_y  \\\n0    tensor(260.6825)  ...  tensor(434.2933)  tensor(925.0344)   \n1    tensor(258.5030)  ...  tensor(433.1544)  tensor(927.4625)   \n2    tensor(259.1334)  ...  tensor(433.5181)  tensor(926.8917)   \n3    tensor(259.2605)  ...  tensor(433.1701)  tensor(926.5743)   \n4    tensor(261.7588)  ...  tensor(433.0803)  tensor(925.6930)   \n..                ...  ...               ...               ...   \n259  tensor(226.5148)  ...  tensor(495.3130)  tensor(912.9177)   \n260  tensor(225.0101)  ...  tensor(494.5897)  tensor(913.1466)   \n261  tensor(222.7904)  ...  tensor(494.8543)  tensor(913.6138)   \n262  tensor(222.7725)  ...  tensor(496.1612)  tensor(913.8593)   \n263  tensor(223.4404)  ...  tensor(496.6207)  tensor(915.4054)   \n\n          left_knee_x        left_knee_y      right_knee_x       right_knee_y  \\\n0    tensor(577.6923)  tensor(1317.9408)  tensor(438.9280)  tensor(1312.3743)   \n1    tensor(577.1816)  tensor(1318.5016)  tensor(438.3349)  tensor(1311.7001)   \n2    tensor(576.4340)  tensor(1318.7595)  tensor(438.6196)  tensor(1311.5155)   \n3    tensor(576.8007)  tensor(1317.3296)  tensor(437.6906)  tensor(1310.5129)   \n4    tensor(576.6702)  tensor(1317.1176)  tensor(437.1123)  tensor(1309.4464)   \n..                ...                ...               ...                ...   \n259  tensor(647.8160)  tensor(1296.1514)  tensor(507.9951)  tensor(1288.1588)   \n260  tensor(648.5621)  tensor(1296.0864)  tensor(508.2196)  tensor(1288.7867)   \n261  tensor(649.2602)  tensor(1295.1915)  tensor(508.4270)  tensor(1287.7676)   \n262  tensor(649.9182)  tensor(1295.8854)  tensor(509.9422)  tensor(1288.4877)   \n263  tensor(650.1769)  tensor(1297.2836)  tensor(509.3653)  tensor(1289.0243)   \n\n         left_ankle_x       left_ankle_y     right_ankle_x      right_ankle_y  \n0    tensor(548.4213)  tensor(1634.8854)  tensor(450.7043)  tensor(1627.9724)  \n1    tensor(549.1968)  tensor(1634.1621)  tensor(450.1331)  tensor(1625.4786)  \n2    tensor(550.3526)  tensor(1634.6078)  tensor(451.2119)  tensor(1624.9901)  \n3    tensor(550.4597)  tensor(1633.7355)  tensor(452.6882)  tensor(1624.2433)  \n4    tensor(549.8908)  tensor(1632.8727)  tensor(453.4856)  tensor(1622.9381)  \n..                ...                ...               ...                ...  \n259  tensor(632.4402)  tensor(1611.2257)  tensor(527.8400)  tensor(1597.7319)  \n260  tensor(633.2721)  tensor(1612.1653)  tensor(528.1397)  tensor(1598.9480)  \n261  tensor(633.3417)  tensor(1610.9923)  tensor(526.9686)  tensor(1597.7045)  \n262  tensor(633.6883)  tensor(1612.3271)  tensor(527.1351)  tensor(1598.2003)  \n263  tensor(634.1794)  tensor(1611.8878)  tensor(527.6819)  tensor(1597.6074)  \n\n[264 rows x 36 columns]",
      "text/html": "<div>\n<style scoped>\n    .dataframe tbody tr th:only-of-type {\n        vertical-align: middle;\n    }\n\n    .dataframe tbody tr th {\n        vertical-align: top;\n    }\n\n    .dataframe thead th {\n        text-align: right;\n    }\n</style>\n<table border=\"1\" class=\"dataframe\">\n  <thead>\n    <tr style=\"text-align: right;\">\n      <th></th>\n      <th>frame</th>\n      <th>person</th>\n      <th>nose_x</th>\n      <th>nose_y</th>\n      <th>left_eye_x</th>\n      <th>left_eye_y</th>\n      <th>right_eye_x</th>\n      <th>right_eye_y</th>\n      <th>left_ear_x</th>\n      <th>left_ear_y</th>\n      <th>...</th>\n      <th>right_hip_x</th>\n      <th>right_hip_y</th>\n      <th>left_knee_x</th>\n      <th>left_knee_y</th>\n      <th>right_knee_x</th>\n      <th>right_knee_y</th>\n      <th>left_ankle_x</th>\n      <th>left_ankle_y</th>\n      <th>right_ankle_x</th>\n      <th>right_ankle_y</th>\n    </tr>\n  </thead>\n  <tbody>\n    <tr>\n      <th>0</th>\n      <td>0</td>\n      <td>0</td>\n      <td>tensor(548.0113)</td>\n      <td>tensor(253.8890)</td>\n      <td>tensor(581.6307)</td>\n      <td>tensor(223.7902)</td>\n      <td>tensor(507.8804)</td>\n      <td>tensor(227.8574)</td>\n      <td>tensor(628.7161)</td>\n      <td>tensor(260.6825)</td>\n      <td>...</td>\n      <td>tensor(434.2933)</td>\n      <td>tensor(925.0344)</td>\n      <td>tensor(577.6923)</td>\n      <td>tensor(1317.9408)</td>\n      <td>tensor(438.9280)</td>\n      <td>tensor(1312.3743)</td>\n      <td>tensor(548.4213)</td>\n      <td>tensor(1634.8854)</td>\n      <td>tensor(450.7043)</td>\n      <td>tensor(1627.9724)</td>\n    </tr>\n    <tr>\n      <th>1</th>\n      <td>1</td>\n      <td>0</td>\n      <td>tensor(546.6755)</td>\n      <td>tensor(253.1892)</td>\n      <td>tensor(580.1018)</td>\n      <td>tensor(222.3493)</td>\n      <td>tensor(506.0098)</td>\n      <td>tensor(226.8007)</td>\n      <td>tensor(627.4545)</td>\n      <td>tensor(258.5030)</td>\n      <td>...</td>\n      <td>tensor(433.1544)</td>\n      <td>tensor(927.4625)</td>\n      <td>tensor(577.1816)</td>\n      <td>tensor(1318.5016)</td>\n      <td>tensor(438.3349)</td>\n      <td>tensor(1311.7001)</td>\n      <td>tensor(549.1968)</td>\n      <td>tensor(1634.1621)</td>\n      <td>tensor(450.1331)</td>\n      <td>tensor(1625.4786)</td>\n    </tr>\n    <tr>\n      <th>2</th>\n      <td>2</td>\n      <td>0</td>\n      <td>tensor(546.6104)</td>\n      <td>tensor(252.9438)</td>\n      <td>tensor(579.6425)</td>\n      <td>tensor(222.1322)</td>\n      <td>tensor(505.6010)</td>\n      <td>tensor(226.8907)</td>\n      <td>tensor(626.6183)</td>\n      <td>tensor(259.1334)</td>\n      <td>...</td>\n      <td>tensor(433.5181)</td>\n      <td>tensor(926.8917)</td>\n      <td>tensor(576.4340)</td>\n      <td>tensor(1318.7595)</td>\n      <td>tensor(438.6196)</td>\n      <td>tensor(1311.5155)</td>\n      <td>tensor(550.3526)</td>\n      <td>tensor(1634.6078)</td>\n      <td>tensor(451.2119)</td>\n      <td>tensor(1624.9901)</td>\n    </tr>\n    <tr>\n      <th>3</th>\n      <td>3</td>\n      <td>0</td>\n      <td>tensor(544.0967)</td>\n      <td>tensor(252.5411)</td>\n      <td>tensor(578.2271)</td>\n      <td>tensor(221.6877)</td>\n      <td>tensor(503.2304)</td>\n      <td>tensor(226.3312)</td>\n      <td>tensor(627.1232)</td>\n      <td>tensor(259.2605)</td>\n      <td>...</td>\n      <td>tensor(433.1701)</td>\n      <td>tensor(926.5743)</td>\n      <td>tensor(576.8007)</td>\n      <td>tensor(1317.3296)</td>\n      <td>tensor(437.6906)</td>\n      <td>tensor(1310.5129)</td>\n      <td>tensor(550.4597)</td>\n      <td>tensor(1633.7355)</td>\n      <td>tensor(452.6882)</td>\n      <td>tensor(1624.2433)</td>\n    </tr>\n    <tr>\n      <th>4</th>\n      <td>4</td>\n      <td>0</td>\n      <td>tensor(541.8898)</td>\n      <td>tensor(252.8846)</td>\n      <td>tensor(576.3556)</td>\n      <td>tensor(222.8937)</td>\n      <td>tensor(501.8326)</td>\n      <td>tensor(226.7325)</td>\n      <td>tensor(625.4022)</td>\n      <td>tensor(261.7588)</td>\n      <td>...</td>\n      <td>tensor(433.0803)</td>\n      <td>tensor(925.6930)</td>\n      <td>tensor(576.6702)</td>\n      <td>tensor(1317.1176)</td>\n      <td>tensor(437.1123)</td>\n      <td>tensor(1309.4464)</td>\n      <td>tensor(549.8908)</td>\n      <td>tensor(1632.8727)</td>\n      <td>tensor(453.4856)</td>\n      <td>tensor(1622.9381)</td>\n    </tr>\n    <tr>\n      <th>...</th>\n      <td>...</td>\n      <td>...</td>\n      <td>...</td>\n      <td>...</td>\n      <td>...</td>\n      <td>...</td>\n      <td>...</td>\n      <td>...</td>\n      <td>...</td>\n      <td>...</td>\n      <td>...</td>\n      <td>...</td>\n      <td>...</td>\n      <td>...</td>\n      <td>...</td>\n      <td>...</td>\n      <td>...</td>\n      <td>...</td>\n      <td>...</td>\n      <td>...</td>\n      <td>...</td>\n    </tr>\n    <tr>\n      <th>259</th>\n      <td>259</td>\n      <td>0</td>\n      <td>tensor(577.7915)</td>\n      <td>tensor(227.9224)</td>\n      <td>tensor(609.9910)</td>\n      <td>tensor(195.5344)</td>\n      <td>tensor(539.4560)</td>\n      <td>tensor(202.7635)</td>\n      <td>tensor(664.3465)</td>\n      <td>tensor(226.5148)</td>\n      <td>...</td>\n      <td>tensor(495.3130)</td>\n      <td>tensor(912.9177)</td>\n      <td>tensor(647.8160)</td>\n      <td>tensor(1296.1514)</td>\n      <td>tensor(507.9951)</td>\n      <td>tensor(1288.1588)</td>\n      <td>tensor(632.4402)</td>\n      <td>tensor(1611.2257)</td>\n      <td>tensor(527.8400)</td>\n      <td>tensor(1597.7319)</td>\n    </tr>\n    <tr>\n      <th>260</th>\n      <td>260</td>\n      <td>0</td>\n      <td>tensor(576.8605)</td>\n      <td>tensor(226.1658)</td>\n      <td>tensor(608.8916)</td>\n      <td>tensor(193.7439)</td>\n      <td>tensor(538.2430)</td>\n      <td>tensor(201.3604)</td>\n      <td>tensor(663.2470)</td>\n      <td>tensor(225.0101)</td>\n      <td>...</td>\n      <td>tensor(494.5897)</td>\n      <td>tensor(913.1466)</td>\n      <td>tensor(648.5621)</td>\n      <td>tensor(1296.0864)</td>\n      <td>tensor(508.2196)</td>\n      <td>tensor(1288.7867)</td>\n      <td>tensor(633.2721)</td>\n      <td>tensor(1612.1653)</td>\n      <td>tensor(528.1397)</td>\n      <td>tensor(1598.9480)</td>\n    </tr>\n    <tr>\n      <th>261</th>\n      <td>261</td>\n      <td>0</td>\n      <td>tensor(578.3124)</td>\n      <td>tensor(223.8032)</td>\n      <td>tensor(610.0950)</td>\n      <td>tensor(191.2101)</td>\n      <td>tensor(538.9871)</td>\n      <td>tensor(199.1104)</td>\n      <td>tensor(663.7280)</td>\n      <td>tensor(222.7904)</td>\n      <td>...</td>\n      <td>tensor(494.8543)</td>\n      <td>tensor(913.6138)</td>\n      <td>tensor(649.2602)</td>\n      <td>tensor(1295.1915)</td>\n      <td>tensor(508.4270)</td>\n      <td>tensor(1287.7676)</td>\n      <td>tensor(633.3417)</td>\n      <td>tensor(1610.9923)</td>\n      <td>tensor(526.9686)</td>\n      <td>tensor(1597.7045)</td>\n    </tr>\n    <tr>\n      <th>262</th>\n      <td>262</td>\n      <td>0</td>\n      <td>tensor(579.3981)</td>\n      <td>tensor(224.5157)</td>\n      <td>tensor(610.7469)</td>\n      <td>tensor(191.7832)</td>\n      <td>tensor(539.7184)</td>\n      <td>tensor(199.9108)</td>\n      <td>tensor(663.5896)</td>\n      <td>tensor(222.7725)</td>\n      <td>...</td>\n      <td>tensor(496.1612)</td>\n      <td>tensor(913.8593)</td>\n      <td>tensor(649.9182)</td>\n      <td>tensor(1295.8854)</td>\n      <td>tensor(509.9422)</td>\n      <td>tensor(1288.4877)</td>\n      <td>tensor(633.6883)</td>\n      <td>tensor(1612.3271)</td>\n      <td>tensor(527.1351)</td>\n      <td>tensor(1598.2003)</td>\n    </tr>\n    <tr>\n      <th>263</th>\n      <td>263</td>\n      <td>0</td>\n      <td>tensor(577.5127)</td>\n      <td>tensor(226.0952)</td>\n      <td>tensor(609.5530)</td>\n      <td>tensor(193.1802)</td>\n      <td>tensor(538.8023)</td>\n      <td>tensor(200.8163)</td>\n      <td>tensor(664.4314)</td>\n      <td>tensor(223.4404)</td>\n      <td>...</td>\n      <td>tensor(496.6207)</td>\n      <td>tensor(915.4054)</td>\n      <td>tensor(650.1769)</td>\n      <td>tensor(1297.2836)</td>\n      <td>tensor(509.3653)</td>\n      <td>tensor(1289.0243)</td>\n      <td>tensor(634.1794)</td>\n      <td>tensor(1611.8878)</td>\n      <td>tensor(527.6819)</td>\n      <td>tensor(1597.6074)</td>\n    </tr>\n  </tbody>\n</table>\n<p>264 rows × 36 columns</p>\n</div>"
     },
     "execution_count": 8,
     "metadata": {},
     "output_type": "execute_result"
    }
   ],
   "source": [
    "# Data preparation\n",
    "# convert to pandas of each keypoint coordinate for each frame\n",
    "\n",
    "# Flatten the dictionary\n",
    "rows = []\n",
    "for frame, persons in keypoints_dict_master.items():\n",
    "    for person, keypoints in persons.items():\n",
    "        row = {'frame': frame, 'person': person}\n",
    "        for keypoint, coordinates in keypoints.items():\n",
    "            row[f'{keypoint}_x'] = coordinates[0]\n",
    "            row[f'{keypoint}_y'] = coordinates[1]\n",
    "        rows.append(row)\n",
    "\n",
    "# Convert to DataFrame\n",
    "df = pd.DataFrame(rows)\n",
    "\n",
    "df"
   ]
  },
  {
   "cell_type": "code",
   "execution_count": 9,
   "metadata": {},
   "outputs": [
    {
     "name": "stderr",
     "output_type": "stream",
     "text": [
      "264it [00:00, 6599.93it/s]\n"
     ]
    },
    {
     "name": "stdout",
     "output_type": "stream",
     "text": [
      "Number of training examples:\n",
      "X: (212, 50, 256, 256, 3)\n",
      "y: (212, 256, 256, 3)\n"
     ]
    }
   ],
   "source": [
    "from sklearn.preprocessing import MinMaxScaler\n",
    "import torch\n",
    "import traceback\n",
    "from tqdm import tqdm\n",
    "\n",
    "global HEIGHT, WIDTH,nc\n",
    "HEIGHT = 256\n",
    "WIDTH = 256\n",
    "nc = 3  #number of channels\n",
    "\n",
    "# Functions for slicing up data\n",
    "def slice_sequence_examples(sequence, num_steps):\n",
    "    xs = []\n",
    "    for i in range(len(sequence) - num_steps - 1):\n",
    "        example = sequence[i: i + num_steps]\n",
    "        xs.append(example)\n",
    "        \n",
    "        # output is list of list of num_steps number of rows (e.g. num_setps =  50 will be 50 first rows, all columns)\n",
    "    return xs\n",
    "\n",
    "def seq_to_singleton_format(examples):\n",
    "    # Takes the sliced sequences and separates each sequence into input (all elements except the last one) and output (just the last element).\n",
    "    # up until last sequence used as primer\n",
    "    \n",
    "    xs = []\n",
    "    ys = []\n",
    "    for ex in examples:\n",
    "        xs.append(ex[:-1])\n",
    "        ys.append(ex[-1])\n",
    "    return (xs,ys)  \n",
    "\n",
    "def keypoints_to_image(scaled_keypoints_df):\n",
    "    colors = {\n",
    "    \"nose\": (255, 0, 0),        # Red\n",
    "    \"left_eye\": (0, 255, 0),    # Green\n",
    "    \"right_eye\": (0, 0, 255),   # Blue\n",
    "    \"left_ear\": (255, 255, 0),  # Yellow\n",
    "    \"right_ear\": (255, 0, 255), # Magenta\n",
    "    \"left_shoulder\": (0, 255, 255),  # Cyan\n",
    "    \"right_shoulder\": (255, 165, 0), # Orange\n",
    "    \"left_elbow\": (255, 69, 0),     # Red-Orange\n",
    "    \"right_elbow\": (0, 128, 0),     # Green (Lime)\n",
    "    \"left_wrist\": (255, 20, 147),   # Deep Pink\n",
    "    \"right_wrist\": (255, 140, 0),   # Dark Orange\n",
    "    \"left_hip\": (0, 128, 128),      # Teal\n",
    "    \"right_hip\": (255, 99, 71),     # Tomato\n",
    "    \"left_knee\": (0, 255, 0),       # Green (using a different shade)\n",
    "    \"right_knee\": (255, 69, 0),     # Red-Orange (using a different shade)\n",
    "    \"left_ankle\": (0, 255, 255),    # Cyan (using a different shade)\n",
    "    \"right_ankle\": (255, 165, 0)    # Orange (using a different shade)\n",
    "}   \n",
    "    # data frame coloumns are in the format of keypoint_x and keypoint_y\n",
    "    # takes keypoints dataframe and returns a list of frames of keypoints, each keypoint body part is drawn in a different colour according to dict\n",
    "    # on black (0 pad) background - turn to 4D\n",
    "    \n",
    "    frames = []\n",
    "    \n",
    "    for i,row in tqdm(scaled_keypoints_df.iterrows()):\n",
    "        # match column name to keypoint name\n",
    "        # black background\n",
    "        img = np.zeros((HEIGHT,WIDTH,3), np.uint8)\n",
    "        for keypoint in keypoints.keys():\n",
    "            \n",
    "            # draw circle at x,y coordinates\n",
    "            try:\n",
    "                cv2.circle(img, (int(float(row[f\"{keypoint}_x\"])*WIDTH), int(float(row[f\"{keypoint}_y\"])*HEIGHT)), 5, colors[keypoint], -1)\n",
    "            except Exception as e:\n",
    "                print(i)\n",
    "                print(keypoint)\n",
    "                traceback.print_exc()\n",
    "                continue\n",
    "            \n",
    "        frames.append(img)\n",
    "    \n",
    "    return frames\n",
    "        \n",
    "\n",
    "\n",
    "\n",
    "# Normalising our data with min max\n",
    "sc = MinMaxScaler()\n",
    "scaled = sc.fit_transform(df.values)\n",
    "scaled_df= pd.DataFrame(scaled, columns=df.columns)\n",
    "    \n",
    "# converting df to images\n",
    "frames = keypoints_to_image(scaled_df) \n",
    "        \n",
    "# Turning our dataframe structure into an array, excluding the first 2 columns of person and frame\n",
    "seq = np.array(frames)\n",
    "\n",
    "\n",
    "# Defining and using our window size to create our inputs X and outputs y\n",
    "SEQ_LEN = 50\n",
    "slices = slice_sequence_examples(seq, SEQ_LEN+1)\n",
    "X, y = seq_to_singleton_format(slices)\n",
    "\n",
    "X = np.array(X)\n",
    "y = np.array(y)\n",
    "\n",
    "print(\"Number of training examples:\")\n",
    "print(\"X:\", X.shape)\n",
    "print(\"y:\", y.shape)\n",
    "\n",
    "\n",
    "# X: (number of frames, sequence length, 17 coordinates, x and y so 34)\n",
    "# y: (number of frames, 17 coordinates, x and y so 34) - no sequence length cause generative\n"
   ]
  },
  {
   "cell_type": "code",
   "execution_count": 10,
   "metadata": {},
   "outputs": [
    {
     "data": {
      "text/plain": "(50, 256, 256, 3)"
     },
     "execution_count": 10,
     "metadata": {},
     "output_type": "execute_result"
    }
   ],
   "source": [
    "np.shape(X[-1])"
   ]
  },
  {
   "cell_type": "code",
   "execution_count": 11,
   "metadata": {},
   "outputs": [],
   "source": [
    "# BatchSize×Depth×Height×Width×Channels\n",
    "\n",
    "# Number of workers for dataloader\n",
    "workers = 2\n",
    "\n",
    "# Batch size during training\n",
    "batch_size = 8\n",
    "\n",
    "# Spatial size of training images. All images will be resized to this\n",
    "#   size using a transformer.\n",
    "image_size = HEIGHT\n",
    "\n",
    "# Number of frames for seed\n",
    "nf = 50\n",
    "\n",
    "# Size of z latent vector (i.e. size of genaerator input) (was 100)\n",
    "nz = 100\n",
    "\n",
    "# Size of feature maps in generator\n",
    "ngf = 64\n",
    "\n",
    "# Size of feature maps in discriminator\n",
    "ndf = 64\n",
    "\n",
    "# Number of training epochs\n",
    "num_epochs = 5\n",
    "\n",
    "# Learning rate for optimizers\n",
    "lr = 0.0002\n",
    "\n",
    "# Beta1 hyperparameter for Adam optimizers\n",
    "beta1 = 0.5\n",
    "\n",
    "# Number of GPUs available. Use 0 for CPU mode.\n",
    "ngpu = 1"
   ]
  },
  {
   "cell_type": "code",
   "execution_count": 12,
   "metadata": {},
   "outputs": [],
   "source": [
    "import torch\n",
    "from torch.utils.data import TensorDataset, DataLoader\n",
    "\n",
    "# Convert to PyTorch tensors\n",
    "X_tensor = torch.from_numpy(X)\n",
    "y_tensor = torch.from_numpy(y)\n",
    "\n",
    "# Create the dataset\n",
    "dataset = TensorDataset(X_tensor, y_tensor)\n",
    "# Create the dataloader\n",
    "dataloader = DataLoader(dataset, batch_size=batch_size,\n",
    "                                         shuffle=True, num_workers=workers)\n",
    "\n",
    "# Decide which device we want to run on\n",
    "device = torch.device(\"cuda:0\" if (torch.cuda.is_available() and ngpu > 0) else \"cpu\")\n",
    "\n",
    "# Plot some training images\n",
    "real_batch = next(iter(dataloader))\n",
    "# plt.figure(figsize=(8,8))\n",
    "# plt.axis(\"off\")\n",
    "# plt.title(\"Training Images\")\n",
    "# plt.imshow(np.transpose(vutils.make_grid(real_batch[0].to(device)[:64], padding=2, normalize=True).cpu(),(1,2,0)))"
   ]
  },
  {
   "cell_type": "code",
   "execution_count": 13,
   "metadata": {},
   "outputs": [],
   "source": [
    "# custom weights initialization called on ``netG`` and ``netD``\n",
    "def weights_init(m):\n",
    "    classname = m.__class__.__name__\n",
    "    if classname.find('Conv') != -1:\n",
    "        nn.init.normal_(m.weight.data, 0.0, 0.02)\n",
    "    elif classname.find('BatchNorm') != -1:\n",
    "        nn.init.normal_(m.weight.data, 1.0, 0.02)\n",
    "        nn.init.constant_(m.bias.data, 0)"
   ]
  },
  {
   "cell_type": "code",
   "execution_count": 14,
   "metadata": {},
   "outputs": [],
   "source": [
    "import torch.nn as nn\n",
    "\n",
    "class Generator(nn.Module):\n",
    "    def __init__(self, ngpu):\n",
    "        super(Generator, self).__init__()\n",
    "        self.ngpu = ngpu\n",
    "        self.main = nn.Sequential(\n",
    "            \n",
    "            # Input shape: [batch, nz, 1, 1, 1]\n",
    "            # Output shape: [batch, ngf * 8, 4, 4, 4]\n",
    "            # [16, 512, 2, 2, 4]\n",
    "            nn.ConvTranspose3d(nz, ngf * 8, (2, 2, 4), (1, 1, 2), 0, bias=False),\n",
    "            nn.BatchNorm3d(ngf * 8),\n",
    "            nn.ReLU(True),\n",
    "            \n",
    "            # Output shape: [batch, ngf * 4, 8, 8, 10]\n",
    "            # [16, 256, 4, 4, 12]\n",
    "            nn.ConvTranspose3d(ngf * 8, ngf * 4, (2, 2, 6), (2, 2, 2), 0, bias=False),\n",
    "            nn.BatchNorm3d(ngf * 4),\n",
    "            nn.ReLU(True),\n",
    "            \n",
    "            # Output shape: [batch, ngf * 2, 16, 16, 15]\n",
    "            # [16, 128, 8, 8, 17]\n",
    "            nn.ConvTranspose3d(ngf * 4, ngf * 2, (2, 2, 6), (2, 2, 1), 0, bias=False),\n",
    "            nn.BatchNorm3d(ngf * 2),\n",
    "            nn.ReLU(True),\n",
    "            \n",
    "            # Output shape: [batch, ngf, 32, 32, 20]\n",
    "            # [16, 64, 16, 16, 22]\n",
    "            nn.ConvTranspose3d(ngf * 2, ngf, (2, 2, 6), (2, 2, 1), 0, bias=False),\n",
    "            nn.BatchNorm3d(ngf),\n",
    "            nn.ReLU(True),\n",
    "            \n",
    "            # Output shape: [batch, ngf, 64, 64, 22]\n",
    "            # [16, 64, 32, 32, 24]\n",
    "            nn.ConvTranspose3d(ngf, ngf, (2, 2, 3), (2, 2, 1), 0, bias=False),\n",
    "            nn.BatchNorm3d(ngf),\n",
    "            nn.ReLU(True),\n",
    "            \n",
    "            # Output shape: [batch, ngf, 128, 128, 46]\n",
    "            # [16, 64, 64, 64, 50]\n",
    "            nn.ConvTranspose3d(ngf, ngf, (2, 2, 4), (2, 2, 2), 0, bias=False),\n",
    "            nn.BatchNorm3d(ngf),\n",
    "            nn.ReLU(True),\n",
    "            \n",
    "            # Output shape: [batch, ngf, 128, 128, 46]\n",
    "            # [16, 3, 128, 128, 50]\n",
    "            nn.ConvTranspose3d(ngf, ngf, (2, 2, 1), (2, 2, 1), 0, bias=False),\n",
    "            nn.BatchNorm3d(ngf),\n",
    "            nn.ReLU(True),\n",
    "            \n",
    "            \n",
    "            # Desired Output shape: [batch, nc, 256, 256, 50]\n",
    "            # [16, 3, 256, 256, 50]\n",
    "            nn.ConvTranspose3d(ngf, nc, (2, 2, 1), (2, 2, 1), 0, bias=False),\n",
    "            nn.Tanh()\n",
    "        )\n",
    "        \n",
    "    def forward(self, input):\n",
    "        # x = input\n",
    "        # print(x.shape)\n",
    "        # for layer in self.main:\n",
    "        #     print(layer)\n",
    "        #     print(f\"before: {x.shape}\")\n",
    "        #     x = layer(x)\n",
    "        #     print(f\"after: {x.shape}\")\n",
    "        # return x\n",
    "        return self.main(input)\n",
    "\n",
    "\n"
   ]
  },
  {
   "cell_type": "code",
   "execution_count": 15,
   "metadata": {},
   "outputs": [
    {
     "name": "stdout",
     "output_type": "stream",
     "text": [
      "Generator(\n",
      "  (main): Sequential(\n",
      "    (0): ConvTranspose3d(100, 512, kernel_size=(2, 2, 4), stride=(1, 1, 2), bias=False)\n",
      "    (1): BatchNorm3d(512, eps=1e-05, momentum=0.1, affine=True, track_running_stats=True)\n",
      "    (2): ReLU(inplace=True)\n",
      "    (3): ConvTranspose3d(512, 256, kernel_size=(2, 2, 6), stride=(2, 2, 2), bias=False)\n",
      "    (4): BatchNorm3d(256, eps=1e-05, momentum=0.1, affine=True, track_running_stats=True)\n",
      "    (5): ReLU(inplace=True)\n",
      "    (6): ConvTranspose3d(256, 128, kernel_size=(2, 2, 6), stride=(2, 2, 1), bias=False)\n",
      "    (7): BatchNorm3d(128, eps=1e-05, momentum=0.1, affine=True, track_running_stats=True)\n",
      "    (8): ReLU(inplace=True)\n",
      "    (9): ConvTranspose3d(128, 64, kernel_size=(2, 2, 6), stride=(2, 2, 1), bias=False)\n",
      "    (10): BatchNorm3d(64, eps=1e-05, momentum=0.1, affine=True, track_running_stats=True)\n",
      "    (11): ReLU(inplace=True)\n",
      "    (12): ConvTranspose3d(64, 64, kernel_size=(2, 2, 3), stride=(2, 2, 1), bias=False)\n",
      "    (13): BatchNorm3d(64, eps=1e-05, momentum=0.1, affine=True, track_running_stats=True)\n",
      "    (14): ReLU(inplace=True)\n",
      "    (15): ConvTranspose3d(64, 64, kernel_size=(2, 2, 4), stride=(2, 2, 2), bias=False)\n",
      "    (16): BatchNorm3d(64, eps=1e-05, momentum=0.1, affine=True, track_running_stats=True)\n",
      "    (17): ReLU(inplace=True)\n",
      "    (18): ConvTranspose3d(64, 64, kernel_size=(2, 2, 1), stride=(2, 2, 1), bias=False)\n",
      "    (19): BatchNorm3d(64, eps=1e-05, momentum=0.1, affine=True, track_running_stats=True)\n",
      "    (20): ReLU(inplace=True)\n",
      "    (21): ConvTranspose3d(64, 3, kernel_size=(2, 2, 1), stride=(2, 2, 1), bias=False)\n",
      "    (22): Tanh()\n",
      "  )\n",
      ")\n"
     ]
    }
   ],
   "source": [
    "# Create the generator\n",
    "netG = Generator(ngpu).to(device)\n",
    "\n",
    "# Handle multi-GPU if desired\n",
    "if (device.type == 'cuda') and (ngpu > 1):\n",
    "    netG = nn.DataParallel(netG, list(range(ngpu)))\n",
    "\n",
    "# Apply the ``weights_init`` function to randomly initialize all weights\n",
    "#  to ``mean=0``, ``stdev=0.02``.\n",
    "netG.apply(weights_init)\n",
    "\n",
    "# Print the model\n",
    "print(netG)"
   ]
  },
  {
   "cell_type": "code",
   "execution_count": 16,
   "metadata": {},
   "outputs": [],
   "source": [
    "class Discriminator(nn.Module):\n",
    "    def __init__(self, ngpu):\n",
    "        super(Discriminator, self).__init__()\n",
    "        self.ngpu = ngpu\n",
    "        self.main = nn.Sequential(\n",
    "            # Input is [64, 50, 256, 256, 3]\n",
    "            # kernel size 4,4,4 - 4 frames 4x4 pixels \n",
    "            nn.Conv3d(in_channels=nc, out_channels=ndf, kernel_size= (4, 4, 4), stride=(1, 2, 2), padding=1, bias=False),\n",
    "            nn.LeakyReLU(0.2, inplace=True),\n",
    "            # torch.Size([64, 64, 128, 128, 1])\n",
    "            nn.Conv3d(ndf, ndf*2, (4, 4, 4), (2, 2, 2), padding = (1,1,1), bias=False),\n",
    "            nn.BatchNorm3d(ndf * 2),\n",
    "            nn.LeakyReLU(0.2, inplace=True),\n",
    "            nn.Conv3d(ndf * 2, ndf * 4, (4, 4, 4), (2, 2, 2), 1, bias=False),\n",
    "            nn.BatchNorm3d(ndf * 4),\n",
    "            nn.LeakyReLU(0.2, inplace=True),\n",
    "            nn.Conv3d(ndf * 4, ndf * 8, (4, 4, 4), (2, 2, 2), 1, bias=False),\n",
    "            nn.BatchNorm3d(ndf * 8),\n",
    "            nn.LeakyReLU(0.2, inplace=True),\n",
    "            nn.Conv3d(ndf * 8, ndf*16, (3, 4, 4), (2, 2, 2), 1, bias=False),\n",
    "            nn.Flatten(),\n",
    "            # Flattened Size=Channels×Depth×Height×Width\n",
    "            nn.Linear(1024*3*8*8, 1),  # Adjusted the input size to the linear layer\n",
    "            nn.Sigmoid()\n",
    "        )\n",
    "    def forward(self, input):\n",
    "        # x = input\n",
    "        # print(x.shape)\n",
    "        # for layer in self.main:\n",
    "        #     print(layer)\n",
    "        #     print(f\"before: {x.shape}\")\n",
    "        #     x = layer(x)\n",
    "        #     print(f\"after: {x.shape}\")\n",
    "        # return x\n",
    "        return self.main(input)"
   ]
  },
  {
   "cell_type": "code",
   "execution_count": 17,
   "metadata": {},
   "outputs": [
    {
     "name": "stdout",
     "output_type": "stream",
     "text": [
      "Discriminator(\n",
      "  (main): Sequential(\n",
      "    (0): Conv3d(3, 64, kernel_size=(4, 4, 4), stride=(1, 2, 2), padding=(1, 1, 1), bias=False)\n",
      "    (1): LeakyReLU(negative_slope=0.2, inplace=True)\n",
      "    (2): Conv3d(64, 128, kernel_size=(4, 4, 4), stride=(2, 2, 2), padding=(1, 1, 1), bias=False)\n",
      "    (3): BatchNorm3d(128, eps=1e-05, momentum=0.1, affine=True, track_running_stats=True)\n",
      "    (4): LeakyReLU(negative_slope=0.2, inplace=True)\n",
      "    (5): Conv3d(128, 256, kernel_size=(4, 4, 4), stride=(2, 2, 2), padding=(1, 1, 1), bias=False)\n",
      "    (6): BatchNorm3d(256, eps=1e-05, momentum=0.1, affine=True, track_running_stats=True)\n",
      "    (7): LeakyReLU(negative_slope=0.2, inplace=True)\n",
      "    (8): Conv3d(256, 512, kernel_size=(4, 4, 4), stride=(2, 2, 2), padding=(1, 1, 1), bias=False)\n",
      "    (9): BatchNorm3d(512, eps=1e-05, momentum=0.1, affine=True, track_running_stats=True)\n",
      "    (10): LeakyReLU(negative_slope=0.2, inplace=True)\n",
      "    (11): Conv3d(512, 1024, kernel_size=(3, 4, 4), stride=(2, 2, 2), padding=(1, 1, 1), bias=False)\n",
      "    (12): Flatten(start_dim=1, end_dim=-1)\n",
      "    (13): Linear(in_features=196608, out_features=1, bias=True)\n",
      "    (14): Sigmoid()\n",
      "  )\n",
      ")\n"
     ]
    }
   ],
   "source": [
    "# Create the Discriminator\n",
    "netD = Discriminator(ngpu).to(device)\n",
    "\n",
    "# Handle multi-GPU if desired\n",
    "if (device.type == 'cuda') and (ngpu > 1):\n",
    "    netD = nn.DataParallel(netD, list(range(ngpu)))\n",
    "\n",
    "# Apply the ``weights_init`` function to randomly initialize all weights\n",
    "# like this: ``to mean=0, stdev=0.2``.\n",
    "netD.apply(weights_init)\n",
    "\n",
    "# Print the model\n",
    "print(netD)"
   ]
  },
  {
   "cell_type": "code",
   "execution_count": 18,
   "metadata": {},
   "outputs": [],
   "source": [
    "# Initialize the ``BCELoss`` function\n",
    "criterion = nn.BCELoss()\n",
    "\n",
    "# Create batch of latent vectors that we will use to visualize\n",
    "#  the progression of the generator\n",
    "fixed_noise = torch.randn(batch_size, nz, 1, 1, 1, device=device)\n",
    "\n",
    "# Establish convention for real and fake labels during training\n",
    "real_label = 1.\n",
    "fake_label = 0.\n",
    "\n",
    "# Setup Adam optimizers for both G and D\n",
    "optimizerD = optim.Adam(netD.parameters(), lr=lr, betas=(beta1, 0.999))\n",
    "optimizerG = optim.Adam(netG.parameters(), lr=lr, betas=(beta1, 0.999))"
   ]
  },
  {
   "cell_type": "code",
   "execution_count": 19,
   "metadata": {},
   "outputs": [
    {
     "name": "stdout",
     "output_type": "stream",
     "text": [
      "0\n",
      "torch.Size([8, 50, 256, 256, 3])\n",
      "torch.Size([8, 256, 256, 3])\n",
      "1\n",
      "torch.Size([8, 50, 256, 256, 3])\n",
      "torch.Size([8, 256, 256, 3])\n",
      "2\n",
      "torch.Size([8, 50, 256, 256, 3])\n",
      "torch.Size([8, 256, 256, 3])\n",
      "3\n",
      "torch.Size([8, 50, 256, 256, 3])\n",
      "torch.Size([8, 256, 256, 3])\n",
      "4\n",
      "torch.Size([8, 50, 256, 256, 3])\n",
      "torch.Size([8, 256, 256, 3])\n",
      "5\n",
      "torch.Size([8, 50, 256, 256, 3])\n",
      "torch.Size([8, 256, 256, 3])\n",
      "6\n",
      "torch.Size([8, 50, 256, 256, 3])\n",
      "torch.Size([8, 256, 256, 3])\n",
      "7\n",
      "torch.Size([8, 50, 256, 256, 3])\n",
      "torch.Size([8, 256, 256, 3])\n",
      "8\n",
      "torch.Size([8, 50, 256, 256, 3])\n",
      "torch.Size([8, 256, 256, 3])\n",
      "9\n",
      "torch.Size([8, 50, 256, 256, 3])\n",
      "torch.Size([8, 256, 256, 3])\n",
      "10\n",
      "torch.Size([8, 50, 256, 256, 3])\n",
      "torch.Size([8, 256, 256, 3])\n",
      "11\n",
      "torch.Size([8, 50, 256, 256, 3])\n",
      "torch.Size([8, 256, 256, 3])\n",
      "12\n",
      "torch.Size([8, 50, 256, 256, 3])\n",
      "torch.Size([8, 256, 256, 3])\n",
      "13\n",
      "torch.Size([8, 50, 256, 256, 3])\n",
      "torch.Size([8, 256, 256, 3])\n",
      "14\n",
      "torch.Size([8, 50, 256, 256, 3])\n",
      "torch.Size([8, 256, 256, 3])\n",
      "15\n",
      "torch.Size([8, 50, 256, 256, 3])\n",
      "torch.Size([8, 256, 256, 3])\n",
      "16\n",
      "torch.Size([8, 50, 256, 256, 3])\n",
      "torch.Size([8, 256, 256, 3])\n",
      "17\n",
      "torch.Size([8, 50, 256, 256, 3])\n",
      "torch.Size([8, 256, 256, 3])\n",
      "18\n",
      "torch.Size([8, 50, 256, 256, 3])\n",
      "torch.Size([8, 256, 256, 3])\n",
      "19\n",
      "torch.Size([8, 50, 256, 256, 3])\n",
      "torch.Size([8, 256, 256, 3])\n",
      "20\n",
      "torch.Size([8, 50, 256, 256, 3])\n",
      "torch.Size([8, 256, 256, 3])\n",
      "21\n",
      "torch.Size([8, 50, 256, 256, 3])\n",
      "torch.Size([8, 256, 256, 3])\n",
      "22\n",
      "torch.Size([8, 50, 256, 256, 3])\n",
      "torch.Size([8, 256, 256, 3])\n",
      "23\n",
      "torch.Size([8, 50, 256, 256, 3])\n",
      "torch.Size([8, 256, 256, 3])\n",
      "24\n",
      "torch.Size([8, 50, 256, 256, 3])\n",
      "torch.Size([8, 256, 256, 3])\n",
      "25\n",
      "torch.Size([8, 50, 256, 256, 3])\n",
      "torch.Size([8, 256, 256, 3])\n",
      "26\n",
      "torch.Size([4, 50, 256, 256, 3])\n",
      "torch.Size([4, 256, 256, 3])\n"
     ]
    }
   ],
   "source": [
    "for i,data in enumerate(dataloader, 0):\n",
    "    print(i)\n",
    "    print(data[0].shape)\n",
    "    print(data[1].shape)\n",
    "  "
   ]
  },
  {
   "cell_type": "code",
   "execution_count": 20,
   "metadata": {},
   "outputs": [
    {
     "name": "stdout",
     "output_type": "stream",
     "text": [
      "Starting Training Loop...\n",
      "epoch 0\n"
     ]
    },
    {
     "name": "stderr",
     "output_type": "stream",
     "text": [
      "0it [00:00, ?it/s]"
     ]
    },
    {
     "name": "stdout",
     "output_type": "stream",
     "text": [
      "0\n",
      "Discriminator\n",
      "Generator\n",
      "Classify all fake batch with D\n",
      "[0/5][0/27]\tLoss_D: 1.6501\tLoss_G: 100.0000\tD(x): 0.6467\tD(G(z)): 0.6326 / 0.0000\n"
     ]
    },
    {
     "name": "stderr",
     "output_type": "stream",
     "text": [
      "1it [00:25, 25.72s/it]"
     ]
    },
    {
     "name": "stdout",
     "output_type": "stream",
     "text": [
      "1\n",
      "Discriminator\n",
      "Generator\n",
      "Classify all fake batch with D\n"
     ]
    },
    {
     "name": "stderr",
     "output_type": "stream",
     "text": [
      "2it [00:45, 22.48s/it]"
     ]
    },
    {
     "name": "stdout",
     "output_type": "stream",
     "text": [
      "2\n",
      "Discriminator\n",
      "Generator\n",
      "Classify all fake batch with D\n"
     ]
    },
    {
     "name": "stderr",
     "output_type": "stream",
     "text": [
      "3it [01:07, 21.93s/it]"
     ]
    },
    {
     "name": "stdout",
     "output_type": "stream",
     "text": [
      "3\n",
      "Discriminator\n",
      "Generator\n",
      "Classify all fake batch with D\n"
     ]
    },
    {
     "name": "stderr",
     "output_type": "stream",
     "text": [
      "4it [01:31, 22.71s/it]"
     ]
    },
    {
     "name": "stdout",
     "output_type": "stream",
     "text": [
      "4\n",
      "Discriminator\n",
      "Generator\n",
      "Classify all fake batch with D\n"
     ]
    },
    {
     "name": "stderr",
     "output_type": "stream",
     "text": [
      "5it [01:55, 23.19s/it]"
     ]
    },
    {
     "name": "stdout",
     "output_type": "stream",
     "text": [
      "5\n",
      "Discriminator\n",
      "Generator\n",
      "Classify all fake batch with D\n"
     ]
    },
    {
     "name": "stderr",
     "output_type": "stream",
     "text": [
      "6it [02:18, 23.32s/it]"
     ]
    },
    {
     "name": "stdout",
     "output_type": "stream",
     "text": [
      "6\n",
      "Discriminator\n",
      "Generator\n",
      "Classify all fake batch with D\n"
     ]
    },
    {
     "name": "stderr",
     "output_type": "stream",
     "text": [
      "7it [02:42, 23.39s/it]"
     ]
    },
    {
     "name": "stdout",
     "output_type": "stream",
     "text": [
      "7\n",
      "Discriminator\n",
      "Generator\n",
      "Classify all fake batch with D\n"
     ]
    },
    {
     "name": "stderr",
     "output_type": "stream",
     "text": [
      "8it [03:05, 23.44s/it]"
     ]
    },
    {
     "name": "stdout",
     "output_type": "stream",
     "text": [
      "8\n",
      "Discriminator\n",
      "Generator\n",
      "Classify all fake batch with D\n"
     ]
    },
    {
     "name": "stderr",
     "output_type": "stream",
     "text": [
      "9it [03:29, 23.53s/it]"
     ]
    },
    {
     "name": "stdout",
     "output_type": "stream",
     "text": [
      "9\n",
      "Discriminator\n",
      "Generator\n",
      "Classify all fake batch with D\n"
     ]
    },
    {
     "name": "stderr",
     "output_type": "stream",
     "text": [
      "10it [03:53, 23.57s/it]"
     ]
    },
    {
     "name": "stdout",
     "output_type": "stream",
     "text": [
      "10\n",
      "Discriminator\n",
      "Generator\n",
      "Classify all fake batch with D\n"
     ]
    },
    {
     "name": "stderr",
     "output_type": "stream",
     "text": [
      "11it [04:16, 23.59s/it]"
     ]
    },
    {
     "name": "stdout",
     "output_type": "stream",
     "text": [
      "11\n",
      "Discriminator\n",
      "Generator\n",
      "Classify all fake batch with D\n"
     ]
    },
    {
     "name": "stderr",
     "output_type": "stream",
     "text": [
      "12it [04:40, 23.66s/it]"
     ]
    },
    {
     "name": "stdout",
     "output_type": "stream",
     "text": [
      "12\n",
      "Discriminator\n",
      "Generator\n",
      "Classify all fake batch with D\n"
     ]
    },
    {
     "name": "stderr",
     "output_type": "stream",
     "text": [
      "13it [04:59, 22.27s/it]"
     ]
    },
    {
     "name": "stdout",
     "output_type": "stream",
     "text": [
      "13\n",
      "Discriminator\n",
      "Generator\n",
      "Classify all fake batch with D\n"
     ]
    },
    {
     "name": "stderr",
     "output_type": "stream",
     "text": [
      "14it [05:18, 21.28s/it]"
     ]
    },
    {
     "name": "stdout",
     "output_type": "stream",
     "text": [
      "14\n",
      "Discriminator\n",
      "Generator\n",
      "Classify all fake batch with D\n"
     ]
    },
    {
     "name": "stderr",
     "output_type": "stream",
     "text": [
      "15it [05:37, 20.58s/it]"
     ]
    },
    {
     "name": "stdout",
     "output_type": "stream",
     "text": [
      "15\n",
      "Discriminator\n",
      "Generator\n",
      "Classify all fake batch with D\n"
     ]
    },
    {
     "name": "stderr",
     "output_type": "stream",
     "text": [
      "16it [05:57, 20.35s/it]"
     ]
    },
    {
     "name": "stdout",
     "output_type": "stream",
     "text": [
      "16\n",
      "Discriminator\n",
      "Generator\n",
      "Classify all fake batch with D\n"
     ]
    },
    {
     "name": "stderr",
     "output_type": "stream",
     "text": [
      "17it [06:17, 20.22s/it]"
     ]
    },
    {
     "name": "stdout",
     "output_type": "stream",
     "text": [
      "17\n",
      "Discriminator\n",
      "Generator\n",
      "Classify all fake batch with D\n"
     ]
    },
    {
     "name": "stderr",
     "output_type": "stream",
     "text": [
      "18it [06:37, 20.17s/it]"
     ]
    },
    {
     "name": "stdout",
     "output_type": "stream",
     "text": [
      "18\n",
      "Discriminator\n",
      "Generator\n",
      "Classify all fake batch with D\n"
     ]
    },
    {
     "name": "stderr",
     "output_type": "stream",
     "text": [
      "19it [06:57, 20.17s/it]"
     ]
    },
    {
     "name": "stdout",
     "output_type": "stream",
     "text": [
      "19\n",
      "Discriminator\n",
      "Generator\n",
      "Classify all fake batch with D\n"
     ]
    },
    {
     "name": "stderr",
     "output_type": "stream",
     "text": [
      "20it [07:20, 20.96s/it]"
     ]
    },
    {
     "name": "stdout",
     "output_type": "stream",
     "text": [
      "20\n",
      "Discriminator\n",
      "Generator\n",
      "Classify all fake batch with D\n"
     ]
    },
    {
     "name": "stderr",
     "output_type": "stream",
     "text": [
      "21it [07:43, 21.70s/it]"
     ]
    },
    {
     "name": "stdout",
     "output_type": "stream",
     "text": [
      "21\n",
      "Discriminator\n",
      "Generator\n",
      "Classify all fake batch with D\n"
     ]
    },
    {
     "name": "stderr",
     "output_type": "stream",
     "text": [
      "22it [08:07, 22.25s/it]"
     ]
    },
    {
     "name": "stdout",
     "output_type": "stream",
     "text": [
      "22\n",
      "Discriminator\n",
      "Generator\n",
      "Classify all fake batch with D\n"
     ]
    },
    {
     "name": "stderr",
     "output_type": "stream",
     "text": [
      "23it [08:30, 22.43s/it]"
     ]
    },
    {
     "name": "stdout",
     "output_type": "stream",
     "text": [
      "23\n",
      "Discriminator\n",
      "Generator\n",
      "Classify all fake batch with D\n"
     ]
    },
    {
     "name": "stderr",
     "output_type": "stream",
     "text": [
      "24it [08:49, 21.44s/it]"
     ]
    },
    {
     "name": "stdout",
     "output_type": "stream",
     "text": [
      "24\n",
      "Discriminator\n",
      "Generator\n",
      "Classify all fake batch with D\n"
     ]
    },
    {
     "name": "stderr",
     "output_type": "stream",
     "text": [
      "25it [09:09, 20.91s/it]"
     ]
    },
    {
     "name": "stdout",
     "output_type": "stream",
     "text": [
      "25\n",
      "Discriminator\n",
      "Generator\n",
      "Classify all fake batch with D\n"
     ]
    },
    {
     "name": "stderr",
     "output_type": "stream",
     "text": [
      "26it [09:28, 20.55s/it]"
     ]
    },
    {
     "name": "stdout",
     "output_type": "stream",
     "text": [
      "26\n",
      "Discriminator\n",
      "Generator\n",
      "Classify all fake batch with D\n"
     ]
    },
    {
     "name": "stderr",
     "output_type": "stream",
     "text": [
      "27it [09:39, 21.45s/it]\n"
     ]
    },
    {
     "name": "stdout",
     "output_type": "stream",
     "text": [
      "epoch 1\n"
     ]
    },
    {
     "name": "stderr",
     "output_type": "stream",
     "text": [
      "0it [00:00, ?it/s]"
     ]
    },
    {
     "name": "stdout",
     "output_type": "stream",
     "text": [
      "0\n",
      "Discriminator\n",
      "Generator\n",
      "Classify all fake batch with D\n"
     ]
    },
    {
     "name": "stderr",
     "output_type": "stream",
     "text": [
      "1it [00:21, 21.66s/it]"
     ]
    },
    {
     "name": "stdout",
     "output_type": "stream",
     "text": [
      "[1/5][0/27]\tLoss_D: 0.0000\tLoss_G: 67.0323\tD(x): 1.0000\tD(G(z)): 0.0000 / 0.0000\n",
      "1\n",
      "Discriminator\n",
      "Generator\n",
      "Classify all fake batch with D\n"
     ]
    },
    {
     "name": "stderr",
     "output_type": "stream",
     "text": [
      "2it [00:42, 21.41s/it]"
     ]
    },
    {
     "name": "stdout",
     "output_type": "stream",
     "text": [
      "2\n",
      "Discriminator\n",
      "Generator\n",
      "Classify all fake batch with D\n"
     ]
    },
    {
     "name": "stderr",
     "output_type": "stream",
     "text": [
      "3it [01:02, 20.68s/it]"
     ]
    },
    {
     "name": "stdout",
     "output_type": "stream",
     "text": [
      "3\n",
      "Discriminator\n",
      "Generator\n",
      "Classify all fake batch with D\n"
     ]
    },
    {
     "name": "stderr",
     "output_type": "stream",
     "text": [
      "4it [01:22, 20.29s/it]"
     ]
    },
    {
     "name": "stdout",
     "output_type": "stream",
     "text": [
      "4\n",
      "Discriminator\n",
      "Generator\n",
      "Classify all fake batch with D\n"
     ]
    },
    {
     "name": "stderr",
     "output_type": "stream",
     "text": [
      "5it [01:42, 20.16s/it]"
     ]
    },
    {
     "name": "stdout",
     "output_type": "stream",
     "text": [
      "5\n",
      "Discriminator\n",
      "Generator\n",
      "Classify all fake batch with D\n"
     ]
    },
    {
     "name": "stderr",
     "output_type": "stream",
     "text": [
      "6it [02:01, 19.92s/it]"
     ]
    },
    {
     "name": "stdout",
     "output_type": "stream",
     "text": [
      "6\n",
      "Discriminator\n",
      "Generator\n",
      "Classify all fake batch with D\n"
     ]
    },
    {
     "name": "stderr",
     "output_type": "stream",
     "text": [
      "7it [02:20, 19.55s/it]"
     ]
    },
    {
     "name": "stdout",
     "output_type": "stream",
     "text": [
      "7\n",
      "Discriminator\n",
      "Generator\n",
      "Classify all fake batch with D\n"
     ]
    },
    {
     "name": "stderr",
     "output_type": "stream",
     "text": [
      "8it [02:39, 19.30s/it]"
     ]
    },
    {
     "name": "stdout",
     "output_type": "stream",
     "text": [
      "8\n",
      "Discriminator\n",
      "Generator\n",
      "Classify all fake batch with D\n"
     ]
    },
    {
     "name": "stderr",
     "output_type": "stream",
     "text": [
      "9it [02:58, 19.21s/it]"
     ]
    },
    {
     "name": "stdout",
     "output_type": "stream",
     "text": [
      "9\n",
      "Discriminator\n",
      "Generator\n",
      "Classify all fake batch with D\n"
     ]
    },
    {
     "name": "stderr",
     "output_type": "stream",
     "text": [
      "10it [03:16, 18.93s/it]"
     ]
    },
    {
     "name": "stdout",
     "output_type": "stream",
     "text": [
      "10\n",
      "Discriminator\n",
      "Generator\n",
      "Classify all fake batch with D\n"
     ]
    },
    {
     "name": "stderr",
     "output_type": "stream",
     "text": [
      "11it [03:35, 18.76s/it]"
     ]
    },
    {
     "name": "stdout",
     "output_type": "stream",
     "text": [
      "11\n",
      "Discriminator\n",
      "Generator\n",
      "Classify all fake batch with D\n"
     ]
    },
    {
     "name": "stderr",
     "output_type": "stream",
     "text": [
      "12it [03:53, 18.68s/it]"
     ]
    },
    {
     "name": "stdout",
     "output_type": "stream",
     "text": [
      "12\n",
      "Discriminator\n",
      "Generator\n",
      "Classify all fake batch with D\n"
     ]
    },
    {
     "name": "stderr",
     "output_type": "stream",
     "text": [
      "13it [04:12, 18.62s/it]"
     ]
    },
    {
     "name": "stdout",
     "output_type": "stream",
     "text": [
      "13\n",
      "Discriminator\n",
      "Generator\n",
      "Classify all fake batch with D\n"
     ]
    },
    {
     "name": "stderr",
     "output_type": "stream",
     "text": [
      "14it [04:30, 18.51s/it]"
     ]
    },
    {
     "name": "stdout",
     "output_type": "stream",
     "text": [
      "14\n",
      "Discriminator\n",
      "Generator\n",
      "Classify all fake batch with D\n"
     ]
    },
    {
     "name": "stderr",
     "output_type": "stream",
     "text": [
      "15it [04:50, 18.92s/it]"
     ]
    },
    {
     "name": "stdout",
     "output_type": "stream",
     "text": [
      "15\n",
      "Discriminator\n",
      "Generator\n",
      "Classify all fake batch with D\n"
     ]
    },
    {
     "name": "stderr",
     "output_type": "stream",
     "text": [
      "16it [05:12, 19.99s/it]"
     ]
    },
    {
     "name": "stdout",
     "output_type": "stream",
     "text": [
      "16\n",
      "Discriminator\n",
      "Generator\n",
      "Classify all fake batch with D\n"
     ]
    },
    {
     "name": "stderr",
     "output_type": "stream",
     "text": [
      "17it [05:36, 21.07s/it]"
     ]
    },
    {
     "name": "stdout",
     "output_type": "stream",
     "text": [
      "17\n",
      "Discriminator\n",
      "Generator\n",
      "Classify all fake batch with D\n"
     ]
    },
    {
     "name": "stderr",
     "output_type": "stream",
     "text": [
      "18it [05:57, 21.26s/it]"
     ]
    },
    {
     "name": "stdout",
     "output_type": "stream",
     "text": [
      "18\n",
      "Discriminator\n",
      "Generator\n",
      "Classify all fake batch with D\n"
     ]
    },
    {
     "name": "stderr",
     "output_type": "stream",
     "text": [
      "19it [06:19, 21.38s/it]"
     ]
    },
    {
     "name": "stdout",
     "output_type": "stream",
     "text": [
      "19\n",
      "Discriminator\n",
      "Generator\n",
      "Classify all fake batch with D\n"
     ]
    },
    {
     "name": "stderr",
     "output_type": "stream",
     "text": [
      "20it [06:44, 22.30s/it]"
     ]
    },
    {
     "name": "stdout",
     "output_type": "stream",
     "text": [
      "20\n",
      "Discriminator\n",
      "Generator\n",
      "Classify all fake batch with D\n"
     ]
    },
    {
     "name": "stderr",
     "output_type": "stream",
     "text": [
      "21it [07:07, 22.64s/it]"
     ]
    },
    {
     "name": "stdout",
     "output_type": "stream",
     "text": [
      "21\n",
      "Discriminator\n",
      "Generator\n",
      "Classify all fake batch with D\n"
     ]
    },
    {
     "name": "stderr",
     "output_type": "stream",
     "text": [
      "22it [07:30, 22.91s/it]"
     ]
    },
    {
     "name": "stdout",
     "output_type": "stream",
     "text": [
      "22\n",
      "Discriminator\n",
      "Generator\n",
      "Classify all fake batch with D\n"
     ]
    },
    {
     "name": "stderr",
     "output_type": "stream",
     "text": [
      "23it [07:54, 23.18s/it]"
     ]
    },
    {
     "name": "stdout",
     "output_type": "stream",
     "text": [
      "23\n",
      "Discriminator\n",
      "Generator\n",
      "Classify all fake batch with D\n"
     ]
    },
    {
     "name": "stderr",
     "output_type": "stream",
     "text": [
      "24it [08:18, 23.28s/it]"
     ]
    },
    {
     "name": "stdout",
     "output_type": "stream",
     "text": [
      "24\n",
      "Discriminator\n",
      "Generator\n",
      "Classify all fake batch with D\n"
     ]
    },
    {
     "name": "stderr",
     "output_type": "stream",
     "text": [
      "25it [08:41, 23.34s/it]"
     ]
    },
    {
     "name": "stdout",
     "output_type": "stream",
     "text": [
      "25\n",
      "Discriminator\n",
      "Generator\n",
      "Classify all fake batch with D\n"
     ]
    },
    {
     "name": "stderr",
     "output_type": "stream",
     "text": [
      "26it [09:05, 23.37s/it]"
     ]
    },
    {
     "name": "stdout",
     "output_type": "stream",
     "text": [
      "26\n",
      "Discriminator\n",
      "Generator\n",
      "Classify all fake batch with D\n"
     ]
    },
    {
     "name": "stderr",
     "output_type": "stream",
     "text": [
      "27it [09:17, 20.64s/it]\n"
     ]
    },
    {
     "name": "stdout",
     "output_type": "stream",
     "text": [
      "epoch 2\n"
     ]
    },
    {
     "name": "stderr",
     "output_type": "stream",
     "text": [
      "0it [00:00, ?it/s]"
     ]
    },
    {
     "name": "stdout",
     "output_type": "stream",
     "text": [
      "0\n",
      "Discriminator\n",
      "Generator\n",
      "Classify all fake batch with D\n"
     ]
    },
    {
     "name": "stderr",
     "output_type": "stream",
     "text": [
      "1it [00:24, 24.62s/it]"
     ]
    },
    {
     "name": "stdout",
     "output_type": "stream",
     "text": [
      "[2/5][0/27]\tLoss_D: 0.0000\tLoss_G: 66.2370\tD(x): 1.0000\tD(G(z)): 0.0000 / 0.0000\n",
      "1\n",
      "Discriminator\n",
      "Generator\n",
      "Classify all fake batch with D\n"
     ]
    },
    {
     "name": "stderr",
     "output_type": "stream",
     "text": [
      "2it [00:48, 24.04s/it]"
     ]
    },
    {
     "name": "stdout",
     "output_type": "stream",
     "text": [
      "2\n",
      "Discriminator\n",
      "Generator\n",
      "Classify all fake batch with D\n"
     ]
    },
    {
     "name": "stderr",
     "output_type": "stream",
     "text": [
      "3it [01:11, 23.75s/it]"
     ]
    },
    {
     "name": "stdout",
     "output_type": "stream",
     "text": [
      "3\n",
      "Discriminator\n",
      "Generator\n",
      "Classify all fake batch with D\n"
     ]
    },
    {
     "name": "stderr",
     "output_type": "stream",
     "text": [
      "4it [01:35, 23.69s/it]"
     ]
    },
    {
     "name": "stdout",
     "output_type": "stream",
     "text": [
      "4\n",
      "Discriminator\n",
      "Generator\n",
      "Classify all fake batch with D\n"
     ]
    },
    {
     "name": "stderr",
     "output_type": "stream",
     "text": [
      "5it [01:58, 23.66s/it]"
     ]
    },
    {
     "name": "stdout",
     "output_type": "stream",
     "text": [
      "5\n",
      "Discriminator\n",
      "Generator\n",
      "Classify all fake batch with D\n"
     ]
    },
    {
     "name": "stderr",
     "output_type": "stream",
     "text": [
      "6it [02:22, 23.71s/it]"
     ]
    },
    {
     "name": "stdout",
     "output_type": "stream",
     "text": [
      "6\n",
      "Discriminator\n",
      "Generator\n",
      "Classify all fake batch with D\n"
     ]
    },
    {
     "name": "stderr",
     "output_type": "stream",
     "text": [
      "7it [02:46, 23.61s/it]"
     ]
    },
    {
     "name": "stdout",
     "output_type": "stream",
     "text": [
      "7\n",
      "Discriminator\n",
      "Generator\n",
      "Classify all fake batch with D\n"
     ]
    },
    {
     "name": "stderr",
     "output_type": "stream",
     "text": [
      "8it [03:09, 23.60s/it]"
     ]
    },
    {
     "name": "stdout",
     "output_type": "stream",
     "text": [
      "8\n",
      "Discriminator\n",
      "Generator\n",
      "Classify all fake batch with D\n"
     ]
    },
    {
     "name": "stderr",
     "output_type": "stream",
     "text": [
      "9it [03:33, 23.66s/it]"
     ]
    },
    {
     "name": "stdout",
     "output_type": "stream",
     "text": [
      "9\n",
      "Discriminator\n",
      "Generator\n",
      "Classify all fake batch with D\n"
     ]
    },
    {
     "name": "stderr",
     "output_type": "stream",
     "text": [
      "10it [03:57, 23.64s/it]"
     ]
    },
    {
     "name": "stdout",
     "output_type": "stream",
     "text": [
      "10\n",
      "Discriminator\n",
      "Generator\n",
      "Classify all fake batch with D\n"
     ]
    },
    {
     "name": "stderr",
     "output_type": "stream",
     "text": [
      "11it [04:20, 23.63s/it]"
     ]
    },
    {
     "name": "stdout",
     "output_type": "stream",
     "text": [
      "11\n",
      "Discriminator\n",
      "Generator\n",
      "Classify all fake batch with D\n"
     ]
    },
    {
     "name": "stderr",
     "output_type": "stream",
     "text": [
      "12it [04:44, 23.57s/it]"
     ]
    },
    {
     "name": "stdout",
     "output_type": "stream",
     "text": [
      "12\n",
      "Discriminator\n",
      "Generator\n",
      "Classify all fake batch with D\n"
     ]
    },
    {
     "name": "stderr",
     "output_type": "stream",
     "text": [
      "13it [05:06, 23.20s/it]"
     ]
    },
    {
     "name": "stdout",
     "output_type": "stream",
     "text": [
      "13\n",
      "Discriminator\n",
      "Generator\n",
      "Classify all fake batch with D\n"
     ]
    },
    {
     "name": "stderr",
     "output_type": "stream",
     "text": [
      "14it [05:30, 23.33s/it]"
     ]
    },
    {
     "name": "stdout",
     "output_type": "stream",
     "text": [
      "14\n",
      "Discriminator\n",
      "Generator\n",
      "Classify all fake batch with D\n"
     ]
    },
    {
     "name": "stderr",
     "output_type": "stream",
     "text": [
      "15it [05:51, 22.64s/it]"
     ]
    },
    {
     "name": "stdout",
     "output_type": "stream",
     "text": [
      "15\n",
      "Discriminator\n",
      "Generator\n",
      "Classify all fake batch with D\n"
     ]
    },
    {
     "name": "stderr",
     "output_type": "stream",
     "text": [
      "16it [06:11, 21.92s/it]"
     ]
    },
    {
     "name": "stdout",
     "output_type": "stream",
     "text": [
      "16\n",
      "Discriminator\n",
      "Generator\n",
      "Classify all fake batch with D\n"
     ]
    },
    {
     "name": "stderr",
     "output_type": "stream",
     "text": [
      "17it [06:31, 21.38s/it]"
     ]
    },
    {
     "name": "stdout",
     "output_type": "stream",
     "text": [
      "17\n",
      "Discriminator\n",
      "Generator\n",
      "Classify all fake batch with D\n"
     ]
    },
    {
     "name": "stderr",
     "output_type": "stream",
     "text": [
      "18it [06:52, 21.29s/it]"
     ]
    },
    {
     "name": "stdout",
     "output_type": "stream",
     "text": [
      "18\n",
      "Discriminator\n",
      "Generator\n",
      "Classify all fake batch with D\n"
     ]
    },
    {
     "name": "stderr",
     "output_type": "stream",
     "text": [
      "19it [07:14, 21.48s/it]"
     ]
    },
    {
     "name": "stdout",
     "output_type": "stream",
     "text": [
      "19\n",
      "Discriminator\n",
      "Generator\n",
      "Classify all fake batch with D\n"
     ]
    },
    {
     "name": "stderr",
     "output_type": "stream",
     "text": [
      "20it [07:37, 21.95s/it]"
     ]
    },
    {
     "name": "stdout",
     "output_type": "stream",
     "text": [
      "20\n",
      "Discriminator\n",
      "Generator\n",
      "Classify all fake batch with D\n"
     ]
    },
    {
     "name": "stderr",
     "output_type": "stream",
     "text": [
      "21it [07:59, 22.08s/it]"
     ]
    },
    {
     "name": "stdout",
     "output_type": "stream",
     "text": [
      "21\n",
      "Discriminator\n",
      "Generator\n",
      "Classify all fake batch with D\n"
     ]
    },
    {
     "name": "stderr",
     "output_type": "stream",
     "text": [
      "22it [08:20, 21.71s/it]"
     ]
    },
    {
     "name": "stdout",
     "output_type": "stream",
     "text": [
      "22\n",
      "Discriminator\n",
      "Generator\n",
      "Classify all fake batch with D\n"
     ]
    },
    {
     "name": "stderr",
     "output_type": "stream",
     "text": [
      "23it [08:41, 21.53s/it]"
     ]
    },
    {
     "name": "stdout",
     "output_type": "stream",
     "text": [
      "23\n",
      "Discriminator\n",
      "Generator\n",
      "Classify all fake batch with D\n"
     ]
    },
    {
     "name": "stderr",
     "output_type": "stream",
     "text": [
      "24it [09:00, 20.68s/it]"
     ]
    },
    {
     "name": "stdout",
     "output_type": "stream",
     "text": [
      "24\n",
      "Discriminator\n",
      "Generator\n",
      "Classify all fake batch with D\n"
     ]
    },
    {
     "name": "stderr",
     "output_type": "stream",
     "text": [
      "25it [09:18, 19.92s/it]"
     ]
    },
    {
     "name": "stdout",
     "output_type": "stream",
     "text": [
      "25\n",
      "Discriminator\n",
      "Generator\n",
      "Classify all fake batch with D\n"
     ]
    },
    {
     "name": "stderr",
     "output_type": "stream",
     "text": [
      "26it [09:36, 19.41s/it]"
     ]
    },
    {
     "name": "stdout",
     "output_type": "stream",
     "text": [
      "26\n",
      "Discriminator\n",
      "Generator\n",
      "Classify all fake batch with D\n"
     ]
    },
    {
     "name": "stderr",
     "output_type": "stream",
     "text": [
      "27it [09:46, 21.73s/it]\n"
     ]
    },
    {
     "name": "stdout",
     "output_type": "stream",
     "text": [
      "epoch 3\n"
     ]
    },
    {
     "name": "stderr",
     "output_type": "stream",
     "text": [
      "0it [00:00, ?it/s]"
     ]
    },
    {
     "name": "stdout",
     "output_type": "stream",
     "text": [
      "0\n",
      "Discriminator\n",
      "Generator\n",
      "Classify all fake batch with D\n"
     ]
    },
    {
     "name": "stderr",
     "output_type": "stream",
     "text": [
      "1it [00:19, 19.77s/it]"
     ]
    },
    {
     "name": "stdout",
     "output_type": "stream",
     "text": [
      "[3/5][0/27]\tLoss_D: 0.0000\tLoss_G: 67.4526\tD(x): 1.0000\tD(G(z)): 0.0000 / 0.0000\n",
      "1\n",
      "Discriminator\n",
      "Generator\n",
      "Classify all fake batch with D\n"
     ]
    },
    {
     "name": "stderr",
     "output_type": "stream",
     "text": [
      "2it [00:37, 18.83s/it]"
     ]
    },
    {
     "name": "stdout",
     "output_type": "stream",
     "text": [
      "2\n",
      "Discriminator\n",
      "Generator\n",
      "Classify all fake batch with D\n"
     ]
    },
    {
     "name": "stderr",
     "output_type": "stream",
     "text": [
      "3it [00:56, 18.53s/it]"
     ]
    },
    {
     "name": "stdout",
     "output_type": "stream",
     "text": [
      "3\n",
      "Discriminator\n",
      "Generator\n",
      "Classify all fake batch with D\n"
     ]
    },
    {
     "name": "stderr",
     "output_type": "stream",
     "text": [
      "4it [01:14, 18.50s/it]"
     ]
    },
    {
     "name": "stdout",
     "output_type": "stream",
     "text": [
      "4\n",
      "Discriminator\n",
      "Generator\n",
      "Classify all fake batch with D\n"
     ]
    },
    {
     "name": "stderr",
     "output_type": "stream",
     "text": [
      "5it [01:33, 18.51s/it]"
     ]
    },
    {
     "name": "stdout",
     "output_type": "stream",
     "text": [
      "5\n",
      "Discriminator\n",
      "Generator\n",
      "Classify all fake batch with D\n"
     ]
    },
    {
     "name": "stderr",
     "output_type": "stream",
     "text": [
      "6it [01:56, 20.13s/it]"
     ]
    },
    {
     "name": "stdout",
     "output_type": "stream",
     "text": [
      "6\n",
      "Discriminator\n",
      "Generator\n",
      "Classify all fake batch with D\n"
     ]
    },
    {
     "name": "stderr",
     "output_type": "stream",
     "text": [
      "7it [02:19, 21.17s/it]"
     ]
    },
    {
     "name": "stdout",
     "output_type": "stream",
     "text": [
      "7\n",
      "Discriminator\n",
      "Generator\n",
      "Classify all fake batch with D\n"
     ]
    },
    {
     "name": "stderr",
     "output_type": "stream",
     "text": [
      "8it [02:42, 21.84s/it]"
     ]
    },
    {
     "name": "stdout",
     "output_type": "stream",
     "text": [
      "8\n",
      "Discriminator\n",
      "Generator\n",
      "Classify all fake batch with D\n"
     ]
    },
    {
     "name": "stderr",
     "output_type": "stream",
     "text": [
      "9it [03:06, 22.25s/it]"
     ]
    },
    {
     "name": "stdout",
     "output_type": "stream",
     "text": [
      "9\n",
      "Discriminator\n",
      "Generator\n",
      "Classify all fake batch with D\n"
     ]
    },
    {
     "name": "stderr",
     "output_type": "stream",
     "text": [
      "10it [03:29, 22.63s/it]"
     ]
    },
    {
     "name": "stdout",
     "output_type": "stream",
     "text": [
      "10\n",
      "Discriminator\n",
      "Generator\n",
      "Classify all fake batch with D\n"
     ]
    },
    {
     "name": "stderr",
     "output_type": "stream",
     "text": [
      "11it [03:52, 22.83s/it]"
     ]
    },
    {
     "name": "stdout",
     "output_type": "stream",
     "text": [
      "11\n",
      "Discriminator\n",
      "Generator\n",
      "Classify all fake batch with D\n"
     ]
    },
    {
     "name": "stderr",
     "output_type": "stream",
     "text": [
      "12it [04:16, 22.94s/it]"
     ]
    },
    {
     "name": "stdout",
     "output_type": "stream",
     "text": [
      "12\n",
      "Discriminator\n",
      "Generator\n",
      "Classify all fake batch with D\n"
     ]
    },
    {
     "name": "stderr",
     "output_type": "stream",
     "text": [
      "13it [04:39, 23.00s/it]"
     ]
    },
    {
     "name": "stdout",
     "output_type": "stream",
     "text": [
      "13\n",
      "Discriminator\n",
      "Generator\n",
      "Classify all fake batch with D\n"
     ]
    },
    {
     "name": "stderr",
     "output_type": "stream",
     "text": [
      "14it [05:02, 23.12s/it]"
     ]
    },
    {
     "name": "stdout",
     "output_type": "stream",
     "text": [
      "14\n",
      "Discriminator\n",
      "Generator\n",
      "Classify all fake batch with D\n"
     ]
    },
    {
     "name": "stderr",
     "output_type": "stream",
     "text": [
      "15it [05:25, 23.17s/it]"
     ]
    },
    {
     "name": "stdout",
     "output_type": "stream",
     "text": [
      "15\n",
      "Discriminator\n",
      "Generator\n",
      "Classify all fake batch with D\n"
     ]
    },
    {
     "name": "stderr",
     "output_type": "stream",
     "text": [
      "16it [05:49, 23.18s/it]"
     ]
    },
    {
     "name": "stdout",
     "output_type": "stream",
     "text": [
      "16\n",
      "Discriminator\n",
      "Generator\n",
      "Classify all fake batch with D\n"
     ]
    },
    {
     "name": "stderr",
     "output_type": "stream",
     "text": [
      "17it [06:12, 23.21s/it]"
     ]
    },
    {
     "name": "stdout",
     "output_type": "stream",
     "text": [
      "17\n",
      "Discriminator\n",
      "Generator\n",
      "Classify all fake batch with D\n"
     ]
    },
    {
     "name": "stderr",
     "output_type": "stream",
     "text": [
      "18it [06:35, 23.26s/it]"
     ]
    },
    {
     "name": "stdout",
     "output_type": "stream",
     "text": [
      "18\n",
      "Discriminator\n",
      "Generator\n",
      "Classify all fake batch with D\n"
     ]
    },
    {
     "name": "stderr",
     "output_type": "stream",
     "text": [
      "19it [06:59, 23.27s/it]"
     ]
    },
    {
     "name": "stdout",
     "output_type": "stream",
     "text": [
      "19\n",
      "Discriminator\n",
      "Generator\n",
      "Classify all fake batch with D\n"
     ]
    },
    {
     "name": "stderr",
     "output_type": "stream",
     "text": [
      "20it [07:23, 23.70s/it]"
     ]
    },
    {
     "name": "stdout",
     "output_type": "stream",
     "text": [
      "20\n",
      "Discriminator\n",
      "Generator\n",
      "Classify all fake batch with D\n"
     ]
    },
    {
     "name": "stderr",
     "output_type": "stream",
     "text": [
      "21it [07:47, 23.58s/it]"
     ]
    },
    {
     "name": "stdout",
     "output_type": "stream",
     "text": [
      "21\n",
      "Discriminator\n",
      "Generator\n",
      "Classify all fake batch with D\n"
     ]
    },
    {
     "name": "stderr",
     "output_type": "stream",
     "text": [
      "22it [08:10, 23.49s/it]"
     ]
    },
    {
     "name": "stdout",
     "output_type": "stream",
     "text": [
      "22\n",
      "Discriminator\n",
      "Generator\n",
      "Classify all fake batch with D\n"
     ]
    },
    {
     "name": "stderr",
     "output_type": "stream",
     "text": [
      "23it [08:33, 23.47s/it]"
     ]
    },
    {
     "name": "stdout",
     "output_type": "stream",
     "text": [
      "23\n",
      "Discriminator\n",
      "Generator\n",
      "Classify all fake batch with D\n"
     ]
    },
    {
     "name": "stderr",
     "output_type": "stream",
     "text": [
      "24it [08:57, 23.43s/it]"
     ]
    },
    {
     "name": "stdout",
     "output_type": "stream",
     "text": [
      "24\n",
      "Discriminator\n",
      "Generator\n",
      "Classify all fake batch with D\n"
     ]
    },
    {
     "name": "stderr",
     "output_type": "stream",
     "text": [
      "25it [09:20, 23.43s/it]"
     ]
    },
    {
     "name": "stdout",
     "output_type": "stream",
     "text": [
      "25\n",
      "Discriminator\n",
      "Generator\n",
      "Classify all fake batch with D\n"
     ]
    },
    {
     "name": "stderr",
     "output_type": "stream",
     "text": [
      "26it [09:43, 23.33s/it]"
     ]
    },
    {
     "name": "stdout",
     "output_type": "stream",
     "text": [
      "26\n",
      "Discriminator\n",
      "Generator\n",
      "Classify all fake batch with D\n"
     ]
    },
    {
     "name": "stderr",
     "output_type": "stream",
     "text": [
      "27it [09:55, 22.05s/it]\n"
     ]
    },
    {
     "name": "stdout",
     "output_type": "stream",
     "text": [
      "epoch 4\n"
     ]
    },
    {
     "name": "stderr",
     "output_type": "stream",
     "text": [
      "0it [00:00, ?it/s]"
     ]
    },
    {
     "name": "stdout",
     "output_type": "stream",
     "text": [
      "0\n",
      "Discriminator\n",
      "Generator\n",
      "Classify all fake batch with D\n"
     ]
    },
    {
     "name": "stderr",
     "output_type": "stream",
     "text": [
      "1it [00:24, 24.56s/it]"
     ]
    },
    {
     "name": "stdout",
     "output_type": "stream",
     "text": [
      "[4/5][0/27]\tLoss_D: 0.0000\tLoss_G: 67.6028\tD(x): 1.0000\tD(G(z)): 0.0000 / 0.0000\n",
      "1\n",
      "Discriminator\n",
      "Generator\n",
      "Classify all fake batch with D\n"
     ]
    },
    {
     "name": "stderr",
     "output_type": "stream",
     "text": [
      "2it [00:47, 23.77s/it]"
     ]
    },
    {
     "name": "stdout",
     "output_type": "stream",
     "text": [
      "2\n",
      "Discriminator\n",
      "Generator\n",
      "Classify all fake batch with D\n"
     ]
    },
    {
     "name": "stderr",
     "output_type": "stream",
     "text": [
      "3it [01:11, 23.53s/it]"
     ]
    },
    {
     "name": "stdout",
     "output_type": "stream",
     "text": [
      "3\n",
      "Discriminator\n",
      "Generator\n",
      "Classify all fake batch with D\n"
     ]
    },
    {
     "name": "stderr",
     "output_type": "stream",
     "text": [
      "4it [01:34, 23.37s/it]"
     ]
    },
    {
     "name": "stdout",
     "output_type": "stream",
     "text": [
      "4\n",
      "Discriminator\n",
      "Generator\n",
      "Classify all fake batch with D\n"
     ]
    },
    {
     "name": "stderr",
     "output_type": "stream",
     "text": [
      "5it [01:57, 23.38s/it]"
     ]
    },
    {
     "name": "stdout",
     "output_type": "stream",
     "text": [
      "5\n",
      "Discriminator\n",
      "Generator\n",
      "Classify all fake batch with D\n"
     ]
    },
    {
     "name": "stderr",
     "output_type": "stream",
     "text": [
      "6it [02:20, 23.37s/it]"
     ]
    },
    {
     "name": "stdout",
     "output_type": "stream",
     "text": [
      "6\n",
      "Discriminator\n",
      "Generator\n",
      "Classify all fake batch with D\n"
     ]
    },
    {
     "name": "stderr",
     "output_type": "stream",
     "text": [
      "7it [02:44, 23.33s/it]"
     ]
    },
    {
     "name": "stdout",
     "output_type": "stream",
     "text": [
      "7\n",
      "Discriminator\n",
      "Generator\n",
      "Classify all fake batch with D\n"
     ]
    },
    {
     "name": "stderr",
     "output_type": "stream",
     "text": [
      "8it [03:07, 23.31s/it]"
     ]
    },
    {
     "name": "stdout",
     "output_type": "stream",
     "text": [
      "8\n",
      "Discriminator\n",
      "Generator\n",
      "Classify all fake batch with D\n"
     ]
    },
    {
     "name": "stderr",
     "output_type": "stream",
     "text": [
      "9it [03:30, 23.33s/it]"
     ]
    },
    {
     "name": "stdout",
     "output_type": "stream",
     "text": [
      "9\n",
      "Discriminator\n",
      "Generator\n",
      "Classify all fake batch with D\n"
     ]
    },
    {
     "name": "stderr",
     "output_type": "stream",
     "text": [
      "10it [03:54, 23.34s/it]"
     ]
    },
    {
     "name": "stdout",
     "output_type": "stream",
     "text": [
      "10\n",
      "Discriminator\n",
      "Generator\n",
      "Classify all fake batch with D\n"
     ]
    },
    {
     "name": "stderr",
     "output_type": "stream",
     "text": [
      "11it [04:17, 23.37s/it]"
     ]
    },
    {
     "name": "stdout",
     "output_type": "stream",
     "text": [
      "11\n",
      "Discriminator\n",
      "Generator\n",
      "Classify all fake batch with D\n"
     ]
    },
    {
     "name": "stderr",
     "output_type": "stream",
     "text": [
      "12it [04:41, 23.39s/it]"
     ]
    },
    {
     "name": "stdout",
     "output_type": "stream",
     "text": [
      "12\n",
      "Discriminator\n",
      "Generator\n",
      "Classify all fake batch with D\n"
     ]
    },
    {
     "name": "stderr",
     "output_type": "stream",
     "text": [
      "13it [05:04, 23.38s/it]"
     ]
    },
    {
     "name": "stdout",
     "output_type": "stream",
     "text": [
      "13\n",
      "Discriminator\n",
      "Generator\n",
      "Classify all fake batch with D\n"
     ]
    },
    {
     "name": "stderr",
     "output_type": "stream",
     "text": [
      "14it [05:27, 23.33s/it]"
     ]
    },
    {
     "name": "stdout",
     "output_type": "stream",
     "text": [
      "14\n",
      "Discriminator\n",
      "Generator\n",
      "Classify all fake batch with D\n"
     ]
    },
    {
     "name": "stderr",
     "output_type": "stream",
     "text": [
      "15it [05:50, 23.36s/it]"
     ]
    },
    {
     "name": "stdout",
     "output_type": "stream",
     "text": [
      "15\n",
      "Discriminator\n",
      "Generator\n",
      "Classify all fake batch with D\n"
     ]
    },
    {
     "name": "stderr",
     "output_type": "stream",
     "text": [
      "16it [06:14, 23.31s/it]"
     ]
    },
    {
     "name": "stdout",
     "output_type": "stream",
     "text": [
      "16\n",
      "Discriminator\n",
      "Generator\n",
      "Classify all fake batch with D\n"
     ]
    },
    {
     "name": "stderr",
     "output_type": "stream",
     "text": [
      "17it [06:37, 23.33s/it]"
     ]
    },
    {
     "name": "stdout",
     "output_type": "stream",
     "text": [
      "17\n",
      "Discriminator\n",
      "Generator\n",
      "Classify all fake batch with D\n"
     ]
    },
    {
     "name": "stderr",
     "output_type": "stream",
     "text": [
      "18it [07:00, 23.32s/it]"
     ]
    },
    {
     "name": "stdout",
     "output_type": "stream",
     "text": [
      "18\n",
      "Discriminator\n",
      "Generator\n",
      "Classify all fake batch with D\n"
     ]
    },
    {
     "name": "stderr",
     "output_type": "stream",
     "text": [
      "19it [07:24, 23.32s/it]"
     ]
    },
    {
     "name": "stdout",
     "output_type": "stream",
     "text": [
      "19\n",
      "Discriminator\n",
      "Generator\n",
      "Classify all fake batch with D\n"
     ]
    },
    {
     "name": "stderr",
     "output_type": "stream",
     "text": [
      "20it [07:47, 23.30s/it]"
     ]
    },
    {
     "name": "stdout",
     "output_type": "stream",
     "text": [
      "20\n",
      "Discriminator\n",
      "Generator\n",
      "Classify all fake batch with D\n"
     ]
    },
    {
     "name": "stderr",
     "output_type": "stream",
     "text": [
      "21it [08:10, 23.33s/it]"
     ]
    },
    {
     "name": "stdout",
     "output_type": "stream",
     "text": [
      "21\n",
      "Discriminator\n",
      "Generator\n",
      "Classify all fake batch with D\n"
     ]
    },
    {
     "name": "stderr",
     "output_type": "stream",
     "text": [
      "22it [08:34, 23.31s/it]"
     ]
    },
    {
     "name": "stdout",
     "output_type": "stream",
     "text": [
      "22\n",
      "Discriminator\n",
      "Generator\n",
      "Classify all fake batch with D\n"
     ]
    },
    {
     "name": "stderr",
     "output_type": "stream",
     "text": [
      "23it [08:57, 23.35s/it]"
     ]
    },
    {
     "name": "stdout",
     "output_type": "stream",
     "text": [
      "23\n",
      "Discriminator\n",
      "Generator\n",
      "Classify all fake batch with D\n"
     ]
    },
    {
     "name": "stderr",
     "output_type": "stream",
     "text": [
      "24it [09:20, 23.37s/it]"
     ]
    },
    {
     "name": "stdout",
     "output_type": "stream",
     "text": [
      "24\n",
      "Discriminator\n",
      "Generator\n",
      "Classify all fake batch with D\n"
     ]
    },
    {
     "name": "stderr",
     "output_type": "stream",
     "text": [
      "25it [09:44, 23.41s/it]"
     ]
    },
    {
     "name": "stdout",
     "output_type": "stream",
     "text": [
      "25\n",
      "Discriminator\n",
      "Generator\n",
      "Classify all fake batch with D\n"
     ]
    },
    {
     "name": "stderr",
     "output_type": "stream",
     "text": [
      "26it [10:07, 23.33s/it]"
     ]
    },
    {
     "name": "stdout",
     "output_type": "stream",
     "text": [
      "26\n",
      "Discriminator\n",
      "Generator\n",
      "Classify all fake batch with D\n"
     ]
    },
    {
     "name": "stderr",
     "output_type": "stream",
     "text": [
      "27it [10:20, 23.00s/it]\n"
     ]
    }
   ],
   "source": [
    "# Training Loop\n",
    "\n",
    "# Lists to keep track of progress\n",
    "img_list = []\n",
    "G_losses = []\n",
    "D_losses = []\n",
    "iters = 0\n",
    "# around 10 mins per epoch\n",
    "\n",
    "print(\"Starting Training Loop...\")\n",
    "# For each epoch\n",
    "for epoch in range(num_epochs):\n",
    "    # For each batch in the dataloader\n",
    "    print(f'epoch {epoch}')\n",
    "    for i, data in tqdm(enumerate(dataloader, 0)):\n",
    "        print(i)\n",
    "        \n",
    "        try:\n",
    "            ############################\n",
    "            # (1) Update D network: maximize log(D(x)) + log(1 - D(G(z)))\n",
    "            ###########################\n",
    "            ## Train with all-real batch\n",
    "            netD.zero_grad()\n",
    "            # Format batch\n",
    "            # batch, depth, height, width, rgb\n",
    "            real_cpu_a = data[0].float().to(device)\n",
    "            # batch, rgb, depth, height, width\n",
    "            real_cpu = real_cpu_a.permute(0, 4, 1, 2, 3)\n",
    "            # batch size\n",
    "            b_size = real_cpu.size(0)\n",
    "            label = torch.full((b_size,), real_label, dtype=torch.float, device=device)\n",
    "            # Forward pass real batch through D\n",
    "            print('Discriminator')\n",
    "            # batch, rgb, depth,height, width\n",
    "            output = netD(real_cpu).view(-1)\n",
    "            # Calculate loss on all-real batch bvNC|\n",
    "            errD_real = criterion(output, label)\n",
    "            # Calculate gradients for D in backward pass\n",
    "            errD_real.backward()\n",
    "            D_x = output.mean().item()\n",
    "\n",
    "            ## Train with all-fake batch\n",
    "            # Generate batch of latent vectors\n",
    "            noise = torch.randn(b_size, nz, 1, 1, 1, device=device)\n",
    "            # Generate fake image batch with G\n",
    "            print('Generator')\n",
    "            # batch, rgb, height, width, depth\n",
    "            fake = netG(noise)\n",
    "            # batch, rgb, depth,height, width\n",
    "            fake = fake.permute(0, 1, 4, 2, 3)\n",
    "            label.fill_(fake_label)\n",
    "            # Classify all fake batch with D\n",
    "            print('Classify all fake batch with D')\n",
    "             # batch, rgb, depth,height, width\n",
    "            output = netD(fake.detach()).view(-1)\n",
    "            # Calculate D's loss on the all-fake batch\n",
    "            errD_fake = criterion(output, label)\n",
    "            # Calculate the gradients for this batch, accumulated (summed) with previous gradients\n",
    "            errD_fake.backward()\n",
    "            D_G_z1 = output.mean().item()\n",
    "            # Compute error of D as sum over the fake and the real batches\n",
    "            errD = errD_real + errD_fake\n",
    "            # Update D\n",
    "            optimizerD.step()\n",
    "\n",
    "            ############################\n",
    "            # (2) Update G network: maximize log(D(G(z)))\n",
    "            ###########################\n",
    "            netG.zero_grad()\n",
    "            label.fill_(real_label)  # fake labels are real for generator cost\n",
    "            # Since we just updated D, perform another forward pass of all-fake batch through D\n",
    "            output = netD(fake).view(-1)\n",
    "            # Calculate G's loss based on this output\n",
    "            errG = criterion(output, label)\n",
    "            # Calculate gradients for G\n",
    "            errG.backward()\n",
    "            D_G_z2 = output.mean().item()\n",
    "            # Update G\n",
    "            optimizerG.step()\n",
    "\n",
    "            # Output training stats\n",
    "            if i % 50 == 0:\n",
    "                print('[%d/%d][%d/%d]\\tLoss_D: %.4f\\tLoss_G: %.4f\\tD(x): %.4f\\tD(G(z)): %.4f / %.4f'\n",
    "                    % (epoch, num_epochs, i, len(dataloader),\n",
    "                        errD.item(), errG.item(), D_x, D_G_z1, D_G_z2))\n",
    "\n",
    "            # Save Losses for plotting later\n",
    "            G_losses.append(errG.item())\n",
    "            D_losses.append(errD.item())\n",
    "\n",
    "            # Check how the generator is doing by saving G's output on fixed_noise\n",
    "            if (iters % 100 == 0) or ((epoch == num_epochs-1) and (i == len(dataloader)-1)):\n",
    "                with torch.no_grad():\n",
    "                    fake = netG(fixed_noise).detach().cpu()\n",
    "                    fake_sliced = fake[:, :, :, :, 0]  # takes the first frame from each video\n",
    "                img_list.append(vutils.make_grid(fake_sliced, padding=2, normalize=True))\n",
    "\n",
    "            iters += 1\n",
    "        \n",
    "        except RuntimeError as e:\n",
    "        \n",
    "            # visualise current frame\n",
    "           \n",
    "            print(np.shape(real_cpu))\n",
    "            plt.imshow(np.transpose(vutils.make_grid(real_cpu, padding=2, normalize=True).cpu(),(1,2,0)))\n",
    "            traceback.print_exc()"
   ]
  },
  {
   "cell_type": "code",
   "execution_count": 21,
   "metadata": {},
   "outputs": [
    {
     "data": {
      "text/plain": "torch.Size([8, 3, 256, 256])"
     },
     "execution_count": 21,
     "metadata": {},
     "output_type": "execute_result"
    }
   ],
   "source": [
    "np.shape(fake_sliced)"
   ]
  },
  {
   "cell_type": "code",
   "execution_count": 22,
   "metadata": {},
   "outputs": [
    {
     "data": {
      "text/plain": "(3, 3, 260, 2066)"
     },
     "execution_count": 22,
     "metadata": {},
     "output_type": "execute_result"
    }
   ],
   "source": [
    "np.shape(img_list)"
   ]
  },
  {
   "cell_type": "code",
   "execution_count": 23,
   "metadata": {},
   "outputs": [
    {
     "data": {
      "text/plain": "100"
     },
     "execution_count": 23,
     "metadata": {},
     "output_type": "execute_result"
    }
   ],
   "source": [
    "nz"
   ]
  },
  {
   "cell_type": "code",
   "execution_count": 24,
   "metadata": {},
   "outputs": [
    {
     "data": {
      "text/plain": "<Figure size 1000x500 with 1 Axes>",
      "image/png": "[encoded data removed]"
     },
     "metadata": {},
     "output_type": "display_data"
    }
   ],
   "source": [
    "plt.figure(figsize=(10,5))\n",
    "plt.title(\"Generator and Discriminator Loss During Training\")\n",
    "plt.plot(G_losses,label=\"G\")\n",
    "plt.plot(D_losses,label=\"D\")\n",
    "plt.xlabel(\"iterations\")\n",
    "plt.ylabel(\"Loss\")\n",
    "plt.legend()\n",
    "plt.show()"
   ]
  },
  {
   "cell_type": "code",
   "execution_count": 25,
   "outputs": [
    {
     "data": {
      "text/plain": "<IPython.core.display.HTML object>",
      "text/html": "\n<link rel=\"stylesheet\"\nhref=\"https://maxcdn.bootstrapcdn.com/font-awesome/4.4.0/css/font-awesome.min.css\">\n<script language=\"javascript\">\n  function isInternetExplorer() {\n    ua = navigator.userAgent;\n    /* MSIE used to detect old browsers and Trident used to newer ones*/\n    return ua.indexOf(\"MSIE \") > -1 || ua.indexOf(\"Trident/\") > -1;\n  }\n\n  /* Define the Animation class */\n  function Animation(frames, img_id, slider_id, interval, loop_select_id){\n    this.img_id = img_id;\n    this.slider_id = slider_id;\n    this.loop_select_id = loop_select_id;\n    this.interval = interval;\n    this.current_frame = 0;\n    this.direction = 0;\n    this.timer = null;\n    this.frames = new Array(frames.length);\n\n    for (var i=0; i<frames.length; i++)\n    {\n     this.frames[i] = new Image();\n     this.frames[i].src = frames[i];\n    }\n    var slider = document.getElementById(this.slider_id);\n    slider.max = this.frames.length - 1;\n    if (isInternetExplorer()) {\n        // switch from oninput to onchange because IE <= 11 does not conform\n        // with W3C specification. It ignores oninput and onchange behaves\n        // like oninput. In contrast, Microsoft Edge behaves correctly.\n        slider.setAttribute('onchange', slider.getAttribute('oninput'));\n        slider.setAttribute('oninput', null);\n    }\n    this.set_frame(this.current_frame);\n  }\n\n  Animation.prototype.get_loop_state = function(){\n    var button_group = document[this.loop_select_id].state;\n    for (var i = 0; i < button_group.length; i++) {\n        var button = button_group[i];\n        if (button.checked) {\n            return button.value;\n        }\n    }\n    return undefined;\n  }\n\n  Animation.prototype.set_frame = function(frame){\n    this.current_frame = frame;\n    document.getElementById(this.img_id).src =\n            this.frames[this.current_frame].src;\n    document.getElementById(this.slider_id).value = this.current_frame;\n  }\n\n  Animation.prototype.next_frame = function()\n  {\n    this.set_frame(Math.min(this.frames.length - 1, this.current_frame + 1));\n  }\n\n  Animation.prototype.previous_frame = function()\n  {\n    this.set_frame(Math.max(0, this.current_frame - 1));\n  }\n\n  Animation.prototype.first_frame = function()\n  {\n    this.set_frame(0);\n  }\n\n  Animation.prototype.last_frame = function()\n  {\n    this.set_frame(this.frames.length - 1);\n  }\n\n  Animation.prototype.slower = function()\n  {\n    this.interval /= 0.7;\n    if(this.direction > 0){this.play_animation();}\n    else if(this.direction < 0){this.reverse_animation();}\n  }\n\n  Animation.prototype.faster = function()\n  {\n    this.interval *= 0.7;\n    if(this.direction > 0){this.play_animation();}\n    else if(this.direction < 0){this.reverse_animation();}\n  }\n\n  Animation.prototype.anim_step_forward = function()\n  {\n    this.current_frame += 1;\n    if(this.current_frame < this.frames.length){\n      this.set_frame(this.current_frame);\n    }else{\n      var loop_state = this.get_loop_state();\n      if(loop_state == \"loop\"){\n        this.first_frame();\n      }else if(loop_state == \"reflect\"){\n        this.last_frame();\n        this.reverse_animation();\n      }else{\n        this.pause_animation();\n        this.last_frame();\n      }\n    }\n  }\n\n  Animation.prototype.anim_step_reverse = function()\n  {\n    this.current_frame -= 1;\n    if(this.current_frame >= 0){\n      this.set_frame(this.current_frame);\n    }else{\n      var loop_state = this.get_loop_state();\n      if(loop_state == \"loop\"){\n        this.last_frame();\n      }else if(loop_state == \"reflect\"){\n        this.first_frame();\n        this.play_animation();\n      }else{\n        this.pause_animation();\n        this.first_frame();\n      }\n    }\n  }\n\n  Animation.prototype.pause_animation = function()\n  {\n    this.direction = 0;\n    if (this.timer){\n      clearInterval(this.timer);\n      this.timer = null;\n    }\n  }\n\n  Animation.prototype.play_animation = function()\n  {\n    this.pause_animation();\n    this.direction = 1;\n    var t = this;\n    if (!this.timer) this.timer = setInterval(function() {\n        t.anim_step_forward();\n    }, this.interval);\n  }\n\n  Animation.prototype.reverse_animation = function()\n  {\n    this.pause_animation();\n    this.direction = -1;\n    var t = this;\n    if (!this.timer) this.timer = setInterval(function() {\n        t.anim_step_reverse();\n    }, this.interval);\n  }\n</script>\n\n<style>\n.animation {\n    display: inline-block;\n    text-align: center;\n}\ninput[type=range].anim-slider {\n    width: 374px;\n    margin-left: auto;\n    margin-right: auto;\n}\n.anim-buttons {\n    margin: 8px 0px;\n}\n.anim-buttons button {\n    padding: 0;\n    width: 36px;\n}\n.anim-state label {\n    margin-right: 8px;\n}\n.anim-state input {\n    margin: 0;\n    vertical-align: middle;\n}\n</style>\n\n<div class=\"animation\">\n  <img id=\"_anim_imgd419e42118de46a0a05d6aa01befa970\">\n  <div class=\"anim-controls\">\n    <input id=\"_anim_sliderd419e42118de46a0a05d6aa01befa970\" type=\"range\" class=\"anim-slider\"\n           name=\"points\" min=\"0\" max=\"1\" step=\"1\" value=\"0\"\n           oninput=\"animd419e42118de46a0a05d6aa01befa970.set_frame(parseInt(this.value));\">\n    <div class=\"anim-buttons\">\n      <button title=\"Decrease speed\" aria-label=\"Decrease speed\" onclick=\"animd419e42118de46a0a05d6aa01befa970.slower()\">\n          <i class=\"fa fa-minus\"></i></button>\n      <button title=\"First frame\" aria-label=\"First frame\" onclick=\"animd419e42118de46a0a05d6aa01befa970.first_frame()\">\n        <i class=\"fa fa-fast-backward\"></i></button>\n      <button title=\"Previous frame\" aria-label=\"Previous frame\" onclick=\"animd419e42118de46a0a05d6aa01befa970.previous_frame()\">\n          <i class=\"fa fa-step-backward\"></i></button>\n      <button title=\"Play backwards\" aria-label=\"Play backwards\" onclick=\"animd419e42118de46a0a05d6aa01befa970.reverse_animation()\">\n          <i class=\"fa fa-play fa-flip-horizontal\"></i></button>\n      <button title=\"Pause\" aria-label=\"Pause\" onclick=\"animd419e42118de46a0a05d6aa01befa970.pause_animation()\">\n          <i class=\"fa fa-pause\"></i></button>\n      <button title=\"Play\" aria-label=\"Play\" onclick=\"animd419e42118de46a0a05d6aa01befa970.play_animation()\">\n          <i class=\"fa fa-play\"></i></button>\n      <button title=\"Next frame\" aria-label=\"Next frame\" onclick=\"animd419e42118de46a0a05d6aa01befa970.next_frame()\">\n          <i class=\"fa fa-step-forward\"></i></button>\n      <button title=\"Last frame\" aria-label=\"Last frame\" onclick=\"animd419e42118de46a0a05d6aa01befa970.last_frame()\">\n          <i class=\"fa fa-fast-forward\"></i></button>\n      <button title=\"Increase speed\" aria-label=\"Increase speed\" onclick=\"animd419e42118de46a0a05d6aa01befa970.faster()\">\n          <i class=\"fa fa-plus\"></i></button>\n    </div>\n    <form title=\"Repetition mode\" aria-label=\"Repetition mode\" action=\"#n\" name=\"_anim_loop_selectd419e42118de46a0a05d6aa01befa970\"\n          class=\"anim-state\">\n      <input type=\"radio\" name=\"state\" value=\"once\" id=\"_anim_radio1_d419e42118de46a0a05d6aa01befa970\"\n             >\n      <label for=\"_anim_radio1_d419e42118de46a0a05d6aa01befa970\">Once</label>\n      <input type=\"radio\" name=\"state\" value=\"loop\" id=\"_anim_radio2_d419e42118de46a0a05d6aa01befa970\"\n             checked>\n      <label for=\"_anim_radio2_d419e42118de46a0a05d6aa01befa970\">Loop</label>\n      <input type=\"radio\" name=\"state\" value=\"reflect\" id=\"_anim_radio3_d419e42118de46a0a05d6aa01befa970\"\n             >\n      <label for=\"_anim_radio3_d419e42118de46a0a05d6aa01befa970\">Reflect</label>\n    </form>\n  </div>\n</div>\n\n\n<script language=\"javascript\">\n  /* Instantiate the Animation class. */\n  /* The IDs given should match those used in the template above. */\n  (function() {\n    var img_id = \"_anim_imgd419e42118de46a0a05d6aa01befa970\";\n    var slider_id = \"_anim_sliderd419e42118de46a0a05d6aa01befa970\";\n    var loop_select_id = \"_anim_loop_selectd419e42118de46a0a05d6aa01befa970\";\n    var frames = new Array(3);\n    \n  frames[0] = \"data:image/png;base64,iVBORw0KGgoAAAANSUhEUgAAAyAAAAMgCAYAAADbcAZoAAAAOXRFWHRTb2Z0d2FyZQBNYXRwbG90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\\\n\"\n  frames[1] = \"data:image/png;base64,iVBORw0KGgoAAAANSUhEUgAAAyAAAAMgCAYAAADbcAZoAAAAOXRFWHRTb2Z0d2FyZQBNYXRwbG90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\\\nkKIZi0gAAAAASUVORK5CYII=\\\n\"\n  frames[2] = \"data:image/png;base64,iVBORw0KGgoAAAANSUhEUgAAAyAAAAMgCAYAAADbcAZoAAAAOXRFWHRTb2Z0d2FyZQBNYXRwbG90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\\\n\"\n\n\n    /* set a timeout to make sure all the above elements are created before\n       the object is initialized. */\n    setTimeout(function() {\n        animd419e42118de46a0a05d6aa01befa970 = new Animation(frames, img_id, slider_id, 1000.0,\n                                 loop_select_id);\n    }, 0);\n  })()\n</script>\n"
     },
     "execution_count": 25,
     "metadata": {},
     "output_type": "execute_result"
    },
    {
     "data": {
      "text/plain": "<Figure size 800x800 with 1 Axes>",
      "image/png": "[encoded data removed]"
     },
     "metadata": {},
     "output_type": "display_data"
    }
   ],
   "source": [
    "fig = plt.figure(figsize=(8,8))\n",
    "plt.axis(\"off\")\n",
    "ims = [[plt.imshow(np.transpose(i,(1,2,0)), animated=True)] for i in img_list]\n",
    "ani = animation.ArtistAnimation(fig, ims, interval=1000, repeat_delay=1000, blit=True)\n",
    "\n",
    "HTML(ani.to_jshtml())"
   ],
   "metadata": {
    "collapsed": false
   }
  },
  {
   "cell_type": "code",
   "execution_count": 26,
   "metadata": {},
   "outputs": [],
   "source": [
    "import cv2\n",
    "import numpy as np\n",
    "\n",
    "def frames_to_video(frames, output_path='temp_video.mp4', fps=30):\n",
    "    num_frames, height, width = frames.shape[0:3]\n",
    "    fourcc = cv2.VideoWriter_fourcc(*'mp4v')  # specify the video codec\n",
    "    out = cv2.VideoWriter(output_path, fourcc, fps, (width, height))\n",
    "\n",
    "    for i in range(num_frames):\n",
    "        frame = frames[i]\n",
    "        # Convert the frame range from [-1, 1] (as in Tanh output) to [0, 255]\n",
    "        frame = (((frame + 1) / 2) * 255).astype(np.uint8)\n",
    "        out.write(frame)\n",
    "\n",
    "    out.release()\n",
    "    \n",
    "fake_video = fake[0].detach().cpu().numpy()  # Take one generated video from the batch\n",
    "frames_to_video(fake_video, 'temp_video.mp4')\n",
    "\n"
   ]
  },
  {
   "cell_type": "code",
   "execution_count": 27,
   "metadata": {},
   "outputs": [
    {
     "data": {
      "text/plain": "<IPython.core.display.Video object>",
      "text/html": "<video src=\"temp_video.mp4\" controls  >\n      Your browser does not support the <code>video</code> element.\n    </video>"
     },
     "execution_count": 27,
     "metadata": {},
     "output_type": "execute_result"
    }
   ],
   "source": [
    "from IPython.display import Video\n",
    "\n",
    "Video(\"temp_video.mp4\")"
   ]
  },
  {
   "cell_type": "markdown",
   "metadata": {},
   "source": [
    "# Transformers"
   ]
  },
  {
   "cell_type": "code",
   "execution_count": 28,
   "metadata": {},
   "outputs": [],
   "source": [
    "# transformers taken from Aksan et al 2021\n",
    "# https://github.com/eth-ait/motion-transformer\n",
    "# body pose data deep inertial poser https://dip.is.tue.mpg.de/download.php"
   ]
  },
  {
   "cell_type": "code",
   "execution_count": 29,
   "metadata": {},
   "outputs": [
    {
     "name": "stdout",
     "output_type": "stream",
     "text": [
      "tensor([[[ 577.5127,  226.0952],\n",
      "         [ 609.5530,  193.1802],\n",
      "         [ 538.8023,  200.8163],\n",
      "         [ 664.4314,  223.4404],\n",
      "         [ 494.3451,  244.6249],\n",
      "         [ 739.1966,  444.2262],\n",
      "         [ 451.9687,  460.3725],\n",
      "         [ 790.5558,  727.5428],\n",
      "         [ 390.3636,  740.5133],\n",
      "         [ 773.8361,  973.3709],\n",
      "         [ 382.7873,  966.4279],\n",
      "         [ 678.3329,  914.1348],\n",
      "         [ 496.6207,  915.4054],\n",
      "         [ 650.1769, 1297.2836],\n",
      "         [ 509.3653, 1289.0243],\n",
      "         [ 634.1794, 1611.8878],\n",
      "         [ 527.6819, 1597.6074]]])\n"
     ]
    }
   ],
   "source": [
    "# https://docs.ultralytics.com/modes/predict/#keypoints\n",
    "\n",
    "for person in result:\n",
    "   print(person.keypoints.xy)"
   ]
  },
  {
   "cell_type": "code",
   "execution_count": 30,
   "metadata": {},
   "outputs": [],
   "source": [
    "# GAN"
   ]
  }
 ],
 "metadata": {
  "kernelspec": {
   "display_name": "Python 3 (ipykernel)",
   "language": "python",
   "name": "python3"
  },
  "language_info": {
   "codemirror_mode": {
    "name": "ipython",
    "version": 3
   },
   "file_extension": ".py",
   "mimetype": "text/x-python",
   "name": "python",
   "nbconvert_exporter": "python",
   "pygments_lexer": "ipython3",
   "version": "3.10.9"
  },
  "orig_nbformat": 4
 },
 "nbformat": 4,
 "nbformat_minor": 2
}
